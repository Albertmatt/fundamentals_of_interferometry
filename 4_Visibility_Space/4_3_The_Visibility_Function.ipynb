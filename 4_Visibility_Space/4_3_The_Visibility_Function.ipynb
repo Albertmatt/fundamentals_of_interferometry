{
 "cells": [
  {
   "cell_type": "markdown",
   "metadata": {},
   "source": [
    "***\n",
    "<a id='beginning'></a> <!--\\label{beginning}-->\n",
    "* [Outline](../0_Introduction/0_introduction.ipynb)\n",
    "* [Glossary](../0_Introduction/1_glossary.ipynb)\n",
    "* [4. The Visibility space](4_0_introduction.ipynb)\n",
    "    * Previous: [4.2 The 2-Element Interferometer](4_2_The_2-element_Interferometer.ipynb)\n",
    "    * Next: [4.4.1 UV Coverage: UV Tracks](4_4_1_UV_Coverage_UV_Tracks.ipynb)\n",
    "\n",
    "***"
   ]
  },
  {
   "cell_type": "code",
   "execution_count": 1,
   "metadata": {
    "collapsed": false
   },
   "outputs": [
    {
     "name": "stdout",
     "output_type": "stream",
     "text": [
      "Config loaded\n"
     ]
    },
    {
     "data": {
      "text/html": [
       "<style>\n",
       "\n",
       "p.prerequisites {\n",
       "    border:5px;\n",
       "    border-style:double;\n",
       "    background-color:#FFFFFF;\n",
       "    box-shadow: 5px 5px 2px #888888;\n",
       "    border-color:#FF0000;\n",
       "    padding: 1em;\n",
       "}\n",
       "\n",
       "p.conclusion {\n",
       "    border:5px;\n",
       "    border-style:none;\n",
       "    background-color:#c8ebca;\n",
       "    box-shadow: 5px 5px 2px #888888;\n",
       "    border-color:#c8ebca;\n",
       "    padding: 1em;\n",
       "}\n",
       "\n",
       "div.warn {    \n",
       "    background-color: #fcf2f2;\n",
       "    border-color: #dFb5b4;\n",
       "    border-left: 5px solid #dfb5b4;\n",
       "    padding: 0.5em;\n",
       "    }\n",
       "\n",
       "div.advice {    \n",
       "    background-color: #ecf8ed;\n",
       "    border-color: #a2dda5;\n",
       "    border-left: 5px solid #a2dda5;\n",
       "    padding: 0.5em;\n",
       "    }\n",
       " </style>\n",
       "\n",
       "\n"
      ],
      "text/plain": [
       "<IPython.core.display.HTML object>"
      ]
     },
     "execution_count": 1,
     "metadata": {},
     "output_type": "execute_result"
    }
   ],
   "source": [
    "#import initpython # containing all \"hidden\" packages (including CSS reader, and apply CSS style)\n",
    "from initpython import *\n",
    "css_styling()"
   ]
  },
  {
   "cell_type": "markdown",
   "metadata": {},
   "source": [
    "---\n",
    "# Outline\n",
    "\n",
    "## Section 4.3 The Visibility Function\n",
    "\n",
    "### Intro\n",
    "\n",
    "\n",
    "- Simplifying assumptions (perfect instrumentation, no IDE, no DDE, uniform antennas)\n",
    "- Pointer to the Jones Formalism (point to Oleg's Ch. 7)\n",
    "- Measuring the radius of a star? How do they do it? How can we do similar measurement without imaging\n",
    "\n",
    "\n",
    "### 4.3.1 Mathematical definition of the complex visibility\n",
    "(mostly recasting properly what was already defined in 4.2)\n",
    "* 4.3.1.A Source coherency / Brigthness temperature\n",
    "    - recall on the physical quantity that is sought\n",
    "    \n",
    "    \n",
    "* 4.3.1.B Expression of the fringe pattern\n",
    "    - Phase term expressed as a complex exponent \n",
    "$e^{-2\\imath\\pi (ul+vm+w(n-1)) }$\n",
    "\n",
    "\n",
    "* 4.3.1.C  Mathematical definition of the complex visibility\n",
    "    - Recall of the (u,v,w) space, \n",
    "    - integral expression over the FoV (u,v,w)/(l,m,n)\n",
    "    - Links to the Fourier transform (mention it and point to 4.5 Wiener Khintchine theorem)\n",
    "    \n",
    "### 4.3.2 Understanding & Working with Visibility Functions\n",
    "\n",
    "\n",
    "*  4.3.2.A Representation of the visibility function\n",
    "    - Visibilities, the samples of the visibility function (link to uvtrack & Griffin)\n",
    "    - W-term (hypothese: ignore so far for simplification)\n",
    "    \n",
    "    - Classic way to represent the visibility function:\n",
    "        - Amplitude vs. time\n",
    "        - Amplitude vs. radial (u,v) distance\n",
    "\n",
    "\n",
    "*  4.3.2.B Class of sources with different visibility functions\n",
    "    - Visibility amplitude: shape of the source\n",
    "        - point source (Dirac) & pair of point sources (link to Griffin's)\n",
    "        - disk & pair of disks\n",
    "        - gaussians\n",
    "    \n",
    "    - Visibility phase: location of the source\n",
    "        - Fringe rate (again)\n",
    "        - (optional or practical) Locating sources with the fringe rate spectra( DrawMS/FRMAP/Aips principle? Astrometry of a source with different baselines, ref: [link](http://adsabs.harvard.edu/full/1996ASPC..101..175K)\n",
    "     \n",
    "     \n",
    "* 4.3.2.C Ilustration: guessing the properties of a source without imaging\n",
    "    - Unknown extended source (will be Cyg A):\n",
    "        - Constraining the size along the radio lobes (2 gaussians ~symmetric w.r.t. center)\n",
    "        - searching where the Visibility amplitude meet 0 (in Amp vs. UVdist), then convert to angular scale on the sky\n",
    "        - looking at the drop of the visibility amplitude (pair of source => cosine like)\n",
    "        - Constraining the size perpendicular to the radio lobes (width of the radio lobes)\n",
    "\n",
    "\n",
    "\n",
    "---\n",
    "\n",
    "---\n",
    "\n",
    "---\n"
   ]
  },
  {
   "cell_type": "markdown",
   "metadata": {},
   "source": [
    "<p class=conclusion>\n",
    "  <font size=4> **Important things to remember**</font>\n",
    "  <br>\n",
    "  <br>\n",
    "  \n",
    "&bull; *The measured spatial frequency depends on the length of the **projected** baseline* <br><br>\n",
    "&bull; *The measured spatial frequency depends on the length of the **projected** baseline*\n",
    "</p>"
   ]
  },
  {
   "cell_type": "markdown",
   "metadata": {
    "collapsed": true
   },
   "source": [
    "---\n",
    "* [Go back up](#beginning) <!--\\ref{beginning}--> \n",
    "* Or continue to next section: [4.4.1 UV Coverage: UV Tracks -->](4_4_1_UV_Coverage_UV_Tracks.ipynb)\n",
    "---"
   ]
  },
  {
   "cell_type": "code",
   "execution_count": null,
   "metadata": {
    "collapsed": true
   },
   "outputs": [],
   "source": []
  }
 ],
 "metadata": {
  "kernelspec": {
   "display_name": "Python 2",
   "language": "python",
   "name": "python2"
  },
  "language_info": {
   "codemirror_mode": {
    "name": "ipython",
    "version": 2
   },
   "file_extension": ".py",
   "mimetype": "text/x-python",
   "name": "python",
   "nbconvert_exporter": "python",
   "pygments_lexer": "ipython2",
   "version": "2.7.6"
  }
 },
 "nbformat": 4,
 "nbformat_minor": 0
}
