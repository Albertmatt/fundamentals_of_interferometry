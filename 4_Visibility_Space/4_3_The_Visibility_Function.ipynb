{
 "cells": [
  {
   "cell_type": "markdown",
   "metadata": {},
   "source": [
    "***\n",
    "<a id='beginning'></a> <!--\\label{beginning}-->\n",
    "* [Outline](../0_Introduction/0_introduction.ipynb)\n",
    "* [Glossary](../0_Introduction/1_glossary.ipynb)\n",
    "* [4. The Visibility space](4_0_introduction.ipynb)\n",
    "    * Previous: [4.2 The 2-Element Interferometer](4_2_The_2-element_Interferometer.ipynb)\n",
    "    * Next: [4.4.1 UV Coverage: UV Tracks](4_4_1_UV_Coverage_UV_Tracks.ipynb)\n",
    "\n",
    "***"
   ]
  },
  {
   "cell_type": "code",
   "execution_count": 1,
   "metadata": {
    "collapsed": false
   },
   "outputs": [
    {
     "data": {
      "text/html": [
       "<style>\n",
       "\n",
       "p.prerequisites {\n",
       "    border:5px;\n",
       "    border-style:none;\n",
       "    background-color:#F0F0F0;\n",
       "    box-shadow: 5px 5px 2px #888888;\n",
       "    border-color:#FF0000;\n",
       "    padding: 1em;\n",
       "}\n",
       "\n",
       "p.conclusion {\n",
       "    border:5px;\n",
       "    border-style:none;\n",
       "    background-color:#c8ebca;\n",
       "    box-shadow: 5px 5px 2px #888888;\n",
       "    border-color:#c8ebca;\n",
       "    padding: 1em;\n",
       "}\n",
       "\n",
       "div.warn {    \n",
       "    background-color: #fcf2f2;\n",
       "    border-color: #dFb5b4;\n",
       "    border-left: 5px solid #dfb5b4;\n",
       "    padding: 0.5em;\n",
       "    }\n",
       "\n",
       "div.advice {    \n",
       "    background-color: #ecf8ed;\n",
       "    border-color: #a2dda5;\n",
       "    border-left: 5px solid #a2dda5;\n",
       "    padding: 0.5em;\n",
       "    }\n",
       " </style>\n",
       "\n",
       "\n"
      ],
      "text/plain": [
       "<IPython.core.display.HTML object>"
      ]
     },
     "execution_count": 1,
     "metadata": {},
     "output_type": "execute_result"
    }
   ],
   "source": [
    "from IPython.core.display import HTML\n",
    "import numpy as np\n",
    "import matplotlib.pyplot as plt\n",
    "%matplotlib inline\n",
    "styles = open(\"../style/course.css\", \"r\").read()\n",
    "HTML(styles)"
   ]
  },
  {
   "cell_type": "markdown",
   "metadata": {},
   "source": [
    "---\n",
    "# Outline\n",
    "\n",
    "## Section 4.3 The Visibility Function\n",
    "\n",
    "### Intro\n",
    "\n",
    "\n",
    "- Simplifying assumptions (perfect instrumentation, no IDE, no DDE, uniform antennas)\n",
    "- Pointer to the Jones Formalism (point to Oleg's Ch. 7)\n",
    "- Measuring the radius of a star? How do they do it? How can we do similar measurement without imaging\n",
    "\n",
    "\n",
    "### 4.3.1 Mathematical definition of the complex visibility\n",
    "(mostly recasting properly what was already defined in 4.2)\n",
    "* 4.3.1.A Specific intensity / Brigthness temperature\n",
    "    - recall on the physical quantity that is sought\n",
    "    \n",
    "    \n",
    "* 4.3.1.B Expression of the fringe pattern\n",
    "    - Phase term expressed as a complex exponent \n",
    "$e^{-2\\imath\\pi (ul+vm+w(n-1)) }$\n",
    "\n",
    "\n",
    "* 4.3.1.C  Mathematical definition of the complex visibility\n",
    "    - Recall of the (u,v,w) space, \n",
    "    - integral expression over the FoV (u,v,w)/(l,m,n)\n",
    "    - Links to the Fourier transform (mention it and point to 4.5 Wiener Khintchine theorem)\n",
    "    \n",
    "### 4.3.2 Understanding & Working with Visibility Functions\n",
    "\n",
    "\n",
    "*  4.3.2.A Representation of the visibility function\n",
    "    - Visibilities, the samples of the visibility function (link to uvtrack & Griffin)\n",
    "    - W-term (hypothese: ignore so far for simplification)\n",
    "    \n",
    "    - Classic way to represent the visibility function:\n",
    "        - Amplitude vs. time\n",
    "        - Amplitude vs. radial (u,v) distance\n",
    "\n",
    "\n",
    "*  4.3.2.B Class of sources with different visibility functions\n",
    "    - Visibility amplitude: shape of the source\n",
    "        - point source (Dirac) & pair of point sources (link to Griffin's)\n",
    "        - disk & pair of disks\n",
    "        - gaussians\n",
    "    \n",
    "    - Visibility phase: location of the source\n",
    "        - Fringe rate (again)\n",
    "        - (optional or practical) Locating sources with the fringe rate spectra( DrawMS/FRMAP/Aips principle? Astrometry of a source with different baselines, ref: [link](http://adsabs.harvard.edu/full/1996ASPC..101..175K)\n",
    "     \n",
    "     \n",
    "* 4.3.2.C Ilustration: guessing the properties of a source without imaging\n",
    "    - Unknown extended source (will be Cyg A):\n",
    "        - Constraining the size along the radio lobes (2 gaussians ~symmetric w.r.t. center)\n",
    "        - searching where the Visibility amplitude meet 0 (in Amp vs. UVdist), then convert to angular scale on the sky\n",
    "        - looking at the drop of the visibility amplitude (pair of source => cosine like)\n",
    "        - Constraining the size perpendicular to the radio lobes (width of the radio lobes)\n",
    "\n",
    "\n",
    "\n",
    "---\n",
    "\n",
    "---\n",
    "\n",
    "---\n"
   ]
  },
  {
   "cell_type": "markdown",
   "metadata": {
    "collapsed": true
   },
   "source": [
    "Assuming no instrumental distortion (i.e. perfectly calibrated data), we established in the previous section, a simple formula giving the contribution of all portions of the sky within $\\Omega$ (and located at $\\boldsymbol{\\sigma}$ from the phase center) to the visibility measured $\\mathcal{V}_b$ accessible with the baseline $\\mathbf{b}$."
   ]
  },
  {
   "cell_type": "markdown",
   "metadata": {
    "collapsed": true
   },
   "source": [
    "$$\\boxed{\\boxed{\\mathcal{ V_{\\mathbf{b}} } = \\int_{\\Omega} I_\\nu(\\boldsymbol{\\sigma}) e^{-\\imath 2\\pi \\frac{\\textbf{b}\\cdot \\boldsymbol{\\sigma}}{\\lambda}} d\\Omega}}$$\n"
   ]
  },
  {
   "cell_type": "markdown",
   "metadata": {},
   "source": [
    "Assuming as steady and slowly rotating sky above the interferometer, the collection of visibilities from all the baselines, is a collection of samples of the *continuous* visibility function $\\mathcal{V}$. Under certain assuptions, we will see how this visibility function is related to the Fourier transform of the sky brightness.\n",
    "\n",
    "We will first study the properties of the con\n",
    "\n",
    "Let's summarize the properties of this function:\n",
    "- At a frequency $\\nu$ and time $t$, a 2-element interferometer defined by the physical baseline $\\mathbf{b}$, samples one complex value, which is a sample of all the contribution of the sky to the visibility function $\\mathcal{V}$.\n",
    "- \n",
    "\n"
   ]
  },
  {
   "cell_type": "markdown",
   "metadata": {},
   "source": [
    "### Intro\n",
    "\n",
    "\n",
    "- Simplifying assumptions (perfect instrumentation, no IDE, no DDE, uniform antennas)\n",
    "- Pointer to the Jones Formalism (point to Oleg's Ch. 7)\n",
    "- Measuring the radius of a star? How do they do it? How can we do similar measurement without imaging\n",
    "\n",
    "The visibility function is the relevant measured quantity by any interferometer. It is linked to the constrast of the fringe pattern created by the combination of the antenna signals in each baseline.\n",
    "\n",
    "Real-life signals will suffer from (non-)instrumental and direction-(in)dependent effects which need to be corrected for to retrieve a reliable information on the sky brightness.\n",
    "This can be exhaustively described by the mathematical framework of the **Radio Interferometer Measurement Equation** (RIME)[EXREF OLEG] which enable the expression of the distortions applied to the electrical fields, from their emissions to their receptions by unperfect elements of the interferometer. In this linear description, each event occuring on the signal (distortions along the direction of observation, non-uniformity of antenna elements, etc.) is modeled as a 2$\\times$2 *Jones* operators which alter consecutively the signal. These Jones operators can be solved for and corrected for in the calibration step [EXREF TRIENKO].\n",
    "\n",
    "For the sake of understanding the physical properties of the visibility function, we will take a series of assumptions to simplify the calculus.\n",
    "\n",
    "we will assume a steady sky, slowing rotation about the location of the interferometer.\n"
   ]
  },
  {
   "cell_type": "markdown",
   "metadata": {},
   "source": [
    "### 4.3.1 Mathematical definition of the complex visibility\n",
    "(mostly recasting properly what was already defined in 4.2)"
   ]
  },
  {
   "cell_type": "markdown",
   "metadata": {},
   "source": [
    "#### 4.3.1.A specific intensity / surface brigthness\n",
    "    - recall on the physical quantity that is sought"
   ]
  },
  {
   "cell_type": "markdown",
   "metadata": {},
   "source": [
    "As seen on Chap. 1, the *specific intensity* $I_\\nu$ (*surface brightness* $\\mathcal{B}_\\nu$) can be integrated to compute the received power by unit of solid angle, frequency and collecting area:\n",
    "$$ dP_{\\nu} = I_{\\nu} d\\Omega d\\nu d A_{\\text{eff}} $$\n",
    "$dP$ is in Watt,\n",
    "$I_{\\nu}$ is in $W.m^{-2}.sr^{-1}.Hz^{-1}$\n",
    "\n",
    "In the integrated form, the received power $P_{\\text{rec}}$ from the source of flux density $S$ in the bandwidth $\\Delta \\nu$, flowing through a collecting area $A$ is:\n",
    "$$P_{\\text{rec}}=\\frac{1}{2} A S \\Delta \\nu$$\n",
    "\n"
   ]
  },
  {
   "cell_type": "markdown",
   "metadata": {},
   "source": [
    "At a location $\\boldsymbol{\\sigma}$ from the phase center $\\mathbf{s_0}$, the portion of the sky defined by $d\\Omega$, will contribute to the received power over the bandwidth $\\Delta \\nu$ and the collecting surface $A_{\\text{eff}}$ as:\n",
    "$$dP(\\boldsymbol{\\sigma})= \\frac{1}{2} A_{\\text{eff}}(\\boldsymbol{\\sigma})I_\\nu(\\boldsymbol{\\sigma})\\Delta\\nu d\\Omega$$"
   ]
  },
  {
   "cell_type": "markdown",
   "metadata": {},
   "source": [
    "The flux density and the specific intensity are related by:\n",
    "- the flux density : $S_{\\nu} = \\int I_{\\nu} d\\Omega$\n",
    "- the flux : F=$\\int_{\\Delta \\nu} \\int_\\Omega I_\\nu d \\Omega d\\nu$\n",
    "\n",
    "- the received power:  P= $\\int_{A_\\text{eff}}\\int_{\\nu} \\int_\\Omega I_\\nu d \\Omega d\\nu d A_{\\text{eff}}$\n",
    "\n",
    "\n",
    "where $\\Omega$ is the solid angle subtended by the source."
   ]
  },
  {
   "cell_type": "markdown",
   "metadata": {},
   "source": [
    "<div class=warn>\n",
    "**Warning:** The specific intensity $I_{\\nu}$ does not vary in vacuum by propagation and is independent of the distance to the source. However, the flux density $S_{\\nu}$ vary with the distance as $\\Omega$ as a $r^{-2}$ dependency.</div>\n"
   ]
  },
  {
   "cell_type": "markdown",
   "metadata": {},
   "source": [
    "<div class=warn>\n",
    "**Warning:** the $\\frac{1}{2}$ coefficient accounts for the fact that most antenna feeds are polarized (circularly or linearly) and therefore are only sensitive to half of the power of an unpolarized source. Note that if the source and the antenna share the same polarization, the full power is measured by the antenna.</div>\n"
   ]
  },
  {
   "cell_type": "markdown",
   "metadata": {},
   "source": [
    "We have seen that the measured quantity by an interferometer is the integral of the contribution from different portion of the sky $\\Omega$. The compound complex visibility associate the measurement of the *odd* part and of the *even* part of the specific intensity $I_\\nu$, modulated by the antenna response, assumed to be identical for all receivers.\n",
    "\n",
    "$$\\boxed{\\boxed{\\mathcal{ V_{\\mathbf{b}} } = \\int_{\\Omega} A_\\text{eff}(\\boldsymbol{\\sigma})I_\\nu(\\boldsymbol{\\sigma}) e^{-\\imath 2\\pi \\frac{\\textbf{b}\\cdot \\boldsymbol{\\sigma}}{\\lambda}} d\\Omega}}$$\n",
    "\n",
    "We will use a normalized expression of the effective area to give $\\mathcal{V}_{\\mathbf{b}}$ the dimension of a flux density."
   ]
  },
  {
   "cell_type": "markdown",
   "metadata": {},
   "source": [
    "#### 4.3.1.B Expression of the fringe pattern\n"
   ]
  },
  {
   "cell_type": "markdown",
   "metadata": {},
   "source": [
    "- expression of the kernel in (u,v,w) /  (l,m,n)\n",
    "- simplification\n",
    "- first link to FT\n"
   ]
  },
  {
   "cell_type": "markdown",
   "metadata": {},
   "source": [
    "In section 4.1, we defined various coordinates systems to represent the baseline in a sky-friendly frame. We will now use them to have an explicit expression of the visibility $\\mathcal{V}_{\\mathbf{b}}$.\n",
    "\n",
    "\n",
    "$\\boldsymbol{\\sigma}$ is the direction difference vector defined as $\\boldsymbol{\\sigma}= \\mathbf{s} - \\mathbf{s_0}$.\n",
    "\n",
    "In the ($u$,$v$,$w$) coordinate system, we have\n",
    "\n",
    "\\begin{eqnarray}\n",
    "\\mathbf{s_0}&=&\n",
    "\\begin{pmatrix}\n",
    "0 \\\\\n",
    "0 \\\\\n",
    "1 \\\\\n",
    "\\end{pmatrix}\n",
    "\\end{eqnarray}\n",
    "\n",
    "\\begin{eqnarray}\n",
    "\\mathbf{s} \n",
    "&=&\n",
    "\\begin{pmatrix}\n",
    "l \\\\\n",
    "m \\\\\n",
    "n \\\\\n",
    "\\end{pmatrix}\n",
    "\\end{eqnarray}\n",
    "\n",
    "\\begin{eqnarray}\n",
    "\\mathbf{b}_{\\lambda} \n",
    "&=&\n",
    "\\mathbf{ \\frac{\\mathbf{b}}{\\lambda}}\n",
    "=\n",
    "\\begin{pmatrix}\n",
    "u \\\\\n",
    "v \\\\\n",
    "w \\\\\n",
    "\\end{pmatrix}\n",
    "\\end{eqnarray}\n"
   ]
  },
  {
   "cell_type": "markdown",
   "metadata": {},
   "source": [
    "The scalar product $\\mathbf{b} \\cdot \\boldsymbol{\\sigma}$ can therefore be expressed as a function of ($u$,$v$,$w$) and ($l$,$m$,$n$):"
   ]
  },
  {
   "cell_type": "markdown",
   "metadata": {},
   "source": [
    "\n",
    "$$ \\mathbf{b_\\lambda} \\cdot \\boldsymbol{\\sigma}= ul + vm + (n-1)w $$"
   ]
  },
  {
   "cell_type": "markdown",
   "metadata": {},
   "source": [
    "We will describe the quantity $d\\Omega$ in term of ($l$,$m$,$n$) coordinates. This quantity describes an element of solid angle on the celestial sphere.\n",
    "As $d \\Omega = d\\theta \\sin \\theta d\\phi$, we may also express the surface element in terms of ($l$,$m$,$n$). By computing the Jacobian determinent (See Appendix A...) [INREF], we end up with:\n",
    "\n",
    "$$d \\Omega = \\frac{dl dm}{n} = \\frac{dl dm}{\\sqrt{1 - l^2 - m^2}}$$"
   ]
  },
  {
   "cell_type": "markdown",
   "metadata": {},
   "source": [
    "$$\\boxed{\\boxed{\\mathcal{ V }(u,v,w) = \\int_{-\\infty}^{\\infty}\\int_{-\\infty}^{\\infty} A(l,m)I_\\nu(l,m) \\exp \\left[ {-\\imath 2\\pi (ul+vm+w(\\sqrt{1-l^2-m^2}-1)) }\\right] \\frac{dl dm}{\\sqrt{1 - l^2 - m^2}}}}$$"
   ]
  },
  {
   "cell_type": "markdown",
   "metadata": {},
   "source": [
    "<div class=warn>\n",
    "**Warning:** The bounds of the integral can be infinite as we know that the integrand in bounded ($A$ and $I_\\nu$ are null when $l^2+m^2 \\geq 1$).</div>\n"
   ]
  },
  {
   "cell_type": "markdown",
   "metadata": {},
   "source": [
    "If the following conditions are met:\n",
    "\n",
    "- the field of view $\\Omega$ is small\n",
    "- the beam pattern $A(l,m)$ goes quickly to zero\n",
    "- the source are grouped close to the phase center at (l=0,m=0)\n",
    "- w is small\n",
    "\n",
    "i.e.  $l,m << 1$\n",
    "then we can take simplify the expression of $\\mathcal{V}$ by keeping the first order development of the argument of the exponential:\n",
    "\n",
    "$w(\\sqrt{1-l^2-m^2}-1) \\sim -\\frac{1}{2}(l^2+m^2) \\sim \\mathcal{O}(l,m) $\n",
    "\n",
    "The integral becomes:\n",
    "\n",
    "\n",
    "$$ \\mathcal{V}(u,v,w \\sim 0) = \\int_{-\\infty}^{\\infty} \\int_{-\\infty}^{\\infty} \\frac{A(l,m) I_\\nu (l,m)}{\\sqrt{1 - l^2 - m^2}}  e^{ -\\imath 2\\pi (ul+vm)}dl dm$$\n"
   ]
  },
  {
   "cell_type": "markdown",
   "metadata": {},
   "source": [
    "#### 4.3.1.C Link with the Fourier Transform"
   ]
  },
  {
   "cell_type": "markdown",
   "metadata": {},
   "source": [
    "The Eq. is no longer a function of $w$, and it now takes the shape of a 2-D Fourier transform (see Chap 2.) with (u,v) being the fourier pairs of (l,m).\n",
    "\n",
    "The inverse transform can be written:\n",
    "\n",
    "\n",
    "\n",
    "$$ \\frac{A(l,m) I_\\nu}{\\sqrt{1 - l^2 - m^2}} = \\int_{-\\infty}^{\\infty} \\int_{-\\infty}^{\\infty} \\mathcal{V}(u,v) e^{ +\\imath 2\\pi (ul+vm)}du dv$$\n",
    "\n",
    "We will come back to the consequences of this form later, in section 4.5.(INREF  Van CITTERT-ZERNIKE)."
   ]
  },
  {
   "cell_type": "markdown",
   "metadata": {},
   "source": [
    "### 4.3.2 Understanding & Working with Visibility Functions"
   ]
  },
  {
   "cell_type": "markdown",
   "metadata": {},
   "source": [
    "####  4.3.2.A Representations of the visibility function\n",
    "    - Visibilities, the samples of the visibility function (link to uvtrack & Griffin)\n",
    "    - W-term (hypothese: ignored so far for simplification)\n",
    "    \n",
    "    - Classic way to represent the visibility function:\n",
    "        - Amplitude vs. time\n",
    "        - Amplitude vs. radial (u,v) distance"
   ]
  },
  {
   "cell_type": "markdown",
   "metadata": {},
   "source": [
    "The Fourier relationship existing between $I_\\nu$ and $\\mathcal{V}$ if of primary interest as it is the latter that is sampled by an interferometer. The interferometer is not sensitive to the sky but to the Fourier transform of the sky.\n",
    "To recover some knowledge of the sky through $I_\\nu$, one needs to understand the general shape of the visibility function.\n",
    "We will consider it as a continuous complex function.\n",
    "\n",
    "$\\mathcal{V}_\\nu$ is a 2D function lying in the Fourier space. At a time $t$ and frequency $\\nu$, one baseline and one direction $\\mathbf{s_0}$, will provide a unique ($u$,$v$) point in the fourier space, which corresponds to one complex sample of the visibility function.\n",
    "\n",
    "In the earlier days of interferometry, only few samples where available and the inspection of the samples in a 2D plane was unpractical. We usually inspect the amplitude of the visibility samples as a function of the *uv distance* $r_{uv}$ defined:\n",
    "\n",
    "$ r_{uv} = \\sqrt{u^2+v^2}$\n",
    "\n",
    "\n"
   ]
  },
  {
   "cell_type": "markdown",
   "metadata": {},
   "source": [
    "####  4.3.2.B Class of sources with different visibility functions"
   ]
  },
  {
   "cell_type": "markdown",
   "metadata": {},
   "source": [
    "    - Visibility amplitude: shape of the source\n",
    "        - point source (Dirac) & pair of point sources (link to Griffin's)\n",
    "        - disk & pair of disks\n",
    "        - gaussians\n",
    "    \n",
    "    - Visibility phase: location of the source\n",
    "        - Fringe rate (again)\n",
    "        - (optional or practical) Locating sources with the fringe rate spectra( DrawMS/FRMAP/Aips principle? Astrometry of a source with different baselines, ref: [link](http://adsabs.harvard.edu/full/1996ASPC..101..175K)"
   ]
  },
  {
   "cell_type": "markdown",
   "metadata": {},
   "source": [
    "We will represent now represent characteristic brightness distribution alongside the amplitude of their visibility function as a function of $r_{uv}$."
   ]
  },
  {
   "cell_type": "markdown",
   "metadata": {},
   "source": [
    "##### 4.3.2.B.1 Using the visibility amplitude: shape of the source"
   ]
  },
  {
   "cell_type": "code",
   "execution_count": 109,
   "metadata": {
    "collapsed": true
   },
   "outputs": [],
   "source": [
    "# initialize direct space\n",
    "size=1001\n",
    "l=np.linspace(-1,1,size)\n",
    "m=np.linspace(-1,1,size)\n",
    "ll,mm=np.meshgrid(l,m)"
   ]
  },
  {
   "cell_type": "markdown",
   "metadata": {},
   "source": [
    "#### Point source at the phase center"
   ]
  },
  {
   "cell_type": "code",
   "execution_count": 110,
   "metadata": {
    "collapsed": false
   },
   "outputs": [
    {
     "data": {
      "text/plain": [
       "[<matplotlib.lines.Line2D at 0x7f838943c790>]"
      ]
     },
     "execution_count": 110,
     "metadata": {},
     "output_type": "execute_result"
    },
    {
     "data": {
      "image/png": "[encoded data removed]",
      "text/plain": [
       "<matplotlib.figure.Figure at 0x7f8388fec0d0>"
      ]
     },
     "metadata": {},
     "output_type": "display_data"
    }
   ],
   "source": [
    "# point source at center of the field\n",
    "l0=(size-1)/2\n",
    "m0=(size-1)/2\n",
    "sky=np.zeros((size,size))\n",
    "sky[l0,m0]=1\n",
    "\n",
    "vis=np.fft.fftpack.fft2(sky)\n",
    "\n",
    "#plt.matshow(sky,interpolation=None,cmap=plt.cm.gray)\n",
    "\n",
    "fig, axes = plt.subplots(figsize=(16,8))\n",
    "plt.suptitle('Point source')\n",
    "plt.subplot(1,2,1)\n",
    "plt.plot(sky[l0,:])\n",
    "plt.ylim([0,1.3])\n",
    "plt.subplot(1,2,2)\n",
    "plt.ylim([0,1.3])\n",
    "plt.plot(np.abs(vis[l0,:]))"
   ]
  },
  {
   "cell_type": "code",
   "execution_count": 146,
   "metadata": {
    "collapsed": false
   },
   "outputs": [
    {
     "ename": "KeyboardInterrupt",
     "evalue": "",
     "output_type": "error",
     "traceback": [
      "\u001b[1;31m---------------------------------------------------------------------------\u001b[0m",
      "\u001b[1;31mKeyboardInterrupt\u001b[0m                         Traceback (most recent call last)",
      "\u001b[1;32m<ipython-input-146-ef8747a762a2>\u001b[0m in \u001b[0;36m<module>\u001b[1;34m()\u001b[0m\n\u001b[0;32m      3\u001b[0m \u001b[1;32mfor\u001b[0m \u001b[0mil\u001b[0m \u001b[1;32min\u001b[0m \u001b[0mnp\u001b[0m\u001b[1;33m.\u001b[0m\u001b[0marange\u001b[0m\u001b[1;33m(\u001b[0m\u001b[0msize\u001b[0m\u001b[1;33m)\u001b[0m\u001b[1;33m:\u001b[0m\u001b[1;33m\u001b[0m\u001b[0m\n\u001b[0;32m      4\u001b[0m     \u001b[1;32mfor\u001b[0m \u001b[0mim\u001b[0m \u001b[1;32min\u001b[0m \u001b[0mnp\u001b[0m\u001b[1;33m.\u001b[0m\u001b[0marange\u001b[0m\u001b[1;33m(\u001b[0m\u001b[0msize\u001b[0m\u001b[1;33m)\u001b[0m\u001b[1;33m:\u001b[0m\u001b[1;33m\u001b[0m\u001b[0m\n\u001b[1;32m----> 5\u001b[1;33m         \u001b[0mtabr\u001b[0m\u001b[1;33m=\u001b[0m\u001b[0mnp\u001b[0m\u001b[1;33m.\u001b[0m\u001b[0mappend\u001b[0m\u001b[1;33m(\u001b[0m\u001b[0mtabr\u001b[0m\u001b[1;33m,\u001b[0m\u001b[0mnp\u001b[0m\u001b[1;33m.\u001b[0m\u001b[0msqrt\u001b[0m\u001b[1;33m(\u001b[0m\u001b[0mll\u001b[0m\u001b[1;33m[\u001b[0m\u001b[0mil\u001b[0m\u001b[1;33m,\u001b[0m\u001b[0mim\u001b[0m\u001b[1;33m]\u001b[0m\u001b[1;33m**\u001b[0m\u001b[1;36m2\u001b[0m\u001b[1;33m+\u001b[0m\u001b[0mmm\u001b[0m\u001b[1;33m[\u001b[0m\u001b[0mil\u001b[0m\u001b[1;33m,\u001b[0m\u001b[0mim\u001b[0m\u001b[1;33m]\u001b[0m\u001b[1;33m**\u001b[0m\u001b[1;36m2\u001b[0m\u001b[1;33m)\u001b[0m\u001b[1;33m)\u001b[0m\u001b[1;33m\u001b[0m\u001b[0m\n\u001b[0m\u001b[0;32m      6\u001b[0m         \u001b[0mtabval\u001b[0m\u001b[1;33m=\u001b[0m\u001b[0mnp\u001b[0m\u001b[1;33m.\u001b[0m\u001b[0mappend\u001b[0m\u001b[1;33m(\u001b[0m\u001b[0mtabval\u001b[0m\u001b[1;33m,\u001b[0m\u001b[0mnp\u001b[0m\u001b[1;33m.\u001b[0m\u001b[0mabs\u001b[0m\u001b[1;33m(\u001b[0m\u001b[0mvis\u001b[0m\u001b[1;33m[\u001b[0m\u001b[0mil\u001b[0m\u001b[1;33m,\u001b[0m\u001b[0mim\u001b[0m\u001b[1;33m]\u001b[0m\u001b[1;33m)\u001b[0m\u001b[1;33m)\u001b[0m\u001b[1;33m\u001b[0m\u001b[0m\n\u001b[0;32m      7\u001b[0m \u001b[1;31m#tabr.shape\u001b[0m\u001b[1;33m\u001b[0m\u001b[1;33m\u001b[0m\u001b[0m\n",
      "\u001b[1;32m/home/user/.virtualenv/fundamentals/local/lib/python2.7/site-packages/numpy/lib/function_base.pyc\u001b[0m in \u001b[0;36mappend\u001b[1;34m(arr, values, axis)\u001b[0m\n\u001b[0;32m   4148\u001b[0m         \u001b[0mvalues\u001b[0m \u001b[1;33m=\u001b[0m \u001b[0mravel\u001b[0m\u001b[1;33m(\u001b[0m\u001b[0mvalues\u001b[0m\u001b[1;33m)\u001b[0m\u001b[1;33m\u001b[0m\u001b[0m\n\u001b[0;32m   4149\u001b[0m         \u001b[0maxis\u001b[0m \u001b[1;33m=\u001b[0m \u001b[0marr\u001b[0m\u001b[1;33m.\u001b[0m\u001b[0mndim\u001b[0m\u001b[1;33m-\u001b[0m\u001b[1;36m1\u001b[0m\u001b[1;33m\u001b[0m\u001b[0m\n\u001b[1;32m-> 4150\u001b[1;33m     \u001b[1;32mreturn\u001b[0m \u001b[0mconcatenate\u001b[0m\u001b[1;33m(\u001b[0m\u001b[1;33m(\u001b[0m\u001b[0marr\u001b[0m\u001b[1;33m,\u001b[0m \u001b[0mvalues\u001b[0m\u001b[1;33m)\u001b[0m\u001b[1;33m,\u001b[0m \u001b[0maxis\u001b[0m\u001b[1;33m=\u001b[0m\u001b[0maxis\u001b[0m\u001b[1;33m)\u001b[0m\u001b[1;33m\u001b[0m\u001b[0m\n\u001b[0m",
      "\u001b[1;31mKeyboardInterrupt\u001b[0m: "
     ]
    }
   ],
   "source": [
    "tabr=np.array([])\n",
    "tabval=np.array([])\n",
    "#for il in np.arange(size):\n",
    "#    for im in np.arange(size):\n",
    "#        tabr=np.append(tabr,np.sqrt(ll[il,im]**2+mm[il,im]**2))\n",
    "#        tabval=np.append(tabval,np.abs(vis[il,im]))\n",
    "#tabr.shape\n",
    "#tabval.shape\n",
    "plt.ylim([0,1.3])\n",
    "plt.ylabel(\"Visibility amplitude\")\n",
    "plt.xlim([0,2])\n",
    "plt.xlabel('UV radial distance')\n",
    "plt.scatter(tabr,tabval,marker=\".\")\n",
    "        "
   ]
  },
  {
   "cell_type": "code",
   "execution_count": 112,
   "metadata": {
    "collapsed": false
   },
   "outputs": [
    {
     "data": {
      "text/plain": [
       "(208135,)"
      ]
     },
     "execution_count": 112,
     "metadata": {},
     "output_type": "execute_result"
    }
   ],
   "source": [
    "tabval.shape"
   ]
  },
  {
   "cell_type": "markdown",
   "metadata": {},
   "source": [
    "#### Disk of radius $r$ at the phase center"
   ]
  },
  {
   "cell_type": "code",
   "execution_count": 113,
   "metadata": {
    "collapsed": false
   },
   "outputs": [
    {
     "data": {
      "text/plain": [
       "<matplotlib.image.AxesImage at 0x7f839236d4d0>"
      ]
     },
     "execution_count": 113,
     "metadata": {},
     "output_type": "execute_result"
    },
    {
     "data": {
      "image/png": "[encoded data removed]",
      "text/plain": [
       "<matplotlib.figure.Figure at 0x7f8389057350>"
      ]
     },
     "metadata": {},
     "output_type": "display_data"
    }
   ],
   "source": [
    "# point source at center of the field\n",
    "l0=(size-1)/2\n",
    "m0=(size-1)/2\n",
    "radius=0.02\n",
    "w=np.where(ll**2 + mm**2 < radius)\n",
    "\n",
    "sky[w]=1\n",
    "vis=np.fft.fftpack.fft2(sky)\n",
    "\n",
    "plt.matshow(sky,interpolation=None,cmap=plt.cm.gray)"
   ]
  },
  {
   "cell_type": "code",
   "execution_count": 115,
   "metadata": {
    "collapsed": false
   },
   "outputs": [
    {
     "data": {
      "text/plain": [
       "[<matplotlib.lines.Line2D at 0x7f83935f1ad0>]"
      ]
     },
     "execution_count": 115,
     "metadata": {},
     "output_type": "execute_result"
    },
    {
     "data": {
      "image/png": "[encoded data removed]",
      "text/plain": [
       "<matplotlib.figure.Figure at 0x7f83932ed7d0>"
      ]
     },
     "metadata": {},
     "output_type": "display_data"
    }
   ],
   "source": [
    "vis=np.fft.fftshift(np.fft.fftpack.fft2(sky))\n",
    "ll=np.fft.fftshift(ll)\n",
    "mm=np.fft.fftshift(mm)\n",
    "#plt.matshow(sky,interpolation=None,cmap=plt.cm.gray)\n",
    "\n",
    "fig, axes = plt.subplots(figsize=(16,8))\n",
    "plt.suptitle('Point source')\n",
    "plt.subplot(1,2,1)\n",
    "plt.plot(sky[100,:])\n",
    "plt.ylim([0,1.3])\n",
    "plt.subplot(1,2,2)\n",
    "plt.plot(np.abs(vis[500,:]))"
   ]
  },
  {
   "cell_type": "code",
   "execution_count": 116,
   "metadata": {
    "collapsed": false
   },
   "outputs": [
    {
     "data": {
      "text/plain": [
       "<matplotlib.image.AxesImage at 0x7f8393889990>"
      ]
     },
     "execution_count": 116,
     "metadata": {},
     "output_type": "execute_result"
    },
    {
     "data": {
      "image/png": "[encoded data removed]",
      "text/plain": [
       "<matplotlib.figure.Figure at 0x7f838aede990>"
      ]
     },
     "metadata": {},
     "output_type": "display_data"
    }
   ],
   "source": [
    "plt.matshow(np.abs(vis))"
   ]
  },
  {
   "cell_type": "code",
   "execution_count": 117,
   "metadata": {
    "collapsed": false
   },
   "outputs": [
    {
     "data": {
      "text/plain": [
       "<matplotlib.collections.PathCollection at 0x7f83bb8aa0d0>"
      ]
     },
     "execution_count": 117,
     "metadata": {},
     "output_type": "execute_result"
    },
    {
     "data": {
      "image/png": "[encoded data removed]",
      "text/plain": [
       "<matplotlib.figure.Figure at 0x7f839372c590>"
      ]
     },
     "metadata": {},
     "output_type": "display_data"
    }
   ],
   "source": [
    "tabr=np.array([])\n",
    "tabval=np.array([])\n",
    "for il in np.arange(201):\n",
    "    for im in np.arange(201):\n",
    "        tabr=np.append(tabr,np.sqrt(ll[il,im]**2+mm[il,im]**2))\n",
    "        tabval=np.append(tabval,np.abs(vis[il,im]))\n",
    "#tabr.shape\n",
    "#tabval.shape\n",
    "plt.ylim([0,1.3])\n",
    "plt.ylabel(\"Visibility amplitude\")\n",
    "plt.xlim([0,2])\n",
    "plt.xlabel('UV radial distance')\n",
    "plt.scatter(tabr,tabval,marker=\".\")\n",
    "        "
   ]
  },
  {
   "cell_type": "markdown",
   "metadata": {},
   "source": [
    "Two disks of radius $r$ at location ($l$,$m$) and ($-l$,$-m$)"
   ]
  },
  {
   "cell_type": "code",
   "execution_count": 124,
   "metadata": {
    "collapsed": false
   },
   "outputs": [
    {
     "data": {
      "text/plain": [
       "<matplotlib.image.AxesImage at 0x7f83939fd750>"
      ]
     },
     "execution_count": 124,
     "metadata": {},
     "output_type": "execute_result"
    }
   ],
   "source": [
    "# point source at center of the field\n",
    "center=(size-1)/2\n",
    "l1=ll[center-100,center]\n",
    "m1=mm[center-100,center]\n",
    "l2=ll[center+100,center]\n",
    "m2=mm[center+100,center]\n",
    "radius=0.01\n",
    "sky2=sky*0\n",
    "w1=np.where((ll-l1)**2 + (mm-m1)**2 < radius)\n",
    "w2=np.where((ll-l2)**2 + (mm-m2)**2 < radius)\n",
    "sky2[w1]=1\n",
    "sky2[w2]=1\n",
    "vis2=np.fft.fftshift(np.fft.fftpack.fft2(sky2))\n",
    "\n",
    "plt.matshow(sky2,interpolation=None,cmap=plt.cm.gray)"
   ]
  },
  {
   "cell_type": "code",
   "execution_count": 126,
   "metadata": {
    "collapsed": false
   },
   "outputs": [
    {
     "name": "stdout",
     "output_type": "stream",
     "text": [
      "Using matplotlib backend: TkAgg\n"
     ]
    },
    {
     "data": {
      "text/plain": [
       "<matplotlib.image.AxesImage at 0x7f8393d9a9d0>"
      ]
     },
     "execution_count": 126,
     "metadata": {},
     "output_type": "execute_result"
    }
   ],
   "source": [
    "%matplotlib\n",
    "plt.matshow(np.abs(vis2)[center-100:center+100,center-100:center+100])"
   ]
  },
  {
   "cell_type": "code",
   "execution_count": 128,
   "metadata": {
    "collapsed": false
   },
   "outputs": [
    {
     "data": {
      "text/plain": [
       "[<matplotlib.lines.Line2D at 0x7f8393e401d0>]"
      ]
     },
     "execution_count": 128,
     "metadata": {},
     "output_type": "execute_result"
    }
   ],
   "source": [
    "tabr=np.array([])\n",
    "tabval=np.array([])\n",
    "for il in np.arange(201):\n",
    "    for im in np.arange(201):\n",
    "        tabr=np.append(tabr,np.sqrt(ll[il,im]**2+mm[il,im]**2))\n",
    "        tabval=np.append(tabval,np.abs(vis2[il,im]))\n",
    "#tabr.shape\n",
    "#tabval.shape\n",
    "#plt.ylim([0,1.3])\n",
    "plt.ylabel(\"Visibility amplitude\")\n",
    "plt.xlim([0,20])\n",
    "plt.xlabel('UV radial distance')\n",
    "#plt.scatter(tabr,tabval,marker=\".\")\n",
    " \n",
    "plt.plot(np.abs(vis2[center:center+100,center]))"
   ]
  },
  {
   "cell_type": "markdown",
   "metadata": {},
   "source": [
    "Cygnus A"
   ]
  },
  {
   "cell_type": "markdown",
   "metadata": {},
   "source": [
    "##### 4.3.2.B.2 Using the visibility phase: location of the source"
   ]
  },
  {
   "cell_type": "markdown",
   "metadata": {},
   "source": [
    "disk at ($l$,$m$)"
   ]
  },
  {
   "cell_type": "code",
   "execution_count": null,
   "metadata": {
    "collapsed": true
   },
   "outputs": [],
   "source": []
  },
  {
   "cell_type": "code",
   "execution_count": 145,
   "metadata": {
    "collapsed": false
   },
   "outputs": [
    {
     "data": {
      "text/plain": [
       "(0, 1.3)"
      ]
     },
     "execution_count": 145,
     "metadata": {},
     "output_type": "execute_result"
    }
   ],
   "source": [
    "# point source at center of the field\n",
    "l0=(size-1)/2\n",
    "m0=(size-1)/2\n",
    "sky=np.zeros((size,size))\n",
    "\n",
    "sky[l0-100:l0+100,m0-100:m0+100]=np.exp(-((ll[l0-100:l0+100,m0-100:m0+100]-l0)**2+(mm[l0-100:l0+100,m0-100:m0+100]-m0)**2)+10)\n",
    "#sky[l0+20,m0+20]=1\n",
    "\n",
    "vis=np.fft.fftpack.fft2(sky)\n",
    "\n",
    "plt.matshow(sky,interpolation=None,cmap=plt.cm.gray_r)\n",
    "\n",
    "fig, axes = plt.subplots(figsize=(16,8))\n",
    "plt.suptitle('Point source')\n",
    "plt.subplot(1,2,1)\n",
    "plt.plot(sky[l0,:])\n",
    "plt.ylim([0,1.3])\n",
    "plt.subplot(1,2,2)\n",
    "plt.ylim([0,1.3])\n",
    "#plt.plot(np.abs(vis[l0+200,:]))"
   ]
  },
  {
   "cell_type": "code",
   "execution_count": 143,
   "metadata": {
    "collapsed": false
   },
   "outputs": [
    {
     "data": {
      "text/plain": [
       "<matplotlib.image.AxesImage at 0x7f839f12e990>"
      ]
     },
     "execution_count": 143,
     "metadata": {},
     "output_type": "execute_result"
    }
   ],
   "source": [
    "plt.matshow(np.angle(vis),interpolation=None)"
   ]
  },
  {
   "cell_type": "code",
   "execution_count": null,
   "metadata": {
    "collapsed": true
   },
   "outputs": [],
   "source": []
  },
  {
   "cell_type": "markdown",
   "metadata": {},
   "source": [
    "<p class=conclusion>\n",
    "  <font size=4> **Important things to remember**</font>\n",
    "  <br>\n",
    "  <br>\n",
    "  \n",
    "&bull; *The measured spatial frequency depends on the length of the **projected** baseline* <br><br>\n",
    "&bull; *The measured spatial frequency depends on the length of the **projected** baseline*\n",
    "</p>"
   ]
  },
  {
   "cell_type": "markdown",
   "metadata": {
    "collapsed": true
   },
   "source": [
    "---\n",
    "* [Go back up](#beginning) <!--\\ref{beginning}--> \n",
    "* Or continue to next section: [4.4.1 UV Coverage: UV Tracks -->](4_4_1_UV_Coverage_UV_Tracks.ipynb)\n",
    "---"
   ]
  }
 ],
 "metadata": {
  "kernelspec": {
   "display_name": "Python 2",
   "language": "python",
   "name": "python2"
  },
  "language_info": {
   "codemirror_mode": {
    "name": "ipython",
    "version": 2
   },
   "file_extension": ".py",
   "mimetype": "text/x-python",
   "name": "python",
   "nbconvert_exporter": "python",
   "pygments_lexer": "ipython2",
   "version": "2.7.6"
  }
 },
 "nbformat": 4,
 "nbformat_minor": 0
}
