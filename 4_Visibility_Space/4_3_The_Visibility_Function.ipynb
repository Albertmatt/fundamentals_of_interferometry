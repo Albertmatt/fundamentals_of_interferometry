{
 "cells": [
  {
   "cell_type": "markdown",
   "metadata": {},
   "source": [
    "***\n",
    "<a id='beginning'></a> <!--\\label{beginning}-->\n",
    "* [Outline](../0_Introduction/0_introduction.ipynb)\n",
    "* [Glossary](../0_Introduction/1_glossary.ipynb)\n",
    "* [4. The Visibility space](4_0_introduction.ipynb)\n",
    "    * Previous: [4.2 The 2-Element Interferometer](4_2_The_2-element_Interferometer.ipynb)\n",
    "    * Next: [4.4.1 UV Coverage: UV Tracks](4_4_1_UV_Coverage_UV_Tracks.ipynb)\n",
    "\n",
    "***"
   ]
  },
  {
   "cell_type": "code",
   "execution_count": 1,
   "metadata": {
    "collapsed": false
   },
   "outputs": [
    {
     "name": "stdout",
     "output_type": "stream",
     "text": [
      "Config loaded\n"
     ]
    },
    {
     "data": {
      "text/html": [
       "<style>\n",
       "\n",
       "p.prerequisites {\n",
       "    border:5px;\n",
       "    border-style:double;\n",
       "    background-color:#FFFFFF;\n",
       "    box-shadow: 5px 5px 2px #888888;\n",
       "    border-color:#FF0000;\n",
       "    padding: 1em;\n",
       "}\n",
       "\n",
       "p.conclusion {\n",
       "    border:5px;\n",
       "    border-style:none;\n",
       "    background-color:#c8ebca;\n",
       "    box-shadow: 5px 5px 2px #888888;\n",
       "    border-color:#c8ebca;\n",
       "    padding: 1em;\n",
       "}\n",
       "\n",
       "div.warn {    \n",
       "    background-color: #fcf2f2;\n",
       "    border-color: #dFb5b4;\n",
       "    border-left: 5px solid #dfb5b4;\n",
       "    padding: 0.5em;\n",
       "    }\n",
       "\n",
       "div.advice {    \n",
       "    background-color: #ecf8ed;\n",
       "    border-color: #a2dda5;\n",
       "    border-left: 5px solid #a2dda5;\n",
       "    padding: 0.5em;\n",
       "    }\n",
       " </style>\n",
       "\n",
       "\n"
      ],
      "text/plain": [
       "<IPython.core.display.HTML object>"
      ]
     },
     "execution_count": 1,
     "metadata": {},
     "output_type": "execute_result"
    }
   ],
   "source": [
    "#import initpython # containing all \"hidden\" packages (including CSS reader, and apply CSS style)\n",
    "from initpython import *\n",
    "css_styling()"
   ]
  },
  {
   "cell_type": "markdown",
   "metadata": {},
   "source": [
    "---\n",
    "# Outline\n",
    "\n",
    "## Section 4.3 The Visibility Function\n",
    "\n",
    "### Intro\n",
    "\n",
    "\n",
    "- Simplifying assumptions (perfect instrumentation, no IDE, no DDE, uniform antennas)\n",
    "- Pointer to the Jones Formalism (point to Oleg's Ch. 7)\n",
    "- Measuring the radius of a star? How do they do it? How can we do similar measurement without imaging\n",
    "\n",
    "\n",
    "### 4.3.1 Mathematical definition of the complex visibility\n",
    "(mostly recasting properly what was already defined in 4.2)\n",
    "* 4.3.1.A Specific intensity / Brigthness temperature\n",
    "    - recall on the physical quantity that is sought\n",
    "    \n",
    "    \n",
    "* 4.3.1.B Expression of the fringe pattern\n",
    "    - Phase term expressed as a complex exponent \n",
    "$e^{-2\\imath\\pi (ul+vm+w(n-1)) }$\n",
    "\n",
    "\n",
    "* 4.3.1.C  Mathematical definition of the complex visibility\n",
    "    - Recall of the (u,v,w) space, \n",
    "    - integral expression over the FoV (u,v,w)/(l,m,n)\n",
    "    - Links to the Fourier transform (mention it and point to 4.5 Wiener Khintchine theorem)\n",
    "    \n",
    "### 4.3.2 Understanding & Working with Visibility Functions\n",
    "\n",
    "\n",
    "*  4.3.2.A Representation of the visibility function\n",
    "    - Visibilities, the samples of the visibility function (link to uvtrack & Griffin)\n",
    "    - W-term (hypothese: ignore so far for simplification)\n",
    "    \n",
    "    - Classic way to represent the visibility function:\n",
    "        - Amplitude vs. time\n",
    "        - Amplitude vs. radial (u,v) distance\n",
    "\n",
    "\n",
    "*  4.3.2.B Class of sources with different visibility functions\n",
    "    - Visibility amplitude: shape of the source\n",
    "        - point source (Dirac) & pair of point sources (link to Griffin's)\n",
    "        - disk & pair of disks\n",
    "        - gaussians\n",
    "    \n",
    "    - Visibility phase: location of the source\n",
    "        - Fringe rate (again)\n",
    "        - (optional or practical) Locating sources with the fringe rate spectra( DrawMS/FRMAP/Aips principle? Astrometry of a source with different baselines, ref: [link](http://adsabs.harvard.edu/full/1996ASPC..101..175K)\n",
    "     \n",
    "     \n",
    "* 4.3.2.C Ilustration: guessing the properties of a source without imaging\n",
    "    - Unknown extended source (will be Cyg A):\n",
    "        - Constraining the size along the radio lobes (2 gaussians ~symmetric w.r.t. center)\n",
    "        - searching where the Visibility amplitude meet 0 (in Amp vs. UVdist), then convert to angular scale on the sky\n",
    "        - looking at the drop of the visibility amplitude (pair of source => cosine like)\n",
    "        - Constraining the size perpendicular to the radio lobes (width of the radio lobes)\n",
    "\n",
    "\n",
    "\n",
    "---\n",
    "\n",
    "---\n",
    "\n",
    "---\n"
   ]
  },
  {
   "cell_type": "markdown",
   "metadata": {},
   "source": [
    "<p class=conclusion>\n",
    "  <font size=4> **Important things to remember**</font>\n",
    "  <br>\n",
    "  <br>\n",
    "  \n",
    "&bull; *The measured spatial frequency depends on the length of the **projected** baseline* <br><br>\n",
    "&bull; *The measured spatial frequency depends on the length of the **projected** baseline*\n",
    "</p>"
   ]
  },
  {
   "cell_type": "markdown",
   "metadata": {
    "collapsed": true
   },
   "source": [
    "---\n",
    "* [Go back up](#beginning) <!--\\ref{beginning}--> \n",
    "* Or continue to next section: [4.4.1 UV Coverage: UV Tracks -->](4_4_1_UV_Coverage_UV_Tracks.ipynb)\n",
    "---"
   ]
  },
  {
   "cell_type": "markdown",
   "metadata": {
    "collapsed": true
   },
   "source": [
    "Assuming no instrumental distortion (i.e. perfectly calibrated data), we established in the previous section, a simple formula giving the contribution of all portions of the sky within $\\Omega$ (and located at $\\boldsymbol{\\sigma}$ from the phase center) to the visibility measured $\\mathcal{V}_b$ accessible with the baseline $\\mathbf{b}$."
   ]
  },
  {
   "cell_type": "markdown",
   "metadata": {
    "collapsed": true
   },
   "source": [
    "$$\\boxed{\\boxed{\\mathcal{ V_{\\mathbf{b}} } = \\int_{\\Omega} I_\\nu(\\boldsymbol{\\sigma}) e^{-\\imath 2\\pi \\frac{\\textbf{b}\\cdot \\boldsymbol{\\sigma}}{\\lambda}} d\\Omega}}$$\n"
   ]
  },
  {
   "cell_type": "markdown",
   "metadata": {},
   "source": [
    "Assuming as steady and slowly rotating sky above the interferometer, the collection of visibilities from all the baselines, is a collection of samples of the *continuous* visibility function $\\mathcal{V}$. Under certain assuptions, we will see how this visibility function is related to the Fourier transform of the sky brightness.\n",
    "\n",
    "We will first study the properties of the con\n",
    "\n",
    "Let's summarize the properties of this function:\n",
    "- At a frequency $\\nu$ and time $t$, a 2-element interferometer defined by the physical baseline $\\mathbf{b}$, samples one complex value, which is a sample of all the contribution of the sky to the visibility function $\\mathcal{V}$.\n",
    "- \n",
    "\n"
   ]
  },
  {
   "cell_type": "markdown",
   "metadata": {},
   "source": [
    "### Intro\n",
    "\n",
    "\n",
    "- Simplifying assumptions (perfect instrumentation, no IDE, no DDE, uniform antennas)\n",
    "- Pointer to the Jones Formalism (point to Oleg's Ch. 7)\n",
    "- Measuring the radius of a star? How do they do it? How can we do similar measurement without imaging\n",
    "\n",
    "The visibility function is the relevant measured quantity by any interferometer. It is linked to the constrast of the fringe pattern created by the combination of the antenna signals in each baseline.\n",
    "\n",
    "Real-life signals will suffer from (non-)instrumental and direction-(in)dependent effects which need to be corrected for to retrieve a reliable information on the sky brightness.\n",
    "This can be exhaustively described by the mathematical framework of the **Radio Interferometer Measurement Equation** (RIME)[EXREF OLEG] which enable the expression of the distortions applied to the electrical fields, from their emissions to their receptions by unperfect elements of the interferometer. In this linear description, each event occuring on the signal (distortions along the direction of observation, non-uniformity of antenna elements, etc.) is modeled as a 2$\\times$2 *Jones* operators which alter consecutively the signal. These Jones operators can be solved for and corrected for in the calibration step [EXREF TRIENKO].\n",
    "\n",
    "For the sake of understanding the physical properties of the visibility function, we will take a series of assumptions to simplify the calculus.\n",
    "\n",
    "we will assume a steady sky, slowing rotation about the location of the interferometer.\n"
   ]
  },
  {
   "cell_type": "markdown",
   "metadata": {},
   "source": [
    "### 4.3.1 Mathematical definition of the complex visibility\n",
    "(mostly recasting properly what was already defined in 4.2)"
   ]
  },
  {
   "cell_type": "markdown",
   "metadata": {},
   "source": [
    "#### 4.3.1.A specific intensity / surface brigthness\n",
    "    - recall on the physical quantity that is sought"
   ]
  },
  {
   "cell_type": "markdown",
   "metadata": {},
   "source": [
    "As seen on Chap. 1, the *specific intensity* $I_\\nu$ (*surface brightness* $\\mathcal{B}_\\nu$) can be integrated to compute the received power by unit of solid angle, frequency and collecting area:\n",
    "$$ dP_{\\nu} = I_{\\nu} d\\Omega d\\nu d A_{\\text{eff}} $$\n",
    "$dP$ is in Watt,\n",
    "$I_{\\nu}$ is in $W.m^{-2}.sr^{-1}.Hz^{-1}$\n",
    "\n",
    "In the integrated form, the received power $P_{\\text{rec}}$ from the source of flux density $S$ in the bandwidth $\\Delta \\nu$, flowing through a collecting area $A$ is:\n",
    "$$P_{\\text{rec}}=\\frac{1}{2} A S \\Delta \\nu$$\n",
    "\n"
   ]
  },
  {
   "cell_type": "markdown",
   "metadata": {},
   "source": [
    "At a location $\\boldsymbol{\\sigma}$ from the phase center $\\mathbf{s_0}$, the portion of the sky defined by $d\\Omega$, will contribute to the received power over the bandwidth $\\Delta \\nu$ and the collecting surface $A_{\\text{eff}}$ as:\n",
    "$$dP(\\boldsymbol{\\sigma})= \\frac{1}{2} A_{\\text{eff}}(\\boldsymbol{\\sigma})I_\\nu(\\boldsymbol{\\sigma})\\Delta\\nu d\\Omega$$"
   ]
  },
  {
   "cell_type": "markdown",
   "metadata": {},
   "source": [
    "The flux density and the specific intensity are related by:\n",
    "- the flux density : $S_{\\nu} = \\int I_{\\nu} d\\Omega$\n",
    "- the flux : F=$\\int_{\\Delta \\nu} \\int_\\Omega I_\\nu d \\Omega d\\nu$\n",
    "\n",
    "- the received power:  P= $\\int_{A_\\text{eff}}\\int_{\\nu} \\int_\\Omega I_\\nu d \\Omega d\\nu d A_{\\text{eff}}$\n",
    "\n",
    "\n",
    "where $\\Omega$ is the solid angle subtended by the source."
   ]
  },
  {
   "cell_type": "markdown",
   "metadata": {},
   "source": [
    "<div class=warn>\n",
    "**Warning:** The specific intensity $I_{\\nu}$ does not vary in vacuum by propagation and is independent of the distance to the source. However, the flux density $S_{\\nu}$ vary with the distance as $\\Omega$ as a $r^{-2}$ dependency.</div>\n"
   ]
  },
  {
   "cell_type": "markdown",
   "metadata": {},
   "source": [
    "<div class=warn>\n",
    "**Warning:** the $\\frac{1}{2}$ coefficient accounts for the fact that most antenna feeds are polarized (circularly or linearly) and therefore are only sensitive to half of the power of an unpolarized source. Note that if the source and the antenna share the same polarization, the full power is measured by the antenna.</div>\n"
   ]
  },
  {
   "cell_type": "markdown",
   "metadata": {},
   "source": [
    "We have seen that the measured quantity by an interferometer is the integral of the contribution from different portion of the sky $\\Omega$. The compound complex visibility associate the measurement of the *odd* part and of the *even* part of the specific intensity $I_\\nu$, modulated by the antenna response, assumed to be identical for all receivers.\n",
    "\n",
    "$$\\boxed{\\boxed{\\mathcal{ V_{\\mathbf{b}} } = \\int_{\\Omega} A_\\text{eff}(\\boldsymbol{\\sigma})I_\\nu(\\boldsymbol{\\sigma}) e^{-\\imath 2\\pi \\frac{\\textbf{b}\\cdot \\boldsymbol{\\sigma}}{\\lambda}} d\\Omega}}$$"
   ]
  },
  {
   "cell_type": "markdown",
   "metadata": {},
   "source": [
    "#### 4.3.1.B Expression of the fringe pattern\n"
   ]
  },
  {
   "cell_type": "markdown",
   "metadata": {},
   "source": [
    "- expression of the kernel in (u,v,w) /  (l,m,n)\n",
    "- simplification\n",
    "- first link to FT\n"
   ]
  },
  {
   "cell_type": "markdown",
   "metadata": {},
   "source": [
    "In section 4.1, we defined various coordinates systems to represent the baseline in a sky-friendly frame. We will now use them to have an explicit expression of the visibility $\\mathcal{V}_{\\mathbf{b}}$.\n",
    "\n",
    "\n",
    "$\\boldsymbol{\\sigma}$ is the direction difference vector defined as $\\boldsymbol{\\sigma}= \\mathbf{s} - \\mathbf{s_0}$.\n",
    "\n",
    "In the ($u$,$v$,$w$) coordinate system, we have\n",
    "\n",
    "\\begin{eqnarray}\n",
    "\\mathbf{s_0}&=&\n",
    "\\begin{pmatrix}\n",
    "0 \\\\\n",
    "0 \\\\\n",
    "1 \\\\\n",
    "\\end{pmatrix}\n",
    "\\end{eqnarray}\n",
    "\n",
    "\\begin{eqnarray}\n",
    "\\mathbf{s} \n",
    "&=&\n",
    "\\begin{pmatrix}\n",
    "l \\\\\n",
    "m \\\\\n",
    "n \\\\\n",
    "\\end{pmatrix}\n",
    "\\end{eqnarray}\n",
    "\n",
    "\\begin{eqnarray}\n",
    "\\mathbf{\\mathbf{b}} \n",
    "&=&\n",
    "\\begin{pmatrix}\n",
    "u \\\\\n",
    "v \\\\\n",
    "w \\\\\n",
    "\\end{pmatrix}\n",
    "\\end{eqnarray}\n"
   ]
  },
  {
   "cell_type": "markdown",
   "metadata": {},
   "source": [
    "The scalar product $\\mathbf{b} \\cdot \\boldsymbol{\\sigma}$ can therefore be expressed as a function of ($u$,$v$,$w$) and ($l$,$m$,$n$):"
   ]
  },
  {
   "cell_type": "markdown",
   "metadata": {},
   "source": [
    "\n",
    "$$ \\mathbf{b} \\cdot \\boldsymbol{\\sigma}= ul + vm + (n-1)w $$"
   ]
  },
  {
   "cell_type": "markdown",
   "metadata": {},
   "source": [
    "We will describe the quantity $d\\Omega$ in term of ($l$,$m$,$n$) coordinates. This quantity describes an element of solid angle on the celestial sphere.\n",
    "As $d \\Omega = r  d\\theta \\sin \\theta d\\phi$\n",
    "\n",
    "$d \\Omega = \\frac{dl dm}{n} = \\frac{dl dm}{\\sqrt{1 - l^2 - m^2}}$"
   ]
  },
  {
   "cell_type": "markdown",
   "metadata": {},
   "source": [
    "#### 4.3.1.C Link with the Fourier Transform"
   ]
  },
  {
   "cell_type": "code",
   "execution_count": null,
   "metadata": {
    "collapsed": true
   },
   "outputs": [],
   "source": []
  }
 ],
 "metadata": {
  "kernelspec": {
   "display_name": "Python 2",
   "language": "python",
   "name": "python2"
  },
  "language_info": {
   "codemirror_mode": {
    "name": "ipython",
    "version": 2
   },
   "file_extension": ".py",
   "mimetype": "text/x-python",
   "name": "python",
   "nbconvert_exporter": "python",
   "pygments_lexer": "ipython2",
   "version": "2.7.6"
  }
 },
 "nbformat": 4,
 "nbformat_minor": 0
}
