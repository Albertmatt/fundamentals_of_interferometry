{
 "cells": [
  {
   "cell_type": "markdown",
   "metadata": {
    "collapsed": true
   },
   "source": [
    "***\n",
    "<a id='beginning'></a> <!--\\label{beginning}-->\n",
    "* [Outline](../0_Introduction/0_introduction.ipynb)\n",
    "* [Glossary](../0_Introduction/1_glossary.ipynb)\n",
    "* [4. The Visibility space](4_0_introduction.ipynb)\n",
    "    * Previous: [4.4.1 UV Coverage: UV Tracks](4_4_1_UV_Coverage_UV_Tracks.ipynb)\n",
    "    * Next: [4.4.3 UV Coverage: Improving your coverage](4_4_3_UV_Coverage_Improving_Your_Coverage.ipynb)\n",
    "\n",
    "***"
   ]
  },
  {
   "cell_type": "code",
   "execution_count": 1,
   "metadata": {
    "collapsed": false
   },
   "outputs": [
    {
     "name": "stdout",
     "output_type": "stream",
     "text": [
      "Config loaded\n"
     ]
    },
    {
     "data": {
      "text/html": [
       "<style>\n",
       "\n",
       "p.prerequisites {\n",
       "    border:5px;\n",
       "    border-style:double;\n",
       "    background-color:#FFFFFF;\n",
       "    box-shadow: 5px 5px 2px #888888;\n",
       "    border-color:#FF0000;\n",
       "    padding: 1em;\n",
       "}\n",
       "\n",
       "p.conclusion {\n",
       "    border:5px;\n",
       "    border-style:none;\n",
       "    background-color:#c8ebca;\n",
       "    box-shadow: 5px 5px 2px #888888;\n",
       "    border-color:#c8ebca;\n",
       "    padding: 1em;\n",
       "}\n",
       "\n",
       "div.warn {    \n",
       "    background-color: #fcf2f2;\n",
       "    border-color: #dFb5b4;\n",
       "    border-left: 5px solid #dfb5b4;\n",
       "    padding: 0.5em;\n",
       "    }\n",
       "\n",
       "div.advice {    \n",
       "    background-color: #ecf8ed;\n",
       "    border-color: #a2dda5;\n",
       "    border-left: 5px solid #a2dda5;\n",
       "    padding: 0.5em;\n",
       "    }\n",
       " </style>\n",
       "\n",
       "\n"
      ],
      "text/plain": [
       "<IPython.core.display.HTML object>"
      ]
     },
     "execution_count": 1,
     "metadata": {},
     "output_type": "execute_result"
    }
   ],
   "source": [
    "#import initpython # containing all \"hidden\" packages (including CSS reader, and apply CSS style)\n",
    "from initpython import *\n",
    "css_styling()"
   ]
  },
  {
   "cell_type": "markdown",
   "metadata": {},
   "source": [
    "---\n",
    "# Outline\n",
    "\n",
    "### 4.4.2 N-element interferometer\n",
    "\n",
    "* Intro: why optimizing the position of antennas in an array ?\n",
    "\n",
    "\n",
    "* 4.4.2.A Instantaneous coverage\n",
    "    - $N$ antennas = $N(N-1)/2$ independent visibilities\n",
    "    - Regular array => redundancy\n",
    "    - Random/pseudo array => diversity\n",
    "    - Log-spiral => homogeneity\n",
    "    - link to PSF\n",
    "    \n",
    "    \n",
    "* 4.4.1.B Examples of characteristic UV coverage\n",
    "    - WSRT\n",
    "    - Golay / ATCA / KAT 7\n",
    "    - VLA (multiple conf in 4.4.3)\n",
    "    - LOFAR\n",
    "    - SKA\n",
    "\n",
    "---\n",
    "\n",
    "---\n",
    "\n",
    "---"
   ]
  },
  {
   "cell_type": "markdown",
   "metadata": {},
   "source": [
    "<p class=conclusion>\n",
    "  <font size=4> **Important things to remember**</font>\n",
    "  <br>\n",
    "  <br>\n",
    "  \n",
    "&bull; *The measured spatial frequency depends on the length of the **projected** baseline* <br><br>\n",
    "&bull; *The measured spatial frequency depends on the length of the **projected** baseline*\n",
    "</p>"
   ]
  },
  {
   "cell_type": "markdown",
   "metadata": {
    "collapsed": true
   },
   "source": [
    "---\n",
    "* [Go back up](#beginning) <!--\\ref{beginning}--> \n",
    "* Or continue to next section: [4.4.3 UV Coverage: Improving your coverage -->](4_4_3_UV_Coverage_Improving_Your_Coverage.ipynb)\n",
    "---"
   ]
  }
 ],
 "metadata": {
  "kernelspec": {
   "display_name": "Python 2",
   "language": "python",
   "name": "python2"
  },
  "language_info": {
   "codemirror_mode": {
    "name": "ipython",
    "version": 2
   },
   "file_extension": ".py",
   "mimetype": "text/x-python",
   "name": "python",
   "nbconvert_exporter": "python",
   "pygments_lexer": "ipython2",
   "version": "2.7.6"
  }
 },
 "nbformat": 4,
 "nbformat_minor": 0
}
