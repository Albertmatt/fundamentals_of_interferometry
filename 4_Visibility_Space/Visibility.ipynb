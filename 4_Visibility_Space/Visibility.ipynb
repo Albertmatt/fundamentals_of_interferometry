{
 "cells": [
  {
   "cell_type": "markdown",
   "metadata": {},
   "source": [
    "## Visibility integral"
   ]
  },
  {
   "cell_type": "code",
   "execution_count": 112,
   "metadata": {
    "collapsed": false
   },
   "outputs": [],
   "source": [
    "%matplotlib inline\n",
    "import numpy as np\n",
    "import matplotlib.pyplot as plt\n",
    "import itertools as it\n",
    "C=3e8"
   ]
  },
  {
   "cell_type": "code",
   "execution_count": 113,
   "metadata": {
    "collapsed": false
   },
   "outputs": [
    {
     "data": {
      "text/plain": [
       "<matplotlib.text.Text at 0x7f13238dcb90>"
      ]
     },
     "execution_count": 113,
     "metadata": {},
     "output_type": "execute_result"
    },
    {
     "data": {
      "image/png": "[encoded data removed]",
      "text/plain": [
       "<matplotlib.figure.Figure at 0x7f1324a2e590>"
      ]
     },
     "metadata": {},
     "output_type": "display_data"
    }
   ],
   "source": [
    "# Observing frequency\n",
    "Freq=1.420e6 # in Hz\n",
    "\n",
    "# Number of antennas\n",
    "N=10\n",
    "\n",
    "# Generate antenna position in a box\n",
    "locx,locy=np.random.rand(2,N)*100 - 50\n",
    "locz=np.zeros(N)\n",
    "\n",
    "# list of antenna vectors\n",
    "vec=zip(locx,locy)\n",
    "\n",
    "plt.scatter(locx,locy)\n",
    "plt.title('Antenna distribution')\n",
    "plt.xlabel('X (m)')\n",
    "plt.ylabel('Y (m)')"
   ]
  },
  {
   "cell_type": "code",
   "execution_count": 114,
   "metadata": {
    "collapsed": false
   },
   "outputs": [
    {
     "data": {
      "text/plain": [
       "(array([-32.66996331,  12.51295041,  14.07717145,   4.39129927,\n",
       "         15.02273957, -12.50435558,  36.50620499, -28.07803223,\n",
       "         35.56047172,  31.70900907]),\n",
       " array([ 26.14529477,  37.96040751, -37.92840971,  46.11818368,\n",
       "        -41.40257445,  18.93663799, -26.57802642, -24.46663034,\n",
       "        -26.98004667, -34.17119766]),\n",
       " array([ 0.,  0.,  0.,  0.,  0.,  0.,  0.,  0.,  0.,  0.]))"
      ]
     },
     "execution_count": 114,
     "metadata": {},
     "output_type": "execute_result"
    }
   ],
   "source": [
    "# Generating baseline vectors\n",
    "locx,locy,locz"
   ]
  },
  {
   "cell_type": "code",
   "execution_count": 115,
   "metadata": {
    "collapsed": false
   },
   "outputs": [
    {
     "name": "stdout",
     "output_type": "stream",
     "text": [
      "45\n",
      "45\n"
     ]
    }
   ],
   "source": [
    "# compute N*(N-1)/2 baselines coordinates (x,y,z) from all combinations\n",
    "baselinex=np.array([x-y for x,y in list(it.combinations(locx,2))])\n",
    "baseliney=np.array([x-y for x,y in list(it.combinations(locy,2))])\n",
    "baselinez=np.array([x-y for x,y in list(it.combinations(locz,2))])\n",
    "baselines=zip(baselinex,baseliney,baselinez)\n",
    "print len(baselines)\n",
    "print N*(N-1)/2"
   ]
  },
  {
   "cell_type": "code",
   "execution_count": 116,
   "metadata": {
    "collapsed": false
   },
   "outputs": [
    {
     "data": {
      "text/plain": [
       "<matplotlib.text.Text at 0x7f1323b2fc10>"
      ]
     },
     "execution_count": 116,
     "metadata": {},
     "output_type": "execute_result"
    },
    {
     "data": {
      "image/png": "[encoded data removed]",
      "text/plain": [
       "<matplotlib.figure.Figure at 0x7f132389fe50>"
      ]
     },
     "metadata": {},
     "output_type": "display_data"
    }
   ],
   "source": [
    "# plot distribution of baselines\n",
    "plt.scatter(baselinex,baseliney,marker=\".\",color=\"blue\")\n",
    "plt.scatter(-baselinex,-baseliney,marker=\".\",color=\"red\")\n",
    "plt.xlim(-130,130)\n",
    "plt.ylim(-130,130)\n",
    "plt.title('Physical Baseline distribution')\n",
    "\n",
    "plt.xlabel('$\\Delta X$ (m)')\n",
    "plt.ylabel('$\\Delta Y$ (m)')"
   ]
  },
  {
   "cell_type": "markdown",
   "metadata": {
    "collapsed": true
   },
   "source": [
    "#### Direction & observer location\n",
    "\n",
    "$\\mathbf{s_o}$ = ($\\alpha_0$, $\\delta_0$) =  Phase center direction\n",
    "\n",
    "$L_a$ = 45. = Latitude of observer\n"
   ]
  },
  {
   "cell_type": "code",
   "execution_count": 119,
   "metadata": {
    "collapsed": true
   },
   "outputs": [],
   "source": [
    "alpha_0=3.+15./60+30./3600 # phase center RA\n",
    "delta_0=10.+30./60 # phase center DEC"
   ]
  },
  {
   "cell_type": "code",
   "execution_count": 120,
   "metadata": {
    "collapsed": true
   },
   "outputs": [],
   "source": [
    "# Compute projected baseline in (u,v,w)\n",
    "\n",
    "\n"
   ]
  },
  {
   "cell_type": "code",
   "execution_count": null,
   "metadata": {
    "collapsed": true
   },
   "outputs": [],
   "source": []
  }
 ],
 "metadata": {
  "kernelspec": {
   "display_name": "Python 2",
   "language": "python",
   "name": "python2"
  },
  "language_info": {
   "codemirror_mode": {
    "name": "ipython",
    "version": 2
   },
   "file_extension": ".py",
   "mimetype": "text/x-python",
   "name": "python",
   "nbconvert_exporter": "python",
   "pygments_lexer": "ipython2",
   "version": "2.7.6"
  }
 },
 "nbformat": 4,
 "nbformat_minor": 0
}
