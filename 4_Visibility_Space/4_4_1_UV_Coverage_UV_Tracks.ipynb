{
 "cells": [
  {
   "cell_type": "markdown",
   "metadata": {},
   "source": [
    "***\n",
    "<a id='beginning'></a> <!--\\label{beginning}-->\n",
    "* [Outline](../0_Introduction/0_introduction.ipynb)\n",
    "* [Glossary](../0_Introduction/1_glossary.ipynb)\n",
    "* [4. The Visibility space](4_0_introduction.ipynb)\n",
    "    * Previous: [4.3 The Visibility Function](4_3_The_Visibility_Function.ipynb)\n",
    "    * Next: [4.4.2 UV Coverage: The N-element Interferometer](4_4_2_UV_Coverage_The_N-element_Interferometer.ipynb)\n",
    "\n",
    "***"
   ]
  },
  {
   "cell_type": "markdown",
   "metadata": {},
   "source": [
    "Main author: Julien Girard"
   ]
  },
  {
   "cell_type": "code",
   "execution_count": 1,
   "metadata": {
    "collapsed": false
   },
   "outputs": [
    {
     "data": {
      "text/html": [
       "<style>\n",
       "\n",
       "p.prerequisites {\n",
       "    border:5px;\n",
       "    border-style:none;\n",
       "    background-color:#F0F0F0;\n",
       "    box-shadow: 5px 5px 2px #888888;\n",
       "    border-color:#FF0000;\n",
       "    padding: 1em;\n",
       "}\n",
       "\n",
       "p.conclusion {\n",
       "    border:5px;\n",
       "    border-style:none;\n",
       "    background-color:#c8ebca;\n",
       "    box-shadow: 5px 5px 2px #888888;\n",
       "    border-color:#c8ebca;\n",
       "    padding: 1em;\n",
       "}\n",
       "\n",
       "div.warn {    \n",
       "    background-color: #fcf2f2;\n",
       "    border-color: #dFb5b4;\n",
       "    border-left: 5px solid #dfb5b4;\n",
       "    padding: 0.5em;\n",
       "    }\n",
       "\n",
       "div.advice {    \n",
       "    background-color: #ecf8ed;\n",
       "    border-color: #a2dda5;\n",
       "    border-left: 5px solid #a2dda5;\n",
       "    padding: 0.5em;\n",
       "    }\n",
       " </style>\n",
       "\n",
       "\n"
      ],
      "text/plain": [
       "<IPython.core.display.HTML object>"
      ]
     },
     "execution_count": 1,
     "metadata": {},
     "output_type": "execute_result"
    }
   ],
   "source": [
    "from IPython.core.display import HTML\n",
    "import matplotlib.pyplot as plt\n",
    "from mpl_toolkits.mplot3d import Axes3D\n",
    "\n",
    "import numpy as np\n",
    "#%matplotlib inline\n",
    "\n",
    "styles = open(\"../style/course.css\", \"r\").read()\n",
    "HTML(styles)"
   ]
  },
  {
   "cell_type": "code",
   "execution_count": 2,
   "metadata": {
    "collapsed": true
   },
   "outputs": [],
   "source": [
    "def makecubeplot(u,v,w):\n",
    "    max_range = np.array([u.max()-u.min(), v.max()-v.min(), w.max()-w.min()]).max()\n",
    "    Ub = 0.5*max_range*np.mgrid[-1:2:2,-1:2:2,-1:2:2][0].flatten() + 0.5*(u.max()+u.min())\n",
    "    Vb = 0.5*max_range*np.mgrid[-1:2:2,-1:2:2,-1:2:2][1].flatten() + 0.5*(v.max()+v.min())\n",
    "    Wb = 0.5*max_range*np.mgrid[-1:2:2,-1:2:2,-1:2:2][2].flatten() + 0.5*(w.max()+w.min())\n",
    "    # Comment or uncomment following both lines to test the fake bounding box:\n",
    "    for ub, vb, wb in zip(Ub, Vb, Wb):\n",
    "        ax.plot([ub], [vb], [wb], 'w')"
   ]
  },
  {
   "cell_type": "markdown",
   "metadata": {},
   "source": [
    "---\n",
    "# Outline\n",
    "\n",
    "### 4.4.1 UV Tracks\n",
    "\n",
    "* 4.4.1.A Observing with a baseline in time\n",
    "    - Variation of the projected baseline\n",
    "    - Motion in the (u,v) plane\n",
    "    - e.g. Earth rotation: the baseline as seen from the source\n",
    "    \n",
    "\n",
    "* 4.4.1.B Shape of the tracks\n",
    "    - dependence of baseline length\n",
    "    - Latitude of observation\n",
    "    - General case (tracks are ellipsis)\n",
    "    - parameters of the ellipsis\n",
    "    \n",
    "    \n",
    "* 4.4.1.C Special cases\n",
    "    - East-West array\n",
    "    - Polar interferometer (tracks are circle)\n",
    "    - Equatorial interferometer (tracks are straight lines)\n",
    "\n",
    "\n",
    "---\n",
    "\n",
    "---\n",
    "\n",
    "---\n"
   ]
  },
  {
   "cell_type": "markdown",
   "metadata": {
    "collapsed": true
   },
   "source": [
    "<p class=conclusion>\n",
    "  <font size=4> **Important things to remember**</font>\n",
    "  <br>\n",
    "  <br>\n",
    "  \n",
    "&bull; *The measured spatial frequency depends on the length of the **projected** baseline* <br><br>\n",
    "&bull; *The measured spatial frequency depends on the length of the **projected** baseline*\n",
    "</p>"
   ]
  },
  {
   "cell_type": "markdown",
   "metadata": {},
   "source": [
    "### 4.4.1.A The projected baseline with time"
   ]
  },
  {
   "cell_type": "markdown",
   "metadata": {},
   "source": [
    "    - Variation of the projected baseline\n",
    "    - Motion in the (u,v) plane\n",
    "    - e.g. Earth rotation: the baseline as seen from the source\n",
    "    "
   ]
  },
  {
   "cell_type": "markdown",
   "metadata": {},
   "source": [
    "In section 4.1, we linked the equatorial coordinates of the baseline to the ($u$,$v$,$w$) space through the transformation matrix:\n",
    "\\begin{equation}\n",
    "\\begin{pmatrix}\n",
    "u\\\\\n",
    "v\\\\\n",
    "w\n",
    "\\end{pmatrix}\n",
    "=\n",
    "\\frac{1}{\\lambda}\n",
    "\\begin{pmatrix}\n",
    "\\sin H_0 & \\cos H_0 & 0\\\\ \n",
    "-\\sin \\delta_0 \\cos H_0 & \\sin\\delta_0\\sin H_0 & \\cos\\delta_0\\\\\n",
    "\\cos \\delta_0 \\cos H_0 & -\\cos\\delta_0\\sin H_0 & \\sin\\delta_0\\\\\n",
    "\\end{pmatrix} \n",
    "\\begin{pmatrix}\n",
    "X\\\\\n",
    "Y\\\\\n",
    "Z\n",
    "\\end{pmatrix}\n",
    "\\end{equation}"
   ]
  },
  {
   "cell_type": "markdown",
   "metadata": {},
   "source": [
    "Let Ant$_1$ and Ant$_2$ two antennas:"
   ]
  },
  {
   "cell_type": "markdown",
   "metadata": {},
   "source": [
    "\\begin{equation}\n",
    "\\begin{bmatrix}\n",
    "X\\\\\n",
    "Y\\\\\n",
    "Z\n",
    "\\end{bmatrix}\n",
    "=|\\mathbf{b}|\n",
    "\\begin{bmatrix}\n",
    "\\cos L_a \\sin E - \\sin L_a \\cos E \\cos A\\nonumber\\\\ \n",
    "\\cos E \\sin A \\nonumber\\\\\n",
    "\\sin L_a \\sin E + \\cos L_a \\cos E \\cos A\\\\\n",
    "\\end{bmatrix}\n",
    "\\end{equation}\n"
   ]
  },
  {
   "cell_type": "code",
   "execution_count": 3,
   "metadata": {
    "collapsed": true
   },
   "outputs": [],
   "source": [
    "ant1 = np.array([-500e3,500e3,0])\n",
    "ant2 = np.array([500e3,-500e3,+10])"
   ]
  },
  {
   "cell_type": "markdown",
   "metadata": {},
   "source": [
    "Let's express the baseline in ENU coordinates:"
   ]
  },
  {
   "cell_type": "code",
   "execution_count": 4,
   "metadata": {
    "collapsed": false
   },
   "outputs": [
    {
     "name": "stdout",
     "output_type": "stream",
     "text": [
      "1414.21356241 km\n"
     ]
    }
   ],
   "source": [
    "b_ENU = ant2-ant1\n",
    "D = np.sqrt(np.sum((b_ENU)**2))\n",
    "print str(D/1000)+\" km\""
   ]
  },
  {
   "cell_type": "markdown",
   "metadata": {
    "collapsed": true
   },
   "source": [
    "Latitude of the interferometer: $L_a=+45^\\circ00'00''$"
   ]
  },
  {
   "cell_type": "code",
   "execution_count": 5,
   "metadata": {
    "collapsed": true
   },
   "outputs": [],
   "source": [
    "L = (np.pi/180)*(45+0./60+0./3600)      # Latitude"
   ]
  },
  {
   "cell_type": "markdown",
   "metadata": {
    "collapsed": true
   },
   "source": [
    "** Expression of $\\mathcal{b}$ in ($A$,$E$) and in the ($X$,$Y$,$Z$) systems**"
   ]
  },
  {
   "cell_type": "code",
   "execution_count": 6,
   "metadata": {
    "collapsed": false
   },
   "outputs": [
    {
     "name": "stdout",
     "output_type": "stream",
     "text": [
      "Baseline Azimuth=135.0°\n",
      "Baseline Elevation=0.000405142342264°\n"
     ]
    }
   ],
   "source": [
    "A=np.arctan2(b_ENU[0],b_ENU[1])\n",
    "print \"Baseline Azimuth=\"+str(np.degrees(A))+\"°\"\n",
    "\n",
    "E=np.arcsin(b_ENU[2]/D)\n",
    "print \"Baseline Elevation=\"+str(np.degrees(E))+\"°\""
   ]
  },
  {
   "cell_type": "code",
   "execution_count": 13,
   "metadata": {
    "collapsed": false
   },
   "outputs": [
    {
     "name": "stdout",
     "output_type": "stream",
     "text": [
      "Using matplotlib backend: TkAgg\n"
     ]
    }
   ],
   "source": [
    "%matplotlib\n",
    "# Create a sphere\n",
    "r = 6371 #km\n",
    "pi = np.pi\n",
    "cos = np.cos\n",
    "sin = np.sin\n",
    "phi, theta = np.mgrid[0.0:pi:100j, 0.0:2.0*pi:100j]\n",
    "x = r*sin(phi)*cos(theta)\n",
    "y = r*sin(phi)*sin(theta)\n",
    "z = r*cos(phi)\n",
    "\n",
    "# coordinate center baseline\n",
    "r0=r\n",
    "#L=np.radians(45.)\n",
    "phi0=np.pi/2-L\n",
    "theta0=0.\n",
    "\n",
    "x0 = r0*sin(phi0)*cos(theta0)\n",
    "y0 = r0*sin(phi0)*sin(theta0)\n",
    "z0 = r0*cos(phi0)\n",
    "\n",
    "b=D/1e3 #km\n",
    "\n",
    "#E=np.radians(0)\n",
    "#A=np.radians(90)\n",
    "\n",
    "rant1=r+ant1[2]\n",
    "rant2=r+ant2[2]\n",
    "\n",
    "ant1phi=phi0+np.arctan(b/2*cos(A)/r)\n",
    "ant2phi=phi0-np.arctan(b/2*cos(A)/r)\n",
    "\n",
    "ant1theta=theta0+np.arctan(b/2*sin(A)/r)\n",
    "ant2theta=theta0-np.arctan(b/2*sin(A)/r)\n",
    "\n",
    "xant1=rant1*sin(ant1phi)*cos(ant1theta)\n",
    "xant2=rant2*sin(ant2phi)*cos(ant2theta)\n",
    "\n",
    "yant1=rant1*sin(ant1phi)*sin(ant1theta)\n",
    "yant2=rant2*sin(ant2phi)*sin(ant2theta)\n",
    "\n",
    "zant1=rant1*cos(ant1phi)\n",
    "zant2=rant2*cos(ant2phi)\n",
    "\n",
    "#Import data\n",
    "#data = np.genfromtxt('leb.txt')\n",
    "#xx, yy, zz = np.hsplit(data, 3) \n",
    "\n",
    "#Set colours and render\n",
    "fig = plt.figure(figsize=(10,10))\n",
    "ax = fig.add_subplot(111, projection='3d')\n",
    "\n",
    "ax.set_title(\"Baseline seen from the source\")\n",
    "x = r*sin(phi)*cos(theta)\n",
    "y = r*sin(phi)*sin(theta)\n",
    "z = r*cos(phi)\n",
    "\n",
    "ax.plot_surface(x, y, z,  rstride=4, cstride=4, color='k',alpha=0.02, linewidth=1,shade=False)\n",
    "\n",
    "ax.plot_surface(x, y, z*0,  rstride=40, cstride=40, color='c', alpha=0.1, linewidth=0,shade=False)\n",
    "\n",
    "#ax.plot_surface(x, y, z,  rstride=3, cstride=3, color='w', alpha=0.3, linewidth=0)\n",
    "#ax.plot_wireframe(x, y, z,  rstride=10, cstride=10, color='k', alpha=1, linewidth=0)\n",
    "\n",
    "ax.scatter(x0,y0,z0,color=\"k\",s=5)\n",
    "ax.scatter(xant1,yant1,zant1,color=\"b\",s=20)\n",
    "ax.scatter(xant2,yant2,zant2,color=\"b\",s=20)\n",
    "ax.plot([xant1,xant2],[yant1,yant2],[zant1,zant2],color=\"g\",linewidth=2)\n",
    "\n",
    "ax.plot([0,0],[0,0],[-7000,7000.],'k')\n",
    "ax.plot([0,0],[-7000,7000.],[0,0],'k')\n",
    "ax.plot([-7000,7000.],[0,0],[0,0],'k')\n",
    "\n",
    "ax.plot([0,x0],[0,y0],[0,z0],'r',linewidth=2)\n",
    "\n",
    "ax.view_init(30,50)\n",
    "ax.set_xlim([-7000,7000])\n",
    "ax.set_ylim([-7000,7000])\n",
    "ax.set_zlim([-7000,7000])\n",
    "ax.set_xlabel(\"X (km)\")\n",
    "ax.set_ylabel(\"Y (km)\")\n",
    "ax.set_zlabel(\"Z (km)\")\n",
    "ax.set_aspect(\"equal\")\n",
    "plt.tight_layout()\n",
    "#plt.show()"
   ]
  },
  {
   "cell_type": "markdown",
   "metadata": {},
   "source": [
    "### 4.4.1.B Shape of the tracks"
   ]
  },
  {
   "cell_type": "markdown",
   "metadata": {
    "collapsed": true
   },
   "source": [
    "**Observation parameters**\n",
    "\n",
    "Latitude of the baseline: $L_a=-30^\\circ43'17.34''$\n",
    "\n",
    "Declination of the observation: $\\delta=-74^\\circ39'37.481''$\n",
    "\n",
    "Duration of observation: $\\Delta \\text{HA}=[-4^\\text{h},4^\\text{h}]$\n",
    "\n",
    "Time steps: 600\n",
    "\n",
    "Frequency: 1420 MHz"
   ]
  },
  {
   "cell_type": "markdown",
   "metadata": {},
   "source": [
    "    - dependence of baseline length\n",
    "    - Latitude of observation\n",
    "    - General case (tracks are ellipsis)\n",
    "    - parameters of the ellipsis"
   ]
  },
  {
   "cell_type": "code",
   "execution_count": 8,
   "metadata": {
    "collapsed": false
   },
   "outputs": [
    {
     "name": "stdout",
     "output_type": "stream",
     "text": [
      "Using matplotlib backend: TkAgg\n"
     ]
    }
   ],
   "source": [
    "%matplotlib\n",
    "# Observation parameters\n",
    "c=3e8                                         # Speed of light\n",
    "f=1420e9                                      # Frequency\n",
    "lam = c/f                                     # Wavelength \n",
    "#dec = (np.pi/180)*(-74-39.0/60-37.481/3600)   # Declination\n",
    "dec = (np.pi/180)*(-30-43.0/60-17.34/3600)   # Declination\n",
    "\n",
    "time_steps = 600                              # time steps\n",
    "h = np.linspace(-4,4,num=time_steps)*np.pi/12 # Hour angle window"
   ]
  },
  {
   "cell_type": "code",
   "execution_count": 9,
   "metadata": {
    "collapsed": false
   },
   "outputs": [
    {
     "name": "stdout",
     "output_type": "stream",
     "text": [
      "61.4455465958\n",
      "-0.209213555573\n"
     ]
    }
   ],
   "source": [
    "ant1 = np.array([25.095,-9.095,0.045])\n",
    "ant2 = np.array([90.284,26.380,-0.226])\n",
    "b_ENU = ant2-ant1\n",
    "D = np.sqrt(np.sum((b_ENU)**2))\n",
    "L = (np.pi/180)*(-30-43.0/60-17.34/3600)\n",
    "\n",
    "A=np.arctan2(b_ENU[0],b_ENU[1])\n",
    "print A*(180/np.pi)\n",
    "E=np.arcsin(b_ENU[2]/D)\n",
    "print E*(180/np.pi)\n",
    "\n",
    "X = D*(np.cos(L)*np.sin(E)-np.sin(L)*np.cos(E)*np.cos(A))\n",
    "Y = D*np.cos(E)*np.sin(A)\n",
    "Z = D*(np.sin(L)*np.sin(E)+np.cos(L)*np.cos(E)*np.cos(A))"
   ]
  },
  {
   "cell_type": "markdown",
   "metadata": {
    "collapsed": true
   },
   "source": [
    "** Computation of the projected baselines in ($u$,$v$,$w$) coordinates along the observing time**"
   ]
  },
  {
   "cell_type": "markdown",
   "metadata": {
    "collapsed": true
   },
   "source": [
    "As the $u$, $v$, $w$ coordinates depends explicitely on $H$, we must evaluate them for each time step of the observation."
   ]
  },
  {
   "cell_type": "markdown",
   "metadata": {
    "collapsed": true
   },
   "source": [
    "$\\lambda u = X \\sin H + Y \\cos H$\n",
    "\n",
    "$\\lambda v= -X \\sin \\delta \\cos H + Y \\sin\\delta\\sin H + Z \\cos\\delta$\n",
    "\n",
    "$\\lambda w= X \\cos \\delta \\cos H -Y \\cos\\delta\\sin H + Z \\sin\\delta$"
   ]
  },
  {
   "cell_type": "code",
   "execution_count": 10,
   "metadata": {
    "collapsed": false
   },
   "outputs": [],
   "source": [
    "u = lam**(-1)*(np.sin(h)*X+np.cos(h)*Y)/1e3\n",
    "v = lam**(-1)*(-np.sin(dec)*np.cos(h)*X+np.sin(dec)*np.sin(h)*Y+np.cos(dec)*Z)/1e3\n",
    "w = lam**(-1)*(np.cos(dec)*np.cos(h)*X-np.cos(dec)*np.sin(h)*Y+np.sin(dec)*Z)/1e3"
   ]
  },
  {
   "cell_type": "markdown",
   "metadata": {
    "collapsed": true
   },
   "source": [
    "The $uvw$-track of the baseline over the 8 hour observation period."
   ]
  },
  {
   "cell_type": "code",
   "execution_count": 11,
   "metadata": {
    "collapsed": false
   },
   "outputs": [
    {
     "data": {
      "text/plain": [
       "[<mpl_toolkits.mplot3d.art3d.Line3D at 0x7f641ec67b10>]"
      ]
     },
     "execution_count": 11,
     "metadata": {},
     "output_type": "execute_result"
    }
   ],
   "source": [
    "\n",
    "fig=plt.figure()\n",
    "ax=fig.add_subplot(111,projection='3d')\n",
    "ax.plot(u,v,w,'b')\n",
    "ax.plot(-u,-v,-w,'r')\n",
    "\n",
    "ax.set_xlabel(\"u (klambda)\")\n",
    "ax.set_ylabel(\"v (klambda)\")\n",
    "ax.set_zlabel(\"w (klambda)\")\n",
    "ax.plot(u,v,'b--',zdir='w',zs=w.min())\n",
    "ax.plot(-u,-v,'r--',zdir='w',zs=w.min())\n",
    "\n",
    "#plt.plot(u,v)\n",
    "#plt.hold('on')\n",
    "#plt.plot(u[0],v[0],\"ro\")\n",
    "#plt.plot(u[-1],v[-1],\"ko\")\n",
    "#plt.plot(-u,-v,\"r\")\n",
    "#plt.show()"
   ]
  },
  {
   "cell_type": "markdown",
   "metadata": {
    "collapsed": true
   },
   "source": [
    "The $uv$-track projected in the $uv$ plane."
   ]
  },
  {
   "cell_type": "code",
   "execution_count": 12,
   "metadata": {
    "collapsed": false
   },
   "outputs": [
    {
     "data": {
      "image/png": "[encoded data removed]",
      "text/plain": [
       "<matplotlib.figure.Figure at 0x7f641ed70e50>"
      ]
     },
     "metadata": {},
     "output_type": "display_data"
    }
   ],
   "source": [
    "#fig=plt.figure()\n",
    "#fig.add_subplot(111,aspect='auto')\n",
    "%matplotlib inline\n",
    "from matplotlib.patches import Ellipse\n",
    "\n",
    "\n",
    "a=np.sqrt(X**2+Y**2)/lam/1e3\n",
    "b=a*np.sin(dec)\n",
    "v0=Z/lam*np.cos(dec)/1e3\n",
    "\n",
    "e1=Ellipse(xy=np.array([0,v0]),width=2*a,height=2*b,angle=0)\n",
    "\n",
    "e2=Ellipse(xy=np.array([0,-v0]),width=2*a,height=2*b,angle=0)\n",
    "\n",
    "\n",
    "fig=plt.figure(0)\n",
    "ax=fig.add_subplot(111,aspect=\"equal\")\n",
    "        \n",
    "ax.plot([0],[v0],\"go\")\n",
    "ax.plot([0],[-v0],\"go\")\n",
    "ax.plot(u[0],v[0],\"ro\")\n",
    "ax.plot(u[-1],v[-1],\"ko\")\n",
    "ax.plot(-u,-v,\"r\")\n",
    "\n",
    "ax.add_artist(e1)\n",
    "e1.set_lw(1)\n",
    "e1.set_ls(\"--\")\n",
    "e1.set_facecolor(\"w\")\n",
    "e1.set_edgecolor(\"b\")\n",
    "e1.set_alpha(0.5)\n",
    "\n",
    "ax.add_artist(e2)\n",
    "e2.set_lw(1)\n",
    "e2.set_ls(\"--\")\n",
    "e2.set_facecolor(\"w\")\n",
    "e2.set_edgecolor(\"r\")\n",
    "e2.set_alpha(0.5)\n",
    "\n",
    "ax.plot(u,v)\n",
    "ax.hold('on')\n",
    "#uu=np.linspace(-315,315,100)\n",
    "#vv=np.sqrt(b**2*(1-(uu/a)**2))+v0\n",
    "#vv2=-np.sqrt(b**2*(1-(uu/a)**2))+v0\n",
    "#plt.plot(uu,vv,\"k--\")\n",
    "#plt.plot(uu,vv2,\"k--\")\n",
    "#plt.show()\n"
   ]
  },
  {
   "cell_type": "markdown",
   "metadata": {},
   "source": [
    "The blue (resp. the red) curve is the $uv$ track of the baseline $\\mathbf{b}_{12} (resp. \\mathbf{b}_{21}$). As $I_\\nu$ is real, the real part of $V$ is even and the imaginary part if odd making $V(-u,-v)=V^*$. It implies that one baseline provide a measurement of its complex conjugate for free at (-u,-v)."
   ]
  },
  {
   "cell_type": "markdown",
   "metadata": {},
   "source": [
    "One can note that in this particular case, the $uv$ tracks draw an ellipsis.\n",
    "This can be easily derived from the combination of the equation of $u$ and $v$:\n",
    "\n",
    "\n",
    "$$\\boxed{u^2 + \\left[ \\frac{v -\\frac{Z}{\\lambda} \\cos \\delta}{\\sin \\delta} \\right]^2 = \\left[ \\frac{X}{\\lambda} \\right]^2 + \\left[ \\frac{Y}{\\lambda} \\right]^2}$$\n",
    "\n",
    "This is the equation of an ellipse centered at $(0,\\frac{Z}{\\lambda} \\cos \\delta)$ in the ($u$,$v$) plane, with a major axis of \n",
    "\n",
    "$a=\\frac{\\sqrt{X^2 + Y^2}}{\\lambda}$. The minor axis along the axis $v$ will be a function of $Z$, $\\delta$ and $a$.\n",
    "\n",
    "(Derivation in Appendix A.3 [EXREF])"
   ]
  },
  {
   "cell_type": "code",
   "execution_count": null,
   "metadata": {
    "collapsed": false
   },
   "outputs": [],
   "source": [
    "v0=Z/lam*np.cos(dec)/1e3\n",
    "a=np.sqrt(X**2+Y**2)/lam/1e3\n",
    "b=a\n",
    "\n",
    "print v0,a\n",
    "uu=np.linspace(-300,300,100)\n",
    "vv=np.sqrt(b**2*(1-(uu/a)**2))\n",
    "\n",
    "vv\n",
    "np.degrees(dec)"
   ]
  },
  {
   "cell_type": "markdown",
   "metadata": {},
   "source": []
  },
  {
   "cell_type": "markdown",
   "metadata": {},
   "source": []
  },
  {
   "cell_type": "markdown",
   "metadata": {},
   "source": [
    "### 4.4.1.C Special cases"
   ]
  },
  {
   "cell_type": "markdown",
   "metadata": {},
   "source": [
    "    - East-West array\n",
    "    - Polar interferometer (tracks are circle)\n",
    "    - Equatorial interferometer (tracks are straight lines)\n"
   ]
  },
  {
   "cell_type": "markdown",
   "metadata": {},
   "source": [
    "### The particular case of the East-West baseline (2-elements interferometer OR Section 3 UV space)"
   ]
  },
  {
   "cell_type": "markdown",
   "metadata": {},
   "source": [
    "Note: all uvtracks are contained in a plane (no need for W-projection, but just a correction between the $uv$ plane and the $XY$ plane"
   ]
  },
  {
   "cell_type": "markdown",
   "metadata": {},
   "source": [
    "####  In the Equatorial $XYZ$ space"
   ]
  },
  {
   "cell_type": "markdown",
   "metadata": {},
   "source": [
    "If the baseline is aligned with the East-West direction, then the Elevation $E$ of the baseline is zero and the Azimuth $A$ is $\\frac{\\pi}{2}$. Equation A simplifies as follow:"
   ]
  },
  {
   "cell_type": "markdown",
   "metadata": {},
   "source": [
    "\\begin{equation}\n",
    "\\frac{1}{\\lambda}\n",
    "\\begin{bmatrix}\n",
    "X\\\\\n",
    "Y\\\\\n",
    "Z\n",
    "\\end{bmatrix}\n",
    "=\n",
    "|\\mathbf{b_\\lambda}|\n",
    "\\begin{bmatrix}\n",
    "\\cos L_a \\sin 0 - \\sin L_a \\cos 0 \\cos \\frac{\\pi}{2}\\nonumber\\\\ \n",
    "\\cos 0 \\sin \\frac{\\pi}{2} \\nonumber\\\\\n",
    "\\sin L_a \\sin 0 + \\cos L_a \\cos 0 \\cos \\frac{\\pi}{2}\\\\\n",
    "\\end{bmatrix}\n",
    "=\n",
    "\\begin{bmatrix}\n",
    "0\\\\\n",
    "|\\mathbf{b_\\lambda}|\\\\\n",
    "0 \\\\\n",
    "\\end{bmatrix}\n",
    "\\end{equation}"
   ]
  },
  {
   "cell_type": "markdown",
   "metadata": {},
   "source": [
    "This relation does not contains $H$"
   ]
  },
  {
   "cell_type": "markdown",
   "metadata": {},
   "source": [
    "#### In the $uvw$ space"
   ]
  },
  {
   "cell_type": "markdown",
   "metadata": {},
   "source": [
    "If we observe a source at declination $\\delta_0$ but with varying Hour Angle, $H$, we will have the following relation:\n",
    "\n",
    "\\begin{equation}\n",
    "\\begin{pmatrix}\n",
    "u\\\\\n",
    "v\\\\\n",
    "\\end{pmatrix}\n",
    "=\n",
    "\\begin{pmatrix}\n",
    "\\sin H & \\cos H & 0\\\\ \n",
    "-\\sin \\delta_0 \\cos H & \\sin\\delta_0\\sin H & \\cos\\delta_0\\\\\n",
    "\\end{pmatrix} \n",
    "\\begin{pmatrix}\n",
    "0\\\\\n",
    "|\\mathbf{b_\\lambda}| \\\\\n",
    "0\n",
    "\\end{pmatrix}\n",
    "\\end{equation}\n",
    "\n",
    "\\begin{equation}\n",
    "\\begin{pmatrix}\n",
    "u\\\\\n",
    "v\\\\\n",
    "\\end{pmatrix}\n",
    "=\n",
    "\\begin{pmatrix}\n",
    "|\\mathbf{b_\\lambda}| \\cos H \\\\ \n",
    "|\\mathbf{b_\\lambda}| \\sin\\delta_0 \\sin H\\\\\n",
    "\\end{pmatrix} \n",
    "\\end{equation}\n",
    "\n",
    "when $H = 6^\\text{h}$ (West)\n",
    "\n",
    "\\begin{equation}\n",
    "\\begin{pmatrix}\n",
    "u\\\\\n",
    "v\\\\\n",
    "\\end{pmatrix}\n",
    "=\n",
    "\\begin{pmatrix}\n",
    "0 \\\\ \n",
    "|\\mathbf{b_\\lambda}|\\sin\\delta_0\\\\\n",
    "\\end{pmatrix} \n",
    "\\end{equation}\n",
    "\n",
    "when $H = 0^\\text{h}$ (South)\n",
    "\\begin{equation}\n",
    "\\begin{pmatrix}\n",
    "u\\\\\n",
    "v\\\\\n",
    "\\end{pmatrix}\n",
    "=\n",
    "\\begin{pmatrix}\n",
    "|\\mathbf{b_\\lambda}| \\\\ \n",
    "0\\\\\n",
    "\\end{pmatrix} \n",
    "\\end{equation}\n",
    "\n",
    "when $H = -6^\\text{h}$ (East)\n",
    "\n",
    "\\begin{equation}\n",
    "\\begin{pmatrix}\n",
    "u\\\\\n",
    "v\\\\\n",
    "\\end{pmatrix}\n",
    "=\n",
    "\\begin{pmatrix}\n",
    "0 \\\\ \n",
    "-|\\mathbf{b_\\lambda}|\\sin\\delta_0\\\\\n",
    "\\end{pmatrix} \n",
    "\\end{equation}\n",
    "\n",
    "In this case, one case notice that we always have a relationship between $u$, $v$ and $|\\mathbf{b_\\lambda}|$:\n",
    "\n",
    "$$ u^2+\\left( \\frac{v}{\\sin\\delta_0}\\right) ^2=|\\mathbf{b}|^2$$ \n",
    "\n",
    "<div class=warn>\n",
    "**Warning:** the $\\sin\\delta_0$ factor appearing in Eq., can be interpreted as a compression factor.\n",
    "</div>\n",
    "\n",
    "We will come back to it in Section (UVspace) [EXREF]"
   ]
  },
  {
   "cell_type": "markdown",
   "metadata": {},
   "source": []
  },
  {
   "cell_type": "markdown",
   "metadata": {},
   "source": [
    "####  From $lmn$ to ($\\alpha$, $\\delta$)"
   ]
  },
  {
   "cell_type": "markdown",
   "metadata": {},
   "source": [
    "<div class=advice>\n",
    "**Note:** The complete derivation of Eq. A from the spherical triangle **ZSSc** can be found in Appendix A.2 [INREF]\n",
    "</div>"
   ]
  },
  {
   "cell_type": "markdown",
   "metadata": {},
   "source": [
    "The quantity $\\text{b}_\\text{proj}$, namely the **projected baseline** is the module of the projection of the physical baseline *as seen* from direction $\\mathbf{s}$. It can be defined as a difference of OPDs and **depends on** the choice of the phase center."
   ]
  },
  {
   "cell_type": "markdown",
   "metadata": {},
   "source": [
    "* ($x, y, z$) - Cartesian coordinates\n",
    "* ($\\rho,\\theta,\\varphi$) - Spherical coordinates\n",
    "* ($l,m$, $n$) - Direction Cosines\n",
    "* ($X,Y$, $Z$) - Equatorial Coordinate Reference Frame (Baselines)\n",
    "* ($u,v$, $w$) - Visibility Coordinate System\n",
    "\n",
    "\n",
    "* $\\mathbf{\\hat{e}_x},\\mathbf{\\hat{e}_y},\\mathbf{\\hat{e}_z}$ - Basis for cartesian\n",
    "* $\\mathbf{\\hat{e}_{\\rho}},\\mathbf{\\hat{e}_{\\theta}},\\mathbf{\\hat{e}_{\\varphi}}$ - Basis for spherical\n",
    "* $\\mathbf{\\hat{e}_X},\\mathbf{\\hat{e}_Y},\\mathbf{\\hat{e}_Z}$ - Basis for equatorial XYZ\n",
    "* $\\mathbf{\\hat{e}_u},\\mathbf{\\hat{e}_v},\\mathbf{\\hat{e}_w}$ - Basis for uvw\n",
    "* $\\mathbf{\\hat{e}_l},\\mathbf{\\hat{e}_m},\\mathbf{\\hat{e}_n}$ - Basis for lmn"
   ]
  },
  {
   "cell_type": "markdown",
   "metadata": {},
   "source": []
  },
  {
   "cell_type": "markdown",
   "metadata": {},
   "source": []
  },
  {
   "cell_type": "markdown",
   "metadata": {
    "collapsed": true
   },
   "source": [
    "---\n",
    "* [Go back up](#beginning) <!--\\ref{beginning}--> \n",
    "* Or continue to next section: [4.4.2 UV Coverage: The N-element Interferometer -->](4_4_2_UV_Coverage_The_N-element_Interferometer.ipynb)\n",
    "---"
   ]
  },
  {
   "cell_type": "code",
   "execution_count": null,
   "metadata": {
    "collapsed": true
   },
   "outputs": [],
   "source": []
  }
 ],
 "metadata": {
  "kernelspec": {
   "display_name": "Python 2",
   "language": "python",
   "name": "python2"
  },
  "language_info": {
   "codemirror_mode": {
    "name": "ipython",
    "version": 2
   },
   "file_extension": ".py",
   "mimetype": "text/x-python",
   "name": "python",
   "nbconvert_exporter": "python",
   "pygments_lexer": "ipython2",
   "version": "2.7.6"
  }
 },
 "nbformat": 4,
 "nbformat_minor": 0
}
