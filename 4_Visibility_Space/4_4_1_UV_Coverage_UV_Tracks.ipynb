{
 "cells": [
  {
   "cell_type": "markdown",
   "metadata": {},
   "source": [
    "***\n",
    "<a id='beginning'></a> <!--\\label{beginning}-->\n",
    "* [Outline](../0_Introduction/0_introduction.ipynb)\n",
    "* [Glossary](../0_Introduction/1_glossary.ipynb)\n",
    "* [4. The Visibility space](4_0_introduction.ipynb)\n",
    "    * Previous: [4.3 The Visibility Function](4_3_The_Visibility_Function.ipynb)\n",
    "    * Next: [4.4.2 UV Coverage: The N-element Interferometer](4_4_2_UV_Coverage_The_N-element_Interferometer.ipynb)\n",
    "\n",
    "***"
   ]
  },
  {
   "cell_type": "markdown",
   "metadata": {},
   "source": [
    "Main author: Julien Girard"
   ]
  },
  {
   "cell_type": "code",
   "execution_count": 3,
   "metadata": {
    "collapsed": false
   },
   "outputs": [
    {
     "data": {
      "text/html": [
       "<style>\n",
       "\n",
       "p.prerequisites {\n",
       "    border:5px;\n",
       "    border-style:none;\n",
       "    background-color:#F0F0F0;\n",
       "    box-shadow: 5px 5px 2px #888888;\n",
       "    border-color:#FF0000;\n",
       "    padding: 1em;\n",
       "}\n",
       "\n",
       "p.conclusion {\n",
       "    border:5px;\n",
       "    border-style:none;\n",
       "    background-color:#c8ebca;\n",
       "    box-shadow: 5px 5px 2px #888888;\n",
       "    border-color:#c8ebca;\n",
       "    padding: 1em;\n",
       "}\n",
       "\n",
       "div.warn {    \n",
       "    background-color: #fcf2f2;\n",
       "    border-color: #dFb5b4;\n",
       "    border-left: 5px solid #dfb5b4;\n",
       "    padding: 0.5em;\n",
       "    }\n",
       "\n",
       "div.advice {    \n",
       "    background-color: #ecf8ed;\n",
       "    border-color: #a2dda5;\n",
       "    border-left: 5px solid #a2dda5;\n",
       "    padding: 0.5em;\n",
       "    }\n",
       " </style>\n",
       "\n",
       "\n"
      ],
      "text/plain": [
       "<IPython.core.display.HTML object>"
      ]
     },
     "execution_count": 3,
     "metadata": {},
     "output_type": "execute_result"
    }
   ],
   "source": [
    "from IPython.core.display import HTML\n",
    "styles = open(\"../style/course.css\", \"r\").read()\n",
    "HTML(styles)"
   ]
  },
  {
   "cell_type": "markdown",
   "metadata": {},
   "source": [
    "---\n",
    "# Outline\n",
    "\n",
    "### 4.4.1 UV Tracks\n",
    "\n",
    "* 4.4.1.A Observing with a baseline in time\n",
    "    - Variation of the projected baseline\n",
    "    - Motion in the (u,v) plane\n",
    "    - e.g. Earth rotation: the baseline as seen from the source\n",
    "    \n",
    "\n",
    "* 4.4.1.B Shape of the tracks\n",
    "    - dependence of baseline length\n",
    "    - Latitude of observation\n",
    "    - General case (tracks are ellipsis)\n",
    "    - parameters of the ellipsis\n",
    "    \n",
    "    \n",
    "* 4.4.1.C Special cases\n",
    "    - East-West array\n",
    "    - Polar interferometer (tracks are circle)\n",
    "    - Equatorial interferometer (tracks are straight lines)\n",
    "\n",
    "\n",
    "---\n",
    "\n",
    "---\n",
    "\n",
    "---\n"
   ]
  },
  {
   "cell_type": "markdown",
   "metadata": {
    "collapsed": true
   },
   "source": [
    "<p class=conclusion>\n",
    "  <font size=4> **Important things to remember**</font>\n",
    "  <br>\n",
    "  <br>\n",
    "  \n",
    "&bull; *The measured spatial frequency depends on the length of the **projected** baseline* <br><br>\n",
    "&bull; *The measured spatial frequency depends on the length of the **projected** baseline*\n",
    "</p>"
   ]
  },
  {
   "cell_type": "markdown",
   "metadata": {},
   "source": [
    "### The particular case of the East-West baseline (2-elements interferometer OR Section 3 UV space)"
   ]
  },
  {
   "cell_type": "markdown",
   "metadata": {},
   "source": [
    "Note: all uvtracks are contained in a plane (no need for W-projection, but just a correction between the $uv$ plane and the $XY$ plane"
   ]
  },
  {
   "cell_type": "markdown",
   "metadata": {},
   "source": [
    "####  In the Equatorial $XYZ$ space"
   ]
  },
  {
   "cell_type": "markdown",
   "metadata": {},
   "source": [
    "If the baseline is aligned with the East-West direction, then the Elevation $E$ of the baseline is zero and the Azimuth $A$ is $\\frac{\\pi}{2}$. Equation A simplifies as follow:"
   ]
  },
  {
   "cell_type": "markdown",
   "metadata": {},
   "source": [
    "\\begin{equation}\n",
    "\\frac{1}{\\lambda}\n",
    "\\begin{bmatrix}\n",
    "X\\\\\n",
    "Y\\\\\n",
    "Z\n",
    "\\end{bmatrix}\n",
    "=\n",
    "|\\mathbf{b_\\lambda}|\n",
    "\\begin{bmatrix}\n",
    "\\cos L_a \\sin 0 - \\sin L_a \\cos 0 \\cos \\frac{\\pi}{2}\\nonumber\\\\ \n",
    "\\cos 0 \\sin \\frac{\\pi}{2} \\nonumber\\\\\n",
    "\\sin L_a \\sin 0 + \\cos L_a \\cos 0 \\cos \\frac{\\pi}{2}\\\\\n",
    "\\end{bmatrix}\n",
    "=\n",
    "\\begin{bmatrix}\n",
    "0\\\\\n",
    "|\\mathbf{b_\\lambda}|\\\\\n",
    "0 \\\\\n",
    "\\end{bmatrix}\n",
    "\\end{equation}"
   ]
  },
  {
   "cell_type": "markdown",
   "metadata": {},
   "source": [
    "This relation does not contains $H$"
   ]
  },
  {
   "cell_type": "markdown",
   "metadata": {},
   "source": [
    "#### In the $uvw$ space"
   ]
  },
  {
   "cell_type": "markdown",
   "metadata": {},
   "source": [
    "If we observe a source at declination $\\delta_0$ but with varying Hour Angle, $H$, we will have the following relation:\n",
    "\n",
    "\\begin{equation}\n",
    "\\begin{pmatrix}\n",
    "u\\\\\n",
    "v\\\\\n",
    "\\end{pmatrix}\n",
    "=\n",
    "\\begin{pmatrix}\n",
    "\\sin H & \\cos H & 0\\\\ \n",
    "-\\sin \\delta_0 \\cos H & \\sin\\delta_0\\sin H & \\cos\\delta_0\\\\\n",
    "\\end{pmatrix} \n",
    "\\begin{pmatrix}\n",
    "0\\\\\n",
    "|\\mathbf{b_\\lambda}| \\\\\n",
    "0\n",
    "\\end{pmatrix}\n",
    "\\end{equation}\n",
    "\n",
    "\\begin{equation}\n",
    "\\begin{pmatrix}\n",
    "u\\\\\n",
    "v\\\\\n",
    "\\end{pmatrix}\n",
    "=\n",
    "\\begin{pmatrix}\n",
    "|\\mathbf{b_\\lambda}| \\cos H \\\\ \n",
    "|\\mathbf{b_\\lambda}| \\sin\\delta_0 \\sin H\\\\\n",
    "\\end{pmatrix} \n",
    "\\end{equation}\n",
    "\n",
    "when $H = 6^\\text{h}$ (West)\n",
    "\n",
    "\\begin{equation}\n",
    "\\begin{pmatrix}\n",
    "u\\\\\n",
    "v\\\\\n",
    "\\end{pmatrix}\n",
    "=\n",
    "\\begin{pmatrix}\n",
    "0 \\\\ \n",
    "|\\mathbf{b_\\lambda}|\\sin\\delta_0\\\\\n",
    "\\end{pmatrix} \n",
    "\\end{equation}\n",
    "\n",
    "when $H = 0^\\text{h}$ (South)\n",
    "\\begin{equation}\n",
    "\\begin{pmatrix}\n",
    "u\\\\\n",
    "v\\\\\n",
    "\\end{pmatrix}\n",
    "=\n",
    "\\begin{pmatrix}\n",
    "|\\mathbf{b_\\lambda}| \\\\ \n",
    "0\\\\\n",
    "\\end{pmatrix} \n",
    "\\end{equation}\n",
    "\n",
    "when $H = -6^\\text{h}$ (East)\n",
    "\n",
    "\\begin{equation}\n",
    "\\begin{pmatrix}\n",
    "u\\\\\n",
    "v\\\\\n",
    "\\end{pmatrix}\n",
    "=\n",
    "\\begin{pmatrix}\n",
    "0 \\\\ \n",
    "-|\\mathbf{b_\\lambda}|\\sin\\delta_0\\\\\n",
    "\\end{pmatrix} \n",
    "\\end{equation}\n",
    "\n",
    "In this case, one case notice that we always have a relationship between $u$, $v$ and $|\\mathbf{b_\\lambda}|$:\n",
    "\n",
    "$$ u^2+\\left( \\frac{v}{\\sin\\delta_0}\\right) ^2=|\\mathbf{b}|^2$$ \n",
    "\n",
    "<div class=warn>\n",
    "**Warning:** the $\\sin\\delta_0$ factor appearing in Eq., can be interpreted as a compression factor.\n",
    "</div>\n",
    "\n",
    "We will come back to it in Section (UVspace) [EXREF]"
   ]
  },
  {
   "cell_type": "markdown",
   "metadata": {},
   "source": []
  },
  {
   "cell_type": "markdown",
   "metadata": {},
   "source": [
    "####  From $lmn$ to ($\\alpha$, $\\delta$)"
   ]
  },
  {
   "cell_type": "markdown",
   "metadata": {},
   "source": [
    "<div class=advice>\n",
    "**Note:** The complete derivation of Eq. A from the spherical triangle **ZSSc** can be found in Appendix A.2 [INREF]\n",
    "</div>"
   ]
  },
  {
   "cell_type": "markdown",
   "metadata": {},
   "source": [
    "The quantity $\\text{b}_\\text{proj}$, namely the **projected baseline** is the module of the projection of the physical baseline *as seen* from direction $\\mathbf{s}$. It can be defined as a difference of OPDs and **depends on** the choice of the phase center."
   ]
  },
  {
   "cell_type": "markdown",
   "metadata": {},
   "source": [
    "* ($x, y, z$) - Cartesian coordinates\n",
    "* ($\\rho,\\theta,\\varphi$) - Spherical coordinates\n",
    "* ($l,m$, $n$) - Direction Cosines\n",
    "* ($X,Y$, $Z$) - Equatorial Coordinate Reference Frame (Baselines)\n",
    "* ($u,v$, $w$) - Visibility Coordinate System\n",
    "\n",
    "\n",
    "* $\\mathbf{\\hat{e}_x},\\mathbf{\\hat{e}_y},\\mathbf{\\hat{e}_z}$ - Basis for cartesian\n",
    "* $\\mathbf{\\hat{e}_{\\rho}},\\mathbf{\\hat{e}_{\\theta}},\\mathbf{\\hat{e}_{\\varphi}}$ - Basis for spherical\n",
    "* $\\mathbf{\\hat{e}_X},\\mathbf{\\hat{e}_Y},\\mathbf{\\hat{e}_Z}$ - Basis for equatorial XYZ\n",
    "* $\\mathbf{\\hat{e}_u},\\mathbf{\\hat{e}_v},\\mathbf{\\hat{e}_w}$ - Basis for uvw\n",
    "* $\\mathbf{\\hat{e}_l},\\mathbf{\\hat{e}_m},\\mathbf{\\hat{e}_n}$ - Basis for lmn"
   ]
  },
  {
   "cell_type": "markdown",
   "metadata": {},
   "source": []
  },
  {
   "cell_type": "markdown",
   "metadata": {},
   "source": []
  },
  {
   "cell_type": "markdown",
   "metadata": {
    "collapsed": true
   },
   "source": [
    "---\n",
    "* [Go back up](#beginning) <!--\\ref{beginning}--> \n",
    "* Or continue to next section: [4.4.2 UV Coverage: The N-element Interferometer -->](4_4_2_UV_Coverage_The_N-element_Interferometer.ipynb)\n",
    "---"
   ]
  },
  {
   "cell_type": "code",
   "execution_count": null,
   "metadata": {
    "collapsed": true
   },
   "outputs": [],
   "source": []
  }
 ],
 "metadata": {
  "kernelspec": {
   "display_name": "Python 2",
   "language": "python",
   "name": "python2"
  },
  "language_info": {
   "codemirror_mode": {
    "name": "ipython",
    "version": 2
   },
   "file_extension": ".py",
   "mimetype": "text/x-python",
   "name": "python",
   "nbconvert_exporter": "python",
   "pygments_lexer": "ipython2",
   "version": "2.7.6"
  }
 },
 "nbformat": 4,
 "nbformat_minor": 0
}
