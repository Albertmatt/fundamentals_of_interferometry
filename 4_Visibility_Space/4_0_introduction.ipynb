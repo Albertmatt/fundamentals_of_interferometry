{
 "cells": [
  {
   "cell_type": "markdown",
   "metadata": {},
   "source": [
    "***\n",
    "<a id='beginning'></a> <!--\\label{beginning}-->\n",
    "* [Outline](../0_Introduction/0_introduction.ipynb)\n",
    "* [Glossary](../0_Introduction/1_glossary.ipynb)\n",
    "* [4. The Visibility space](#)\n",
    "    * Previous Chapter: [3. Positional Astronomy](../3_Positional_Astronomy/3_0_introduction.ipynb)\n",
    "\n",
    "    * Next: [4.1 The Baseline and its representations in space](4_1_The_Baseline.ipynb)\n",
    "\n",
    "***"
   ]
  },
  {
   "cell_type": "markdown",
   "metadata": {},
   "source": [
    "Import standard modules:"
   ]
  },
  {
   "cell_type": "code",
   "execution_count": null,
   "metadata": {
    "collapsed": false
   },
   "outputs": [],
   "source": [
    "import numpy as np\n",
    "import matplotlib.pyplot as plt\n",
    "%matplotlib inline\n",
    "from IPython.display import HTML \n",
    "HTML('../style/course.css') #apply general CSS"
   ]
  },
  {
   "cell_type": "markdown",
   "metadata": {},
   "source": [
    "# Chapter 4: The Visibility Space<a id='visibility:sec:intro'></a>"
   ]
  },
  {
   "cell_type": "markdown",
   "metadata": {},
   "source": [
    "An interferometric array consists of individual antenna elements, the correlation between each pair of elements is a measurement of the visibility space. This is the fundamental measurement in interferometry and make it possible to reconstruct images of the sky with an interferometric array. The geometric separation of any pair of elements is called a *baseline* and is where this chapter begins. Before addressing more complex cases, we introduce in [$\\S$ 4.2 &#10142;](4_2_The_2-element_Interferometer.ipynb), the concept of baseline and its representations in space, given the various reference frames defined in the previous chapter. The notion of baseline is necessary to address the simple case of a 2-element interferometer in [$\\S$ 4.3 &#10142;](4_3_The_Visibility_Function.ipynb). This simple interferometer can be seen as a probing tool that samples the visibility function, associated with the intensity distribution of the sky. Depending on the location of the interferometer on Earth, this function can be probed along *uv* tracks defined in [$\\S$ 4.4.1 &#10142;](4_4_1_UV_Coverage_UV_Tracks.ipynb). In [$\\S$ 4.4.2 &#10142;](4_4_2_UV_Coverage_Improving_Your_Coverage.ipynb), we investigate how improving the *uv* coverage can be enriched by the sampling of the visibility function. In the final section [$\\S$ 4.5 &#10142;](4_5_The_Fourier_Approximation_VanCittert-Zernike_Theorem.ipynb), we express the Van Cittert-Zernike theorem, which, using certain approximations, links the intensity distribution of the sky to the interfemetric measurements by a Fourier relationship. Based on this relationship, imaging by aperture synthesis is possible."
   ]
  },
  {
   "cell_type": "markdown",
   "metadata": {},
   "source": [
    "#### Chapter Outline\n",
    "\n",
    "1. [The Baseline and Its Representation in Space](4_1_The_Baseline.ipynb)\n",
    "2. [The 2-element Interferometer](4_2_The_2-element_Interferometer.ipynb)\n",
    "3. [The Visibility Function](4_3_The_Visibility_Function.ipynb)\n",
    "4. UV Coverage\n",
    "    1. [UV Tracks](4_4_1_UV_Coverage_UV_Tracks.ipynb)\n",
    "    2. [Improving Your Coverage](4_4_2_UV_Coverage_Improving_Your_Coverage.ipynb)\n",
    "5. [The Van Cittert-Zernike Theorem](4_5_The_Fourier_Approximation_VanCittert-Zernike_Theorem.ipynb)\n",
    "6. [Further Reading and References](4_x_further_reading_and_references.ipynb)"
   ]
  },
  {
   "cell_type": "markdown",
   "metadata": {},
   "source": [
    "#### Chapter Editors\n",
    "\n",
    "* Landman Bester\n",
    "* Griffin Foster\n",
    "* Trienko Grobler\n",
    "* Modhurita Mitra\n",
    "\n",
    "#### Chapter Contributors\n",
    "\n",
    "* Julien Girard (**4.0**, **4.1**, **4.2**, **4.3**, **4.4**, **4.5**)"
   ]
  },
  {
   "cell_type": "markdown",
   "metadata": {},
   "source": [
    "***\n",
    "\n",
    "Next: [4.1 The Baseline and Its Representations in Space](4_1_The_Baseline.ipynb)"
   ]
  }
 ],
 "metadata": {
  "kernelspec": {
   "display_name": "Python 2",
   "language": "python",
   "name": "python2"
  },
  "language_info": {
   "codemirror_mode": {
    "name": "ipython",
    "version": 2
   },
   "file_extension": ".py",
   "mimetype": "text/x-python",
   "name": "python",
   "nbconvert_exporter": "python",
   "pygments_lexer": "ipython2",
   "version": "2.7.6"
  }
 },
 "nbformat": 4,
 "nbformat_minor": 0
}
