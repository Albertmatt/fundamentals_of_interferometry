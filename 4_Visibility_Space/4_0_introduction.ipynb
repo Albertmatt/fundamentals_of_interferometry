{
 "cells": [
  {
   "cell_type": "markdown",
   "metadata": {},
   "source": [
    "***\n",
    "<a id='beginning'></a> <!--\\label{beginning}-->\n",
    "* [Outline](../0_Introduction/0_introduction.ipynb)\n",
    "* [Glossary](../0_Introduction/1_glossary.ipynb)\n",
    "* [4. The Visibility space](#)\n",
    "    * Previous Chapter: [3. Positional Astronomy](../3_Positional_Astronomy/3_0_introduction.ipynb)\n",
    "\n",
    "    * Next: [4.1 The Baseline and its representations in space](4_1_The_Baseline.ipynb)\n",
    "\n",
    "***"
   ]
  },
  {
   "cell_type": "code",
   "execution_count": 2,
   "metadata": {
    "collapsed": false
   },
   "outputs": [
    {
     "data": {
      "text/html": [
       "<style>\n",
       "\n",
       "p.prerequisites {\n",
       "    border:5px;\n",
       "    border-style:none;\n",
       "    background-color:#F0F0F0;\n",
       "    box-shadow: 5px 5px 2px #888888;\n",
       "    border-color:#FF0000;\n",
       "    padding: 1em;\n",
       "    }\n",
       "\n",
       "p.conclusion {\n",
       "    border:5px;\n",
       "    border-style:none;\n",
       "    background-color:#c8ebca;\n",
       "    box-shadow: 5px 5px 2px #888888;\n",
       "    border-color:#c8ebca;\n",
       "    padding: 1em;\n",
       "    }\n",
       "\n",
       "div.warn {    \n",
       "    background-color: #fcf2f2;\n",
       "    border-color: #dFb5b4;\n",
       "    border-left: 5px solid #dfb5b4;\n",
       "    padding: 0.5em;\n",
       "    }\n",
       "\n",
       "div.advice {    \n",
       "    background-color: #ecf8ed;\n",
       "    border-color: #a2dda5;\n",
       "    border-left: 5px solid #a2dda5;\n",
       "    padding: 0.5em;\n",
       "    }\n",
       "\n",
       "</style>\n",
       "\n"
      ],
      "text/plain": [
       "<IPython.core.display.HTML object>"
      ]
     },
     "execution_count": 2,
     "metadata": {},
     "output_type": "execute_result"
    }
   ],
   "source": [
    "from IPython.core.display import HTML\n",
    "import numpy as np\n",
    "from ipywidgets import interact\n",
    "import matplotlib.pyplot as plt\n",
    "%matplotlib inline\n",
    "styles = open(\"../style/course.css\", \"r\").read()\n",
    "HTML(styles)"
   ]
  },
  {
   "cell_type": "markdown",
   "metadata": {},
   "source": [
    "linking style:\n",
    "\n",
    "external link:  1. [<cite data-cite='Duffett2011'>Practical Astronomy with your calculator or spreadsheet </cite> &#10548;](https://books.google.co.za/books?hl=en&lr=&id=MTGYxQyW998C&oi=fnd&pg=PR11&dq=astronomy+with+your+calculator+or+spreadsheet&ots=UMdQUtKo_H&sig=_mzKBeqEF4IJOEoVcvU2fC50Wug#v=onepage&q=astronomy%20with%20your%20calculator%20or%20spreadsheet&f=false) : forms the backbone of this chapter and is its main reference.\n",
    "\n",
    "\n",
    "in chapter: [Fig. 3.2 &#10549;](#pos:fig:geo).\n",
    "\n",
    "another notebook: (see Appendix [Appendix &#10142;](../0_Introduction/2_Appendix.ipynb))."
   ]
  },
  {
   "cell_type": "markdown",
   "metadata": {},
   "source": [
    "# Chapter 4: The visibility space<a id='visibility:sec:intro'></a>"
   ]
  },
  {
   "cell_type": "markdown",
   "metadata": {},
   "source": [
    "Radio interferometry relies on a specific combination of measurements from single antennas.\n",
    "In this chapter, we will address the core of this course, the measurement with an interferometer. \n",
    "In the first section, we will give a short introduction on the motivations and advantages for using interferometers.\n",
    "Before addressing more complex cases, we introduce in [$\\S$4.2](4_2_The_2-element_Interferometer.ipynb), the concept of baseline and its representations in space, given the various reference frames defined in the previous chapter.\n",
    "The notion of baseline is necessary to address the simple case of a 2-element interferometer in [$\\S$4.3](4_3_The_Visibility_Function.ipynb).\n",
    "This simple interferometer can be seen as a probing tool that samples the visibility function, associated with the intensity distribution of the sky. Depending on the location of the interferometer on Earth, this function can be probed along $uv$ tracks defined in [$\\S$4.4.1](4_4_1_UV_Coverage_UV_Tracks.ipynb). We will then in [$\\S$4.4.2](4_4_2_UV_Coverage_Improving_Your_Coverage.ipynb), investigate how can be enriched the sampling of the visibility function.\n",
    "In the concluding [$\\S$5](4_5_The_Fourier_Approximation_VanCittert-Zernike_Theorem.ipynb), we will express the Van Cittert-Zernike theorem, which, under a series of approximation, links the intensity distribution of the sky to the interfemetric measurements by a Fourier relationship. Based on this relationship, imaging by aperture synthesis is possible."
   ]
  },
  {
   "cell_type": "markdown",
   "metadata": {},
   "source": [
    "#### Chapter Outline\n",
    "\n",
    "1. [The Baseline](4_1_The_Baseline.ipynb)\n",
    "2. [The 2-element Interferometer](4_2_The_2-element_Interferometer.ipynb)\n",
    "3. [The Visibility Function:](4_3_The_Visibility_Function.ipynb)<br>\n",
    "4.1. [UV Coverage: UV Tracks](4_4_1_UV_Coverage_UV_Tracks.ipynb)<br>\n",
    "4.2. [UV Coverage: Improving Your Coverage](4_4_2_UV_Coverage_Improving_Your_Coverage.ipynb)\n",
    "5. [The Fourier Approximation Van Cittert-Zernike Theorem](4_5_The_Fourier_Approximation_VanCittert-Zernike_Theorem.ipynb)\n",
    "6. [Further Reading and References](4_x_further_reading_and_references.ipynb)\n",
    "7. [Appendix](4_Appendix.ipynb)"
   ]
  },
  {
   "cell_type": "markdown",
   "metadata": {},
   "source": [
    "#### Chapter Editors\n",
    "* Landman Bester\n",
    "\n",
    "#### Chapter Contributors\n",
    "\n",
    "* Julien Girard (**4.0**, **4.1**, **4.2**, **4.3**, **4.4**, **4.5**)"
   ]
  },
  {
   "cell_type": "markdown",
   "metadata": {},
   "source": [
    "---\n",
    "Next: [4.1 The Baseline and its representations in space](4_1_The_Baseline.ipynb)"
   ]
  }
 ],
 "metadata": {
  "kernelspec": {
   "display_name": "Python 2",
   "language": "python",
   "name": "python2"
  },
  "language_info": {
   "codemirror_mode": {
    "name": "ipython",
    "version": 2
   },
   "file_extension": ".py",
   "mimetype": "text/x-python",
   "name": "python",
   "nbconvert_exporter": "python",
   "pygments_lexer": "ipython2",
   "version": "2.7.6"
  }
 },
 "nbformat": 4,
 "nbformat_minor": 0
}
