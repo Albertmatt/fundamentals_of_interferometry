{
 "cells": [
  {
   "cell_type": "markdown",
   "metadata": {},
   "source": [
    "***\n",
    "<a id='beginning'></a> <!--\\label{beginning}-->\n",
    "* [Outline](../0_Introduction/0_introduction.ipynb)\n",
    "* [Glossary](../0_Introduction/1_glossary.ipynb)\n",
    "* [4. The Visibility space](#)\n",
    "    * Previous Chapter: [3. Positional Astronomy](../3_Positional_Astronomy/3_0_introduction.ipynb)\n",
    "\n",
    "    * Next: [4.1 The Baseline and its representations in space](4_1_The_Baseline.ipynb)\n",
    "\n",
    "***"
   ]
  },
  {
   "cell_type": "code",
   "execution_count": 2,
   "metadata": {
    "collapsed": false
   },
   "outputs": [
    {
     "data": {
      "text/html": [
       "<style>\n",
       "\n",
       "p.prerequisites {\n",
       "    border:5px;\n",
       "    border-style:double;\n",
       "    background-color:#FFFFFF;\n",
       "    box-shadow: 5px 5px 2px #888888;\n",
       "    border-color:#FF0000;\n",
       "    padding: 1em;\n",
       "}\n",
       "\n",
       "p.conclusion {\n",
       "    border:5px;\n",
       "    border-style:none;\n",
       "    background-color:#c8ebca;\n",
       "    box-shadow: 5px 5px 2px #888888;\n",
       "    border-color:#c8ebca;\n",
       "    padding: 1em;\n",
       "}\n",
       "\n",
       "div.warn {    \n",
       "    background-color: #fcf2f2;\n",
       "    border-color: #dFb5b4;\n",
       "    border-left: 5px solid #dfb5b4;\n",
       "    padding: 0.5em;\n",
       "    }\n",
       "\n",
       "div.advice {    \n",
       "    background-color: #ecf8ed;\n",
       "    border-color: #a2dda5;\n",
       "    border-left: 5px solid #a2dda5;\n",
       "    padding: 0.5em;\n",
       "    }\n",
       " </style>\n",
       "\n",
       "\n"
      ],
      "text/plain": [
       "<IPython.core.display.HTML object>"
      ]
     },
     "execution_count": 2,
     "metadata": {},
     "output_type": "execute_result"
    }
   ],
   "source": [
    "#import initpython # containing all \"hidden\" packages (including CSS reader, and apply CSS style)\n",
    "from initpython import *\n",
    "css_styling()"
   ]
  },
  {
   "cell_type": "markdown",
   "metadata": {},
   "source": [
    "# Chapter layout\n",
    "\n",
    "\n",
    "<div class=warn>\n",
    "**Warnings:** <br>\n",
    "- **Current layout might change again (potential rebalancing)**<br>\n",
    "- **Following titles and subtitles does not follow the style guide for better compacity** <br>\n",
    "- **Extended layout can be found on each python notebook associated with a link below**\n",
    "</div>\n",
    "\n",
    "### 4.0 Introduction: Why Interferometry ? [link](4_0_introduction.ipynb)\n",
    "\n",
    "#### 4.0.1 Limits of a single dish telescope \n",
    "#### 4.0.2 From an optical parabolic dish to a radio interferometer\n",
    "#### 4.0.3 Parabola as a continuous interferometer (! might move after baseline subsection)\n",
    "\n",
    "\n",
    "**\n",
    "\n",
    "\n",
    "### 4.1 The Baseline and its representations in space [link](4_1_The_Baseline.ipynb)\n",
    "#### Intro\n",
    "#### 4.1.1 The physical baseline\n",
    "   * 4.1.1.A Local definition of the baseline vector\n",
    "   * 4.1.1.B Global definition in the (E,N,U) reference frame\n",
    "   \n",
    "#### 4.1.2 The concept of projected baseline   \n",
    "   * 4.1.2.A Direction of observation - Concept of phase center      \n",
    "   * 4.1.2.B Projection of the baseline\n",
    "   * 4.1.2.C The Equatorial representation (X,Y,Z)\n",
    "   * 4.1.2.D The ($u$,$v$,$w$) space\n",
    "   \n",
    "#### 4.1.3 Conversion between systems\n",
    "\n",
    "\n",
    "***\n",
    "\n",
    "\n",
    "## 4.2 The 2-element Interferometer: a spatial filter [link](4_2_The_2-element_Interferometer.ipynb)\n",
    "#### Intro\n",
    "\n",
    "#### 4.2.1 From optical to radio interferometry\n",
    "* 4.2.1.A Back to the basics: Physical Optics Interferometry \n",
    "* 4.2.1.B Properties of the Fringe pattern \n",
    "* 4.2.1.C Using the fringe pattern as a spatial filter\n",
    "    \n",
    "    \n",
    "#### 4.2.2 Realistic implementation: from the \"$\\cos$\" & \"$\\sin$\" interferometers to the complex interferometer\n",
    "\n",
    "* 4.2.2.A First approach of 2-antenna correlation: the $\\cos$ interferometer\n",
    "* 4.2.2.B The $\\sin$ interferometer\n",
    "* 4.2.2.C The Complex interferometer\n",
    "\n",
    "\n",
    "***\n",
    "\n",
    "\n",
    "## 4.3 The Visibility Function [link](4_3_The_Visibility_Function.ipynb)\n",
    "#### Intro\n",
    "\n",
    "#### 4.3.1 Mathematical definition of the complex visibility\n",
    "(mostly recasting properly what was already defined in 4.2)\n",
    "* 4.3.1.A Source coherency / Brigthness temperature\n",
    "* 4.3.1.B Expression of the fringe pattern\n",
    "* 4.3.1.C  Mathematical definition of the complex visibility\n",
    "\n",
    "#### 4.3.2 Understanding & Working with Visibility Functions\n",
    "* 4.3.2.A Representation of the visibility function\n",
    "* 4.3.2.B Class of sources with different visibility functions\n",
    "* 4.3.2.C Ilustration: guessing the properties of a source without imaging\n",
    "\n",
    "\n",
    "***\n",
    "\n",
    "\n",
    "## 4.4 UV Coverage: [link](4_4_1_UV_Coverage_UV_Tracks.ipynb)\n",
    "#### Intro\n",
    "#### 4.4.1 UV Tracks [link](4_4_1_UV_Coverage_UV_Tracks.ipynb)\n",
    "\n",
    "* 4.4.1.A Observing with a baseline in time\n",
    "* 4.4.1.B Shape of the tracks\n",
    "* 4.4.1.C Special cases\n",
    "\n",
    "#### 4.4.2 The_N-element_Interferometer_and_UV_Coverage  [link](4_4_2_UV_Coverage_The_N-element_Interferometer.ipynb)\n",
    "* Intro: why optimizing the position of antennas in an array ?\n",
    "* 4.4.2.A Instantaneous coverage\n",
    "* 4.4.1.B Examples of characteristic UV coverage\n",
    "\n",
    "#### 4.4.3 Improving Your Coverage [link](4_4_3_UV_Coverage_Improving_Your_Coverage.ipynb)\n",
    "\n",
    "* Intro: how to accumulate more samples from the sky? (reconfiguration, time, frequency integration)\n",
    "* 4.4.3.A reconfiguration of your array (e.g. VLA) \n",
    "* 4.4.3.B Integration in time: Earth Rotation Synthesis     \n",
    "* 4.4.3.C Integration in time: Earth Rotation Synthesis\n",
    "\n",
    "\n",
    "#### 4.4.4 Limits of integration [link](4_4_4_UV_Coverage_Limits_of_integration.ipynb)\n",
    "\n",
    "* Intro: (basically \"nothing comes for free\")\n",
    "* 4.4.4.A Coherency & losing coherency\n",
    "* 4.4.4.B Limits to time integration: Time smearing  \n",
    "* 4.4.4.C Limits to frequency integration: Bandwidth smearing\n",
    "\n",
    "\n",
    "***\n",
    "\n",
    "\n",
    "## 4.5 The Fourier Approximation & Van Cittert-Zernike Theorem [link](4_5_The_Fourier_Approximation_VanCittert-Zernike_Theorem.ipynb)\n",
    "#### Intro\n",
    "- Real world Problems\n",
    "\n",
    "#### 4.5.1 Fourier approximations\n",
    "Note: from the source to the observer\n",
    "      \n",
    "* 4.5.1.A Mutual incoherence of the source & monochromaticity\n",
    "* 4.5.1.B Medium homogeneity \n",
    "* 4.5.1.D Far-field approximation\n",
    "* 4.5.1.C Small-field approximation\n",
    "* 4.5.1.B Coplanar array\n",
    "* 4.5.1.C Narrowband approximation &\n",
    "* 4.5.1.E Continuous sampling approximation\n",
    "\n",
    "#### 4.5.2 Van Cittert-Zernike Theorem\n",
    "\n",
    "* 4.5.2.A Formulation\n",
    "* 4.5.2.B A Demonstration    \n",
    "* 4.5.2.C Consequences\n",
    " \n",
    "* ** Note: Straightforward demonstration using the RIME (link to Oleg)**\n",
    "* ** Note2: Foreword for linking with imaging / deconvolution**\n",
    "\n",
    "## Chapter Concluding remarks\n",
    "***\n",
    "\n",
    "## 4.6 Further Reading And References [link](4_6_Further_Reading_And_References.ipynb)\n",
    "\n",
    "***\n",
    "\n",
    "#### SIMULATIONS:\n",
    "\n",
    "#### SIM A: UV Coverage\n",
    "\n",
    "Simulation for different (simple) arrays vs. observing time/direction\n",
    "\n",
    "#### SIM B: Computing Visibilities Manually\n",
    "\n",
    "Given a set of baselines, compute the Sum_fov( fringe pattern x Sky ) \n",
    "\n"
   ]
  },
  {
   "cell_type": "markdown",
   "metadata": {
    "collapsed": true
   },
   "source": [
    "***\n",
    "***\n",
    "***"
   ]
  },
  {
   "cell_type": "markdown",
   "metadata": {
    "collapsed": true
   },
   "source": [
    "## Chapter 4. Introduction: Why Interferometry ?"
   ]
  },
  {
   "cell_type": "markdown",
   "metadata": {},
   "source": [
    "### 4.0.1 Limits of a single dish telescope \n",
    "\n",
    "List of (scientific) motivations:\n",
    "- more and more collecting area $-$ $A_\\text{eff} \\propto D^2$\n",
    "- thinner angular resolution $-$ $\\lambda / D$\n",
    "\n",
    "\n",
    "=> Larger and larger collecting size\n",
    "\n",
    "Limitations:\n",
    "- Mechanical limitations\n",
    "steerable dishes ($d\\leq 100m$) e.g. Green Bank (zapped), Effelsberg\n",
    "steered focus ($d\\sim 300m$) e.g. Arecibo, Nançay Radio Telescope\n",
    "\n",
    "- E.M. impacts of structure on the beam pattern (links to receivers section)\n",
    "\n",
    "Basic principle of interferometry\n"
   ]
  },
  {
   "cell_type": "markdown",
   "metadata": {},
   "source": [
    "<img src=\"images/GBTcollapse.jpg\" width=\"80%\"/>"
   ]
  },
  {
   "cell_type": "markdown",
   "metadata": {
    "collapsed": true
   },
   "source": [
    "<div align=\"center\">**Figure 1**: 300-feet Greenbank Telescope <br>\n",
    "Before (left) & after (middle) collapsing and (right) tabloid article<br>\n",
    "</div>"
   ]
  },
  {
   "cell_type": "markdown",
   "metadata": {},
   "source": [
    "### 4.0.2 From an optical parabolic dish to a radio interferometer\n",
    "\n",
    "(Inspired from Oleg's slides)\n",
    "* Optical telescope (one piece mirror)\n",
    "* (segmented mirrors)\n",
    "* conversion from optical received to radio receiver (electronic)\n",
    "* moving focus away from the dish (with cable)\n",
    "* moving pieces of collector on the ground\n",
    "* ...all pieces\n",
    "* Each piece can itself be a small \"manageable\" parabola\n",
    "\n",
    "While keeping the \"Parabola\" characteristic of the dish (playing with cable delays...)"
   ]
  },
  {
   "cell_type": "markdown",
   "metadata": {},
   "source": [
    "### 4.0.3 Parabola as a continuous interferometer (! might move after baseline subsection)\n",
    "(inspired from Rick Perley NRAO course)\n",
    "* Continuous distribution of baselines\n",
    "* Aperture auto-correlation: Wiener-Khinchin Theorem\n",
    "* Aperture synthesis => try to recreate an aperture with enhanced characteristics\n"
   ]
  },
  {
   "cell_type": "markdown",
   "metadata": {
    "collapsed": true
   },
   "source": [
    "<p class=conclusion>\n",
    "  <font size=4> **Important things to remember**</font>\n",
    "  <br>\n",
    "  <br>\n",
    "  \n",
    "&bull; *The measured spatial frequency depends on the length of the **projected** baseline* <br><br>\n",
    "&bull; *The measured spatial frequency depends on the length of the **projected** baseline*\n",
    "</p>\n"
   ]
  },
  {
   "cell_type": "markdown",
   "metadata": {},
   "source": [
    "---\n",
    "* [Go back up](#beginning) <!--\\ref{beginning}--> \n",
    "* Or continue to next section: [4.1 The Baseline and its representations in space](4_1_The_Baseline.ipynb)\n",
    "---"
   ]
  },
  {
   "cell_type": "code",
   "execution_count": null,
   "metadata": {
    "collapsed": true
   },
   "outputs": [],
   "source": []
  }
 ],
 "metadata": {
  "kernelspec": {
   "display_name": "Python 2",
   "language": "python",
   "name": "python2"
  },
  "language_info": {
   "codemirror_mode": {
    "name": "ipython",
    "version": 2
   },
   "file_extension": ".py",
   "mimetype": "text/x-python",
   "name": "python",
   "nbconvert_exporter": "python",
   "pygments_lexer": "ipython2",
   "version": "2.7.6"
  }
 },
 "nbformat": 4,
 "nbformat_minor": 0
}
