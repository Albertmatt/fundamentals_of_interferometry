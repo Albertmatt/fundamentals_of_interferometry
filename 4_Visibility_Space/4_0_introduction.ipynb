{
 "cells": [
  {
   "cell_type": "markdown",
   "metadata": {},
   "source": [
    "***\n",
    "<a id='beginning'></a> <!--\\label{beginning}-->\n",
    "* [Outline](../0_Introduction/0_introduction.ipynb)\n",
    "* [Glossary](../0_Introduction/1_glossary.ipynb)\n",
    "* [4. The Visibility space](#)\n",
    "    * Previous Chapter: [3. Positional Astronomy](../3_Positional_Astronomy/3_0_introduction.ipynb)\n",
    "\n",
    "    * Next: [4.1 The Baseline and its representations in space](4_1_The_Baseline.ipynb)\n",
    "\n",
    "***"
   ]
  },
  {
   "cell_type": "code",
   "execution_count": 59,
   "metadata": {
    "collapsed": false
   },
   "outputs": [
    {
     "data": {
      "text/html": [
       "<style>\n",
       "\n",
       "p.prerequisites {\n",
       "    border:5px;\n",
       "    border-style:none;\n",
       "    background-color:#F0F0F0;\n",
       "    box-shadow: 5px 5px 2px #888888;\n",
       "    border-color:#FF0000;\n",
       "    padding: 1em;\n",
       "}\n",
       "\n",
       "p.conclusion {\n",
       "    border:5px;\n",
       "    border-style:none;\n",
       "    background-color:#c8ebca;\n",
       "    box-shadow: 5px 5px 2px #888888;\n",
       "    border-color:#c8ebca;\n",
       "    padding: 1em;\n",
       "}\n",
       "\n",
       "div.warn {    \n",
       "    background-color: #fcf2f2;\n",
       "    border-color: #dFb5b4;\n",
       "    border-left: 5px solid #dfb5b4;\n",
       "    padding: 0.5em;\n",
       "    }\n",
       "\n",
       "div.advice {    \n",
       "    background-color: #ecf8ed;\n",
       "    border-color: #a2dda5;\n",
       "    border-left: 5px solid #a2dda5;\n",
       "    padding: 0.5em;\n",
       "    }\n",
       " </style>\n",
       "\n",
       "\n"
      ],
      "text/plain": [
       "<IPython.core.display.HTML object>"
      ]
     },
     "execution_count": 59,
     "metadata": {},
     "output_type": "execute_result"
    }
   ],
   "source": [
    "from IPython.core.display import HTML\n",
    "import numpy as np\n",
    "from ipywidgets import interact\n",
    "import matplotlib.pyplot as plt\n",
    "%matplotlib inline\n",
    "styles = open(\"../style/course.css\", \"r\").read()\n",
    "HTML(styles)"
   ]
  },
  {
   "cell_type": "markdown",
   "metadata": {},
   "source": [
    "Main author: Julien Girard"
   ]
  },
  {
   "cell_type": "markdown",
   "metadata": {},
   "source": [
    "## Section 4.0 $-$ Introduction: Why Interferometry ?\n",
    "\n",
    "### 4.0.1 Limits of a single dish telescope \n",
    "\n",
    "#### 4.0.1.A Aperture diameter and angular resolution\n",
    "\n",
    "#### 4.0.1.B Physical limitations of apertures\n",
    "\n",
    "### 4.0.2 From a single optical parabolic telescope to a radio interferometer with multiple elements\n",
    "#### 4.0.2.A Optical conjugation / Parabola\n",
    "#### 4.0.2.B Step-by-step construction of an interferometer\n",
    "#### 4.0.2.C Ever larger instruments\n",
    "---"
   ]
  },
  {
   "cell_type": "markdown",
   "metadata": {
    "collapsed": true
   },
   "source": [
    "## Section 4.0 $-$ Introduction: Why Interferometry ?"
   ]
  },
  {
   "cell_type": "markdown",
   "metadata": {},
   "source": [
    "### 4.0.1 Limits of a single dish telescope \n",
    "\n",
    "#### 4.0.1.A Aperture diameter and angular resolution"
   ]
  },
  {
   "cell_type": "markdown",
   "metadata": {},
   "source": [
    "As you have seen in Chapter 1, the basic properties of a radio antenna can be summarized in the two following quantities:\n",
    "if $D$ is the diameter of the primary reflector (by making the approximation that it has a disk aperture).\n",
    "\n",
    "- The collecting area: $A_\\text{eff} \\propto D^2$\n",
    "- The angular resolution: $ \\delta \\theta \\propto \\frac{\\lambda}{D} $\n",
    "\n",
    "The *sensitivity* of an antenna is directly inversely proportional to the collecting area, and the angular separability of the instrument is inversely proportional to the reflector diameter.\n",
    "\n",
    "To improve both the sensitivity and angular resolution of a single telescope, a natural way is to increase the size of the collecting dish by simply increasing its diameter."
   ]
  },
  {
   "cell_type": "markdown",
   "metadata": {},
   "source": [
    "The following table shows the angular resolution as a function of diameter $D$ for single piece optical telescope used in the amateur and professional observing astronomy. We also show for Infrared, high frequency (HF) Radio wavelength and Low frequency (LF) radio wavelengths, what should be the value of $D$ to achieve the same angular resolution as that in visible."
   ]
  },
  {
   "cell_type": "markdown",
   "metadata": {},
   "source": [
    "<table width=\"100%\" border=\"0\">\n",
    "<col width=\"200\">\n",
    "<col width=\"100\">\n",
    "<tr >\n",
    "<td> </td>\n",
    "<td style=\"text-align:center\"> <b> Diameter $D$ </b> </td>\n",
    "<td style=\"text-align:center\"> <b> Visible </b> <br>($\\lambda$ = 500 nm)</td>\n",
    "<td style=\"text-align:center\"> <b> Infrared </b><br> ($\\lambda$ = 10 $\\mu$m) </td>\n",
    "<td style=\"text-align:center\"> <b> Radio HF </b><br>($\\lambda$ = 10 mm) </td>\n",
    "<td style=\"text-align:center\"> <b> Radio LF </b><br> ($\\lambda$ = 1 m) </td>\n",
    "</tr>\n",
    "<tr>\n",
    "<td><img src=\"figures/meade.png\" width=\"50%\"/> </td>\n",
    "<td style=\"text-align:center\"> 15 cm </td>\n",
    "<td style=\"text-align:center\"> 0,8'' </td>\n",
    "<td style=\"text-align:center\"> $D=3$ m </td>\n",
    "<td style=\"text-align:center\"> $D=3$ km </td>\n",
    "<td style=\"text-align:center\"> $D=300$ km </td>\n",
    "</tr>\n",
    "<tr>\n",
    "<td><img src=\"figures/dobson.png\" width=\"50%\"/> </td>\n",
    "<td style=\"text-align:center\"> 50 cm  </td>\n",
    "<td style=\"text-align:center\"> 0,25'' </td>\n",
    "<td style=\"text-align:center\"> $D=10$ m </td>\n",
    "<td style=\"text-align:center\"> $D=10$ km </td>\n",
    "<td style=\"text-align:center\"> $D=1000$ km </td>\n",
    "</tr>\n",
    "<tr>\n",
    "<td><img src=\"figures/meudon.png\" width=\"50%\"/> </td>\n",
    "<td style=\"text-align:center\"> 1 m</td>\n",
    "<td style=\"text-align:center\"> 0,12'' </td>\n",
    "<td style=\"text-align:center\"> $D=21$ m </td>\n",
    "<td style=\"text-align:center\"> $D=21$ km </td>\n",
    "<td style=\"text-align:center\"> $D=2100$ km </td>\n",
    "\n",
    "</tr>\n",
    "<tr>\n",
    "<td><img src=\"figures/subaru.png\" width=\"30%\"/> </td>\n",
    "<td style=\"text-align:center\"> 8 m</td>\n",
    "<td style=\"text-align:center\"> 0,015'' (15 mas) </td>\n",
    "<td style=\"text-align:center\"> $D=168$ m </td>\n",
    "<td style=\"text-align:center\"> $D=168$ km </td>\n",
    "<td style=\"text-align:center\"> $D=16800$ km </td>\n",
    "</tr>\n",
    "\n",
    "<tr>\n",
    "\n",
    "</table>"
   ]
  },
  {
   "cell_type": "markdown",
   "metadata": {
    "collapsed": true
   },
   "source": [
    "<div align=\"center\">**Table 1** $-$ Angular resolution and aperture diameter as a function of the diameter $D$. <br>\n",
    "</div>"
   ]
  },
  {
   "cell_type": "markdown",
   "metadata": {},
   "source": [
    "One can easily understand that, because $\\delta \\theta \\propto \\frac{\\lambda}{D}$, a increase of $\\lambda$ should come with an increase of $D$ to keep the same angular resolution. In the radio wavelength, it is easy to see that a 3 km single dish is impossible to build in one piece without giving more information than a 15 cm visible telescope."
   ]
  },
  {
   "cell_type": "code",
   "execution_count": 80,
   "metadata": {
    "collapsed": false
   },
   "outputs": [
    {
     "data": {
      "image/png": "[encoded data removed]",
      "text/plain": [
       "<matplotlib.figure.Figure at 0x7fa354f5a5d0>"
      ]
     },
     "metadata": {},
     "output_type": "display_data"
    },
    {
     "name": "stdout",
     "output_type": "stream",
     "text": [
      "# Wavelength in meters\n",
      "# Angres in degrees\n",
      "\n",
      "At a frequency of 299.792458 MHz (Lambda=1.0 m)\n",
      "the collector diameter should be ~D=16776204.2414 m\n",
      "to achieve an angular resolution of 4.16666666667e-06 degrees / 0.00025 arcmin / 0.015 arcsec\n"
     ]
    }
   ],
   "source": [
    "from ipywidgets import interact\n",
    "\n",
    "def WhichDiameter(wavelength=1,angres=(15e-3/3600)):\n",
    "    \n",
    "    tablamb=np.linspace(5e-7,1,1000)\n",
    "    tabangres=np.linspace(15e-3/3600,10,1000)\n",
    "    tabD=1.22*tablamb/np.radians(tabangres)\n",
    "    plt.loglog(tablamb,tabD)\n",
    "    \n",
    "    c=299792458.\n",
    "    freq=c/(wavelength)/1e6\n",
    "    \n",
    "    D=1.22*wavelength/np.radians(angres) # assuming a circular aperture\n",
    "    plt.scatter([wavelength],[D])\n",
    "    plt.show()\n",
    "    print \"# Wavelength in meters\"\n",
    "    print \"# Angres in degrees\"\n",
    "    print\n",
    "    print \"At a frequency of \"+str(freq)+\" MHz (Lambda=\"+str(wavelength)+\" m)\"\n",
    "    print \"the collector diameter should be ~D=\"+str(D)+\" m\"\n",
    "    print \"to achieve an angular resolution of \"+str(angres)+\" degrees / \"+str(angres*60)+\" arcmin / \"+str(angres*3600)+\" arcsec\"\n",
    "\n",
    "\n",
    "\n",
    "w=interact(WhichDiameter,angres=((15e-3/3600),10,1e-5),wavelength=(0.5e-6,1,1e-7))"
   ]
  },
  {
   "cell_type": "code",
   "execution_count": 70,
   "metadata": {
    "collapsed": false
   },
   "outputs": [
    {
     "data": {
      "text/plain": [
       "array([ 0.1       ,  0.10790791,  0.11581582,  0.12372372,  0.13163163,\n",
       "        0.13953954,  0.14744745,  0.15535536,  0.16326326,  0.17117117,\n",
       "        0.17907908,  0.18698699,  0.19489489,  0.2028028 ,  0.21071071,\n",
       "        0.21861862,  0.22652653,  0.23443443,  0.24234234,  0.25025025,\n",
       "        0.25815816,  0.26606607,  0.27397397,  0.28188188,  0.28978979,\n",
       "        0.2976977 ,  0.30560561,  0.31351351,  0.32142142,  0.32932933,\n",
       "        0.33723724,  0.34514515,  0.35305305,  0.36096096,  0.36886887,\n",
       "        0.37677678,  0.38468468,  0.39259259,  0.4005005 ,  0.40840841,\n",
       "        0.41631632,  0.42422422,  0.43213213,  0.44004004,  0.44794795,\n",
       "        0.45585586,  0.46376376,  0.47167167,  0.47957958,  0.48748749,\n",
       "        0.4953954 ,  0.5033033 ,  0.51121121,  0.51911912,  0.52702703,\n",
       "        0.53493493,  0.54284284,  0.55075075,  0.55865866,  0.56656657,\n",
       "        0.57447447,  0.58238238,  0.59029029,  0.5981982 ,  0.60610611,\n",
       "        0.61401401,  0.62192192,  0.62982983,  0.63773774,  0.64564565,\n",
       "        0.65355355,  0.66146146,  0.66936937,  0.67727728,  0.68518519,\n",
       "        0.69309309,  0.701001  ,  0.70890891,  0.71681682,  0.72472472,\n",
       "        0.73263263,  0.74054054,  0.74844845,  0.75635636,  0.76426426,\n",
       "        0.77217217,  0.78008008,  0.78798799,  0.7958959 ,  0.8038038 ,\n",
       "        0.81171171,  0.81961962,  0.82752753,  0.83543544,  0.84334334,\n",
       "        0.85125125,  0.85915916,  0.86706707,  0.87497497,  0.88288288,\n",
       "        0.89079079,  0.8986987 ,  0.90660661,  0.91451451,  0.92242242,\n",
       "        0.93033033,  0.93823824,  0.94614615,  0.95405405,  0.96196196,\n",
       "        0.96986987,  0.97777778,  0.98568569,  0.99359359,  1.0015015 ,\n",
       "        1.00940941,  1.01731732,  1.02522523,  1.03313313,  1.04104104,\n",
       "        1.04894895,  1.05685686,  1.06476476,  1.07267267,  1.08058058,\n",
       "        1.08848849,  1.0963964 ,  1.1043043 ,  1.11221221,  1.12012012,\n",
       "        1.12802803,  1.13593594,  1.14384384,  1.15175175,  1.15965966,\n",
       "        1.16756757,  1.17547548,  1.18338338,  1.19129129,  1.1991992 ,\n",
       "        1.20710711,  1.21501502,  1.22292292,  1.23083083,  1.23873874,\n",
       "        1.24664665,  1.25455455,  1.26246246,  1.27037037,  1.27827828,\n",
       "        1.28618619,  1.29409409,  1.302002  ,  1.30990991,  1.31781782,\n",
       "        1.32572573,  1.33363363,  1.34154154,  1.34944945,  1.35735736,\n",
       "        1.36526527,  1.37317317,  1.38108108,  1.38898899,  1.3968969 ,\n",
       "        1.4048048 ,  1.41271271,  1.42062062,  1.42852853,  1.43643644,\n",
       "        1.44434434,  1.45225225,  1.46016016,  1.46806807,  1.47597598,\n",
       "        1.48388388,  1.49179179,  1.4996997 ,  1.50760761,  1.51551552,\n",
       "        1.52342342,  1.53133133,  1.53923924,  1.54714715,  1.55505506,\n",
       "        1.56296296,  1.57087087,  1.57877878,  1.58668669,  1.59459459,\n",
       "        1.6025025 ,  1.61041041,  1.61831832,  1.62622623,  1.63413413,\n",
       "        1.64204204,  1.64994995,  1.65785786,  1.66576577,  1.67367367,\n",
       "        1.68158158,  1.68948949,  1.6973974 ,  1.70530531,  1.71321321,\n",
       "        1.72112112,  1.72902903,  1.73693694,  1.74484484,  1.75275275,\n",
       "        1.76066066,  1.76856857,  1.77647648,  1.78438438,  1.79229229,\n",
       "        1.8002002 ,  1.80810811,  1.81601602,  1.82392392,  1.83183183,\n",
       "        1.83973974,  1.84764765,  1.85555556,  1.86346346,  1.87137137,\n",
       "        1.87927928,  1.88718719,  1.8950951 ,  1.903003  ,  1.91091091,\n",
       "        1.91881882,  1.92672673,  1.93463463,  1.94254254,  1.95045045,\n",
       "        1.95835836,  1.96626627,  1.97417417,  1.98208208,  1.98998999,\n",
       "        1.9978979 ,  2.00580581,  2.01371371,  2.02162162,  2.02952953,\n",
       "        2.03743744,  2.04534535,  2.05325325,  2.06116116,  2.06906907,\n",
       "        2.07697698,  2.08488488,  2.09279279,  2.1007007 ,  2.10860861,\n",
       "        2.11651652,  2.12442442,  2.13233233,  2.14024024,  2.14814815,\n",
       "        2.15605606,  2.16396396,  2.17187187,  2.17977978,  2.18768769,\n",
       "        2.1955956 ,  2.2035035 ,  2.21141141,  2.21931932,  2.22722723,\n",
       "        2.23513514,  2.24304304,  2.25095095,  2.25885886,  2.26676677,\n",
       "        2.27467467,  2.28258258,  2.29049049,  2.2983984 ,  2.30630631,\n",
       "        2.31421421,  2.32212212,  2.33003003,  2.33793794,  2.34584585,\n",
       "        2.35375375,  2.36166166,  2.36956957,  2.37747748,  2.38538539,\n",
       "        2.39329329,  2.4012012 ,  2.40910911,  2.41701702,  2.42492492,\n",
       "        2.43283283,  2.44074074,  2.44864865,  2.45655656,  2.46446446,\n",
       "        2.47237237,  2.48028028,  2.48818819,  2.4960961 ,  2.504004  ,\n",
       "        2.51191191,  2.51981982,  2.52772773,  2.53563564,  2.54354354,\n",
       "        2.55145145,  2.55935936,  2.56726727,  2.57517518,  2.58308308,\n",
       "        2.59099099,  2.5988989 ,  2.60680681,  2.61471471,  2.62262262,\n",
       "        2.63053053,  2.63843844,  2.64634635,  2.65425425,  2.66216216,\n",
       "        2.67007007,  2.67797798,  2.68588589,  2.69379379,  2.7017017 ,\n",
       "        2.70960961,  2.71751752,  2.72542543,  2.73333333,  2.74124124,\n",
       "        2.74914915,  2.75705706,  2.76496496,  2.77287287,  2.78078078,\n",
       "        2.78868869,  2.7965966 ,  2.8045045 ,  2.81241241,  2.82032032,\n",
       "        2.82822823,  2.83613614,  2.84404404,  2.85195195,  2.85985986,\n",
       "        2.86776777,  2.87567568,  2.88358358,  2.89149149,  2.8993994 ,\n",
       "        2.90730731,  2.91521522,  2.92312312,  2.93103103,  2.93893894,\n",
       "        2.94684685,  2.95475475,  2.96266266,  2.97057057,  2.97847848,\n",
       "        2.98638639,  2.99429429,  3.0022022 ,  3.01011011,  3.01801802,\n",
       "        3.02592593,  3.03383383,  3.04174174,  3.04964965,  3.05755756,\n",
       "        3.06546547,  3.07337337,  3.08128128,  3.08918919,  3.0970971 ,\n",
       "        3.10500501,  3.11291291,  3.12082082,  3.12872873,  3.13663664,\n",
       "        3.14454454,  3.15245245,  3.16036036,  3.16826827,  3.17617618,\n",
       "        3.18408408,  3.19199199,  3.1998999 ,  3.20780781,  3.21571572,\n",
       "        3.22362362,  3.23153153,  3.23943944,  3.24734735,  3.25525526,\n",
       "        3.26316316,  3.27107107,  3.27897898,  3.28688689,  3.29479479,\n",
       "        3.3027027 ,  3.31061061,  3.31851852,  3.32642643,  3.33433433,\n",
       "        3.34224224,  3.35015015,  3.35805806,  3.36596597,  3.37387387,\n",
       "        3.38178178,  3.38968969,  3.3975976 ,  3.40550551,  3.41341341,\n",
       "        3.42132132,  3.42922923,  3.43713714,  3.44504505,  3.45295295,\n",
       "        3.46086086,  3.46876877,  3.47667668,  3.48458458,  3.49249249,\n",
       "        3.5004004 ,  3.50830831,  3.51621622,  3.52412412,  3.53203203,\n",
       "        3.53993994,  3.54784785,  3.55575576,  3.56366366,  3.57157157,\n",
       "        3.57947948,  3.58738739,  3.5952953 ,  3.6032032 ,  3.61111111,\n",
       "        3.61901902,  3.62692693,  3.63483483,  3.64274274,  3.65065065,\n",
       "        3.65855856,  3.66646647,  3.67437437,  3.68228228,  3.69019019,\n",
       "        3.6980981 ,  3.70600601,  3.71391391,  3.72182182,  3.72972973,\n",
       "        3.73763764,  3.74554555,  3.75345345,  3.76136136,  3.76926927,\n",
       "        3.77717718,  3.78508509,  3.79299299,  3.8009009 ,  3.80880881,\n",
       "        3.81671672,  3.82462462,  3.83253253,  3.84044044,  3.84834835,\n",
       "        3.85625626,  3.86416416,  3.87207207,  3.87997998,  3.88788789,\n",
       "        3.8957958 ,  3.9037037 ,  3.91161161,  3.91951952,  3.92742743,\n",
       "        3.93533534,  3.94324324,  3.95115115,  3.95905906,  3.96696697,\n",
       "        3.97487487,  3.98278278,  3.99069069,  3.9985986 ,  4.00650651,\n",
       "        4.01441441,  4.02232232,  4.03023023,  4.03813814,  4.04604605,\n",
       "        4.05395395,  4.06186186,  4.06976977,  4.07767768,  4.08558559,\n",
       "        4.09349349,  4.1014014 ,  4.10930931,  4.11721722,  4.12512513,\n",
       "        4.13303303,  4.14094094,  4.14884885,  4.15675676,  4.16466466,\n",
       "        4.17257257,  4.18048048,  4.18838839,  4.1962963 ,  4.2042042 ,\n",
       "        4.21211211,  4.22002002,  4.22792793,  4.23583584,  4.24374374,\n",
       "        4.25165165,  4.25955956,  4.26746747,  4.27537538,  4.28328328,\n",
       "        4.29119119,  4.2990991 ,  4.30700701,  4.31491491,  4.32282282,\n",
       "        4.33073073,  4.33863864,  4.34654655,  4.35445445,  4.36236236,\n",
       "        4.37027027,  4.37817818,  4.38608609,  4.39399399,  4.4019019 ,\n",
       "        4.40980981,  4.41771772,  4.42562563,  4.43353353,  4.44144144,\n",
       "        4.44934935,  4.45725726,  4.46516517,  4.47307307,  4.48098098,\n",
       "        4.48888889,  4.4967968 ,  4.5047047 ,  4.51261261,  4.52052052,\n",
       "        4.52842843,  4.53633634,  4.54424424,  4.55215215,  4.56006006,\n",
       "        4.56796797,  4.57587588,  4.58378378,  4.59169169,  4.5995996 ,\n",
       "        4.60750751,  4.61541542,  4.62332332,  4.63123123,  4.63913914,\n",
       "        4.64704705,  4.65495495,  4.66286286,  4.67077077,  4.67867868,\n",
       "        4.68658659,  4.69449449,  4.7024024 ,  4.71031031,  4.71821822,\n",
       "        4.72612613,  4.73403403,  4.74194194,  4.74984985,  4.75775776,\n",
       "        4.76566567,  4.77357357,  4.78148148,  4.78938939,  4.7972973 ,\n",
       "        4.80520521,  4.81311311,  4.82102102,  4.82892893,  4.83683684,\n",
       "        4.84474474,  4.85265265,  4.86056056,  4.86846847,  4.87637638,\n",
       "        4.88428428,  4.89219219,  4.9001001 ,  4.90800801,  4.91591592,\n",
       "        4.92382382,  4.93173173,  4.93963964,  4.94754755,  4.95545546,\n",
       "        4.96336336,  4.97127127,  4.97917918,  4.98708709,  4.99499499,\n",
       "        5.0029029 ,  5.01081081,  5.01871872,  5.02662663,  5.03453453,\n",
       "        5.04244244,  5.05035035,  5.05825826,  5.06616617,  5.07407407,\n",
       "        5.08198198,  5.08988989,  5.0977978 ,  5.10570571,  5.11361361,\n",
       "        5.12152152,  5.12942943,  5.13733734,  5.14524525,  5.15315315,\n",
       "        5.16106106,  5.16896897,  5.17687688,  5.18478478,  5.19269269,\n",
       "        5.2006006 ,  5.20850851,  5.21641642,  5.22432432,  5.23223223,\n",
       "        5.24014014,  5.24804805,  5.25595596,  5.26386386,  5.27177177,\n",
       "        5.27967968,  5.28758759,  5.2954955 ,  5.3034034 ,  5.31131131,\n",
       "        5.31921922,  5.32712713,  5.33503504,  5.34294294,  5.35085085,\n",
       "        5.35875876,  5.36666667,  5.37457457,  5.38248248,  5.39039039,\n",
       "        5.3982983 ,  5.40620621,  5.41411411,  5.42202202,  5.42992993,\n",
       "        5.43783784,  5.44574575,  5.45365365,  5.46156156,  5.46946947,\n",
       "        5.47737738,  5.48528529,  5.49319319,  5.5011011 ,  5.50900901,\n",
       "        5.51691692,  5.52482482,  5.53273273,  5.54064064,  5.54854855,\n",
       "        5.55645646,  5.56436436,  5.57227227,  5.58018018,  5.58808809,\n",
       "        5.595996  ,  5.6039039 ,  5.61181181,  5.61971972,  5.62762763,\n",
       "        5.63553554,  5.64344344,  5.65135135,  5.65925926,  5.66716717,\n",
       "        5.67507508,  5.68298298,  5.69089089,  5.6987988 ,  5.70670671,\n",
       "        5.71461461,  5.72252252,  5.73043043,  5.73833834,  5.74624625,\n",
       "        5.75415415,  5.76206206,  5.76996997,  5.77787788,  5.78578579,\n",
       "        5.79369369,  5.8016016 ,  5.80950951,  5.81741742,  5.82532533,\n",
       "        5.83323323,  5.84114114,  5.84904905,  5.85695696,  5.86486486,\n",
       "        5.87277277,  5.88068068,  5.88858859,  5.8964965 ,  5.9044044 ,\n",
       "        5.91231231,  5.92022022,  5.92812813,  5.93603604,  5.94394394,\n",
       "        5.95185185,  5.95975976,  5.96766767,  5.97557558,  5.98348348,\n",
       "        5.99139139,  5.9992993 ,  6.00720721,  6.01511512,  6.02302302,\n",
       "        6.03093093,  6.03883884,  6.04674675,  6.05465465,  6.06256256,\n",
       "        6.07047047,  6.07837838,  6.08628629,  6.09419419,  6.1021021 ,\n",
       "        6.11001001,  6.11791792,  6.12582583,  6.13373373,  6.14164164,\n",
       "        6.14954955,  6.15745746,  6.16536537,  6.17327327,  6.18118118,\n",
       "        6.18908909,  6.196997  ,  6.2049049 ,  6.21281281,  6.22072072,\n",
       "        6.22862863,  6.23653654,  6.24444444,  6.25235235,  6.26026026,\n",
       "        6.26816817,  6.27607608,  6.28398398,  6.29189189,  6.2997998 ,\n",
       "        6.30770771,  6.31561562,  6.32352352,  6.33143143,  6.33933934,\n",
       "        6.34724725,  6.35515516,  6.36306306,  6.37097097,  6.37887888,\n",
       "        6.38678679,  6.39469469,  6.4026026 ,  6.41051051,  6.41841842,\n",
       "        6.42632633,  6.43423423,  6.44214214,  6.45005005,  6.45795796,\n",
       "        6.46586587,  6.47377377,  6.48168168,  6.48958959,  6.4974975 ,\n",
       "        6.50540541,  6.51331331,  6.52122122,  6.52912913,  6.53703704,\n",
       "        6.54494494,  6.55285285,  6.56076076,  6.56866867,  6.57657658,\n",
       "        6.58448448,  6.59239239,  6.6003003 ,  6.60820821,  6.61611612,\n",
       "        6.62402402,  6.63193193,  6.63983984,  6.64774775,  6.65565566,\n",
       "        6.66356356,  6.67147147,  6.67937938,  6.68728729,  6.6951952 ,\n",
       "        6.7031031 ,  6.71101101,  6.71891892,  6.72682683,  6.73473473,\n",
       "        6.74264264,  6.75055055,  6.75845846,  6.76636637,  6.77427427,\n",
       "        6.78218218,  6.79009009,  6.797998  ,  6.80590591,  6.81381381,\n",
       "        6.82172172,  6.82962963,  6.83753754,  6.84544545,  6.85335335,\n",
       "        6.86126126,  6.86916917,  6.87707708,  6.88498498,  6.89289289,\n",
       "        6.9008008 ,  6.90870871,  6.91661662,  6.92452452,  6.93243243,\n",
       "        6.94034034,  6.94824825,  6.95615616,  6.96406406,  6.97197197,\n",
       "        6.97987988,  6.98778779,  6.9956957 ,  7.0036036 ,  7.01151151,\n",
       "        7.01941942,  7.02732733,  7.03523524,  7.04314314,  7.05105105,\n",
       "        7.05895896,  7.06686687,  7.07477477,  7.08268268,  7.09059059,\n",
       "        7.0984985 ,  7.10640641,  7.11431431,  7.12222222,  7.13013013,\n",
       "        7.13803804,  7.14594595,  7.15385385,  7.16176176,  7.16966967,\n",
       "        7.17757758,  7.18548549,  7.19339339,  7.2013013 ,  7.20920921,\n",
       "        7.21711712,  7.22502503,  7.23293293,  7.24084084,  7.24874875,\n",
       "        7.25665666,  7.26456456,  7.27247247,  7.28038038,  7.28828829,\n",
       "        7.2961962 ,  7.3041041 ,  7.31201201,  7.31991992,  7.32782783,\n",
       "        7.33573574,  7.34364364,  7.35155155,  7.35945946,  7.36736737,\n",
       "        7.37527528,  7.38318318,  7.39109109,  7.398999  ,  7.40690691,\n",
       "        7.41481481,  7.42272272,  7.43063063,  7.43853854,  7.44644645,\n",
       "        7.45435435,  7.46226226,  7.47017017,  7.47807808,  7.48598599,\n",
       "        7.49389389,  7.5018018 ,  7.50970971,  7.51761762,  7.52552553,\n",
       "        7.53343343,  7.54134134,  7.54924925,  7.55715716,  7.56506507,\n",
       "        7.57297297,  7.58088088,  7.58878879,  7.5966967 ,  7.6046046 ,\n",
       "        7.61251251,  7.62042042,  7.62832833,  7.63623624,  7.64414414,\n",
       "        7.65205205,  7.65995996,  7.66786787,  7.67577578,  7.68368368,\n",
       "        7.69159159,  7.6994995 ,  7.70740741,  7.71531532,  7.72322322,\n",
       "        7.73113113,  7.73903904,  7.74694695,  7.75485485,  7.76276276,\n",
       "        7.77067067,  7.77857858,  7.78648649,  7.79439439,  7.8023023 ,\n",
       "        7.81021021,  7.81811812,  7.82602603,  7.83393393,  7.84184184,\n",
       "        7.84974975,  7.85765766,  7.86556557,  7.87347347,  7.88138138,\n",
       "        7.88928929,  7.8971972 ,  7.90510511,  7.91301301,  7.92092092,\n",
       "        7.92882883,  7.93673674,  7.94464464,  7.95255255,  7.96046046,\n",
       "        7.96836837,  7.97627628,  7.98418418,  7.99209209,  8.        ])"
      ]
     },
     "execution_count": 70,
     "metadata": {},
     "output_type": "execute_result"
    },
    {
     "data": {
      "image/png": "[encoded data removed]",
      "text/plain": [
       "<matplotlib.figure.Figure at 0x7fa3561e5110>"
      ]
     },
     "metadata": {},
     "output_type": "display_data"
    }
   ],
   "source": [
    "\n",
    "    \n",
    "plt.semilogx(tablamb,1.22*tablamb/tabD)\n",
    "#plt.xlim(tablamb.min(),tablamb.max())\n",
    "#plt.ylim(tabD.min(),tabD.max())"
   ]
  },
  {
   "cell_type": "markdown",
   "metadata": {},
   "source": [
    "#### 4.0.1.B Physical limitations of apertures"
   ]
  },
  {
   "cell_type": "markdown",
   "metadata": {},
   "source": [
    "Radio antennas are mostly built from metallic material. Due to the limited Field of View of the antenna, it should track as source on the sky as the Earth rotate, to maintain a constant sensitivity toward the source.\n",
    "\n",
    "These antenna pointing are done mechanically and required slow engines to carry the mass from one direction to the other. The physical constraints mostly operate on the mechanical joints will constitute a critical design point on the engineering side.\n",
    "\n",
    "\n",
    "\n",
    "The fall of the early Green Bank Telescope in 1988 mark the physical limits of steerable telescopes. Larger aperture can be reached if the reflector is maintained fixed and if the receiver at the prime focus move along the focal plane (or along the caustic) of the instrument to mimic a slowly varying pointing in the sky.\n",
    "\n",
    "(ref: http://adsabs.harvard.edu/abs/2008ASPC..395..323C)\n",
    "\n",
    "**Figure 1** and **Figure 2** presents examples of the largest steerable telescopes that can be made:\n",
    "\n",
    "- steerable dishes ($D\\leq 100m$) e.g. Green Bank (zapped), Effelsberg radiotelescopes\n",
    "- steerable focus ($D\\sim 300m$) e.g. Arecibo, Nançay Radio Telescope"
   ]
  },
  {
   "cell_type": "markdown",
   "metadata": {},
   "source": [
    "<img src=\"figures/GBTcollapse.jpg\" width=\"80%\"/>"
   ]
  },
  {
   "cell_type": "markdown",
   "metadata": {
    "collapsed": true
   },
   "source": [
    "<div align=\"center\">**Figure 1** $-$ 100 m Green Bank Telescope <br>\n",
    "Before (left) & after (middle) collapsing and (right) tabloid article<br>\n",
    "</div>"
   ]
  },
  {
   "cell_type": "markdown",
   "metadata": {},
   "source": [
    "<img src=\"figures/arecibo.png\" width=\"60%\"/>"
   ]
  },
  {
   "cell_type": "markdown",
   "metadata": {
    "collapsed": true
   },
   "source": [
    "<div align=\"center\">**Figure 2** $-$ 300 m Arecibo lying in a natural cavity <br>\n",
    "The received is located at the center of the three poles and can move freely to point various direction of the sky<br>\n",
    "</div>"
   ]
  },
  {
   "cell_type": "markdown",
   "metadata": {},
   "source": [
    "### 4.0.2 From a single optical parabolic telescope to a radio interferometer with multiple elements"
   ]
  },
  {
   "cell_type": "markdown",
   "metadata": {},
   "source": [
    "#### 4.0.2.A Optical conjugation / Parabola\n",
    "\n",
    "In the following, we will give you a first intuitive feeling of what an interferometer is. Without any calculus (yet) and knowning the basic properties about an optical telescope, we can build an interferometer.\n",
    "\n",
    "A single optical telescope generally comes as a combination of a main reflector (primary mirror which will define the aperture of the telescope) and a receiver (a collecting device such as a CCD). The purpose of this mirror is to gather light over some aperture and focus it in a focal plane.\n",
    "\n",
    "Basic optics say that there exist some apparatii enabling to form locally the image of a source located at an infinite distance (good approximation for the sources up in the sky). Lenses were the prior examples of such systems. They manage to conjugate a point source at the infinite with a focal point, which location is completely determined by the shape of the lens (under the \"thin lens\" approximation and gauss conditions).\n",
    "\n",
    "Later, concave mirrors were used in the same way to build telescope as it was easier to control their physical and optical properties (curvature, surface quality...) than that of lenses.\n",
    "\n",
    "Large telescopes ($D \\sim 8m$) now exclusively use mirrors for their easier single piece design.\n",
    "\n",
    "Geometry says that the ideal curve which conjugate one incoming plane wave coming on-axis from the infinite into a single locus (the focal point) has to be a parabola. As the main principle of an telescope is to be pointed towards a source (for now), a circular paraboloids seemed to be a good shape for a collector. \n",
    "\n",
    "In the everyday life of radio instrumentation, one defines a \"parabola\", as a synecdoche to name the full receiving system (i.e. {primary reflector + focal receiver + mount}) that is commonly used for satellite transmission/reception.\n",
    "\n",
    "We will assume for the sake of the analogy that we start from an optical telescope equipped with a paraboloid primary mirror. And we will start to deconstruct this optical telescope to form an interferometer."
   ]
  },
  {
   "cell_type": "markdown",
   "metadata": {},
   "source": [
    "<table width=\"100%\" border=\"0\">\n",
    "<tr>\n",
    "<td> <img src='figures/im1-n.png' width=75%> </td>\n",
    "<td> <img src='figures/im2-n.png' width=75%> </td>\n",
    "</tr>\n",
    "<tr>\n",
    "<td> <img src='figures/im3-n.png' width=75%> </td>\n",
    "<td> <img src='figures/im4-n.png' width=75%> </td>\n",
    "</tr>\n",
    "<tr>\n",
    "<td> <img src='figures/im5-n.png' width=75%> </td>\n",
    "<td> <img src='figures/im6-n.png' width=75%> </td>\n",
    "</tr>\n",
    "</table>"
   ]
  },
  {
   "cell_type": "markdown",
   "metadata": {},
   "source": [
    "<div align=\"center\">**Figure 3** $-$ How to build an interferometer\n",
    "</div>"
   ]
  },
  {
   "cell_type": "markdown",
   "metadata": {},
   "source": [
    "#### 4.0.2.B Step-by-step construction of an interferometer\n",
    "\n",
    "**Figure 3** shows the 6-steps transition to go from an optical telescope to a radio interferometer. Some assumptions are made implicitely but will be cleary defined in subsequent section of this course. For the moment, the main idea is that the sequence of transformations applied to the instrument maintain the properties of the measurement.\n",
    "\n",
    "**Step 1: The visible case**\n",
    "\n",
    "We start with a parabolic optical telescope which receive light from various direction. Assuming perfect optical components, the signal coming from source at an infinite distance are conjugate of image point lying in the focal plane, where we put the receiver (i.e. a CCD (Charged-Coupled Device) that collects photons in the visible case).\n",
    "\n",
    "**Step 2: Breaking the mirror**\n",
    "\n",
    "By breaking the mirror into pieces, we do not change the main properties of the telescope. Only some portion of the primary reflector are missing. (we could also have obstructed or colored in black the mirror surface at different locations. In this case, we will still be able to recover an image but sligthly distorted due to the loss of continuity of the aperture.\n",
    "\n",
    "**Step 3: Change of wavelength**\n",
    "\n",
    "The telescope working with visible electro-magnetic waves, we can extrapolate it to the lower frequencies of the radio domain, by adapting both the reflective parts and the receiving part to match the wavelenght. (i.e. metal reflector are sufficient to replace polished mirror, and a small radio feed can capture the EM wave instead of collecting photons on a CCD).\n",
    "\n",
    "**Step 4: Conversion into electronics**\n",
    "\n",
    "Pushing it further, we can replace the radio reflective parts by sensitive parts which will directly measure the EM wave arriving at each portion of the surface and transmit it to the receiver. The conversion between the EM wave and electrical signal is performed by an antenna (which is defined as a EM transducer, to convert Electric field (in $V.m^{-1}$ into $V$).\n",
    "\n",
    "Each piece of the former reflector acting as antennas, therefore the incoming signal propagates into wires. We can therefore move freely the receiver as long as we maintain the connection with the pieces and synchronicity by adding cable length wisely (we will come back to that fact later). The antennas are still arranged in a paraboloid fashion.\n",
    "\n",
    "**Step 5 & 6: Deconstructing the parabola**\n",
    "\n",
    "As in the previous steps, by adding more cable, we can reproduce the different in arrival times between all the pieces. As for the receiver, we are now free to move the receiving pieces in a more manageable fashion (e.g. on the ground). We can do that for every pieces."
   ]
  },
  {
   "cell_type": "markdown",
   "metadata": {},
   "source": [
    "<img src='figures/im7-n.png' width=45%> "
   ]
  },
  {
   "cell_type": "markdown",
   "metadata": {},
   "source": [
    "<div align=\"center\">**Figure 4** $-$ Schematic of a radio interferometer made from identical elements disposed on the ground.<br>\n",
    "All signals are smartly combined before entering the receiver.<br>\n",
    "</div>"
   ]
  },
  {
   "cell_type": "markdown",
   "metadata": {},
   "source": [
    "As in **Figure 4**, we can now enhance the properties of each pieces on the ground by replacing them with proper smaller telescopes, more easily manageable and sensitive to radio wavelengths. With corrected combinations of the telescope signals, the receiver will record a compound incoming signal as if it were recorded by an unique telescope which collecting area is the sum of all collecting area of the pieces. \n",
    "\n",
    "In other words, we can assert that a collection of signals, coming from identical antennas distributed on the ground can mimic the measurement (if smartly combined) of a compound antenna which properties if is roughly the sum of the properties of the individual antennas.\n",
    "\n",
    "As a consequence, if you can find cheap and manageable small antennas, you can build a larger instrument that would be impossible to produce in one piece. This is a solution to the physical and technical limitations of large telescope such as the GBT presented in Figure 1.\n"
   ]
  },
  {
   "cell_type": "markdown",
   "metadata": {},
   "source": [
    "<div class=warn>\n",
    "**Warning:** The optical path is replaced by electrical cables to convey the electrical signals. The properties of the telescope are kept only if the additional delays mimic the reception time as the various pieces as if it were still place on a paraboloid surface. The cable delay scheme therefore follow a distribution of delays which is also parabolic as a function of the location of the receiving piece on the parabola.\n",
    "</div>"
   ]
  },
  {
   "cell_type": "markdown",
   "metadata": {},
   "source": [
    "<div class=advice>\n",
    "**Note:** Conversely, we can interpret a single reflector telescope (visible or radio) as a *continuous interferometer* by applying the Wiener-Khinchin theorem. (See section xxx and Perley white book section)\n",
    "</div>"
   ]
  },
  {
   "cell_type": "markdown",
   "metadata": {},
   "source": [
    "#### 4.0.2.C Ever larger instruments..."
   ]
  },
  {
   "cell_type": "markdown",
   "metadata": {
    "collapsed": true
   },
   "source": [
    "With the next generation interferometer such as **LOFAR** (Low Frequency ARray) and **SKA** (Square Kilometre Array) (**Figure 5**), the equivalent aperture reaches to continental scale, but the sensitivity remains proportional to the sum of the surfaces of all elements.\n",
    "\n",
    "e.g. The Square Kilometre Array has an equivalent collecting area of a 1 km$^2$. It brings a tremendous sensitivity to weak radio signals.\n",
    "\n",
    "(see more details in Chapter xx [EXREF] instrument)"
   ]
  },
  {
   "cell_type": "markdown",
   "metadata": {},
   "source": [
    "<img src='figures/skalofar.png' width=100%> "
   ]
  },
  {
   "cell_type": "markdown",
   "metadata": {},
   "source": [
    "<div align=\"center\">**Figure 5** $-$ Current continental-scale interferometers <br>\n",
    "LOFAR combines antenna elements in the 30-90 MHz & 110-250 MHz window<br>\n",
    "SKA will cover almost all the radio window from 50 MHz to $\\sim$10-30 GHz<br>\n",
    "</div>"
   ]
  },
  {
   "cell_type": "markdown",
   "metadata": {
    "collapsed": true
   },
   "source": [
    "We highlighted in this introductory section, why we need multi-element instrumentation to increase the sensitivity and the angular resolution of radio observations. \n",
    "\n",
    "In the next sections, we will describe:\n",
    "\n",
    "    - 1) How interferometers works\n",
    "    - 2) How they are sensitive to the sky radiation\n",
    "    - 3) How they can be used to measure astrophysical quantities\n",
    "    \n",
    "We will also see that some simplifications can be taken to prepare imaging by aperture synthesis (Chapter 5) [EXREF]."
   ]
  },
  {
   "cell_type": "markdown",
   "metadata": {
    "collapsed": true
   },
   "source": [
    "<p class=conclusion>\n",
    "  <font size=4> **Important things to remember**</font>\n",
    "  <br>\n",
    "  <br>\n",
    "\n",
    "&bull; A **paraboloid reflector** insures that any incoming direction from the infinite is conjugated with the focal plane.<br><br>\n",
    "&bull; The mirror is an easier optical system to build and maintain compared to a transmitting lens.<br><br>\n",
    "&bull; As we are dealing with EM waves, their is a *direct analogy between the properties of visible and radio telescopes*.<br><br>\n",
    "&bull; On the principle, an interferometer can be built by *decomposing a single reflector instrument into smaller manageable pieces* and by *combining their signals in a specific manner* (using delay cables).<br><br>\n",
    "&bull; Conversely, a single reflector telescope can be interpreted as a *continuous* interferometer.\n",
    "</p>\n"
   ]
  },
  {
   "cell_type": "markdown",
   "metadata": {},
   "source": [
    "---\n",
    "* [Go back up](#beginning) <!--\\ref{beginning}--> \n",
    "* Or continue to next section: [4.1 The Baseline and its representations in space](4_1_The_Baseline.ipynb)\n",
    "---"
   ]
  },
  {
   "cell_type": "code",
   "execution_count": null,
   "metadata": {
    "collapsed": true
   },
   "outputs": [],
   "source": []
  }
 ],
 "metadata": {
  "kernelspec": {
   "display_name": "Python 2",
   "language": "python",
   "name": "python2"
  },
  "language_info": {
   "codemirror_mode": {
    "name": "ipython",
    "version": 2
   },
   "file_extension": ".py",
   "mimetype": "text/x-python",
   "name": "python",
   "nbconvert_exporter": "python",
   "pygments_lexer": "ipython2",
   "version": "2.7.6"
  }
 },
 "nbformat": 4,
 "nbformat_minor": 0
}
