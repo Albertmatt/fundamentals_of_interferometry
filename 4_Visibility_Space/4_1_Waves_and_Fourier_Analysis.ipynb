{
 "cells": [
  {
   "cell_type": "markdown",
   "metadata": {},
   "source": [
    "***\n",
    "\n",
    "* [Outline](../0_Introduction/0_introduction.ipynb)\n",
    "* [Glossary](../0_Introduction/1_glossary.ipynb)\n",
    "* [4. The Visibility Space](4_0_introduction.ipynb)\n",
    "    * Previous: [4.0 Introduction](4_0_introduction.ipynb)\n",
    "    * Next: [4.2 The Baseline](4_1_The_Baseline.ipynb)\n",
    "\n",
    "***"
   ]
  },
  {
   "cell_type": "markdown",
   "metadata": {},
   "source": [
    "Import standard modules:"
   ]
  },
  {
   "cell_type": "code",
   "execution_count": 3,
   "metadata": {
    "collapsed": false
   },
   "outputs": [
    {
     "data": {
      "text/html": [
       "<style>\n",
       "\n",
       "p.prerequisites {\n",
       "    border:5px;\n",
       "    border-style:none;\n",
       "    background-color:#F0F0F0;\n",
       "    box-shadow: 5px 5px 2px #888888;\n",
       "    border-color:#FF0000;\n",
       "    padding: 1em;\n",
       "    }\n",
       "\n",
       "p.conclusion {\n",
       "    border:5px;\n",
       "    border-style:none;\n",
       "    background-color:#c8ebca;\n",
       "    box-shadow: 5px 5px 2px #888888;\n",
       "    border-color:#c8ebca;\n",
       "    padding: 1em;\n",
       "    }\n",
       "\n",
       "div.warn {    \n",
       "    background-color: #fcf2f2;\n",
       "    border-color: #dFb5b4;\n",
       "    border-left: 5px solid #dfb5b4;\n",
       "    padding: 0.5em;\n",
       "    }\n",
       "\n",
       "div.advice {    \n",
       "    background-color: #ecf8ed;\n",
       "    border-color: #a2dda5;\n",
       "    border-left: 5px solid #a2dda5;\n",
       "    padding: 0.5em;\n",
       "    }\n",
       "\n",
       "</style>\n",
       "\n"
      ],
      "text/plain": [
       "<IPython.core.display.HTML object>"
      ]
     },
     "execution_count": 3,
     "metadata": {},
     "output_type": "execute_result"
    }
   ],
   "source": [
    "import numpy as np\n",
    "import matplotlib.pyplot as plt\n",
    "%matplotlib inline\n",
    "from IPython.display import HTML \n",
    "HTML('../style/course.css') #apply general CSS"
   ]
  },
  {
   "cell_type": "code",
   "execution_count": 4,
   "metadata": {
    "collapsed": false
   },
   "outputs": [
    {
     "data": {
      "text/html": [
       "<script>\n",
       "    code_show=false; \n",
       "    function code_toggle() {\n",
       "        if (code_show){\n",
       "            $('div.input').hide();\n",
       "        } else {\n",
       "            $('div.input').show();\n",
       "        }\n",
       "        code_show = !code_show\n",
       "    } \n",
       "    $( document ).ready(code_toggle);\n",
       "</script>\n",
       "\n",
       "The raw code for this notebook is by default hidden for easier reading. To toggle on/off the raw code, click <a href=\"javascript:code_toggle()\">here</a>.\n",
       "\n"
      ],
      "text/plain": [
       "<IPython.core.display.HTML object>"
      ]
     },
     "execution_count": 4,
     "metadata": {},
     "output_type": "execute_result"
    }
   ],
   "source": [
    "from IPython.display import HTML\n",
    "HTML('../style/code_toggle.html')"
   ]
  },
  {
   "cell_type": "markdown",
   "metadata": {},
   "source": [
    "# 4.1 Waves and Fourier Analysis"
   ]
  },
  {
   "cell_type": "markdown",
   "metadata": {},
   "source": [
    "---\n",
    "## Outline\n",
    "\n",
    "### 4.1.1 Periodic Functions\n",
    "\n",
    "* 4.1.1.A Characteristics of a Periodic Function\n",
    "\n",
    "* 4.1.1.B Complex Periodic Functions\n",
    "\n",
    "* 4.1.1.C Electromagnetic Waves\n",
    "\n",
    "### 4.1.2. Fourier analysis: Reconstructing Signals\n",
    "\n",
    "* 4.1.2.A Fourier Series\n",
    "\n",
    "* 4.1.2.B Fourier Transforms\n",
    "\n",
    "* 4.1.2.C The Physics of Phase Space"
   ]
  },
  {
   "cell_type": "markdown",
   "metadata": {},
   "source": [
    "In this section, we will outline the wavelike nature of light, then introduce Fourier analysis. Our aim is to make Fourier analysis as obvious as possible, while still going into sufficient depth to allow students to develop a good physical intuition.\n",
    "\n",
    "A short note on nomenclature: in the literature, Fourier space can be referred to as *phase space*, *Fourier space*, *visibility space* and more besides depending on the discipline. In this book, these terms will be used interchangeably: they all mean the same thing."
   ]
  },
  {
   "cell_type": "markdown",
   "metadata": {},
   "source": [
    "### 4.1.1 Periodic Functions"
   ]
  },
  {
   "cell_type": "markdown",
   "metadata": {},
   "source": [
    "#### 4.1.1.A Characteristics of a Periodic Function"
   ]
  },
  {
   "cell_type": "markdown",
   "metadata": {},
   "source": [
    "A periodic function is an endlessly repeating function. The simplest periodic function is the humble *sine* function:"
   ]
  },
  {
   "cell_type": "code",
   "execution_count": 16,
   "metadata": {
    "collapsed": false
   },
   "outputs": [
    {
     "data": {
      "text/plain": [
       "[<matplotlib.lines.Line2D at 0x7f70d16c6cd0>]"
      ]
     },
     "execution_count": 16,
     "metadata": {},
     "output_type": "execute_result"
    },
    {
     "data": {
      "image/png": "[encoded data removed]",
      "text/plain": [
       "<matplotlib.figure.Figure at 0x7f70d16d1190>"
      ]
     },
     "metadata": {},
     "output_type": "display_data"
    }
   ],
   "source": [
    "x=(np.arange(800)-400)/200.*np.pi\n",
    "plt.title(\"Sine function\")\n",
    "plt.plot(x,np.sin(x))"
   ]
  },
  {
   "cell_type": "markdown",
   "metadata": {},
   "source": [
    "Two quantities define a periodic function: *amplitude* and *frequency*. Amplitude defines the size of the wave; frequency defines how often the wave repeats. In the example above, both are set to 1; the function therefore repeats every $2\\pi$ (since the sin function is the y-projection of a particle moving in a circular orbit), and has an amplitude of 1 (since the aforementioned orbit is of unit radius).\n",
    "\n",
    "Two constants can also be added to a periodic function: *amplitude offset* and *phase offset*. A more general expression for our basic periodic function would therefore be:"
   ]
  },
  {
   "cell_type": "code",
   "execution_count": 26,
   "metadata": {
    "collapsed": false
   },
   "outputs": [
    {
     "data": {
      "text/plain": [
       "[<matplotlib.lines.Line2D at 0x7f70d0edc050>]"
      ]
     },
     "execution_count": 26,
     "metadata": {},
     "output_type": "execute_result"
    },
    {
     "data": {
      "image/png": "[encoded data removed]",
      "text/plain": [
       "<matplotlib.figure.Figure at 0x7f70d10c8b50>"
      ]
     },
     "metadata": {},
     "output_type": "display_data"
    }
   ],
   "source": [
    "amplitude        = 1\n",
    "frequency        = 1\n",
    "phase_offset     = np.pi/2.\n",
    "amplitude_offset = 0\n",
    "plt.title(\"General sine function\")\n",
    "plt.plot(x,np.sin(x))\n",
    "plt.plot(x,amplitude*np.sin(frequency*x+phase_offset)+amplitude_offset)"
   ]
  },
  {
   "cell_type": "markdown",
   "metadata": {},
   "source": [
    "I strongly encourage you to play with the graph above - for example, what happens when you set the amplitude to -1 ? What happens if you set the amplitude to -1 and the phase offset to $\\pi$? \n",
    "\n",
    "**N.B.** Note that setting the phase offset of a sine function to $\\frac{\\pi}{2}$ gives you a *different* periodic function: a cosine function. "
   ]
  },
  {
   "cell_type": "markdown",
   "metadata": {},
   "source": [
    "In many physics textbooks, the frequency $f$ may be referred to as the *angular frequency* $\\omega$. The two are linked by the following relation:\n",
    "\n",
    "<center>$\\omega = 2\\pi f$</center>"
   ]
  },
  {
   "cell_type": "markdown",
   "metadata": {},
   "source": [
    "#### 4.1.1.B Complex Periodic Functions"
   ]
  },
  {
   "cell_type": "markdown",
   "metadata": {},
   "source": [
    "There exist many periodic functions, all built from the humble sine function. One of particular interest to physicists - for it helps us describe electromagnetic waves - is the exponential form of the complex periodic function, as defined by Euler's formula:\n",
    "\n",
    "<center>$e^{ix} = \\cos(x) + i \\sin(x)$</center>"
   ]
  },
  {
   "cell_type": "markdown",
   "metadata": {},
   "source": [
    "## 4.1.1C Electromagnetic Waves"
   ]
  },
  {
   "cell_type": "markdown",
   "metadata": {
    "collapsed": true
   },
   "source": [
    "As astronomers, we are interested in the light from celestial objects: we are interested in the electromagnetic waves these objects emit. Light is tricky because it behaves both as a wave (EM wave) and a particle (photon); this behaviour is best explored in a particle physics course. When it comes to radio astronomy, the light we observe is sufficiently low-energy that it is best treated as a wave rather than a particle; the wave-particle dichotomy will thus not be covered here, and we will treat light purely as a transverse wave in the EM field.\n",
    "\n",
    "The wavelike nature of light is a trivial development from Maxwell's laws of electrodynamics. Mawxwell's equations in a vacuum are as follows:\n",
    "\n",
    "(1) $ \\nabla \\cdot E = \\frac{\\rho}{\\epsilon_0} $ \n",
    "\n",
    "(2) $ \\nabla \\cdot B = 0 $                       \n",
    "\n",
    "(3) $ \\nabla \\times E  = - \\frac{\\partial B}{\\partial t}$\n",
    "\n",
    "(4) $ \\nabla \\times B  =  \\frac{J}{\\epsilon_0 c^2} + \\frac{1}{c^2} \\frac{\\partial E}{\\partial t}$\n",
    "\n",
    "where\n",
    "\n",
    "$ J = \\sigma E $, $\\sigma$ is the electrical conductivity, and $\\epsilon_0$ is a constant known as vacuum permissivity.\n",
    "\n",
    "By taking the curl of equations (3) and (4) and appling vector identities [maybe put explicit calculations somewhere? But it is literally an asspull as far as I'm concerned], one can reach two second-order differential equations:\n",
    "\n",
    "$\\frac{1}{c^2_0} \\frac{\\partial^2 E}{\\partial t^2} - \\nabla^2 E = 0$\n",
    "\n",
    "$\\frac{1}{c^2_0} \\frac{\\partial^2 B}{\\partial t^2} - \\nabla^2 B = 0$\n",
    "\n",
    "The solution to this form of differential equation should be well-known to you:\n",
    "\n",
    "$ E = E_0 \\cos(\\omega t -  k \\cdot r + \\phi_0 ) $\n",
    "\n",
    "where $\\omega$ is the angular frequency of our wave, $k=\\frac{\\omega}{c}$ is the wave vector, and $\\phi_0$ is the phase angle. This solution can be checked by inspection.\n",
    "\n",
    "The wavelike nature of light at low energies means that Fourier analysis lends itself particularly well to our signal analysis, as we know that it is a periodic, repeating signal!"
   ]
  },
  {
   "cell_type": "markdown",
   "metadata": {},
   "source": [
    "### 4.1.3 Fourier Transforms"
   ]
  },
  {
   "cell_type": "markdown",
   "metadata": {
    "collapsed": true
   },
   "source": [
    "play with delta functions, then gaussians"
   ]
  },
  {
   "cell_type": "markdown",
   "metadata": {},
   "source": [
    "***\n",
    "\n",
    "* Next: [4.2 The 2-element Interferometer](4_2_The_2-element_Interferometer.ipynb)"
   ]
  }
 ],
 "metadata": {
  "kernelspec": {
   "display_name": "Python 2",
   "language": "python",
   "name": "python2"
  },
  "language_info": {
   "codemirror_mode": {
    "name": "ipython",
    "version": 2
   },
   "file_extension": ".py",
   "mimetype": "text/x-python",
   "name": "python",
   "nbconvert_exporter": "python",
   "pygments_lexer": "ipython2",
   "version": "2.7.6"
  }
 },
 "nbformat": 4,
 "nbformat_minor": 0
}
