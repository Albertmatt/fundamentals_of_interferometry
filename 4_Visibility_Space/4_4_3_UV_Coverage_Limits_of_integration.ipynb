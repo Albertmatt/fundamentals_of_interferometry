{
 "cells": [
  {
   "cell_type": "markdown",
   "metadata": {
    "collapsed": true
   },
   "source": [
    "***\n",
    "<a id='beginning'></a> <!--\\label{beginning}-->\n",
    "* [Outline](../0_Introduction/0_introduction.ipynb)\n",
    "* [Glossary](../0_Introduction/1_glossary.ipynb)\n",
    "* [4. The Visibility space](4_0_introduction.ipynb)\n",
    "    * Previous: [4.4.2 UV Coverage: Improving your coverage](4_4_2_UV_Coverage_Improving_Your_Coverage.ipynb)\n",
    "    * Next: [4.5 The Fourier Approximation & the Van Cittert-Zernike theorem](4_5_The_Fourier_Approximation_VanCittert-Zernike_Theorem.ipynb)\n",
    "\n",
    "***"
   ]
  },
  {
   "cell_type": "code",
   "execution_count": 1,
   "metadata": {
    "collapsed": false
   },
   "outputs": [
    {
     "ename": "ImportError",
     "evalue": "No module named initpython",
     "output_type": "error",
     "traceback": [
      "\u001b[1;31m---------------------------------------------------------------------------\u001b[0m",
      "\u001b[1;31mImportError\u001b[0m                               Traceback (most recent call last)",
      "\u001b[1;32m<ipython-input-1-01df16789a34>\u001b[0m in \u001b[0;36m<module>\u001b[1;34m()\u001b[0m\n\u001b[0;32m      1\u001b[0m \u001b[1;31m#import initpython # containing all \"hidden\" packages (including CSS reader, and apply CSS style)\u001b[0m\u001b[1;33m\u001b[0m\u001b[1;33m\u001b[0m\u001b[0m\n\u001b[1;32m----> 2\u001b[1;33m \u001b[1;32mfrom\u001b[0m \u001b[0minitpython\u001b[0m \u001b[1;32mimport\u001b[0m \u001b[1;33m*\u001b[0m\u001b[1;33m\u001b[0m\u001b[0m\n\u001b[0m\u001b[0;32m      3\u001b[0m \u001b[0mcss_styling\u001b[0m\u001b[1;33m(\u001b[0m\u001b[1;33m)\u001b[0m\u001b[1;33m\u001b[0m\u001b[0m\n",
      "\u001b[1;31mImportError\u001b[0m: No module named initpython"
     ]
    }
   ],
   "source": [
    "#import initpython # containing all \"hidden\" packages (including CSS reader, and apply CSS style)\n",
    "from initpython import *\n",
    "css_styling()"
   ]
  },
  {
   "cell_type": "markdown",
   "metadata": {},
   "source": [
    "---\n",
    "# Outline\n",
    "\n",
    "### 4.4.4 Limits of integration (might be redundant)\n",
    "\n",
    "* Intro: (basically \"nothing comes for free\")\n",
    "\n",
    "\n",
    "* 4.4.4.A Coherency & losing coherency\n",
    "    - Temporal coherency\n",
    "    - Spatial coherency\n",
    "\n",
    "\n",
    "* 4.4.4.B Limits to time integration: Time smearing\n",
    "    - Relationship to compute the maximum integration time\n",
    "    - Effect on images (pointer to Griffin & Oleg)\n",
    "    \n",
    "    \n",
    "* 4.4.4.C Limits to frequency integration: Bandwidth smearing\n",
    "    - Analogous in optical: White light decoherence -> narrowing the fringe pattern to low order\n",
    "    - Effect in radio: narrowing the \"coherence disk\" around the phase center\n",
    "    - Sinc (bandwidth)\n",
    "    - Relationship to compute the maximum integration bandwidth\n",
    "    - Effect on images (pointer to Griffin & Oleg)\n",
    "    \n",
    "---\n",
    "\n",
    "---\n",
    "\n",
    "---"
   ]
  },
  {
   "cell_type": "markdown",
   "metadata": {
    "collapsed": true
   },
   "source": [
    "<p class=conclusion>\n",
    "  <font size=4> **Important things to remember**</font>\n",
    "  <br>\n",
    "  <br>\n",
    "  \n",
    "&bull; *The measured spatial frequency depends on the length of the **projected** baseline* <br><br>\n",
    "&bull; *The measured spatial frequency depends on the length of the **projected** baseline*\n",
    "</p>"
   ]
  },
  {
   "cell_type": "markdown",
   "metadata": {
    "collapsed": true
   },
   "source": [
    "---\n",
    "* [Go back up](#beginning) <!--\\ref{beginning}--> \n",
    "* Or continue to next section: [4.5 The Fourier Approximation & the Van Cittert-Zernike theorem -->](4_5_The_Fourier_Approximation_VanCittert-Zernike_Theorem.ipynb)\n",
    "---"
   ]
  }
 ],
 "metadata": {
  "kernelspec": {
   "display_name": "Python 2",
   "language": "python",
   "name": "python2"
  },
  "language_info": {
   "codemirror_mode": {
    "name": "ipython",
    "version": 2
   },
   "file_extension": ".py",
   "mimetype": "text/x-python",
   "name": "python",
   "nbconvert_exporter": "python",
   "pygments_lexer": "ipython2",
   "version": "2.7.6"
  }
 },
 "nbformat": 4,
 "nbformat_minor": 0
}
