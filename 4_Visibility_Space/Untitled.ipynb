{
 "cells": [
  {
   "cell_type": "code",
   "execution_count": 19,
   "metadata": {
    "collapsed": true
   },
   "outputs": [],
   "source": [
    "# classic import\n",
    "import numpy as np\n",
    "import matplotlib.pyplot as plt\n",
    "import glob,os\n",
    "%matplotlib inline"
   ]
  },
  {
   "cell_type": "code",
   "execution_count": null,
   "metadata": {
    "collapsed": true
   },
   "outputs": [],
   "source": []
  },
  {
   "cell_type": "code",
   "execution_count": 31,
   "metadata": {
    "collapsed": false
   },
   "outputs": [
    {
     "name": "stdout",
     "output_type": "stream",
     "text": [
      "Opening kat-7\n",
      "Opening meerkat\n",
      "Opening skamid197\n",
      "Opening skamid254\n",
      "Opening vlaa\n",
      "Opening vlab\n",
      "Opening vlac\n",
      "Opening vlad\n",
      "Opening wsrt\n"
     ]
    }
   ],
   "source": [
    "# import coordinates\n",
    "filelist=sorted(glob.glob(\"*.enu.txt\"))\n",
    "filelist\n",
    "instru={}\n",
    "for i in filelist:\n",
    "    name=os.path.basename(i).split('.')[0]\n",
    "    print \"Opening \"+name\n",
    "    f=open(i,'r')\n",
    "    tabx=[]\n",
    "    taby=[]\n",
    "    tabz=[]\n",
    "    for line in f.readlines():\n",
    "        line=line.strip()\n",
    "        col=line.split()\n",
    "        tabx.append(col[0])\n",
    "        taby.append(col[1])\n",
    "        tabz.append('0')\n",
    "        \n",
    "    instru[name]=np.array([tabx,taby,tabz]).T.astype(float)"
   ]
  },
  {
   "cell_type": "code",
   "execution_count": 41,
   "metadata": {
    "collapsed": false
   },
   "outputs": [
    {
     "data": {
      "text/plain": [
       "['wsrt',\n",
       " 'kat-7',\n",
       " 'vlaa',\n",
       " 'vlac',\n",
       " 'vlab',\n",
       " 'skamid254',\n",
       " 'skamid197',\n",
       " 'vlad',\n",
       " 'meerkat']"
      ]
     },
     "execution_count": 41,
     "metadata": {},
     "output_type": "execute_result"
    }
   ],
   "source": [
    "instru.keys()"
   ]
  },
  {
   "cell_type": "code",
   "execution_count": 33,
   "metadata": {
    "collapsed": false
   },
   "outputs": [
    {
     "data": {
      "text/plain": [
       "(13, 3)"
      ]
     },
     "execution_count": 33,
     "metadata": {},
     "output_type": "execute_result"
    }
   ],
   "source": [
    "instru['wsrt'].shape"
   ]
  },
  {
   "cell_type": "code",
   "execution_count": 38,
   "metadata": {
    "collapsed": false
   },
   "outputs": [],
   "source": [
    "antennaPosition=instru['wsrt']\n"
   ]
  },
  {
   "cell_type": "markdown",
   "metadata": {},
   "source": []
  },
  {
   "cell_type": "code",
   "execution_count": 39,
   "metadata": {
    "collapsed": true
   },
   "outputs": [],
   "source": [
    "def xyz_to_baseline(ha, dec):\n",
    "    \n",
    "    a1 = np.sin(ha)\n",
    "    a2 = np.cos(ha)\n",
    "    a3 = 0.\n",
    "    \n",
    "    b1 = -1*np.sin(dec)*np.cos(ha)\n",
    "    b2 = np.sin(dec)*np.sin(ha)\n",
    "    b3 = np.cos(dec)\n",
    "    \n",
    "    c1 = np.cos(dec)*np.cos(ha)\n",
    "    c2 = -1*np.cos(dec)*np.sin(ha)\n",
    "    c3 = np.sin(dec)\n",
    "    \n",
    "    return np.array([(a1,a2,a3),(b1,b2,b3),(c1,c2,c3)])"
   ]
  },
  {
   "cell_type": "code",
   "execution_count": 40,
   "metadata": {
    "collapsed": false
   },
   "outputs": [
    {
     "ename": "NameError",
     "evalue": "name 'pylab' is not defined",
     "output_type": "error",
     "traceback": [
      "\u001b[1;31m---------------------------------------------------------------------------\u001b[0m",
      "\u001b[1;31mNameError\u001b[0m                                 Traceback (most recent call last)",
      "\u001b[1;32m<ipython-input-40-d3c4e5f9b31e>\u001b[0m in \u001b[0;36m<module>\u001b[1;34m()\u001b[0m\n\u001b[0;32m     10\u001b[0m \u001b[0mmxabs\u001b[0m \u001b[1;33m=\u001b[0m \u001b[0mnp\u001b[0m\u001b[1;33m.\u001b[0m\u001b[0mmax\u001b[0m\u001b[1;33m(\u001b[0m\u001b[0mabs\u001b[0m\u001b[1;33m(\u001b[0m\u001b[0mantennaPosition\u001b[0m\u001b[1;33m[\u001b[0m\u001b[1;33m:\u001b[0m\u001b[1;33m]\u001b[0m\u001b[1;33m)\u001b[0m\u001b[1;33m)\u001b[0m\u001b[1;33m;\u001b[0m\u001b[1;33m\u001b[0m\u001b[0m\n\u001b[0;32m     11\u001b[0m \u001b[1;31m# make use of pylab librery to plot\u001b[0m\u001b[1;33m\u001b[0m\u001b[1;33m\u001b[0m\u001b[0m\n\u001b[1;32m---> 12\u001b[1;33m \u001b[0mpylab\u001b[0m\u001b[1;33m.\u001b[0m\u001b[0mplot\u001b[0m\u001b[1;33m(\u001b[0m\u001b[0mantennaPosition\u001b[0m\u001b[1;33m[\u001b[0m\u001b[1;33m:\u001b[0m\u001b[1;33m,\u001b[0m\u001b[1;36m0\u001b[0m\u001b[1;33m]\u001b[0m\u001b[1;33m,\u001b[0m \u001b[0mantennaPosition\u001b[0m\u001b[1;33m[\u001b[0m\u001b[1;33m:\u001b[0m\u001b[1;33m,\u001b[0m\u001b[1;36m1\u001b[0m\u001b[1;33m]\u001b[0m\u001b[1;33m,\u001b[0m \u001b[1;34m'o'\u001b[0m\u001b[1;33m)\u001b[0m\u001b[1;33m\u001b[0m\u001b[0m\n\u001b[0m\u001b[0;32m     13\u001b[0m \u001b[0mpylab\u001b[0m\u001b[1;33m.\u001b[0m\u001b[0mxlim\u001b[0m\u001b[1;33m(\u001b[0m\u001b[1;33m-\u001b[0m\u001b[0mmxabs\u001b[0m\u001b[1;33m,\u001b[0m \u001b[0mmxabs\u001b[0m\u001b[1;33m)\u001b[0m\u001b[1;33m\u001b[0m\u001b[0m\n\u001b[0;32m     14\u001b[0m \u001b[0mpylab\u001b[0m\u001b[1;33m.\u001b[0m\u001b[0mylim\u001b[0m\u001b[1;33m(\u001b[0m\u001b[1;33m-\u001b[0m\u001b[0mmxabs\u001b[0m\u001b[1;33m,\u001b[0m \u001b[0mmxabs\u001b[0m\u001b[1;33m+\u001b[0m\u001b[1;36m5\u001b[0m\u001b[1;33m)\u001b[0m\u001b[1;33m\u001b[0m\u001b[0m\n",
      "\u001b[1;31mNameError\u001b[0m: name 'pylab' is not defined"
     ]
    }
   ],
   "source": [
    "# number of time slots\n",
    "ntimeslots = 300;\n",
    "# hour angle range in hours\n",
    "ha = np.linspace(-4, 4, ntimeslots)*np.pi/12;\n",
    "# declination convert in radian\n",
    "dec = 60.*np.pi/180.;\n",
    "#latitute\n",
    "latitute = 50*np.pi/180.\n",
    "# for abscisses scaling\n",
    "mxabs = np.max(abs(antennaPosition[:]));\n",
    "# make use of pylab librery to plot\n",
    "pylab.plot(antennaPosition[:,0], antennaPosition[:,1], 'o')\n",
    "pylab.xlim(-mxabs, mxabs)\n",
    "pylab.ylim(-mxabs, mxabs+5)\n",
    "pylab.xlabel(\"E\")\n",
    "pylab.ylabel(\"N\")\n",
    "pylab.title(\"Antenna positions\")\n",
    "pylab.show()"
   ]
  },
  {
   "cell_type": "code",
   "execution_count": 4,
   "metadata": {
    "collapsed": true
   },
   "outputs": [],
   "source": [
    "def track_uv(listha, lengthbaseline, elevation, azimuth, latitude, dec, ntimeslots):\n",
    "    \n",
    "    UVW = np.zeros((ntimeslots, 3), dtype=float)\n",
    "    for i in range(ntimeslots):\n",
    "        UVW[i, :] = np.dot(xyz_to_baseline(listha[i], dec),baseline_to_xyz(lengthbaseline, azimuth, elevation, latitude)).T    \n",
    "    return UVW"
   ]
  },
  {
   "cell_type": "code",
   "execution_count": 5,
   "metadata": {
    "collapsed": false
   },
   "outputs": [
    {
     "ename": "NameError",
     "evalue": "name 'baseline_angles' is not defined",
     "output_type": "error",
     "traceback": [
      "\u001b[1;31m---------------------------------------------------------------------------\u001b[0m",
      "\u001b[1;31mNameError\u001b[0m                                 Traceback (most recent call last)",
      "\u001b[1;32m<ipython-input-5-bf36e0cdeeae>\u001b[0m in \u001b[0;36m<module>\u001b[1;34m()\u001b[0m\n\u001b[1;32m----> 1\u001b[1;33m \u001b[0mB\u001b[0m \u001b[1;33m=\u001b[0m \u001b[0mbaseline_angles\u001b[0m\u001b[1;33m(\u001b[0m\u001b[0mantennaPosition\u001b[0m\u001b[1;33m)\u001b[0m\u001b[1;33m\u001b[0m\u001b[0m\n\u001b[0m\u001b[0;32m      2\u001b[0m \u001b[1;31m#number of antennas\u001b[0m\u001b[1;33m\u001b[0m\u001b[1;33m\u001b[0m\u001b[0m\n\u001b[0;32m      3\u001b[0m \u001b[0mna\u001b[0m \u001b[1;33m=\u001b[0m \u001b[0mlen\u001b[0m\u001b[1;33m(\u001b[0m\u001b[0mantennaPosition\u001b[0m\u001b[1;33m)\u001b[0m\u001b[1;33m\u001b[0m\u001b[0m\n\u001b[0;32m      4\u001b[0m \u001b[1;31m#number pair or baseline\u001b[0m\u001b[1;33m\u001b[0m\u001b[1;33m\u001b[0m\u001b[0m\n\u001b[0;32m      5\u001b[0m \u001b[0mnbl\u001b[0m \u001b[1;33m=\u001b[0m \u001b[0mna\u001b[0m\u001b[1;33m*\u001b[0m\u001b[1;33m(\u001b[0m\u001b[0mna\u001b[0m\u001b[1;33m-\u001b[0m\u001b[1;36m1\u001b[0m\u001b[1;33m)\u001b[0m\u001b[1;33m/\u001b[0m\u001b[1;36m2\u001b[0m\u001b[1;33m\u001b[0m\u001b[0m\n",
      "\u001b[1;31mNameError\u001b[0m: name 'baseline_angles' is not defined"
     ]
    }
   ],
   "source": [
    "B = baseline_angles(antennaPosition)\n",
    "#number of antennas\n",
    "na = len(antennaPosition)\n",
    "#number pair or baseline\n",
    "nbl = na*(na-1)/2\n",
    "for i in range (nbl):\n",
    "    uv = track_uv(ha, B[i, 0], 0., B[i, 1], latitute, dec, ntimeslots);\n",
    "    pylab.plot(uv[:,0], uv[:,1], 'b.')\n",
    "    pylab.plot(-uv[:,0], -uv[:,1], 'r.')\n",
    "pylab.xlabel('u')\n",
    "pylab.ylabel('v')\n",
    "pylab.title('uv coverage')\n",
    "mb = 5*np.sqrt((uv**2).sum(1)).max();\n",
    "pylab.xlim(-mb,mb);\n",
    "pylab.ylim(-mb,mb);\n",
    "pylab.show()"
   ]
  },
  {
   "cell_type": "code",
   "execution_count": null,
   "metadata": {
    "collapsed": true
   },
   "outputs": [],
   "source": []
  }
 ],
 "metadata": {
  "kernelspec": {
   "display_name": "Python 2",
   "language": "python",
   "name": "python2"
  },
  "language_info": {
   "codemirror_mode": {
    "name": "ipython",
    "version": 2
   },
   "file_extension": ".py",
   "mimetype": "text/x-python",
   "name": "python",
   "nbconvert_exporter": "python",
   "pygments_lexer": "ipython2",
   "version": "2.7.6"
  }
 },
 "nbformat": 4,
 "nbformat_minor": 0
}
