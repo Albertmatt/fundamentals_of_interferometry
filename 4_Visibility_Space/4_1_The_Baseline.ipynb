{
 "cells": [
  {
   "cell_type": "markdown",
   "metadata": {},
   "source": [
    "***\n",
    "<a id='beginning'></a> <!--\\label{beginning}-->\n",
    "\n",
    "* [Outline](../0_Introduction/0_introduction.ipynb)\n",
    "* [Glossary](../0_Introduction/1_glossary.ipynb)\n",
    "* [4. The Visibility space](4_0_introduction.ipynb)\n",
    "    * Previous: [4.0 Introduction: Why Interferometry ?](4_0_introduction_Why_Interferometry.ipynb)\n",
    "    * Next: [4.2 The 2-element Interferometer](4_2_The_2-element_Interferometer.ipynb)\n",
    "\n",
    "***"
   ]
  },
  {
   "cell_type": "code",
   "execution_count": 43,
   "metadata": {
    "collapsed": false
   },
   "outputs": [
    {
     "name": "stdout",
     "output_type": "stream",
     "text": [
      "Config loaded\n"
     ]
    },
    {
     "data": {
      "text/html": [
       "<style>\n",
       "\n",
       "p.prerequisites {\n",
       "    border:5px;\n",
       "    border-style:double;\n",
       "    background-color:#FFFFFF;\n",
       "    box-shadow: 5px 5px 2px #888888;\n",
       "    border-color:#FF0000;\n",
       "    padding: 1em;\n",
       "}\n",
       "\n",
       "p.conclusion {\n",
       "    border:5px;\n",
       "    border-style:none;\n",
       "    background-color:#c8ebca;\n",
       "    box-shadow: 5px 5px 2px #888888;\n",
       "    border-color:#c8ebca;\n",
       "    padding: 1em;\n",
       "}\n",
       "\n",
       "div.warn {    \n",
       "    background-color: #fcf2f2;\n",
       "    border-color: #dFb5b4;\n",
       "    border-left: 5px solid #dfb5b4;\n",
       "    padding: 0.5em;\n",
       "    }\n",
       "\n",
       "div.advice {    \n",
       "    background-color: #ecf8ed;\n",
       "    border-color: #a2dda5;\n",
       "    border-left: 5px solid #a2dda5;\n",
       "    padding: 0.5em;\n",
       "    }\n",
       " </style>\n",
       "\n",
       "\n"
      ],
      "text/plain": [
       "<IPython.core.display.HTML object>"
      ]
     },
     "execution_count": 43,
     "metadata": {},
     "output_type": "execute_result"
    }
   ],
   "source": [
    "#import initpython # containing all \"hidden\" packages (including CSS reader, and apply CSS style)\n",
    "from initpython import *\n",
    "css_styling()"
   ]
  },
  {
   "cell_type": "markdown",
   "metadata": {},
   "source": [
    "___\n",
    "# Outline\n",
    "## Section 4.1 The baseline and its representations in space\n",
    "\n",
    "### Intro\n",
    "    - Why baselines are so important\n",
    "    - baseline length <-> spatial frequency in the sky (see 4.3)\n",
    "\n",
    "### 4.1.1 The physical baseline\n",
    "   * 4.1.1.A Local definition of the baseline vector\n",
    "       - Relative antenna position on the ground\n",
    "       - Baseline difference vector\n",
    "       \n",
    "       \n",
    "   * 4.1.1.B Global definition in the (E,N,U) reference frame\n",
    "       - The (East, North, Up) system\n",
    "       - Baseline in the ENU system\n",
    "       \n",
    "\n",
    "### 4.1.2 The concept of projected baseline\n",
    "   \n",
    "   * 4.1.2.A Direction of observation - Concept of phase center\n",
    "       - $\\vec{s_0}$, $\\vec{s}$\n",
    "       - $\\vec{\\sigma}=\\vec{s}-\\vec{s_0}$ in the ($l$,$m$,$n$) system\n",
    "       \n",
    "       \n",
    "   * 4.1.2.B Projection of the baseline\n",
    "       - Geometry with respect to $\\vec{s_0}$\n",
    "       - Physical baseline, as seen from the source\n",
    "       - Projected baseline length & transiting source\n",
    "       \n",
    "       \n",
    "   * 4.1.2.C The Equatorial representation (X,Y,Z)\n",
    "       - Coming from Trienko Ch. 4\n",
    "       \n",
    "       \n",
    "   * 4.1.2.D The ($u$,$v$,$w$) space\n",
    "       - Definition of ($u$,$v$,$w$) with $\\lambda$\n",
    "\n",
    "### 4.1.3 Conversion between systems\n",
    "   * 4.1.3.A From direct space to (X, Y, Z)\n",
    "   \n",
    "   \n",
    "   * 4.1.3.B From (X, Y ,Z) to ($u$,$v$,$w$)\n",
    "   \n",
    "   \n",
    "   * 4.1.3.C From ...   \n",
    "\n",
    "___\n",
    "___\n",
    "___"
   ]
  },
  {
   "cell_type": "markdown",
   "metadata": {},
   "source": [
    "### 4.1.1 The concept of projected baseline"
   ]
  },
  {
   "cell_type": "markdown",
   "metadata": {},
   "source": [
    "#### 4.1.1.a Local definition of the baseline vector"
   ]
  },
  {
   "cell_type": "markdown",
   "metadata": {},
   "source": [
    "#### 4.1.1.b Global definition of the baseline vector"
   ]
  },
  {
   "cell_type": "markdown",
   "metadata": {},
   "source": [
    "### 4.1.2 The concept of projected baseline"
   ]
  },
  {
   "cell_type": "markdown",
   "metadata": {},
   "source": [
    "#### 4.1.2.a Direction of observation - Concept of phase center  "
   ]
  },
  {
   "cell_type": "markdown",
   "metadata": {},
   "source": [
    "#### 4.1.2.b Projection of the baseline"
   ]
  },
  {
   "cell_type": "markdown",
   "metadata": {},
   "source": [
    "#### 4.1.2.c The Equatorial representation (X,Y,Z) "
   ]
  },
  {
   "cell_type": "markdown",
   "metadata": {},
   "source": [
    "#### 4.1.2.d The ($u$,$v$,$w$) space"
   ]
  },
  {
   "cell_type": "markdown",
   "metadata": {},
   "source": [
    "We use the $XYZ$-terrestial reference frame as an intermediate coordinate system when \n",
    "we calculate our instrument's $uv$-coverage.\n",
    "\n",
    "We can denote the orientation of the $XYZ$-coordinate system by using equatorial coordinates $(H; \\delta)$, with $H$ being the hour angle and $\\delta$ the declination. In the coordinate system $XYZ$:\n",
    "\n",
    "* the $X$-axis points towards $(0^\\textrm{h}; 0^{\\circ})$ ($\\gamma$ the point where the vernal equinox crosses the local meridian)\n",
    "* the $Y$-axis towards $(-6^\\textrm{h}; 0^{\\circ})$ (East)\n",
    "* the $Z$-axis towards the North Celestial Pole (NCP). "
   ]
  },
  {
   "cell_type": "markdown",
   "metadata": {},
   "source": [
    "<div class=warn>\n",
    "**Warning:** Although we use equatorial coordinates to define the $XYZ$-coordinate system, it represents a **terrestial** reference frame, as the $X$, $Y$ and $Z$ axes never change orientation for a local observer on Earth\n",
    "<div/>"
   ]
  },
  {
   "cell_type": "markdown",
   "metadata": {},
   "source": [
    "<img src='figures/xyz_XYZ.png' width=30%>"
   ]
  },
  {
   "cell_type": "markdown",
   "metadata": {},
   "source": [
    "<div align=\"center\">**Figure 1**: The (X,Y,Z) Reference frame <br>\n",
    "$T$: local zenith<br>\n",
    "($X$,$Y$) = Celestial plane (blue) $\\perp$ to the NCP<br>\n",
    "($N$,$S$,$E$,$W$) Antenna plane (red) $\\perp$ to the local zenith (T)<br> </div>"
   ]
  },
  {
   "cell_type": "markdown",
   "metadata": {},
   "source": [
    "### 4.1.3 Conversion between coordinate systems"
   ]
  },
  {
   "cell_type": "markdown",
   "metadata": {},
   "source": [
    "#### 4.1.3.a From local space to $XYZ$ terrestrial reference frame"
   ]
  },
  {
   "cell_type": "markdown",
   "metadata": {},
   "source": [
    "The antenna positions of an array are normally given in $ENU$ (East, North, Up) coordinates (REF). These coordinates are used to calculate the components baseline difference vectors (REF). We then obtain the **magnitude** $s$, the **azimuth** angle $E$ and the **elevation** angle $A$ of these difference vectors. Combined with the **latitude** $L_a$ of the array, we can convert our baseline vectors into the $XYZ$ coordinate system.\n",
    "\n",
    "The following equation describes this conversion in a mathematical rigorous way:    "
   ]
  },
  {
   "cell_type": "markdown",
   "metadata": {},
   "source": [
    "\\begin{equation}\n",
    "\\begin{bmatrix}\n",
    "X\\\\\n",
    "Y\\\\\n",
    "Z\n",
    "\\end{bmatrix}\n",
    "=\n",
    "\\begin{bmatrix}\n",
    "s\\cos \\delta \\cos H\\\\\n",
    "-s\\cos \\delta \\sin H\\\\\n",
    "s\\sin \\delta\n",
    "\\end{bmatrix}\n",
    "=s\n",
    "\\begin{bmatrix}\n",
    "\\cos L \\sin E - \\sin L \\cos E \\cos A\\nonumber\\\\ \n",
    "\\cos E \\sin A \\nonumber\\\\\n",
    "\\sin L \\sin E + \\cos L \\cos E \\cos A\n",
    "\\end{bmatrix}\n",
    "\\end{equation}"
   ]
  },
  {
   "cell_type": "markdown",
   "metadata": {},
   "source": [
    "<div align=\"center\">**Equation n**: Conversion from baseline difference vector $s,E,A$ to $XYZ$ <br>\n",
    "$s$: amplitude of baseline difference vector <br>$H$: Hour angle, $\\delta$: Declination, $L_a$ latitude of the array<br></div>"
   ]
  },
  {
   "cell_type": "markdown",
   "metadata": {},
   "source": [
    "#### 4.1.3.b From $XYZ$ to $uvw$"
   ]
  },
  {
   "cell_type": "markdown",
   "metadata": {},
   "source": [
    "#### 4.1.3.c From ..."
   ]
  },
  {
   "cell_type": "markdown",
   "metadata": {},
   "source": [
    "___"
   ]
  },
  {
   "cell_type": "markdown",
   "metadata": {},
   "source": [
    "<p class=conclusion>\n",
    "  <font size=4> **Important things to remember**</font>\n",
    "  <br>\n",
    "  <br>\n",
    "  \n",
    "&bull; *The measured spatial frequency depends on the length of the **projected** baseline* <br><br>\n",
    "&bull; *The measured spatial frequency depends on the length of the **projected** baseline*\n",
    "</p>\n"
   ]
  },
  {
   "cell_type": "markdown",
   "metadata": {},
   "source": [
    "---\n",
    "* [Go back up](#beginning) <!--\\ref{beginning}--> \n",
    "* Or continue to next section: [4.2 The 2-element Interferometer -->](4_2_The_2-element_Interferometer.ipynb)\n",
    "---"
   ]
  },
  {
   "cell_type": "code",
   "execution_count": null,
   "metadata": {
    "collapsed": true
   },
   "outputs": [],
   "source": []
  }
 ],
 "metadata": {
  "kernelspec": {
   "display_name": "Python 2",
   "language": "python",
   "name": "python2"
  },
  "language_info": {
   "codemirror_mode": {
    "name": "ipython",
    "version": 2
   },
   "file_extension": ".py",
   "mimetype": "text/x-python",
   "name": "python",
   "nbconvert_exporter": "python",
   "pygments_lexer": "ipython2",
   "version": "2.7.6"
  }
 },
 "nbformat": 4,
 "nbformat_minor": 0
}
