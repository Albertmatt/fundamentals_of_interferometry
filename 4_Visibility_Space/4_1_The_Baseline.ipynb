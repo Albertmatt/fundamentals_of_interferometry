{
 "cells": [
  {
   "cell_type": "markdown",
   "metadata": {},
   "source": [
    "***\n",
    "<a id='beginning'></a> <!--\\label{beginning}-->\n",
    "\n",
    "* [Outline](../0_Introduction/0_introduction.ipynb)\n",
    "* [Glossary](../0_Introduction/1_glossary.ipynb)\n",
    "* [4. The Visibility space](4_0_introduction.ipynb)\n",
    "    * Previous: [4.0 Introduction: Why Interferometry ?](4_0_introduction_Why_Interferometry.ipynb)\n",
    "    * Next: [4.2 The 2-element Interferometer](4_2_The_2-element_Interferometer.ipynb)\n",
    "\n",
    "***"
   ]
  },
  {
   "cell_type": "code",
   "execution_count": null,
   "metadata": {
    "collapsed": false
   },
   "outputs": [],
   "source": [
    "from IPython.core.display import HTML\n",
    "styles = open(\"../style/course.css\", \"r\").read()\n",
    "HTML(styles)"
   ]
  },
  {
   "cell_type": "markdown",
   "metadata": {},
   "source": [
    "___\n",
    "# Outline\n",
    "## Section 4.1 The baseline and its representations in space\n",
    "\n",
    "### Intro\n",
    "    - Why baselines are so important\n",
    "    - baseline length <-> spatial frequency in the sky (see 4.3)\n",
    "\n",
    "### 4.1.1 The physical baseline\n",
    "   * 4.1.1.A Local definition of the baseline vector\n",
    "       - Relative antenna position on the ground\n",
    "       - Baseline difference vector\n",
    "       \n",
    "       \n",
    "   * 4.1.1.B Global definition in the (E,N,U) reference frame\n",
    "       - The (East, North, Up) system\n",
    "       - Baseline in the ENU system\n",
    "       \n",
    "\n",
    "### 4.1.2 The concept of projected baseline\n",
    "   \n",
    "   * 4.1.2.A Direction of observation - Concept of phase center\n",
    "       - $\\vec{s_0}$, $\\vec{s}$\n",
    "       - $\\vec{\\sigma}=\\vec{s}-\\vec{s_0}$ in the ($l$,$m$,$n$) system\n",
    "       \n",
    "       \n",
    "   * 4.1.2.B Projection of the baseline\n",
    "       - Geometry with respect to $\\vec{s_0}$\n",
    "       - Physical baseline, as seen from the source\n",
    "       - Projected baseline length & transiting source\n",
    "       \n",
    "       \n",
    "   * 4.1.2.C The Equatorial representation (X,Y,Z)\n",
    "       - Coming from Trienko Ch. 4\n",
    "       \n",
    "       \n",
    "   * 4.1.2.D The ($u$,$v$,$w$) space\n",
    "       - Definition of ($u$,$v$,$w$) with $\\lambda$\n",
    "\n",
    "### 4.1.3 Conversion between systems\n",
    "   * 4.1.3.A From direct space to (X, Y, Z)\n",
    "   \n",
    "   \n",
    "   * 4.1.3.B From (X, Y ,Z) to ($u$,$v$,$w$)\n",
    "   \n",
    "   \n",
    "   * 4.1.3.C From ...   \n",
    "\n",
    "___\n",
    "___\n",
    "___"
   ]
  },
  {
   "cell_type": "markdown",
   "metadata": {},
   "source": [
    "### Introduction"
   ]
  },
  {
   "cell_type": "markdown",
   "metadata": {},
   "source": [
    "In order to understand how an interferometer works, we first have to spend some time describing the its basic \"measurement tool\": the baseline.\n",
    "As seen in the introduction, the concept of baseline really matters as a **relative** quantity as it constrains both the *physical configuration* of the instrument as well as the *physical quantity* that is measured by it (see. Sect. 4.3).\n",
    "\n",
    "An important concept will be introduced, the concept of **baseline projection** which is a quantity that is observer dependent, time dependent, frequency dependent and direction dependent.\n",
    "\n",
    "By linking Chap. 2 and Chap. 3, the entire section is devoted to the manipulation and expression of the baseline in the various reference frames."
   ]
  },
  {
   "cell_type": "markdown",
   "metadata": {},
   "source": [
    "<div class=advice>\n",
    "**Note:** The derivation of some expressions that will be presented can be found in appendix [INREF].\n",
    "</div>"
   ]
  },
  {
   "cell_type": "markdown",
   "metadata": {},
   "source": [
    "We will start by defining the notations along with the vector definition we will use in the entire course. The progression is designed to go from the local **immediate** space of the observer (local $x$,$y$, $z$ on Earth) to the sky coordinates in the equatorial frame ($\\alpha$, $\\delta$) by a series of four transforms:\n",
    "\n",
    "* From local ($x$,$y$,$z$) to the (**E**ast, **N**orth, **U**p) \n",
    "* From local  **E**, **N**, **U** to local azimuth/elevation ($A$, $E$) \n",
    "* From local ($A$,$E$) to equatorial ($X$, $Y$, $Z$) \n",
    "* From the equatorial ($X$, $Y$, $Z$) to the ($u$, $v$, $w$)-space\n",
    "* (Addition) From the ($u$, $v$, $w$) back to the ($\\alpha$,$\\delta$) coordinates"
   ]
  },
  {
   "cell_type": "markdown",
   "metadata": {},
   "source": [
    "### 4.1.1 The physical baseline"
   ]
  },
  {
   "cell_type": "markdown",
   "metadata": {},
   "source": [
    "#### 4.1.1.A Local definition of the baseline vector"
   ]
  },
  {
   "cell_type": "markdown",
   "metadata": {},
   "source": [
    "Let's assume:\n",
    "\n",
    "* A local Cartesian reference frame defined as $\\mathcal{R}$ ($O$, $\\mathcal{B}$($\\mathbf{\\hat{e}_x}, \\mathbf{\\hat{e}_y}, \\mathbf{\\hat{e}_z}$))\n",
    "\n",
    "* A set of two antennas defined by their position vector in $\\mathcal{B}$:\n",
    "\n",
    "$$\\textbf{a}_1=\\vec{OA}_1=x_1 \\mathbf{\\hat{e}_x} + y_1 \\mathbf{\\hat{e}_y} + z_1 \\mathbf{\\hat{e}_z}$$\n",
    "\n",
    "$$\\textbf{a}_2=\\vec{OA}_2=x_2\\mathbf{\\hat{e}_x} + y_2 \\mathbf{\\hat{e}_y} + z_2 \\mathbf{\\hat{e}_z}$$\n",
    "\n",
    "defined by their coordinates ($x_1$,$y_1$,$z_1$) and ($x_2$,$y_2$,$z_2$) in $\\mathcal{B}$.\n",
    "\n",
    "We assume that the distance between the antennas is small enough to consider the ground to be plane on which the basis of vector can be translated without any rotation or deformation.\n",
    "\n",
    "The **local physical baseline** in cartesian coordinates is defined as the vector $\\mathbf{b}$ = $\\mathbf{a}_2 - \\mathbf{a}_1$ = $\\vec{A_2A_1}$"
   ]
  },
  {
   "cell_type": "markdown",
   "metadata": {},
   "source": [
    "<img src='figures/vectorxyz.png' width=40%>"
   ]
  },
  {
   "cell_type": "markdown",
   "metadata": {},
   "source": [
    "<div align=\"center\">**Figure 1**: Definition of a vector in a cartesian coordinate system.<br>\n",
    "</div>"
   ]
  },
  {
   "cell_type": "markdown",
   "metadata": {},
   "source": [
    "<div class=warn>\n",
    "**Warning:** The baseline is a **relative quantity** which is **independent of the origin** of the reference frame. This will be important in the following.\n",
    "</div>"
   ]
  },
  {
   "cell_type": "markdown",
   "metadata": {},
   "source": [
    "#### 4.1.1.B Global definition of the baseline vector: the (East, North, Up) reference frame"
   ]
  },
  {
   "cell_type": "markdown",
   "metadata": {},
   "source": [
    "The problem with the previous formulation is that orientation of $\\mathbf{\\hat{e}_x}, \\mathbf{\\hat{e}_y}, \\mathbf{\\hat{e}_z}$ are arbitrary. For convenienve, it -should- be attached to an *absolute* reference on Earth. This can be unambiguously achieved defining a new cartesian basis defined by the cardinal point.\n",
    "\n",
    "* We define the origin $O$ at an arbitrary center (e.g. center of the  antenna layout)\n",
    "* A *global* right-handed orthonormal basis $\\mathcal{B}'$($\\mathbf{\\hat{e}_E}, \\mathbf{\\hat{e}_N}, \\mathbf{\\hat{e}_U}$)) pointing respectively towards the **East**, the geographical **North** and towards the local vertical (pointing the Zenith, e.g. **Up**).\n",
    "\n",
    "The baseline vector is still expressed in a local reference frame but is coincidental with the local North and East."
   ]
  },
  {
   "cell_type": "markdown",
   "metadata": {},
   "source": [
    "#### 4.1.1.C Baseline in horizontal coordinates"
   ]
  },
  {
   "cell_type": "markdown",
   "metadata": {},
   "source": [
    "As seen in Chap. 3 [EXREF], an observer located somewhoere on Earth can define a direction on the sky in terms of local *azimuth* and *elevation*. Similarly, a baseline can also be expressed in terms of azimuth and elevation.\n",
    "\n",
    "Let's go back to our antenna pair. We defined now:\n",
    "\n",
    "* Antenna 1 as the origine of the reference frame origin on the ground.\n",
    "* The North, East and Up axes (see 4.1.1.B [INREF]).\n",
    "\n",
    "The *azimuth* $A$ is the angle contained in the plane of the local ground counted positively clock-wise from North to East.\n",
    "\n",
    "The *elevation* $E$ is the angle counted positively from the horizon to the local zenith.\n",
    "\n"
   ]
  },
  {
   "cell_type": "markdown",
   "metadata": {},
   "source": [
    "<img src='figures/enu_alt_az.png' width=40%>"
   ]
  },
  {
   "cell_type": "markdown",
   "metadata": {},
   "source": [
    "<div align=\"center\">**Figure 2**: Relation between the horizontal frame ($E$,$A$) and the ($E$,$N$,$U$) cartesian frame.<br>\n",
    "</div>"
   ]
  },
  {
   "cell_type": "markdown",
   "metadata": {},
   "source": [
    "The baseline vector expressed as follows in the $\\mathcal{B}'$ basis:\n",
    "\n",
    "\\begin{equation}\n",
    "\\mathbf{b}_{ENU}\n",
    "=\n",
    "|\\mathbf{b}|\n",
    "\\begin{bmatrix}\n",
    "\\sin A \\cos E\\\\\n",
    "\\cos A \\cos E\\\\\n",
    "\\sin E\n",
    "\\end{bmatrix}\n",
    "\\end{equation}"
   ]
  },
  {
   "cell_type": "markdown",
   "metadata": {},
   "source": [
    "<div class=advice>\n",
    "**Note:** If Antenna 2 and Antenna 1 share the same $U$ (e.g. Antenna 1 and Antenna 2 lying on the ground plane), then the elevation of the baseline is 0$^\\circ$.\n",
    "</div>"
   ]
  },
  {
   "cell_type": "markdown",
   "metadata": {},
   "source": [
    "<div class=warn>\n",
    "**Warning:** <br>\n",
    "* The geographer and the radioastronomer use different conventions for the origin and variation of the azimuth. We will use the radioastronomer convention as defined in the course. <br>\n",
    "* The horizontal coordinate ressembles a 2D spherical coordinates system with different conventions for the angle origin and direction of variation.\n",
    "</div>"
   ]
  },
  {
   "cell_type": "markdown",
   "metadata": {},
   "source": [
    "### 4.1.2 The concept of projected baseline"
   ]
  },
  {
   "cell_type": "markdown",
   "metadata": {},
   "source": [
    "#### 4.1.2.A Direction of observation - Concept of phase center  "
   ]
  },
  {
   "cell_type": "markdown",
   "metadata": {},
   "source": [
    "In the previous section, we have defined the baseline in three various representations: two being expressed in a cartesian coordinate system and one in a spherical like coordinate.\n",
    "Even though the baseline is a **relative** quantity, it is still tight to the location of the observer on Earth.\n",
    "\n",
    "We need to find a set of reference frame which enable to attach the baseline definition to sky coordinates.\n",
    "\n",
    "To accomplish that, it is required to define a direction on the sky, using the reference frames in Chap. 3 [EXREF]."
   ]
  },
  {
   "cell_type": "markdown",
   "metadata": {},
   "source": [
    "As our ultimate goal is to observe sources that are considered included in the *celestial sphere* [EXREF] (at an $\\sim$ infinite distance), we will consider as in Chap. 2 [EXREF], that we are receiving an plane electromagnetic (EM) wave coming from a direction $\\mathbf{s_0}$. If this incoming direction is not directly at the local zenith, then the signal will attain Antenna 1 and Antenna 2 at different times, introducing a **delay** difference between the reception of the EM signal. Given the speed of the light, this time delay is related to the Optical Path Difference $\\Delta l$ with $\\Delta l = c \\Delta t$.\n",
    "\n",
    "Later, when we want to combine the signal from Antenna 1 and Antenna 2 from this direction, we have to take into account and correct for this delay (see Chap. ...)."
   ]
  },
  {
   "cell_type": "markdown",
   "metadata": {},
   "source": [
    "Assuming that this delay was corrected properly with the hardware, the direction $\\mathbf{s_0}$ will be defined as the phase center."
   ]
  },
  {
   "cell_type": "markdown",
   "metadata": {},
   "source": [
    "#### 4.1.2.B Projection of the baseline"
   ]
  },
  {
   "cell_type": "markdown",
   "metadata": {},
   "source": [
    "#### 4.1.2.C The Equatorial representation (X,Y,Z) "
   ]
  },
  {
   "cell_type": "markdown",
   "metadata": {},
   "source": [
    "We use the $XYZ$-terrestial reference frame as an intermediate coordinate system when \n",
    "we calculate our instrument's $uv$-coverage.\n",
    "\n",
    "We can denote the orientation of the $XYZ$-coordinate system by using equatorial coordinates $(H; \\delta)$, with $H$ being the hour angle and $\\delta$ the declination. In the coordinate system $XYZ$:\n",
    "\n",
    "* the $X$-axis points towards $(0^\\textrm{h}; 0^{\\circ})$ ($\\gamma$ the point where the vernal equinox crosses the local meridian)\n",
    "* the $Y$-axis towards $(-6^\\textrm{h}; 0^{\\circ})$ (East)\n",
    "* the $Z$-axis towards the North Celestial Pole (NCP). "
   ]
  },
  {
   "cell_type": "markdown",
   "metadata": {},
   "source": [
    "<div class=warn>\n",
    "**Warning:** Although we use equatorial coordinates to define the $XYZ$-coordinate system, it represents a **terrestial** reference frame, as the $X$, $Y$ and $Z$ axes never change orientation for a local observer on Earth.\n",
    "<div/>"
   ]
  },
  {
   "cell_type": "markdown",
   "metadata": {},
   "source": [
    "<img src='figures/xyz_XYZ.png' width=30%>"
   ]
  },
  {
   "cell_type": "markdown",
   "metadata": {},
   "source": [
    "<div align=\"center\">**Figure 1**: The (X,Y,Z) Reference frame <br>\n",
    "$T$: local zenith<br>\n",
    "($X$,$Y$) = Celestial plane (blue) $\\perp$ to the NCP<br>\n",
    "($N$,$S$,$E$,$W$) Antenna plane (red) $\\perp$ to the local zenith (T)<br> </div>"
   ]
  },
  {
   "cell_type": "markdown",
   "metadata": {},
   "source": [
    "#### 4.1.2.D The ($u$,$v$,$w$) space"
   ]
  },
  {
   "cell_type": "markdown",
   "metadata": {},
   "source": [
    "### 4.1.3 Conversion between coordinate systems"
   ]
  },
  {
   "cell_type": "markdown",
   "metadata": {},
   "source": [
    "#### 4.1.3.A From local space to $XYZ$ terrestrial reference frame"
   ]
  },
  {
   "cell_type": "markdown",
   "metadata": {},
   "source": [
    "The antenna positions of an array are normally given in $ENU$ (East, North, Up) coordinates (REF). These coordinates are used to calculate the components baseline difference vectors (REF). We then obtain the **magnitude** $s$, the **azimuth** angle $E$ and the **elevation** angle $A$ of these difference vectors. Combined with the **latitude** $L_a$ of the array, we can convert our baseline vectors into the $XYZ$ coordinate system.\n",
    "\n",
    "The following equation describes this conversion in a mathematical rigorous way:    "
   ]
  },
  {
   "cell_type": "markdown",
   "metadata": {},
   "source": [
    "\\begin{equation}\n",
    "\\begin{bmatrix}\n",
    "X\\\\\n",
    "Y\\\\\n",
    "Z\n",
    "\\end{bmatrix}\n",
    "=\n",
    "\\begin{bmatrix}\n",
    "s\\cos \\delta \\cos H\\\\\n",
    "-s\\cos \\delta \\sin H\\\\\n",
    "s\\sin \\delta\n",
    "\\end{bmatrix}\n",
    "=s\n",
    "\\begin{bmatrix}\n",
    "\\cos L \\sin E - \\sin L \\cos E \\cos A\\nonumber\\\\ \n",
    "\\cos E \\sin A \\nonumber\\\\\n",
    "\\sin L \\sin E + \\cos L \\cos E \\cos A\n",
    "\\end{bmatrix}\n",
    "\\end{equation}"
   ]
  },
  {
   "cell_type": "markdown",
   "metadata": {},
   "source": [
    "<div align=\"center\">**Equation A**: Conversion from baseline difference vector $s,E,A$ to $XYZ$ <br>\n",
    "$s$: amplitude of baseline difference vector <br>$H$: Hour angle, $\\delta$: Declination, $L_a$ latitude of the array<br></div>"
   ]
  },
  {
   "cell_type": "markdown",
   "metadata": {},
   "source": [
    "<div class=advice>\n",
    "**Note:** The complete derivation of Eq. A from the spherical triangle **ZTS** can be found in Appendix A.1 [INREF]\n",
    "</div>"
   ]
  },
  {
   "cell_type": "markdown",
   "metadata": {},
   "source": [
    "#### 4.1.3.B From $XYZ$ to $uvw$"
   ]
  },
  {
   "cell_type": "markdown",
   "metadata": {},
   "source": [
    "#### 4.1.3.C From $uvw$ to ($\\alpha$, $\\delta$)"
   ]
  },
  {
   "cell_type": "markdown",
   "metadata": {},
   "source": [
    "* ($x, y, z$) - Cartesian coordinates\n",
    "* ($\\rho,\\theta,\\varphi$) - Spherical coordinates\n",
    "* ($l,m$, $n$) - Direction Cosines\n",
    "* ($X,Y$, $Z$) - Equatorial Coordinate Reference Frame (Baselines)\n",
    "* ($u,v$, $w$) - Visibility Coordinate System\n",
    "\n",
    "\n",
    "* $\\mathbf{\\hat{e}_x},\\mathbf{\\hat{e}_y},\\mathbf{\\hat{e}_z}$ - Basis for cartesian\n",
    "* $\\mathbf{\\hat{e}_{\\rho}},\\mathbf{\\hat{e}_{\\theta}},\\mathbf{\\hat{e}_{\\varphi}}$ - Basis for spherical\n",
    "* $\\mathbf{\\hat{e}_X},\\mathbf{\\hat{e}_Y},\\mathbf{\\hat{e}_Z}$ - Basis for equatorial XYZ\n",
    "* $\\mathbf{\\hat{e}_u},\\mathbf{\\hat{e}_v},\\mathbf{\\hat{e}_w}$ - Basis for uvw\n",
    "* $\\mathbf{\\hat{e}_l},\\mathbf{\\hat{e}_m},\\mathbf{\\hat{e}_n}$ - Basis for lmn"
   ]
  },
  {
   "cell_type": "markdown",
   "metadata": {},
   "source": [
    "___"
   ]
  },
  {
   "cell_type": "markdown",
   "metadata": {},
   "source": [
    "<p class=conclusion>\n",
    "  <font size=4> **Important things to remember**</font>\n",
    "  <br>\n",
    "  <br>\n",
    "  \n",
    "&bull; *The measured spatial frequency depends on the length of the **projected** baseline* <br><br>\n",
    "&bull; *The measured spatial frequency depends on the length of the **projected** baseline*\n",
    "</p>\n"
   ]
  },
  {
   "cell_type": "markdown",
   "metadata": {},
   "source": [
    "---\n",
    "* [Go back up](#beginning) <!--\\ref{beginning}--> \n",
    "* Or continue to next section: [4.2 The 2-element Interferometer -->](4_2_The_2-element_Interferometer.ipynb)\n",
    "---"
   ]
  },
  {
   "cell_type": "code",
   "execution_count": null,
   "metadata": {
    "collapsed": true
   },
   "outputs": [],
   "source": []
  }
 ],
 "metadata": {
  "kernelspec": {
   "display_name": "Python 2",
   "language": "python",
   "name": "python2"
  },
  "language_info": {
   "codemirror_mode": {
    "name": "ipython",
    "version": 2
   },
   "file_extension": ".py",
   "mimetype": "text/x-python",
   "name": "python",
   "nbconvert_exporter": "python",
   "pygments_lexer": "ipython2",
   "version": "2.7.6"
  }
 },
 "nbformat": 4,
 "nbformat_minor": 0
}
