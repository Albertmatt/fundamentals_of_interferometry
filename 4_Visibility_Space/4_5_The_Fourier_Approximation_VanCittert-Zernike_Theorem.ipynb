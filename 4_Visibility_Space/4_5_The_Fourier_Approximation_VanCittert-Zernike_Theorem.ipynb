{
 "cells": [
  {
   "cell_type": "markdown",
   "metadata": {
    "collapsed": true
   },
   "source": [
    "***\n",
    "<a id='beginning'></a> <!--\\label{beginning}-->\n",
    "* [Outline](../0_Introduction/0_introduction.ipynb)\n",
    "* [Glossary](../0_Introduction/1_glossary.ipynb)\n",
    "* [4. The Visibility space](4_0_introduction.ipynb)\n",
    "    * Previous: [4.4.4 UV Coverage: Limits to integration](4_4_4_UV_Coverage_Limits_of_integration.ipynb)\n",
    "    * Next: [4.6 Further Reading And References](4_6_Further_Reading_And_References.ipynb)\n",
    "    * Or jump to the next chapter: [5. Imaging](../5_Imaging/5_0_introduction.ipynb)\n",
    "\n",
    "***"
   ]
  },
  {
   "cell_type": "code",
   "execution_count": 1,
   "metadata": {
    "collapsed": false
   },
   "outputs": [
    {
     "data": {
      "text/html": [
       "<style>\n",
       "\n",
       "p.prerequisites {\n",
       "    border:5px;\n",
       "    border-style:none;\n",
       "    background-color:#F0F0F0;\n",
       "    box-shadow: 5px 5px 2px #888888;\n",
       "    border-color:#FF0000;\n",
       "    padding: 1em;\n",
       "}\n",
       "\n",
       "p.conclusion {\n",
       "    border:5px;\n",
       "    border-style:none;\n",
       "    background-color:#c8ebca;\n",
       "    box-shadow: 5px 5px 2px #888888;\n",
       "    border-color:#c8ebca;\n",
       "    padding: 1em;\n",
       "}\n",
       "\n",
       "div.warn {    \n",
       "    background-color: #fcf2f2;\n",
       "    border-color: #dFb5b4;\n",
       "    border-left: 5px solid #dfb5b4;\n",
       "    padding: 0.5em;\n",
       "    }\n",
       "\n",
       "div.advice {    \n",
       "    background-color: #ecf8ed;\n",
       "    border-color: #a2dda5;\n",
       "    border-left: 5px solid #a2dda5;\n",
       "    padding: 0.5em;\n",
       "    }\n",
       " </style>\n",
       "\n",
       "\n"
      ],
      "text/plain": [
       "<IPython.core.display.HTML object>"
      ]
     },
     "execution_count": 1,
     "metadata": {},
     "output_type": "execute_result"
    }
   ],
   "source": [
    "from IPython.core.display import HTML\n",
    "import matplotlib.pyplot as plt\n",
    "import numpy as np\n",
    "\n",
    "%matplotlib inline\n",
    "\n",
    "styles = open(\"../style/course.css\", \"r\").read()\n",
    "HTML(styles)"
   ]
  },
  {
   "cell_type": "markdown",
   "metadata": {},
   "source": [
    "### Intro\n",
    "\n",
    "In order to formulate this theorem, a number of assumption must be taken. Some of them were already assumed in the previous developments but the purpose of this section is to list them more exhaustively."
   ]
  },
  {
   "cell_type": "markdown",
   "metadata": {},
   "source": [
    "- Dropping the W-term (+ link to Griffin's)\n",
    "- Small field approx, narrow-bandwidth, regular/identical beam patterns (link to Oleg's)\n",
    "- Formulation of the theorem\n",
    "\n",
    "---\n",
    "# Outline\n",
    "\n",
    "## Section 4.5 The Fourier Approximation & The Van Cittert-Zernike Theorem\n",
    "\n",
    "### Intro\n",
    "\n",
    "- Real world Problems:\n",
    "\n",
    "    - Non-coplanar arrays (continent scale arrays)\n",
    "    - Large fields of view (at low frequency)\n",
    "    - Direction-Dependent Effects\n",
    "    - How to address them => Jones formalism (point to Oleg)\n",
    "\n",
    "### 4.5.1 Fourier approximations\n",
    "Note: from the source to the observer\n",
    "      "
   ]
  },
  {
   "cell_type": "markdown",
   "metadata": {},
   "source": [
    "##### 4.5.1.A Mutual incoherence of the source\n",
    "In this approximation, we assume that the different part of the sky are not coherent to each other. The sky can be describe as a collection of point sources. Therefore, the visibility function is linear regarding the directions in the sky as the correlation between $\\mathbf{s}_i$ and $\\mathbf{s}_j$ is non zero only when $i=j$."
   ]
  },
  {
   "cell_type": "markdown",
   "metadata": {},
   "source": [
    "#### 4.5.1.C Far-field approximation\n",
    "\n",
    "In the ideal case, we are observing sources that lie on the celestial sphere at an infinite distance. The antenna patterns are the Far-Field pattern.\n",
    "The expression of the visibility in a spherical reference is therefore independent of $r$, the distance from the observer to the source. The distance $R >> \\frac{|\\mathbf{b}_\\text{max}|^2}{\\lambda}$ so that the dependence of Eq. xx are simplified. All extended sources are confined to the celestial sphere and are seen through their 2D projection on it."
   ]
  },
  {
   "cell_type": "markdown",
   "metadata": {},
   "source": [
    "##### 4.5.1.B Homogeneity of the medium\n",
    "In the simple case of classical radio sources, we assume no propagation effect on the signal. The latter will be invalid when observing:\n",
    "\n",
    "- a polarized signal through a magnetized medium (e.g. the Faraday rotation of polarized radio emission through the magnetized IGM/ISM)\n",
    "\n",
    "- a pulsar through the IGM medium which cause signal distortions (spectral dispersion and temporal broadening of the pulses)"
   ]
  },
  {
   "cell_type": "markdown",
   "metadata": {},
   "source": [
    "#### 4.5.1.D Small-field approximation\n",
    "    - antenna directional gains are constant\n",
    "    - 2D projection on the (l,m) plane\n",
    "    - sources are small\n",
    "    \n",
    "Assuming that the observing region of the sky is small, we will consider that:\n",
    "- the antenna gain is considered constant over the FoV: $A(l,m) \\approx cte$\n",
    "- the sky is observed as a 2D projection onto the (l,m) plane: $(\\alpha_0,\\delta_0)\\leftrightarrow(l,m)$\n",
    "- the extended sources are small relative to the FoV: $\\Delta\\theta_\\text{source} << \\Delta\\theta_\\text{FoV}$\n",
    "- $w$ is small\n"
   ]
  },
  {
   "cell_type": "markdown",
   "metadata": {},
   "source": [
    "#### 4.5.1.E Coplanar array\n",
    "The antennas lie on the same local horizontal plane and that $w << u,v$. This is valid under the condition that $...$.\n",
    "The $w$-term can be ignored."
   ]
  },
  {
   "cell_type": "markdown",
   "metadata": {},
   "source": [
    "#### 4.5.1.F Narrowband approximation\n",
    "\n",
    "The correlator is operated in a narrow-bandwith $\\Delta \\nu$ (condition)"
   ]
  },
  {
   "cell_type": "markdown",
   "metadata": {},
   "source": [
    "#### 4.5.1.G Continuous sampling approximation\n",
    "    - PSF... to write an integral\n",
    "The sampling of the complex visibility function is continuous, and therefore we do not suffer from sampling effect in the direct space (i.e. convolution with the FT of the sampling function).\n",
    " "
   ]
  },
  {
   "cell_type": "markdown",
   "metadata": {},
   "source": [
    "### 4.5.2 Van Cittert-Zernike Theorem\n",
    "\n",
    "#### 4.5.2.A Formulation\n",
    "\n",
    "The mutual coherence function \n",
    "$$V_{pq}(u,v,0)=\\iint_\\infty^\\infty{I_\\nu e^{-2\\imath\\pi (ul+vm)}dldm}$$\n",
    "    \n",
    "    \n",
    "#### 4.5.2.B A Demonstration   \n",
    "\n",
    "Mutual coherence between direction 1 and 2, over the time T,\n",
    "$$\\Gamma_\\text{12}(u,v,\\tau)= \\lim_{T \\rightarrow \\infty} \\int_{-T}^{T} E_1(t)E_{2}^{*}(t-\\tau) dt$$\n",
    "    \n",
    "Expression of the electric fields:\n",
    "\n",
    "$$E_1(l,m,t)= E_{0}(l,m,t-\\frac{r_1}{c}) \\frac{e^{-2\\imath\\pi \\nu(t-\\frac{r_1}{c})}}{r_1}$$\n",
    "\n",
    "$$E_2(l,m,t)= E_{0}(l,m,t-\\frac{r_2}{c}) \\frac{e^{-2\\imath\\pi \\nu(t-\\frac{r_2}{c})}}{r_2}$$\n",
    "\n",
    "\n",
    "\n",
    "Correlation of $E_1$ and $E_2$:\n",
    "\n",
    "\\begin{eqnarray}\n",
    "\n",
    "\\langle E_1(l,m,t) E_2^*(l,m,t) \\rangle &=& \\langle E_{0}(l,m,t-\\frac{r_1}{c}) E_{0}(l,m,t-\\frac{r_2}{c}) \\rangle \\frac{e^{-2\\imath\\pi \\nu(t-\\frac{r_1}{c})} e^{2\\imath\\pi \\nu(t-\\frac{r_2}{c})}}{r_1 r_2} \\\\\n",
    "&=& \\langle E_{0}(l,m,t))E_{0}(l,m,t-\\frac{r_2-r_1}{c}) \\rangle \\frac{e^{2\\imath\\pi \\nu(\\frac{r_1 - r_2}){c}}\\\\ \n",
    "&=& \\langle E_{0}(l,m,t))E_{0}(l,m,t) \\rangle \\frac{e^{2\\imath\\pi \\nu \\frac{(r_1 - r_2)}{c})}\\\\ \n",
    "\n",
    "\n",
    "\\end{eqnarray}\n",
    "\n",
    "\n",
    "$$\\Gamma_{12}(u,v,0)= \\int_{\\text{Source}} \\frac{I_\\nu e^{2\\imath\\pi \\frac{(r_1-r_2)}{c}}}{r_1 r_2} ds$$\n",
    "\n",
    "Assuming that we are in a Far-Field approximation and a small field approxiation:  $r_1 \\approx r_2 \\approx r$.\n",
    "$ds = r^2 \\; dl \\; dm$\n",
    "\n",
    "$\\Gamma_{12}$ become the complex visibility $V_\\nu$\n",
    "$$V_{12}(u,v,0)= \\iint_{\\text{Source}} \\frac{I_\\nu e^{2\\imath\\pi(ul+vm) dl dm $$\n",
    "\n",
    "\n",
    "\n",
    "#### 4.5.2.C Consequences\n",
    "    - to fill\n",
    "    \n",
    "    \n",
    "* ** Note: Straightforward demonstration using the RIME (link to Oleg)**\n",
    "* ** Note2: Foreword for linking with imaging / deconvolution**\n",
    "\n",
    "### 4.5.3 Chapter concluding remarks\n",
    "\n",
    "---\n",
    "\n",
    "---\n",
    "\n",
    "---"
   ]
  },
  {
   "cell_type": "markdown",
   "metadata": {
    "collapsed": true
   },
   "source": [
    "<p class=conclusion>\n",
    "  <font size=4> **Important things to remember**</font>\n",
    "  <br>\n",
    "  <br>\n",
    "  \n",
    "&bull; *The measured spatial frequency depends on the length of the **projected** baseline* <br><br>\n",
    "&bull; *The measured spatial frequency depends on the length of the **projected** baseline*\n",
    "</p>"
   ]
  },
  {
   "cell_type": "markdown",
   "metadata": {
    "collapsed": true
   },
   "source": [
    "---\n",
    "* [Go back up](#beginning) <!--\\ref{beginning}--> \n",
    "* Or continue to next section: [4.6 Further Reading And References](4_6_Further_Reading_And_References.ipynb)\n",
    "* Or jump to next chapter: [5. Imaging -->](../5_Imaging/5_0_introduction.ipynb)\n",
    "---"
   ]
  }
 ],
 "metadata": {
  "kernelspec": {
   "display_name": "Python 2",
   "language": "python",
   "name": "python2"
  },
  "language_info": {
   "codemirror_mode": {
    "name": "ipython",
    "version": 2
   },
   "file_extension": ".py",
   "mimetype": "text/x-python",
   "name": "python",
   "nbconvert_exporter": "python",
   "pygments_lexer": "ipython2",
   "version": "2.7.6"
  }
 },
 "nbformat": 4,
 "nbformat_minor": 0
}
