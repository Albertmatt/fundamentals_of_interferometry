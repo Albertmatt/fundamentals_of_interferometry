{
 "cells": [
  {
   "cell_type": "markdown",
   "metadata": {
    "collapsed": true
   },
   "source": [
    "***\n",
    "<a id='beginning'></a> <!--\\label{beginning}-->\n",
    "* [Outline](../0_Introduction/0_introduction.ipynb)\n",
    "* [Glossary](../0_Introduction/1_glossary.ipynb)\n",
    "* [4. The Visibility space](4_0_introduction.ipynb)\n",
    "    * Previous: [4.1 The Baseline and Its Representation in Space](4_1_The_Baseline_and_its_representations_in_space.ipynb)\n",
    "    * Next: [4.3 The Visibility Function](4_3_The_Visibility_Function.ipynb)\n",
    "\n",
    "***"
   ]
  },
  {
   "cell_type": "code",
   "execution_count": null,
   "metadata": {
    "collapsed": false
   },
   "outputs": [],
   "source": [
    "import numpy as np\n",
    "import matplotlib.pyplot as plt\n",
    "%matplotlib inline\n",
    "from IPython.display import HTML \n",
    "HTML('../style/course.css') #apply general CSS"
   ]
  },
  {
   "cell_type": "markdown",
   "metadata": {},
   "source": [
    "## 4.2 The 2-element Interferometer\n",
    "\n",
    "Understanding basic interferometry requires to spend on the simple 2-element interferometer case. As previously seen in \n",
    "[$\\S$ 1.9 &#10142;](../1_Radio_Science/01_09_a_brief_introduction_to_interferometry.ipynb), we will specifically derive the response of this ideal interferometer and this response leads to the sampling of the visibility function, which can be associated with the structure of the source."
   ]
  },
  {
   "cell_type": "markdown",
   "metadata": {},
   "source": [
    "### 4.2.1 From optical to radio interferometry"
   ]
  },
  {
   "cell_type": "markdown",
   "metadata": {},
   "source": [
    "Before addressing the \"interferometry\" part of the course, we will start by quickly reviewing the basic results of optical interferometry. As we will see, one should not confuse the \"interferometry\" technique used in optical in general with what is done in the radio, even though a lot of similarities are present."
   ]
  },
  {
   "cell_type": "markdown",
   "metadata": {},
   "source": [
    "#### 4.2.1.A Back to the basics: Physical optics interferometry"
   ]
  },
  {
   "cell_type": "markdown",
   "metadata": {},
   "source": [
    "**Wave superposition theorem**"
   ]
  },
  {
   "cell_type": "markdown",
   "metadata": {},
   "source": [
    "Let $S_1$ and $S_2$ be two point sources, *coherent* and *in phase* emitting two waves $s_1(r,t)$ and $s_2(r,t)$ propagating in space at speed *c*. The point P in Fig. 1 will received the linear superposition of the two waves:\n",
    "\n",
    "$$s(r,t)=s_1(r_1,t)+s_2(r_2,t)$$"
   ]
  },
  {
   "cell_type": "markdown",
   "metadata": {},
   "source": [
    "with $r$, $r_1$, $r_2$ are respectively the radial distances from an origin $O$ that we locate between the two sources, from $S_1$ and from $S_2$."
   ]
  },
  {
   "cell_type": "markdown",
   "metadata": {},
   "source": [
    "\\begin{eqnarray}\n",
    "s(r,t) &=& s_1(r,t)+s_2(r,t) \\\\\n",
    "s(r,t) &=& \\frac{s_{01}}{r_1} e^{\\imath (\\omega_1 t - k_1 r +\\varphi_1)}+\\frac{s_{02}}{r_2} e^{\\imath (\\omega_2 t - k_2 r + \\varphi_2)}\n",
    "\\end{eqnarray}\n",
    "\n",
    "with $s_{01}$ and $s_{02}$ the amplitude of the two waves."
   ]
  },
  {
   "cell_type": "markdown",
   "metadata": {},
   "source": [
    "If the sources are emitting waves with the same amplitude ($s_{01}=s_{02}=s_{0}$), angular frequency ($\\omega_1=\\omega_2=\\omega$), and phase ($\\varphi_1=\\varphi_2=\\varphi_0$), then:"
   ]
  },
  {
   "cell_type": "markdown",
   "metadata": {},
   "source": [
    "\n",
    "\n",
    "$s_1(r_1=0,t)=s_2(r_2=0,t)=s_0 e^{\\imath \\omega t}$\n",
    "\n",
    "In the above equation, we have chosen the initial phase $\\varphi_0 = 0$."
   ]
  },
  {
   "cell_type": "markdown",
   "metadata": {},
   "source": [
    "At point $P$, the two waves can be written:\n",
    "\n",
    "\\begin{eqnarray}\n",
    "\\underline{s_{1P}}(r_1,t) &=& s_0 \\exp{\\imath \\left[ \\omega (t - \\frac{r_1}{c}) \\right]} \\\\\n",
    "\\underline{s_{2P}}(r_2,t) &=& s_0 \\exp{\\imath \\left[ \\omega (t - \\frac{r_2}{c}) \\right]} \\\\\n",
    "\\end{eqnarray}"
   ]
  },
  {
   "cell_type": "markdown",
   "metadata": {},
   "source": [
    "We can therefore rewrite the initial phase of these signals at point $P$,\n",
    "$$\\varphi_1=-\\omega \\frac{r_1}{c} \\quad \\underline{s_{1P}}(r_1,t)=s_0 \\exp{\\imath (\\omega t + \\varphi_1)}$$\n",
    "\n",
    "$$\\varphi_2=-\\omega \\frac{r_2}{c} \\quad \\underline{s_{2P}}(r_2,t)=s_0 \\exp{\\imath (\\omega t + \\varphi_2)}$$"
   ]
  },
  {
   "cell_type": "markdown",
   "metadata": {},
   "source": [
    "One can notice that the two signals are out of phase at point $P$ by the quantity $\\Delta \\Phi=\\varphi_2-\\varphi_1$. This phase difference can be associated with a time delay and a distance between two paths travelled by the light.\n",
    "\n",
    "To derive this delay, we first need a definition of the *optical path length* (OPL), which is defined along a curve $\\mathcal{C}$: \n",
    "$$ OPL = \\int_\\mathcal{C} n(s)ds$$\n",
    "where $n$ is the optical index of the propagation medium ($n=1$ in vacuum) and $s$ the curvilinear abscissa along the path.\n",
    "\n",
    "With this definition, we can define the *optical path difference* (OPD) $\\Delta l$ as the physical difference length between the path from $S_1$ to $P$ and from $S_2$ to $P$:\n",
    "\n",
    "$$ \\Delta l = S_1P - S_2P = r_1-r_2 \\quad \\Delta \\Phi = \\varphi_2-\\varphi_1 = 2 \\pi \\frac{\\delta}{\\lambda}$$"
   ]
  },
  {
   "cell_type": "markdown",
   "metadata": {},
   "source": [
    "<img src='figures/Interferences.svg' width=50%>"
   ]
  },
  {
   "cell_type": "markdown",
   "metadata": {},
   "source": [
    "**Figure 4.2.1**: Interference region between two emitting sources $S_1$ and $S_2$. At position P, we received the superposition of the two waves."
   ]
  },
  {
   "cell_type": "markdown",
   "metadata": {},
   "source": [
    "The phase $\\Delta \\Phi$ depends on $\\delta=r_1-r_2$, or equivalently, the position of $P$ w.r.t. the sources."
   ]
  },
  {
   "cell_type": "markdown",
   "metadata": {},
   "source": [
    "As seen previously, the incoming waves at $P$ are summed. Assuming that $S_1$ and $S_2$ have the same properties as outlined earlier, the resulting signal has the same frequency $\\omega$ as the constituent waves, but has an amplitude $S_{0P}$ which depends on the relative amplitude and phase of the two waves at the location $P$:\n",
    "\n",
    "$$s_P(t)=S_{0P} \\cos( \\omega t + \\phi_{0P})$$\n",
    "\n",
    "$$\\text{ with } S_{0P}=\\sqrt{\\underline{s_P} \\underline{s_P}^*}=\\sqrt{S_{01}^2+S_{02}^2+2 S_{01} S_{02} \\cos \\Delta \\Phi} = \\sqrt{2 S_0^2(1+ \\cos\\Delta \\Phi)}$$"
   ]
  },
  {
   "cell_type": "markdown",
   "metadata": {},
   "source": [
    "The amplitude $S_{0P}$ depends on the location of $P$ in space."
   ]
  },
  {
   "cell_type": "markdown",
   "metadata": {},
   "source": [
    "**Interfering conditions**"
   ]
  },
  {
   "cell_type": "markdown",
   "metadata": {},
   "source": [
    "The $\\cos$ term in the previous equation will modulate the amplitude of the wave. We can define two regimes depending on the value of $S_{0P}$:\n",
    "\n",
    "\n",
    "* $S_{0P}$ is maximal when $\\cos \\Delta\\Phi = +1$, i.e. $\\Delta \\Phi = 2 m \\pi$ with $m \\in \\mathbb{Z}$, meaning that $\\delta = m \\lambda$. The two waves add in phase. In this case, we have *constructive interference*.\n",
    "* $S_{0P}$ is null when $\\cos \\Delta\\Phi = -1$, i.e. $\\Delta \\Phi = (2m+1) \\pi$ with $m \\in \\mathbb{Z}$, meaning that $\\delta = (m+\\frac{1}{2}) \\lambda$. The two waves have opposite phase and therefore will cancel out. In that case, we have have *destructive interference*."
   ]
  },
  {
   "cell_type": "markdown",
   "metadata": {},
   "source": [
    "This creates an interference pattern with an amplitude which depends on the location in space. This inerference pattern is also known as the *fringe pattern*. This pattern is composed of fringes which correspond to the location of constant phase in space. One fringe is defined as the location of points where $S_1 P - S_2 P = \\text{const}$.\n",
    "In the three-dimensional space, the fringes are defined by sets of hyperboloids with axial symmetry around the axis $S_1S_2$ (see Figure. 2). Each hyperboloid correspond to a particular constant. \n",
    "\n",
    "- In the plane perpendicular to the axis $S_1S_2$, and located mid-way between the sources, $\\delta =0$, and therefore we have a bright fringe.\n",
    "- Conversely, in any plane containing the axis $S_1S_2$, the fringes are hyperbolas.\n",
    "- Far from the sources, in any plane perpendicular to the axis $S_1S_2$, circular fringes will be observed.\n",
    "- Far from the sources, in any plane parallel to the axis $S_1S_2$, linear fringes will be observed."
   ]
  },
  {
   "cell_type": "markdown",
   "metadata": {},
   "source": [
    "<img src='figures/interferences3D.png' width=70%>"
   ]
  },
  {
   "cell_type": "markdown",
   "metadata": {},
   "source": [
    "**Figure 4.2.2**: Interference region between two emitting sources $S_1$ and $S_2$ in three-dimensional space. The amplitude of the interference pattern takes the shape of circular hyperboloids. The axis $S_1S_2$ is a characteristic axis of symmetry in the system. In a plane perpendicular to this axis, we observe circular fringes in the far-field, and in a plane parallel to this axis, we observe linear fringes in the far-field."
   ]
  },
  {
   "cell_type": "markdown",
   "metadata": {},
   "source": [
    "<div class=advice>\n",
    "**Note:** There is a continuous variation in fringe shape from linear to circular as the plane of observation moves from being parallel to the axis $S_1S_2$ to perpendicular to it. \n",
    "</div>\n"
   ]
  },
  {
   "cell_type": "markdown",
   "metadata": {},
   "source": [
    "<div class=warn>\n",
    "**Warning:** The interference fringes are clearly visible when the two waves share approximately the same physical characteristics (amplitude, frequency) <br>\n",
    "</div>\n"
   ]
  },
  {
   "cell_type": "markdown",
   "metadata": {},
   "source": [
    "#### 4.2.1.B General considerations in the receiving case"
   ]
  },
  {
   "cell_type": "markdown",
   "metadata": {},
   "source": [
    "In the \"emitting\" case, we have seen that two overlapping wave originating from two point sources can interfere. The location of these interference lead to the creation of interference pattern when collected on a screen (Fig. 4.2.2). \n",
    "In the \"receiving\" case, we will consider two point receivers illuminated by a single plane wave coming from a point point source located at the infinite. Before studying how the interference take place in that case, we need to introduce the notion of temporal and spatial coherency to characterize the travelling wave before they reach the receivers."
   ]
  },
  {
   "cell_type": "markdown",
   "metadata": {},
   "source": [
    "##### Notion of temporal/spatial coherence"
   ]
  },
  {
   "cell_type": "markdown",
   "metadata": {},
   "source": [
    "The \"coherence\" of a wave is its degree of capability to maintain its \"shape\" (i.e. the degree of phase correlation) along its propagation at different locations and different times.\n",
    "\n",
    "A propagating wave has a temporal coherence if the phase difference between any two points, at an instant of time, along the direction of propagation (here $P_1$ and $P_2$ on Fig. 4.2.3 left) is independent of time. Meaning that successive wavefront are propagating between the two points with the same delay.\n",
    "\n",
    "We define the coherence time $\\tau_c$ as $\\tau_c=\\frac{1}{\\Delta \\nu}$ where $\\Delta \\nu$ is the bandwidth of emitting source (emitting a superposition of waves at different wavelength causing variation of the phase difference). The larger the bandwidth, the smaller the coherence time. This can easily be observed on interferometry with white light (see Chapter or link). We can then define the associated temporal coherence length $L_c=\\tau_c v$ where v is the propagation speed of the wave.\n",
    "\n",
    "it tell us how monochromatic a source is.\n",
    "\n",
    "Similarly, a propagating wave has spatial coherence if the phase difference, between any two points in a plane perpendicular to the direction propagation and at an instant of time, (here $P_1$ and $P_3$ on Fig. 4.2.3 left) is independent of time. Meaning that the spatial shape of the wavefront remain the same while propagating.\n",
    "\n",
    "It tell us how uniform the phase of a wavefront is and is usually associated with the extension of the source.\n",
    "\n",
    "Along with that, it is possible to quantify how a wave maintain spatial/temporal coherency with the following equations\n",
    "\n",
    "\n",
    "Those coherence, if not maintain, will destroy the interference and blur the fringe pattern.\n",
    "\n",
    "If the phase difference between two points in space\n",
    "\n",
    "We will see in 4.5 how spatial coherency play a fundamental role.\n",
    "Also exist the spectral coherence and polarization coherence which are not addressed in this section."
   ]
  },
  {
   "cell_type": "markdown",
   "metadata": {},
   "source": [
    "From these considerations, it is then easy to understand that extended sources and multi-frequency sources are emitting incoherently."
   ]
  },
  {
   "cell_type": "markdown",
   "metadata": {},
   "source": [
    "##### Foreword on projected baselines (TO EDIT)"
   ]
  },
  {
   "cell_type": "markdown",
   "metadata": {},
   "source": [
    "Assuming temporal and spatial coherency\n",
    "\n",
    "Now that we have shown how a baseline can be transformed into a 3-D reference we will introduce how that baseline is projected down to 2-D. We can imagine being at a point on the celestial sphere looking down on to the baseline distribution. From this point, the baselines look projected to a 2-D plane. Later in the chapter we will discuss the [Van Cittert-Zernike Theorem &#10142;](4_5_The_Fourier_Approximation_VanCittert-Zernike_Theorem.ipynb) which allows an image of the sky to be constructed from an approximate 2-D Fourier transform between the baseline visibility sampling and the sky. There are many caveats to this theorem, but for now we are getting ahead of ourselves. At the moment what is important to understand is that for a given point on the celestial sphere the 3-D baselines can be projected onto a 2-D plane, and as the Earth rotates (and the Celestial sphere stays fixed) this changes the projection of each baseline. This change in projection is key to how we observe in radio astronomy, and will come up again later when we discuss [*uv* coverage &#10142;](4_4_1_UV_Coverage_UV_Tracks.ipynb)."
   ]
  },
  {
   "cell_type": "markdown",
   "metadata": {},
   "source": [
    "In radio astronomy we talk about 'pointing' in two ways. The first is by physically pointing the elements (this is not always true for transiting arrays) so that the primary beam (see [Chapter 7 &#10142;](../7_Observing_Systems/7_5_primary_beam.ipynb)) is pointed towards the source. But, this physical 'pointing' is not important yet, when we point an interferometric array we are talking about defining a *phase centre* by applying *fringe* or *delay tracking*. For an observation we define the *phase centre* as the point on the celestial sphere in the direction of the vector $\\mathbf{s_0}$. We will come back to this definition in the discussion of the 2-element interferometer in [$\\S$ 4.2 &#10142;](4_2_The_2-element_Interferometer.ipynb). Fringe tracking is the geometrical 'delay' correction to applied during (or some cases after) an observation to define a phase centre. This is a bit of a circular definition, but do not worry, we will come back to the concept later in the chapter.\n",
    "\n",
    "Our ultimate goal is to observe sources that are lying on the *celestial sphere* (see [$\\S$ 3.2 &#10142;](../3_Positional_Astronomy/3_2_Equatorial_Coordinates.ipynb)). As in [$\\S$ 1.2 &#10142;](../1_Radio_Science/01_02_electromagnetic_radiation_and_astronomical_quantities.ipynb), we will consider that we are receiving an electromagnetic plane wave coming from a direction $\\mathbf{s_0}$. A simple 1-D example of a projected baseline between elements $R_1$ and $R_2$ towards a source on at $\\theta$ on a 1-D celestial sphere is shown in Figure 4.1.5. There is a delay $\\delta = \\lvert \\mathbf{b} \\rvert \\cos \\theta$ in time from when the plane wave (moving at the speed of light) arriving at $R_1$ compared to $R_2$. Correcting for this delay is the process of fringe tracking."
   ]
  },
  {
   "cell_type": "markdown",
   "metadata": {},
   "source": [
    "##### The return of the OPD"
   ]
  },
  {
   "cell_type": "markdown",
   "metadata": {},
   "source": [
    "Let's now consider: \n",
    "\n",
    "<span style=\"background-color:cyan\">Define receiving case</span>\n",
    "\n",
    "* Two isotropic receiving systems $R_1$ and $R_2$, located on the ground.\n",
    "* A monochromatic electromagnetic (EM) plane wave, coming from a point source at infinity in the direction $\\mathbf{s_0}$."
   ]
  },
  {
   "cell_type": "markdown",
   "metadata": {},
   "source": [
    "<img src='figures/interferencereceivers.svg' width=40%>"
   ]
  },
  {
   "cell_type": "markdown",
   "metadata": {},
   "source": [
    "<div align=\"center\">**Figure 3**: The projection of baseline $\\mathbf{b}$ towards the direction $\\theta$ along $\\mathbf{s}_0$ in a simple 1-D sky/baseline example.</div>"
   ]
  },
  {
   "cell_type": "markdown",
   "metadata": {},
   "source": [
    "If this incoming wave is not from the direction of the local zenith, then the plane wave will reach $R_1$ and $R_2$ at different times $t_1$ and $t_2$ (**Figure 3**). This introduces a *propagation delay* $\\Delta t=t_2-t_1$ between the signals received at $R_1$ and $R_2$.\n",
    "\n",
    "This time delay is related to the *Optical Path Difference* (OPD) $\\delta$ by $\\delta = c \\Delta t$, where $c$ is the speed of light in vacuum.\n",
    "\n",
    "This OPD can also be obtained by projecting $\\mathbf{b}$ onto $\\mathbf{s_0}$: \n",
    "$$\\delta = \\mathbf{b} \\cdot \\mathbf{s_0}$$\n",
    "\n",
    "Later on, we will combine the signals measured by $R_1$ and $R_2$ from the direction $\\mathbf{s_0}$. During this process, we have to take this delay $\\Delta t$ into account and correct for it (see delay tracking section below [INREF]). Assuming that this delay is corrected properly with the hardware, the direction $\\mathbf{s_0}$ will define the *phase center*.\n",
    "\n",
    "Let's consider planes waves coming from two unrelated point sources in the directions $\\mathbf{s_0}$ and $\\mathbf{s}$ in the sky."
   ]
  },
  {
   "cell_type": "markdown",
   "metadata": {},
   "source": [
    "<img src='figures/interferencereceivers2.svg' width=40%>"
   ]
  },
  {
   "cell_type": "markdown",
   "metadata": {},
   "source": [
    "<div align=\"center\">**Figure 4**: Two receivers receiving plane waves from directions $\\mathbf{s_0}$ and $\\mathbf{s}$ in the sky.\n",
    "</div>"
   ]
  },
  {
   "cell_type": "markdown",
   "metadata": {},
   "source": [
    "Any arbitrary direction $\\mathbf{s}$ can be related to $\\mathbf{s_0}$ through the difference vector $\\boldsymbol{\\sigma}=\\mathbf{s}-\\mathbf{s_0}$ (as illustrated on **Figure 4**). For small $|\\boldsymbol{\\sigma}|$, this vector $\\boldsymbol{\\sigma}$ lies approximately in the plane orthogonal to $\\mathbf{s_0}$ and is tangent to the celestial sphere. It defines the location of a point in the sky relative to the reference direction $\\mathbf{s_0}$.\n",
    "\n",
    "<span style=\"background-color:cyan\">What is \"place\"?</span>\n",
    "\n",
    "Later on, $\\boldsymbol{\\sigma}$ will be used to derive the response of an interferometer at any position in the place.\n",
    "\n",
    "Given the directions ($\\mathbf{s}, \\mathbf{s_0}$), the OPDs are obtained via a scalar product with $\\mathbf{b}$. \n",
    "We can compute them directly via the scalar product of $\\mathbf{b}$ with $\\boldsymbol{\\sigma}$.\n",
    "\n",
    "$$\\mathbf{b} \\cdot \\boldsymbol{\\sigma} = \\mathbf{b} \\cdot (\\mathbf{s} - \\mathbf{s_0}) = \\text{OPD}_{\\mathbf{s}}-\\text{OPD}_{\\mathbf{s_0}}$$"
   ]
  },
  {
   "cell_type": "markdown",
   "metadata": {},
   "source": [
    "<span style=\"background-color:cyan\">Warning needs to be clarified - difference wert previous case not clear. Also the terms \"emitting case\" and \"receiving case\" need to be clarified. Reciprocity theorem seems out of place - remove?</span>\n",
    "\n",
    "<div class=warn>\n",
    "**Warning:** Unlike the two coherent/in phase sources case, the two signals received by $R_1$ or $R_2$ **DO NOT INTERFERE** at $R_1$ or at $R_2$ as they come from **different and incoherent** sources of the sky. It is critical to understand that there is no equivalence between the emitting case and the receiving case.<br> This should not be confused with the reciprocity theorem which is valid when considering the beam pattern of a emitting/receiving antenna.</div>\n"
   ]
  },
  {
   "cell_type": "markdown",
   "metadata": {},
   "source": [
    "<span style=\"background-color:cyan\">Not clear. Reference the section in chapter 3 which covers direction cosines.</span>\n",
    "<div class=warn>\n",
    "**Warning:** For the moment, the vector $\\mathbf{s}$ and $\\mathbf{s_0}$ are unitary and defined with angles only. Therefore, the length of $\\boldsymbol{\\sigma}$ is a projected angular distance on the sky (defined in terms of direction cosines ($l$, $m$, $n$) defined in the previous chapter).</div>\n"
   ]
  },
  {
   "cell_type": "markdown",
   "metadata": {},
   "source": [
    "#### 4.2.2 First approach to radio interferometry"
   ]
  },
  {
   "cell_type": "markdown",
   "metadata": {},
   "source": [
    "<span style=\"background-color:cyan\">Need to clarify how you go from a point $P$ to receiver to antenna.</span>\n",
    "\n",
    "<span style=\"background-color:cyan\">Also how you go from waves to signals to voltages.</span>\n",
    "\n",
    "<span style=\"background-color:cyan\">Should be just Figure 3? Figure 4 shows signals from 2 sources, and I think you only consider one source here.</span>\n",
    "\n",
    "From the configuration presented in **Figure 3** and **Figure 4**, we now try to understand what information can be extracted from different combinations of the signals. The time delay between the antennas introduces a phase delay.\n",
    "\n",
    "* We can either add those signals together, and form a *sum* interferometer, or $\\sum$-interferometer\n",
    "* or multiply those signals, to form a *product* interferometer, or $\\prod$-interferometer.\n",
    "\n",
    "Let's define the measured voltages, at the same frequency $\\omega$:\n",
    "$$V_1=V_{01} \\cos (\\omega t + \\varphi_1)  \\quad V_2 = V_{02} \\cos (\\omega t + \\varphi_2)$$\n",
    "\n",
    "Using the direction $\\mathbf{s}$ as a reference direction of the incoming wave and $R_2$ as the reference antenna (shifting the origin of time so that $V_2$ as a phase of zero at the origin), we can recast the expression of the signal as a function of OPD:\n",
    "\n",
    "\n",
    "$$V_1=V_{01} \\cos (\\omega t + \\varphi_1 - \\varphi_2),  \\quad V_2 = V_{02} \\cos (\\omega t)$$\n",
    "$$V_1=V_{01} \\cos (\\omega (t + \\frac{\\delta}{c})),  \\quad V_2 = V_{02} \\cos (\\omega t)$$\n",
    "\n",
    "We will assume that $V_{01}=V_{02}=V_0$."
   ]
  },
  {
   "cell_type": "markdown",
   "metadata": {},
   "source": [
    "#####  4.2.2.A About the $\\sum$-interferometer"
   ]
  },
  {
   "cell_type": "markdown",
   "metadata": {},
   "source": [
    "Similarly to $\\S$4.2.1.A, we can derive the result of the summation of the two signals."
   ]
  },
  {
   "cell_type": "markdown",
   "metadata": {},
   "source": [
    "<span style=\"background-color:cyan\">Need to explain the transition from real sinusoidal to complex exponential representation of the signal</span>\n",
    "\n",
    "or in complex notation:\n",
    "\n",
    "$$\\underline{V}_\\sum = \\underline{V_1} + \\underline{V_2} = V_{01} e^{\\imath (\\omega t + \\varphi_1)} + V_{02} e^{\\imath (\\omega t + \\varphi_2)}$$\n",
    "\n",
    "As in $\\S$4.2.1.A, we can compute the amplitude of the sum by computing \n",
    "$$A=\\sqrt{(\\underline{V_1} + \\underline{V_2})^2}= (\\underline{V_1} + \\underline{V_2})(\\underline{V_1} + \\underline{V_2})^*$$\n",
    "resulting in\n",
    "\n",
    "$$A=\\sqrt{2 V_0^2(1+ \\cos\\Delta \\Phi)} \\text{ with } \\Delta\\Phi = \\varphi_2-\\varphi_1$$\n",
    "\n",
    "The amplitude of the sum does not depend on the absolute time but only on the time delay between signals arriving at $R_1$ and $R_2$.\n",
    "\n",
    "The problem with the summation interferometer is that the additive constant term $2 V_0^2$ is not known and cannot be easily removed. It represents the product of the average level of the voltage product between $R_1$ and $R_2$.\n",
    "We will see that in the $\\prod$-interferometer, this is no longer a problem as this unknown factor will be a multiplying factor which can easily be normalized. In the following, we will focus more on the second case which is the most commonly addressed case in the literature. \n",
    "\n",
    "The reader interested in more information on the $\\sum$-interferometer can refer to (Kraus, $\\S$6.20)[EXREF]."
   ]
  },
  {
   "cell_type": "markdown",
   "metadata": {},
   "source": [
    "#####  4.2.2.B The $\\prod$-interferometer with a $\\cos$ correlator"
   ]
  },
  {
   "cell_type": "markdown",
   "metadata": {},
   "source": [
    "<span style=\"background-color:cyan\">Clarify the part about high-frequency component being filtered out</span>\n",
    "\n",
    "The product of two signals can be implemented through the correlation operation. A correlator is a device which multiplies two voltages. To reduce the level of noise, the correlator performs some averaging in time. We will assume that the averaging time is long enough that the fast temporal oscillations in $\\omega t$ in the signals can be filtered away as in a low-pass filter."
   ]
  },
  {
   "cell_type": "markdown",
   "metadata": {},
   "source": [
    "In our simple case, we will represent the correlation of the signal can be expressed as:\n",
    "\n",
    "$$C= \\langle V_1 V_2 \\rangle_t$$ with $\\langle \\cdot \\rangle_t$ the time averaging operator.\n",
    "\n",
    "with $\\tau=\\frac{\\delta}{c}$\n",
    "\n",
    "\\begin{eqnarray}\n",
    "C&=&\\langle V_{01} V_{02} \\cos{\\omega t} \\cos{[\\omega (t + \\frac{\\delta}{c}) ]} \\rangle_t=&\\langle V_{01} V_{02} \\cos{\\omega t} \\cos{[\\omega (t + \\tau) ]} \\rangle_t\\\\\n",
    "C &=& V_0^2 \\frac{\\langle \\cos(2 \\omega t + \\tau)+\\cos (\\omega \\tau)\\rangle_t}{2}\n",
    "\\end{eqnarray}\n",
    "$$\\boxed{C =\\frac{V_0^2}{2}\\cos{\\omega \\tau}=\\frac{V_0^2}{2}\\cos{(2 \\pi \\frac{\\delta}{\\lambda}})}$$"
   ]
  },
  {
   "cell_type": "markdown",
   "metadata": {},
   "source": [
    "In 4.2.1.A, we have highlighted the fact that the interference fringe pattern depends on the location in space. We also found a condition on the phase to describe an individual fringe.\n",
    "Similarly, we see here that the strengh of the correlation between the two measured signals will depends on the OPD, i.e. the time delay between the signals arriving at the the antenna. As the time delay depends on the relative orientation of the baseline $\\mathbf{b}$ with respect to the direction $\\mathbf{s_0}$, we will also create a fringe pattern which will depend spatially on the direction of the source.\n",
    "\n",
    "<span style=\"background-color:cyan\">Explain in more detail how you arrive at the expressions for fringe phase, rate, period. Also expand on and clarify the bullet points under \"first result\".</span>\n",
    "\n",
    "The fringe phase $\\phi=\\omega \\tau=\\frac{\\omega}{c} |\\mathbf{b}| \\cos \\theta$\n",
    "\n",
    "The fringe rate is the derivative w.r.t. $\\theta$: $ \\frac{d\\phi}{d\\theta}=2\\pi\\frac{|\\mathbf{b}|\\sin\\theta}{\\lambda}$\n",
    "\n",
    "the quantity $\\frac{|\\mathbf{b}| \\sin \\theta}{\\lambda}$ is the fringe period. "
   ]
  },
  {
   "cell_type": "markdown",
   "metadata": {},
   "source": [
    "First result:\n",
    "\n",
    "* The correlation of two measured signals can be associated with the angular position of the source with respect to the baseline.\n",
    "\n",
    "* If $\\lambda$ is small enough compared to the projected baseline $|\\mathbf{b}|\\sin\\theta$, the phase of the correlation can precisely track the position of a source.\n",
    "\n",
    "* As a consequence, the correlation is sensitive to spatial variations of spatial period $\\frac{\\lambda}{|\\mathcal{b}|\\sin \\theta}$ which means that a 2-D element interferometer acts as **spatial filter** for this spatial frequency."
   ]
  },
  {
   "cell_type": "markdown",
   "metadata": {},
   "source": [
    "The sky is composed of spatially incoherent sources (point and/or extended sources) which can be described with a continuous function $I_\\nu(\\boldsymbol{\\mathbf{s}})$, called the sky brightness distribution.\n",
    "\n",
    "By <span style=\"background-color:cyan\">linearity of this \"sky-term\" (clarify)</span>, we can compute the total correlation between $R_1$ and $R_2$ by summing over all the observable directions:\n",
    "\n",
    "<span style=\"background-color:cyan\">$C(\\mathbf{s})$ is used before being defined.</span>\n",
    "\n",
    "$$ C_{\\cos}= \\int_\\Omega C(\\mathbf{s}) \\cos(2 \\pi \\frac{\\delta_{\\mathbf{s}}}{\\lambda})d \\Omega$$\n",
    "\n",
    "<span style=\"background-color:cyan\">Need to state that any function can be expressed as a sum of an even function and an odd function.</span>\n",
    "\n",
    "One limiting property of this correlator is that it is only sensitive to the *even* part of the sky brigthness function (see the note). To be able to measure the *odd* part of the sky brigthness function, we should build a *sine* correlator.\n",
    "\n"
   ]
  },
  {
   "cell_type": "markdown",
   "metadata": {},
   "source": [
    "<div class=advice>\n",
    "**Note:** Indeed, if we imagine that the sky brightness is an odd function composed of two sources of opposite brightness. <br>\n",
    "i.e. $I_\\nu(\\mathbf{s}_+)=+1$ and $I_\\nu(\\mathbf{s}_-)=-1$, $\\delta_+ = - \\delta_-$, $C_+=-C_-$) then\n",
    "\n",
    "$$C_{\\cos}= C_+ \\cos{2 \\pi \\frac{\\delta_{+}}{\\lambda}} + C_- \\cos{2 \\pi \\frac{\\delta_{-}}{\\lambda}}= C_+ \\cos{2 \\pi \\frac{\\delta_{+}}{\\lambda}} - C_+ \\cos{2 \\pi \\frac{\\delta_{+}}{\\lambda}}=0$$\n",
    "\n",
    "The *odd* part of the sky brightness will not measured through the correlation with a *cosine* correlator.</div>"
   ]
  },
  {
   "cell_type": "markdown",
   "metadata": {},
   "source": [
    "**What is coefficient $C(\\mathbf{s})$ ?**"
   ]
  },
  {
   "cell_type": "markdown",
   "metadata": {},
   "source": [
    "By linearity, the voltage measured by each antenna is the integral of the contribution from all directions over their respective field of view.\n",
    "\n",
    "<span style=\"background-color:cyan\">Define/redefine (if defined in an earlier chapter) $\\Omega$, $A$, $A_{\\text{eff}}$, $\\nu$.</span>\n",
    "\n",
    "$$V_1= \\int_{\\Omega_1} V_{1_\\Omega} d \\Omega_1 \\quad V_2= \\int_{\\Omega_2} V_{2_\\Omega} d\\Omega_2$$\n",
    "\n"
   ]
  },
  {
   "cell_type": "markdown",
   "metadata": {},
   "source": [
    "$V_{i_\\Omega}$ is proportional to the power received from direction $\\mathbf{s}$: \n",
    "\n",
    "$V_{i_\\Omega} \\propto \\frac{1}{2} A_{\\text{eff}}(\\mathbf{s}) I_\\nu(\\mathbf{s})\\Delta\\nu d\\Omega$\n",
    "\n",
    "therefore,\n",
    "$$C_{\\cos}= \\langle V_1 V_2 \\rangle_t= \\langle \\int_{\\Omega_1} V_{1_\\Omega} d \\Omega_1 \\int_{\\Omega_2} V_{2_\\Omega} d \\Omega_2 \\rangle_t$$\n",
    "\n",
    "We assume that all the emission from the sky is spatially incoherent, meaning that only the correlation between two signals coming from the same direction will be non-zero. We can therefore swap the integrals with the time averaging:\n",
    "\n",
    "$$C_{\\cos}= \\langle V_1 V_2 \\rangle_t= \\int_{\\Omega} \\langle V_{1_\\Omega} V_{2_\\Omega} \\rangle_t d \\Omega \\propto \\Delta \\nu \\int_\\Omega A(\\mathbf{s}) I_\\nu(\\mathbf{s}) \\cos(2 \\pi \\nu \\frac{\\delta}{c})d \\Omega$$\n",
    "\n",
    "For simplification, we can assume for now that $C(\\mathbf{s}) \\propto \\Delta \\nu A(\\mathbf{s}) I_\\nu (\\mathbf{s}) $.\n"
   ]
  },
  {
   "cell_type": "markdown",
   "metadata": {},
   "source": [
    "##### 4.2.2.C The $\\prod$-interferometer with a $\\sin$ correlator"
   ]
  },
  {
   "cell_type": "markdown",
   "metadata": {},
   "source": [
    "A straightforward way to create a $\\sin$ correlator is by introducing an artificial phase delay of $\\frac{\\pi}{2}$ in one of the two signal paths.\n",
    "If we introduce this $\\frac{\\pi}{2}$ phase delay to the path of signal $V_2$, we obtain the following:\n",
    "\n",
    "\n",
    "$$V_1=V_{01} \\cos (\\omega (t + \\tau))  \\quad V_2 = V_{02} \\cos (\\omega t + \\frac{\\pi}{2} )$$\n",
    "\\begin{eqnarray}\n",
    "C&=&\\langle V_{01} V_{02} \\cos{(\\omega t + \\frac{\\pi}{2})} \\cos{[\\omega (t + \\tau) ]} \\rangle_t\\\\\n",
    "C&=& V_0^2 \\frac{\\langle \\cos(2 \\omega t + \\tau + \\frac{\\pi}{2})+\\cos (\\omega \\tau - \\frac{\\pi}{2})\\rangle_t}{2}\n",
    "\\end{eqnarray}\n",
    "$$\\boxed{C_{\\sin} =\\frac{V_0^2}{2}\\sin{\\omega \\tau}}$$\n",
    "\n",
    "<span style=\"background-color:cyan\">Not clear - needs explanation why we are measuring the odd part.</span>\n",
    "\n",
    "It is easy to verify that this correlator will only be sensitive to the odd part of the sky brightness."
   ]
  },
  {
   "cell_type": "markdown",
   "metadata": {},
   "source": [
    "By implementing two parallel correlators ($\\cos$ & $\\sin$), one can measure the correlation of both the *even* and *odd* parts of the sky brightness.\n",
    "\n",
    "$$\\boxed{C_{\\cos} =\\frac{V_0^2}{2}\\cos{\\omega \\tau}} \\quad \\boxed{C_{\\sin} =\\frac{V_0^2}{2}\\sin{\\omega \\tau}}$$"
   ]
  },
  {
   "cell_type": "markdown",
   "metadata": {},
   "source": [
    "<div class=advice>\n",
    "**Note:** This $\\frac{\\pi}{2}$ delay can be implemented electronically, in either analog or digital manner.</div>\n"
   ]
  },
  {
   "cell_type": "markdown",
   "metadata": {},
   "source": [
    "##### 4.2.2.D The complex correlator"
   ]
  },
  {
   "cell_type": "markdown",
   "metadata": {},
   "source": [
    "The previous section addressed the *practical* implementation of an interferometer observing an arbitrary sky. As we derived two interferometers with $\\cos$ and $\\sin$ correlators, we can combine these operations into one *complex* correlator:"
   ]
  },
  {
   "cell_type": "markdown",
   "metadata": {},
   "source": [
    "<span style=\"background-color:cyan\">Inconsistency in indices ($n$ and $n_{\\text{dir}}$)</span>\n",
    "\n",
    "\\begin{eqnarray}\n",
    "\\underline{C}&=& \\Re{(\\underline{C})}-\\imath\\Im{(\\underline{C})}=C_{\\cos} - \\imath C_{\\sin}\\\\\n",
    "\\underline{C}&=& \\sum_{n_{\\text{dir}}=0}^{\\infty} I_n \\cos(2 \\pi \\frac{\\delta_n}{\\lambda})- \\imath \\sum_{n_{\\text{dir}}=0}^{\\infty} I_n \\sin(2 \\pi \\frac{\\delta_n}{\\lambda})\\\\\n",
    "\\underline{C}&=&\\sum_{n_{\\text{dir}}=0}^{\\infty} I_n \\left[ \\cos(2 \\pi \\frac{\\delta_n}{\\lambda}) - \\imath \\sin(2 \\pi \\frac{\\delta_n}{\\lambda}) \\right] \\\\\n",
    "\\underline{C}&=&\\sum_{n_{\\text{dir}}=0}^{\\infty} I_n e^{-\\imath 2\\pi \\frac{\\delta_n}{\\lambda}}\n",
    "\\end{eqnarray}\n",
    "And in the continuous case,\n",
    "\n",
    "$$\\boxed{\\underline{C}=\\Delta \\nu \\int_{\\Omega} A(\\mathbf{s}) I_\\nu(\\mathbf{s}) e^{-\\imath 2\\pi \\frac{\\mathbf{b}\\cdot\\mathbf{s}}{\\lambda}} d\\Omega}$$\n"
   ]
  },
  {
   "cell_type": "markdown",
   "metadata": {},
   "source": [
    "<div class=warn>\n",
    "**Warning:** The minus sign in the definition of the complex correlation is a matter of convention for the rest of the course.<br>\n",
    "$\\Omega$ is a solid angle which describe the full-sky or the Field of View of the receiver.\n",
    "</div>\n"
   ]
  },
  {
   "cell_type": "markdown",
   "metadata": {},
   "source": [
    "#### Introducing the phase center"
   ]
  },
  {
   "cell_type": "markdown",
   "metadata": {},
   "source": [
    "We have defined the response of a correlator towards any direction $\\mathbf{s}$. We will now introduce the particular direction $\\mathbf{s_0}$ of the phase center into the previous equation by introducing $\\boldsymbol{\\sigma}$: \n",
    "\n",
    "\\begin{eqnarray}\n",
    "\\mathbf{s}=\\mathbf{s_0}+\\boldsymbol{\\sigma}\n",
    "\\end{eqnarray}\n",
    "\n",
    "Then\n",
    "\n",
    "\\begin{eqnarray}\n",
    "\\underline{C}&=& \\Delta \\nu e^{-\\imath 2\\pi \\frac{\\mathbf{b}\\cdot\\mathbf{s_0}}{\\lambda}} \\int_{\\Omega}  A(\\mathbf{s}) I_\\nu(\\mathbf{s}) e^{-\\imath 2\\pi \\frac{\\mathbf{b}\\cdot \\boldsymbol{\\sigma}}{\\lambda}} d\\Omega\n",
    "\\end{eqnarray}"
   ]
  },
  {
   "cell_type": "markdown",
   "metadata": {},
   "source": [
    "We will defined the *visibility* as the complex quantity\n",
    "\n",
    "<span style=\"background-color:cyan\">Not clear how you go from $\\underline{C}$ to $\\underline{V}$.</span>\n",
    "\n",
    "$$\\underline{V}=|V|e^{\\imath\\phi_V}=\\int_{\\Omega}A(\\boldsymbol{\\sigma}) I_\\nu(\\boldsymbol{\\sigma})   e^{-\\imath 2\\pi \\frac{\\mathbf{b}\\cdot \\boldsymbol{\\sigma}}{\\lambda}} d\\Omega$$"
   ]
  },
  {
   "cell_type": "markdown",
   "metadata": {},
   "source": [
    "<div class=warn>\n",
    "**Warning:** The position vector is now $\\boldsymbol{\\sigma}$ which depends on the definition of $\\mathbf{s_0}$. The visibility is a quantity which depends on the definition of the phase center and will vary for any other phase center definition.</div>\n"
   ]
  },
  {
   "cell_type": "markdown",
   "metadata": {},
   "source": [
    "\n",
    "$$\\underline{C}= \\Delta \\nu e^{-\\imath 2\\pi \\frac{\\mathbf{b}\\cdot\\mathbf{s_0}}{\\lambda}} |V|e^{\\imath \\phi_V} = \\Delta \\nu |V| e^{\\imath (\\phi_V - 2\\pi \\frac{\\mathbf{b}\\cdot\\mathbf{s_0}}{\\lambda})}$$\n"
   ]
  },
  {
   "cell_type": "markdown",
   "metadata": {},
   "source": [
    "<span style=\"background-color:cyan\">Not clear - what do you mean by the amplitude and phase being \"given\" by the calibration step?</span>\n",
    "\n",
    "From the measurements by the correlator, the amplitude $|V|$ and phase $\\phi_V$ are given by the calibration step."
   ]
  },
  {
   "cell_type": "markdown",
   "metadata": {},
   "source": [
    "#### Effect of the bandwidth, necessity of delay tracking"
   ]
  },
  {
   "cell_type": "markdown",
   "metadata": {},
   "source": [
    "<span style=\"background-color:cyan\">Whole paragraph is unclear - define \"fringe term\". What do you mean by decorrelation of a signal?</span>\n",
    "\n",
    "Measuring a correlation over a finite bandwidth $\\Delta\\nu$ will introduce a decorrelation of the two signals as the fringe term depends on $\\nu$. Multiple fringes with nearly identical spatial frequency will interact and create a beating effect. This will have an effect of <span style=\"background-color:cyan\">tempering the contract</span> of the fringe pattern and therefore on the <span style=\"background-color:cyan\">strength of the correlation</span>. We will now see how much the decorrelation impacts the fringe pattern and how to correct for it.\n",
    "\n",
    "At a frequency $\\nu$, in a <span style=\"background-color:cyan\">elementary bandwith (infinitesimal bandwidth?)</span> $d \\nu$, the correlator produces the output:\n",
    "\n",
    "$$dC= |V| e^{\\imath (\\phi_V - 2\\pi \\nu \\tau)} d \\nu$$ with $\\tau= \\frac{\\mathbf{b}\\cdot \\mathbf{s_0}}{c}$\n",
    "\n",
    "\n",
    "If we sum the response over a finite band $\\Delta \\nu$ centered at $\\nu_0$:\n",
    "\n",
    "$$C= |V| \\int_{\\nu_0-\\Delta \\nu /2}^{\\nu_0+\\Delta \\nu /2}e^{\\imath (\\phi_V - 2\\pi \\nu \\tau)} d\\nu= |V| \\int_{\\nu_0-\\Delta \\nu /2}^{\\nu_0+\\Delta \\nu /2} \\cos (\\phi_V - 2\\pi \\nu \\tau)d\\nu + \\imath  |V| \\int_{\\nu_0-\\Delta \\nu /2}^{\\nu_0+\\Delta \\nu /2} \\sin (\\phi_V - 2\\pi \\nu \\tau)d\\nu$$\n",
    "\n",
    "$$C=  |V| \\left[\\frac{\\sin (\\phi_V - 2\\pi \\nu \\tau)}{-2\\pi \\tau}\\right]_{\\nu_0-\\Delta \\nu /2}^{\\nu_0+\\Delta \\nu /2} + \\imath  |V| \\left[\\frac{-\\cos (\\phi_V - 2\\pi \\nu \\tau)}{-2\\pi \\tau}\\right]_{\\nu_0-\\Delta \\nu /2}^{\\nu_0+\\Delta \\nu /2} $$\n",
    "\n",
    "$$C=  \\frac{|V|}{-2\\pi \\tau} \\left[ \\sin (\\phi_V - 2\\pi (\\nu_0 +\\frac{\\Delta \\nu}{2}) \\tau) - \\sin (\\phi_V - 2\\pi (\\nu_0 -\\frac{\\Delta \\nu}{2}) \\tau)\\right] + \\imath  |V| \\left[ \\dots\\right]_{\\nu_0-\\Delta \\nu /2}^{\\nu_0+\\Delta \\nu /2} $$\n",
    "\n",
    "$$C=  \\frac{|V|}{2\\pi \\tau} \\left[ 2 \\cos{(\\phi_V - 2\\pi \\nu_0  \\tau) \\sin{\\pi\\Delta\\nu \\tau}} \\right] + \\imath  \\frac{|V|}{2\\pi\\tau} \\left[ 2 \\sin{(\\phi_V - 2\\pi \\nu_0  \\tau) \\sin{\\pi\\Delta\\nu \\tau}}\\right] $$\n",
    "\n",
    "$$C=  |V|\\Delta\\nu \\frac{\\sin{\\pi\\Delta\\nu \\tau}}{\\pi \\Delta\\nu \\tau}  e^{\\imath (\\phi_V - 2\\pi \\nu_0 \\tau)}=|V|\\Delta \\nu \\; \\text{sinc}(\\pi\\Delta\\nu \\tau) e^{\\imath (\\phi_V - 2\\pi \\nu_0 \\tau)} $$"
   ]
  },
  {
   "cell_type": "markdown",
   "metadata": {},
   "source": [
    "We see that the amplitude of the correlation is now multiplied by a new modulation term. It takes a form of a sinc function which depends on the bandwidth $\\Delta\\nu$ and the delay $\\tau$. As we still want to observe radio signals over some bandwidth, a way to *kill* this damping factor is to cancel $\\tau$, which is the delay between the two signals. \n",
    "The way to do this is to inject an arbitrary delay $\\tau_c=\\tau$ in the signal path of the receiver which measures the signal first. \n",
    "\n",
    "As the direction $\\mathbf{s_0}$ will move slowly in the sky as the earth rotates, the phase center should be tracked by imposing a time dependent delay $\\tau_c$ into the appropriate signal path to compensate for $\\tau$.\n",
    "\n",
    "As a result, the fringes and the <span style=\"background-color:cyan\">fringe envelope (define)</span> maximum will always follow the phase center."
   ]
  },
  {
   "cell_type": "markdown",
   "metadata": {},
   "source": [
    "<div class=advice>\n",
    "**Note:** This delay tracking is the core principle of *phased arrays*, which electronically point the maximum array response towards the direction of interest, by introducing delays between the receivers.</div>\n"
   ]
  },
  {
   "cell_type": "markdown",
   "metadata": {},
   "source": [
    "<img src='figures/spatialfiltering.png' width=100%>"
   ]
  },
  {
   "cell_type": "markdown",
   "metadata": {},
   "source": [
    "<span style=\"background-color:cyan\">This figure is not referenced in this section.</span>\n",
    "<div align=\"center\">**Figure 6**: Relationship between the projected baseline, the ($u$,$v$,$w$) space and the ($l$,$m$,$n$) space.\n",
    "</div>"
   ]
  },
  {
   "cell_type": "markdown",
   "metadata": {},
   "source": [
    "<span style=\"background-color:cyan\">This last section lacks flow</span>\n",
    "\n",
    "In the next section, which is dedicated to the study of the complex visibility function, we will see what information can be retrieved about the source from correlation of the signals measured by the two receivers."
   ]
  },
  {
   "cell_type": "markdown",
   "metadata": {},
   "source": [
    "A 2-element interferometer is defined by a physical baseline $\\mathbf{b}$. The projected baseline along the direction $\\boldsymbol{\\sigma}$ is the scalar product $\\mathbf{b} \\cdot \\boldsymbol{\\sigma}$.\n",
    "\n",
    "<span style=\"background-color:cyan\">The equation (which equation)</span> can be interpreted as the summation of the sky brightness modulated by a fringe pattern defined by\n",
    "$ e^{-\\imath 2\\pi \\frac{\\textbf{b}\\cdot\\boldsymbol{\\sigma}}{\\lambda}}$.\n",
    "\n",
    "In the one-dimension case, this reduces to $ e^{-\\imath \\frac{2\\pi}{\\lambda} |\\mathbf{b}|\\sin{\\theta}}$\n",
    "\n",
    "The amplitude of the complex visibility function can be interpreted as the *fringe contrast* or *fringe visibility*.\n",
    "\n",
    "<span style=\"background-color:cyan\">Unclear</span>\n",
    "We will see that it has interesting consequences on the measurement of a source shape.\n"
   ]
  },
  {
   "cell_type": "markdown",
   "metadata": {},
   "source": [
    "<p class=conclusion>\n",
    "  <font size=4> **Important things to remember**</font>\n",
    "  <br>\n",
    "\n",
    "&bull; Different parts of the sky are **incoherent**; they do not interfere at the antenna.<br>\n",
    "&bull; The interference pattern is \"created\" by a special combination of the antenna signals.\n",
    "</p>"
   ]
  },
  {
   "cell_type": "markdown",
   "metadata": {
    "collapsed": true
   },
   "source": [
    "***\n",
    "\n",
    "* Next: [4.3 The Visibility Function](4_3_The_Visibility_Function.ipynb)"
   ]
  }
 ],
 "metadata": {
  "kernelspec": {
   "display_name": "Python 2",
   "language": "python",
   "name": "python2"
  },
  "language_info": {
   "codemirror_mode": {
    "name": "ipython",
    "version": 2
   },
   "file_extension": ".py",
   "mimetype": "text/x-python",
   "name": "python",
   "nbconvert_exporter": "python",
   "pygments_lexer": "ipython2",
   "version": "2.7.6"
  }
 },
 "nbformat": 4,
 "nbformat_minor": 0
}
