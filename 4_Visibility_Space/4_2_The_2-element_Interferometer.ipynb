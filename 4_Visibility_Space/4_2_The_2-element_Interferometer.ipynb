{
 "cells": [
  {
   "cell_type": "markdown",
   "metadata": {
    "collapsed": true
   },
   "source": [
    "***\n",
    "<a id='beginning'></a> <!--\\label{beginning}-->\n",
    "* [Outline](../0_Introduction/0_introduction.ipynb)\n",
    "* [Glossary](../0_Introduction/1_glossary.ipynb)\n",
    "* [4. The Visibility space](4_0_introduction.ipynb)\n",
    "    * Previous: [4.1 The Baseline and its representations in space](4_1_The_Baseline_and_its_representations_in_space.ipynb)\n",
    "    * Next: [4.3 The Visibility Function](4_3_The_Visibility_Function.ipynb)\n",
    "\n",
    "***"
   ]
  },
  {
   "cell_type": "markdown",
   "metadata": {},
   "source": [
    "Main author: Julien Girard"
   ]
  },
  {
   "cell_type": "code",
   "execution_count": 2,
   "metadata": {
    "collapsed": false
   },
   "outputs": [
    {
     "data": {
      "text/html": [
       "<style>\n",
       "\n",
       "p.prerequisites {\n",
       "    border:5px;\n",
       "    border-style:none;\n",
       "    background-color:#F0F0F0;\n",
       "    box-shadow: 5px 5px 2px #888888;\n",
       "    border-color:#FF0000;\n",
       "    padding: 1em;\n",
       "}\n",
       "\n",
       "p.conclusion {\n",
       "    border:5px;\n",
       "    border-style:none;\n",
       "    background-color:#c8ebca;\n",
       "    box-shadow: 5px 5px 2px #888888;\n",
       "    border-color:#c8ebca;\n",
       "    padding: 1em;\n",
       "}\n",
       "\n",
       "div.warn {    \n",
       "    background-color: #fcf2f2;\n",
       "    border-color: #dFb5b4;\n",
       "    border-left: 5px solid #dfb5b4;\n",
       "    padding: 0.5em;\n",
       "    }\n",
       "\n",
       "div.advice {    \n",
       "    background-color: #ecf8ed;\n",
       "    border-color: #a2dda5;\n",
       "    border-left: 5px solid #a2dda5;\n",
       "    padding: 0.5em;\n",
       "    }\n",
       " </style>\n",
       "\n",
       "\n"
      ],
      "text/plain": [
       "<IPython.core.display.HTML object>"
      ]
     },
     "execution_count": 2,
     "metadata": {},
     "output_type": "execute_result"
    }
   ],
   "source": [
    "from IPython.core.display import HTML\n",
    "styles = open(\"../style/course.css\", \"r\").read()\n",
    "HTML(styles)"
   ]
  },
  {
   "cell_type": "markdown",
   "metadata": {},
   "source": [
    "---\n",
    "# Outline\n",
    "\n",
    "## Section 4.2 The 2-element interferometer\n",
    "\n",
    "### 4.2.1 From optical to radio interferometry\n",
    "\n",
    "* 4.2.1.A Back to the basics: Physical Optics Interferometry\n",
    "\n",
    "    - What is interfering ? The wave superposition theory\n",
    "    - Coherency and phase between two monochromatic sources\n",
    "    - The Workbench Michelson in a nutshell\n",
    "    \n",
    "    \n",
    "* 4.2.1.B Properties of the Fringe pattern\n",
    "    - Linear (fringes of equal thickness) vs. Circular fringes (fringes of equal inclination)\n",
    "    - Generalization in the 3D space (\"revolution hyperboloids\")\n",
    "    \n",
    "    \n",
    "* 4.2.1.C Using the fringe pattern as a spatial filter\n",
    "    - Projection of the fringe pattern on the sky (baseline projection)\n",
    "    - Integration over the sky\n",
    "    - Integration over the field of view (taking into account the antenna beam)\n",
    "    - Fringe visibility & source resolvability\n",
    "    - Fringe rate (in 4.3?)\n",
    "    \n",
    "    \n",
    "### 4.2.2 Realistic implementation: from the \"$\\cos$\" & \"$\\sin$\" interferometers to the complex interferometer\n",
    "\n",
    "* 4.2.2.A First approach of 2-antenna correlation: the $\\cos$ interferometer\n",
    "\n",
    "    - Classical representation\n",
    "    - Antenna pointing & Delay tracking\n",
    "    - Correlation of a signal: $\\sum$ vs. $\\prod$ interferometer\n",
    "    - Limits of the $\\cos$ interferometer\n",
    "\n",
    "\n",
    "* 4.2.2.B The $\\sin$ interferometer\n",
    "\n",
    "    - Phase shifting by $\\frac{\\pi}{2}$\n",
    "    - Dual implementation\n",
    "\n",
    "\n",
    "* 4.2.2.C The Complex interferometer\n",
    "    - First definition of the Complex visibility\n",
    "---\n",
    "\n",
    "---\n",
    "\n",
    "---\n"
   ]
  },
  {
   "cell_type": "markdown",
   "metadata": {},
   "source": [
    "If this incoming direction is not the local zenith, then the plane wave will attain Antenna 1 and Antenna 2 at different dates (Fig. n), introducing a propagation **delay** difference between the reception of the EM signal.\n",
    "\n",
    "Given the speed of the light ($c$ in the vacuum), this time delay is related to the *Optical Path Difference* ($\\text{OPD}$) $\\Delta l$ with $\\Delta l = c \\Delta t$.\n",
    "\n",
    "This $\\text{OPD}$ can be trivialy derived from the projection of $\\mathbf{b}$ on $\\mathbf{s_0}$ via: \n",
    "$$\\text{OPD} = \\mathbf{b} \\cdot \\mathbf{s_0}$$\n",
    "\n",
    "Later on, we will combine the signals measured by Antenna 1 and Antenna 2 from this direction, we have to take into account this delay and correct for it (see Chap. [EXREF]). Assuming that this delay was corrected properly with the hardware, the direction $\\mathbf{s_0}$ will define the *phase center*.\n",
    "\n",
    "Any arbitrary direction $\\mathbf{s}$ will relate to $\\mathbf{s_0}$ through the difference vector $\\boldsymbol{\\sigma}=\\mathbf{s}-\\mathbf{s_0}$.  At first approximation (i.e. small $|\\boldsymbol{\\sigma}|$), this vector $\\boldsymbol{\\sigma}$ lies on the plane orthogonal to $\\mathbf{s_0}$ and tangent to the celestial sphere. It located the position of a point in the sky, relative to the reference direction $\\mathbf{s_0}$.\n",
    "\n",
    "Later on, $\\boldsymbol{\\sigma}$ will be used to derive the response of an interferometer at any position in the place.\n",
    "\n",
    "Given the directions ($\\mathbf{s}, \\mathbf{s_0}$), the OPDs are obtained via a scalar product with $\\mathbf{b}$. \n",
    "Similarly, we can compute the scalar product between $\\mathbf{b}$ and $\\boldsymbol{\\sigma}$.\n",
    "\n",
    "$$\\mathbf{b} \\cdot \\boldsymbol{\\sigma} = \\mathbf{b} \\cdot (\\mathbf{s} - \\mathbf{s_0}) = \\text{OPD}_{\\mathbf{s}}-\\text{OPD}_{\\mathbf{s_0}}$$"
   ]
  },
  {
   "cell_type": "markdown",
   "metadata": {},
   "source": [
    "<p class=conclusion>\n",
    "  <font size=4> **Important things to remember**</font>\n",
    "  <br>\n",
    "  <br>\n",
    "  \n",
    "&bull; *The measured spatial frequency depends on the length of the **projected** baseline* <br><br>\n",
    "&bull; *The measured spatial frequency depends on the length of the **projected** baseline*\n",
    "</p>"
   ]
  },
  {
   "cell_type": "markdown",
   "metadata": {
    "collapsed": true
   },
   "source": [
    "---\n",
    "* [Go back up](#beginning) <!--\\ref{beginning}--> \n",
    "* Or continue to next section: [4.3 The Visibility Function -->](4_3_The_Visibility_Function.ipynb)\n",
    "---"
   ]
  }
 ],
 "metadata": {
  "kernelspec": {
   "display_name": "Python 2",
   "language": "python",
   "name": "python2"
  },
  "language_info": {
   "codemirror_mode": {
    "name": "ipython",
    "version": 2
   },
   "file_extension": ".py",
   "mimetype": "text/x-python",
   "name": "python",
   "nbconvert_exporter": "python",
   "pygments_lexer": "ipython2",
   "version": "2.7.6"
  }
 },
 "nbformat": 4,
 "nbformat_minor": 0
}
