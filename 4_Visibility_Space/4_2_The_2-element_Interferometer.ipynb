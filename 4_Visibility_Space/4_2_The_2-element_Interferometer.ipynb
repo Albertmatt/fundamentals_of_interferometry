{
 "cells": [
  {
   "cell_type": "markdown",
   "metadata": {
    "collapsed": true
   },
   "source": [
    "***\n",
    "<a id='beginning'></a> <!--\\label{beginning}-->\n",
    "* [Outline](../0_Introduction/0_introduction.ipynb)\n",
    "* [Glossary](../0_Introduction/1_glossary.ipynb)\n",
    "* [4. The Visibility space](4_0_introduction.ipynb)\n",
    "    * Previous: [4.1 The Baseline and its representations in space](4_1_The_Baseline_and_its_representations_in_space.ipynb)\n",
    "    * Next: [4.3 The Visibility Function](4_3_The_Visibility_Function.ipynb)\n",
    "\n",
    "***"
   ]
  },
  {
   "cell_type": "markdown",
   "metadata": {},
   "source": [
    "Main author: Julien Girard"
   ]
  },
  {
   "cell_type": "code",
   "execution_count": 1,
   "metadata": {
    "collapsed": false
   },
   "outputs": [
    {
     "data": {
      "text/html": [
       "<style>\n",
       "\n",
       "p.prerequisites {\n",
       "    border:5px;\n",
       "    border-style:none;\n",
       "    background-color:#F0F0F0;\n",
       "    box-shadow: 5px 5px 2px #888888;\n",
       "    border-color:#FF0000;\n",
       "    padding: 1em;\n",
       "}\n",
       "\n",
       "p.conclusion {\n",
       "    border:5px;\n",
       "    border-style:none;\n",
       "    background-color:#c8ebca;\n",
       "    box-shadow: 5px 5px 2px #888888;\n",
       "    border-color:#c8ebca;\n",
       "    padding: 1em;\n",
       "}\n",
       "\n",
       "div.warn {    \n",
       "    background-color: #fcf2f2;\n",
       "    border-color: #dFb5b4;\n",
       "    border-left: 5px solid #dfb5b4;\n",
       "    padding: 0.5em;\n",
       "    }\n",
       "\n",
       "div.advice {    \n",
       "    background-color: #ecf8ed;\n",
       "    border-color: #a2dda5;\n",
       "    border-left: 5px solid #a2dda5;\n",
       "    padding: 0.5em;\n",
       "    }\n",
       " </style>\n",
       "\n",
       "\n"
      ],
      "text/plain": [
       "<IPython.core.display.HTML object>"
      ]
     },
     "execution_count": 1,
     "metadata": {},
     "output_type": "execute_result"
    }
   ],
   "source": [
    "from IPython.core.display import HTML\n",
    "import numpy as np\n",
    "import matplotlib.pyplot as plt\n",
    "%matplotlib inline\n",
    "styles = open(\"../style/course.css\", \"r\").read()\n",
    "HTML(styles)"
   ]
  },
  {
   "cell_type": "markdown",
   "metadata": {},
   "source": [
    "---\n",
    "# Outline\n",
    "\n",
    "## Section 4.2 The 2-element interferometer\n",
    "\n",
    "### 4.2.1 From optical to radio interferometry\n",
    "\n",
    "* 4.2.1.A Back to the basics: Physical Optics Interferometry\n",
    "\n",
    "    - What is interfering ? The wave superposition theory\n",
    "    - Coherency and phase between two monochromatic sources\n",
    "    - Linear vs. Circular fringes / Generalization in the 3D space (\"revolution hyperboloids\")\n",
    "\n",
    "    \n",
    "### 4.2.2 Realistic implementation: from the \"$\\cos$\" & \"$\\sin$\" interferometers to the complex interferometer\n",
    "\n",
    "* 4.2.2.A First approach of 2-antenna correlation: the $\\cos$ interferometer\n",
    "\n",
    "    - Classical representation\n",
    "\n",
    "    - Correlation of a signal: $\\sum$ vs. $\\prod$ interferometer\n",
    "    - Limits of the $\\cos$ interferometer\n",
    "\n",
    "* 4.2.2.B The $\\sin$ interferometer\n",
    "    - Phase shifting by $\\frac{\\pi}{2}$\n",
    "\n",
    "\n",
    "* 4.2.2.C The Complex interferometer\n",
    "    - First definition of the Complex visibility\n",
    "---\n",
    "\n",
    "## MOVE TO NEXT SECTION\n",
    "\n",
    "    - Antenna pointing & Delay tracking\n",
    "    \n",
    "* 4.2.1.C Using the fringe pattern as a spatial filter\n",
    "    - Projection of the fringe pattern on the sky (baseline projection)\n",
    "    - Integration over the sky / field of view \n",
    "    - Fringe visibility & source resolvability\n",
    "    - Fringe rate (in 4.3?)\n",
    "    \n",
    "\n",
    "---\n",
    "\n",
    "---\n"
   ]
  },
  {
   "cell_type": "markdown",
   "metadata": {},
   "source": [
    "### 4.2.1 From optical to radio interferometry"
   ]
  },
  {
   "cell_type": "markdown",
   "metadata": {},
   "source": [
    "Before addressing the \"interferometry\" part of the course, we will start by quickly recalling the basic results of optical interferometry. As we will see, one should not confuse the \"interferometry\" technique used in optical in general with what is done in the radio, even though a lot of similarities emerge."
   ]
  },
  {
   "cell_type": "markdown",
   "metadata": {},
   "source": [
    "#### 4.2.1.A Back to the basics: Physical Optics Interferometry"
   ]
  },
  {
   "cell_type": "markdown",
   "metadata": {},
   "source": [
    "**Wave superposition theorem**"
   ]
  },
  {
   "cell_type": "markdown",
   "metadata": {},
   "source": [
    "Let $S_1$ and $S_2$ be two point sources, *coherent* and *in phase* emitting two progressive waves $s_1(x,t)$ and $s_2(x,t)$ propagating in space at celerity c. As in figure 1, at point $P$ will received the linear superposition of the waves:\n",
    "\n",
    "$$\\underline{s}(x,t)=\\underline{s_1}(x,t)+\\underline{s_2}(x,t)$$"
   ]
  },
  {
   "cell_type": "markdown",
   "metadata": {},
   "source": [
    "\\begin{eqnarray}\n",
    "\\underline{s}(x,t) &=& \\underline{s_1}(x,t)+\\underline{s_2}(x,t) \\\\\n",
    "\\underline{s}(x,t) &=& s_{01} e^{\\imath (\\omega_1 t - k_1 x +\\varphi_1)}+s_{02} e^{\\imath (\\omega_2 t - k_2 x + \\varphi_2)}\n",
    "\\end{eqnarray}"
   ]
  },
  {
   "cell_type": "markdown",
   "metadata": {},
   "source": [
    "If the source are in phase ($\\varphi_1=\\varphi_2=\\varphi_0$) and have the same amplitude ($s_{01}=s_{02}=s_{0}$) and are synchronous ($\\omega_1=\\omega_2=\\omega$, $k_1=k_2=k$)."
   ]
  },
  {
   "cell_type": "markdown",
   "metadata": {},
   "source": [
    "$s_1(0,t)=s_2(0,t)=s_0 e^{\\imath \\omega t}$. We choose the origin of time to so that the initial phase $\\varphi_0 = 0$."
   ]
  },
  {
   "cell_type": "markdown",
   "metadata": {},
   "source": [
    "At point $P$, the two waves can be written:\n",
    "\n",
    "\\begin{eqnarray}\n",
    "\\underline{s_{1P}}(x,t) &=& s_0 e^{\\imath \\left[ \\omega (t - \\frac{r_1}{c}) \\right]} \\\\\n",
    "\\underline{s_{2P}}(x,t) &=& s_0 e^{\\imath \\left[ \\omega (t - \\frac{r_2}{c}) \\right]} \\\\\n",
    "\\end{eqnarray}"
   ]
  },
  {
   "cell_type": "markdown",
   "metadata": {},
   "source": [
    "We can therefore rewrite the initial phase of these signals at point $P$,\n",
    "$$\\varphi_1=-\\omega \\frac{r_1}{c} \\quad \\underline{s_{1P}}(r_1,t)=s_0 e^{\\imath (\\omega t + \\varphi_1)}$$\n",
    "\n",
    "$$\\varphi_2=-\\omega \\frac{r_2}{c} \\quad \\underline{s_{2P}}(r_2,t)=s_0 e^{\\imath (\\omega t + \\varphi_2)}$$"
   ]
  },
  {
   "cell_type": "markdown",
   "metadata": {},
   "source": [
    "One can notice that the two signals are out of phase at point $P$ by the quantity $\\Delta \\Phi=\\varphi_2-\\varphi_1$. We define the *Optical path difference* (OPD) $\\delta$ as the physical difference length from $S_1$ (resp. $S_2$) to $P$:\n",
    "\n",
    "$$ \\delta = r_1-r_2 \\quad \\Delta \\Phi = \\varphi_2-\\varphi_1 = 2 \\pi \\frac{\\delta}{\\lambda}$$"
   ]
  },
  {
   "cell_type": "markdown",
   "metadata": {},
   "source": [
    "<img src='figures/interferences.png' width=50%>"
   ]
  },
  {
   "cell_type": "markdown",
   "metadata": {},
   "source": [
    "<div align=\"center\">**Figure 1**: Interference region <br>\n",
    "bla<br>\n",
    "bla<br>\n",
    "</div>"
   ]
  },
  {
   "cell_type": "markdown",
   "metadata": {},
   "source": [
    "The phase $\\Delta \\Phi$ depends on $\\delta=r_1-r_2$ and depends on the position of $P$ w.r.t. the sources."
   ]
  },
  {
   "cell_type": "markdown",
   "metadata": {},
   "source": [
    "As seen previously, the incoming waves at $P$ are summed. We the same hypothesis on $S_1$ and $S_2$, the resulting signal beats at $\\omega$ but have the amplitude $S_0$ which depends on the relative amplitude and phase of the wave at the location $P$:\n",
    "\n",
    "$$s_P(t)=S_{0P} \\cos( \\omega t + \\phi_{0P})$$\n",
    "\n",
    "$$\\text{ with } S_{0P}=\\sqrt{\\underline{s_P} \\underline{s_P}^*}=\\sqrt{S_{01}^2+S_{02}^2+2 S_{01} S_{02} \\cos \\Delta \\Phi} = \\sqrt{2 S_0^2(1+ \\cos\\Delta \\Phi)} = 2 S_0 \\bigl\\lvert \\cos \\Delta \\Phi \\bigr\\rvert $$"
   ]
  },
  {
   "cell_type": "markdown",
   "metadata": {},
   "source": [
    "The amplitude $S_{0P}$ depends on the location of $P$ in space."
   ]
  },
  {
   "cell_type": "markdown",
   "metadata": {},
   "source": [
    "**Interfering conditions**"
   ]
  },
  {
   "cell_type": "markdown",
   "metadata": {},
   "source": [
    "the $\\cos$ term will modulate the amplitude of the wave. We can define two regimes depending on the value of $S_{0P}$:\n",
    "\n",
    "* $S_{0P}$ is maximal when $\\Delta \\Phi = 2 m \\pi$ with $m \\in \\mathbb{Z}$, meaning that $\\delta = m \\lambda$. The two waves add in phase. We say that we have *constructive interferences*.\n",
    "* $S_{0P}$ is null when $\\Delta \\Phi = (2m+1) \\pi$ with $m \\in \\mathbb{Z}$, meaning that $\\delta = (m+\\frac{1}{2}) \\lambda$. The two wave are in phase opposition. We have have *destructive interferences*."
   ]
  },
  {
   "cell_type": "markdown",
   "metadata": {},
   "source": [
    "Spatially, it creates an interference pattern in amplitude which depends on the location in space. This pattern is composed of fringes (bright or dark) which denotes of location of constant phase in the space. One fringe is defined as the location of points where $S_1 P - S_2 P = cte$.\n",
    "In the 3D space, the fringes are defined by sets of hyperboloids with axial symmetry around the axis ($S_1$,$S_2$) (see Figure. 2). Each hyperboloid correspond to a particular constant. \n",
    "\n",
    "- In the perpendicular plane to the axis ($S_1$,$S_2$), located mid-way between the source, $\\delta =0$ therefore we have a bright fringe.\n",
    "- Conversely, in the planes containing the axis ($S_1$,$S_2$), the fringes are hyperbolas.\n",
    "- Far from the sources, any plane perpendicular to the axis will collect circular fringes.\n",
    "- Far from the sources, any plane parallel to the axis will collect linear fringes."
   ]
  },
  {
   "cell_type": "markdown",
   "metadata": {},
   "source": [
    "<img src='figures/interferences3D.png' width=70%>"
   ]
  },
  {
   "cell_type": "markdown",
   "metadata": {},
   "source": [
    "<div align=\"center\">**Figure 2**: Interference region <br>\n",
    "bla<br>\n",
    "bla<br>\n",
    "</div>"
   ]
  },
  {
   "cell_type": "markdown",
   "metadata": {},
   "source": [
    "<div class=warn>\n",
    "**Warning:** There is a distortion continuity between the linear fringes and the circular fringes. The shape depend on the location of the plane where the hyperboloids are intersected.\n",
    "</div>\n"
   ]
  },
  {
   "cell_type": "markdown",
   "metadata": {},
   "source": [
    "<div class=warn>\n",
    "**Warning:** The interference fringes are visible when:<br>\n",
    "&bull; the two waves share the same physical nature <br>\n",
    "&bull; if the sources are synchronous and emitting at the same frequency <br>\n",
    "&bull; the amplitude of the two sources are approximately of the same amplitude\n",
    "</div>\n"
   ]
  },
  {
   "cell_type": "markdown",
   "metadata": {},
   "source": [
    "#### 4.2.1.B General considerations"
   ]
  },
  {
   "cell_type": "markdown",
   "metadata": {},
   "source": [
    "##### Notion of temporal/spatial coherency"
   ]
  },
  {
   "cell_type": "markdown",
   "metadata": {},
   "source": [
    "##### The return of the OPD"
   ]
  },
  {
   "cell_type": "markdown",
   "metadata": {},
   "source": [
    "Let's now consider: \n",
    "* two isotropic receiving systems $R_1$ and $R_2$, located on the ground.\n",
    "* a monochromatic plane wave, coming from the direction $\\theta$."
   ]
  },
  {
   "cell_type": "markdown",
   "metadata": {},
   "source": [
    "<img src='figures/interferencereceivers.png' width=40%>"
   ]
  },
  {
   "cell_type": "markdown",
   "metadata": {},
   "source": [
    "<div align=\"center\">**Figure 3**: two receivers one direction<br>\n",
    "bla<br>\n",
    "bla<br>\n",
    "</div>"
   ]
  },
  {
   "cell_type": "markdown",
   "metadata": {},
   "source": [
    "If this incoming direction is not the local zenith, then the plane wave will attain $R_1$ and $R_2$ at different dates (Fig. 3), introducing a propagation **delay** difference between the reception of the EM signal.\n",
    "\n",
    "Given the speed of the light ($c$ in the vacuum), this time delay is related to the *Optical Path Difference* ($\\text{OPD}$) $\\delta$ with $\\delta = c \\Delta t$.\n",
    "\n",
    "This $\\text{OPD}$ can be trivialy derived from the projection of $\\mathbf{b}$ on $\\mathbf{s_0}$ via: \n",
    "$$\\text{OPD} = \\mathbf{b} \\cdot \\mathbf{s_0}$$\n",
    "\n",
    "Later on, we will combine the signals measured by $R_1$ and $R_2$ from this direction, we have to take into account this delay and correct for it (see Chap. [EXREF]). Assuming that this delay was corrected properly with the hardware, the direction $\\mathbf{s_0}$ will define the *phase center*."
   ]
  },
  {
   "cell_type": "markdown",
   "metadata": {},
   "source": [
    "<img src='figures/interferencereceivers2.png' width=40%>"
   ]
  },
  {
   "cell_type": "markdown",
   "metadata": {},
   "source": [
    "<div align=\"center\">**Figure 4**: two receivers two directions<br>\n",
    "bla<br>\n",
    "bla<br>\n",
    "</div>"
   ]
  },
  {
   "cell_type": "markdown",
   "metadata": {},
   "source": [
    "Any arbitrary direction $\\mathbf{s}$ will relate to $\\mathbf{s_0}$ through the difference vector $\\boldsymbol{\\sigma}=\\mathbf{s}-\\mathbf{s_0}$ (as illustrated on Fig. 4).  At first approximation (i.e. small $|\\boldsymbol{\\sigma}|$), this vector $\\boldsymbol{\\sigma}$ lies on the plane orthogonal to $\\mathbf{s_0}$ and tangent to the celestial sphere. It located the position of a point in the sky, relative to the reference direction $\\mathbf{s_0}$.\n",
    "\n",
    "Later on, $\\boldsymbol{\\sigma}$ will be used to derive the response of an interferometer at any position in the place.\n",
    "\n",
    "Given the directions ($\\mathbf{s}, \\mathbf{s_0}$), the OPDs are obtained via a scalar product with $\\mathbf{b}$. \n",
    "Similarly, we can compute the scalar product between $\\mathbf{b}$ and $\\boldsymbol{\\sigma}$.\n",
    "\n",
    "$$\\mathbf{b} \\cdot \\boldsymbol{\\sigma} = \\mathbf{b} \\cdot (\\mathbf{s} - \\mathbf{s_0}) = \\text{OPD}_{\\mathbf{s}}-\\text{OPD}_{\\mathbf{s_0}}$$"
   ]
  },
  {
   "cell_type": "markdown",
   "metadata": {},
   "source": [
    "<div class=warn>\n",
    "**Warning:** Unlike the two coherent/in phase sources case, the total signal received by $R_1$ or $R_2$ **DOES NOT INTERFERE** as they come from different and incoherent source of the sky. It is critical to understand that theyr is no equivalence between the emitting case and the receiving case.<br> This should not be confused with the reciprocity theorem which is valid when considering the beam pattern of a emitting/receiving antenna.</div>\n"
   ]
  },
  {
   "cell_type": "markdown",
   "metadata": {},
   "source": [
    "<div class=warn>\n",
    "**Warning:** the vector $\\mathbf{s}$ and $\\mathbf{s_0}$ are unitary and defined with angles only. Therefore, the length of $\\boldsymbol{\\sigma}$ is a projected angular distance on the sky (defined in terms of direction cosines ($l$, $m$, $n$) defined in the previous chapter.</div>\n"
   ]
  },
  {
   "cell_type": "markdown",
   "metadata": {},
   "source": [
    "#### 4.2.1.C First approach to radio interferometry:"
   ]
  },
  {
   "cell_type": "markdown",
   "metadata": {},
   "source": [
    "From the configuration presented in Fig. 3 and 4, we now try to understand what can be extracted from the different combination of the signales. The reception delay between the antenna induce a phase delay.\n",
    "\n",
    "* We can either add those signals together, and form a *sum* interferometer, or $\\sum$-interferometer\n",
    "* or multiply those signals, to form a *product* interferometer, or $\\prod$-interferometer.\n",
    "\n",
    "Let's define the measured voltages:\n",
    "$$V_1=V_{01} \\cos (\\omega t + \\varphi_1)  \\quad V_2 = V_{01} \\cos (\\omega t + \\varphi_1)$$\n",
    "\n",
    "Using the direction $\\mathbf{s}$ as a reference direction of the incoming wave and $R_2$ as the reference antenna (for the origin of the time), we can recast the expression of the signal as a function of OPD:\n",
    "\n",
    "$$V_1=V_{01} \\cos (\\omega t + \\varphi_1 - \\varphi_2)  \\quad V_2 = V_{02} \\cos (\\omega t)$$\n",
    "$$V_1=V_{01} \\cos (\\omega (t + \\frac{\\delta}{c}))  \\quad V_2 = V_{02} \\cos (\\omega t)$$"
   ]
  },
  {
   "cell_type": "markdown",
   "metadata": {},
   "source": [
    "#####  4.2.1.C.1 About the $\\sum$-interferometer"
   ]
  },
  {
   "cell_type": "markdown",
   "metadata": {},
   "source": [
    "Similarly to 4.2.1.A, we can derive the result of the summation of the two signals."
   ]
  },
  {
   "cell_type": "markdown",
   "metadata": {},
   "source": [
    "\n",
    "or in complex notation:\n",
    "\n",
    "$$\\underline{V}_\\sum = \\underline{V_1} + \\underline{V_2} = V_{01} e^{\\imath (\\omega t + \\varphi_1)} + V_{02} e^{\\imath (\\omega t + \\varphi_2)}$$\n",
    "\n",
    "As in 4.2.1.A, we can compute the amplitude of the sum by computing \n",
    "$$A=\\sqrt{(\\underline{V_1} + \\underline{V_2})^2}= (\\underline{V_1} + \\underline{V_2})(\\underline{V_1} + \\underline{V_2})^*$$\n",
    "resulting in\n",
    "\n",
    "$$A=\\sqrt{2 V_0^2(1+ \\cos\\Delta \\Phi)} \\text{ with } \\Delta\\Phi = \\varphi_2-\\varphi_1$$\n",
    "\n",
    "The amplitude of the sum does not depend on the time but only on the delay of reception between $R_1$ and $R_2$.\n",
    "\n",
    "The problem with the summation interferometer is that the additive constant term $2 V_0^2$ is not known and cannot be easily removed. It represents the product of the average level of the voltage product between $R_1$ and $R_2$.\n",
    "We will see that in the $\\prod$-interferometer, this is no longer a problem as the unknown only come as multiplying constant which can be normalized. In the following, we will focus more on the second case which is the most commonly addressed case in the litterature. \n",
    "\n",
    "The reader interested in more development of the $\\sum$-interferometer can report to [EXREF]."
   ]
  },
  {
   "cell_type": "markdown",
   "metadata": {},
   "source": [
    "#####  4.2.1.C.1 The $\\prod$-interferometer with a $\\cos$ correlator"
   ]
  },
  {
   "cell_type": "markdown",
   "metadata": {},
   "source": [
    "The product of two signal can practically be implemented through the correlation operation. The correlator is the device which perform the multiplication between the two measured voltages. As any electronic system, it imposes some temporal response inducing some averaging in time. We will assume that this averaging time is long enough so that the temporal dependance with $t$ can be smoothed away."
   ]
  },
  {
   "cell_type": "markdown",
   "metadata": {},
   "source": [
    "In our simple case, we will represent the correlation of the signal can be expressed as:\n",
    "\n",
    "$$C= \\langle V_1 V_2 \\rangle_t$$ with $\\langle \\cdot \\rangle_t$ the time averaging operator.\n",
    "\n",
    "\\begin{eqnarray}\n",
    "C&=&\\langle V_{01} V_{02} \\cos{\\omega t} \\cos{[\\omega (t + \\frac{\\delta}{c}) ]} \\rangle_t=&\\langle V_{01} V_{02} \\cos{\\omega t} \\cos{[\\omega (t + \\tau) ]} \\rangle_t\\\\\n",
    "C &=& V_0^2 \\frac{\\langle \\cos(2 \\omega t + \\tau)+\\cos (\\omega \\tau)\\rangle_t}{2}\n",
    "\\end{eqnarray}\n",
    "$$\\boxed{C =\\frac{V_0^2}{2}\\cos{\\omega \\tau}=\\frac{V_0^2}{2}\\cos{(2 \\pi \\frac{\\delta}{\\lambda}})}$$"
   ]
  },
  {
   "cell_type": "markdown",
   "metadata": {},
   "source": [
    "In 4.2.1.A, we have highlighted the fact that the interference fringe pattern depends on the location in space and we also found condition on the phase to describe individual fringes.\n",
    "Similarly, we see here that the strengh of the correlation between the two measured signals will depends on the OPD, the delay of reception between the antenna. As it depends on the relative orientation of the baseline $\\mathbf{b}$ with respect to the direction $\\mathbf{s_0}$, we will also create a fringe pattern which will depend spatially on the direction of the source.\n",
    "\n",
    "The fringe phase $\\phi=\\omega \\tau=\\frac{\\omega}{c} |\\mathbf{b}| \\cos \\theta$\n",
    "\n",
    "The fringe rate is the derivative w.r.t. $\\theta$: $ \\frac{d\\phi}{d\\theta}=2\\pi\\frac{|\\mathbf{b}|\\sin\\theta}{\\lambda}$\n",
    "\n",
    "the quantity $\\frac{|\\mathbf{b}| \\sin \\theta}{\\lambda}$ is the fringe period. "
   ]
  },
  {
   "cell_type": "markdown",
   "metadata": {},
   "source": [
    "First result:\n",
    "\n",
    "* The correlation of two measured signals can be associated with the angular position of the source with respect to the baseline.\n",
    "\n",
    "* If $\\lambda$ is small enough compared to the projected baseline $|\\mathbf{b}|\\sin\\theta$, the phase of the correlation can precisely track the position of a source.\n",
    "\n",
    "* As a consequence, the correlation is sensitive to spatial variation of spatial period $\\frac{\\lambda}{|\\mathcal{b}|\\sin \\theta}$ which means that a 2-D element interferometer acts as **spatial filter** for this spatial frequency."
   ]
  },
  {
   "cell_type": "markdown",
   "metadata": {},
   "source": [
    "The sky is composed of spatially incoherent sources (point and/or extended sources) which can be described with a continuous function $\\mathcal{B}(\\boldsymbol{\\sigma})$, the sky brightness distribution.\n",
    "By linearity of this \"sky-term\", we can compute the total correlation between $R_1$ and $R_2$ by summing over all the observable directions:\n",
    "\n",
    "$$ C_{\\cos}= \\int_\\Omega \\mathcal{C}(\\boldsymbol{\\sigma}) \\cos(2 \\pi \\frac{\\delta_{\\boldsymbol{\\sigma}}}{\\lambda})d \\Omega$$\n",
    "\n",
    "One limiting property of this correlator is that it is only sensitive to the *even* part of the sky brigthness function (see the note). To be able to measure the *odd* part of the sky brigthness function, we should build a *sine* correlator.\n",
    "\n"
   ]
  },
  {
   "cell_type": "markdown",
   "metadata": {},
   "source": [
    "<div class=advice>\n",
    "**Note:** Indeed, if we imagine that the sky brightness is an odd function composed of two sources of opposite brightness. <br>\n",
    "i.e. $\\mathcal{B}(\\boldsymbol{\\sigma_+})=+1$ and $\\mathcal{B}(\\boldsymbol{\\sigma_-})=-1$, $\\delta_+ = - \\delta_-$, $C_+=-C_-$) then\n",
    "\n",
    "$$C_{\\cos}= C_+ \\cos{2 \\pi \\frac{\\delta_{+}}{\\lambda}} + C_- \\cos{2 \\pi \\frac{\\delta_{-}}{\\lambda}}= C_+ \\cos{2 \\pi \\frac{\\delta_{+}}{\\lambda}} - C_+ \\cos{2 \\pi \\frac{\\delta_{+}}{\\lambda}}=0$$\n",
    "\n",
    "The *odd* part of the sky brightness will not measured through the correlation with a *cosine* correlator.</div>"
   ]
  },
  {
   "cell_type": "markdown",
   "metadata": {},
   "source": [
    "By linearity, the voltage measured by each antenna is the integral of the contribution from all direction over their respective field of view.\n",
    "\n",
    "$$V_1= \\int_{\\Omega_1} V_{1_\\Omega} d \\Omega_1 \\quad V_2= \\int_{\\Omega_2} V_{2_\\Omega} d\\Omega_2$$\n",
    "\n"
   ]
  },
  {
   "cell_type": "markdown",
   "metadata": {},
   "source": [
    "$V_{i_\\Omega}$ will be proportional to the received power in direction $\\mathbf{s}$: \n",
    "$V_{i_\\Omega} \\propto \\frac{1}{2} A_{\\text{eff}}(\\mathbf{s}) I_\\nu(\\mathbf{s})\\Delta\\nu d\\Omega$\n",
    "\n",
    "therefore,\n",
    "$$C_{\\cos}= \\langle V_1 V_2 \\rangle_t= \\langle \\int_{\\Omega_1} V_{1_\\Omega} d \\Omega_1 \\int_{\\Omega_2} V_{2_\\Omega} d \\Omega_2 \\rangle_t$$\n",
    "\n",
    "We assume that all the emission from the sky is spatially incoherent, meaning that only the correlation of the two signal coming from the same direction will be non-zero. We can therefore swap the the integrals with the time averaging:\n",
    "\n",
    "$$C_{\\cos}= \\langle V_1 V_2 \\rangle_t= \\int_{\\Omega} \\langle V_{1_\\Omega} V_{2_\\Omega} \\rangle_t d \\Omega \\propto \\int_\\Omega I_\\nu(\\boldsymbol{\\sigma}) \\cos(2 \\pi \\nu \\frac{\\delta}{c})d \\Omega$$\n",
    "\n",
    "For simplification, we can assume for now that $C(\\sigma) = I_\\nu (\\boldsymbol\\sigma) $.\n"
   ]
  },
  {
   "cell_type": "markdown",
   "metadata": {},
   "source": [
    "##### 4.2.1.C.2 The $\\prod$-interferometer with a $\\sin$ correlator"
   ]
  },
  {
   "cell_type": "markdown",
   "metadata": {},
   "source": [
    "A straightforward way to do that is by introducing an artificial phase delay of $\\frac{\\pi}{2}$ in one of the two signal path.\n",
    "If we introduce supplementary phase delay to the antenna path of signal 2, we obtain the following:\n",
    "\n",
    "\n",
    "$$V_1=V_{01} \\cos (\\omega (t + \\tau))  \\quad V_2 = V_{02} \\cos (\\omega t + \\frac{\\pi}{2} )$$\n",
    "\\begin{eqnarray}\n",
    "C&=&\\langle V_{01} V_{02} \\cos{(\\omega t + \\frac{\\pi}{2})} \\cos{[\\omega (t + \\tau) ]} \\rangle_t\\\\\n",
    "C&=& V_0^2 \\frac{\\langle \\cos(2 \\omega t + \\tau + \\frac{\\pi}{2})+\\cos (\\omega \\tau - \\frac{\\pi}{2})\\rangle_t}{2}\n",
    "\\end{eqnarray}\n",
    "$$\\boxed{C_{\\sin} =\\frac{V_0^2}{2}\\sin{\\omega \\tau}}$$\n",
    "\n"
   ]
  },
  {
   "cell_type": "markdown",
   "metadata": {},
   "source": [
    "By implementing two parallel correlator ($\\cos$ & $\\sin$), one can measure the correlation of both the *even* and *odd* part of the sky brightness.\n",
    "\n",
    "$$\\boxed{C_{\\cos} =\\frac{V_0^2}{2}\\cos{\\omega \\tau}} \\quad \\boxed{C_{\\sin} =\\frac{V_0^2}{2}\\sin{\\omega \\tau}}$$"
   ]
  },
  {
   "cell_type": "markdown",
   "metadata": {},
   "source": [
    "<div class=advice>\n",
    "**Note:** The practical implementation of this supplementary delay can be performed in analogic or in digital by inserting the correct dephasors in the signal path.</div>\n"
   ]
  },
  {
   "cell_type": "markdown",
   "metadata": {},
   "source": [
    "##### 4.2.1.C.3 The complex correlator"
   ]
  },
  {
   "cell_type": "markdown",
   "metadata": {},
   "source": [
    "The previous section addressed *practical* implementation of an interferometer observing an arbitrary sky. As we derived two interferometers with $\\cos$ and $\\sin$ correlator, there is scope to recast these relationship into a *complex* notation."
   ]
  },
  {
   "cell_type": "markdown",
   "metadata": {},
   "source": [
    "We build the complex correlation function as:\n",
    "\\begin{eqnarray}\n",
    "\\underline{C}&=& \\Re{(\\underline{C})}-\\imath\\Im{(\\underline{C})}=C_{\\cos} - \\imath C_{\\sin}\\\\\n",
    "\\underline{C}&=& \\sum_{n_{\\text{dir}}=0}^{\\infty} C_n \\cos(2 \\pi \\frac{\\delta_n}{\\lambda})- \\imath \\sum_{n_{\\text{dir}}=0}^{\\infty} C_n \\sin(2 \\pi \\frac{\\delta_n}{\\lambda})\\\\\n",
    "\\underline{C}&=&\\sum_{n_{\\text{dir}}=0}^{\\infty} C_n \\left[ \\cos(2 \\pi \\frac{\\delta_n}{\\lambda}) - \\imath \\sin(2 \\pi \\frac{\\delta_n}{\\lambda}) \\right] \\\\\n",
    "\\underline{C}&=&\\sum_{n_{\\text{dir}}=0}^{\\infty} C_n e^{-\\imath 2\\pi \\frac{\\delta_n}{\\lambda}}\n",
    "\\end{eqnarray}"
   ]
  },
  {
   "cell_type": "markdown",
   "metadata": {},
   "source": [
    "# !!! TODO: LINK between $\\delta_n$ and $\\sigma$\n",
    "# !!! TODO: LINK between $C_n$ and Brigthness distribution\n"
   ]
  },
  {
   "cell_type": "markdown",
   "metadata": {},
   "source": [
    "We can extend the definition to the continuous case for any direction, therefore any delay. \n",
    "CHECK\n",
    "\\begin{eqnarray}\n",
    "\\underline{C}&=& \\int_{\\Omega} C(\\boldsymbol{\\sigma}) e^{-\\imath 2\\pi \\frac{\\textbf{b}.\\boldsymbol{\\sigma}}{\\lambda}} d\\boldsymbol{\\Omega}\n",
    "&=& \\int_{\\Omega} C(\\mathbf{s}- \\mathbf{s_0}) e^{-\\imath 2\\pi \\frac{\\textbf{b}.(\\mathbf{s}- \\mathbf{s_0})}{\\lambda}} d\\boldsymbol{\\Omega}\n",
    "\\end{eqnarray}"
   ]
  },
  {
   "cell_type": "markdown",
   "metadata": {},
   "source": [
    "CHECK $C(\\boldsymbol{\\sigma})$ is the source coherency which can be identified with the sky brightness function $\\mathcal{B}$. In this case, the correlation is identified with the complex visibility function $\\mathcal{V}$."
   ]
  },
  {
   "cell_type": "markdown",
   "metadata": {},
   "source": [
    "<div class=warn>\n",
    "**Note:** The minus sign in the definition of the complex correlation is a matter of convention for the rest of the course.<br>\n",
    "$\\Omega$ is a solid angle which describe the full-sky or the Field of View of the receiver.\n",
    "</div>\n"
   ]
  },
  {
   "cell_type": "markdown",
   "metadata": {},
   "source": [
    "<img src='figures/spatialfiltering.png' width=40%>"
   ]
  },
  {
   "cell_type": "markdown",
   "metadata": {},
   "source": [
    "<div align=\"center\">**Figure 5**: spatial filtering<br>\n",
    "IMPROVE FIGURE WITH PROJECTED BASELINE<br>\n",
    "bla<br>\n",
    "</div>"
   ]
  },
  {
   "cell_type": "markdown",
   "metadata": {},
   "source": [
    "In the next section, dedicated to the study of the complex visibility function, we will see what information we can retrieve about the source, thanks to the correlation of the signals measured by the two receivers."
   ]
  },
  {
   "cell_type": "markdown",
   "metadata": {},
   "source": [
    "A 2-element interferometer is defined by a unique physical baseline. Considering the direction $\\mathbf{b}$, the projected baseline is defined as the scalar product $\\mathbf{b} \\cdot \\boldsymbol{\\sigma}$.\n",
    "\n",
    "The equation can be interpreted as the summation of the sky brightness *as seen* through a fringe pattern defined by\n",
    "$ e^{-\\imath 2\\pi \\frac{\\textbf{b}\\cdot\\boldsymbol{\\sigma}}{\\lambda}}$.\n",
    "\n",
    "In a 1 dimension case, it simplifies as $ e^{-\\imath \\frac{2\\pi}{\\lambda} |\\mathbf{b}|\\sin{\\theta}}$\n",
    "\n",
    "The amplitude of the complex visibility function can be interpreted as the *fringe contrast* or *fringe visibility*. We will see that it has interesting consequence on the measurement of a source shape.\n",
    "For a East-West baseline observing the local meridian, we can sketch the spatial filtering with the following figure:\n",
    "\n"
   ]
  },
  {
   "cell_type": "markdown",
   "metadata": {},
   "source": [
    "# !!! WORD ON FRINGE STOPPING / DELAY TRACKING"
   ]
  },
  {
   "cell_type": "markdown",
   "metadata": {},
   "source": [
    "bla\n"
   ]
  },
  {
   "cell_type": "markdown",
   "metadata": {},
   "source": [
    "### OVERLAP FOLLOWING MOVED TO NEXT SECTION"
   ]
  },
  {
   "cell_type": "markdown",
   "metadata": {},
   "source": [
    "#### 2-element interferometer as a spatial filter"
   ]
  },
  {
   "cell_type": "markdown",
   "metadata": {},
   "source": [
    "$$\\boxed{\\boxed{\\mathcal{ V_{\\mathbf{b}} } = \\int_{\\Omega} \\mathcal{B}(\\boldsymbol{\\sigma}) e^{-\\imath 2\\pi \\frac{\\textbf{b}\\cdot \\boldsymbol{\\sigma}}{\\lambda}} d\\boldsymbol{\\sigma}}}$$\n",
    "\n"
   ]
  },
  {
   "cell_type": "markdown",
   "metadata": {},
   "source": [
    "To play around with the spatial filtering of a 2-element interferometer, report to the practical session REF"
   ]
  },
  {
   "cell_type": "markdown",
   "metadata": {},
   "source": [
    "No that we defined how to "
   ]
  },
  {
   "cell_type": "code",
   "execution_count": null,
   "metadata": {
    "collapsed": true
   },
   "outputs": [],
   "source": []
  },
  {
   "cell_type": "markdown",
   "metadata": {},
   "source": [
    "<p class=conclusion>\n",
    "  <font size=4> **Important things to remember**</font>\n",
    "  <br>\n",
    "\n",
    "&bull; Different portions of the sky are **incoherent**, they do not interfere at the antenna level.<br>\n",
    "&bull; The interference pattern is \"created\" by a special combination of the antenna signals.\n",
    "</p>"
   ]
  },
  {
   "cell_type": "code",
   "execution_count": null,
   "metadata": {
    "collapsed": true
   },
   "outputs": [],
   "source": []
  },
  {
   "cell_type": "code",
   "execution_count": 76,
   "metadata": {
    "collapsed": false
   },
   "outputs": [],
   "source": [
    "dl=np.arange(200)*2./200-1\n",
    "c=3e8\n",
    "lamb=np.double(c/1420e6) # 100 MHz in Hz\n",
    "b=100. # 100 m baseline\n",
    "kernel=np.exp(-1j*2*np.pi/lamb*b*dl)"
   ]
  },
  {
   "cell_type": "code",
   "execution_count": 77,
   "metadata": {
    "collapsed": false
   },
   "outputs": [
    {
     "data": {
      "text/plain": [
       "[<matplotlib.lines.Line2D at 0x7fe80513ca10>]"
      ]
     },
     "execution_count": 77,
     "metadata": {},
     "output_type": "execute_result"
    },
    {
     "data": {
      "image/png": "[encoded data removed]",
      "text/plain": [
       "<matplotlib.figure.Figure at 0x7fe80523d090>"
      ]
     },
     "metadata": {},
     "output_type": "display_data"
    }
   ],
   "source": [
    "plt.plot(dl,np.real(kernel))"
   ]
  },
  {
   "cell_type": "markdown",
   "metadata": {
    "collapsed": true
   },
   "source": [
    "---\n",
    "* [Go back up](#beginning) <!--\\ref{beginning}--> \n",
    "* Or continue to next section: [4.3 The Visibility Function -->](4_3_The_Visibility_Function.ipynb)\n",
    "---"
   ]
  }
 ],
 "metadata": {
  "kernelspec": {
   "display_name": "Python 2",
   "language": "python",
   "name": "python2"
  },
  "language_info": {
   "codemirror_mode": {
    "name": "ipython",
    "version": 2
   },
   "file_extension": ".py",
   "mimetype": "text/x-python",
   "name": "python",
   "nbconvert_exporter": "python",
   "pygments_lexer": "ipython2",
   "version": "2.7.6"
  }
 },
 "nbformat": 4,
 "nbformat_minor": 0
}
