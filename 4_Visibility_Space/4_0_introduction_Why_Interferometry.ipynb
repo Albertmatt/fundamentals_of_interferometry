{
 "cells": [
  {
   "cell_type": "markdown",
   "metadata": {},
   "source": [
    "***\n",
    "\n",
    "* [Outline](../0_Introduction/4_0_introduction.ipynb)\n",
    "* [Glossary](../0_Introduction/1_glossary.ipynb)\n",
    "* [4. The Visibility space](#)\n",
    "    * Previous Chapter: [3. Positional Astronomy](../3_Positional_Astronomy/3_0_introduction.ipynb)\n",
    "\n",
    "    * Next: [4.1 The Baseline and its representations in space](4_1_The_Baseline_and_its_representations_in_space.ipynb)\n",
    "\n",
    "***"
   ]
  },
  {
   "cell_type": "markdown",
   "metadata": {},
   "source": [
    "-"
   ]
  },
  {
   "cell_type": "markdown",
   "metadata": {
    "collapsed": true
   },
   "source": [
    "***"
   ]
  },
  {
   "cell_type": "markdown",
   "metadata": {
    "collapsed": true
   },
   "source": [
    "## Chapter 4. Introduction: Why Interferometry ?"
   ]
  },
  {
   "cell_type": "markdown",
   "metadata": {},
   "source": [
    "### 4.0.1 Limits of a single dish telescope \n",
    "\n",
    "List of (scientific) motivations:\n",
    "- more and more collecting area $-$ $A_\\text{eff} \\propto D^2$\n",
    "- thinner angular resolution $-$ $\\lambda / D$\n",
    "\n",
    "\n",
    "=> Larger and larger collecting size\n",
    "\n",
    "Limitations:\n",
    "- Mechanical limitations\n",
    "steerable dishes ($d\\leq 100m$) e.g. Green Bank (zapped), Effelsberg\n",
    "steered focus ($d\\sim 300m$) e.g. Arecibo, Nançay Radio Telescope\n",
    "\n",
    "- E.M. impacts of structure on the beam pattern (links to receivers section)\n",
    "\n",
    "Basic principle of interferometry\n"
   ]
  },
  {
   "cell_type": "markdown",
   "metadata": {},
   "source": [
    "<img src=\"images/before.jpeg\" width=\"30%\" height=\"30%\"/><img src=\"images/after.jpeg\" width=\"30%\" height=\"30%\"/><img src=\"images/zapped.jpeg\" width=\"30%\" height=\"30%\"/>\n"
   ]
  },
  {
   "cell_type": "code",
   "execution_count": null,
   "metadata": {
    "collapsed": true
   },
   "outputs": [],
   "source": []
  },
  {
   "cell_type": "markdown",
   "metadata": {},
   "source": [
    "### 4.0.2 From an optical parabolic dish to a radio interferometer\n",
    "\n",
    "(Inspired from Oleg's slides)\n",
    "* Optical telescope (one piece mirror)\n",
    "* (segmented mirrors)\n",
    "* conversion from optical received to radio receiver (electronic)\n",
    "* moving focus away from the dish (with cable)\n",
    "* moving pieces of collector on the ground\n",
    "* ...all pieces\n",
    "* Each piece can itself be a small \"manageable\" parabola\n",
    "\n",
    "While keeping the \"Parabola\" characteristic of the dish (playing with cable delays...)"
   ]
  },
  {
   "cell_type": "markdown",
   "metadata": {},
   "source": [
    "### 4.0.3 Parabola as a continuous interferometer (! might move after baseline subsection)\n",
    "(inspired from Rick Perley NRAO course)\n",
    "* Continuous distribution of baselines\n",
    "* Aperture auto-correlation: Wiener-Khinchin Theorem\n",
    "* Aperture synthesis => try to recreate an aperture with enhanced characteristics\n"
   ]
  },
  {
   "cell_type": "code",
   "execution_count": null,
   "metadata": {
    "collapsed": true
   },
   "outputs": [],
   "source": []
  }
 ],
 "metadata": {
  "kernelspec": {
   "display_name": "Python 2",
   "language": "python",
   "name": "python2"
  },
  "language_info": {
   "codemirror_mode": {
    "name": "ipython",
    "version": 2
   },
   "file_extension": ".py",
   "mimetype": "text/x-python",
   "name": "python",
   "nbconvert_exporter": "python",
   "pygments_lexer": "ipython2",
   "version": "2.7.6"
  }
 },
 "nbformat": 4,
 "nbformat_minor": 0
}
