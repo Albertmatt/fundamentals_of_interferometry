{
 "cells": [
  {
   "cell_type": "markdown",
   "metadata": {},
   "source": [
    "4_0_introduction_Why_Interferometry.ipynb\n",
    "\t- Limits of a single dish\n",
    "\t- From a dish to an interferometer \n",
    "\t- Single dish as an continuous interferometer\n",
    "\n",
    "4_1_The_Baseline_and_its_representations_in_space.ipynb\n",
    "\t- The physical baseline (physical - ENU)\n",
    "\t- The projected baseline ( (u,v,w) / (X,Y,Z) )\n",
    "\n",
    "4_2_The_2-element_Interferometer.ipynb\n",
    "\t- 1 baseline + 1 direction = 1 set of fringes\n",
    "\t- 1 baseline + 1 direction = 1 spatial filter\n",
    "\t- Cos & Sin interferometers\n",
    "\t- The Complex interferometer\n",
    "\n",
    "4_3_The_Visibility_Function.ipynb\n",
    "\t- Source coherency\n",
    "\t- Fringe Visibility, Visibility function\n",
    "\t- Example of visibility functions (Amplitude/Phase)\n",
    "\t- Sampling the visibility function (link to Griffin's)\n",
    "\n",
    "4_4 UV Coverage\n",
    "\n",
    "4_4_1 The_N-element_Interferometer_and_UV_Coverage.ipynb\n",
    "\t- Redundant/Irregular array and impact on UV coverage\n",
    "\t- Examples: WSRT, VLA (A,B,C...), LOFAR\n",
    "\n",
    "4_4_2 Improving_Your_Coverage_With_Time_and_Frequency_Integration.ipynb\n",
    "\t- Time averaging: Earth Rotation Synthesis\n",
    "\t- Frequency averaging: Frequency Synthesis\n",
    "\n",
    "4_4_3_Limits_of_integration.ipynb\n",
    "\t- Losing coherency\n",
    "\t- Time smearing (+ link to Oleg's)\t\n",
    "\t- Frequency smearing (+ link to Oleg's) // to optical wideband Newton confusion + FoV\n",
    "\n",
    "4_5_The_Fourier_Approximation_VanCittert-Zernike_Theorem.ipynb\n",
    "\t- The W-term\n",
    "\t- Small field approx, narrow-bandwidth, regular/identical beam patterns (link to Oleg's)\n",
    "\t- Formulation of the theorem\n",
    "\n",
    "4_6_Further_Reading_And_References.ipynb\n",
    "\n",
    "SIMULATIONS:\n",
    "\n",
    "A_SIM_UV_Coverage.ipynb\n",
    "\tSimulation for different (simple) arrays vs. observing time/direction\n",
    "\n",
    "B_SIM_Computing_Visibilities_Manually.ipynb\n",
    "\tGiven a set of baselines, compute the Sum_fov( fringe pattern x Sky ) "
   ]
  },
  {
   "cell_type": "markdown",
   "metadata": {},
   "source": [
    "***\n",
    "\n",
    "* [Outline](../0_Introduction/4_0_introduction.ipynb)\n",
    "* [Glossary](../0_Introduction/1_glossary.ipynb)\n",
    "* 4. The Visibility space\n",
    "    * Next: [4.1 The Baseline: 2-element interferometer](4_2_Correlation.ipynb)\n",
    "\n",
    "***"
   ]
  },
  {
   "cell_type": "code",
   "execution_count": null,
   "metadata": {
    "collapsed": true
   },
   "outputs": [],
   "source": []
  }
 ],
 "metadata": {
  "kernelspec": {
   "display_name": "Python 2",
   "language": "python",
   "name": "python2"
  },
  "language_info": {
   "codemirror_mode": {
    "name": "ipython",
    "version": 2
   },
   "file_extension": ".py",
   "mimetype": "text/x-python",
   "name": "python",
   "nbconvert_exporter": "python",
   "pygments_lexer": "ipython2",
   "version": "2.7.6"
  }
 },
 "nbformat": 4,
 "nbformat_minor": 0
}
