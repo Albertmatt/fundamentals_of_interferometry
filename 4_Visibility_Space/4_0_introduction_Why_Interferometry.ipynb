{
 "cells": [
  {
   "cell_type": "markdown",
   "metadata": {},
   "source": [
    "***\n",
    "\n",
    "* [Outline](../0_Introduction/4_0_introduction.ipynb)\n",
    "* [Glossary](../0_Introduction/1_glossary.ipynb)\n",
    "* [4. The Visibility space](#)\n",
    "    * Previous Chapter: [3. Positional Astronomy](../3_Positional_Astronomy/3_0_introduction.ipynb)\n",
    "\n",
    "    * Next: [4.1 The Baseline and its representations in space](4_1_The_Baseline_and_its_representations_in_space.ipynb)\n",
    "\n",
    "***"
   ]
  },
  {
   "cell_type": "markdown",
   "metadata": {},
   "source": [
    "# Chapter layout\n",
    "\n",
    "## 4.0 Introduction: Why Interferometry ?\n",
    "\n",
    "- Limits of a single dish\n",
    "- From a dish to an interferometer \n",
    "- Single dish as an continuous interferometer\n",
    "\n",
    "## 4.1 The Baseline and its representations in space\n",
    "\n",
    "- The physical baseline (Physical - ENU)\n",
    "- The projected baseline ( (u,v,w) / equat. (X,Y,Z) )\n",
    "- Conversion from direct space to uv space\n",
    "- UV tracks (polar array, East-West array, ...)\n",
    "TO COMPLETE AND ARRANGE\n",
    "\n",
    "## 4.2 The 2-element Interferometer: a spatial filter\n",
    "\n",
    "- 1 baseline + 1 direction = 1 set of fringes = 1 spatial filter\n",
    "- Cos & Sin interferometers\n",
    "- The Complex interferometer (+conjugate property)\n",
    "\n",
    "## 4.3 The Visibility Function\n",
    "\n",
    "- Source coherency\n",
    "- (l,m,n) coordinate system (might move to 4.1)\n",
    "- Fringe + Sky\n",
    "- Fringe Visibility, Visibility function\n",
    "- Example of visibility functions (Amplitude/Phase)\n",
    "- Sampling the visibility function (link to Griffin's)\n",
    "\n",
    "## 4.4 UV Coverage:\n",
    "### 4.4.0 include here uvtracks instead of 4.1?\n",
    "### 4.4.1 The_N-element_Interferometer_and_UV_Coverage\n",
    "\n",
    "- Impact of array design (Redundant/Irregular) on UV coverage\n",
    "- Examples: WSRT, VLA (A,B,C...), LOFAR and their characteristic UV coverage\n",
    "\n",
    "## 4.4.2 Improving Your Coverage With Time and Frequency Integration\n",
    "\n",
    "- Time averaging: Earth Rotation Synthesis\n",
    "- Frequency averaging: Frequency Synthesis\n",
    "\n",
    "## 4.4.3 Limits of integration\n",
    "\n",
    "- Losing coherency\n",
    "- Time smearing (+ link to Oleg's)    \n",
    "- Frequency smearing (+ link to Oleg's) // to optical wideband Newton confusion + FoV\n",
    "\n",
    "## 4.5 The Fourier Approximation & Van Cittert-Zernike Theorem\n",
    "\n",
    "- Dropping the W-term (+ link to Griffin's)\n",
    "- Small field approx, narrow-bandwidth, regular/identical beam patterns (link to Oleg's)\n",
    "- Formulation of the theorem\n",
    "DEVELOP\n",
    "\n",
    "## 4.6 Further Reading And References\n",
    "\n",
    "## SIMULATIONS:\n",
    "\n",
    "### SIM A: UV Coverage\n",
    "\n",
    "Simulation for different (simple) arrays vs. observing time/direction\n",
    "\n",
    "### SIM B: Computing Visibilities Manually\n",
    "\n",
    "Given a set of baselines, compute the Sum_fov( fringe pattern x Sky ) \n",
    "\n"
   ]
  },
  {
   "cell_type": "markdown",
   "metadata": {
    "collapsed": true
   },
   "source": [
    "***"
   ]
  },
  {
   "cell_type": "markdown",
   "metadata": {
    "collapsed": true
   },
   "source": [
    "## Chapter 4. Introduction: Why Interferometry ?"
   ]
  },
  {
   "cell_type": "markdown",
   "metadata": {},
   "source": [
    "### 4.0.1 Limits of a single dish telescope \n",
    "\n",
    "List of (scientific) motivations:\n",
    "- more and more collecting area $-$ $A_\\text{eff} \\propto D^2$\n",
    "- thinner angular resolution $-$ $\\lambda / D$\n",
    "\n",
    "\n",
    "=> Larger and larger collecting size\n",
    "\n",
    "Limitations:\n",
    "- Mechanical limitations\n",
    "steerable dishes ($d\\leq 100m$) e.g. Green Bank (zapped), Effelsberg\n",
    "steered focus ($d\\sim 300m$) e.g. Arecibo, Nançay Radio Telescope\n",
    "\n",
    "- E.M. impacts of structure on the beam pattern (links to receivers section)\n",
    "\n",
    "Basic principle of interferometry\n"
   ]
  },
  {
   "cell_type": "markdown",
   "metadata": {},
   "source": [
    "<img src=\"images/before.jpeg\" width=\"30%\" height=\"30%\"/><img src=\"images/after.jpeg\" width=\"30%\" height=\"30%\"/><img src=\"images/zapped.jpeg\" width=\"30%\" height=\"30%\"/>\n"
   ]
  },
  {
   "cell_type": "code",
   "execution_count": null,
   "metadata": {
    "collapsed": true
   },
   "outputs": [],
   "source": []
  },
  {
   "cell_type": "markdown",
   "metadata": {},
   "source": [
    "### 4.0.2 From an optical parabolic dish to a radio interferometer\n",
    "\n",
    "(Inspired from Oleg's slides)\n",
    "* Optical telescope (one piece mirror)\n",
    "* (segmented mirrors)\n",
    "* conversion from optical received to radio receiver (electronic)\n",
    "* moving focus away from the dish (with cable)\n",
    "* moving pieces of collector on the ground\n",
    "* ...all pieces\n",
    "* Each piece can itself be a small \"manageable\" parabola\n",
    "\n",
    "While keeping the \"Parabola\" characteristic of the dish (playing with cable delays...)"
   ]
  },
  {
   "cell_type": "markdown",
   "metadata": {},
   "source": [
    "### 4.0.3 Parabola as a continuous interferometer (! might move after baseline subsection)\n",
    "(inspired from Rick Perley NRAO course)\n",
    "* Continuous distribution of baselines\n",
    "* Aperture auto-correlation: Wiener-Khinchin Theorem\n",
    "* Aperture synthesis => try to recreate an aperture with enhanced characteristics\n"
   ]
  },
  {
   "cell_type": "code",
   "execution_count": null,
   "metadata": {
    "collapsed": true
   },
   "outputs": [],
   "source": []
  }
 ],
 "metadata": {
  "kernelspec": {
   "display_name": "Python 2",
   "language": "python",
   "name": "python2"
  },
  "language_info": {
   "codemirror_mode": {
    "name": "ipython",
    "version": 2
   },
   "file_extension": ".py",
   "mimetype": "text/x-python",
   "name": "python",
   "nbconvert_exporter": "python",
   "pygments_lexer": "ipython2",
   "version": "2.7.6"
  }
 },
 "nbformat": 4,
 "nbformat_minor": 0
}
