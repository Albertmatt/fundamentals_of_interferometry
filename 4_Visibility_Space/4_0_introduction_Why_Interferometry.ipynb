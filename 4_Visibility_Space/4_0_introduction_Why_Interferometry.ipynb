{
 "cells": [
  {
   "cell_type": "markdown",
   "metadata": {},
   "source": [
    "***\n",
    "\n",
    "* [Outline](../0_Introduction/4_0_introduction.ipynb)\n",
    "* [Glossary](../0_Introduction/1_glossary.ipynb)\n",
    "* [4. The Visibility space](#)\n",
    "    * Previous Chapter: [3. Positional Astronomy](../3_Positional_Astronomy/3_0_introduction.ipynb)\n",
    "\n",
    "    * Next: [4.1 The Baseline and its representations in space](4_1_The_Baseline_and_its_representations_in_space.ipynb)\n",
    "\n",
    "***"
   ]
  },
  {
   "cell_type": "markdown",
   "metadata": {},
   "source": [
    "# Detailed plan of the chapter\n",
    "***\n",
    "\n",
    "## 4.0 Introduction: Why Interferometry ?\n",
    "\t- Limits of a single dish\n",
    "\t- From a dish to an interferometer \n",
    "\t- Single dish as an continuous interferometer\n",
    "\n",
    "## 4.1 The Baseline and its representations in space\n",
    "\t- The physical baseline (physical - ENU)\n",
    "\t- The projected baseline ( (u,v,w) / (X,Y,Z) )\n",
    "\n",
    "## 4.2 The 2-element Interferometer\n",
    "\t- 1 baseline + 1 direction = 1 set of fringes\n",
    "\t- 1 baseline + 1 direction = 1 spatial filter\n",
    "\t- Cos & Sin interferometers\n",
    "\t- The Complex interferometer\n",
    "\n",
    "## 4.3 The Visibility Function\n",
    "\t- Source coherency\n",
    "\t- Fringe Visibility, Visibility function\n",
    "\t- Example of visibility functions (Amplitude/Phase)\n",
    "\t- Sampling the visibility function (link to Griffin's)\n",
    "\n",
    "## 4.4 UV Coverage:\n",
    "\n",
    "### 4.4.1 The_N-element_Interferometer_and_UV_Coverage\n",
    "\t- Redundant/Irregular array and impact on UV coverage\n",
    "\t- Examples: WSRT, VLA (A,B,C...), LOFAR\n",
    "\n",
    "### 4.4.2 Improving Your Coverage With Time and Frequency Integration\n",
    "\t- Time averaging: Earth Rotation Synthesis\n",
    "\t- Frequency averaging: Frequency Synthesis\n",
    "\n",
    "### 4.4.3 Limits of integration\n",
    "\t- Losing coherency\n",
    "\t- Time smearing (+ link to Oleg's)\t\n",
    "\t- Frequency smearing (+ link to Oleg's) // to optical wideband Newton confusion + FoV\n",
    "\n",
    "## 4.5 The Fourier Approximation & Van Cittert-Zernike Theorem\n",
    "\t- Dropping the W-term (+ link to Griffin's)\n",
    "\t- Small field approx, narrow-bandwidth, regular/identical beam patterns (link to Oleg's)\n",
    "\t- Formulation of the theorem\n",
    "\n",
    "## 4.6 Further Reading And References\n",
    "\n",
    "***\n",
    "## SIMULATIONS:\n",
    "\n",
    "### SIM A: UV Coverage\n",
    "\tSimulation for different (simple) arrays vs. observing time/direction\n",
    "\n",
    "### SIM B: Computing Visibilities Manually\n",
    "\tGiven a set of baselines, compute the Sum_fov( fringe pattern x Sky ) "
   ]
  },
  {
   "cell_type": "markdown",
   "metadata": {
    "collapsed": true
   },
   "source": [
    "***"
   ]
  },
  {
   "cell_type": "markdown",
   "metadata": {
    "collapsed": true
   },
   "source": [
    "## Chapter 4. Introduction: Why Interferometry ?"
   ]
  },
  {
   "cell_type": "markdown",
   "metadata": {},
   "source": [
    "### 4.0.1 Limits of a single dish telescope \n",
    "\n",
    "List of (scientific) motivations:\n",
    "- more and more collecting area $-$ $A_\\text{eff} \\propto D^2$\n",
    "- thinner angular resolution $-$ $\\lambda / D$\n",
    "\n",
    "=> Larger and larger collecting size\n",
    "\n",
    "Limitations:\n",
    "- Mechanical limitations\n",
    "steerable dishes ($d\\leq 100m$) e.g. Green Bank (zapped), Effelsberg\n",
    "steered focus ($d\\sim 300m$) e.g. Arecibo, Nançay Radio Telescope\n",
    "\n",
    "- E.M. impacts of structure on the beam pattern (links to receivers section)\n",
    "\n",
    "Basic principle of interferometry\n"
   ]
  },
  {
   "cell_type": "markdown",
   "metadata": {},
   "source": [
    "<img src=\"images/before.jpeg\" width=\"30%\" height=\"30%\"/><img src=\"images/after.jpeg\" width=\"30%\" height=\"30%\"/>"
   ]
  },
  {
   "cell_type": "code",
   "execution_count": null,
   "metadata": {
    "collapsed": true
   },
   "outputs": [],
   "source": []
  },
  {
   "cell_type": "markdown",
   "metadata": {},
   "source": [
    "### 4.0.2 From an optical parabolic dish to a radio interferometer\n",
    "\n",
    "(Inspired from Oleg's slides)\n",
    "* Optical telescope (one piece mirror)\n",
    "* (segmented mirrors)\n",
    "* conversion from optical received to radio receiver (electronic)\n",
    "* moving focus away from the dish (with cable)\n",
    "* moving pieces of collector on the ground\n",
    "* ...all pieces\n",
    "* Each piece can itself be a small \"manageable\" parabola\n",
    "\n",
    "While keeping the \"Parabola\" characteristic of the dish (playing with cable delays...)"
   ]
  },
  {
   "cell_type": "markdown",
   "metadata": {},
   "source": [
    "### 4.0.3 Parabola as a continuous interferometer (! might move after baseline subsection)\n",
    "(inspired from Rick Perley NRAO course)\n",
    "* Continuous distribution of baselines\n",
    "* Wiener-Khintchine Theorem\n",
    "* Aperture synthesis => try to recreate an aperture with enhanced characteristics\n"
   ]
  },
  {
   "cell_type": "code",
   "execution_count": null,
   "metadata": {
    "collapsed": true
   },
   "outputs": [],
   "source": []
  }
 ],
 "metadata": {
  "kernelspec": {
   "display_name": "Python 2",
   "language": "python",
   "name": "python2"
  },
  "language_info": {
   "codemirror_mode": {
    "name": "ipython",
    "version": 2
   },
   "file_extension": ".py",
   "mimetype": "text/x-python",
   "name": "python",
   "nbconvert_exporter": "python",
   "pygments_lexer": "ipython2",
   "version": "2.7.6"
  }
 },
 "nbformat": 4,
 "nbformat_minor": 0
}
