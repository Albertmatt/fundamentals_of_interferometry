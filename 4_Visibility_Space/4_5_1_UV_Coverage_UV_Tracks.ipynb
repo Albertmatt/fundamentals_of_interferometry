{
 "cells": [
  {
   "cell_type": "markdown",
   "metadata": {},
   "source": [
    "***\n",
    "<a id='beginning'></a> <!--\\label{beginning}-->\n",
    "* [Outline](../0_Introduction/0_introduction.ipynb)\n",
    "* [Glossary](../0_Introduction/1_glossary.ipynb)\n",
    "* [4. The Visibility Space](4_0_introduction.ipynb)\n",
    "    * Previous: [4.3 The Visibility Function](4_3_The_Visibility_Function.ipynb)\n",
    "    * Next: [4.4.2 UV Coverage: Improving Your Coverage](4_4_2_UV_Coverage_Improving_Your_Coverage.ipynb)\n",
    "\n",
    "***"
   ]
  },
  {
   "cell_type": "markdown",
   "metadata": {},
   "source": [
    "Import standard modules:"
   ]
  },
  {
   "cell_type": "code",
   "execution_count": null,
   "metadata": {
    "collapsed": false
   },
   "outputs": [],
   "source": [
    "import numpy as np\n",
    "import matplotlib.pyplot as plt\n",
    "%matplotlib inline\n",
    "from IPython.display import HTML \n",
    "HTML('../style/course.css') #apply general CSS"
   ]
  },
  {
   "cell_type": "markdown",
   "metadata": {},
   "source": [
    "Import section specific modules:"
   ]
  },
  {
   "cell_type": "code",
   "execution_count": null,
   "metadata": {
    "collapsed": false
   },
   "outputs": [],
   "source": [
    "from mpl_toolkits.mplot3d import Axes3D\n",
    "import plotBL"
   ]
  },
  {
   "cell_type": "code",
   "execution_count": null,
   "metadata": {
    "collapsed": false
   },
   "outputs": [],
   "source": [
    "HTML('../style/code_toggle.html')"
   ]
  },
  {
   "cell_type": "markdown",
   "metadata": {},
   "source": [
    "# 4.4.1 UV coverage : UV tracks"
   ]
  },
  {
   "cell_type": "markdown",
   "metadata": {},
   "source": [
    "The objectives of [$\\S$ 4.4.1 &#10549;](4_4_1_UV_Coverage_UV_Tracks.ipynb) and [$\\S$ 4.4.2 &#10142;](4_4_2_UV_Coverage_Improving_Your_Coverage.ipynb) is to give you a glimpse into the process of accumulation of measurements. An interferometer measures components of the sky Fourier Transform through the sampling of the Visibility function $\\mathcal{V}$. This collection of samples lives in the ($u$, $v$, $w$) space and are often projected into a plane, the $uv$-plane.\n",
    "In [$\\S$ 4.4.1 &#10549;](4_4_1_UV_Coverage_UV_Tracks.ipynb), we will focus on the way the visibility function is sampled as a function of the interferometer configuration, the direction of the source and observation time.\n",
    "In [$\\S$ 4.4.2 &#10142;](4_4_2_UV_Coverage_Improving_Your_Coverage.ipynb), we will see how this sampling can be improved by specific observing techniques."
   ]
  },
  {
   "cell_type": "markdown",
   "metadata": {},
   "source": [
    "### 4.4.1.A The projected baseline with time: the UV track"
   ]
  },
  {
   "cell_type": "markdown",
   "metadata": {},
   "source": [
    "The combination of a baseline and a direction in the sky enable us to define a projected baseline, which is the baseline as seen from the source. This projected baseline is associated with the measurement of a spatial frequency of the source. As the Earth rotates, this projected baseline and the corresponding spatial frequency at coordinate ($u$, $v$) slowly vary in time, generating a path in the $uv$-plane.\n",
    "\n",
    "In the following we will generate test cases to see what are the shape of the path and how it can be predicted according to the baseline geometry."
   ]
  },
  {
   "cell_type": "markdown",
   "metadata": {},
   "source": [
    "##### Baseline projection as seen from the source"
   ]
  },
  {
   "cell_type": "markdown",
   "metadata": {},
   "source": [
    "Let's generate one baseline from two antennas Ant$_1$ and Ant$_2$."
   ]
  },
  {
   "cell_type": "code",
   "execution_count": null,
   "metadata": {
    "collapsed": false
   },
   "outputs": [],
   "source": [
    "ant1 = np.array([-500e3,500e3,0])   # in m\n",
    "ant2 = np.array([500e3,-500e3,+10]) # in m"
   ]
  },
  {
   "cell_type": "markdown",
   "metadata": {},
   "source": [
    "Let's express the corresponding physical baseline in ENU coordinates."
   ]
  },
  {
   "cell_type": "code",
   "execution_count": null,
   "metadata": {
    "collapsed": false
   },
   "outputs": [],
   "source": [
    "b_ENU = ant2-ant1                # baseline \n",
    "D = np.sqrt(np.sum((b_ENU)**2))  # |b|\n",
    "print str(D/1000)+\" km\""
   ]
  },
  {
   "cell_type": "markdown",
   "metadata": {
    "collapsed": true
   },
   "source": [
    "Let's place the interferometer at a latitude $L_a=+45^\\circ00'00''$."
   ]
  },
  {
   "cell_type": "code",
   "execution_count": null,
   "metadata": {
    "collapsed": true
   },
   "outputs": [],
   "source": [
    "L = (np.pi/180)*(45+0./60+0./3600)      # Latitude in radians"
   ]
  },
  {
   "cell_type": "code",
   "execution_count": null,
   "metadata": {
    "collapsed": false
   },
   "outputs": [],
   "source": [
    "A = np.arctan2(b_ENU[0],b_ENU[1])\n",
    "print \"Baseline Azimuth=\"+str(np.degrees(A))+\"°\"\n",
    "\n",
    "E = np.arcsin(b_ENU[2]/D)\n",
    "print \"Baseline Elevation=\"+str(np.degrees(E))+\"°\""
   ]
  },
  {
   "cell_type": "code",
   "execution_count": null,
   "metadata": {
    "collapsed": false
   },
   "outputs": [],
   "source": [
    "%matplotlib nbagg\n",
    "plotBL.sphere(ant1,ant2,A,E,D,L)"
   ]
  },
  {
   "cell_type": "markdown",
   "metadata": {},
   "source": [
    "**Figure 4.4.1**: A baseline located at +45$^\\circ$ as seen from the sky. This plot is interactive and can be rotated in 3D to see different baseline projection, depending on the position of the source w.r.t. the physical baseline."
   ]
  },
  {
   "cell_type": "markdown",
   "metadata": {},
   "source": [
    "On the previous interactive plot, we represented a baseline located at +45$^\\circ$, locally aligned with the south-west/north-east as seen from the celestial sphere. By rotating the sphere westward, you can simulate the variation of the baseline projection as seen from a source in apparent motion on the celestial sphere."
   ]
  },
  {
   "cell_type": "markdown",
   "metadata": {},
   "source": [
    "##### Coordinates of the baseline in the ($u$,$v$,$w$) plane"
   ]
  },
  {
   "cell_type": "markdown",
   "metadata": {},
   "source": [
    "We will now simulate an observation to study how a projected baseline will change with time. We located this baseline in South African latitude. We first need the expression of the physical baseline in a convenient reference frame attached with the source in the sky."
   ]
  },
  {
   "cell_type": "markdown",
   "metadata": {},
   "source": [
    "In [$\\S$ 4.1 &#10142;](4_1_The_Baseline.ipynb), we linked the equatorial coordinates of the baseline to the ($u$,$v$,$w$) space through the transformation matrix:\n",
    "\\begin{equation}\n",
    "\\begin{pmatrix}\n",
    "u\\\\\n",
    "v\\\\\n",
    "w\n",
    "\\end{pmatrix}\n",
    "=\n",
    "\\frac{1}{\\lambda}\n",
    "\\begin{pmatrix}\n",
    "\\sin H_0 & \\cos H_0 & 0\\\\ \n",
    "-\\sin \\delta_0 \\cos H_0 & \\sin\\delta_0\\sin H_0 & \\cos\\delta_0\\\\\n",
    "\\cos \\delta_0 \\cos H_0 & -\\cos\\delta_0\\sin H_0 & \\sin\\delta_0\\\\\n",
    "\\end{pmatrix} \n",
    "\\begin{pmatrix}\n",
    "X\\\\\n",
    "Y\\\\\n",
    "Z\n",
    "\\end{pmatrix}\n",
    "\\end{equation}"
   ]
  },
  {
   "cell_type": "markdown",
   "metadata": {},
   "source": [
    "<a id=\"eq:441\"></a>\n",
    "\\begin{equation}\n",
    "\\begin{bmatrix}\n",
    "X\\\\\n",
    "Y\\\\\n",
    "Z\n",
    "\\end{bmatrix}\n",
    "=|\\mathbf{b}|\n",
    "\\begin{bmatrix}\n",
    "\\cos L_a \\sin \\mathcal{E} - \\sin L_a \\cos \\mathcal{E} \\cos \\mathcal{A}\\nonumber\\\\ \n",
    "\\cos \\mathcal{E} \\sin \\mathcal{A} \\nonumber\\\\\n",
    "\\sin L_a \\sin \\mathcal{E} + \\cos L_a \\cos \\mathcal{E} \\cos \\mathcal{A}\\\\\n",
    "\\end{bmatrix}\n",
    "\\end{equation}\n"
   ]
  },
  {
   "cell_type": "markdown",
   "metadata": {
    "collapsed": true
   },
   "source": [
    "This expression of $\\mathcal{b}$ is a function of ($\\mathcal{A}$,$\\mathcal{E}$) in the equatorial ($X$,$Y$,$Z$) systems. "
   ]
  },
  {
   "cell_type": "markdown",
   "metadata": {
    "collapsed": true
   },
   "source": [
    "##### Observation parameters\n",
    "\n",
    "Let's define an arbitrary set of observation parameters to mimic an real observation.\n",
    "\n",
    "* Latitude of the baseline: $L_a=-30^\\circ43'17.34''$\n",
    "* Declination of the observation: $\\delta=-74^\\circ39'37.481''$\n",
    "* Duration of the observation: $\\Delta \\text{HA}=[-4^\\text{h},4^\\text{h}]$\n",
    "* Time steps: 600\n",
    "* Frequency: 1420 MHz"
   ]
  },
  {
   "cell_type": "code",
   "execution_count": null,
   "metadata": {
    "collapsed": false
   },
   "outputs": [],
   "source": [
    "# Observation parameters\n",
    "c = 3e8                                        # Speed of light\n",
    "f = 1420e9                                     # Frequency\n",
    "lam = c/f                                      # Wavelength \n",
    "dec = (np.pi/180)*(-30-43.0/60-17.34/3600)     # Declination\n",
    "\n",
    "time_steps = 600                               # time steps\n",
    "h = np.linspace(-4,4,num=time_steps)*np.pi/12  # Hour angle window"
   ]
  },
  {
   "cell_type": "markdown",
   "metadata": {
    "collapsed": true
   },
   "source": [
    "##### Computation of the projected baselines in ($u$,$v$,$w$) coordinates along time\n",
    "\n",
    "As seen previously, we convert the baseline coordinates using the previous matrix transformation."
   ]
  },
  {
   "cell_type": "code",
   "execution_count": null,
   "metadata": {
    "collapsed": false
   },
   "outputs": [],
   "source": [
    "ant1 = np.array([25.095,-9.095,0.045])\n",
    "ant2 = np.array([90.284,26.380,-0.226])\n",
    "b_ENU = ant2-ant1\n",
    "D = np.sqrt(np.sum((b_ENU)**2))\n",
    "L = (np.pi/180)*(-30-43.0/60-17.34/3600)\n",
    "\n",
    "A=np.arctan2(b_ENU[0],b_ENU[1])\n",
    "print \"Azimuth=\",A*(180/np.pi)\n",
    "E=np.arcsin(b_ENU[2]/D)\n",
    "print \"Elevation=\",E*(180/np.pi)\n",
    "\n",
    "X = D*(np.cos(L)*np.sin(E)-np.sin(L)*np.cos(E)*np.cos(A))\n",
    "Y = D*np.cos(E)*np.sin(A)\n",
    "Z = D*(np.sin(L)*np.sin(E)+np.cos(L)*np.cos(E)*np.cos(A))"
   ]
  },
  {
   "cell_type": "markdown",
   "metadata": {
    "collapsed": true
   },
   "source": [
    "As the $u$, $v$, $w$ coordinates depend explicitely on $H$, we must evaluate them for each time step of the observation. We will use the equations defined in [$\\S$ 4.1.2 &#10142;](4_1_The_Baseline.ipynb):"
   ]
  },
  {
   "cell_type": "markdown",
   "metadata": {
    "collapsed": true
   },
   "source": [
    "* $\\lambda u = X \\sin H + Y \\cos H$\n",
    "* $\\lambda v= -X \\sin \\delta \\cos H + Y \\sin\\delta\\sin H + Z \\cos\\delta$\n",
    "* $\\lambda w= X \\cos \\delta \\cos H -Y \\cos\\delta\\sin H + Z \\sin\\delta$"
   ]
  },
  {
   "cell_type": "code",
   "execution_count": null,
   "metadata": {
    "collapsed": false
   },
   "outputs": [],
   "source": [
    "u = lam**(-1)*(np.sin(h)*X+np.cos(h)*Y)/1e3\n",
    "v = lam**(-1)*(-np.sin(dec)*np.cos(h)*X+np.sin(dec)*np.sin(h)*Y+np.cos(dec)*Z)/1e3\n",
    "w = lam**(-1)*(np.cos(dec)*np.cos(h)*X-np.cos(dec)*np.sin(h)*Y+np.sin(dec)*Z)/1e3"
   ]
  },
  {
   "cell_type": "markdown",
   "metadata": {
    "collapsed": true
   },
   "source": [
    "We have now everything that describe the $uvw$-track of the baseline over an 8-hour observation period. Under this form, it is for the moment quite unclear which shape the $uvw$ track takes. Let's plot it on the $uvw$ space and its protection $uv$ space."
   ]
  },
  {
   "cell_type": "code",
   "execution_count": null,
   "metadata": {
    "collapsed": false
   },
   "outputs": [],
   "source": [
    "%matplotlib nbagg\n",
    "plotBL.UV(u,v,w)"
   ]
  },
  {
   "cell_type": "markdown",
   "metadata": {},
   "source": [
    "**Figure 4.4.2**: $uvw$ track derived from the simulation and projection in the $uv$-plane."
   ]
  },
  {
   "cell_type": "markdown",
   "metadata": {
    "collapsed": true
   },
   "source": [
    "The track in the $uvw$ space are curves and the projection in the $uv$ plane are arcs. Let's focus more on the projection of the track in this plane. To get an observation-independent knowledge of the track, we can try to combine the three equations of $u$, $v$ and $w$ with the objective of eliminating $H$ from the equation. We end up an equation linking $u$, $v$, $X$ and $Y$ (the full derivation can be found in [$\\S$ A.3 &#10142;](../0_Introduction/2_Appendix.ipynb)):\n",
    "\n",
    "$$\\boxed{u^2 + \\left[ \\frac{v -\\frac{Z}{\\lambda} \\cos \\delta}{\\sin \\delta} \\right]^2 = \\left[ \\frac{X}{\\lambda} \\right]^2 + \\left[ \\frac{Y}{\\lambda} \\right]^2}$$\n",
    "\n",
    "One can note that in this particular case, the $uv$ tracks is described by the equation of an ellipsis.\n",
    "\n",
    "This ellipsis is centered at $(0,\\frac{Z}{\\lambda} \\cos \\delta)$ in the ($u$,$v$) plane.\n",
    "\n",
    "The major axis of  $a=\\frac{\\sqrt{X^2 + Y^2}}{\\lambda}$.\n",
    "\n",
    "The minor axis along the axis $v$ will be a function of $Z$, $\\delta$ and $a$.\n",
    "To verify this fact, let's plot the theoretical ellipsis over the observed portion of the track. (You can fall back to the duration of the observation to see that the track is mapping exactly the ellipsis)."
   ]
  },
  {
   "cell_type": "code",
   "execution_count": null,
   "metadata": {
    "collapsed": false
   },
   "outputs": [],
   "source": [
    "%matplotlib inline\n",
    "from matplotlib.patches import Ellipse\n",
    "\n",
    "# parameters of the UVtrack as an ellipse\n",
    "a=np.sqrt(X**2+Y**2)/lam/1e3 # major axis  \n",
    "b=a*np.sin(dec)              # minor axis\n",
    "v0=Z/lam*np.cos(dec)/1e3     # center of ellipse\n",
    "\n",
    "plotBL.UVellipse(u,v,w,a,b,v0)"
   ]
  },
  {
   "cell_type": "markdown",
   "metadata": {},
   "source": [
    "**Figure 4.4.3**: The blue (resp. the red) curve is the $uv$ track of the baseline $\\mathbf{b}_{12}$ (resp. $\\mathbf{b}_{21}$). As $I_\\nu$ is real, the real part of the visibility $\\mathcal{V}$ is even and the imaginary part if odd making $\\mathcal{V}(-u,-v)=\\mathcal{V}^*$. It implies that one baseline provide a measurement of its complex conjugate for free at ($-u$,$-v$)."
   ]
  },
  {
   "cell_type": "markdown",
   "metadata": {},
   "source": [
    "### 4.4.1.B Special cases"
   ]
  },
  {
   "cell_type": "markdown",
   "metadata": {},
   "source": [
    "##### The Polar interferometer"
   ]
  },
  {
   "cell_type": "markdown",
   "metadata": {},
   "source": [
    "Let settle one baseline at the North pole. The local zenith corresponds to the North Celestial Pole at $\\delta=90^\\circ$. As seen from the NCP, the baseline will rotate and the projected baseline will correspond to the physical baseline. This is the only case where it is happening.\n",
    "\n",
    "If $\\mathbf{b}$ rotates, we can guess that the $uv$ tracks will be perfect circles. Let's verify that."
   ]
  },
  {
   "cell_type": "code",
   "execution_count": null,
   "metadata": {
    "collapsed": false
   },
   "outputs": [],
   "source": [
    "L=np.radians(90.)\n",
    "ant1 = np.array([25.095,-9.095,0.045])\n",
    "ant2 = np.array([90.284,26.380,-0.226])\n",
    "b_ENU = ant2-ant1\n",
    "D = np.sqrt(np.sum((b_ENU)**2))\n",
    "\n",
    "A=np.arctan2(b_ENU[0],b_ENU[1])\n",
    "print \"Azimuth=\",A*(180/np.pi)\n",
    "E=np.arcsin(b_ENU[2]/D)\n",
    "print \"Elevation=\",E*(180/np.pi)\n",
    "\n",
    "X = D*(np.cos(L)*np.sin(E)-np.sin(L)*np.cos(E)*np.cos(A))\n",
    "Y = D*np.cos(E)*np.sin(A)\n",
    "Z = D*(np.sin(L)*np.sin(E)+np.cos(L)*np.cos(E)*np.cos(A))"
   ]
  },
  {
   "cell_type": "markdown",
   "metadata": {},
   "source": [
    "Let's compute the $uv$ tracks when observing the NCP ($\\delta=90^\\circ$):"
   ]
  },
  {
   "cell_type": "code",
   "execution_count": null,
   "metadata": {
    "collapsed": false
   },
   "outputs": [],
   "source": [
    "dec=np.radians(90.)\n",
    "\n",
    "uNCP = lam**(-1)*(np.sin(h)*X+np.cos(h)*Y)/1e3\n",
    "vNCP = lam**(-1)*(-np.sin(dec)*np.cos(h)*X+np.sin(dec)*np.sin(h)*Y+np.cos(dec)*Z)/1e3\n",
    "wNCP = lam**(-1)*(np.cos(dec)*np.cos(h)*X-np.cos(dec)*np.sin(h)*Y+np.sin(dec)*Z)/1e3\n",
    "\n",
    "# parameters of the UVtrack as an ellipse\n",
    "aNCP=np.sqrt(X**2+Y**2)/lam/1e3 # major axis  \n",
    "bNCP=aNCP*np.sin(dec)              # minor axi\n",
    "v0NCP=Z/lam*np.cos(dec)/1e3     # center of ellipse"
   ]
  },
  {
   "cell_type": "markdown",
   "metadata": {},
   "source": [
    "Let's compute the uv tracks when observing a source at $\\delta=30^\\circ$:"
   ]
  },
  {
   "cell_type": "code",
   "execution_count": null,
   "metadata": {
    "collapsed": true
   },
   "outputs": [],
   "source": [
    "dec=np.radians(30.)\n",
    "\n",
    "u30 = lam**(-1)*(np.sin(h)*X+np.cos(h)*Y)/1e3\n",
    "v30 = lam**(-1)*(-np.sin(dec)*np.cos(h)*X+np.sin(dec)*np.sin(h)*Y+np.cos(dec)*Z)/1e3\n",
    "w30 = lam**(-1)*(np.cos(dec)*np.cos(h)*X-np.cos(dec)*np.sin(h)*Y+np.sin(dec)*Z)/1e3\n",
    "\n",
    "a30=np.sqrt(X**2+Y**2)/lam/1e3 # major axis  \n",
    "b30=a*np.sin(dec)              # minor axi\n",
    "v030=Z/lam*np.cos(dec)/1e3     # center of ellipse"
   ]
  },
  {
   "cell_type": "code",
   "execution_count": null,
   "metadata": {
    "collapsed": false
   },
   "outputs": [],
   "source": [
    "%matplotlib inline\n",
    "plotBL.UVellipse(u30,v30,w30,a30,b30,v030)\n",
    "plotBL.UVellipse(uNCP,vNCP,wNCP,aNCP,bNCP,v0NCP)"
   ]
  },
  {
   "cell_type": "markdown",
   "metadata": {},
   "source": [
    "**Figure 4.4.4**: $uv$ track for a baseline at the pole observing at $\\delta=90^\\circ$ (NCP) and at $\\delta=30^\\circ$ with the same color conventions as the previous figure."
   ]
  },
  {
   "cell_type": "markdown",
   "metadata": {},
   "source": [
    "When observing a source at declination $\\delta$, we still have an elliptical shape but centered at (0,0). In the case of a polar interferometer, the full $uv$ track can be covered in 12 hours only due to the symmetry of the baseline."
   ]
  },
  {
   "cell_type": "markdown",
   "metadata": {},
   "source": [
    "##### The Equatorial interferometer"
   ]
  },
  {
   "cell_type": "markdown",
   "metadata": {},
   "source": [
    "This time, we position the interferometer at the equator. The local zenith is crossed by the Celestial Equator at $\\delta=0^\\circ$. As seen from the celestial equator, the baseline will not rotate and the projected baseline will no longer correspond to the physical baseline. This is the only case where it is happening.\n",
    "\n",
    "If $\\mathbf{b}$ is not rotating, we can guess that the $uv$ tracks will be perfect lines."
   ]
  },
  {
   "cell_type": "code",
   "execution_count": null,
   "metadata": {
    "collapsed": true
   },
   "outputs": [],
   "source": [
    "L=np.radians(90.)\n",
    "X = D*(np.cos(L)*np.sin(E)-np.sin(L)*np.cos(E)*np.cos(A))\n",
    "Y = D*np.cos(E)*np.sin(A)\n",
    "Z = D*(np.sin(L)*np.sin(E)+np.cos(L)*np.cos(E)*np.cos(A))\n",
    "\n",
    "# At local zenith == Celestial Equator\n",
    "dec=np.radians(0.)\n",
    "\n",
    "uEQ = lam**(-1)*(np.sin(h)*X+np.cos(h)*Y)/1e3\n",
    "vEQ = lam**(-1)*(-np.sin(dec)*np.cos(h)*X+np.sin(dec)*np.sin(h)*Y+np.cos(dec)*Z)/1e3\n",
    "wEQ = lam**(-1)*(np.cos(dec)*np.cos(h)*X-np.cos(dec)*np.sin(h)*Y+np.sin(dec)*Z)/1e3\n",
    "\n",
    "# parameters of the UVtrack as an ellipse\n",
    "aEQ=np.sqrt(X**2+Y**2)/lam/1e3 # major axis  \n",
    "bEQ=aEQ*np.sin(dec)              # minor axi\n",
    "v0EQ=Z/lam*np.cos(dec)/1e3     # center of ellipse\n",
    "\n",
    "# Close to Zenith\n",
    "dec=np.radians(10.)\n",
    "\n",
    "u10 = lam**(-1)*(np.sin(h)*X+np.cos(h)*Y)/1e3\n",
    "v10 = lam**(-1)*(-np.sin(dec)*np.cos(h)*X+np.sin(dec)*np.sin(h)*Y+np.cos(dec)*Z)/1e3\n",
    "w10 = lam**(-1)*(np.cos(dec)*np.cos(h)*X-np.cos(dec)*np.sin(h)*Y+np.sin(dec)*Z)/1e3\n",
    "\n",
    "a10=np.sqrt(X**2+Y**2)/lam/1e3 # major axis  \n",
    "b10=a*np.sin(dec)              # minor axi\n",
    "v010=Z/lam*np.cos(dec)/1e3     # center of ellipse"
   ]
  },
  {
   "cell_type": "code",
   "execution_count": null,
   "metadata": {
    "collapsed": false
   },
   "outputs": [],
   "source": [
    "%matplotlib inline\n",
    "plotBL.UVellipse(u10,v10,w10,a10,b10,v010)\n",
    "plotBL.UVellipse(uEQ,vEQ,wEQ,aEQ,bEQ,v0EQ)"
   ]
  },
  {
   "cell_type": "markdown",
   "metadata": {},
   "source": [
    "**Figure 4.4.5**: $uv$ track for a baseline at the equator observing at $\\delta=0^\\circ$ and at $\\delta=10^\\circ$ with the same color convention as the previous figure."
   ]
  },
  {
   "cell_type": "markdown",
   "metadata": {},
   "source": [
    "An equatorial interferometer observing at zenith will see radio sources crossing the sky on straight line paths. Therefore, they will produce straight $uv$ coordinates."
   ]
  },
  {
   "cell_type": "markdown",
   "metadata": {},
   "source": [
    "##### The East-West array <a id='vis:sec:ew'></a> <!--\\label{vis:sec:ew}-->"
   ]
  },
  {
   "cell_type": "markdown",
   "metadata": {},
   "source": [
    "The East-West array is a specific case of interferometer where the physical baseline is aligned with the ground East-West direction. They provide the property of giving a $uv$ coverage fully included on a plane."
   ]
  },
  {
   "cell_type": "markdown",
   "metadata": {},
   "source": [
    "If the baseline is aligned with the East-West direction, then the Elevation $\\mathcal{E}$ of the baseline is zero and the Azimuth $\\mathcal{A}$ is $\\frac{\\pi}{2}$. Equation [1](#eq:441) then simplifies as follow:"
   ]
  },
  {
   "cell_type": "markdown",
   "metadata": {},
   "source": [
    "Only the $Y$ component of the baseline will be non zero."
   ]
  },
  {
   "cell_type": "markdown",
   "metadata": {},
   "source": [
    "\\begin{equation}\n",
    "\\frac{1}{\\lambda}\n",
    "\\begin{bmatrix}\n",
    "X\\\\\n",
    "Y\\\\\n",
    "Z\n",
    "\\end{bmatrix}\n",
    "=\n",
    "|\\mathbf{b_\\lambda}|\n",
    "\\begin{bmatrix}\n",
    "\\cos L_a \\sin 0 - \\sin L_a \\cos 0 \\cos \\frac{\\pi}{2}\\nonumber\\\\ \n",
    "\\cos 0 \\sin \\frac{\\pi}{2} \\nonumber\\\\\n",
    "\\sin L_a \\sin 0 + \\cos L_a \\cos 0 \\cos \\frac{\\pi}{2}\\\\\n",
    "\\end{bmatrix}\n",
    "=\n",
    "\\begin{bmatrix}\n",
    "0\\\\\n",
    "|\\mathbf{b_\\lambda}|\\\\\n",
    "0 \\\\\n",
    "\\end{bmatrix}\n",
    "\\end{equation}"
   ]
  },
  {
   "cell_type": "markdown",
   "metadata": {},
   "source": [
    "If we observe a source at declination $\\delta_0$ but with varying Hour Angle, $H$, we will have the following relation:\n",
    "\n",
    "\\begin{equation}\n",
    "\\begin{pmatrix}\n",
    "u\\\\\n",
    "v\\\\\n",
    "w\\\\\n",
    "\\end{pmatrix}\n",
    "=\n",
    "\\begin{pmatrix}\n",
    "\\sin H & \\cos H & 0\\\\ \n",
    "-\\sin \\delta_0 \\cos H & \\sin\\delta_0\\sin H & \\cos\\delta_0\\\\\n",
    "\\cos \\delta_0 \\cos H & -\\cos\\delta_0\\sin H & \\sin\\delta_0\\\\\n",
    "\\end{pmatrix} \n",
    "\\begin{pmatrix}\n",
    "0\\\\\n",
    "|\\mathbf{b_\\lambda}| \\\\\n",
    "0\n",
    "\\end{pmatrix}\n",
    "\\end{equation}\n",
    "\n",
    "\\begin{equation}\n",
    "\\begin{pmatrix}\n",
    "u\\\\\n",
    "v\\\\\n",
    "w\\\\\n",
    "\\end{pmatrix}\n",
    "=\n",
    "\\begin{pmatrix}\n",
    "|\\mathbf{b_\\lambda}| \\cos H \\\\ \n",
    "|\\mathbf{b_\\lambda}| \\sin\\delta_0 \\sin H\\\\\n",
    "-|\\mathbf{b_\\lambda}|\\cos\\delta_0\\sin H\\\\\n",
    "\\end{pmatrix} \n",
    "\\end{equation}\n",
    "\n",
    "when $H = 6^\\text{h}$ (West)\n",
    "\n",
    "\\begin{equation}\n",
    "\\begin{pmatrix}\n",
    "u\\\\\n",
    "v\\\\\n",
    "w\\\\\n",
    "\\end{pmatrix}\n",
    "=\n",
    "\\begin{pmatrix}\n",
    "0 \\\\ \n",
    "|\\mathbf{b_\\lambda}|\\sin\\delta_0\\\\\n",
    "|\\mathbf{b_\\lambda}|\\cos\\delta_0\\\\\n",
    "\\end{pmatrix} \n",
    "\\end{equation}\n",
    "\n",
    "when $H = 0^\\text{h}$ (South)\n",
    "\\begin{equation}\n",
    "\\begin{pmatrix}\n",
    "u\\\\\n",
    "v\\\\\n",
    "w\\\\\n",
    "\\end{pmatrix}\n",
    "=\n",
    "\\begin{pmatrix}\n",
    "|\\mathbf{b_\\lambda}| \\\\ \n",
    "0\\\\\n",
    "0\\\\\n",
    "\\end{pmatrix} \n",
    "\\end{equation}\n",
    "\n",
    "when $H = -6^\\text{h}$ (East)\n",
    "\n",
    "\\begin{equation}\n",
    "\\begin{pmatrix}\n",
    "u\\\\\n",
    "v\\\\\n",
    "w\\\\\n",
    "\\end{pmatrix}\n",
    "=\n",
    "\\begin{pmatrix}\n",
    "0 \\\\ \n",
    "-|\\mathbf{b_\\lambda}|\\sin\\delta_0\\\\\n",
    "-|\\mathbf{b_\\lambda}|\\cos\\delta_0\n",
    "\\end{pmatrix} \n",
    "\\end{equation}"
   ]
  },
  {
   "cell_type": "markdown",
   "metadata": {},
   "source": [
    "In this case, one can notice that we always have a relationship between $u$, $v$ and $|\\mathbf{b_\\lambda}|$:\n",
    "\n",
    "$$ u^2+\\left( \\frac{v}{\\sin\\delta_0}\\right) ^2=|\\mathbf{b_\\lambda}|^2$$ "
   ]
  },
  {
   "cell_type": "markdown",
   "metadata": {},
   "source": [
    "<div class=warn>\n",
    "<b>Warning:</b> The $\\sin\\delta_0$ factor, appearing in the previous equation, can be interpreted as a compression factor.\n",
    "</div>"
   ]
  },
  {
   "cell_type": "markdown",
   "metadata": {},
   "source": [
    "### 4.4.1.C Sampling the visibility plane with UV tracks"
   ]
  },
  {
   "cell_type": "markdown",
   "metadata": {},
   "source": [
    "##### Simulating a baseline"
   ]
  },
  {
   "cell_type": "markdown",
   "metadata": {},
   "source": [
    "When we have an EW baseline, some equations simplify.\n",
    "\n",
    "First, $XYZ = [0~d~0]^T$, where $d$ is the baseline length measured in wavelengths.\n",
    "\n",
    "Second, we have the following relationships: $u = d\\cos(H)$, $v = d\\sin(H)\\sin(\\delta)$,\n",
    "\n",
    "where $H$ is the hour angle of the field center and $\\delta$ its declination.\n",
    "\n",
    "In this section we will be plotting the $uv$-coverage of an EW-baseline whose field center is at two different declinations."
   ]
  },
  {
   "cell_type": "code",
   "execution_count": null,
   "metadata": {
    "collapsed": true
   },
   "outputs": [],
   "source": [
    "H = np.linspace(-6,6,600)*(np.pi/12) #Hour angle in radians\n",
    "d = 100 #We assume that we have already divided by wavelength\n",
    "\n",
    "delta = 60*(np.pi/180) #Declination in degrees\n",
    "u_60 = d*np.cos(H)\n",
    "v_60 = d*np.sin(H)*np.sin(delta)"
   ]
  },
  {
   "cell_type": "markdown",
   "metadata": {},
   "source": [
    "##### Simulating a sky"
   ]
  },
  {
   "cell_type": "markdown",
   "metadata": {},
   "source": [
    "Here we have a three sources given in RA ($\\alpha$) and DEC ($\\delta$):\n",
    "* Source 1: (5h 32m 0.4s,60$^{\\circ}$-17' 57'') - 1 Jy\n",
    "* Source 2: (5h 36m 12.8s,-61$^{\\circ}$ 12' 6.9'') - 0.5 Jy\n",
    "* Source 3: (5h 40m 45.5s,-61$^{\\circ}$ 56' 34'') - 0.2 Jy\n",
    "\n",
    "We place the field center at $(\\alpha_0,\\delta_0) = $ (5h 30m,60$^{\\circ}$).  "
   ]
  },
  {
   "cell_type": "code",
   "execution_count": null,
   "metadata": {
    "collapsed": false
   },
   "outputs": [],
   "source": [
    "RA_sources = np.array([5+30.0/60,5+32.0/60+0.4/3600,5+36.0/60+12.8/3600,5+40.0/60+45.5/3600])\n",
    "DEC_sources = np.array([60,60+17.0/60+57.0/3600,61+12.0/60+6.9/3600,61+56.0/60+34.0/3600])\n",
    "Flux_sources_labels = np.array([\"\",\"1 Jy\",\"0.5 Jy\",\"0.2 Jy\"])\n",
    "Flux_sources = np.array([1,0.5,0.1]) #in Jy\n",
    "step_size = 200\n",
    "print \"Phase center     Source 1     Source 2     Source3\"\n",
    "print repr(\"RA=\"+str(RA_sources)).ljust(2)\n",
    "print \"DEC=\"+str(DEC_sources)"
   ]
  },
  {
   "cell_type": "markdown",
   "metadata": {},
   "source": [
    "We then convert the ($\\alpha$,$\\delta$) to $l,m$ with\n",
    "* $l = \\cos \\delta \\sin \\Delta \\alpha$\n",
    "* $m = \\sin \\delta\\cos\\delta_0 -\\cos \\delta\\sin\\delta_0\\cos\\Delta \\alpha$\n",
    "* $\\Delta \\alpha = \\alpha - \\alpha_0$"
   ]
  },
  {
   "cell_type": "code",
   "execution_count": null,
   "metadata": {
    "collapsed": false
   },
   "outputs": [],
   "source": [
    "RA_rad = np.array(RA_sources)*(np.pi/12)\n",
    "DEC_rad = np.array(DEC_sources)*(np.pi/180)\n",
    "RA_delta_rad = RA_rad-RA_rad[0]\n",
    "\n",
    "l = np.cos(DEC_rad)*np.sin(RA_delta_rad)\n",
    "m = (np.sin(DEC_rad)*np.cos(DEC_rad[0])-np.cos(DEC_rad)*np.sin(DEC_rad[0])*np.cos(RA_delta_rad))\n",
    "print \"l=\",l*(180/np.pi)\n",
    "print \"m=\",m*(180/np.pi)\n",
    "\n",
    "point_sources = np.zeros((len(RA_sources)-1,3))\n",
    "point_sources[:,0] = Flux_sources\n",
    "point_sources[:,1] = l[1:]\n",
    "point_sources[:,2] = m[1:]"
   ]
  },
  {
   "cell_type": "markdown",
   "metadata": {},
   "source": [
    "The coordinates of the sources and the phase center are now in degrees."
   ]
  },
  {
   "cell_type": "code",
   "execution_count": null,
   "metadata": {
    "collapsed": false
   },
   "outputs": [],
   "source": [
    "%matplotlib inline\n",
    "fig = plt.figure(figsize=(10,10))\n",
    "ax = fig.add_subplot(111)\n",
    "plt.xlim([-4,4])\n",
    "plt.ylim([-4,4])\n",
    "plt.xlabel(\"$l$ [degrees]\")\n",
    "plt.ylabel(\"$m$ [degrees]\")\n",
    "plt.plot(l[0],m[0],\"bx\")\n",
    "plt.hold(\"on\")\n",
    "plt.plot(l[1:]*(180/np.pi),m[1:]*(180/np.pi),\"ro\") \n",
    "counter = 1\n",
    "for xy in zip(l[1:]*(180/np.pi)+0.25, m[1:]*(180/np.pi)+0.25):                                              \n",
    "    ax.annotate(Flux_sources_labels[counter], xy=xy, textcoords='offset points',horizontalalignment='right',\n",
    "                verticalalignment='bottom')  \n",
    "    counter = counter + 1\n",
    "        \n",
    "plt.grid()"
   ]
  },
  {
   "cell_type": "markdown",
   "metadata": {},
   "source": [
    "**Figure 4.4.6**: Distribution of the simulated sky in the $l$,$m$ plane."
   ]
  },
  {
   "cell_type": "markdown",
   "metadata": {},
   "source": [
    "##### Simulating an observation"
   ]
  },
  {
   "cell_type": "markdown",
   "metadata": {},
   "source": [
    "We will now be creating a completely filled in $uv$-plane and sample it on the EW-baseline track we created in the first section. We will be ignoring the $w$-term for the sake of simplicity."
   ]
  },
  {
   "cell_type": "code",
   "execution_count": null,
   "metadata": {
    "collapsed": false
   },
   "outputs": [],
   "source": [
    "u = np.linspace(-1*(np.amax(np.abs(u_60)))-10, np.amax(np.abs(u_60))+10, num=step_size, endpoint=True)\n",
    "v = np.linspace(-1*(np.amax(abs(v_60)))-10, np.amax(abs(v_60))+10, num=step_size, endpoint=True)   \n",
    "uu, vv = np.meshgrid(u, v)\n",
    "zz = np.zeros(uu.shape).astype(complex)"
   ]
  },
  {
   "cell_type": "markdown",
   "metadata": {},
   "source": [
    "We create the dimensions of our visibility plane."
   ]
  },
  {
   "cell_type": "code",
   "execution_count": null,
   "metadata": {
    "collapsed": true
   },
   "outputs": [],
   "source": [
    "s = point_sources.shape\n",
    "for counter in xrange(1, s[0]+1):\n",
    "    A_i = point_sources[counter-1,0]\n",
    "    l_i = point_sources[counter-1,1]\n",
    "    m_i = point_sources[counter-1,2]\n",
    "    zz += A_i*np.exp(-2*np.pi*1j*(uu*l_i+vv*m_i))\n",
    "zz = zz[:,::-1]"
   ]
  },
  {
   "cell_type": "markdown",
   "metadata": {},
   "source": [
    "We create our completely filled in visibitly plane. If we had a perfect interferometer we could sample the entire $uv$-plane, but due to the fact that we only have a finite amount of antennas this is not possible. Recall that our sky brightness $I(l,m)$ is related to to our visibilites $V(u,v)$ via the Fourier transform. For a bunch of point sources we can therefore write:\n",
    "\n",
    "$$V(u,v)=\\mathcal{F}\\{I(l,m)\\} = \\mathcal{F}\\{\\sum_k A_k \\delta(l-l_k,m-m_k)\\} = \\sum_k A_k e^{-2\\pi i (ul_i+vm_i)}$$\n",
    "\n",
    "Let's compute the total visibilities for all sources."
   ]
  },
  {
   "cell_type": "code",
   "execution_count": null,
   "metadata": {
    "collapsed": true
   },
   "outputs": [],
   "source": [
    "u_track = u_60\n",
    "v_track = v_60\n",
    "z = np.zeros(u_track.shape).astype(complex)       \n",
    "\n",
    "s = point_sources.shape\n",
    "for counter in xrange(1, s[0]+1):\n",
    "    A_i = point_sources[counter-1,0]\n",
    "    l_i = point_sources[counter-1,1]\n",
    "    m_i = point_sources[counter-1,2]\n",
    "    z += A_i*np.exp(-1*2*np.pi*1j*(u_track*l_i+v_track*m_i))"
   ]
  },
  {
   "cell_type": "markdown",
   "metadata": {},
   "source": [
    "Below we sample our visibility plane on the $uv$-track derived in the first section, i.e. $V(u_t,v_t)$."
   ]
  },
  {
   "cell_type": "code",
   "execution_count": null,
   "metadata": {
    "collapsed": false
   },
   "outputs": [],
   "source": [
    "plt.subplot(121)\n",
    "plt.imshow(zz.real,extent=[-1*(np.amax(np.abs(u_60)))-10, np.amax(np.abs(u_60))+10,-1*(np.amax(abs(v_60)))-10, \\\n",
    "                           np.amax(abs(v_60))+10])\n",
    "plt.plot(u_60,v_60,\"k\")\n",
    "plt.xlim([-1*(np.amax(np.abs(u_60)))-10, np.amax(np.abs(u_60))+10])\n",
    "plt.ylim(-1*(np.amax(abs(v_60)))-10, np.amax(abs(v_60))+10)\n",
    "plt.xlabel(\"u\")\n",
    "plt.ylabel(\"v\")\n",
    "plt.title(\"Real part of visibilities\")\n",
    "\n",
    "plt.subplot(122)\n",
    "plt.imshow(zz.imag,extent=[-1*(np.amax(np.abs(u_60)))-10, np.amax(np.abs(u_60))+10,-1*(np.amax(abs(v_60)))-10, \\\n",
    "                           np.amax(abs(v_60))+10])\n",
    "plt.plot(u_60,v_60,\"k\")\n",
    "plt.xlim([-1*(np.amax(np.abs(u_60)))-10, np.amax(np.abs(u_60))+10])\n",
    "plt.ylim(-1*(np.amax(abs(v_60)))-10, np.amax(abs(v_60))+10)\n",
    "plt.xlabel(\"u\")\n",
    "plt.ylabel(\"v\")\n",
    "plt.title(\"Imaginary part of visibilities\")"
   ]
  },
  {
   "cell_type": "markdown",
   "metadata": {},
   "source": [
    "**Figure 4.4.7**: Real and imaginary part of the visibility function. The black curve is the portion of the $uv$ track crossing the visibility."
   ]
  },
  {
   "cell_type": "markdown",
   "metadata": {},
   "source": [
    "We now plot the sampled visibilites as a function of time-slots, i.e $V(u_t(t_s),v_t(t_s))$."
   ]
  },
  {
   "cell_type": "code",
   "execution_count": null,
   "metadata": {
    "collapsed": false
   },
   "outputs": [],
   "source": [
    "plt.subplot(121)\n",
    "plt.plot(z.real)\n",
    "plt.xlabel(\"Timeslots\")\n",
    "plt.ylabel(\"Jy\")\n",
    "plt.title(\"Real: sampled visibilities\")\n",
    "\n",
    "plt.subplot(122)\n",
    "plt.plot(z.imag)\n",
    "plt.xlabel(\"Timeslots\")\n",
    "plt.ylabel(\"Jy\")\n",
    "plt.title(\"Imag: sampled visibilities\")"
   ]
  },
  {
   "cell_type": "markdown",
   "metadata": {},
   "source": [
    "**Figure 4.4.8**: Real and imaginary part of the sampled visibility (by the black curve in Fig. 4.4.7) as a function of time."
   ]
  },
  {
   "cell_type": "code",
   "execution_count": null,
   "metadata": {
    "collapsed": false
   },
   "outputs": [],
   "source": [
    "plt.subplot(121)\n",
    "plt.imshow(abs(zz),\n",
    "    extent=[-1*(np.amax(np.abs(u_60)))-10,\n",
    "            np.amax(np.abs(u_60))+10,\n",
    "            -1*(np.amax(abs(v_60)))-10,\n",
    "            np.amax(abs(v_60))+10])\n",
    "plt.plot(u_60,v_60,\"k\")\n",
    "plt.xlim([-1*(np.amax(np.abs(u_60)))-10, np.amax(np.abs(u_60))+10])\n",
    "plt.ylim(-1*(np.amax(abs(v_60)))-10, np.amax(abs(v_60))+10)\n",
    "plt.xlabel(\"u\")\n",
    "plt.ylabel(\"v\")\n",
    "plt.title(\"Amplitude of visibilities\")\n",
    "\n",
    "plt.subplot(122)\n",
    "plt.imshow(np.angle(zz),\n",
    "    extent=[-1*(np.amax(np.abs(u_60)))-10,\n",
    "            np.amax(np.abs(u_60))+10,\n",
    "            -1*(np.amax(abs(v_60)))-10,\n",
    "            np.amax(abs(v_60))+10])\n",
    "plt.plot(u_60,v_60,\"k\")\n",
    "plt.xlim([-1*(np.amax(np.abs(u_60)))-10, np.amax(np.abs(u_60))+10])\n",
    "plt.ylim(-1*(np.amax(abs(v_60)))-10, np.amax(abs(v_60))+10)\n",
    "plt.xlabel(\"u\")\n",
    "plt.ylabel(\"v\")\n",
    "plt.title(\"Phase of visibilities\")"
   ]
  },
  {
   "cell_type": "markdown",
   "metadata": {},
   "source": [
    "**Figure 4.4.9**: Amplitude and Phase of the visibility function. The black curve is the portion of the $uv$ track crossing the visibility."
   ]
  },
  {
   "cell_type": "code",
   "execution_count": null,
   "metadata": {
    "collapsed": false
   },
   "outputs": [],
   "source": [
    "plt.subplot(121)\n",
    "plt.plot(abs(z))\n",
    "plt.xlabel(\"Timeslots\")\n",
    "plt.ylabel(\"Jy\")\n",
    "plt.title(\"Abs: sampled visibilities\")\n",
    "\n",
    "plt.subplot(122)\n",
    "plt.plot(np.angle(z))\n",
    "plt.xlabel(\"Timeslots\")\n",
    "plt.ylabel(\"Jy\")\n",
    "plt.title(\"Phase: sampled visibilities\")"
   ]
  },
  {
   "cell_type": "markdown",
   "metadata": {},
   "source": [
    "**Figure 4.4.10**: Amplitude and Phase of the sampled visibility (by the black curve in Fig. 4.4.7) as a function of time."
   ]
  },
  {
   "cell_type": "markdown",
   "metadata": {
    "collapsed": true
   },
   "source": [
    "##### \"Real-life\" visibility"
   ]
  },
  {
   "cell_type": "markdown",
   "metadata": {
    "collapsed": true
   },
   "source": [
    "In the following figure, we present a collection of visibility measurements taken with different baselines, as a function of time. These measurements come from a real LOFAR dataset observing Cygnus A (Fig. [4.4.11 &#10549;](#fig:4411)), a powerful radiosource.\n",
    "Each color corresponds to a different baseline measurement, and consequently, a different sampling of the same visibility function along different uv-track."
   ]
  },
  {
   "cell_type": "markdown",
   "metadata": {
    "collapsed": true
   },
   "source": [
    "<a id=\"fig:4411\"></a>\n",
    "<img src='figures/cygnusA.jpg' width=30%>"
   ]
  },
  {
   "cell_type": "markdown",
   "metadata": {},
   "source": [
    "**Figure 4.4.11**: The source Cygnus A at 21 cm."
   ]
  },
  {
   "cell_type": "markdown",
   "metadata": {
    "collapsed": true
   },
   "source": [
    "<a id=\"fig:4412\"></a>\n",
    "<img src='figures/baselines.jpg' width=70%>"
   ]
  },
  {
   "cell_type": "markdown",
   "metadata": {},
   "source": [
    "**Figure 4.4.12**: Visibility amplitude as a function of time."
   ]
  },
  {
   "cell_type": "markdown",
   "metadata": {},
   "source": [
    "Fig. [4.4.12 &#10549;](#fig:4412) displays the collection of all sampled visibility amplitudes as a function of time from the observation of Cygnus A. The large number of antennas make the interpretation of the plots difficult. Even the inspection of single $uv$ track visibility amplitude is hard to comprehend due to the intrinsic complexity of the source. Let's plot the same information as a function of the $uv$-distance $r_{uv}$."
   ]
  },
  {
   "cell_type": "markdown",
   "metadata": {
    "collapsed": true
   },
   "source": [
    "<a id=\"fig:4413\"></a>\n",
    "<img src='figures/baseline-uvdist.jpg' width=70%>"
   ]
  },
  {
   "cell_type": "markdown",
   "metadata": {},
   "source": [
    "**Figure 4.4.13**: Visibility amplitude as a function of $r_{uv}$."
   ]
  },
  {
   "cell_type": "markdown",
   "metadata": {},
   "source": [
    "Fig. [4.4.13 &#10549;](#fig:4413) display the same information as Fig. [4.4.12 &#10549;](#fig:4412) but as a function of $r_{uv}$. Under this form, it should be quite clear that, as in [$\\S$ 4.3 &#10142;](4_3_The_Visibility_Function.ipynb), we have a stacking of the radial plots of the visibility function. The interpretation of those radial plots inform us about the shape of the source. In particular, when the amplitude of the visibility goes to zero, one characteristic size of the source has been resolved."
   ]
  },
  {
   "cell_type": "markdown",
   "metadata": {},
   "source": [
    "From these plots, it is clear that the larger number of different baselines we have, the more complete is the sampling of the visibility function.\n",
    "How to enrich the $uv$ coverage is the topic of the next section."
   ]
  },
  {
   "cell_type": "markdown",
   "metadata": {
    "collapsed": true
   },
   "source": [
    "<p class=conclusion>\n",
    "  <font size=4><b>Important things to remember</b></font>\n",
    "  <br>\n",
    "  <br>\n",
    "\n",
    "&bull; One baseline samples the visibility function along one $uv$ track.<br>\n",
    "&bull; The $uv$ tracks are ellipses which parameters depends on the latitude, declination of observation.<br>\n",
    "&bull; The polar (resp. equatorial) interferometer gives circular (linear) $uv$ tracks.<br>\n",
    "&bull; The accumulation of samples accross time enhance the sampling of the visibility function, and therefore improves the knowledge of the source.<br>\n",
    "\n",
    "</p>"
   ]
  },
  {
   "cell_type": "markdown",
   "metadata": {
    "collapsed": true
   },
   "source": [
    "***\n",
    "\n",
    "* Next: [4.4.2 UV Coverage: Improving Your Coverage](4_4_2_UV_Coverage_Improving_Your_Coverage.ipynb)"
   ]
  },
  {
   "cell_type": "markdown",
   "metadata": {},
   "source": [
    "<div class=warn><b>Future Additions:</b></div>"
   ]
  }
 ],
 "metadata": {
  "kernelspec": {
   "display_name": "Python 2",
   "language": "python",
   "name": "python2"
  },
  "language_info": {
   "codemirror_mode": {
    "name": "ipython",
    "version": 2
   },
   "file_extension": ".py",
   "mimetype": "text/x-python",
   "name": "python",
   "nbconvert_exporter": "python",
   "pygments_lexer": "ipython2",
   "version": "2.7.6"
  }
 },
 "nbformat": 4,
 "nbformat_minor": 0
}
