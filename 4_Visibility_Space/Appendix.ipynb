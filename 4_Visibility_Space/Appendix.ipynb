{
 "cells": [
  {
   "cell_type": "markdown",
   "metadata": {},
   "source": [
    "# Appendix\n",
    "## A.1. Derivation of Eq. x from ENU ($A$,$E$) to equatorial XYZ ($H$,$\\delta$)"
   ]
  },
  {
   "cell_type": "code",
   "execution_count": 17,
   "metadata": {
    "collapsed": false
   },
   "outputs": [
    {
     "data": {
      "text/html": [
       "<style>\n",
       "\n",
       "p.prerequisites {\n",
       "    border:5px;\n",
       "    border-style:none;\n",
       "    background-color:#F0F0F0;\n",
       "    box-shadow: 5px 5px 2px #888888;\n",
       "    border-color:#FF0000;\n",
       "    padding: 1em;\n",
       "}\n",
       "\n",
       "p.conclusion {\n",
       "    border:5px;\n",
       "    border-style:none;\n",
       "    background-color:#c8ebca;\n",
       "    box-shadow: 5px 5px 2px #888888;\n",
       "    border-color:#c8ebca;\n",
       "    padding: 1em;\n",
       "}\n",
       "\n",
       "div.warn {    \n",
       "    background-color: #fcf2f2;\n",
       "    border-color: #dFb5b4;\n",
       "    border-left: 5px solid #dfb5b4;\n",
       "    padding: 0.5em;\n",
       "    }\n",
       "\n",
       "div.advice {    \n",
       "    background-color: #ecf8ed;\n",
       "    border-color: #a2dda5;\n",
       "    border-left: 5px solid #a2dda5;\n",
       "    padding: 0.5em;\n",
       "    }\n",
       " </style>\n",
       "\n",
       "\n"
      ],
      "text/plain": [
       "<IPython.core.display.HTML object>"
      ]
     },
     "execution_count": 17,
     "metadata": {},
     "output_type": "execute_result"
    }
   ],
   "source": [
    "from IPython.core.display import HTML\n",
    "styles = open(\"../style/course.css\", \"r\").read()\n",
    "HTML(styles)"
   ]
  },
  {
   "cell_type": "markdown",
   "metadata": {},
   "source": [
    "We have seen in Chapter 3.A (INREF), three main spherical trigonometry relationships between angles and arcs in a spherical triangle. Applying each of these equation, we will derive the equation A [INREF] in Section 4.1.x [INREF].\n",
    "\n",
    "Let's start from Figure 1, established in Section 4.1.x [INREF]. We will consider the following spherical triangle **STZ** (as in Figure A1 right).\n",
    "From Ch. 3.A, we have the following relationships:\n",
    "\n",
    "* The *spherical cosine rule* (Rule i): $\\quad \\quad \\cos b = \\cos a \\cos c + \\sin a \\sin c \\cos \\hat{B}$\n",
    "* The *spherical sine rule* (Rule ii): $\\quad \\quad \\; \\; \\: \\sin b \\sin \\hat{A} = \\sin \\hat{B} \\sin a$\n",
    "* The *five part rule* (Rule iii): $\\qquad \\quad \\quad \\; \\;\\sin b \\cos \\hat{A} = \\cos a \\sin c - \\sin a\\cos c\\cos \\hat{B}$"
   ]
  },
  {
   "cell_type": "markdown",
   "metadata": {},
   "source": [
    "<div class=advice>\n",
    "**Note:** Similar relations can be derived under circular permutation between the angles and the arcs.\n",
    "</div>"
   ]
  },
  {
   "cell_type": "markdown",
   "metadata": {},
   "source": [
    "<img src='figures/triangle_xyz_XYZ_2_comp.png' width=70%>"
   ]
  },
  {
   "cell_type": "markdown",
   "metadata": {
    "collapsed": true
   },
   "source": [
    "<div align=\"center\">**Figure A1**: Spherical triangle STZ <br>\n",
    "(left) Recall from Fig. N<br>\n",
    "(right) Close-up view to the spherical triangle STZ.<br>\n",
    "The notations in red refer to the rule i), ii) and iii)\n",
    "</div>"
   ]
  },
  {
   "cell_type": "markdown",
   "metadata": {},
   "source": [
    "The quantity $s$, $t$, and $z$ are the arcs opposite to the vertices **S**, **T** and **Z**. Given the definition of these quantities and classical trigonometric identities, we can already state that:\n",
    "\n",
    "* $\\cos s=\\sin L_a$\n",
    "\n",
    "* $\\cos t=\\sin \\delta$\n",
    "    \n",
    "* $\\cos z=\\sin E$\n",
    "\n",
    "Conversely, the $\\sin$ of $s$, $t$ and $z$ also transform into the $\\cos$ of $L_a$, $\\delta$ and $E$. We will now derive each line of the transform matrix of Eq. x using the spherical trigonometry rules applies to the triangle **STZ**."
   ]
  },
  {
   "cell_type": "markdown",
   "metadata": {},
   "source": [
    "### A.1.1 Using Rule i)"
   ]
  },
  {
   "cell_type": "markdown",
   "metadata": {},
   "source": [
    "**Left-hand side:** $\\cos b=\\cos t= \\sin \\delta$\n",
    "\n",
    "**Right-hand side:** $\\cos a \\cos c + \\sin a \\sin c \\cos \\hat{B}= \\cos z \\cos s + \\sin z \\sin s \\cos A = \\sin E \\sin L_a + \\cos E \\cos L_a \\cos A$"
   ]
  },
  {
   "cell_type": "markdown",
   "metadata": {},
   "source": [
    "We have our first relationship:"
   ]
  },
  {
   "cell_type": "markdown",
   "metadata": {},
   "source": [
    "$$\\sin \\delta = \\sin E \\sin L_a + \\cos E \\cos L_a \\cos A$$"
   ]
  },
  {
   "cell_type": "markdown",
   "metadata": {},
   "source": [
    "### A.1.2 Using Rule ii)"
   ]
  },
  {
   "cell_type": "markdown",
   "metadata": {},
   "source": [
    "**Left-hand side:** $\\sin b \\sin \\hat{A}= \\sin t \\sin (-H) = - \\cos \\delta \\sin H$"
   ]
  },
  {
   "cell_type": "markdown",
   "metadata": {},
   "source": [
    "**Right-hand side:** $\\sin \\hat{B} \\sin a =  \\sin A \\sin z = \\sin A \\cos E$"
   ]
  },
  {
   "cell_type": "markdown",
   "metadata": {},
   "source": [
    "We have our second relationship:"
   ]
  },
  {
   "cell_type": "markdown",
   "metadata": {},
   "source": [
    "$$- \\cos \\delta \\sin H = \\sin A \\cos E$$"
   ]
  },
  {
   "cell_type": "markdown",
   "metadata": {},
   "source": [
    "### A.1.3 Using Rule iii)"
   ]
  },
  {
   "cell_type": "markdown",
   "metadata": {},
   "source": [
    "**Left-hand side:** $\\sin b \\cos \\hat{A} = \\sin t \\cos(-H)= \\cos \\delta \\cos{H}$"
   ]
  },
  {
   "cell_type": "markdown",
   "metadata": {},
   "source": [
    "**Right-hand side:** $\\cos a \\sin c - \\sin a\\cos c\\cos \\hat{B}= \\cos z \\sin s - \\sin z \\cos s \\cos A = \\sin E \\cos L_a - \\cos E \\sin L_a \\cos A$"
   ]
  },
  {
   "cell_type": "markdown",
   "metadata": {},
   "source": [
    "We have our last relationship:"
   ]
  },
  {
   "cell_type": "markdown",
   "metadata": {},
   "source": [
    "$$ \\cos\\delta \\cos{H} =  \\sin E \\cos L_a - \\cos E \\sin L_a \\cos A$$"
   ]
  },
  {
   "cell_type": "markdown",
   "metadata": {},
   "source": [
    "Rearranging in a matrix form, and *correct* line order, we have:"
   ]
  },
  {
   "cell_type": "markdown",
   "metadata": {},
   "source": [
    "\\begin{equation}\n",
    "\\begin{bmatrix}\n",
    "\\cos \\delta \\cos H\\\\\n",
    "\\cos \\delta \\sin H\\\\\n",
    "\\sin \\delta\n",
    "\\end{bmatrix}\n",
    "=\n",
    "\\begin{bmatrix}\n",
    "\\cos L \\sin E - \\sin L \\cos E \\cos A\\nonumber\\\\ \n",
    "\\cos E \\sin A \\nonumber\\\\\n",
    "\\sin L \\sin E + \\cos L \\cos E \\cos A\n",
    "\\end{bmatrix}\n",
    "\\end{equation}"
   ]
  },
  {
   "cell_type": "markdown",
   "metadata": {},
   "source": [
    "<div class=advice>\n",
    "**Note:** The left hand-side of Eq. is reminiscent of the components of a base vector pointing the direction ($H$,$\\delta$) in the Equatorial **XYZ** frame. <br>\n",
    "**Note 2:** This is not a coincidence (see chap. [REF])\n",
    "</div>"
   ]
  },
  {
   "cell_type": "markdown",
   "metadata": {},
   "source": [
    "## A2 Derivation of (l,m,n) to ($\\alpha$,$\\delta$)"
   ]
  },
  {
   "cell_type": "code",
   "execution_count": null,
   "metadata": {
    "collapsed": false
   },
   "outputs": [],
   "source": []
  }
 ],
 "metadata": {
  "kernelspec": {
   "display_name": "Python 2",
   "language": "python",
   "name": "python2"
  },
  "language_info": {
   "codemirror_mode": {
    "name": "ipython",
    "version": 2
   },
   "file_extension": ".py",
   "mimetype": "text/x-python",
   "name": "python",
   "nbconvert_exporter": "python",
   "pygments_lexer": "ipython2",
   "version": "2.7.6"
  }
 },
 "nbformat": 4,
 "nbformat_minor": 0
}
