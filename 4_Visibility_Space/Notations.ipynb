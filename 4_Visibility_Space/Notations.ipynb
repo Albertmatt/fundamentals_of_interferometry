{
 "cells": [
  {
   "cell_type": "markdown",
   "metadata": {},
   "source": [
    "# Detailed plan of the chapter\n",
    "***\n",
    "\n",
    "## 4.0 Introduction: Why Interferometry ?\n",
    "\t- Limits of a single dish\n",
    " $\\lambda$ = wavelength\n",
    " \n",
    " $\\nu$ = frequency\n",
    "\n",
    "$c$ = speed light in void\n",
    "\n",
    " $D$ = Aperture diameter\n",
    " \n",
    " $A_\\text{eff}$ = Effective area\n",
    "\t- From a dish to an interferometer\n",
    "$b$ = baseline length\n",
    "\n",
    "$\\pmb{b}$ = baseline vector\n",
    "\n",
    "\t- Single dish as an continuous interferometer\n",
    "\n",
    "Wiener-Khinchin:\n",
    "\n",
    "$\\mathcal{F},\\mathcal{F}^{-1}$ = (inverse) Fourier transform operator\n",
    "\n",
    "$\\otimes$ = Convolution product\n",
    "\n",
    "$\\cdot$ = Scalar product"
   ]
  },
  {
   "cell_type": "markdown",
   "metadata": {},
   "source": [
    "    \n",
    "    \n",
    "\n",
    "## 4.1 The Baseline and its representations in space\n",
    "\t- The physical baseline (Physical - ENU)\n",
    "\t- The projected baseline ( (u,v,w) / equat. (X,Y,Z) )\n",
    "    - Conversion from direct space to uv space\n",
    "    - UV tracks (polar array, East-West array, ...)\n",
    "    TO COMPLETE AND ARRANGE"
   ]
  },
  {
   "cell_type": "markdown",
   "metadata": {},
   "source": [
    "## 4.2 The 2-element Interferometer: a spatial filter\n",
    "\t- 1 baseline + 1 direction = 1 set of fringes = 1 spatial filter\n",
    "\t- Cos & Sin interferometers\n",
    "\t- The Complex interferometer (+conjugate property)"
   ]
  },
  {
   "cell_type": "markdown",
   "metadata": {},
   "source": [
    "## 4.3 The Visibility Function\n",
    "\t- Source coherency\n",
    "    - (l,m,n) coordinate system (might move to 4.1)\n",
    "    - Fringe + Sky\n",
    "\t- Fringe Visibility, Visibility function\n",
    "\t- Example of visibility functions (Amplitude/Phase)\n",
    "\t- Sampling the visibility function (link to Griffin's)"
   ]
  },
  {
   "cell_type": "markdown",
   "metadata": {},
   "source": [
    "## 4.4 UV Coverage:\n",
    "\n",
    "###### 4.4.0 include here uvtracks instead of 4.1?\n",
    "\n",
    "### 4.4.1 The_N-element_Interferometer_and_UV_Coverage\n",
    "\t- Impact of array design (Redundant/Irregular) on UV coverage\n",
    "\t- Examples: WSRT, VLA (A,B,C...), LOFAR and their characteristic UV coverage\n",
    "\n",
    "### 4.4.2 Improving Your Coverage With Time and Frequency Integration\n",
    "\t- Time averaging: Earth Rotation Synthesis\n",
    "\t- Frequency averaging: Frequency Synthesis\n",
    "\n",
    "### 4.4.3 Limits of integration\n",
    "\t- Losing coherency\n",
    "\t- Time smearing (+ link to Oleg's)\t\n",
    "\t- Frequency smearing (+ link to Oleg's) // to optical wideband Newton confusion + FoV"
   ]
  },
  {
   "cell_type": "markdown",
   "metadata": {},
   "source": [
    "## 4.5 The Fourier Approximation & Van Cittert-Zernike Theorem\n",
    "\t- Dropping the W-term (+ link to Griffin's)\n",
    "\t- Small field approx, narrow-bandwidth, regular/identical beam patterns (link to Oleg's)\n",
    "\t- Formulation of the theorem\n",
    "    DEVELOP"
   ]
  },
  {
   "cell_type": "markdown",
   "metadata": {},
   "source": [
    "## 4.6 Further Reading And References\n",
    "\n",
    "***"
   ]
  },
  {
   "cell_type": "markdown",
   "metadata": {},
   "source": [
    "## SIMULATIONS:\n",
    "\n",
    "### SIM A: UV Coverage\n",
    "\tSimulation for different (simple) arrays vs. observing time/direction\n",
    "\n",
    "### SIM B: Computing Visibilities Manually\n",
    "\tGiven a set of baselines, compute the Sum_fov( fringe pattern x Sky ) \n",
    "    \n",
    "        $\\nu$"
   ]
  },
  {
   "cell_type": "markdown",
   "metadata": {},
   "source": [
    "$\\nu$"
   ]
  },
  {
   "cell_type": "code",
   "execution_count": null,
   "metadata": {
    "collapsed": true
   },
   "outputs": [],
   "source": []
  }
 ],
 "metadata": {
  "kernelspec": {
   "display_name": "Python 2",
   "language": "python",
   "name": "python2"
  },
  "language_info": {
   "codemirror_mode": {
    "name": "ipython",
    "version": 2
   },
   "file_extension": ".py",
   "mimetype": "text/x-python",
   "name": "python",
   "nbconvert_exporter": "python",
   "pygments_lexer": "ipython2",
   "version": "2.7.6"
  }
 },
 "nbformat": 4,
 "nbformat_minor": 0
}
