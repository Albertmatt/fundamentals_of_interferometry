{
 "cells": [
  {
   "cell_type": "markdown",
   "metadata": {},
   "source": [
    "***\n",
    "\n",
    "* [Outline](../0_Introduction/4_0_introduction.ipynb)\n",
    "* [Glossary](../0_Introduction/1_glossary.ipynb)\n",
    "* [4. The Visibility space](4_0_introduction_Why_Interferometry.ipynb)\n",
    "    * Previous: [4.0 Introduction: Why Interferometry ?](4_0_introduction_Why_Interferometry.ipynb)\n",
    "    * Next: [4.2 The 2-element Interferometer](4_2_The_2-element_Interferometer.ipynb)\n",
    "\n",
    "***"
   ]
  },
  {
   "cell_type": "markdown",
   "metadata": {},
   "source": [
    "## Section 4.1 The baseline and its representations in space\n",
    "### 4.1.1 The physical baseline\n",
    "   * 4.1.1.A Local definition of the baseline vector\n",
    "       - Relative antenna position on the ground\n",
    "       - Vector\n",
    "   * 4.1.2.B Global definition in the (E,N,U) reference frame\n",
    "       - The (East, North, Up) system\n",
    "       - Baseline in the ENU system\n",
    "\n",
    "### 4.1.2 The concept of projected baseline\n",
    "   \n",
    "   * 4.1.2.A Direction of observation - Concept of phase center\n",
    "       - $\\vec{s_0}$, $\\vec{s}$\n",
    "       - $\\vec{\\sigma}=\\vec{s}-\\vec{s_0}$ in the ($l$,$m$,$n$) system\n",
    "       \n",
    "\n",
    "  \n",
    " \n",
    "  \n",
    "   * 4.1.2.B Projection of the baseline\n",
    "       - Geometry\n",
    "       - Physical baseline, as seen from the source\n",
    "       - Projected baseline length & transiting source\n",
    "   * 4.1.2.C The Equatorial representation (X,Y,Z)\n",
    "       - Coming from Trienko Ch. 4\n",
    "   * 4.1.2.D The ($u$,$v$,$w$) space\n",
    "       - Definition of ($u$,$v$,$w$) with $\\lambda$\n",
    "\n",
    "### 4.1.3 Conversion between systems\n",
    "   * 4.1.3.A From direct space to (X, Y, Z)\n",
    "   * 4.1.3.B From (X, Y ,Z) to ($u$,$v$,$w$)\n",
    "   * 4.1.3.C From ...   \n"
   ]
  },
  {
   "cell_type": "markdown",
   "metadata": {},
   "source": [
    "## Sample of highlights\n",
    "\n",
    "style 1: \n",
    "### <font color='red'>**Take-away message**</font>  \n",
    "> *A spatial frequency measured by depends on the length of the **projected** baseline*\n",
    "\n",
    "\n",
    "style 2:\n",
    "\n",
    "\n",
    "\n",
    "<p style=\"border:5px; border-style:none; background-color:#c8ebca; box-shadow: 5px 5px 2px #888888; border-color:#c8ebca; padding: 1em;\">\n",
    "  <font size=4> **Take-away message**</font>\n",
    "  <br>\n",
    "  <br>\n",
    "  \n",
    "&bull; **Conclusion 1**: *A spatial frequency measured by depends on the length of the **projected** baseline* <br><br>\n",
    "&bull; **Conclusion 2**: *A spatial frequency measured by depends on the length of the **projected** baseline*\n",
    "</p>\n",
    "\n",
    "style 3:\n",
    "\n",
    "\n",
    "<p style=\"border:5px; border-style:double; background-color:#FFFFFF; box-shadow: 5px 5px 2px #888888; border-color:#FF0000; padding: 1em;\">\n",
    "  <font size=3> **Prerequisites**</font>\n",
    "  <br>\n",
    "  <br>\n",
    "  \n",
    "&bull; **Definition of ($u$,$v$,$w$)**: [Go to 4.1](4_1_The_Baseline_and_its_representations_in_space.ipynb) <br><br>\n",
    "&bull; **The visibility function**: [Go to 4.3](4_3_The_Visibility_Function.ipynb)\n",
    "</p>\n",
    "\n"
   ]
  },
  {
   "cell_type": "markdown",
   "metadata": {
    "collapsed": true
   },
   "source": [
    "$system a b c $"
   ]
  },
  {
   "cell_type": "markdown",
   "metadata": {},
   "source": [
    "\n",
    "\n",
    "<div class=\"boxed\">\n",
    "  This text is enclosed in a box.\n",
    "</div> "
   ]
  },
  {
   "cell_type": "code",
   "execution_count": null,
   "metadata": {
    "collapsed": true
   },
   "outputs": [],
   "source": []
  }
 ],
 "metadata": {
  "kernelspec": {
   "display_name": "Python 2",
   "language": "python",
   "name": "python2"
  },
  "language_info": {
   "codemirror_mode": {
    "name": "ipython",
    "version": 2
   },
   "file_extension": ".py",
   "mimetype": "text/x-python",
   "name": "python",
   "nbconvert_exporter": "python",
   "pygments_lexer": "ipython2",
   "version": "2.7.6"
  }
 },
 "nbformat": 4,
 "nbformat_minor": 0
}
