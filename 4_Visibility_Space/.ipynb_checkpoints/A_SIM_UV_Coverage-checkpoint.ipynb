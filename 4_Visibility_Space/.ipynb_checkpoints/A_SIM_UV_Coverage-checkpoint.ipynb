{
 "cells": [
  {
   "cell_type": "code",
   "execution_count": 29,
   "metadata": {
    "collapsed": false
   },
   "outputs": [
    {
     "ename": "SyntaxError",
     "evalue": "invalid syntax (<ipython-input-29-73d1391b7c8a>, line 1)",
     "output_type": "error",
     "traceback": [
      "\u001b[1;36m  File \u001b[1;32m\"<ipython-input-29-73d1391b7c8a>\"\u001b[1;36m, line \u001b[1;32m1\u001b[0m\n\u001b[1;33m    Based on previous pnb\u001b[0m\n\u001b[1;37m           ^\u001b[0m\n\u001b[1;31mSyntaxError\u001b[0m\u001b[1;31m:\u001b[0m invalid syntax\n"
     ]
    }
   ],
   "source": [
    "Based on previous pnb"
   ]
  },
  {
   "cell_type": "code",
   "execution_count": 12,
   "metadata": {
    "collapsed": true
   },
   "outputs": [],
   "source": [
    "# classic import\n",
    "import numpy as np\n",
    "import matplotlib.pyplot as pylab\n",
    "import glob,os\n",
    "%matplotlib inline"
   ]
  },
  {
   "cell_type": "code",
   "execution_count": 23,
   "metadata": {
    "collapsed": true
   },
   "outputs": [],
   "source": [
    "def xyz_to_baseline(ha, dec):\n",
    "    \n",
    "    a1 = np.sin(ha)\n",
    "    a2 = np.cos(ha)\n",
    "    a3 = 0.\n",
    "    \n",
    "    b1 = -1*np.sin(dec)*np.cos(ha)\n",
    "    b2 = np.sin(dec)*np.sin(ha)\n",
    "    b3 = np.cos(dec)\n",
    "    \n",
    "    c1 = np.cos(dec)*np.cos(ha)\n",
    "    c2 = -1*np.cos(dec)*np.sin(ha)\n",
    "    c3 = np.sin(dec)\n",
    "    \n",
    "    return np.array([(a1,a2,a3),(b1,b2,b3),(c1,c2,c3)])"
   ]
  },
  {
   "cell_type": "code",
   "execution_count": 28,
   "metadata": {
    "collapsed": true
   },
   "outputs": [],
   "source": [
    "def baseline_to_xyz(lengthbaseline, elevation, azimuth, latitude):\n",
    "    \n",
    "    x = np.cos(latitude)*np.sin(elevation) - np.sin(latitude)*np.cos(elevation)*np.cos(azimuth)\n",
    "    \n",
    "    y = np.cos(elevation)*np.sin(azimuth)\n",
    "    \n",
    "    z = np.sin(latitude)*np.sin(elevation) + np.cos(latitude)*np.cos(elevation)*np.cos(azimuth)\n",
    "    \n",
    "    xyz = np.array([(x,y,z)])\n",
    "    \n",
    "    return lengthbaseline * xyz.T   "
   ]
  },
  {
   "cell_type": "code",
   "execution_count": 27,
   "metadata": {
    "collapsed": true
   },
   "outputs": [],
   "source": [
    "def baseline_angles(antennaPosition):\n",
    "\n",
    "    #number of antennas\n",
    "    na = len(antennaPosition)\n",
    "    #number pair or baseline\n",
    "    nbl = na*(na-1)/2\n",
    "\n",
    "    lenght_angle = np.zeros((nbl, 2))\n",
    "    k = 0\n",
    "    for i in range(na):\n",
    "        for j in range(i+1, na):\n",
    "            lenght_angle[k,0] = np.sqrt((antennaPosition[i,0]-antennaPosition[j,0])**2 + (antennaPosition[i,1]-antennaPosition[j,1])**2)\n",
    "            lenght_angle[k,1] = np.arctan2((antennaPosition[i,1]-antennaPosition[j,1]) , (antennaPosition[i,0]-antennaPosition[j,0]))\n",
    "            k = k +1\n",
    "    return lenght_angle"
   ]
  },
  {
   "cell_type": "code",
   "execution_count": 4,
   "metadata": {
    "collapsed": true
   },
   "outputs": [],
   "source": [
    "def track_uv(listha, lengthbaseline, elevation, azimuth, latitude, dec, ntimeslots):\n",
    "    \n",
    "    UVW = np.zeros((ntimeslots, 3), dtype=float)\n",
    "    for i in range(ntimeslots):\n",
    "        UVW[i, :] = np.dot(xyz_to_baseline(listha[i], dec),baseline_to_xyz(lengthbaseline, azimuth, elevation, latitude)).T    \n",
    "    return UVW"
   ]
  },
  {
   "cell_type": "code",
   "execution_count": 13,
   "metadata": {
    "collapsed": false
   },
   "outputs": [
    {
     "name": "stdout",
     "output_type": "stream",
     "text": [
      "Opening kat-7\n",
      "Opening meerkat\n",
      "Opening skamid197\n",
      "Opening skamid254\n",
      "Opening vlaa\n",
      "Opening vlab\n",
      "Opening vlac\n",
      "Opening vlad\n",
      "Opening wsrt\n"
     ]
    }
   ],
   "source": [
    "# import coordinates\n",
    "filelist=sorted(glob.glob(\"configs/*.enu.txt\"))\n",
    "filelist\n",
    "instru={}\n",
    "for i in filelist:\n",
    "    name=os.path.basename(i).split('.')[0]\n",
    "    print \"Opening \"+name\n",
    "    f=open(i,'r')\n",
    "    tabx=[]\n",
    "    taby=[]\n",
    "    tabz=[]\n",
    "    for line in f.readlines():\n",
    "        line=line.strip()\n",
    "        col=line.split()\n",
    "        tabx.append(col[0])\n",
    "        taby.append(col[1])\n",
    "        tabz.append('0')\n",
    "        \n",
    "    instru[name]=np.array([tabx,taby,tabz]).T.astype(float)"
   ]
  },
  {
   "cell_type": "code",
   "execution_count": 14,
   "metadata": {
    "collapsed": false
   },
   "outputs": [
    {
     "data": {
      "text/plain": [
       "['wsrt',\n",
       " 'kat-7',\n",
       " 'vlaa',\n",
       " 'vlac',\n",
       " 'vlab',\n",
       " 'skamid254',\n",
       " 'skamid197',\n",
       " 'vlad',\n",
       " 'meerkat']"
      ]
     },
     "execution_count": 14,
     "metadata": {},
     "output_type": "execute_result"
    }
   ],
   "source": [
    "instru.keys()"
   ]
  },
  {
   "cell_type": "code",
   "execution_count": 26,
   "metadata": {
    "collapsed": false
   },
   "outputs": [],
   "source": [
    "antennaPosition=instru['vlac']\n"
   ]
  },
  {
   "cell_type": "code",
   "execution_count": 24,
   "metadata": {
    "collapsed": false
   },
   "outputs": [
    {
     "data": {
      "image/png": "[encoded data removed]",
      "text/plain": [
       "<matplotlib.figure.Figure at 0x7febfb5934d0>"
      ]
     },
     "metadata": {},
     "output_type": "display_data"
    }
   ],
   "source": [
    "# number of time slots\n",
    "ntimeslots = 300;\n",
    "# hour angle range in hours\n",
    "ha = np.linspace(-6, 6, ntimeslots)*np.pi/12;\n",
    "# declination convert in radian\n",
    "dec = 60.*np.pi/180.;\n",
    "#latitute\n",
    "latitute = 60*np.pi/180.\n",
    "# for abscisses scaling\n",
    "mxabs = np.max(abs(antennaPosition[:]));\n",
    "# make use of pylab librery to plot\n",
    "pylab.plot(antennaPosition[:,0], antennaPosition[:,1], 'o')\n",
    "pylab.xlim(-mxabs, mxabs)\n",
    "pylab.ylim(-mxabs, mxabs+5)\n",
    "pylab.xlabel(\"E\")\n",
    "pylab.ylabel(\"N\")\n",
    "pylab.title(\"Antenna positions\")\n",
    "pylab.show()"
   ]
  },
  {
   "cell_type": "code",
   "execution_count": 5,
   "metadata": {
    "collapsed": false
   },
   "outputs": [
    {
     "ename": "NameError",
     "evalue": "name 'baseline_angles' is not defined",
     "output_type": "error",
     "traceback": [
      "\u001b[1;31m---------------------------------------------------------------------------\u001b[0m",
      "\u001b[1;31mNameError\u001b[0m                                 Traceback (most recent call last)",
      "\u001b[1;32m<ipython-input-5-bf36e0cdeeae>\u001b[0m in \u001b[0;36m<module>\u001b[1;34m()\u001b[0m\n\u001b[1;32m----> 1\u001b[1;33m \u001b[0mB\u001b[0m \u001b[1;33m=\u001b[0m \u001b[0mbaseline_angles\u001b[0m\u001b[1;33m(\u001b[0m\u001b[0mantennaPosition\u001b[0m\u001b[1;33m)\u001b[0m\u001b[1;33m\u001b[0m\u001b[0m\n\u001b[0m\u001b[0;32m      2\u001b[0m \u001b[1;31m#number of antennas\u001b[0m\u001b[1;33m\u001b[0m\u001b[1;33m\u001b[0m\u001b[0m\n\u001b[0;32m      3\u001b[0m \u001b[0mna\u001b[0m \u001b[1;33m=\u001b[0m \u001b[0mlen\u001b[0m\u001b[1;33m(\u001b[0m\u001b[0mantennaPosition\u001b[0m\u001b[1;33m)\u001b[0m\u001b[1;33m\u001b[0m\u001b[0m\n\u001b[0;32m      4\u001b[0m \u001b[1;31m#number pair or baseline\u001b[0m\u001b[1;33m\u001b[0m\u001b[1;33m\u001b[0m\u001b[0m\n\u001b[0;32m      5\u001b[0m \u001b[0mnbl\u001b[0m \u001b[1;33m=\u001b[0m \u001b[0mna\u001b[0m\u001b[1;33m*\u001b[0m\u001b[1;33m(\u001b[0m\u001b[0mna\u001b[0m\u001b[1;33m-\u001b[0m\u001b[1;36m1\u001b[0m\u001b[1;33m)\u001b[0m\u001b[1;33m/\u001b[0m\u001b[1;36m2\u001b[0m\u001b[1;33m\u001b[0m\u001b[0m\n",
      "\u001b[1;31mNameError\u001b[0m: name 'baseline_angles' is not defined"
     ]
    }
   ],
   "source": [
    "B = baseline_angles(antennaPosition)\n",
    "#number of antennas\n",
    "na = len(antennaPosition)\n",
    "#number pair or baseline\n",
    "nbl = na*(na-1)/2\n",
    "for i in range (nbl):\n",
    "    uv = track_uv(ha, B[i, 0], 0., B[i, 1], latitute, dec, ntimeslots);\n",
    "    pylab.plot(uv[:,0], uv[:,1], 'b.')\n",
    "    pylab.plot(-uv[:,0], -uv[:,1], 'r.')\n",
    "pylab.xlabel('u')\n",
    "pylab.ylabel('v')\n",
    "pylab.title('uv coverage')\n",
    "mb = 5*np.sqrt((uv**2).sum(1)).max();\n",
    "pylab.xlim(-mb,mb);\n",
    "pylab.ylim(-mb,mb);\n",
    "pylab.show()"
   ]
  },
  {
   "cell_type": "code",
   "execution_count": null,
   "metadata": {
    "collapsed": true
   },
   "outputs": [],
   "source": []
  }
 ],
 "metadata": {
  "kernelspec": {
   "display_name": "Python 2",
   "language": "python",
   "name": "python2"
  },
  "language_info": {
   "codemirror_mode": {
    "name": "ipython",
    "version": 2
   },
   "file_extension": ".py",
   "mimetype": "text/x-python",
   "name": "python",
   "nbconvert_exporter": "python",
   "pygments_lexer": "ipython2",
   "version": "2.7.6"
  }
 },
 "nbformat": 4,
 "nbformat_minor": 0
}
