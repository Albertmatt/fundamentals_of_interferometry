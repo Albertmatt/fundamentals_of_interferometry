{
 "cells": [
  {
   "cell_type": "code",
   "execution_count": 21,
   "metadata": {
    "collapsed": false,
    "deletable": true,
    "editable": true
   },
   "outputs": [
    {
     "name": "stdout",
     "output_type": "stream",
     "text": [
      "loaded ../data/ipyref.txt\n",
      "['figure_cnt', 'sectionl2_cnt', 'update_ipyref', 'lastfigure_cnt', 'prac_sec_test3', 'prac_sec_test2', 'prac_sec_test1', 'sectionl3_cnt', 'lastsectionl2_cnt', 'prac_sec_test4', 'section_cnt', 'sectionl1_cnt', 'table_cnt', 'lastsectionl1_cnt', 'chapter_cnt', 'lastsection_cnt', 'lastsectionl3_cnt', 'equation_cnt', 'lasttable_cnt', 'lastequation_cnt', 'lastchapter_cnt', 'ipyrefname']\n",
      "[1, 1, False, 1, '9.3 Practical Section Test3', '9.2 Practical Section Test2', '9.1 Practical Section Test1', 1, 1, '9.4 Practical Section Test4', 5, 1, 1, 1, 9, 5, 1, 1, 1, 1, 9, '../data/ipyref.txt']\n",
      "id prac_sec_test3 use class prac_sec_test3\n"
     ]
    }
   ],
   "source": [
    "import pickle\n",
    "from incfunc import init_ipyref_filename, ipy_label, ipy_ref\n",
    "from ipywidgets import widgets\n",
    "\n",
    "ipyrefname=init_ipyref_filename()\n",
    "\n",
    "try:\n",
    "    init_ipyref\n",
    "except NameError:\n",
    "    f = open(ipyrefname, 'rb')\n",
    "    sdict = pickle.load(f)\n",
    "    f.close()\n",
    "    print 'loaded', ipyrefname\n",
    "else :\n",
    "    print \"Running through mainlist for updating reference\"\n",
    "\n",
    "print sdict.keys()\n",
    "print sdict.values()\n",
    "\n",
    "\n",
    "idstr='prac_sec_test3'\n",
    "titlestr='Practical Section Test3'\n",
    "ipy_label(sdict, 'section', idstr, titlestr)\n",
    "\n",
    "#sval3 = widgets.Label(sdict[idstr])\n",
    "#widgets.PlaceProxy(child=sval3, selector='.foobar3')\n",
    "stval={}\n",
    "ipy_ref(sdict, idstr, stval)\n",
    "widgets.PlaceProxy(child=stval['child'], selector=('.'+stval['class'])) "
   ]
  },
  {
   "cell_type": "markdown",
   "metadata": {
    "deletable": true,
    "editable": true
   },
   "source": [
    "## <a class='prac_sec_test3' id='prac_sec_test3'></a>\n",
    "\n",
    "The section is inserted to test the section updates"
   ]
  },
  {
   "cell_type": "code",
   "execution_count": 22,
   "metadata": {
    "collapsed": false,
    "deletable": true,
    "editable": true
   },
   "outputs": [
    {
     "name": "stdout",
     "output_type": "stream",
     "text": [
      "Pass: prac_sec_test2 exist\n",
      "id prac_sec_test2 use class prac_sec_test2\n"
     ]
    }
   ],
   "source": [
    "idstr='prac_sec_test2'\n",
    "if sdict.has_key(idstr) :\n",
    "    print 'Pass:', idstr, 'exist'\n",
    "\n",
    "#sval1 = widgets.Label(sdict[idstr])\n",
    "#widgets.PlaceProxy(child=sval1, selector='.foobar')\n",
    "stval={}\n",
    "ipy_ref(sdict, idstr, stval)\n",
    "widgets.PlaceProxy(child=stval['child'], selector=('.'+stval['class'])) \n",
    "#var2 = \"Mytext to display\"\n",
    "#text = '<h1>For a moment let us discuss radio interferometry.</h1> <a title=\\\"%s\\\"> %s </a>' % (var2, sdict[idstr]) \n",
    "#HTML(text)"
   ]
  },
  {
   "cell_type": "markdown",
   "metadata": {
    "deletable": true,
    "editable": true
   },
   "source": [
    "For demo we will refer <a class='prac_sec_test2' href='../9_Practical/practical_calib.ipynb#prac_sec_test2' title='Text to display'></a>"
   ]
  },
  {
   "cell_type": "code",
   "execution_count": 23,
   "metadata": {
    "collapsed": false,
    "deletable": true,
    "editable": true
   },
   "outputs": [
    {
     "name": "stdout",
     "output_type": "stream",
     "text": [
      "id prac_sec_test4 use class prac_sec_test4\n"
     ]
    }
   ],
   "source": [
    "idstr='prac_sec_test4'\n",
    "titlestr='Practical Section Test4'\n",
    "ipy_label(sdict, 'section', idstr, titlestr)\n",
    "\n",
    "#sval3 = widgets.Label(sdict[idstr])\n",
    "#widgets.PlaceProxy(child=sval3, selector='.foobar4')\n",
    "stval={}\n",
    "ipy_ref(sdict, idstr, stval)\n",
    "widgets.PlaceProxy(child=stval['child'], selector=('.'+stval['class'])) "
   ]
  },
  {
   "cell_type": "markdown",
   "metadata": {
    "deletable": true,
    "editable": true
   },
   "source": [
    "# <a class='prac_sec_test4' id='prac_sec_test4'></a>\n",
    "\n",
    "The section is inserted to test the section updates"
   ]
  },
  {
   "cell_type": "code",
   "execution_count": 24,
   "metadata": {
    "collapsed": false,
    "deletable": true,
    "editable": true
   },
   "outputs": [
    {
     "name": "stdout",
     "output_type": "stream",
     "text": [
      "['figure_cnt', 'sectionl2_cnt', 'update_ipyref', 'lastfigure_cnt', 'prac_sec_test3', 'prac_sec_test2', 'prac_sec_test1', 'sectionl3_cnt', 'lastsectionl2_cnt', 'prac_sec_test4', 'section_cnt', 'sectionl1_cnt', 'table_cnt', 'lastsectionl1_cnt', 'chapter_cnt', 'lastsection_cnt', 'lastsectionl3_cnt', 'equation_cnt', 'lasttable_cnt', 'lastequation_cnt', 'lastchapter_cnt', 'ipyrefname']\n",
      "[1, 1, False, 1, '9.3 Practical Section Test3', '9.2 Practical Section Test2', '9.1 Practical Section Test1', 1, 1, '9.4 Practical Section Test4', 5, 1, 1, 1, 9, 5, 1, 1, 1, 1, 9, '../data/ipyref.txt']\n",
      "id prac_sec_test2 use class prac_sec_test2\n"
     ]
    }
   ],
   "source": [
    "print sdict.keys()\n",
    "print sdict.values()\n",
    "\n",
    "idstr='prac_sec_test2'\n",
    "stval={}\n",
    "ipy_ref(sdict, idstr, stval)\n",
    "widgets.PlaceProxy(child=stval['child'], selector=('.'+stval['class'])) "
   ]
  },
  {
   "cell_type": "markdown",
   "metadata": {},
   "source": [
    "For second demo we will refer I want my text here <a class='prac_sec_test2' href='../9_Practical/practical_calib.ipynb#prac_sec_test2' title='Text to display'></a>"
   ]
  }
 ],
 "metadata": {
  "kernelspec": {
   "display_name": "Python 2",
   "language": "python",
   "name": "python2"
  },
  "language_info": {
   "codemirror_mode": {
    "name": "ipython",
    "version": 2
   },
   "file_extension": ".py",
   "mimetype": "text/x-python",
   "name": "python",
   "nbconvert_exporter": "python",
   "pygments_lexer": "ipython2",
   "version": "2.7.6"
  },
  "widgets": {
   "state": {
    "8877256e80d24b5db3b0a14b9157fdd5": {
     "views": [
      {
       "cell_index": 2
      }
     ]
    },
    "d53e68ee338c444b8f3f257cfe033d0a": {
     "views": [
      {
       "cell_index": 0
      }
     ]
    },
    "f5bffc37ba0f432faecb23cd5c5c5d34": {
     "views": [
      {
       "cell_index": 4
      }
     ]
    },
    "f8c4661d568c464b9a2cd46cabf06454": {
     "views": [
      {
       "cell_index": 6
      }
     ]
    }
   },
   "version": "1.2.0"
  }
 },
 "nbformat": 4,
 "nbformat_minor": 2
}
