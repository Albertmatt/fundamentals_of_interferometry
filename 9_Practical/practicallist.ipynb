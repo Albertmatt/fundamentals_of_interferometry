{
 "cells": [
  {
   "cell_type": "code",
   "execution_count": 5,
   "metadata": {
    "collapsed": false,
    "deletable": true,
    "editable": true
   },
   "outputs": [
    {
     "name": "stdout",
     "output_type": "stream",
     "text": [
      "loaded ../data/ipyref.txt\n"
     ]
    }
   ],
   "source": [
    "import pickle\n",
    "from incfunc import init_ipyref_filename, ipy_label, ipy_ref\n",
    "\n",
    "init_ipyref = False\n",
    "\n",
    "if init_ipyref :\n",
    "    sdict = {}\n",
    "    sdict['lastchapter_cnt']=sdict['chapter_cnt']=9\n",
    "    sdict['lastsection_cnt']=sdict['section_cnt']=1\n",
    "    sdict['lastsectionl1_cnt']=sdict['sectionl1_cnt']=1\n",
    "    sdict['lastsectionl2_cnt']=sdict['sectionl2_cnt']=1\n",
    "    sdict['lastsectionl3_cnt']=sdict['sectionl3_cnt']=1\n",
    "    sdict['lastequation_cnt']=sdict['equation_cnt']=1\n",
    "    sdict['lastfigure_cnt']=sdict['figure_cnt']=1\n",
    "    sdict['lasttable_cnt']=sdict['table_cnt']=1\n",
    "    sdict['ipyrefname'] = init_ipyref_filename()\n",
    "    sdict['update_ipyref']=init_ipyref\n",
    "    f = open(sdict['ipyrefname'], 'wb')\n",
    "    pickle.dump(sdict, f)\n",
    "    f.close()\n",
    "    print 'init', sdict['ipyrefname']\n",
    "\n",
    "ipyrefname=init_ipyref_filename()\n",
    "\n",
    "f = open(ipyrefname, 'rb')\n",
    "sdict = pickle.load(f)\n",
    "f.close()\n",
    "sdict['update_ipyref']=init_ipyref\n",
    "\n",
    "print 'loaded', sdict['ipyrefname']    \n"
   ]
  },
  {
   "cell_type": "code",
   "execution_count": 6,
   "metadata": {
    "collapsed": false,
    "deletable": true,
    "editable": true,
    "scrolled": false
   },
   "outputs": [
    {
     "name": "stdout",
     "output_type": "stream",
     "text": [
      "Running through mainlist for updating reference\n",
      "['figure_cnt', 'sectionl2_cnt', 'update_ipyref', 'lastfigure_cnt', 'prac_sec_test3', 'prac_sec_test2', 'prac_sec_test1', 'sectionl3_cnt', 'lastsectionl2_cnt', 'prac_sec_test4', 'section_cnt', 'sectionl1_cnt', 'table_cnt', 'lastsectionl1_cnt', 'chapter_cnt', 'lastsection_cnt', 'lastsectionl3_cnt', 'equation_cnt', 'lasttable_cnt', 'lastequation_cnt', 'lastchapter_cnt', 'ipyrefname']\n",
      "[1, 1, False, 1, '9.3 Practical Section Test3', '9.2 Practical Section Test2', '9.1 Practical Section Test1', 1, 1, '9.4 Practical Section Test4', 5, 1, 1, 1, 9, 5, 1, 1, 1, 1, 9, '../data/ipyref.txt']\n",
      "id prac_sec_test1 use class prac_sec_test1\n",
      "id prac_sec_test2 use class prac_sec_test2\n",
      "1\n",
      "['figure_cnt', 'sectionl2_cnt', 'update_ipyref', 'lastfigure_cnt', 'prac_sec_test3', 'prac_sec_test2', 'prac_sec_test1', 'sectionl3_cnt', 'lastsectionl2_cnt', 'prac_sec_test4', 'section_cnt', 'sectionl1_cnt', 'table_cnt', 'lastsectionl1_cnt', 'chapter_cnt', 'lastsection_cnt', 'lastsectionl3_cnt', 'equation_cnt', 'lasttable_cnt', 'lastequation_cnt', 'lastchapter_cnt', 'ipyrefname']\n",
      "[1, 1, False, 1, '9.3 Practical Section Test3', '9.2 Practical Section Test2', '9.1 Practical Section Test1', 1, 1, '9.4 Practical Section Test4', 5, 1, 1, 1, 9, 5, 1, 1, 1, 1, 9, '../data/ipyref.txt']\n",
      "2\n",
      "['figure_cnt', 'sectionl2_cnt', 'update_ipyref', 'lastfigure_cnt', 'prac_sec_test3', 'prac_sec_test2', 'prac_sec_test1', 'sectionl3_cnt', 'lastsectionl2_cnt', 'prac_sec_test4', 'section_cnt', 'sectionl1_cnt', 'table_cnt', 'lastsectionl1_cnt', 'chapter_cnt', 'lastsection_cnt', 'lastsectionl3_cnt', 'equation_cnt', 'lasttable_cnt', 'lastequation_cnt', 'lastchapter_cnt', 'ipyrefname']\n",
      "[1, 1, False, 1, '9.3 Practical Section Test3', '9.2 Practical Section Test2', '9.1 Practical Section Test1', 1, 1, '9.4 Practical Section Test4', 5, 1, 1, 1, 9, 5, 1, 1, 1, 1, 9, '../data/ipyref.txt']\n",
      "3\n",
      "['figure_cnt', 'sectionl2_cnt', 'update_ipyref', 'lastfigure_cnt', 'prac_sec_test3', 'prac_sec_test2', 'prac_sec_test1', 'sectionl3_cnt', 'lastsectionl2_cnt', 'prac_sec_test4', 'section_cnt', 'sectionl1_cnt', 'table_cnt', 'lastsectionl1_cnt', 'chapter_cnt', 'lastsection_cnt', 'lastsectionl3_cnt', 'equation_cnt', 'lasttable_cnt', 'lastequation_cnt', 'lastchapter_cnt', 'ipyrefname']\n",
      "[1, 1, False, 1, '9.3 Practical Section Test3', '9.2 Practical Section Test2', '9.1 Practical Section Test1', 1, 1, '9.4 Practical Section Test4', 5, 1, 1, 1, 9, 5, 1, 1, 1, 1, 9, '../data/ipyref.txt']\n",
      "4\n",
      "['figure_cnt', 'sectionl2_cnt', 'update_ipyref', 'lastfigure_cnt', 'prac_sec_test3', 'prac_sec_test2', 'prac_sec_test1', 'sectionl3_cnt', 'lastsectionl2_cnt', 'prac_sec_test4', 'section_cnt', 'sectionl1_cnt', 'table_cnt', 'lastsectionl1_cnt', 'chapter_cnt', 'lastsection_cnt', 'lastsectionl3_cnt', 'equation_cnt', 'lasttable_cnt', 'lastequation_cnt', 'lastchapter_cnt', 'ipyrefname']\n",
      "[1, 1, False, 1, '9.3 Practical Section Test3', '9.2 Practical Section Test2', '9.1 Practical Section Test1', 1, 1, '9.4 Practical Section Test4', 5, 1, 1, 1, 9, 5, 1, 1, 1, 1, 9, '../data/ipyref.txt']\n",
      "5\n",
      "['figure_cnt', 'sectionl2_cnt', 'update_ipyref', 'lastfigure_cnt', 'prac_sec_test3', 'prac_sec_test2', 'prac_sec_test1', 'sectionl3_cnt', 'lastsectionl2_cnt', 'prac_sec_test4', 'section_cnt', 'sectionl1_cnt', 'table_cnt', 'lastsectionl1_cnt', 'chapter_cnt', 'lastsection_cnt', 'lastsectionl3_cnt', 'equation_cnt', 'lasttable_cnt', 'lastequation_cnt', 'lastchapter_cnt', 'ipyrefname']\n",
      "[1, 1, False, 1, '9.3 Practical Section Test3', '9.2 Practical Section Test2', '9.1 Practical Section Test1', 1, 1, '9.4 Practical Section Test4', 5, 1, 1, 1, 9, 5, 1, 1, 1, 1, 9, '../data/ipyref.txt']\n",
      "6\n",
      "['figure_cnt', 'sectionl2_cnt', 'update_ipyref', 'lastfigure_cnt', 'prac_sec_test3', 'prac_sec_test2', 'prac_sec_test1', 'sectionl3_cnt', 'lastsectionl2_cnt', 'prac_sec_test4', 'section_cnt', 'sectionl1_cnt', 'table_cnt', 'lastsectionl1_cnt', 'chapter_cnt', 'lastsection_cnt', 'lastsectionl3_cnt', 'equation_cnt', 'lasttable_cnt', 'lastequation_cnt', 'lastchapter_cnt', 'ipyrefname']\n",
      "[1, 1, False, 1, '9.3 Practical Section Test3', '9.2 Practical Section Test2', '9.1 Practical Section Test1', 1, 1, '9.4 Practical Section Test4', 5, 1, 1, 1, 9, 5, 1, 1, 1, 1, 9, '../data/ipyref.txt']\n",
      "7\n",
      "['figure_cnt', 'sectionl2_cnt', 'update_ipyref', 'lastfigure_cnt', 'prac_sec_test3', 'prac_sec_test2', 'prac_sec_test1', 'sectionl3_cnt', 'lastsectionl2_cnt', 'prac_sec_test4', 'section_cnt', 'sectionl1_cnt', 'table_cnt', 'lastsectionl1_cnt', 'chapter_cnt', 'lastsection_cnt', 'lastsectionl3_cnt', 'equation_cnt', 'lasttable_cnt', 'lastequation_cnt', 'lastchapter_cnt', 'ipyrefname']\n",
      "[1, 1, False, 1, '9.3 Practical Section Test3', '9.2 Practical Section Test2', '9.1 Practical Section Test1', 1, 1, '9.4 Practical Section Test4', 5, 1, 1, 1, 9, 5, 1, 1, 1, 1, 9, '../data/ipyref.txt']\n",
      "8\n",
      "['figure_cnt', 'sectionl2_cnt', 'update_ipyref', 'lastfigure_cnt', 'prac_sec_test3', 'prac_sec_test2', 'prac_sec_test1', 'sectionl3_cnt', 'lastsectionl2_cnt', 'prac_sec_test4', 'section_cnt', 'sectionl1_cnt', 'table_cnt', 'lastsectionl1_cnt', 'chapter_cnt', 'lastsection_cnt', 'lastsectionl3_cnt', 'equation_cnt', 'lasttable_cnt', 'lastequation_cnt', 'lastchapter_cnt', 'ipyrefname']\n",
      "[1, 1, False, 1, '9.3 Practical Section Test3', '9.2 Practical Section Test2', '9.1 Practical Section Test1', 1, 1, '9.4 Practical Section Test4', 5, 1, 1, 1, 9, 5, 1, 1, 1, 1, 9, '../data/ipyref.txt']\n",
      "9\n",
      "['figure_cnt', 'sectionl2_cnt', 'update_ipyref', 'lastfigure_cnt', 'prac_sec_test3', 'prac_sec_test2', 'prac_sec_test1', 'sectionl3_cnt', 'lastsectionl2_cnt', 'prac_sec_test4', 'section_cnt', 'sectionl1_cnt', 'table_cnt', 'lastsectionl1_cnt', 'chapter_cnt', 'lastsection_cnt', 'lastsectionl3_cnt', 'equation_cnt', 'lasttable_cnt', 'lastequation_cnt', 'lastchapter_cnt', 'ipyrefname']\n",
      "[1, 1, False, 1, '9.3 Practical Section Test3', '9.2 Practical Section Test2', '9.1 Practical Section Test1', 1, 1, '9.4 Practical Section Test4', 5, 1, 1, 1, 9, 5, 1, 1, 1, 1, 9, '../data/ipyref.txt']\n",
      "id prac_sec_test3 use class prac_sec_test3\n"
     ]
    }
   ],
   "source": [
    "%run practical_calib.ipynb"
   ]
  },
  {
   "cell_type": "code",
   "execution_count": 7,
   "metadata": {
    "collapsed": false,
    "deletable": true,
    "editable": true
   },
   "outputs": [
    {
     "name": "stdout",
     "output_type": "stream",
     "text": [
      "Running through mainlist for updating reference\n",
      "['figure_cnt', 'sectionl2_cnt', 'update_ipyref', 'lastfigure_cnt', 'prac_sec_test3', 'prac_sec_test2', 'prac_sec_test1', 'sectionl3_cnt', 'lastsectionl2_cnt', 'prac_sec_test4', 'section_cnt', 'sectionl1_cnt', 'table_cnt', 'lastsectionl1_cnt', 'chapter_cnt', 'lastsection_cnt', 'lastsectionl3_cnt', 'equation_cnt', 'lasttable_cnt', 'lastequation_cnt', 'lastchapter_cnt', 'ipyrefname']\n",
      "[1, 1, False, 1, '9.3 Practical Section Test3', '9.2 Practical Section Test2', '9.1 Practical Section Test1', 1, 1, '9.4 Practical Section Test4', 5, 1, 1, 1, 9, 5, 1, 1, 1, 1, 9, '../data/ipyref.txt']\n",
      "id prac_sec_test3 use class prac_sec_test3\n",
      "Pass: prac_sec_test2 exist\n",
      "id prac_sec_test2 use class prac_sec_test2\n",
      "id prac_sec_test4 use class prac_sec_test4\n",
      "['figure_cnt', 'sectionl2_cnt', 'update_ipyref', 'lastfigure_cnt', 'prac_sec_test3', 'prac_sec_test2', 'prac_sec_test1', 'sectionl3_cnt', 'lastsectionl2_cnt', 'prac_sec_test4', 'section_cnt', 'sectionl1_cnt', 'table_cnt', 'lastsectionl1_cnt', 'chapter_cnt', 'lastsection_cnt', 'lastsectionl3_cnt', 'equation_cnt', 'lasttable_cnt', 'lastequation_cnt', 'lastchapter_cnt', 'ipyrefname']\n",
      "[1, 1, False, 1, '9.3 Practical Section Test3', '9.2 Practical Section Test2', '9.1 Practical Section Test1', 1, 1, '9.4 Practical Section Test4', 5, 1, 1, 1, 9, 5, 1, 1, 1, 1, 9, '../data/ipyref.txt']\n",
      "id prac_sec_test2 use class prac_sec_test2\n"
     ]
    }
   ],
   "source": [
    "%run practical_im.ipynb"
   ]
  },
  {
   "cell_type": "code",
   "execution_count": 8,
   "metadata": {
    "collapsed": false,
    "deletable": true,
    "editable": true
   },
   "outputs": [],
   "source": [
    "if init_ipyref :\n",
    "    sdict['update_ipyref'] = False\n",
    "    f = open(sdict['ipyrefname'], 'wb')\n",
    "    pickle.dump(sdict, f)\n",
    "    f.close()\n",
    "    print 'stored', sdict['ipyrefname']"
   ]
  }
 ],
 "metadata": {
  "kernelspec": {
   "display_name": "Python 2",
   "language": "python",
   "name": "python2"
  },
  "language_info": {
   "codemirror_mode": {
    "name": "ipython",
    "version": 2
   },
   "file_extension": ".py",
   "mimetype": "text/x-python",
   "name": "python",
   "nbconvert_exporter": "python",
   "pygments_lexer": "ipython2",
   "version": "2.7.6"
  }
 },
 "nbformat": 4,
 "nbformat_minor": 2
}
