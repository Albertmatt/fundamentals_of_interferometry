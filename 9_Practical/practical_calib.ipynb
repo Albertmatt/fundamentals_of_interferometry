{
 "cells": [
  {
   "cell_type": "code",
   "execution_count": 1,
   "metadata": {
    "collapsed": false,
    "deletable": true,
    "editable": true
   },
   "outputs": [
    {
     "name": "stdout",
     "output_type": "stream",
     "text": [
      "[Error] ipy_label =>  The key prac_chap is already present, use unique string in labelstr\n",
      "[Suggestion] ipy_label=> Allowed: chapter, section, sectionl1, sectionl2_cnt, sectionl3_cnt, equation_cnt, figure_cnt, table_cnt\n",
      "[Error] ipy_label\n"
     ]
    }
   ],
   "source": [
    "#Created: sirothia@gmail.com 20170207\n",
    "#for label and ref example\n",
    "\n",
    "##################################\n",
    "#Insert the following text on each notebook\n",
    "\n",
    "import pickle\n",
    "from ipywidgets import widgets\n",
    "from incfunc import init_ipyref_filename, ipy_label, ipy_ref\n",
    "\n",
    "ipyrefname=init_ipyref_filename()\n",
    "\n",
    "\n",
    "try:\n",
    "    init_ipyref\n",
    "except NameError:\n",
    "    f = open(ipyrefname, 'rb')\n",
    "    sdict = pickle.load(f)\n",
    "    f.close()\n",
    "    debug_lvl=0\n",
    "    if debug_lvl > 10: print 'loaded', ipyrefname\n",
    "else :\n",
    "    if debug_lvl > 10: print \"Running through mainlist for updating reference\"\n",
    "\n",
    "if debug_lvl > 100:\n",
    "    print sdict.keys()\n",
    "    print sdict.values()\n",
    "##################################\n",
    "    \n",
    "#idstr='prac_chap'\n",
    "#titlestr='Chapter Title'\n",
    "#ipy_label(sdict, 'chapter', idstr, titlestr)\n",
    "\n",
    "idstr='prac_chap'\n",
    "titlestr='Practical Chapter'\n",
    "ipy_label(sdict, 'chapter', idstr, titlestr)\n",
    "\n",
    "idcntr='_xyz'\n",
    "stval={}\n",
    "ipy_ref(sdict, idstr, stval, idsub=idcntr, debug_lvl=debug_lvl)\n",
    "widgets.PlaceProxy(child=stval['child'], selector=('.'+stval['class'])) "
   ]
  },
  {
   "cell_type": "markdown",
   "metadata": {
    "deletable": true,
    "editable": true
   },
   "source": [
    "# <a class='prac_chap_xyz' id='prac_chap'></a>\n",
    "\n",
    "Insert the practical chapter text here."
   ]
  },
  {
   "cell_type": "code",
   "execution_count": 2,
   "metadata": {
    "collapsed": false,
    "deletable": true,
    "editable": true
   },
   "outputs": [
    {
     "name": "stdout",
     "output_type": "stream",
     "text": [
      "[Error] ipy_label =>  The key prac_sec_test1 is already present, use unique string in labelstr\n",
      "[Suggestion] ipy_label=> Allowed: chapter, section, sectionl1, sectionl2_cnt, sectionl3_cnt, equation_cnt, figure_cnt, table_cnt\n",
      "[Error] ipy_label\n"
     ]
    }
   ],
   "source": [
    "idstr='prac_sec_test1'\n",
    "\n",
    "#for creating the label use\n",
    "#sdict is internal : not to be used\n",
    "#cntname : chapter, section, subsection, subsubsection, subsubsubsection, equation, figure, table\n",
    "#labelstr : user choice of label, e.g. idstr is used here\n",
    "#           Advised not use semi-colon in labelstr\n",
    "#titlestr: can be a title associated with label\n",
    "\n",
    "#ipy_label(sdict, cntname, labelstr, titlestr)\n",
    "titlestr='Practical Section Test1'\n",
    "ipy_label(sdict, 'section', idstr, titlestr)\n",
    "\n",
    "#for reference use\n",
    "#ipy_ref(sdict, labelstr, stval, titlestr='', sdisplay='default', idsub='', debug_lvl=0)\n",
    "#sdict : is internal not to be used\n",
    "#stval : is internal not be used\n",
    "#labelstr : user choice of label, e.g. idstr is used here \n",
    "#titlestr : can be a title associated with label\n",
    "#idsub : use _xxx where xxx is random text that needs to be different every time the reference is used \n",
    "#debug_lvl : 0 default, 1 will print the class string to be used for this reference occurance\n",
    "#            which is combination of idstr and idcntr\n",
    "#sdisplay: 'default' reference display\n",
    "#          'intfile' will display reference with internal to file reference symbol\n",
    "#          'extfile' will display reference with external to file reference symbol\n",
    "\n",
    "idcntr='_xyz'\n",
    "stval={}\n",
    "ipy_ref(sdict, idstr, stval, idsub=idcntr, debug_lvl=debug_lvl)\n",
    "widgets.PlaceProxy(child=stval['child'], selector=('.'+stval['class'])) "
   ]
  },
  {
   "cell_type": "markdown",
   "metadata": {
    "deletable": true,
    "editable": true
   },
   "source": [
    "## <a class='prac_sec_test1_xyz' id='prac_sec_test1'></a>\n",
    "\n",
    "Insert the section test1 text here."
   ]
  },
  {
   "cell_type": "code",
   "execution_count": 3,
   "metadata": {
    "collapsed": false,
    "deletable": true,
    "editable": true,
    "scrolled": true
   },
   "outputs": [
    {
     "name": "stdout",
     "output_type": "stream",
     "text": [
      "[Error] ipy_label =>  The key prac_sec_test2 is already present, use unique string in labelstr\n",
      "[Suggestion] ipy_label=> Allowed: chapter, section, sectionl1, sectionl2_cnt, sectionl3_cnt, equation_cnt, figure_cnt, table_cnt\n",
      "[Error] ipy_label\n"
     ]
    }
   ],
   "source": [
    "\n",
    "idstr='prac_sec_test2'\n",
    "titlestr='Practical Section Test2'\n",
    "ipy_label(sdict, 'section', idstr, titlestr)\n",
    "\n",
    "#sval2 = widgets.Label(sdict[idstr])\n",
    "#widgets.PlaceProxy(child=sval2, selector='.foobar2')\n",
    "stval={}\n",
    "ipy_ref(sdict, idstr, stval)\n",
    "widgets.PlaceProxy(child=stval['child'], selector=('.'+stval['class'])) \n",
    "#print sdict.keys()"
   ]
  },
  {
   "cell_type": "markdown",
   "metadata": {
    "deletable": true,
    "editable": true
   },
   "source": [
    "## <a class='prac_sec_test2' id='prac_sec_test2'></a>\n",
    "\n",
    "Insert the section test2 text here."
   ]
  },
  {
   "cell_type": "code",
   "execution_count": 4,
   "metadata": {
    "collapsed": false,
    "deletable": true,
    "editable": true
   },
   "outputs": [
    {
     "name": "stdout",
     "output_type": "stream",
     "text": [
      "[Error] ipy_label =>  The key prac_eqn_test1 is already present, use unique string in labelstr\n",
      "[Suggestion] ipy_label=> Allowed: chapter, section, sectionl1, sectionl2_cnt, sectionl3_cnt, equation_cnt, figure_cnt, table_cnt\n",
      "[Error] ipy_label\n"
     ]
    }
   ],
   "source": [
    "idstr='prac_eqn_test1'\n",
    "titlestr='A 2-dimensional Fourier transform'\n",
    "ipy_label(sdict, 'equation', idstr, titlestr)\n",
    "\n",
    "#sval2 = widgets.Label(sdict[idstr])\n",
    "#widgets.PlaceProxy(child=sval2, selector='.foobar2')\n",
    "stval={}\n",
    "ipy_ref(sdict, idstr, stval)\n",
    "widgets.PlaceProxy(child=stval['child'], selector=('.'+stval['class'])) \n"
   ]
  },
  {
   "cell_type": "markdown",
   "metadata": {
    "deletable": true,
    "editable": true
   },
   "source": [
    "You may also create id for the equation as shown here <a class='prac_eqn_test1' id='prac_eqn_test1'></a>\n",
    "\n",
    "$$ I(l,m) = \\int_{-\\infty}^{\\infty} V_u(u) e^{-2\\pi iul} \\,du \\int_{-\\infty}^{\\infty} V_v(v) e^{-2\\pi ivm} \\, dv = \\int_{-\\infty}^{\\infty} \\int_{-\\infty}^{\\infty} V(u,v) e^{-2\\pi i(ul+vm)} \\,du\\,dv $$"
   ]
  },
  {
   "cell_type": "code",
   "execution_count": 5,
   "metadata": {
    "collapsed": false,
    "deletable": true,
    "editable": true,
    "scrolled": false
   },
   "outputs": [],
   "source": [
    "if debug_lvl > 100:\n",
    "    for i in range(1,10):\n",
    "        print i\n",
    "        print sdict.keys()\n",
    "        print sdict.values()"
   ]
  },
  {
   "cell_type": "code",
   "execution_count": 6,
   "metadata": {
    "collapsed": false,
    "deletable": true,
    "editable": true
   },
   "outputs": [
    {
     "name": "stdout",
     "output_type": "stream",
     "text": [
      "[Error] ipy_label =>  The key prac_eqn_test2 is already present, use unique string in labelstr\n",
      "[Suggestion] ipy_label=> Allowed: chapter, section, sectionl1, sectionl2_cnt, sectionl3_cnt, equation_cnt, figure_cnt, table_cnt\n",
      "[Error] ipy_label\n"
     ]
    }
   ],
   "source": [
    "idstr='prac_eqn_test2'\n",
    "titlestr='The I-V Fourier Pair'\n",
    "ipy_label(sdict, 'equation', idstr, titlestr)\n",
    "\n",
    "#sval2 = widgets.Label(sdict[idstr])\n",
    "#widgets.PlaceProxy(child=sval2, selector='.foobar2')\n",
    "stval={}\n",
    "ipy_ref(sdict, idstr, stval)\n",
    "widgets.PlaceProxy(child=stval['child'], selector=('.'+stval['class'])) \n"
   ]
  },
  {
   "cell_type": "markdown",
   "metadata": {
    "deletable": true,
    "editable": true
   },
   "source": [
    "You may also create id for the equation as shown here <a class='prac_eqn_test2' id='prac_eqn_test2'></a>\n",
    "\n",
    "$$ V(u,v) = \\sum_{l=-1}^{1} \\sum_{m=-1}^{1} I(l,m) (\\cos(2\\pi(ul+vm)) + i\\sin(2\\pi(ul+vm))) \\,\\Delta l\\,\\Delta m $$"
   ]
  },
  {
   "cell_type": "code",
   "execution_count": 7,
   "metadata": {
    "collapsed": false,
    "deletable": true,
    "editable": true
   },
   "outputs": [],
   "source": [
    "idstr='prac_sec_test3'\n",
    "\n",
    "stval={}\n",
    "ipy_ref(sdict, idstr, stval)\n",
    "widgets.PlaceProxy(child=stval['child'], selector=('.'+stval['class'])) "
   ]
  },
  {
   "cell_type": "markdown",
   "metadata": {
    "deletable": true,
    "editable": true
   },
   "source": [
    "***\n",
    "\n",
    "Next : <a class='prac_sec_test3' href='../9_Practical/practical_im.ipynb#prac_sec_test3' title='Text to display'></a>"
   ]
  }
 ],
 "metadata": {
  "kernelspec": {
   "display_name": "Python 2",
   "language": "python",
   "name": "python2"
  },
  "language_info": {
   "codemirror_mode": {
    "name": "ipython",
    "version": 2
   },
   "file_extension": ".py",
   "mimetype": "text/x-python",
   "name": "python",
   "nbconvert_exporter": "python",
   "pygments_lexer": "ipython2",
   "version": "2.7.6"
  },
  "widgets": {
   "state": {
    "6b4c4d8721bc463c99693d381f15776a": {
     "views": [
      {
       "cell_index": 11
      }
     ]
    },
    "860644e7eb504f9e90100817b94f4f99": {
     "views": [
      {
       "cell_index": 4
      }
     ]
    },
    "8dd8bf8d9f854dc9949ce66bb74ed39d": {
     "views": [
      {
       "cell_index": 6
      }
     ]
    },
    "997a66cf91d340e7a547b496c73bec95": {
     "views": [
      {
       "cell_index": 2
      }
     ]
    },
    "d95ca72fe09a46348374b62b583f210d": {
     "views": [
      {
       "cell_index": 0
      }
     ]
    },
    "eea1b81f212a4699bc32969c22dfc44d": {
     "views": [
      {
       "cell_index": 9
      }
     ]
    }
   },
   "version": "1.2.0"
  }
 },
 "nbformat": 4,
 "nbformat_minor": 2
}
