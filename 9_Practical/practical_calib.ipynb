{
 "cells": [
  {
   "cell_type": "code",
   "execution_count": 9,
   "metadata": {
    "collapsed": false,
    "deletable": true,
    "editable": true
   },
   "outputs": [
    {
     "name": "stdout",
     "output_type": "stream",
     "text": [
      "loaded ../data/ipyref.txt\n",
      "['figure_cnt', 'sectionl2_cnt', 'update_ipyref', 'lastfigure_cnt', 'prac_sec_test3', 'prac_sec_test2', 'prac_sec_test1', 'sectionl3_cnt', 'lastsectionl2_cnt', 'prac_sec_test4', 'section_cnt', 'sectionl1_cnt', 'table_cnt', 'lastsectionl1_cnt', 'chapter_cnt', 'lastsection_cnt', 'lastsectionl3_cnt', 'equation_cnt', 'lasttable_cnt', 'lastequation_cnt', 'lastchapter_cnt', 'ipyrefname']\n",
      "[1, 1, False, 1, '9.3 Practical Section Test3', '9.2 Practical Section Test2', '9.1 Practical Section Test1', 1, 1, '9.4 Practical Section Test4', 5, 1, 1, 1, 9, 5, 1, 1, 1, 1, 9, '../data/ipyref.txt']\n",
      "id prac_sec_test1 use class prac_sec_test1\n"
     ]
    }
   ],
   "source": [
    "import pickle\n",
    "from incfunc import init_ipyref_filename, ipy_label, ipy_ref\n",
    "from ipywidgets import widgets\n",
    "\n",
    "ipyrefname=init_ipyref_filename()\n",
    "\n",
    "try:\n",
    "    init_ipyref\n",
    "except NameError:\n",
    "    f = open(ipyrefname, 'rb')\n",
    "    sdict = pickle.load(f)\n",
    "    f.close()\n",
    "    print 'loaded', ipyrefname\n",
    "else :\n",
    "    print \"Running through mainlist for updating reference\"\n",
    "\n",
    "print sdict.keys()\n",
    "print sdict.values()\n",
    "    \n",
    "idstr='prac_sec_test1'\n",
    "\n",
    "#ipy_label(sdict, cntname, labelstr, titlestr)\n",
    "titlestr='Practical Section Test1'\n",
    "ipy_label(sdict, 'section', idstr, titlestr)\n",
    "\n",
    "#sval1 = widgets.Label(sdict[idstr])\n",
    "#widgets.PlaceProxy(child=sval1, selector='.foobar')\n",
    "stval={}\n",
    "ipy_ref(sdict, idstr, stval)\n",
    "widgets.PlaceProxy(child=stval['child'], selector=('.'+stval['class'])) "
   ]
  },
  {
   "cell_type": "markdown",
   "metadata": {
    "deletable": true,
    "editable": true
   },
   "source": [
    "## <a class='prac_sec_test1' id='prac_sec_test1'></a>\n",
    "\n",
    "Insert the section test1 text here."
   ]
  },
  {
   "cell_type": "code",
   "execution_count": 10,
   "metadata": {
    "collapsed": false,
    "deletable": true,
    "editable": true
   },
   "outputs": [
    {
     "name": "stdout",
     "output_type": "stream",
     "text": [
      "id prac_sec_test2 use class prac_sec_test2\n"
     ]
    }
   ],
   "source": [
    "\n",
    "idstr='prac_sec_test2'\n",
    "titlestr='Practical Section Test2'\n",
    "ipy_label(sdict, 'section', idstr, titlestr)\n",
    "\n",
    "#sval2 = widgets.Label(sdict[idstr])\n",
    "#widgets.PlaceProxy(child=sval2, selector='.foobar2')\n",
    "stval={}\n",
    "ipy_ref(sdict, idstr, stval)\n",
    "widgets.PlaceProxy(child=stval['child'], selector=('.'+stval['class'])) \n",
    "#print sdict.keys()"
   ]
  },
  {
   "cell_type": "markdown",
   "metadata": {
    "deletable": true,
    "editable": true
   },
   "source": [
    "## <a class='prac_sec_test2' id='prac_sec_test2'></a>\n",
    "\n",
    "Insert the section test2 text here."
   ]
  },
  {
   "cell_type": "code",
   "execution_count": 11,
   "metadata": {
    "collapsed": false,
    "deletable": true,
    "editable": true,
    "scrolled": false
   },
   "outputs": [
    {
     "name": "stdout",
     "output_type": "stream",
     "text": [
      "1\n",
      "['figure_cnt', 'sectionl2_cnt', 'update_ipyref', 'lastfigure_cnt', 'prac_sec_test3', 'prac_sec_test2', 'prac_sec_test1', 'sectionl3_cnt', 'lastsectionl2_cnt', 'prac_sec_test4', 'section_cnt', 'sectionl1_cnt', 'table_cnt', 'lastsectionl1_cnt', 'chapter_cnt', 'lastsection_cnt', 'lastsectionl3_cnt', 'equation_cnt', 'lasttable_cnt', 'lastequation_cnt', 'lastchapter_cnt', 'ipyrefname']\n",
      "[1, 1, False, 1, '9.3 Practical Section Test3', '9.2 Practical Section Test2', '9.1 Practical Section Test1', 1, 1, '9.4 Practical Section Test4', 5, 1, 1, 1, 9, 5, 1, 1, 1, 1, 9, '../data/ipyref.txt']\n",
      "2\n",
      "['figure_cnt', 'sectionl2_cnt', 'update_ipyref', 'lastfigure_cnt', 'prac_sec_test3', 'prac_sec_test2', 'prac_sec_test1', 'sectionl3_cnt', 'lastsectionl2_cnt', 'prac_sec_test4', 'section_cnt', 'sectionl1_cnt', 'table_cnt', 'lastsectionl1_cnt', 'chapter_cnt', 'lastsection_cnt', 'lastsectionl3_cnt', 'equation_cnt', 'lasttable_cnt', 'lastequation_cnt', 'lastchapter_cnt', 'ipyrefname']\n",
      "[1, 1, False, 1, '9.3 Practical Section Test3', '9.2 Practical Section Test2', '9.1 Practical Section Test1', 1, 1, '9.4 Practical Section Test4', 5, 1, 1, 1, 9, 5, 1, 1, 1, 1, 9, '../data/ipyref.txt']\n",
      "3\n",
      "['figure_cnt', 'sectionl2_cnt', 'update_ipyref', 'lastfigure_cnt', 'prac_sec_test3', 'prac_sec_test2', 'prac_sec_test1', 'sectionl3_cnt', 'lastsectionl2_cnt', 'prac_sec_test4', 'section_cnt', 'sectionl1_cnt', 'table_cnt', 'lastsectionl1_cnt', 'chapter_cnt', 'lastsection_cnt', 'lastsectionl3_cnt', 'equation_cnt', 'lasttable_cnt', 'lastequation_cnt', 'lastchapter_cnt', 'ipyrefname']\n",
      "[1, 1, False, 1, '9.3 Practical Section Test3', '9.2 Practical Section Test2', '9.1 Practical Section Test1', 1, 1, '9.4 Practical Section Test4', 5, 1, 1, 1, 9, 5, 1, 1, 1, 1, 9, '../data/ipyref.txt']\n",
      "4\n",
      "['figure_cnt', 'sectionl2_cnt', 'update_ipyref', 'lastfigure_cnt', 'prac_sec_test3', 'prac_sec_test2', 'prac_sec_test1', 'sectionl3_cnt', 'lastsectionl2_cnt', 'prac_sec_test4', 'section_cnt', 'sectionl1_cnt', 'table_cnt', 'lastsectionl1_cnt', 'chapter_cnt', 'lastsection_cnt', 'lastsectionl3_cnt', 'equation_cnt', 'lasttable_cnt', 'lastequation_cnt', 'lastchapter_cnt', 'ipyrefname']\n",
      "[1, 1, False, 1, '9.3 Practical Section Test3', '9.2 Practical Section Test2', '9.1 Practical Section Test1', 1, 1, '9.4 Practical Section Test4', 5, 1, 1, 1, 9, 5, 1, 1, 1, 1, 9, '../data/ipyref.txt']\n",
      "5\n",
      "['figure_cnt', 'sectionl2_cnt', 'update_ipyref', 'lastfigure_cnt', 'prac_sec_test3', 'prac_sec_test2', 'prac_sec_test1', 'sectionl3_cnt', 'lastsectionl2_cnt', 'prac_sec_test4', 'section_cnt', 'sectionl1_cnt', 'table_cnt', 'lastsectionl1_cnt', 'chapter_cnt', 'lastsection_cnt', 'lastsectionl3_cnt', 'equation_cnt', 'lasttable_cnt', 'lastequation_cnt', 'lastchapter_cnt', 'ipyrefname']\n",
      "[1, 1, False, 1, '9.3 Practical Section Test3', '9.2 Practical Section Test2', '9.1 Practical Section Test1', 1, 1, '9.4 Practical Section Test4', 5, 1, 1, 1, 9, 5, 1, 1, 1, 1, 9, '../data/ipyref.txt']\n",
      "6\n",
      "['figure_cnt', 'sectionl2_cnt', 'update_ipyref', 'lastfigure_cnt', 'prac_sec_test3', 'prac_sec_test2', 'prac_sec_test1', 'sectionl3_cnt', 'lastsectionl2_cnt', 'prac_sec_test4', 'section_cnt', 'sectionl1_cnt', 'table_cnt', 'lastsectionl1_cnt', 'chapter_cnt', 'lastsection_cnt', 'lastsectionl3_cnt', 'equation_cnt', 'lasttable_cnt', 'lastequation_cnt', 'lastchapter_cnt', 'ipyrefname']\n",
      "[1, 1, False, 1, '9.3 Practical Section Test3', '9.2 Practical Section Test2', '9.1 Practical Section Test1', 1, 1, '9.4 Practical Section Test4', 5, 1, 1, 1, 9, 5, 1, 1, 1, 1, 9, '../data/ipyref.txt']\n",
      "7\n",
      "['figure_cnt', 'sectionl2_cnt', 'update_ipyref', 'lastfigure_cnt', 'prac_sec_test3', 'prac_sec_test2', 'prac_sec_test1', 'sectionl3_cnt', 'lastsectionl2_cnt', 'prac_sec_test4', 'section_cnt', 'sectionl1_cnt', 'table_cnt', 'lastsectionl1_cnt', 'chapter_cnt', 'lastsection_cnt', 'lastsectionl3_cnt', 'equation_cnt', 'lasttable_cnt', 'lastequation_cnt', 'lastchapter_cnt', 'ipyrefname']\n",
      "[1, 1, False, 1, '9.3 Practical Section Test3', '9.2 Practical Section Test2', '9.1 Practical Section Test1', 1, 1, '9.4 Practical Section Test4', 5, 1, 1, 1, 9, 5, 1, 1, 1, 1, 9, '../data/ipyref.txt']\n",
      "8\n",
      "['figure_cnt', 'sectionl2_cnt', 'update_ipyref', 'lastfigure_cnt', 'prac_sec_test3', 'prac_sec_test2', 'prac_sec_test1', 'sectionl3_cnt', 'lastsectionl2_cnt', 'prac_sec_test4', 'section_cnt', 'sectionl1_cnt', 'table_cnt', 'lastsectionl1_cnt', 'chapter_cnt', 'lastsection_cnt', 'lastsectionl3_cnt', 'equation_cnt', 'lasttable_cnt', 'lastequation_cnt', 'lastchapter_cnt', 'ipyrefname']\n",
      "[1, 1, False, 1, '9.3 Practical Section Test3', '9.2 Practical Section Test2', '9.1 Practical Section Test1', 1, 1, '9.4 Practical Section Test4', 5, 1, 1, 1, 9, 5, 1, 1, 1, 1, 9, '../data/ipyref.txt']\n",
      "9\n",
      "['figure_cnt', 'sectionl2_cnt', 'update_ipyref', 'lastfigure_cnt', 'prac_sec_test3', 'prac_sec_test2', 'prac_sec_test1', 'sectionl3_cnt', 'lastsectionl2_cnt', 'prac_sec_test4', 'section_cnt', 'sectionl1_cnt', 'table_cnt', 'lastsectionl1_cnt', 'chapter_cnt', 'lastsection_cnt', 'lastsectionl3_cnt', 'equation_cnt', 'lasttable_cnt', 'lastequation_cnt', 'lastchapter_cnt', 'ipyrefname']\n",
      "[1, 1, False, 1, '9.3 Practical Section Test3', '9.2 Practical Section Test2', '9.1 Practical Section Test1', 1, 1, '9.4 Practical Section Test4', 5, 1, 1, 1, 9, 5, 1, 1, 1, 1, 9, '../data/ipyref.txt']\n"
     ]
    }
   ],
   "source": [
    "for i in range(1,10):\n",
    "    print i\n",
    "    print sdict.keys()\n",
    "    print sdict.values()"
   ]
  },
  {
   "cell_type": "code",
   "execution_count": 12,
   "metadata": {
    "collapsed": false,
    "deletable": true,
    "editable": true
   },
   "outputs": [
    {
     "name": "stdout",
     "output_type": "stream",
     "text": [
      "id prac_sec_test3 use class prac_sec_test3\n"
     ]
    }
   ],
   "source": [
    "idstr='prac_sec_test3'\n",
    "\n",
    "stval={}\n",
    "ipy_ref(sdict, idstr, stval)\n",
    "widgets.PlaceProxy(child=stval['child'], selector=('.'+stval['class'])) "
   ]
  },
  {
   "cell_type": "markdown",
   "metadata": {
    "deletable": true,
    "editable": true
   },
   "source": [
    "***\n",
    "\n",
    "Next : <a class='prac_sec_test3' href='../9_Practical/practical_im.ipynb#prac_sec_test3' title='Text to display'></a>"
   ]
  }
 ],
 "metadata": {
  "kernelspec": {
   "display_name": "Python 2",
   "language": "python",
   "name": "python2"
  },
  "language_info": {
   "codemirror_mode": {
    "name": "ipython",
    "version": 2
   },
   "file_extension": ".py",
   "mimetype": "text/x-python",
   "name": "python",
   "nbconvert_exporter": "python",
   "pygments_lexer": "ipython2",
   "version": "2.7.6"
  },
  "widgets": {
   "state": {
    "18e0150e55254722aee5583b9a07bbfa": {
     "views": [
      {
       "cell_index": 0
      }
     ]
    },
    "63e716ac53024c51a0a7bf8298661763": {
     "views": [
      {
       "cell_index": 5
      }
     ]
    },
    "c039db179b364a7ca315fef97be99099": {
     "views": [
      {
       "cell_index": 2
      }
     ]
    }
   },
   "version": "1.2.0"
  }
 },
 "nbformat": 4,
 "nbformat_minor": 2
}
