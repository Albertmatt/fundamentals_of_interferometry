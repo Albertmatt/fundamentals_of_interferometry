{
 "cells": [
  {
   "cell_type": "code",
   "execution_count": null,
   "metadata": {
    "collapsed": false
   },
   "outputs": [],
   "source": [
    "import numpy as np\n",
    "import matplotlib.pyplot as pylab\n",
    "%matplotlib inline\n",
    "from IPython.display import Image"
   ]
  },
  {
   "cell_type": "markdown",
   "metadata": {},
   "source": [
    "***\n",
    "\n",
    "* [Outline](../0_Introduction/0_introduction.ipynb)\n",
    "* [Glossary](../0_Introduction/1_glossary.ipynb)\n",
    "* [1. Radio Science using Interferometric Arrays](#)  \n",
    "    * Previous: [1.2.2 Radiation Transport](1_2_2_Radiation_transport.ipynb)\n",
    "    * Next: [1.2.4 Blackbody Emission](1_2_4_black_body_radiation.ipynb)\n",
    "***"
   ]
  },
  {
   "cell_type": "markdown",
   "metadata": {
    "collapsed": true
   },
   "source": [
    "#### 1.2.3 Radio Regime"
   ]
  },
  {
   "cell_type": "markdown",
   "metadata": {},
   "source": [
    "All of us are familiar with the night sky. In fact, when we think of astronomy, the first picture that comes to mind is that of the star-strewn sky (with a few planets thrown in). People looking at less light-poluted skies are also able to make out details such as the milky band of our own galaxy. \n",
    "\n",
    "We must remember that this view of the sky is a results of the natural limits of our vision - we can only perceive radiation in a narrow range in wavelength. We can't see beyond infrared or ultraviolet frequencies. This is the reason the earliest advances in astronomy were in visible range - the branch of astronomy known as optical astronomy.\n",
    "\n",
    "However, over time we have been successful in sampling a large range of the electromagnetic spectrum. On one end is Gamma-ray astronomy, where individual photons have much larger energy than those in the visible range (and correspondingly much higher frequency) but far fewer numbers. On the other end is radio astronomy, where the photons are plentiful, but their individual energy is much smaller, with much smaller frequency than those in the visible range. \n",
    "\n",
    "The sky at radio frequencies is very different from that at the optical frequncies. Take for example, some of the brightest objects in the radio sky. One of them is a supernova remnant, called Cassiopea A (or 'Cas A'). Through optical telescopes, all we see is:"
   ]
  },
  {
   "cell_type": "code",
   "execution_count": null,
   "metadata": {
    "collapsed": false
   },
   "outputs": [],
   "source": [
    "Image(filename='Figures/CasA.jpg', width=300)"
   ]
  },
  {
   "cell_type": "code",
   "execution_count": null,
   "metadata": {
    "collapsed": true
   },
   "outputs": [],
   "source": [
    "If we look at it at radio frequencies, however, we see much more detail:"
   ]
  },
  {
   "cell_type": "markdown",
   "metadata": {
    "collapsed": true
   },
   "source": [
    "***\n",
    "Next: [1.2.4 Blackbody Emission](1_2_4_black_body_emission.ipynb)\n"
   ]
  }
 ],
 "metadata": {
  "kernelspec": {
   "display_name": "Python 2",
   "language": "python",
   "name": "python2"
  },
  "language_info": {
   "codemirror_mode": {
    "name": "ipython",
    "version": 2
   },
   "file_extension": ".py",
   "mimetype": "text/x-python",
   "name": "python",
   "nbconvert_exporter": "python",
   "pygments_lexer": "ipython2",
   "version": "2.7.6"
  }
 },
 "nbformat": 4,
 "nbformat_minor": 0
}
