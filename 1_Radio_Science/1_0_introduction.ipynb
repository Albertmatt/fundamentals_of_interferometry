{
 "cells": [
  {
   "cell_type": "markdown",
   "metadata": {},
   "source": [
    "***\n",
    "\n",
    "* [Outline](../0_Introduction/0_introduction.ipynb)\n",
    "* [Glossary](../0_Introduction/1_glossary.ipynb)\n",
    "* [1. Radio Science using Interferometric Arrays](#)  \n",
    "    * Next: [1.1 A Brief Introduction to Interferometry and its History](1_1_a_brief_introduction_to_interferometry.ipynb)\n",
    "\n",
    "***"
   ]
  },
  {
   "cell_type": "markdown",
   "metadata": {},
   "source": [
    "Import standard modules:"
   ]
  },
  {
   "cell_type": "code",
   "execution_count": 1,
   "metadata": {
    "collapsed": false,
    "scrolled": true
   },
   "outputs": [
    {
     "data": {
      "text/html": [
       "<style>\n",
       "\n",
       "p.prerequisites {\n",
       "    border:5px;\n",
       "    border-style:none;\n",
       "    background-color:#F0F0F0;\n",
       "    box-shadow: 5px 5px 2px #888888;\n",
       "    border-color:#FF0000;\n",
       "    padding: 1em;\n",
       "    }\n",
       "\n",
       "p.conclusion {\n",
       "    border:5px;\n",
       "    border-style:none;\n",
       "    background-color:#c8ebca;\n",
       "    box-shadow: 5px 5px 2px #888888;\n",
       "    border-color:#c8ebca;\n",
       "    padding: 1em;\n",
       "    }\n",
       "\n",
       "div.warn {    \n",
       "    background-color: #fcf2f2;\n",
       "    border-color: #dFb5b4;\n",
       "    border-left: 5px solid #dfb5b4;\n",
       "    padding: 0.5em;\n",
       "    }\n",
       "\n",
       "div.advice {    \n",
       "    background-color: #ecf8ed;\n",
       "    border-color: #a2dda5;\n",
       "    border-left: 5px solid #a2dda5;\n",
       "    padding: 0.5em;\n",
       "    }\n",
       "\n",
       "</style>\n",
       "\n"
      ],
      "text/plain": [
       "<IPython.core.display.HTML object>"
      ]
     },
     "execution_count": 1,
     "metadata": {},
     "output_type": "execute_result"
    }
   ],
   "source": [
    "import numpy as np\n",
    "import matplotlib.pyplot as plt\n",
    "%matplotlib inline\n",
    "from IPython.display import HTML \n",
    "HTML('../style/course.css') #apply general CSS"
   ]
  },
  {
   "cell_type": "code",
   "execution_count": 2,
   "metadata": {
    "collapsed": false
   },
   "outputs": [
    {
     "data": {
      "text/html": [
       "<script>\n",
       "    code_show=false; \n",
       "    function code_toggle() {\n",
       "        if (code_show){\n",
       "            $('div.input').hide();\n",
       "        } else {\n",
       "            $('div.input').show();\n",
       "        }\n",
       "        code_show = !code_show\n",
       "    } \n",
       "    $( document ).ready(code_toggle);\n",
       "</script>\n",
       "\n",
       "The raw code for this notebook is by default hidden for easier reading. To toggle on/off the raw code, click <a href=\"javascript:code_toggle()\">here</a>.\n",
       "\n"
      ],
      "text/plain": [
       "<IPython.core.display.HTML object>"
      ]
     },
     "execution_count": 2,
     "metadata": {},
     "output_type": "execute_result"
    }
   ],
   "source": [
    "HTML('../style/code_toggle.html')"
   ]
  },
  {
   "cell_type": "markdown",
   "metadata": {},
   "source": [
    "# Chapter 1: Radio Science using Interferometric Arrays<a id='science:sec:intro'></a>"
   ]
  },
  {
   "cell_type": "markdown",
   "metadata": {},
   "source": [
    "Using interferometric arrays for science is often talked about as 'black magic' which is more art than science. This should not be the case, the topic can be difficult and is fairly unique to astronomy. There are a few similarities to other fields of physics, but it is a subject which is based in fundamental concepts of mathematics. We should not be scared. There is certainly an advantage to building up intuition which comes about from exposure to building interferometric arrays and using the observed data to recover scientific signals. That all comes with time. The focus of this book is to start from a point of interest in the subject and get us to a place where we are comfortable enough in the fundamentals that we can move onto the unique complexities that arise in the use of these arrays.\n",
    "\n",
    "Producing images, and by extension science, from interferometric arrays is usually poorly introduced. There are reference books which require a working knowledge of the subject to use, or there is a small section of introduction to radio astronomy books which gloss over the concepts of actually using interferometric arrays. When synthesis imaging and interferometry is taught it is usually in a whirwind one or two week workshop which a flood of new concepts are introduced by a range of lecturers. This leads to confusion and contradictions which leave the student broadly with the idea that the whole process of producing images from interferometric arrays is a type of black art left to a priviledged few to understand. But, this should not be the case. Granted, the topics can be difficult given that they are particular to the field, but they are based on universal mathematical and physical concepts. The hope of this book is to bridge the gap between those with a broad understanding of mathematics and astronomy to the concepts of interferometry.\n",
    "\n",
    "Throughout this book, it is important to remember that interferometry it used to produce a 'synthesized' image of the sky by combining many individual telescopes into a single 'synthesized' telescope. This is different than what we typically think of as astronomy with telescopes because in the radio domain there are a number of engineering and physical limitations at work with require different solutions. But, a synthezised telescope is closely related to a typical telescope, though the details often obscure this.\n",
    "\n",
    "Before we introduce the fundamental concepts of interferometry we will lay some ground work to motivate the topic. In this chapter we will provide a survey of the type of science done with interferometers, the advantage to using interferometric arrays, and the types of arrays currently in use. Chapter 2 provides an overview of the mathematics which are common in interferometry, this chapter will be a useful reference for the chapters which follow."
   ]
  },
  {
   "cell_type": "markdown",
   "metadata": {},
   "source": [
    "#### Chapter Sections\n",
    "\n",
    "1. [A Brief Introduction to Interferometry and its History](1_1_a_brief_introduction_to_interferometry.ipynb)\n",
    "2. [An Introduction to Basic Astrophysics](1_2_an_introduction_to_basic_astrophysics.ipynb)\n",
    "    1. [Definitions](1_2_0_definitions.ipynb) \n",
    "    2. [Electromagnetic radiation](1_2_1_electromagnetic_radiation.ipynb) \n",
    "    3. [Radiation Transport](1_2_2_Radiation_transport.ipynb) \n",
    "    4. [Radio Regime](1_2_3_Radio_Regime.ipynb)\n",
    "    5. [Black Body Radiation](1_2_4_black_body_radiation.ipynb) \n",
    "    6. [Synchrotron Emission](1_2_5_synchrotron_emission.ipynb) \n",
    "    7. [21 cm Line](1_2_6_21_cm.ipynb) \n",
    "3. [The Limits of Single Dish Astronomy](1_3_limits_of_single_dishes.ipynb)\n",
    "4. [Modern Interferometric Arrays](1_4_arrays_diversity_and_uses.ipynb)\n",
    "5. [Further Reading and References](1_x_further_reading_and_references.ipynb)"
   ]
  },
  {
   "cell_type": "markdown",
   "metadata": {},
   "source": [
    "### Chapter Editors\n",
    "* Alexander Akoto-Danso \n",
    "* Ermias Abebe Kassaye\n",
    "* Kshitij Thorat\n",
    "* Griffin Foster\n",
    "* Tariq Blecher\n",
    "\n",
    "#### Chapter Contributors\n",
    "\n",
    "* Griffin Foster (**1.0**, **1.3**, **1.4**)\n",
    "* Oleg Smirnov (**1.1**)\n",
    "* Gyula Jozsa (**1.2.A**, **1.2.B**, **1.2.F**, **1.2.G**)\n",
    "* Kshitij Thorat (**1.2**, **1.2.C**, **1.2.D**, **1.2.E**)\n",
    "* Julien Girard (**1.3**)"
   ]
  },
  {
   "cell_type": "markdown",
   "metadata": {},
   "source": [
    "***\n",
    "\n",
    "Next: [1.1 A Brief Introduction to Interferometry and its History](1_1_a_brief_introduction_to_interferometry.ipynb)"
   ]
  }
 ],
 "metadata": {
  "kernelspec": {
   "display_name": "Python 2",
   "language": "python",
   "name": "python2"
  },
  "language_info": {
   "codemirror_mode": {
    "name": "ipython",
    "version": 2
   },
   "file_extension": ".py",
   "mimetype": "text/x-python",
   "name": "python",
   "nbconvert_exporter": "python",
   "pygments_lexer": "ipython2",
   "version": "2.7.6"
  }
 },
 "nbformat": 4,
 "nbformat_minor": 0
}
