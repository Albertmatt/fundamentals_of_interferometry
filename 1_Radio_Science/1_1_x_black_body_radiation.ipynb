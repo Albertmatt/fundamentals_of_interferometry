{
 "cells": [
  {
   "cell_type": "code",
   "execution_count": 40,
   "metadata": {
    "collapsed": false
   },
   "outputs": [],
   "source": [
    "import numpy as np\n",
    "import matplotlib.pyplot as plt\n",
    "import glob,os\n",
    "%matplotlib inline\n",
    "from IPython.display import Image \n",
    "from scipy.constants import *\n"
   ]
  },
  {
   "cell_type": "markdown",
   "metadata": {},
   "source": [
    "***\n",
    "\n",
    "* [Outline](../0_Introduction/0_introduction.ipynb)\n",
    "* [Glossary](../0_Introduction/1_glossary.ipynb)\n",
    "* [1. Radio Science using Interferometric Arrays](#)  \n",
    "    * Previous: [1.0 Introduction](1_0_introduction.ipynb)\n",
    "    * Next: [1.2 Further Reading and References](1_x_further_reading_and_references.ipynb)\n",
    "\n",
    "***"
   ]
  },
  {
   "cell_type": "markdown",
   "metadata": {},
   "source": [
    "### 1.1.x Blackbody Emission:"
   ]
  },
  {
   "cell_type": "markdown",
   "metadata": {
    "collapsed": false
   },
   "source": [
    "Planck Spectrum:\n",
    "$$ B_{\\nu}(T)=\\frac{2h\\nu^{3}}{c^{2}} \\frac{1}{e^{\\frac{h\\nu}{kT}}-1}$$"
   ]
  },
  {
   "cell_type": "markdown",
   "metadata": {
    "collapsed": true
   },
   "source": [
    "Wien's Approximtion: $h\\nu << kT$\n",
    "$$B_{\\nu}(T)= \\frac{2h\\nu^{3}}{c^{2}} e^{\\frac{-h\\nu}{kT}}$$ "
   ]
  },
  {
   "cell_type": "code",
   "execution_count": 33,
   "metadata": {
    "collapsed": false
   },
   "outputs": [],
   "source": [
    "def B_v(T):\n",
    "    '''Function to calculate brightness distribution of black\n",
    "    body radiation at a given temperature. T is in Kelvins and frequency \n",
    "    is in Hertz'''\n",
    "    #Use Wien's displacement law to find the frequency range for given Temperature.\n",
    "    # nu_max(in GHz) = 58.789*T(in Kelvin)\n",
    "    nu_max=58.79*T\n",
    "    freq=np.arange(1,2000,1)\n",
    "    freq=freq*nu_max/500.0\n",
    "    B = (2*h/c**2.0)*np.exp(-h*freq*10**9/(k*T))*(freq*10**9)**3\n",
    "    #Change units for plotting to Jansky\n",
    "    # 1 Jansky = 10^-26 W/m^2 Hz\n",
    "    B = B*10**26\n",
    "    return B\n",
    "        "
   ]
  },
  {
   "cell_type": "code",
   "execution_count": 39,
   "metadata": {
    "collapsed": false
   },
   "outputs": [
    {
     "data": {
      "text/plain": [
       "<matplotlib.text.Text at 0x7f2ff8ae1d10>"
      ]
     },
     "execution_count": 39,
     "metadata": {},
     "output_type": "execute_result"
    },
    {
     "data": {
      "image/png": "[encoded data removed]",
      "text/plain": [
       "<matplotlib.figure.Figure at 0x7f2ff8d5fd10>"
      ]
     },
     "metadata": {},
     "output_type": "display_data"
    }
   ],
   "source": [
    "T = 2.725 #In Kelvin\n",
    "freq = np.arange(1,2000,1)\n",
    "freq = freq*58.79*T/500.0\n",
    "B_p = B_v(T)\n",
    "fig,ax = plt.subplots()\n",
    "ax.plot(freq,B_p)\n",
    "ax.set_xlabel(\"Frequency (GHz)\")\n",
    "ax.set_ylabel(\"Spectral Radiance ($Jy/sr$)\")\n",
    "ax.set_title(\"Blackbody Spectral Distribution\")"
   ]
  },
  {
   "cell_type": "markdown",
   "metadata": {},
   "source": [
    "The above distribution is for a temperature of 2.725 K, approximately the same as that of the famous Cosmic Microwave Background. "
   ]
  },
  {
   "cell_type": "markdown",
   "metadata": {},
   "source": [
    "Link with brighness temperature etc."
   ]
  },
  {
   "cell_type": "code",
   "execution_count": null,
   "metadata": {
    "collapsed": true
   },
   "outputs": [],
   "source": []
  }
 ],
 "metadata": {
  "kernelspec": {
   "display_name": "Python 2",
   "language": "python",
   "name": "python2"
  },
  "language_info": {
   "codemirror_mode": {
    "name": "ipython",
    "version": 2
   },
   "file_extension": ".py",
   "mimetype": "text/x-python",
   "name": "python",
   "nbconvert_exporter": "python",
   "pygments_lexer": "ipython2",
   "version": "2.7.6"
  }
 },
 "nbformat": 4,
 "nbformat_minor": 0
}
