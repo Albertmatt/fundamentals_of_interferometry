{
 "cells": [
  {
   "cell_type": "code",
   "execution_count": 1,
   "metadata": {
    "collapsed": false,
    "scrolled": true
   },
   "outputs": [
    {
     "name": "stderr",
     "output_type": "stream",
     "text": [
      "/home/kshitij/.virtualenv/fundamentals/local/lib/python2.7/site-packages/matplotlib/font_manager.py:273: UserWarning: Matplotlib is building the font cache using fc-list. This may take a moment.\n",
      "  warnings.warn('Matplotlib is building the font cache using fc-list. This may take a moment.')\n"
     ]
    }
   ],
   "source": [
    "import numpy as np\n",
    "import matplotlib.pyplot as pylab\n",
    "import glob,os\n",
    "%matplotlib inline"
   ]
  },
  {
   "cell_type": "markdown",
   "metadata": {},
   "source": [
    "***\n",
    "\n",
    "* [Outline](../0_Introduction/0_introduction.ipynb)\n",
    "* [Glossary](../0_Introduction/1_glossary.ipynb)\n",
    "* [1. Radio Science using Interferometric Arrays](#)  \n",
    "    * Previous: [1.0 Introduction](1_0_introduction.ipynb)\n",
    "    * Next: [1.2 Further Reading and References](1_x_further_reading_and_references.ipynb)\n",
    "\n",
    "***"
   ]
  },
  {
   "cell_type": "markdown",
   "metadata": {},
   "source": [
    "### Topics:\n",
    "   1. [Electromagnetic radiation](1_1_0_electromagnetic_radiation.ipynb) \n",
    "   2. [Intensity, Flux Density, Brightness Temperature](1_1_0_intensity_flux_density_brightness.ipynb)\n",
    "   3. [Radiation Transport]()\n",
    "   4. [Radio Regime]()\n",
    "   5. Emission Mechanisms:\n",
    "   \n",
    "      1. Continuum Emission\n",
    "         \n",
    "         1. [Synchrotron Emission](1_1_x_synchrotron_emission.ipynb)\n",
    "         2. [Black Body Radiation](1_1_x_black_body_radiation.ipynb)\n",
    "         3. [Inverse Compton Radiation](1_1_x_inverse_compton_radiation.ipynb)\n",
    "         4. [Bremsstrahlung Radiation](1_1_x_bremsstrahlung_radiation.ipynb)\n",
    "      2. Line Emission\n",
    "         \n",
    "         1. [Recombination Lines](1_1_x_recombination_lines.ipynb)\n",
    "         2. [Molecular Lines](1_1_x_molecular_lines.ipynb)\n",
    "         3. [21 cm Line](1_1_x_21_cm.ipynb)"
   ]
  },
  {
   "cell_type": "code",
   "execution_count": null,
   "metadata": {
    "collapsed": true
   },
   "outputs": [],
   "source": []
  }
 ],
 "metadata": {
  "kernelspec": {
   "display_name": "Python 2",
   "language": "python",
   "name": "python2"
  },
  "language_info": {
   "codemirror_mode": {
    "name": "ipython",
    "version": 2
   },
   "file_extension": ".py",
   "mimetype": "text/x-python",
   "name": "python",
   "nbconvert_exporter": "python",
   "pygments_lexer": "ipython2",
   "version": "2.7.6"
  }
 },
 "nbformat": 4,
 "nbformat_minor": 0
}
