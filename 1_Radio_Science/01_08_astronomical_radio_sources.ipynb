{
 "cells": [
  {
   "cell_type": "markdown",
   "metadata": {},
   "source": [
    "***\n",
    "\n",
    "* [Outline](../0_Introduction/0_introduction.ipynb)\n",
    "* [Glossary](../0_Introduction/1_glossary.ipynb)\n",
    "* [1. Radio Science using Interferometric Arrays](01_00_introduction.ipynb)\n",
    "    * Previous: [1.7 Line emission](01_07_line_emission.ipynb)\n",
    "    * Next: [1.9 A brief introduction to interferometry](01_09_a_brief_introduction_to_interferometry.ipynb)\n",
    "***"
   ]
  },
  {
   "cell_type": "markdown",
   "metadata": {},
   "source": [
    "Import standard modules:"
   ]
  },
  {
   "cell_type": "code",
   "execution_count": null,
   "metadata": {
    "collapsed": false
   },
   "outputs": [],
   "source": [
    "import numpy as np\n",
    "import matplotlib.pyplot as plt\n",
    "%matplotlib inline\n",
    "from IPython.display import HTML \n",
    "HTML('../style/course.css') #apply general CSS"
   ]
  },
  {
   "cell_type": "markdown",
   "metadata": {},
   "source": [
    "Import section specific modules:"
   ]
  },
  {
   "cell_type": "code",
   "execution_count": null,
   "metadata": {
    "collapsed": true
   },
   "outputs": [],
   "source": [
    "pass"
   ]
  },
  {
   "cell_type": "markdown",
   "metadata": {},
   "source": [
    "## 1.8 Astronomical radio sources<a id='science:sec:astronomical_radio_sources'></a>"
   ]
  },
  {
   "cell_type": "markdown",
   "metadata": {},
   "source": [
    "The field of radio astronomy is extremely broad. In principle radio astronomy cannot be isolated from astronomy at any other wavelength, as only an overview of the complete spectral properties of certain object can give us the required information to investigate their nature. Nevertheless, there are some objects on which a lot of investigative time in the scope of radio observations is spent. Here, we list a few of them. Their detailed study is, in most cases, a complete topic covered in other literature.\n",
    "\n",
    "* The Sun\n",
    "* Planets: local and exo-\n",
    "* The cosmic microwave background (CMB)\n",
    "* Active galaxies and Quasars\n",
    "* Active galactic nuclei\n",
    "* Spiral galaxies\n",
    "* Intergalactic neutral gas\n",
    "* Galactic and extragalactic molecular clouds\n",
    "* Supernova remnants\n",
    "* Black holes\n",
    "* Merging galaxy clusters\n",
    "* Pulsars (neutron stars) and transients (RRATs, FRBs)"
   ]
  },
  {
   "cell_type": "markdown",
   "metadata": {
    "collapsed": true
   },
   "source": [
    "***\n",
    "\n",
    "* Next: [1.9 A brief introduction to interferometry](01_09_a_brief_introduction_to_interferometry.ipynb)"
   ]
  },
  {
   "cell_type": "markdown",
   "metadata": {},
   "source": [
    "<div class=warn><b>Future Additions:</b></div>\n",
    "\n",
    "* For each class of objects above describe the general observation method and observing frequency."
   ]
  }
 ],
 "metadata": {
  "kernelspec": {
   "display_name": "Python 2",
   "language": "python",
   "name": "python2"
  },
  "language_info": {
   "codemirror_mode": {
    "name": "ipython",
    "version": 2
   },
   "file_extension": ".py",
   "mimetype": "text/x-python",
   "name": "python",
   "nbconvert_exporter": "python",
   "pygments_lexer": "ipython2",
   "version": "2.7.6"
  }
 },
 "nbformat": 4,
 "nbformat_minor": 0
}
