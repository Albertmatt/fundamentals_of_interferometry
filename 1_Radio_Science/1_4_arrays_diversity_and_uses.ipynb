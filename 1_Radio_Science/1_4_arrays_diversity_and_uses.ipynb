{
 "cells": [
  {
   "cell_type": "markdown",
   "metadata": {},
   "source": [
    "***\n",
    "\n",
    "* [Outline](../0_Introduction/0_introduction.ipynb)\n",
    "* [Glossary](../0_Introduction/1_glossary.ipynb)\n",
    "* [1. Radio Science using Interferometric Arrays](1_0_introduction.ipynb)  \n",
    "    * Previous: [1.3 The Limits of Single Dish Astronomy](1_3_limits_of_single_dishes.ipynb) \n",
    "    * Next: [1.x Further Reading and References](1_x_further_reading_and_references.ipynb)\n",
    "\n",
    "***"
   ]
  },
  {
   "cell_type": "markdown",
   "metadata": {},
   "source": [
    "Import standard modules:"
   ]
  },
  {
   "cell_type": "code",
   "execution_count": null,
   "metadata": {
    "collapsed": false
   },
   "outputs": [],
   "source": [
    "import numpy as np\n",
    "import matplotlib.pyplot as plt\n",
    "%matplotlib inline\n",
    "from IPython.display import HTML \n",
    "HTML('../style/course.css') #apply general CSS"
   ]
  },
  {
   "cell_type": "markdown",
   "metadata": {},
   "source": [
    "Import section specific modules:"
   ]
  },
  {
   "cell_type": "code",
   "execution_count": null,
   "metadata": {
    "collapsed": true
   },
   "outputs": [],
   "source": [
    "import matplotlib.image as mpimg\n",
    "from IPython.display import Image"
   ]
  },
  {
   "cell_type": "code",
   "execution_count": null,
   "metadata": {
    "collapsed": false
   },
   "outputs": [],
   "source": [
    "HTML('../style/code_toggle.html')"
   ]
  },
  {
   "cell_type": "markdown",
   "metadata": {},
   "source": [
    "## 1.4 Modern Interferometric Arrays"
   ]
  },
  {
   "cell_type": "markdown",
   "metadata": {},
   "source": [
    "In the previous sections of this chapter we have covered the motivation for using interferometry to make measurements, the observable astrophysics and cosmology in the radio regime, and why interferometry is used in radio astronomy. This final section provides an overview of some of the interferometric arrays currently in use, the science goals of these projects, and future arrays in development.\n",
    "\n",
    "As the scale and cost of science in physics has grown there is a drive for international collaboration to pool  resources in order to build large, multi-purpose arrays. These arrays are meant to run as long term observatories with astronomers requesting time for a proposed projects. The prime example of this type of array is the future Square Kilometre Array (SKA). Another array type is an *ad-hoc* array such as in very-long baseline interferometry (VLBI) where single dish telescopes (or beamformed arrays) from all over the world are combined (via a signal recorder) for an observation. The recorded signals are later sent to a correlator to create an interferometric observation. There are also experiment-driven arrays which are focused on a single experimental outcome with a limited lifetime. Many of the Epoch of Reionization (EoR) arrays follow this model."
   ]
  },
  {
   "cell_type": "markdown",
   "metadata": {},
   "source": [
    "### 1.4.1 Karoo Array Telescope (MeerKAT/KAT-7)"
   ]
  },
  {
   "cell_type": "markdown",
   "metadata": {},
   "source": [
    "MeerKAT, and it's precursor KAT-7, is an South African developed observatory located in the Northern Cape of South Africa. MeerKAT will be a one of the premier telescope arrays and be central to the development of the Square Kilometre Array (SKA).\n",
    "\n",
    "The Karoo Array Telescope, or KAT-7, is a 7 dish intereferometric array. It was designed as a prototype system for the MeerKAT array (currently in construction and commissioning). KAT-7 was constructed from 2009 to 2011, and will remain running for the near future. Designed primarily as an engineering prototype it has also been used for science observations. Much of this book uses KAT-7 examples as it is simple enough to understand yet was designed with modern technology. The current status and specifications for the array can be found [here &#10548;](http://public.ska.ac.za/kat-7)."
   ]
  },
  {
   "cell_type": "code",
   "execution_count": null,
   "metadata": {
    "collapsed": false
   },
   "outputs": [],
   "source": [
    "Image(filename='figures/arrays/kat7_dish_2013.jpg')"
   ]
  },
  {
   "cell_type": "markdown",
   "metadata": {},
   "source": [
    "**Figure :** *KAT-7 prime-focus telescope. Credit: [SKA South Africa &#10548;](http://www.ska.ac.za/media/visuals/2013/2013_kat7_04.jpg)*"
   ]
  },
  {
   "cell_type": "markdown",
   "metadata": {},
   "source": [
    "Each of the elements is a 12 meter, prime-focus (the receiver is at the focal point of the dish) parabolic dish. If a single element would be used for an oberservation it would have a resolution of about a degree for the freqeuncy band the receivers operate at. The important dish specifications are in the table below.\n",
    "\n",
    "| Dish Specifications |\n",
    "|:---:|:---:|\n",
    "| Optics | Prime Focus |\n",
    "| Diameter | 12 m|\n",
    "| $\\Delta \\theta_{1.4 GHz}$ | 1.22 deg |\n",
    "\n",
    "The resolution of the dish $\\Delta \\theta_{1.4 GHz}$ (also called the primary beam) is presented at 1.4 GHz, that is the 21 cm Hydrogen hyperfine transition line. This is a common observing frequency, so it will be used as a comparision between many of the arrays in this section.\n",
    "\n",
    "The KAT-7 receiver band covers the observing range 1.2 GHz to 1.95 GHz, the digital hardware is capable of processing 256 MHz of this band instantenously, i.e. at any given time. This frequency range is called L-banb in reference to the radio communication spectrum allocation labels. The L-band receiver feed is a dual-polarization, linear system, polarization will be covered in Chapter 7. The receiver specifications are in the table below.\n",
    "\n",
    "| Recievers |\n",
    "|:---:|:---:|\n",
    "| Band | L |\n",
    "| $T_{sys}$ | $< 35 K$ |\n",
    "| Start Frequency | 1200 MHz |\n",
    "| Stop Frequency | 1950 MHz |\n",
    "| Total Bandwidth | 750 MHz |\n",
    "| Instantaneous Bandwidth | 256 MHz |\n",
    "| Fractional Bandwidth | 0.14 - 0.19 |\n",
    "| Polarization | Dual Linear |\n",
    "\n",
    "A common method to describe the bandwidth of a receiver system is to use the fractional bandwidth $\\nu_{\\textrm{frac}}$ is \n",
    "\n",
    "$$\\nu_{\\textrm{frac}} = \\frac{\\nu_f - \\nu_0}{\\nu_c}, \\quad \\nu_c = \\frac{\\nu_f + \\nu_0}{2},$$\n",
    "\n",
    "where $\\nu_f$ is the highest frequency of the band and $\\nu_0$ the lowest frequency. The center frequency $\\nu_c$ is the average of $\\nu_f$ and $\\nu_0$. The fractional bandwidth is often used to compare receivers at different frequencies as $\\nu_{\\textrm{frac}}$ is independent of frequency.\n",
    "\n",
    "The instantaneous bandwdith is split into frequency channels (or sub-bands) in digital hardware. The specifics of this channelization and band selection depend on the science observation. But for a typical 'wideband' observation the frequency channels have a bandwidth of 390 kHz.\n",
    "\n",
    "The system temperature $T_sys$ is an average measure of the sensitivity of the telescope, the lower the temperature the better, this is discussed in Chapter 7.\n",
    "\n",
    "The array layout is what would be called 'compact' in that the telescopes are close to each other, thus the synthesized KAT-7 telescope has limited resolution. As there are only 7 elements in the array the visibilty sampling (*uv* coverage) is sparse. The telescopes are randomly distributed to partially compensate for the sparseness. The topics of *uv* coverage and distribution will be covered in later chapters."
   ]
  },
  {
   "cell_type": "code",
   "execution_count": null,
   "metadata": {
    "collapsed": false
   },
   "outputs": [],
   "source": [
    "Image(filename='figures/arrays/kat7_2016_aerial.jpg')"
   ]
  },
  {
   "cell_type": "markdown",
   "metadata": {},
   "source": [
    "**Figure :** *KAT-7 array layout, located in the Northern Cape of South Africa. Credit: [SKA South Africa &#10548;](http://www.ska.ac.za/media/visuals/2016/2016_aerial_01.jpg)*"
   ]
  },
  {
   "cell_type": "markdown",
   "metadata": {},
   "source": [
    "If we think of the array as a synthesized telescope then we can think of that telescope having a maximum resolution based on the maximum baseline length, in the case of KAT-7 that is 185 meters, which at 1.4 GHz translates (via the Rayleigh criterion) to a resolution of 4.7 arc-minutes. Interetestingly, we can also think of the array as having a *minimum* resolution based on the minimum baseline length. Two elements can never be closer then their size, otherwise they would need to physically overlap. The effect of a minimum baseline, as we will see in later chapters, is that interferometric arrays are not sensitive to 'large-scale' structure, e.g. the galactic synchrotron structures. A single element telescope, which is not limited by this minimum resolution effect, can be used to [<cite data-cite='2002ASPC..278..375S'>complement interferometric observations</cite> &#10548;](http://adsabs.harvard.edu/abs/2002ASPC..278..375S).\n",
    "\n",
    "| Array Specifications |\n",
    "|:---:|:---:|\n",
    "| Number of Elements | 7 |\n",
    "| Min Baseline | 26 m |\n",
    "| Min $\\Delta \\theta_{1.4 GHz}$ | 0.56 deg |\n",
    "| Max Baseline | 185 m |\n",
    "| Max $\\Delta \\theta_{1.4 GHz}$ | 4.7' (0.08 deg) |"
   ]
  },
  {
   "cell_type": "markdown",
   "metadata": {},
   "source": [
    "The main goals of KAT-7 were engineering-driven, but a number of science results continue to be produced by observation using the array. As MeerKAT is built out and commissioned KAT-7 projects will come to a close. As of this writing the MeerKAT array is under construction, [check here &#10548;](http://www.ska.ac.za/meerkat/index.php) for the current status and main scientific project plan."
   ]
  },
  {
   "cell_type": "code",
   "execution_count": null,
   "metadata": {
    "collapsed": false
   },
   "outputs": [],
   "source": [
    "Image(filename='figures/arrays/meerkat_dish_2015.jpg')"
   ]
  },
  {
   "cell_type": "markdown",
   "metadata": {},
   "source": [
    "**Figure :** *MeerKAT offset-Gregorian telescope, without the feed system instelled. Credit: [SKA South Africa &#10548;](http://www.ska.ac.za/media/visuals/2015/2015_meerkat_03.jpg)*"
   ]
  },
  {
   "cell_type": "markdown",
   "metadata": {},
   "source": [
    "The 13.5 meter MeerKAT dish is markedly different from the prime-focus KAT-7 design. The MeerKAT dish has offset Gregorian optics, the results in a 'better' beam pattern. Different optics and beam patterns is discussed in Chapter 7. This optics design will be the basis for the mid-frequency SKA dishes.\n",
    "\n",
    "| Dish Specifications |\n",
    "|:---:|:---:|\n",
    "| Optics | Offset Gregorian |\n",
    "| Diameter | 13.5 m|\n",
    "| $\\Delta \\theta_{1.4 GHz}$ | 1.09 deg |\n",
    "\n",
    "There are currently two tested receiver bands for MeerKAT, and L-Band receiver similar to KAT-7 and a lower frequency Ultra High Frequency (UHF) receiver. Both recevier bandwidths are fully sampled by the digital hardware leading to an instantaneous bandwidth which is larger than the total bandwidth. We only consider the total bandwidth as the digital bandwidth will sample a region of the frequency band with no signal as those regions have been filtered out.\n",
    "\n",
    "| Receivers |\n",
    "|:---:|:---:|:---:|\n",
    "| Band | UHF | L |\n",
    "| $T_{sys}$ | $< 38 K$ | $< 30 K$ |\n",
    "| Start Frequency | 580 MHz | 900 MHz |\n",
    "| Stop Frequency | 1015 MHz | 1670 MHz |\n",
    "| Total Bandwidth | 435 MHz | 770 MHz |\n",
    "| Instantaneous Bandwidth | 544 MHz | 856 MHz |\n",
    "| Fractional Bandwidth | 0.55 | 0.6 |\n",
    "| Polarization | Dual Linear | Dual Linear |\n",
    "\n",
    "The MeerKAT array layout follows a random distribution with a dense core. The randomness imrpoves the $uv$ coverage while the dense core is desirable for many of the science goals. The array core, shown below, is currently being populated with dishes and receiver systems."
   ]
  },
  {
   "cell_type": "code",
   "execution_count": null,
   "metadata": {
    "collapsed": false
   },
   "outputs": [],
   "source": [
    "Image(filename='figures/arrays/meerkat_2016_aerial.jpg')"
   ]
  },
  {
   "cell_type": "markdown",
   "metadata": {},
   "source": [
    "**Figure :** *MeerKAT array core layout, located in the Northern Cape of South Africa, currently under construction. Credit: [SKA South Africa &#10548;](http://www.ska.ac.za/media/visuals/2016/2016_aerial_04.jpg)*"
   ]
  },
  {
   "cell_type": "markdown",
   "metadata": {},
   "source": [
    "The array is made up of 64 dishes, with a shortest baseline similar to KAT-7, but with a maximum baseline of 8 km! This will allow for high resolution, up to 6.6 arc-second, measurements.\n",
    "\n",
    "| Array Specifications |\n",
    "|:---:|:---:|\n",
    "| Number of Elements | 64 |\n",
    "| Min Baseline | 29 m |\n",
    "| Min $\\Delta \\theta_{1.4 GHz}$ | 0.51 deg |\n",
    "| Max Baseline | 8 km |\n",
    "| Max $\\Delta \\theta_{1.4 GHz}$ | 6.6\" |\n",
    "\n",
    "MeerKAT will be a general purpose interferometric observatory, as such there are a number of different [planned science surveys &#10548;](http://public.ska.ac.za/meerkat/meerkat-large-survey-projects)."
   ]
  },
  {
   "cell_type": "markdown",
   "metadata": {},
   "source": [
    "### 1.4.2 Jansky Very Large Array (JVLA)"
   ]
  },
  {
   "cell_type": "markdown",
   "metadata": {},
   "source": [
    "The [Karl G. Jansky Very Large Array (JVLA) &#10548;](http://www.vla.nrao.edu/) is the latest upgrade (2011) to the original Very Large Array (1975). The 27 element array is located in New Mexico, USA and operated by the NRAO.  The JVLA is the quintessential radio interferometric array and is the standard in which other array are measured. It is typical to see an interferometric array sensitivity or resolution presented are a fraction of the JVLA. Details on the array specifications, such as resolution, sensitivity, correlation configuration, etc. can be found [here &#10548;](https://science.nrao.edu/facilities/vla)."
   ]
  },
  {
   "cell_type": "code",
   "execution_count": null,
   "metadata": {
    "collapsed": false
   },
   "outputs": [],
   "source": [
    "Image(filename='figures/arrays/vla_dish_2007.jpg')"
   ]
  },
  {
   "cell_type": "markdown",
   "metadata": {},
   "source": [
    "**Figure :** *JVLA cassegrain-focus telescope. In the foreground are tracks used to move telescopes to different positions. Credit: [Wikimedia Commons &#10548;](https://en.wikipedia.org/wiki/File:Very_large_array_clouds.jpg)*"
   ]
  },
  {
   "cell_type": "markdown",
   "metadata": {},
   "source": [
    "The 25 meter JVLA dishes use a Cassegrain optical system for most of the receivers (though a low-frequency receiver is at the focal point). Cassegrain optics uses a secondary reflector, at the focal point to redirect the signal to the recievers at the base of the dish.\n",
    "\n",
    "| Dish Specifications |\n",
    "|:---:|:---:|\n",
    "| Optics | Cassegrain |\n",
    "| Diameter | 25 m|\n",
    "| $\\Delta \\theta_{1.4 GHz}$ | 0.59 deg |\n",
    "\n",
    "There are numerous [receiver systems &#10548;](https://science.nrao.edu/facilities/vla/project-status/receivers), all circular polarization, on each telescope which are cycled through depending on the observation and configuration schedule. The receivers cover most of the [frequency range &#10548;](https://science.nrao.edu/facilities/vla/docs/manuals/oss2013b/performance/bands) between 58 MHz and 50 GHz. Correlation of visibilities is done with the flexible [WIDAR &#10548;](https://science.nrao.edu/facilities/vla/docs/manuals/oss/widar) correlator. As there are many frequency bands and different correlion options the bandwidth parameters are not included in the table below.\n",
    "\n",
    "| Receivers |\n",
    "|:---:|:---:|:---:|:---:|:---:|:---:|:---:|:---:|:---:|:---:|:---:|\n",
    "| Band | 4 | P | L | S | C | X | Ku | K | Ka | Q |\n",
    "| SEFD | 10000+ Jy | 2790 Jy | 420 Jy | 370 Jy | 310 Jy | 250 Jy | 350 Jy | 560 Jy | 710 Jy | 1260 Jy |\n",
    "| Start Frequency | 58 MHz | 230 MHz | 1 GHz | 2 GHz | 4 GHz | 8 GHz | 12 GHz | 18 GHz | 26.5 GHz | 40 GHz |\n",
    "| Stop Frequency | 84 MHz | 470 MHz | 2 GHz | 4 GHz | 8 GHz | 12 GHz | 18 GHz | 26.5 GHz| 40 GHz | 50 GHz |\n",
    "| Total Bandwidth | 26 MHz | 240 MHz | 1 GHz | 2 GHz | 4 GHz | 4 GHz | 6 GHz | 8.5 GHz | 13.5 GHz | 10 GHz |\n",
    "| Polarization | Dual Circular | Dual Circular | Dual Circular | Dual Circular | Dual Circular | Dual Circular | Dual Circular | Dual Circular | Dual Circular | Dual Circular |\n",
    "\n",
    "The [sensitivity &#10548;](https://science.nrao.edu/facilities/vla/docs/manuals/oss/performance/sensitivity) of receivers is presented in *System Equivalent Flux Density* (SEFD) which is a function of the system temperature $T_{sys}$ and the efficiency of the telescope $\\eta$. Part of the efficiency measurment is the reflectivity of the dish, at higher frequencies the reflectivity drops off and the dish becomes more inefficient. This accounts for the increase in SEFD at the higher frequency receivers. The extreme increase in SEFD at the lower end is because the sky temperature (mainly due to synchrotron) increases at low frequencies. Sensitivity is discussed in Chapter 7."
   ]
  },
  {
   "cell_type": "code",
   "execution_count": null,
   "metadata": {
    "collapsed": false
   },
   "outputs": [],
   "source": [
    "Image(filename='figures/arrays/vla_aerial.jpg')"
   ]
  },
  {
   "cell_type": "markdown",
   "metadata": {},
   "source": [
    "**Figure :** *JVLA array layout in the densest (D) configuration. Credit: [NRAO/AUI &#10548;](http://images.nrao.edu/Telescopes/VLA/307)*"
   ]
  },
  {
   "cell_type": "markdown",
   "metadata": {},
   "source": [
    "The JVLA elements are laid out on a 'Y'-shape, each arm of the 'Y' is made of two sets of rail tracks which allows the elements to be repositioned into different [configurations &#10548;](https://science.nrao.edu/facilities/vla/docs/manuals/propvla/array_configs) to result in different [resolution &#10548;](https://science.nrao.edu/facilities/vla/docs/manuals/oss/performance/resolution) measurements. The four configurations (A, B, C, D)\n",
    "are set configurations which vary the maximum and minimum baseline length (shown in the table below). The A configuration has the highest resolution, but is limited in low resolution, while D configuration is the densest layout and is most sensitivty to low resolutions. The same field in the sky can be observed with different configurations, the measured visibilties can be combined to form an image sensitive to all resolutions scales from A to D configuration. These configurations are cycled through on a standard schedule.\n",
    "\n",
    "| Array Specifications | A | B | C | D |\n",
    "|:---:|:---:|:---:|:---:|:---:|\n",
    "| Number of Elements | 27 | 27 | 27 | 27 |\n",
    "| Min Baseline | 680 m | 210 m | 35 m | 35 m |\n",
    "| Min $\\Delta \\theta_{1.4 GHz}$ | 1.3' | 4.2' | 25.2' | 25.2' |\n",
    "| Max Baseline | 36.4 km | 11.1 km | 3.4 km | 1.03 km |\n",
    "| Max $\\Delta \\theta_{1.4 GHz}$ | 1.5\" | 4.8\" | 15.5\" | 51.3\" |\n",
    "\n",
    "As the JVLA, in some form, has been around for decades an enormous amount of scientific research has been produced.  We will not even attempt an overview of the work that has been produced. But, as an entry point, one of the defining surveys using the VLA is the [<cite data-cite='1998AJ....115.1693C'>NRAO VLA Sky Survey (NVSS)</cite> &#10548;](http://adsabs.harvard.edu/abs/1998AJ....115.1693C) which is a classic radio catalogue."
   ]
  },
  {
   "cell_type": "markdown",
   "metadata": {},
   "source": [
    "### 1.4.3 Australian Square Kilometre Array Pathfinder (ASKAP)"
   ]
  },
  {
   "cell_type": "markdown",
   "metadata": {},
   "source": [
    "On the path to developing the SKA, along with MeerKAT, the Australian Square Kilometre Array Pathfinder (ASKAP) is under construction in western Australia. This array uses a phased-array feed (PAF) receiver which effectively expands the field of view, allowing for a number of scientific advantages. As PAFs are a new technology ASKAP will act as an engineering testing ground while also doing scientific observations. The update to date system specifications can be found [here &#10548;](http://www.atnf.csiro.au/projects/askap/specs.html)."
   ]
  },
  {
   "cell_type": "code",
   "execution_count": null,
   "metadata": {
    "collapsed": false
   },
   "outputs": [],
   "source": [
    "Image(filename='figures/arrays/askap_dish_2015.jpg')"
   ]
  },
  {
   "cell_type": "markdown",
   "metadata": {},
   "source": [
    "**Figure :** *ASKAP phased-array feed telescope. Credit: [CSIRO &#10548;](https://www.skatelescope.org/wp-content/uploads/2015/12/ASKAP_MkI_MkII1.jpg)*"
   ]
  },
  {
   "cell_type": "markdown",
   "metadata": {},
   "source": [
    "At the prime focus of each dish is a PAF which is used to form multiple 'beams' and increase the effective field of view of the dish. The dish mount has a 'third-axis' which corrects for the rotation of the PAF due to change in parallactic angle. This axis is necessary to keep the PAF 'beams' fixed to a position in the sky. The details of PAFs are not covered in this book, for those interested see the [<cite data-cite='mailloux2005phased'>Phased Array Antenna Handbook</cite> &#10548;](https://books.google.co.za/books/about/Phased_Array_Antenna_Handbook.html?id=v-htQgAACAAJ).\n",
    "\n",
    "| Dish Specifications |\n",
    "|:---:|:---:|\n",
    "| Optics | Prime Focus |\n",
    "| Diameter | 12 m|\n",
    "| $\\Delta \\theta_{1.4 GHz}$ | 1.22 deg |\n",
    "\n",
    "The PAFs operate at L-band, they have a higher system temperature and smaller bandwidth coverage compared to MeerKAT, but can make up for this in survey science by covering a larger field of view for a fixed time.\n",
    "\n",
    "| Receivers |\n",
    "|:---:|:---:|\n",
    "| Band | L |\n",
    "| $T_{sys}$ | $50 K$ |\n",
    "| Start Frequency | 700 MHz |\n",
    "| Stop Frequency | 1800 MHz |\n",
    "| Total Bandwidth | 1100 MHz |\n",
    "| Instantaneous Bandwidth | 300 MHz |\n",
    "| Fractional Bandwidth | 0.18 - 0.35 |\n",
    "| Polarization | Dual Linear |\n",
    "\n",
    "The phased-array feeds have been upgraded to a second generation version, which has greatly reduced the system temperature compared to the first generation. Below is a close-up of the first generation 'checker board' PAF. The  green panel is an active component which is used to form multiple digital beams."
   ]
  },
  {
   "cell_type": "code",
   "execution_count": null,
   "metadata": {
    "collapsed": false
   },
   "outputs": [],
   "source": [
    "Image(filename='figures/arrays/askap_paf_2010.jpg')"
   ]
  },
  {
   "cell_type": "markdown",
   "metadata": {},
   "source": [
    "**Figure :** *Close up of the mark-I phased-array feed on ASKAP. Credit: [CSIRO/David McClenaghan &#10548;](http://www.scienceimage.csiro.au/image/11278/csiro-s-prototype-phased-array-feed-in-position-on-an-antenna-for-testing/)*"
   ]
  },
  {
   "cell_type": "markdown",
   "metadata": {},
   "source": [
    "ASKAP is made up of 36 elements, with a similar minimum and maximum baseline distribution to MeerKAT. The layout of the array can be found [here &#10548;](http://www.atnf.csiro.au/projects/askap/config.html).\n",
    "\n",
    "| Array Specifications |\n",
    "|:---:|:---:|\n",
    "| Number of Elements | 36 |\n",
    "| Min Baseline | 37 m |\n",
    "| Min $\\Delta \\theta_{1.4 GHz}$ | 0.39 deg |\n",
    "| Max Baseline | 6 km |\n",
    "| Max $\\Delta \\theta_{1.4 GHz}$ | 8.8\" |\n",
    "\n",
    "Again, similar to MeerKAT there are a number of [survey science projects &#10548;](http://www.atnf.csiro.au/projects/askap/ssps.html) planned for when the array has been commissioned."
   ]
  },
  {
   "cell_type": "markdown",
   "metadata": {},
   "source": [
    "### 1.4.4 The Low-Frequency Array (LOFAR)"
   ]
  },
  {
   "cell_type": "markdown",
   "metadata": {},
   "source": [
    "* photo: dish\n",
    "* photo: array\n",
    "* brief specs overview\n",
    "* link to specs\n",
    "* science goals"
   ]
  },
  {
   "cell_type": "markdown",
   "metadata": {},
   "source": [
    "### 1.4.5 Atacama Large Millimeter/submillimeter Array (ALMA)"
   ]
  },
  {
   "cell_type": "markdown",
   "metadata": {},
   "source": [
    "* photo: dish\n",
    "* photo: array\n",
    "* brief specs overview\n",
    "* link to specs\n",
    "* science goals"
   ]
  },
  {
   "cell_type": "markdown",
   "metadata": {},
   "source": [
    "### 1.4.6 VLBI Networks"
   ]
  },
  {
   "cell_type": "markdown",
   "metadata": {},
   "source": [
    "* Networks: specs, science (EVN, AVN, eMERLIN, VLBA)\n",
    "* photo: typical elements\n",
    "* image: typical map\n",
    "* Event Horizon: specs, science (event horizon, blackholecam)"
   ]
  },
  {
   "cell_type": "markdown",
   "metadata": {},
   "source": [
    "### 1.4.7 Epoch of Reionization Arrays"
   ]
  },
  {
   "cell_type": "markdown",
   "metadata": {},
   "source": [
    "* PAPER, MWA, LWA\n",
    "* photo: array elements\n",
    "* specs\n",
    "* science"
   ]
  },
  {
   "cell_type": "code",
   "execution_count": null,
   "metadata": {
    "collapsed": false
   },
   "outputs": [],
   "source": [
    "Image(filename='figures/arrays/paper_2013.jpg')"
   ]
  },
  {
   "cell_type": "markdown",
   "metadata": {},
   "source": [
    "**Figure :** *PAPER Epoch of Reionization experiment redundant array configuration, located in the Northern Cape, South Africa. Each element is a dual-polarization dipole with a mesh reflecting surface. Credit: [SKA South Africa &#10548;](http://www.ska.ac.za/media/visuals/2013/2013_paper_05.jpg)*"
   ]
  },
  {
   "cell_type": "markdown",
   "metadata": {},
   "source": [
    "### 1.4.8 Baryon Acoustic Oscillations Arrays"
   ]
  },
  {
   "cell_type": "markdown",
   "metadata": {},
   "source": [
    "* CHIME\n",
    "* photo: chime elements\n",
    "* specs\n",
    "* science"
   ]
  },
  {
   "cell_type": "markdown",
   "metadata": {},
   "source": [
    "### 1.4.9 The Square Kilometre Array (SKA)"
   ]
  },
  {
   "cell_type": "markdown",
   "metadata": {},
   "source": [
    "* broad goals\n",
    "* link to specs\n",
    "* link to science"
   ]
  },
  {
   "cell_type": "markdown",
   "metadata": {},
   "source": [
    "*** \n",
    "\n",
    "Next: [1.x Further Reading and References](1_x_further_reading_and_references.ipynb)"
   ]
  }
 ],
 "metadata": {
  "kernelspec": {
   "display_name": "Python 2",
   "language": "python",
   "name": "python2"
  },
  "language_info": {
   "codemirror_mode": {
    "name": "ipython",
    "version": 2
   },
   "file_extension": ".py",
   "mimetype": "text/x-python",
   "name": "python",
   "nbconvert_exporter": "python",
   "pygments_lexer": "ipython2",
   "version": "2.7.6"
  }
 },
 "nbformat": 4,
 "nbformat_minor": 0
}
