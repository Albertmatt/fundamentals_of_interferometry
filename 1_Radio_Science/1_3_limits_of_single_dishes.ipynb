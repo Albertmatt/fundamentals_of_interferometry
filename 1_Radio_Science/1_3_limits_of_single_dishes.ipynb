{
 "cells": [
  {
   "cell_type": "markdown",
   "metadata": {},
   "source": [
    "***\n",
    "\n",
    "* [Outline](../0_Introduction/0_introduction.ipynb)\n",
    "* [Glossary](../0_Introduction/1_glossary.ipynb)\n",
    "* [1. Radio Science using Interferometric Arrays](#)  \n",
    "    * Previous: [1.2.10 21 cm Line](1_2_10_21_cm.ipynb) \n",
    "    * Next: [1.4 Modern Interferometric Arrays](1_4_arrays_diversity_and_uses.ipynb)\n",
    "\n",
    "***"
   ]
  },
  {
   "cell_type": "code",
   "execution_count": null,
   "metadata": {
    "collapsed": false
   },
   "outputs": [],
   "source": [
    "from IPython.core.display import HTML\n",
    "import numpy as np\n",
    "from ipywidgets import interact\n",
    "import matplotlib.pyplot as plt\n",
    "%matplotlib inline\n",
    "styles = open(\"../style/course.css\", \"r\").read()\n",
    "HTML(styles)"
   ]
  },
  {
   "cell_type": "markdown",
   "metadata": {},
   "source": [
    "## 1.3 The Limits of Single Dish Astronomy"
   ]
  },
  {
   "cell_type": "markdown",
   "metadata": {},
   "source": [
    "In the very first section we learned about the basics of interferometry. Since this book is about fundamentals of radio interferometry, we know that is what the focus is going to be on. However, it is worthwhile to discuss how the limitations of single dish radio telescopes and why we need radio interferometers. \n",
    "\n",
    "Single dish telescopes are generally parabolic reflectors. At a very basic level, they can be thought of as light-gathering and focussing instruments like optical telescopes we are familiar with. The terminology in this section largely follows that of the optical telescopes (e.g. prime focus)."
   ]
  },
  {
   "cell_type": "markdown",
   "metadata": {},
   "source": [
    "### 1.3.1. Aperture Diameter and Angular Resolution"
   ]
  },
  {
   "cell_type": "markdown",
   "metadata": {
    "collapsed": true
   },
   "source": [
    "The basic properties of a radio antenna (dish) (like an optical telescope) can be summarized using the two following quantities:\n",
    "\n",
    "- The collecting area : $A \\propto D^2$,\n",
    "- The angular resolution: $ \\delta \\theta \\propto \\frac{\\lambda}{D} $,\n",
    "\n",
    "where $D$ is the diameter of the primary reflector and we have approximated it as a disk aperture.\n",
    "\n",
    "The *sensitivity* (a measure of how well the telescope is able to measure faint signals) of an antenna is directly proportional to the collecting area, and the angular resolution of the instrument is inversely proportional to the reflector diameter. Ideally, we want both high sensitivity and angular resolution, since we are interested in measuring the strength of the signal and positions of sources in an accurate manner.\n",
    "\n",
    "A natural way to improve both the sensitivity and angular resolution of a single telescope is to increase the collecting area (by using a collecting dish with a larger diameter, for example).\n",
    "\n",
    "The following table shows the angular resolution as a function of diameter $D$ for a single piece optical telescope used in amateur and professional observational astronomy. For comparison we also show what the value of $D$ should be to achieve the same angular resolution using Infrared, high frequency (HF) Radio wavelength and Low frequency (LF) radio wavelengths."
   ]
  },
  {
   "cell_type": "markdown",
   "metadata": {},
   "source": [
    "<table width=\"100%\" border=\"0\">\n",
    "<col width=\"200\">\n",
    "<col width=\"100\">\n",
    "<tr >\n",
    "<td> </td>\n",
    "<td style=\"text-align:center\"> <b> Diameter $D$ </b> </td>\n",
    "<td style=\"text-align:center\"> <b> Visible </b> <br>($\\lambda$ = 500 nm)</td>\n",
    "<td style=\"text-align:center\"> <b> Infrared </b><br> ($\\lambda$ = 10 $\\mu$m) </td>\n",
    "<td style=\"text-align:center\"> <b> Radio HF </b><br>($\\lambda$ = 10 mm) </td>\n",
    "<td style=\"text-align:center\"> <b> Radio LF </b><br> ($\\lambda$ = 1 m) </td>\n",
    "</tr>\n",
    "<tr>\n",
    "<td><img src=\"Figures/meade.png\" width=\"50%\"/> </td>\n",
    "<td style=\"text-align:center\"> 15 cm </td>\n",
    "<td style=\"text-align:center\"> 0.8'' </td>\n",
    "<td style=\"text-align:center\"> $D=3$ m </td>\n",
    "<td style=\"text-align:center\"> $D=3$ km </td>\n",
    "<td style=\"text-align:center\"> $D=300$ km </td>\n",
    "</tr>\n",
    "<tr>\n",
    "<td><img src=\"Figures/dobson.png\" width=\"50%\"/> </td>\n",
    "<td style=\"text-align:center\"> 50 cm  </td>\n",
    "<td style=\"text-align:center\"> 0.25'' </td>\n",
    "<td style=\"text-align:center\"> $D=10$ m </td>\n",
    "<td style=\"text-align:center\"> $D=10$ km </td>\n",
    "<td style=\"text-align:center\"> $D=1000$ km </td>\n",
    "</tr>\n",
    "<tr>\n",
    "<td><img src=\"Figures/meudon.png\" width=\"50%\"/> </td>\n",
    "<td style=\"text-align:center\"> 1 m</td>\n",
    "<td style=\"text-align:center\"> 0.12'' </td>\n",
    "<td style=\"text-align:center\"> $D=21$ m </td>\n",
    "<td style=\"text-align:center\"> $D=21$ km </td>\n",
    "<td style=\"text-align:center\"> $D=2100$ km </td>\n",
    "\n",
    "</tr>\n",
    "<tr>\n",
    "<td><img src=\"Figures/subaru.png\" width=\"30%\"/> </td>\n",
    "<td style=\"text-align:center\"> 8 m</td>\n",
    "<td style=\"text-align:center\"> 0.015'' (15 mas) </td>\n",
    "<td style=\"text-align:center\"> $D=168$ m </td>\n",
    "<td style=\"text-align:center\"> $D=168$ km </td>\n",
    "<td style=\"text-align:center\"> $D=16800$ km </td>\n",
    "</tr>\n",
    "\n",
    "<tr>\n",
    "\n",
    "</table>"
   ]
  },
  {
   "cell_type": "markdown",
   "metadata": {},
   "source": [
    "**Table 1:** *Angular resolution and aperture diameter as a function of the diameter $D$.*"
   ]
  },
  {
   "cell_type": "markdown",
   "metadata": {},
   "source": [
    "The relation $\\delta \\theta \\propto \\frac{\\lambda}{D}$ suggests that an increase in $\\lambda$ should be accompanied by an increase in $D$ to keep the angular resolution constant. For example, a single dish high frequency radio telescope with the same angular resolution as a 15 cm optical telescope would need a dish diameter of 3 km. This is clearly not practical. The following interactive example might help us understand how big the reflector diameter must be, at a specific frequency, to achieve a particular angular resolution."
   ]
  },
  {
   "cell_type": "code",
   "execution_count": null,
   "metadata": {
    "collapsed": false
   },
   "outputs": [],
   "source": [
    "from ipywidgets import interact\n",
    "\n",
    "def WhichDiameter(wavelength=1,angres=(15e-3/3600)):\n",
    "\n",
    "    c=299792458.\n",
    "    freq=c/(wavelength)/1e6\n",
    "    \n",
    "    D=1.22*wavelength/np.radians(angres) # assuming a circular aperture\n",
    "\n",
    "    print \"# Wavelength in meters\"\n",
    "    print \"# Angular resolution in degrees\"\n",
    "    print\n",
    "    print \"At a frequency of \"+str(freq)+\" MHz (Lambda=\"+str(wavelength)+\" m)\"\n",
    "    print \"the collector diameter should be ~D=\"+str(D)+\" m\"\n",
    "    print \"to achieve an angular resolution of \" + str(angres) + \\\n",
    "        \" degrees / \"+str(angres*60)+\" arcmin / \"+str(angres*3600)+\" arcsec\"\n",
    "\n",
    "\n",
    "\n",
    "w=interact(WhichDiameter,angres=((15e-3/3600),10,1e-5),wavelength=(0.5e-6,1,1e-7))"
   ]
  },
  {
   "cell_type": "markdown",
   "metadata": {},
   "source": [
    "### 1.3.2 Physical limitations of single dishes"
   ]
  },
  {
   "cell_type": "markdown",
   "metadata": {},
   "source": [
    "There are certain physical limitations to account for when designing single dish radio telescopes. As an example, consider that, due to its limited Field of View and the rotation of the earth, an antenna will have to track a source on the sky to maintain a constant sensitivity. In principle this can be achieved by mounting the antenna on a pedestal and mechnically steering it with a suitable engine (or engines). However, in order to maintain the integrity of the antenna, the control systems for these engines have to be incredibly precise. Clearly this gets harder as the size of the instrument increases and will constitute a critical design point on the engineering side. \n",
    "\n",
    "Actually there is an upper limit on how large we can build steerable single dish radio telescopes. This is because, just like everything else, the metals that these telescopes are made out of can only withstand finite amounts of stress and strain before deforming. Perhaps one of the greatest reminders of this fact came in 1988 with the fall of the early Green Bank Telescope (see **Figure 1** below (ref: http://adsabs.harvard.edu/abs/2008ASPC..395..323C)). Clearly, large steerable telescopes run the risk of collapsing under their own weight. \n",
    "\n",
    "Larger apertures can still be reached in other ways. For example, leaving the reflector fixed and allowing the receiver at the prime focus to move along the focal plane (or along the caustic) of the instrument will mimic a slowly varying pointing in the sky (a so called steerable focus telescope). Indeed this is how the Arecibo Observatory radio telescope (see **Figure 2**) operates. However, steerable focus telescopes come with limitations of their own (e.g. material cost and available space). Does this mean that we will never be able to observe the radio Universe at resolutions comparable to the visible? Fortunately we can exploit the principle of superposition to synthesize a larger dish from an array of smaller dishes i.e. build a radio interferometer. \n",
    "\n",
    "**Figure 1** and **Figure 2** show examples of the largest steerable telescopes that can be made:\n",
    "\n",
    "- steerable dishes ($D\\leq 100m$) e.g. Green Bank (zapped), Effelsberg radio telescopes\n",
    "- steerable focus ($D\\sim 300m$) e.g. Arecibo, Nançay Radio Telescope"
   ]
  },
  {
   "cell_type": "markdown",
   "metadata": {},
   "source": [
    "<img src=\"Figures/GBTcollapse.jpg\" width=\"80%\"/>"
   ]
  },
  {
   "cell_type": "markdown",
   "metadata": {},
   "source": [
    "<div align=\"center\">**Figure 1** $-$ 100 m Green Bank Telescope <br>\n",
    "Before (left) & after (middle) collapsing and (right) tabloid article<br>\n",
    "</div>"
   ]
  },
  {
   "cell_type": "markdown",
   "metadata": {},
   "source": [
    "<img src=\"Figures/arecibo.png\" width=\"60%\"/>"
   ]
  },
  {
   "cell_type": "markdown",
   "metadata": {},
   "source": [
    "<div align=\"center\">**Figure 2** $-$ 300 m Arecibo lying in a natural cavity <br>\n",
    "The receiver is located at the center of the three poles and can move freely to \"point\" in various directions on the sky<br>\n",
    "</div>"
   ]
  },
  {
   "cell_type": "markdown",
   "metadata": {},
   "source": [
    "### 1.3.3 From a single optical parabolic telescope to a radio interferometer with multiple elements"
   ]
  },
  {
   "cell_type": "markdown",
   "metadata": {},
   "source": [
    "Here we will attempt to develop some intuition for what an interferometer actually does. Before getting into the math lets see if we can use what we know about optical telescopes to build an interferometer.\n",
    "\n",
    "A single optical telescope generally comes as a combination of a main reflector (primary mirror which will define the aperture of the telescope) and a receiver (a collecting device such as a CCD). The purpose of this mirror is to gather light over some aperture and focus it onto a focal plane.\n",
    "\n",
    "Basic optics tells us how convex lenses can be used to form real local images of sources that are very far away. Actually, the conjugate image of a source that is infinitely far away will form at exactly the focal point of the lens, the location of which is completely determined by the shape of the lens (under the \"thin lens\" approximation and as long as the Gaussian conditions hold). Sources of astrophysical interest can be approximated as being infinitely far away as long as they are at distances much farther away than the focal point of the lens. This is immediately obvious from the equation of a thin convex lens viz.\n",
    "$$ \\frac{1}{o} + \\frac{1}{i} = \\frac{1}{f}, $$\n",
    "where $i, ~ o$ and $f$ are the image, object and focal distances respectively.\n",
    "\n",
    "Early astronomers exploited this useful property of lenses to build the first optical telescopes. Later on concave mirrors replaced lenses because it was easier to control their physical and optical properties (e.g. curvature, surface quality etc.). These days large telescopes (with $D \\gtrsim 8m$ say) almost exclusively use mirrors because of their easier, single piece design.\n",
    "\n",
    "Perfectly reflective circular paraboloids are the most efficient at focussing incoming plane waves (travelling on-axis) into a single locus (the focal point). Circular paraboloids are therefore a good choice for the shape of a collector. \n",
    "\n",
    "In radio instrumentation terminology relating to satellite transmission/reception, the term \"parabola\" is often used to refer to the full receiving system (i.e. {primary reflector + focal receiver + mount}).\n",
    "\n",
    "Here we will assume, for the sake of the analogy, that we start from an optical telescope equipped with a primary mirror in the shape of a circular paraboloid and then deconstruct this optical telescope to form an interferometer.\n",
    "\n",
    "<span style=\"background-color:cyan\">LB - In the middle and bottom left figures \"happen\" should be \"happens\"</span>"
   ]
  },
  {
   "cell_type": "markdown",
   "metadata": {},
   "source": [
    "<table width=\"100%\" border=\"0\">\n",
    "<tr>\n",
    "<td> <img src='Figures/im1-n.png' width=75%> </td>\n",
    "<td> <img src='Figures/im2-n.png' width=75%> </td>\n",
    "</tr>\n",
    "<tr>\n",
    "<td> <img src='Figures/im3-n.png' width=75%> </td>\n",
    "<td> <img src='Figures/im4-n.png' width=75%> </td>\n",
    "</tr>\n",
    "<tr>\n",
    "<td> <img src='Figures/im5-n.png' width=75%> </td>\n",
    "<td> <img src='Figures/im6-n.png' width=75%> </td>\n",
    "</tr>\n",
    "</table>"
   ]
  },
  {
   "cell_type": "markdown",
   "metadata": {},
   "source": [
    "<div align=\"center\">**Figure 3** $-$ How to build an interferometer\n",
    "</div>"
   ]
  },
  {
   "cell_type": "markdown",
   "metadata": {},
   "source": [
    "**Figure 3** shows the 6-steps transition to go from an optical telescope to a radio interferometer. Some assumptions have been left implicit and will be clarified later <span style=\"background-color:cyan\">LB - Maybe add a link to where these assumptions are discussed</span>. For the moment, the main thing to realise is that the sequence of transformations applied to the instrument do not affect the measured signal.\n",
    "\n",
    "**Step 1: The visible case**\n",
    "\n",
    "We start with a parabolic optical telescope which receives light from various directions. Assuming that the optical components are perfect, the signal coming from the source at an infinite distance away has its image lying in the focal plane. This is therefore where we put the receiver (in the visible case the receiver could be a CCD (Charged-Coupled Device) that collects photons).\n",
    "\n",
    "**Step 2: Breaking the mirror**\n",
    "\n",
    "The process of breaking the mirror into pieces does not change the main properties of the telescope. Only some portions of the primary reflector are missing (we could also have obstructed or colored in black the mirror surface at different locations). It is still possible to recover an image at the focal point. However the image will be sligthly distorted due to the loss of continuity of the aperture.\n",
    "\n",
    "**Step 3: Change of wavelength**\n",
    "\n",
    "We now switch from the visible to the radio. Since they are both a form of electro-magnetic (EM) radiation we can extrapolate the same optical concepts to the lower frequencies of the radio domain. The only real change is to adapt the reflective and receiving systems to match the wavelength (i.e. metal reflectors are sufficient to replace polished mirrors, and a small radio feed can capture the EM waves instead of collecting photons on a CCD).\n",
    "\n",
    "**Step 4: Conversion into electronics**\n",
    "\n",
    "Pushing it further, we can replace the radio reflective parts by sensitive parts which will directly measure the EM waves arriving at each portion of the surface and transmit it to the receiver. The conversion between the EM waves and the electrical signal is performed by an antenna (recall that an antenna as an EM transducer, it converts an electric field into an alternating current). \n",
    "\n",
    "With each piece of the former reflector now acting as an antenna, the incoming signal propagates through the wires (more correctly transmission lines). Therefore, as long as we keep track of the discrepencies in phase caused by the signal traversing different distances (something we will revisit later), we can move the receivers around freely without altering the parabolic shape of the antenna.\n",
    "\n",
    "**Step 5 & 6: Deconstructing the parabola**\n",
    "\n",
    "Finally, by carefully keeping track of the above mentioned phase discrepencies (effectively this amounts to adding more cable), we can reproduce the difference in arrival times between all the pieces. As for the receiver, we are now free to arrange the receiving pieces into a more manageable configuration (i.e. we can place them all on the ground). Also note that we could spread the array of telescopes over a bigger area to achieve better resolution."
   ]
  },
  {
   "cell_type": "markdown",
   "metadata": {},
   "source": [
    "<img src='Figures/im7-n.png' width=45%> "
   ]
  },
  {
   "cell_type": "markdown",
   "metadata": {},
   "source": [
    "<div align=\"center\">**Figure 4** $-$ Schematic of a radio interferometer made from identical elements disposed on the ground.<br>\n",
    "All signals are smartly combined before entering the receiver.<br>\n",
    "</div>"
   ]
  },
  {
   "cell_type": "markdown",
   "metadata": {},
   "source": [
    "As in **Figure 4**, we can now enhance the properties of each of the pieces on the ground by replacing them with proper smaller telescopes that are easier to manage and are sensitive to radio wavelengths. Doing so requires keeping track of, and correcting for, the individual phase delays that result from the difference in path lengths between the source and the individual telescopes.\n",
    "\n",
    "However, if we are able to correctly combine the signals from the individual telescopes, the receiver will record a compound incoming signal as if came from a single telescope with collecting area equal to the sum of all collecting areas of the individual pieces. \n",
    "\n",
    "This is the whole idea behind radio interferometry. By spreading an array of smaller telescopes over a large area we can achieve the same resolution as with a single telescope whose diameter is approximately equal to the maximum distance between any two telescopes in the array. In this way it is possible to overcome some of the physical and technical limitations of single dish telescopes such as the GBT shown in **Figure 1**. "
   ]
  },
  {
   "cell_type": "markdown",
   "metadata": {},
   "source": [
    "<div class=warn>\n",
    "**Warning:** The optical path is replaced by electrical cables to convey the electrical signals. We can only superimpose the images formed by the individual telescopes if we can introduce additional delays to mimic the reception time as if the various pieces were still placed on a paraboloid surface. These delays can by introduced by adding lengths of cable at suitable places in the array. The cable delay scheme would have to follow a distribution of delays which is also parabolic as a function of the location of the receiving piece on the parabola.\n",
    "</div>"
   ]
  },
  {
   "cell_type": "markdown",
   "metadata": {},
   "source": [
    "<div class=advice>\n",
    "**Note:** Conversely, we can interpret a single reflector telescope (visible or radio) as a *continuous interferometer* by applying the Wiener-Khinchin theorem. (See section 5 and Perley white book section ??)<span style=\"background-color:cyan\">LB - add book section number</span>$\n",
    "</div>"
   ]
  },
  {
   "cell_type": "markdown",
   "metadata": {},
   "source": [
    "The next generation interferometers such as **LOFAR** (Low Frequency ARray) and **SKA** (Square Kilometre Array) (**Figure 5**) will have apertures the size of continents. However, since the telescope's sensitivity depends on the effective collecting area, a single dish telescope with the same resolution as an array of telescopes will always have greater sensitivity. This is often acceptable. For example, the **SKA** will have a combined collecting area of about 1 km${}^2$ and will be more sensitive than any telescope currently in existence.\n",
    "\n",
    "(see more details in Chapter 7 [EXREF] instrument) <span style=\"background-color:cyan\">LB - Manually added ref to chapter 7, should probably link<span>"
   ]
  },
  {
   "cell_type": "markdown",
   "metadata": {},
   "source": [
    "<img src='Figures/skalofar.png' width=100%> "
   ]
  },
  {
   "cell_type": "markdown",
   "metadata": {},
   "source": [
    "<div align=\"center\">**Figure 5** $-$ Current continental-scale interferometers <br>\n",
    "LOFAR combines antenna elements in the 30-90 MHz & 110-250 MHz window<br>\n",
    "SKA will cover almost all the radio window from 50 MHz to $\\sim$10-30 GHz<br>\n",
    "</div>"
   ]
  },
  {
   "cell_type": "markdown",
   "metadata": {},
   "source": [
    "In this introductory section we have highlighted why we need multi-element instruments. Since radio observations are at a much longer wavelength (lower frequency) than those made in the visible, we would need much bigger radio telescopes to achieve the same angular resolution of optical telescopes. Array telescopes allow us to increase angular resolution and, by adding together the collecting areas of all the telescopes in the array, increase the sensitivity of the telescope. Because of the physical limitations involved in constructing very large single dish telescopes, it would be very difficult (and expensive) to achieve the same resolution and sensitivity with a single dish as with an array of telescopes. However, as we will see, interferometry introduces a number of additional challenges. \n",
    "\n",
    "In the next section, we'll discuss different types of radio interferometers and their particular uses."
   ]
  },
  {
   "cell_type": "markdown",
   "metadata": {},
   "source": [
    "<p class=conclusion>\n",
    "  <font size=4> **Important things to remember**</font>\n",
    "  <br>\n",
    "  <br>\n",
    "\n",
    "&bull; A **paraboloid reflector** insures that any incoming direction from the infinite is conjugated with the focal plane.<br><br>\n",
    "&bull; The mirror is an easier optical system to build and maintain compared to a transmitting lens.<br><br>\n",
    "&bull; As we are dealing with EM waves, there is a *direct analogy between the properties of visible and radio telescopes*.<br><br>\n",
    "&bull; In principle, an interferometer can be built by *decomposing a single reflector instrument into smaller manageable pieces* and by *combining their signals in a specific manner* (using delay cables).<br><br>\n",
    "&bull; Conversely, a single reflector telescope can be interpreted as a *continuous* interferometer.\n",
    "</p>"
   ]
  },
  {
   "cell_type": "markdown",
   "metadata": {},
   "source": [
    "*** \n",
    "\n",
    "Next: [1.4 Modern Interferometric Arrays](1_4_arrays_diversity_and_uses.ipynb)"
   ]
  }
 ],
 "metadata": {
  "kernelspec": {
   "display_name": "Python 2",
   "language": "python",
   "name": "python2"
  },
  "language_info": {
   "codemirror_mode": {
    "name": "ipython",
    "version": 2
   },
   "file_extension": ".py",
   "mimetype": "text/x-python",
   "name": "python",
   "nbconvert_exporter": "python",
   "pygments_lexer": "ipython2",
   "version": "2.7.6"
  }
 },
 "nbformat": 4,
 "nbformat_minor": 0
}
