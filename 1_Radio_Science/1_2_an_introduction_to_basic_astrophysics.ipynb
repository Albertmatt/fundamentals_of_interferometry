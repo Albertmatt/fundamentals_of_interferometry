{
 "cells": [
  {
   "cell_type": "markdown",
   "metadata": {},
   "source": [
    "***\n",
    "\n",
    "* [Outline](../0_Introduction/0_introduction.ipynb)\n",
    "* [Glossary](../0_Introduction/1_glossary.ipynb)\n",
    "* [1. Radio Science using Interferometric Arrays](1_0_introduction.ipynb)  \n",
    "    * Previous: [1.1 A brief introduction to interferometry and its history](1_1_a_brief_introduction_to_interferometry.ipynb)\n",
    "    * Next: [1.2.0 Definitions](1_2_0_definitions.ipynb)\n",
    "\n",
    "***"
   ]
  },
  {
   "cell_type": "markdown",
   "metadata": {},
   "source": [
    "## 1.2 An Introduction to Basic Astrophysics <a id='science:sec:astro'></a>"
   ]
  },
  {
   "cell_type": "markdown",
   "metadata": {},
   "source": [
    "In the last section, we have learned about the basics of interferometry. Before embarking on a more detailed study of radio interferometry, let's briefly examine what sort of science do we plan to study with radio interferometry. This section very briefly deals with some basic phenomena in radio astrophysics. A complete survey of radio science is obviously out of the scope of this book; however references for literature which is specifically devoted to radio science are given in the glossary and the further reading section.\n",
    "\n",
    "Since the section coveres subjects which have a wide range, it is made up of sets of multiple subsections. The first set deals with the relevant terminology and basics of electromegnetic radiation and radiation transport. The next set deals with examples of emission mechanism which produce electromagnetic radiation at radio frequencies. These are not exhaustive, but meant to give a flavour of different types of emission mechanisms: thermal and non-thermal emission, continuum vs spectral line emission. "
   ]
  },
  {
   "cell_type": "markdown",
   "metadata": {
    "collapsed": true
   },
   "source": [
    "***\n",
    "\n",
    "Next: [1.2.0 Definitions](1_2_0_definitions.ipynb) "
   ]
  }
 ],
 "metadata": {
  "kernelspec": {
   "display_name": "Python 2",
   "language": "python",
   "name": "python2"
  },
  "language_info": {
   "codemirror_mode": {
    "name": "ipython",
    "version": 2
   },
   "file_extension": ".py",
   "mimetype": "text/x-python",
   "name": "python",
   "nbconvert_exporter": "python",
   "pygments_lexer": "ipython2",
   "version": "2.7.6"
  }
 },
 "nbformat": 4,
 "nbformat_minor": 0
}
