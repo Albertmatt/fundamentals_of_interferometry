{
 "cells": [
  {
   "cell_type": "markdown",
   "metadata": {},
   "source": [
    "***\n",
    "\n",
    "* [Outline](../0_Introduction/0_introduction.ipynb)\n",
    "* [Glossary](../0_Introduction/1_glossary.ipynb)\n",
    "* [1. Radio Science using Interferometric Arrays](01_00_introduction.ipynb)\n",
    "    * Previous: [1.7 Line emission](01_07_line_emission.ipynb)\n",
    "    * Next: [1.9 A brief introduction to interferometry](01_09_a_brief_introduction_to_interferometry.ipynb)\n",
    "***"
   ]
  },
  {
   "cell_type": "markdown",
   "metadata": {},
   "source": [
    "Section status: <span style=\"background-color:gray\">&nbsp;&nbsp;&nbsp;&nbsp;</span>\n",
    "\n",
    "Import standard modules:"
   ]
  },
  {
   "cell_type": "code",
   "execution_count": null,
   "metadata": {
    "collapsed": false
   },
   "outputs": [],
   "source": [
    "import numpy as np\n",
    "import matplotlib.pyplot as plt\n",
    "%matplotlib inline\n",
    "from IPython.display import HTML \n",
    "HTML('../style/course.css') #apply general CSS"
   ]
  },
  {
   "cell_type": "markdown",
   "metadata": {},
   "source": [
    "Import section specific modules:"
   ]
  },
  {
   "cell_type": "code",
   "execution_count": null,
   "metadata": {
    "collapsed": true
   },
   "outputs": [],
   "source": [
    "from IPython.display import Image"
   ]
  },
  {
   "cell_type": "markdown",
   "metadata": {},
   "source": [
    "## 1.8 Astronomical radio sources<a id='science:sec:astronomical_radio_sources'></a>"
   ]
  },
  {
   "cell_type": "markdown",
   "metadata": {},
   "source": [
    "The field of radio astronomy is extremely broad. In principle radio astronomy cannot be isolated from astronomy at any other wavelength, as only an overview of the complete spectral properties of certain object can give us the required information to investigate their nature. Nevertheless, there are some objects on which a lot of investigative time in the scope of radio observations is spent. Here, we list a few of them. Their detailed study is, in most cases, a complete topic covered in other literature."
   ]
  },
  {
   "cell_type": "markdown",
   "metadata": {},
   "source": [
    "### 1.8.1 The Sun\n",
    "The sun is the brightest radio object as seen from the earth. The radio emission from the Sun can be divided into two parts: that from the so-called \"quiet Sun\" and that from solar activities like Coronal Mass Ejections.\n",
    "The emission from the \"quiet Sun\" is a mixture of thermal and non-thermal emission. The strongest radio emission from the sun, however, comes from coronal mass ejections and solar flares which are eject high energy particles. Some of these events may reach $10^9$Jy.\n",
    "\n",
    "The Sun in radio is observed via radio interferometers like the [Owens valley Solar Array](http://www.ovsa.njit.edu/) and the [Nancay Heliograph](http://secchirh.obspm.fr/nrh.php). Solar observations are a key science project of the [LOFAR array](http://www.lofar.org/astronomy/solar-ksp/solar-physics-and-space-weather). The upcoming SKA telescope will be able to study the radio emission from the Sun with greater resolution and sensitiity than the current facilities."
   ]
  },
  {
   "cell_type": "markdown",
   "metadata": {},
   "source": [
    "### 1.8.2 Planets\n",
    "The planets in our solar system also emit in the radio band. The radio emission from the planets is mostly thermal in origin. "
   ]
  },
  {
   "cell_type": "markdown",
   "metadata": {},
   "source": [
    "### 1.8.3  The cosmic microwave background\n",
    "The cosmic microwave background (CMB) is the most famous example of thermal emission in radio astronomy. See $\\S$ [1.5](01_05_black_body_radiation.ipynb) for the details on the temperature and spectrum of CMB."
   ]
  },
  {
   "cell_type": "markdown",
   "metadata": {},
   "source": [
    "### 1.8.4 Radio Galaxies\n",
    "Radio galaxies are extragalactic radio sources which are powered by a central engine in the form of a supermassive black hole in the centre of the 'host' galaxy (these are elliptical galaxies, with a few exceptions). The radio source in such a case may extend upto the size of Mpc, and is frequently larger in physical extent than the host galaxy. The dominant radio emission from these sources is due to sychrotron emission. The figure below shows the Fornax A radio galaxy. The host galaxy is seen in the central portion of the image."
   ]
  },
  {
   "cell_type": "code",
   "execution_count": null,
   "metadata": {
    "collapsed": false
   },
   "outputs": [],
   "source": [
    "Image(filename='figures/fornax_a_lo.jpg', width=300)"
   ]
  },
  {
   "cell_type": "markdown",
   "metadata": {},
   "source": [
    "Image credit:  Image courtesy of NRAO/AUI and J. M. Uson"
   ]
  },
  {
   "cell_type": "markdown",
   "metadata": {},
   "source": [
    "### 1.8.4 Starforming Galaxies:\n",
    "Starforming galaxies are \"normal\" galaxies which have the process of star formation going on. Predominantly spirals, the process of starformation produces radio emission, which is a mix of sychrotron emission from supernova remnants and free-free emission from ionized hydrogen (HII) regions. \n",
    "The figure below shows M82, a starburst galaxy. The bright spots in the image show both supernova remnants and HII regions."
   ]
  },
  {
   "cell_type": "code",
   "execution_count": null,
   "metadata": {
    "collapsed": false
   },
   "outputs": [],
   "source": [
    "Image(filename='figures/m82.png', width=300)"
   ]
  },
  {
   "cell_type": "markdown",
   "metadata": {},
   "source": [
    "Image credit: Josh Marvil (NM Tech/NRAO), Bill Saxton (NRAO/AUI/NSF), NASA"
   ]
  },
  {
   "cell_type": "markdown",
   "metadata": {
    "collapsed": true
   },
   "source": [
    "***\n",
    "\n",
    "* Next: [1.9 A brief introduction to interferometry](01_09_a_brief_introduction_to_interferometry.ipynb)"
   ]
  },
  {
   "cell_type": "markdown",
   "metadata": {},
   "source": [
    "<div class=warn><b>Future Additions:</b></div>\n",
    "\n",
    "* For each class of objects above describe the general observation method and observing frequency."
   ]
  }
 ],
 "metadata": {
  "kernelspec": {
   "display_name": "Python 2",
   "language": "python",
   "name": "python2"
  },
  "language_info": {
   "codemirror_mode": {
    "name": "ipython",
    "version": 2
   },
   "file_extension": ".py",
   "mimetype": "text/x-python",
   "name": "python",
   "nbconvert_exporter": "python",
   "pygments_lexer": "ipython2",
   "version": "2.7.6"
  }
 },
 "nbformat": 4,
 "nbformat_minor": 0
}
