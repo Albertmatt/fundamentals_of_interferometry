{
 "cells": [
  {
   "cell_type": "markdown",
   "metadata": {},
   "source": [
    "***\n",
    "\n",
    "* [Outline](../0_Introduction/0_introduction.ipynb)\n",
    "* [Glossary](../0_Introduction/1_glossary.ipynb)\n",
    "* 3. Positional Astronomy  \n",
    "    * Previous: 3. Introduction\n",
    "    * Next: 3.2 Local Sidereal Time (LST, HA)\n",
    "\n",
    "***"
   ]
  },
  {
   "cell_type": "markdown",
   "metadata": {},
   "source": [
    "Import standard modules:"
   ]
  },
  {
   "cell_type": "code",
   "execution_count": null,
   "metadata": {
    "collapsed": false
   },
   "outputs": [],
   "source": [
    "import numpy as np\n",
    "import matplotlib.pyplot as plt\n",
    "%matplotlib inline"
   ]
  },
  {
   "cell_type": "markdown",
   "metadata": {},
   "source": [
    "Import section specific modules:"
   ]
  },
  {
   "cell_type": "code",
   "execution_count": null,
   "metadata": {
    "collapsed": false
   },
   "outputs": [],
   "source": [
    "from IPython.display import Image"
   ]
  },
  {
   "cell_type": "markdown",
   "metadata": {},
   "source": [
    "## 3.1 The Celestial Sphere <a id='pos:sec:celestial'></a>"
   ]
  },
  {
   "cell_type": "markdown",
   "metadata": {},
   "source": [
    "### 3.1.1 Spherical Trigonometry"
   ]
  },
  {
   "cell_type": "markdown",
   "metadata": {},
   "source": [
    "Most people have a basic understanding of planar trigonometry. In this section we explore how  trigonometry can be extended into the spherical realm. Spherical trigonometry is a branch of spherical geometry in which we study the relationship between the sides and angles of *spherical triangles*. Spherical triangles are formed by the pairwise intersection of three *great circlular* arcs in three vertices. A great circular arc is an arc segment of a *great circle*. A great circle is formed by the intersection of a sphere and a plane that passes through the center of the sphere. It is possible to derive the following basic spherical trigonometric identities by studying arbitrary spherical triangles that are located on the unit sphere:\n",
    "\n",
    "* The *spherical cosine rule*: $\\cos b = \\cos a \\cos c + \\sin a \\sin c \\cos B$\n",
    "* The *spherical sine rule*: $\\sin b \\sin A = \\sin B \\sin a$\n",
    "* The *five part rule*: $\\sin b \\cos A = \\cos a \\sin c - \\sin a\\cos c\\cos B$\n",
    "\n",
    "The first two rules are analogous to the planar sine and cosine rule. The sides and angles used in the above expressions are graphically depicted in Fig. [INREF](#\\label{fig:spher_trig}).\n",
    "These sphercial identities allow us to convert between celestial and horzontal coordinates.\n",
    " "
   ]
  },
  {
   "cell_type": "code",
   "execution_count": null,
   "metadata": {
    "collapsed": false
   },
   "outputs": [],
   "source": [
    "Image(filename='figures/spher_trig.png', width=250, height=50)"
   ]
  },
  {
   "cell_type": "markdown",
   "metadata": {},
   "source": [
    "*Caption: The spherical triangle $ABC$.*<a id='\\label{fig:spher_trig}'></a>"
   ]
  },
  {
   "cell_type": "markdown",
   "metadata": {},
   "source": [
    "### 3.1.2 The Equatorial coordinate system (RA,DEC)"
   ]
  },
  {
   "cell_type": "markdown",
   "metadata": {},
   "source": [
    "We can use a geographical coordinate system to uniquely identify a position on earth. We normally use the coordinates *latitude* $L$ (to measure north and south) and *longitude* $\\mathcal{L}$ (to measure east and west) to accomplish this. \n",
    "\n",
    "We also require a coordinate system to locate the stars. For practical purposes we may think of our universe as being projected onto a sphere of arbitrary radius. This sphere surrounds the Earth and is known as the *celestial sphere*. This is not a true representation of our universe, but it is a very usefull construct that we use to keep track of the stars in the night sky. The *north celestial pole* (NCP) is an important location on the celestial sphere and is obtained by projecting the north pole of the earth onto the celestial sphere. The star *Polaris* is very close to the NCP. The *south celestial pole* (SCP) is obtained in a similar way. The imaginary circle known as the *celestial equator* is in the same plane as the equator of the earth and is obtained by projecting the equator of the earth onto the celestial sphere.\n",
    "We use a specific point on the celestial equator from which we measure the location of all other celestial objects. This point is know as the *first point of Airies* <!--$\\vernal--> or the *vernal equinox*. The physical significance of this point is discussed in Sec. [INREF](#\\label{sec:lst}).  \n",
    "\n",
    "The stars themselves do not move on the celestial sphere and therefore have a unique location on it with which we can locate them (at least not much in one generation). We use the *equatorial coordinates*, *right ascension* $\\alpha$ (measured in hours) and *declination* $\\delta$ (measured in degrees) to uniquely identify the location of celestial objects. The *hour circle* of an object is the circle on the celestial sphere that crosses the NCP and the object itself and is perpendicular to the celestial equator. The right ascension of an object is the angular distance between the vernal equinox and the hour circle of a celestial object measured along the celestial equator and is measured in an easterly direction. The declination of an object is the  angular distance it is away from the celestial equator measured along its hour circle (it is positive in the northern celestial hemisphere and negative in the southern celestial hemisphere). The equatorial coordinates are presented grahpically in Fig. [INREF](#\\label{fig:equatorial_coordinates}). "
   ]
  },
  {
   "cell_type": "code",
   "execution_count": null,
   "metadata": {
    "collapsed": false
   },
   "outputs": [],
   "source": [
    "Image(filename='figures/equatorial.png', width=300, height=100)"
   ]
  },
  {
   "cell_type": "markdown",
   "metadata": {},
   "source": [
    "*Caption: The equatorial coordinates.*<a id='\\label{fig:equatorial_coordinates}'></a>"
   ]
  },
  {
   "cell_type": "markdown",
   "metadata": {},
   "source": [
    "### 3.1.3 Horizontal Coordinate System (ALT,AZ)"
   ]
  },
  {
   "cell_type": "markdown",
   "metadata": {},
   "source": [
    "In Sec.?? we introduced the concept of an hour angle, which allows us to determine the time that still needs to elapse before a source crosses the local meridian. This however does not tell us where we should point a telescope on earth inorder to observe a source. The horizontal coordinates azimuth $A$ and altitude $E$ (elevation) is used to locate celestial objects with respect to an observer on earth \n",
    "locate is used for this purpose and uses the observers horizon as the fundamental plane. A   "
   ]
  },
  {
   "cell_type": "markdown",
   "metadata": {},
   "source": [
    "### 3.1.4 Hour Angle (HA)<a id='\\label{sec:lst}'></a>"
   ]
  },
  {
   "cell_type": "markdown",
   "metadata": {},
   "source": [
    "*Zenith* is the position on the celestial sphere which lies directly above an observer on earth. The *local meridian* is the hour circle on the celestial sphere which we form when we connect the NCP with zenith. Celestial objects rise in the east reach their highest point when they cross the local meridian (we say they are at transit) and set in the west. The *hour angle* (denoted with $H$) of a celestial body is the angular distance (measured in hours) between the hour circle of a celesteal object and the local meridian measured along the celestial equator in a westerly direction. In other words, the hour angle is the time that still needs to pass before a celestial body is at transit if it is negative or the time since it was at transit if it is positive. We can therefore use it instead of right ascension as a celestial longitude to keep track of the stars as they move accros the sky when observed from a fixed point on earth.  "
   ]
  },
  {
   "cell_type": "markdown",
   "metadata": {},
   "source": [
    "### 3.1.5 Local Sidereal Time (LST)"
   ]
  },
  {
   "cell_type": "markdown",
   "metadata": {},
   "source": [
    "Our wrist watches keep track of when the sun will be at transit. The solar time-keeping system which our wrist watches use ensures that our working day contains as many daylight hours as possible. Astronomers are however more intereseted in keeping track of the stars, since they want to observe them. They therefore use a sidereal time-keeping system to keep track of the vernal equinox (instead of the sun). The hour angle of the first point of airies is actually your *local sideral time*. Once you know the time before or since the vernal equinox was at transit you can easily determine when any other star will be at transit. This is true, since there exists a simple relation between the hour angle of a celestial body and your local sidereal time which is given by:\n",
    "\n",
    "\\begin{equation}\n",
    "H = \\textrm{LST} - \\alpha.\n",
    "\\end{equation}\n",
    "\n",
    "The above relation is presented graphically in Fig. [INREF](#\\label{fig:hour_angle})."
   ]
  },
  {
   "cell_type": "code",
   "execution_count": null,
   "metadata": {
    "collapsed": false
   },
   "outputs": [],
   "source": [
    "Image(filename='figures/hour.png', width=300, height=100)"
   ]
  },
  {
   "cell_type": "markdown",
   "metadata": {},
   "source": [
    "*Caption: The relationship that exists between $\\alpha$, $H$ and LST.<a id='\\label{fig:hour_angle}'></a>*"
   ]
  },
  {
   "cell_type": "markdown",
   "metadata": {},
   "source": [
    "The natrual question now arises, why do we need separate time-keeping systems to keep track of the stars and the sun? The asnwer is that a *sidereal day* is 4 minutes shorter than a *solar day*. A solar day is the time it takes for the sun to return to the same position in the sky, while a sidereal day is the amount of time it takes for an arbitrary star to return to the same location in the sky. We can explain the reason for this time difference with the aid of Fig. [INREF](#\\label{fig:sidereal}). When the sun reappears at the same location in the sky (after 24 hours) it appears to have moved on the celestial sphere (it has moved relative to the background stars). The apparent movement of the sun on the celestial sphere is due to the fact that the earth needs to complete a little bit more than one full rotation for the sun to reappear at the same position in the sky which comes about due to the fact that the earth also orbits the sun. Since the background stars are much further away the earth only needs one full rotation (23 hours and 56 minutes) for an arbitrary star to reappear at the same position in the sky."
   ]
  },
  {
   "cell_type": "code",
   "execution_count": null,
   "metadata": {
    "collapsed": false
   },
   "outputs": [],
   "source": [
    "Image(filename='figures/sidereal.png', width=300, height=100)"
   ]
  },
  {
   "cell_type": "markdown",
   "metadata": {},
   "source": [
    "*Caption: The reason a sidereal day is shorter than a solar day.*<a id='\\label{fig:sidereal}'></a>"
   ]
  },
  {
   "cell_type": "markdown",
   "metadata": {},
   "source": [
    "We are now able to explain what the vernal equinox actually is. As discussed in the previous paragraph the sun appears to move on the celestial sphere (in reality its right ascension and declination changes during the year). The imaginary path it traverses on the celestial sphere is known as the *ecliptic*. The vernal equinox is the point on the clestial sphere where the sun crosses the celestial equator from north to south. The vernal equinox is currently in Pisces, but used to be in Airies. Which is why it is also known as the first point of Airies. It has moved due to *precession* (the change in the orientation of earth's rotational axis). \n"
   ]
  },
  {
   "cell_type": "markdown",
   "metadata": {},
   "source": [
    "### 3.1.6 The Terestial Reference Frame (X,Y,Z)"
   ]
  },
  {
   "cell_type": "code",
   "execution_count": null,
   "metadata": {
    "collapsed": false
   },
   "outputs": [],
   "source": []
  },
  {
   "cell_type": "markdown",
   "metadata": {},
   "source": [
    "### 3.1.7 Direction Cosines ($l$,$m$,$n$)"
   ]
  },
  {
   "cell_type": "code",
   "execution_count": null,
   "metadata": {
    "collapsed": false
   },
   "outputs": [],
   "source": []
  },
  {
   "cell_type": "markdown",
   "metadata": {},
   "source": [
    "***\n",
    "\n",
    "Next: 3.2 Local Sidereal Time (LST, HA)"
   ]
  }
 ],
 "metadata": {
  "kernelspec": {
   "display_name": "Python 2",
   "language": "python",
   "name": "python2"
  },
  "language_info": {
   "codemirror_mode": {
    "name": "ipython",
    "version": 2
   },
   "file_extension": ".py",
   "mimetype": "text/x-python",
   "name": "python",
   "nbconvert_exporter": "python",
   "pygments_lexer": "ipython2",
   "version": "2.7.6"
  }
 },
 "nbformat": 4,
 "nbformat_minor": 0
}
