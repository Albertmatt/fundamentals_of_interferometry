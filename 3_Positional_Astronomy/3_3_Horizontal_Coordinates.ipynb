{
 "cells": [
  {
   "cell_type": "markdown",
   "metadata": {},
   "source": [
    "***\n",
    "\n",
    "* [Outline](../0_Introduction/0_introduction.ipynb)\n",
    "* [Glossary](../0_Introduction/1_glossary.ipynb)\n",
    "* 3. Positional Astronomy  \n",
    "    * Previous: [3.2 Hour Angle (HA) and Local Sidereal Time (LST)](../3_Positional_Astronomy/3_2_Hour_Angle.ipynb)\n",
    "    * Next: [3.4 Direction Cosine Coordinates ($l,m,n$)](../3_Positional_Astronomy/3_4_Direction_Cosine_Coordinates.ipynb) \n",
    "\n",
    "***"
   ]
  },
  {
   "cell_type": "markdown",
   "metadata": {},
   "source": [
    "Import standard modules:"
   ]
  },
  {
   "cell_type": "code",
   "execution_count": 2,
   "metadata": {
    "collapsed": true
   },
   "outputs": [],
   "source": [
    "import numpy as np\n",
    "import matplotlib.pyplot as plt\n",
    "%matplotlib inline"
   ]
  },
  {
   "cell_type": "markdown",
   "metadata": {},
   "source": [
    "Import section specific modules:"
   ]
  },
  {
   "cell_type": "code",
   "execution_count": 1,
   "metadata": {
    "collapsed": false
   },
   "outputs": [
    {
     "data": {
      "text/html": [
       "<style>\n",
       "\n",
       "p.prerequisites {\n",
       "    border:5px;\n",
       "    border-style:none;\n",
       "    background-color:#F0F0F0;\n",
       "    box-shadow: 5px 5px 2px #888888;\n",
       "    border-color:#FF0000;\n",
       "    padding: 1em;\n",
       "    }\n",
       "\n",
       "p.conclusion {\n",
       "    border:5px;\n",
       "    border-style:none;\n",
       "    background-color:#c8ebca;\n",
       "    box-shadow: 5px 5px 2px #888888;\n",
       "    border-color:#c8ebca;\n",
       "    padding: 1em;\n",
       "    }\n",
       "\n",
       "div.warn {    \n",
       "    background-color: #fcf2f2;\n",
       "    border-color: #dFb5b4;\n",
       "    border-left: 5px solid #dfb5b4;\n",
       "    padding: 0.5em;\n",
       "    }\n",
       "\n",
       "div.advice {    \n",
       "    background-color: #ecf8ed;\n",
       "    border-color: #a2dda5;\n",
       "    border-left: 5px solid #a2dda5;\n",
       "    padding: 0.5em;\n",
       "    }\n",
       "\n",
       "</style>\n",
       "\n"
      ],
      "text/plain": [
       "<IPython.core.display.HTML object>"
      ]
     },
     "execution_count": 1,
     "metadata": {},
     "output_type": "execute_result"
    }
   ],
   "source": [
    "from IPython.core.display import HTML\n",
    "styles = open(\"../style/course.css\", \"r\").read()\n",
    "HTML(styles)"
   ]
  },
  {
   "cell_type": "markdown",
   "metadata": {},
   "source": [
    "## 3.4 Horizontal Coordinates (ALT,AZ)"
   ]
  },
  {
   "cell_type": "markdown",
   "metadata": {},
   "source": [
    "In [$\\S$ 3.2.1 &#10142;](../3_Positional_Astronomy/3_2_Hour_Angle.ipynb#pos:sec:ha) we introduced the concept of an hour angle, which allows us to determine the time that still needs to elapse before a source crosses the local meridian. This however does not tell us where we should point a telescope on earth inorder to observe a source with a specific hour angle. The *horizontal coordinates* *azimuth* $\\mathcal{A}$ and *altitude* $\\mathcal{E}$ (elevation) is used to enable an observer on earth to locate celestial objects in the observer's local sky. The observer's horizontal plane is the fundamental plane of this coordinate system and is known as the *celestial horizon*. The azimuth angle is measured in the celestial horizon from due north towards the east, while the altitude of a celestial object is the angle between it and the celestial horizon. Both azimuth and elevation is measured in degrees. The azimuth and elevation angle is depicted in  [Fig. 3.5 &#10549;](#pos:fig:horizontal) <!--\\ref{pos:fig:horizontal}--> "
   ]
  },
  {
   "cell_type": "markdown",
   "metadata": {},
   "source": [
    "<img src='figures/horizontal.png' width=40%>"
   ]
  },
  {
   "cell_type": "markdown",
   "metadata": {},
   "source": [
    "<div align=\"center\">**Figure 3.5**: The horizontal coordinates.</div> <a id='pos:fig:horizontal'></a> <!--\\label{pos:fig:horizontal}-->"
   ]
  },
  {
   "cell_type": "markdown",
   "metadata": {},
   "source": [
    "The equations below allow us to convert between equatorial and horizontal coordinates"
   ]
  },
  {
   "cell_type": "markdown",
   "metadata": {},
   "source": [
    "<p class=conclusion>\n",
    "  <font size=4> **Converting between equatorial and horizontal**</font>\n",
    "  <br>\n",
    "  <br>\n",
    "\\begin{eqnarray}\n",
    "\\cos\\delta\\cos H &=& \\cos L_a\\sin \\mathcal{E} - \\sin L_a\\cos \\mathcal{E}\\cos \\mathcal{A}\\\\\n",
    "-\\cos\\delta\\sin H&=& \\cos \\mathcal{E}\\sin \\mathcal{A}\\\\\n",
    "\\sin\\delta &=& \\sin L_a\\sin \\mathcal{E}+\\cos L_a \\cos \\mathcal{E} \\cos \\mathcal{A} \n",
    "\\end{eqnarray}\n",
    "</p>"
   ]
  },
  {
   "cell_type": "markdown",
   "metadata": {},
   "source": [
    "<div class=advice>\n",
    "**Note:** In the above conversion equations $L_a$ denotes latitude (see [$\\S$ 3.1 &#10142;](../3_Positional_Astronomy/3_1_Equatorial_Coordinates.ipynb)).\n",
    "</div>"
   ]
  },
  {
   "cell_type": "markdown",
   "metadata": {},
   "source": [
    "The above equations were derived by applying the spherical trigonometric identities in [$\\S$ 12.13 &#10142;](../2_Mathematical_Groundwork/2_13_Spherical_Trigonometry.ipynb) <!--\\ref{math:sec:st}--> to \n",
    "the triangle $\\Delta PSZ$ which is depicted in [Fig. 3.6 &#10549;](#pos:fig:conversion_alaz_radec) <!--\\ref{pos:fig:conversion_alaz_radec}--> (see [Appendix &#10142;](../0_Introduction/2_Appendix.ipynb))."
   ]
  },
  {
   "cell_type": "markdown",
   "metadata": {},
   "source": [
    "<img src='figures/conversion.png' width=40%>"
   ]
  },
  {
   "cell_type": "markdown",
   "metadata": {},
   "source": [
    "<div align=\"center\">**Figure 3.6**: The source-celestial pole-zenith triangle; which enables us to derive the conversion equations between horizontal and equatorial coordinates. The red plane represents the fundamental plane of the horizontal coordinate system, while the blue plane represents the \n",
    "horizontal plane of the celestial coordinate system.</div> <a id='pos:fig:conversion_alaz_radec'></a> <!--\\label{pos:fig:conversion_alaz_radec}-->"
   ]
  },
  {
   "cell_type": "markdown",
   "metadata": {},
   "source": [
    "<div class=advice>\n",
    "**Note:** The paralactic angle $q$ associated with a specific location on the celestial sphere $S$ is the angle between two great circles; the hour circle of $S$ and the great circle that passes through zenith and $S$. The paralactic angle $q$ is depicted in [Fig. 3.6 &#10549;](#pos:fig:conversion_alaz_radec). <!--\\ref{pos:fig:conversion_alaz_radec}--> \n",
    "The paralactic angle and how it pertains to radio interferometry is discussed in more detail in [$\\S$ 7.7 &#10142;](../7_Observing_Systems/7_7_antenna_mounts_and_parallactic_angle.ipynb).\n",
    "</div>"
   ]
  },
  {
   "cell_type": "markdown",
   "metadata": {},
   "source": [
    "***\n",
    "\n",
    "Next: [3.4 Direction Cosine Coordinates ($l,m,n$)](../3_Positional_Astronomy/3_4_Direction_Cosine_Coordinates.ipynb) "
   ]
  }
 ],
 "metadata": {
  "kernelspec": {
   "display_name": "Python 2",
   "language": "python",
   "name": "python2"
  },
  "language_info": {
   "codemirror_mode": {
    "name": "ipython",
    "version": 2
   },
   "file_extension": ".py",
   "mimetype": "text/x-python",
   "name": "python",
   "nbconvert_exporter": "python",
   "pygments_lexer": "ipython2",
   "version": "2.7.3"
  }
 },
 "nbformat": 4,
 "nbformat_minor": 0
}
