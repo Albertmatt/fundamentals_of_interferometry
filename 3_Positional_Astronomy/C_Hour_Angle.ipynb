{
 "cells": [
  {
   "cell_type": "markdown",
   "metadata": {},
   "source": [
    "***\n",
    "\n",
    "* [Outline](../0_Introduction/0_introduction.ipynb)\n",
    "* [Glossary](../0_Introduction/1_glossary.ipynb)\n",
    "* 3. Positional Astronomy  \n",
    "    * Previous: [3.2 Equatorial Coordinates (RA/DEC)](../3_Positional_Astronomy/B_Equatorial_Coordinates.ipynb)\n",
    "    * Next: [3.4 Local Sidereal Time (LST)](../3_Positional_Astronomy/D_Local_Sidereal_Time.ipynb)\n",
    "\n",
    "***"
   ]
  },
  {
   "cell_type": "markdown",
   "metadata": {},
   "source": [
    "Import standard modules:"
   ]
  },
  {
   "cell_type": "code",
   "execution_count": null,
   "metadata": {
    "collapsed": true
   },
   "outputs": [],
   "source": [
    "import numpy as np\n",
    "import matplotlib.pyplot as plt\n",
    "%matplotlib inline"
   ]
  },
  {
   "cell_type": "markdown",
   "metadata": {},
   "source": [
    "## 3.3 Hour Angle (HA)<a id='pos:sec:ha'></a> <!--\\label{pos:sec:ha}-->"
   ]
  },
  {
   "cell_type": "markdown",
   "metadata": {},
   "source": [
    "*Zenith* is the position on the celestial sphere which lies directly above an observer on earth. The *local meridian* is the hour circle on the celestial sphere which we form when we connect the NCP with zenith. Celestial objects rise in the east reach their highest point when they cross the local meridian (we say they are at transit) and set in the west. The *hour angle* (denoted with $H$) of a celestial body is the angular distance (measured in hours) between the hour circle of a celesteal object and the local meridian measured along the celestial equator in a westerly direction. In other words, the hour angle is the time that still needs to pass before a celestial body is at transit if it is negative or the time since it was at transit if it is positive. We can therefore use it instead of right ascension as a celestial longitude to keep track of the stars as they move accros the sky when observed from a fixed point on earth.  "
   ]
  },
  {
   "cell_type": "markdown",
   "metadata": {},
   "source": [
    "***\n",
    "\n",
    "Next: [3.4 Local Sidereal Time (LST)](../3_Positional_Astronomy/D_Local_Sidereal_Time.ipynb)"
   ]
  }
 ],
 "metadata": {
  "kernelspec": {
   "display_name": "Python 2",
   "language": "python",
   "name": "python2"
  },
  "language_info": {
   "codemirror_mode": {
    "name": "ipython",
    "version": 2
   },
   "file_extension": ".py",
   "mimetype": "text/x-python",
   "name": "python",
   "nbconvert_exporter": "python",
   "pygments_lexer": "ipython2",
   "version": "2.7.3"
  }
 },
 "nbformat": 4,
 "nbformat_minor": 0
}
