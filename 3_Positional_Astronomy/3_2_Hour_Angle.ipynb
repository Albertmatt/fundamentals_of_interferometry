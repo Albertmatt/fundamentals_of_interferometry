{
 "cells": [
  {
   "cell_type": "markdown",
   "metadata": {},
   "source": [
    "***\n",
    "\n",
    "* [Outline](../0_Introduction/0_introduction.ipynb)\n",
    "* [Glossary](../0_Introduction/1_glossary.ipynb)\n",
    "* [3. Positional Astronomy](3_0_Introduction.ipynb)\n",
    "    * Previous: [3.1 Equatorial Coordinates (RA,DEC)](3_1_Equatorial_Coordinates.ipynb)\n",
    "    * Next: [3.3 Horizontal Coordinates (ALT,AZ)](3_3_Horizontal_Coordinates.ipynb) \n",
    "\n",
    "***"
   ]
  },
  {
   "cell_type": "markdown",
   "metadata": {},
   "source": [
    "Import standard modules:"
   ]
  },
  {
   "cell_type": "code",
   "execution_count": null,
   "metadata": {
    "collapsed": false
   },
   "outputs": [],
   "source": [
    "import numpy as np\n",
    "import matplotlib.pyplot as plt\n",
    "%matplotlib inline\n",
    "from IPython.display import HTML \n",
    "HTML('../style/course.css') #apply general CSS"
   ]
  },
  {
   "cell_type": "markdown",
   "metadata": {},
   "source": [
    "Import section specific modules:"
   ]
  },
  {
   "cell_type": "code",
   "execution_count": null,
   "metadata": {
    "collapsed": false
   },
   "outputs": [],
   "source": [
    "from IPython.display import HTML\n",
    "HTML('../style/code_toggle.html')"
   ]
  },
  {
   "cell_type": "markdown",
   "metadata": {},
   "source": [
    "## 3.2 Hour Angle (HA) and Local Sidereal Time (LST) "
   ]
  },
  {
   "cell_type": "markdown",
   "metadata": {},
   "source": [
    "As we already mentioned in the chapter introduction, the static equatorial coordinates right ascension and declination are not enough if one wants to pin point the location of an object in the night sky from earth. We introduce two concepts here (namely hour angle and local sidereal time) which together with the static equatorial coordinates allow an observer to track celestial objects from earth.  "
   ]
  },
  {
   "cell_type": "markdown",
   "metadata": {},
   "source": [
    "### 3.3.1 Hour Angle (HA)<a id='pos:sec:ha'></a> <!--\\label{pos:sec:ha}-->"
   ]
  },
  {
   "cell_type": "markdown",
   "metadata": {},
   "source": [
    "*Zenith* is the position on the celestial sphere which lies directly above an observer on earth. *Nadir* is the position on the celestial sphere which lies directly below an observer on earth. The *local meridian* is the hour circle on the celestial sphere which we form when we connect the NCP with zenith. Celestial objects rise in the east reach their highest point when they cross the local meridian (we say they are at *transit*) and set in the west. \n",
    "<div class=advice>\n",
    "<b>Note:</b> The *hour angle* (denoted with $H$) of a celestial body is the angular distance (measured in hours) between the hour circle of a celesteal object and the local meridian measured along the celestial equator in a westerly direction.\n",
    "</div><br>\n",
    "In other words, the hour angle is the time that still needs to pass before a celestial body is at transit if it is negative or the time since it was at transit if it is positive. We can therefore use it instead of right ascension as a celestial longitude to keep track of the stars as they move accros the sky of an earth bound observer."
   ]
  },
  {
   "cell_type": "markdown",
   "metadata": {},
   "source": [
    "### 3.3.2 Local Sidereal Time (LST) <a id='pos:sec:lst'></a> <!--\\label{pos:sec:lst}-->"
   ]
  },
  {
   "cell_type": "markdown",
   "metadata": {},
   "source": [
    "Our wrist watches keep track of when the sun will be at transit. The solar time-keeping system we use ensures that our working day contains repeats with the rising and setting of the sun. Astronomers are however more intereseted in keeping track of the stars, since they want to observe them. They therefore use a sidereal time-keeping system to keep track of the vernal equinox (instead of the sun). \n",
    "\n",
    "<div class=advice>\n",
    "<b>Note:</b> The hour angle of the first point of airies is your <em>local sideral time</em>.\n",
    "</div><br>\n",
    "Once you know the time before or since the vernal equinox was at transit you can easily determine when any other star will be at transit. This is true, since there exists a simple relation between the hour angle of a celestial body and your local sidereal time which is given by: \n",
    "\n",
    "<p class=conclusion>\n",
    "  <font size=4> <b>Relation between HA, $\\alpha$ and LST</b></font>\n",
    "  <br>\n",
    "  <br>\n",
    "\\begin{equation}\n",
    "H = \\textrm{LST} - \\alpha.\n",
    "\\end{equation}\n",
    "</p><br>\n",
    "The above relation is presented graphically in [Fig. 3.2.1  &#10549;](#pos:fig:hour_angle) <!--\\ref{pos:fig:hour_angle}-->."
   ]
  },
  {
   "cell_type": "markdown",
   "metadata": {},
   "source": [
    "<img src='figures/hour.svg' width=40%>"
   ]
  },
  {
   "cell_type": "markdown",
   "metadata": {},
   "source": [
    "**Figure 3.2.1**: The relationship that exists between $\\alpha$, $H$ and LST. The red plane represents the fundamental plane of the celestial coordinate system. The\n",
    "the blue plane represent the fundamental plane of the horizontal coordinate system (see [$\\S$ 3.3 &#10142;](3_3_Horizontal_Coordinates.ipynb)). <a id='pos:fig:hour_angle'></a> <!--\\label{pos:fig:hour_angle}-->"
   ]
  },
  {
   "cell_type": "markdown",
   "metadata": {},
   "source": [
    "The natrual question now arises, why do we need separate time-keeping systems to keep track of the stars and the sun? The answer is that a *sidereal day* is 4 minutes shorter than a *solar day*. A solar day is the time it takes for the sun to return to the same position in the sky, while a sidereal day is the amount of time it takes for an arbitrary star to return to the same location in the sky. We can explain the reason for this time difference with the aid of Fig. [Fig. 3.2.2  &#10549;](#pos:fig:sidereal) <!--\\ref{pos:fig:sidereal}-->. When the sun reappears at the same location in the sky (after 24 hours) it appears to have moved on the celestial sphere (it has moved relative to the background stars). The apparent movement of the sun on the celestial sphere is due to the fact that the earth needs to complete a little bit more than one full rotation for the sun to reappear at the same position in the sky which in turn comes about due to the fact that the earth orbits the sun. Since the background stars are much further away the earth only needs one full rotation (23 hours and 56 minutes) for an arbitrary star to reappear at the same position in the sky."
   ]
  },
  {
   "cell_type": "markdown",
   "metadata": {},
   "source": [
    "<img src='figures/sidereal.png' width=50%>"
   ]
  },
  {
   "cell_type": "markdown",
   "metadata": {},
   "source": [
    "**Figure 3.2.2**: Since the Earth and Sun rotate around each other on a yearly cycle the sidereal day is shorter than a solar day.<a id='pos:fig:sidereal'></a> <!--\\label{pos:fig:sidereal}-->"
   ]
  },
  {
   "cell_type": "markdown",
   "metadata": {},
   "source": [
    "We are now in a position to attain a better understanding of what the vernal equinox physically represents. As discussed in the previous paragraph the sun appears to move on the celestial sphere (its right ascension and declination changes throughout the year). As mentioned in [$\\S$ 3.1 &#10142;](3_1_Equatorial_Coordinates.ipynb), the imaginary path it traverses on the celestial sphere is known as the ecliptic. The ecliptic is depicted in [Fig. 3.2.3  &#10549;](#pos:fig:radec) <!--\\ref{pos:fig:radec}-->. The vernal equinox is the point on the celestial sphere where the Sun crosses the celestial equator from south to north. The vernal equinox is currently in Pisces, but used to be in Airies. Which is why it is also known as the first point of Airies. It has moved due to *precession* (the change in the orientation of earth's rotational axis). "
   ]
  },
  {
   "cell_type": "markdown",
   "metadata": {},
   "source": [
    "<img src='figures/RADEC.svg' width=100%>"
   ]
  },
  {
   "cell_type": "markdown",
   "metadata": {},
   "source": [
    "**Figure 3.2.3**: The ecliptic is marked in yellow. The celestial equator is marked in blue. The stars that have the same color and are located near each other belong to the same constellation. The vernal equinox is the point where the ecliptic crosses the celestial equator from south to north. The twelve zodiac constellations are labelled in green. The ecliptic traverses through all twelve these constellations (i.e. the sun passes through these twelve constellations during its yearly journey).<a id='pos:fig:radec'></a> <!--\\label{pos:fig:radec}-->"
   ]
  },
  {
   "cell_type": "markdown",
   "metadata": {},
   "source": [
    "***\n",
    "\n",
    "Next: [3.3 Horizontal Coordinates (ALT,AZ)](3_3_Horizontal_Coordinates.ipynb)"
   ]
  }
 ],
 "metadata": {
  "kernelspec": {
   "display_name": "Python 2",
   "language": "python",
   "name": "python2"
  },
  "language_info": {
   "codemirror_mode": {
    "name": "ipython",
    "version": 2
   },
   "file_extension": ".py",
   "mimetype": "text/x-python",
   "name": "python",
   "nbconvert_exporter": "python",
   "pygments_lexer": "ipython2",
   "version": "2.7.6"
  }
 },
 "nbformat": 4,
 "nbformat_minor": 0
}
