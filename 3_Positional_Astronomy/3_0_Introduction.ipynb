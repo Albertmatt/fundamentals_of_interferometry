{
 "cells": [
  {
   "cell_type": "markdown",
   "metadata": {},
   "source": [
    "***\n",
    "\n",
    "* [Outline](../0_Introduction/0_introduction.ipynb)\n",
    "* [Glossary](../0_Introduction/1_glossary.ipynb)\n",
    "* [3. Positional Astronomy]()\n",
    "    * Next: [3.1 Spherical Trigonometry](../3_Positional_Astronomy/3_1_Spherical_Trigonometry.ipynb)\n",
    "\n",
    "***"
   ]
  },
  {
   "cell_type": "markdown",
   "metadata": {},
   "source": [
    "# Chapter 3: Positional Astronomy"
   ]
  },
  {
   "cell_type": "markdown",
   "metadata": {},
   "source": [
    "In this chapter we present the positional astronomy we need to comprehend interferometry. We start the chapter by investigating the field of spherical trigonometry (see [Sec. 3.1 &#10142;](../3_Positional_Astronomy/3_1_Spherical_Trigonometry.ipynb)). We then review the following astronomical coordinate systems in this chapter: the equatorial coordinate system, the horizontal coordinate system and the direction cosine coordinate system, which are discussed in [Sec. 3.2 &#10142;](../3_Positional_Astronomy/3_2_Equatorial_Coordinates.ipynb), [Sec. 3.5 &#10142;](../3_Positional_Astronomy/3_5_Horizontal_Coordinates.ipynb) and [Sec. 3.6 &#10142;](../3_Positional_Astronomy/3_6_Direction_Cosine_Coordinates.ipynb) respectively. We use the equatorial coordinate system to make an all sky source catalogue. The horizontal coordinate system is used to point a telescope to a specific location in an observer's local sky. The direction cosine coordinate system is used to make local sky-maps around our field center. It is also important in radio interferometry as it allows us to define a Fourier relationship between the sky brightness and the measurements that the interferometer makes. We use spherical trigonometry to convert between the different astronomical coordinate systems (see Appendix).\n",
    "\n",
    "There are two more concepts that we aslo discuss. The equatorial coordinate system is static, i.e. the positions of the stars do not change much within one generation. The longitude equivalent equatorial coordinate is known as right ascension. The stars do however move across the sky of an earth-bound observer all the time, we therefore need a mutable longitude equavalent equatorial equatorial coordinate if we wish to keep track of the stars from earth. This is exactly what the hour angle provides. The hour angle is discussed in more detail in [Sec. 3.3 &#10142;](../3_Positional_Astronomy/3_3_Hour_Angle.ipynb). The local sidereal time, is the current star time of a local observer. We need a seperate \"star\" clock as our normal civil clocks keep track of the sun. We require a seperate star clock as the sun and an arbitrary star take different amounts of time to reappear at the same position in the sky. We discuss this in greater detail in [Sec. 3.4 &#10142;](../3_Positional_Astronomy/3_4_Local_Sidereal_Time.ipynb). We use the local sidereal time to obtain the hour anlge of a source from its right ascension. In general, we do not explicitly reference any outside material in this chapter, but the reader is referred to ?? as it provides an in depth review of astronomical coordinate systems. It can therefore be regarded as the main reference of this chapter.      "
   ]
  },
  {
   "cell_type": "markdown",
   "metadata": {},
   "source": [
    "#### Chapter Sections\n",
    "\n",
    "1. [Spherical Trigonometry](../3_Positional_Astronomy/3_1_Spherical_Trigonometry.ipynb)\n",
    "2. [Equatorial Coordinates (RA, Dec)](../3_Positional_Astronomy/3_2_Equatorial_Coordinates.ipynb)\n",
    "3. [Hour Angle (HA)](../3_Positional_Astronomy/3_3_Hour_Angle.ipynb)\n",
    "4. [Local Sidereal Time (LST)](../3_Positional_Astronomy/3_4_Local_Sidereal_Time.ipynb)\n",
    "5. [Horizontal Coordinates (ALT,AZ)](../3_Positional_Astronomy/3_5_Horizontal_Coordinates.ipynb)\n",
    "6. [Direction Cosine Coordinates ($l$,$m$,$n$)](../3_Positional_Astronomy/3_6_Direction_Cosine_Coordinates.ipynb)"
   ]
  },
  {
   "cell_type": "markdown",
   "metadata": {},
   "source": [
    "#### Chapter Editors\n",
    "\n",
    "#### Chapter Contributors\n",
    "\n",
    "* Trienko Grobler (3.1, 3.2, 3.3, 3.4, 3.5, 3.6)\n",
    "* Julien Girard (3.2)"
   ]
  },
  {
   "cell_type": "markdown",
   "metadata": {},
   "source": [
    "***\n",
    "\n",
    "Next: [3.1 Spherical Trigonometry](../3_Positional_Astronomy/3_1_Spherical_Trigonometry.ipynb)"
   ]
  }
 ],
 "metadata": {
  "kernelspec": {
   "display_name": "Python 2",
   "language": "python",
   "name": "python2"
  },
  "language_info": {
   "codemirror_mode": {
    "name": "ipython",
    "version": 2
   },
   "file_extension": ".py",
   "mimetype": "text/x-python",
   "name": "python",
   "nbconvert_exporter": "python",
   "pygments_lexer": "ipython2",
   "version": "2.7.3"
  }
 },
 "nbformat": 4,
 "nbformat_minor": 0
}
