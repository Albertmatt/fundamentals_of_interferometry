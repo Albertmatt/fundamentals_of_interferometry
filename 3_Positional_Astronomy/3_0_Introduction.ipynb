{
 "cells": [
  {
   "cell_type": "markdown",
   "metadata": {},
   "source": [
    "***\n",
    "\n",
    "* [Outline](../0_Introduction/0_introduction.ipynb)\n",
    "* [Glossary](../0_Introduction/1_glossary.ipynb)\n",
    "* 3. Positional Astronomy \n",
    "    * Next: [3.1 Spherical Trigonometry]()\n",
    "\n",
    "***"
   ]
  },
  {
   "cell_type": "markdown",
   "metadata": {},
   "source": [
    "# Chapter 3: Positional Astronomy"
   ]
  },
  {
   "cell_type": "markdown",
   "metadata": {},
   "source": [
    "In this chapter we present the positional astronomy we need to comprehend interferometry. We start the chapter by investigating the field of spherical trigonometry (see Sec ??). We use spherical trigonometry to convert between different astronomical coordinate systems. We will be studying the following astronomical coordinate systems in this chapter: the equatorial coordinate system, the horizontal coordinate system and the direction cosine coordinate system, which are discussed in Sec ??, Sec. ?? and Sec. ?? respectively. We use the equatorial coordinate system to make an all sky source catalogue. The horizontal coordinate system is used to point a telescope to a specific location in an observer's local sky (as mentioned earlier we use spherical trigonometry to convert between these two coordinate systems). The direction cosine coordinate system is used to make local sky-maps around our field center. It is also important in radio interferometry as it allows us to define a Fourier relationship between the sky brightness and the measurements that the interferometer makes. There are two more concepts that we aslo discuss. The equatorial coordinate system is static, i.e. the positions of the stars do not change within one generation. The longitude equivalent equatorial coordinate is known as right ascension. The stars do however move across the sky of an earth-bound observer, we therefore need a mutable longitude equavalent equatorial equatorial coordinate if we wish to keep track of the stars from earth. This is exactly what the hour angle provides. The hour angle is discussed in more detail in Sec. The local sidereal time, is the current star time of a local observer. We need a seperate star clock as our normal civil clocks keep track of the sun. We require a seperate star clock as the sun and an arbitrary star take different amounts of time to reappear at the same position in the sky. We discuss this in greater detail in Sec. We use the local sidereal time to obtain the hour anlge of a source from its right ascension. In general, we do not explicitly reference any outside material in this chapter, but the reader is referred to ?? as it provides an in depth study of astronomical coordinate systems. It also forms the basis of most of the material in this chapter.     "
   ]
  },
  {
   "cell_type": "markdown",
   "metadata": {},
   "source": [
    "#### Chapter Sections\n",
    "\n",
    "1. [Calibration as a Least Squares Problem](8_1_Calibration_Least_Squares_Problem.ipynb)\n",
    "2. [First Generation Calibration (1GC)](8_2_1GC.ipynb)\n",
    "2. [Second Generation Calibration (2GC)](8_3_2GC.ipynb)\n",
    "3. [Third Generation Calibration (3GC)](8_4_3GC.ipynb)"
   ]
  },
  {
   "cell_type": "markdown",
   "metadata": {},
   "source": [
    "#### Chapter Editors\n",
    "\n",
    "#### Chapter Contributors\n",
    "\n",
    "* Trienko Grobler (8.1, 8.3, 8.4)\n",
    "* Jonathan Kenyon (8.2)"
   ]
  },
  {
   "cell_type": "markdown",
   "metadata": {},
   "source": [
    "***\n",
    "\n",
    "Next: [8.1 Calibration as a Least Squares Problem](8_1_Calibration_Least_Squares_Problem.ipynb)"
   ]
  },
  {
   "cell_type": "code",
   "execution_count": null,
   "metadata": {
    "collapsed": true
   },
   "outputs": [],
   "source": []
  }
 ],
 "metadata": {
  "kernelspec": {
   "display_name": "Python 2",
   "language": "python",
   "name": "python2"
  },
  "language_info": {
   "codemirror_mode": {
    "name": "ipython",
    "version": 2
   },
   "file_extension": ".py",
   "mimetype": "text/x-python",
   "name": "python",
   "nbconvert_exporter": "python",
   "pygments_lexer": "ipython2",
   "version": "2.7.3"
  }
 },
 "nbformat": 4,
 "nbformat_minor": 0
}
