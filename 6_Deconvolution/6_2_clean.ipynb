{
 "cells": [
  {
   "cell_type": "markdown",
   "metadata": {},
   "source": [
    "***\n",
    "\n",
    "* [Outline](../0_Introduction/0_introduction.ipynb)\n",
    "* [Glossary](../0_Introduction/1_glossary.ipynb)\n",
    "* [6. Deconvolution in Imaging](6_0_introduction.ipynb)  \n",
    "    * Previous: [6.1 Sky Models](6_1_sky_models.ipynb)  \n",
    "    * Next: [6.3 Residuals and Image Quality](6_3_residuals_and_iqa.ipynb)\n",
    "\n",
    "***"
   ]
  },
  {
   "cell_type": "markdown",
   "metadata": {},
   "source": [
    "Import standard modules:"
   ]
  },
  {
   "cell_type": "code",
   "execution_count": null,
   "metadata": {
    "collapsed": false
   },
   "outputs": [],
   "source": [
    "import numpy as np\n",
    "import matplotlib.pyplot as plt\n",
    "%matplotlib inline"
   ]
  },
  {
   "cell_type": "markdown",
   "metadata": {},
   "source": [
    "Import section specific modules:"
   ]
  },
  {
   "cell_type": "code",
   "execution_count": null,
   "metadata": {
    "collapsed": false
   },
   "outputs": [],
   "source": [
    "import matplotlib.image as mpimg"
   ]
  },
  {
   "cell_type": "markdown",
   "metadata": {},
   "source": [
    "***"
   ]
  },
  {
   "cell_type": "markdown",
   "metadata": {},
   "source": [
    "## 6.2 Point Source Assumption (CLEAN)<a id='deconv:sec:clean'></a>"
   ]
  },
  {
   "cell_type": "markdown",
   "metadata": {},
   "source": [
    "**TODO**\n",
    "\n",
    "1. setup the concept of clean: everything is a point source in the image domain, we know what the PSF looks like (approximately), go through the image and find the peak, subtract off the PSF centred on that pixel (just a precentage of the flux), and repeat until happy (ill-defined)\n",
    "2. Laura's 1D deconvolution example\n",
    "3. imager-based 2D set through example\n",
    "4. describe image-domain CLEAN (Hogbom), limits of possible clean region, advantages in speed\n",
    "5. extend to gridded vis-domain (Clark), limits in errors due to gridding, advantage in speed and no region issue\n",
    "6. extend to ungridded vis-domain (Cotton-Schwab), requires a de-gridder, computationally more expensive, but has the best results\n",
    "7. show the effect in the visibility domain, converts the tracks into a Gaussian distribution, introduce the restoring beam\n",
    "8. limits of clean: complex sources, large-FOV varying PSF ; current work in compressed sensing and bayesian model selection (don't actually need an image to recover the science)\n",
    "9. extra issues: multi-frequency, multi-scale synthesis, list of current imagers\n",
    "10. lead into residuals and IQA: what makes a good image?"
   ]
  },
  {
   "cell_type": "markdown",
   "metadata": {},
   "source": [
    "***\n",
    "\n",
    "Next: [6.3 Residuals and Image Quality](6_3_residuals_and_iqa.ipynb)"
   ]
  }
 ],
 "metadata": {
  "kernelspec": {
   "display_name": "Python 2",
   "language": "python",
   "name": "python2"
  },
  "language_info": {
   "codemirror_mode": {
    "name": "ipython",
    "version": 2
   },
   "file_extension": ".py",
   "mimetype": "text/x-python",
   "name": "python",
   "nbconvert_exporter": "python",
   "pygments_lexer": "ipython2",
   "version": "2.7.6"
  }
 },
 "nbformat": 4,
 "nbformat_minor": 0
}
