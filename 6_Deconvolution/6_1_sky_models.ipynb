{
 "cells": [
  {
   "cell_type": "markdown",
   "metadata": {},
   "source": [
    "***\n",
    "\n",
    "* [Outline](../0_Introduction/0_introduction.ipynb)\n",
    "* [Glossary](../0_Introduction/1_glossary.ipynb)\n",
    "* [6. Deconvolution in Imaging](6_0_introduction.ipynb)  \n",
    "    * Previous: [6. Introduction](6_0_introduction.ipynb)  \n",
    "    * Next: [6.2 Point Source Assumption (CLEAN)](6_2_clean.ipynb)\n",
    "\n",
    "***"
   ]
  },
  {
   "cell_type": "markdown",
   "metadata": {},
   "source": [
    "Import standard modules:"
   ]
  },
  {
   "cell_type": "code",
   "execution_count": null,
   "metadata": {
    "collapsed": false
   },
   "outputs": [],
   "source": [
    "import numpy as np\n",
    "import matplotlib.pyplot as plt\n",
    "%matplotlib inline"
   ]
  },
  {
   "cell_type": "markdown",
   "metadata": {},
   "source": [
    "Import section specific modules:"
   ]
  },
  {
   "cell_type": "code",
   "execution_count": null,
   "metadata": {
    "collapsed": false
   },
   "outputs": [],
   "source": [
    "import matplotlib.image as mpimg"
   ]
  },
  {
   "cell_type": "markdown",
   "metadata": {},
   "source": [
    "***"
   ]
  },
  {
   "cell_type": "markdown",
   "metadata": {},
   "source": [
    "## 6.1 Sky Models<a id='deconv:sec:skymodels'></a>"
   ]
  },
  {
   "cell_type": "markdown",
   "metadata": {},
   "source": [
    "**TODO**\n",
    "\n",
    "1. the goal of deconvolution is to extract a true model of the sky by including prior information into imaging to seperate the sky from instrumentation effects (i.e. the PSF resonse)\n",
    "2. final data product is a model of the observed sky with instrumentational effects removed and a residual image; define restored image\n",
    "3. the main assumption that is made is that most sources are point sources, or can be well represented by a collection of point sources, basis from original CLEAN\n",
    "4. point source: def'n, frequency dependence, stokes parameters\n",
    "5. discuss when a source is resolved: different baselines, angular resolution\n",
    "6. why is this reasonable: most sources are 'unresolved', i.e. they appear as PSF responses. sources which are resolved, we only measure them on scales the size of the PSF. The PSF acts as a spatial low pass filter.\n",
    "7. issues and limits to point sources: extended sources are resolved on some baselines (more power) vs other baselines (less power), point source collection has the same power on all baselines\n",
    "8. extend to Gaussian: delta function is just a specific case of a Gaussian, other advanced models (shapelets, basis sets)\n",
    "9. lead to CLEAN deconvolution"
   ]
  },
  {
   "cell_type": "markdown",
   "metadata": {},
   "source": [
    "***\n",
    "\n",
    "Next: [6.2 Point Source Assumption (CLEAN)](6_2_clean.ipynb)"
   ]
  }
 ],
 "metadata": {
  "kernelspec": {
   "display_name": "Python 2",
   "language": "python",
   "name": "python2"
  },
  "language_info": {
   "codemirror_mode": {
    "name": "ipython",
    "version": 2
   },
   "file_extension": ".py",
   "mimetype": "text/x-python",
   "name": "python",
   "nbconvert_exporter": "python",
   "pygments_lexer": "ipython2",
   "version": "2.7.6"
  }
 },
 "nbformat": 4,
 "nbformat_minor": 0
}
