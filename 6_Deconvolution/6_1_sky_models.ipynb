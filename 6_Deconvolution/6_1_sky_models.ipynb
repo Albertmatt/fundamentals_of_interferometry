{
 "cells": [
  {
   "cell_type": "markdown",
   "metadata": {},
   "source": [
    "***\n",
    "\n",
    "* [Outline](../0_Introduction/0_introduction.ipynb)\n",
    "* [Glossary](../0_Introduction/1_glossary.ipynb)\n",
    "* [6. Deconvolution in Imaging](6_0_introduction.ipynb)  \n",
    "    * Previous: [6. Introduction](6_0_introduction.ipynb)  \n",
    "    * Next: [6.2 Point Source Assumption (CLEAN)](6_2_clean.ipynb)\n",
    "\n",
    "***"
   ]
  },
  {
   "cell_type": "markdown",
   "metadata": {},
   "source": [
    "Import standard modules:"
   ]
  },
  {
   "cell_type": "code",
   "execution_count": null,
   "metadata": {
    "collapsed": false
   },
   "outputs": [],
   "source": [
    "import numpy as np\n",
    "import matplotlib.pyplot as plt\n",
    "%matplotlib inline"
   ]
  },
  {
   "cell_type": "markdown",
   "metadata": {},
   "source": [
    "Import section specific modules:"
   ]
  },
  {
   "cell_type": "code",
   "execution_count": null,
   "metadata": {
    "collapsed": false
   },
   "outputs": [],
   "source": [
    "import matplotlib.image as mpimg"
   ]
  },
  {
   "cell_type": "markdown",
   "metadata": {},
   "source": [
    "***"
   ]
  },
  {
   "cell_type": "markdown",
   "metadata": {},
   "source": [
    "## 6.1 Sky Models<a id='deconv:sec:skymodels'></a>"
   ]
  },
  {
   "cell_type": "markdown",
   "metadata": {},
   "source": [
    "Before we dive into deconvolution methods we need to introduce the concept of a *sky model*. Since we are making an incomplete sampling of the visibilities with limited resolution we do not recover the 'true' sky from an observation. The dirty image is the 'true' sky convolved (effectively blurred) out by the array PSF. We would like to some how recover a model for the true sky. At the end of deconvolution one of the outputs is the sky model.\n",
    "\n",
    "We can use some prior information about the sources in the sky and the array as *a priori* information in our deconvolution attempt. The array and observation configuration results in a PSF which has a primary lobe of a particular scale, this is the effective resolution of the array. As we have seen in $\\S$ 5.4 the choice of weighting functions can result in different PSF resolutions. But, no matter the array there is a limit to the resolution, so any source which has a smaller angular scale than the PSF resolution appears to be a *point source*. A point source is an idealized source which has no angular scale and is represented by a spatial Dirac $\\delta$-function. Though all sources in the sky have a angular scale, many are much smaller than the angular resolution of the array PSF, so they can be described as a simple point source.\n",
    "\n",
    "A nice features of the point source model of a source is that the Fourier transform of a Dirac $\\delta$-function is a simple complex phase function and the flux is a constant value"
   ]
  },
  {
   "cell_type": "markdown",
   "metadata": {},
   "source": [
    "$$\n",
    "\\mathscr{F} \\{ C \\cdot \\delta\\,(l- l_0, m - m_0)\\}(u, v) = C \\cdot\\iint \\limits_{-\\infty}^{\\infty} \\delta\\,(l- l_0, m - m_0) \\, e^{-2 \\pi i (ul + vm)}\\,dl\\,dm = C \\cdot e^{-2 \\pi i (ul_0 + vm_0)}\n",
    "$$"
   ]
  },
  {
   "cell_type": "markdown",
   "metadata": {},
   "source": [
    "where $C$ is the flux of the source, and $(l_0, m_0)$ is the phase centre. At the phase centre $(l_0, m_0)$, $\\mathscr{F} \\{ C \\cdot \\delta\\,(0, 0)\\} = C$. A $\\delta$-function based sky model leads to a nice, and computationally fast, method to generate visibilities, which is useful for deconovlution methods as we will see later in this chapter.\n",
    "\n",
    "Of course we need to consider if using a collection of $\\delta$-functions for a sky model is actually a good idea. The short answer is 'yes', the long answer 'yes to a limit' and the current research is focused on using more advanced techniques to improve deconvolution. Most sources in the sky are *unresolved*, that is they have a much smaller angular resolution then that of the array PSF. Sky sources which are *resolved* are a bit trickier, we will consider these later in the section. \n",
    "\n",
    "**TODO: sparse representation, CS link delta in image domain but not in vis domain**\n",
    "A $\\delta$-funciton basis set is also good for astronomical images because these images are generally *sparse*. That is, out of the thousands or millions of pixels in the image, only a few of the pixels contain sky sources (i.e. thesepixels contain the information we desire), the rest of the pixels contain mostly noise (i.e. contain no information). This differs from a natural image, for example a photograph of a duck, which is simply a collection of $\\delta$-functions with different constant scale factors, one for each pixel in the image. Every pixel in a natural image generally contains information.\n",
    "\n",
    "This is because the $\\delta$-function can be used a complete orthogonal basis set. The same is true for an image produced with an interferometric array. But, we know that the flux of most of the pixels contain noise or are dominated by PSF sidelobes. Only a few of the pixels contain true sources which we would like to include in our sky model. Looked in a different way, deconvolution is a process of filtering out pixels which contain true sky sources from those pixels that are dominated by noise.\n",
    "\n",
    "Because $\\delta$-functions make up a complete basis set then any image can be constructed out of a large enough set of these functions. "
   ]
  },
  {
   "cell_type": "markdown",
   "metadata": {},
   "source": [
    "**TODO**\n",
    "\n",
    "1. the goal of deconvolution is to extract a true model of the sky by including prior information into imaging to seperate the sky from instrumentation effects (i.e. the PSF resonse)\n",
    "2. final data product is a model of the observed sky with instrumentational effects removed and a residual image; define restored image\n",
    "3. the main assumption that is made is that most sources are point sources, or can be well represented by a collection of point sources, basis from original CLEAN\n",
    "4. point source: def'n, frequency dependence, stokes parameters\n",
    "5. discuss when a source is resolved: different baselines, angular resolution\n",
    "6. why is this reasonable: most sources are 'unresolved', i.e. they appear as PSF responses. sources which are resolved, we only measure them on scales the size of the PSF. The PSF acts as a spatial low pass filter.\n",
    "7. Example: delta function sky model convolved with PSF\n",
    "8. issues and limits to point sources: extended sources are resolved on some baselines (more power) vs other baselines (less power), point source collection has the same power on all baselines\n",
    "9. extend to Gaussian: delta function is just a specific case of a Gaussian, other advanced models (shapelets, basis sets)\n",
    "10. lead to CLEAN deconvolution\n",
    "\n",
    "naive deconvolution approach: broad threshold"
   ]
  },
  {
   "cell_type": "markdown",
   "metadata": {},
   "source": [
    "***\n",
    "\n",
    "Next: [6.2 Point Source Assumption (CLEAN)](6_2_clean.ipynb)"
   ]
  }
 ],
 "metadata": {
  "kernelspec": {
   "display_name": "Python 2",
   "language": "python",
   "name": "python2"
  },
  "language_info": {
   "codemirror_mode": {
    "name": "ipython",
    "version": 2
   },
   "file_extension": ".py",
   "mimetype": "text/x-python",
   "name": "python",
   "nbconvert_exporter": "python",
   "pygments_lexer": "ipython2",
   "version": "2.7.6"
  }
 },
 "nbformat": 4,
 "nbformat_minor": 0
}
