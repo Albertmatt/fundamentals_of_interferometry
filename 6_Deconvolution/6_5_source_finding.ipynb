{
 "cells": [
  {
   "cell_type": "markdown",
   "metadata": {},
   "source": [
    "***\n",
    "\n",
    "* [Outline](../0_Introduction/0_introduction.ipynb)\n",
    "* [Glossary](../0_Introduction/1_glossary.ipynb)\n",
    "* [6. Deconvolution in Imaging](6_0_introduction.ipynb)  \n",
    "    * Previous: [6.3 Residuals and Image Quality](6_3_residuals_and_iqa.ipynb)  \n",
    "    * Next: [6.x Further Reading and References](6_x_further_reading_and_references.ipynb)\n",
    "\n",
    "***"
   ]
  },
  {
   "cell_type": "code",
   "execution_count": null,
   "metadata": {
    "collapsed": false
   },
   "outputs": [],
   "source": [
    "import numpy as np\n",
    "import matplotlib.pyplot as plt\n",
    "%matplotlib inline"
   ]
  },
  {
   "cell_type": "code",
   "execution_count": null,
   "metadata": {
    "collapsed": false
   },
   "outputs": [],
   "source": [
    "import matplotlib\n",
    "from scipy import optimize\n",
    "#from lofar import bdsm\n",
    "import astropy.io.fits\n",
    "\n",
    "matplotlib.rcParams.update({'font.size': 18})\n",
    "matplotlib.rcParams.update({'figure.figsize': [12,8]} )"
   ]
  },
  {
   "cell_type": "markdown",
   "metadata": {},
   "source": [
    "# Introduction\n",
    "In radio astronomy, *source finding* is the process through which the attributes of radio sources -- such as flux density and mophorlogy -- are measured from data. We will only cover source finding in the image plane.\n",
    "\n",
    "\n",
    "Source finding techniques usually involve four steps, i) charecterizing the noise (or background estimation), ii) thresholding the data based on knowledge of the noise, iii) fidinding regions in the thresholded image which neighbouring pixels are \"similar\" (this process is often called *blob detection*), and iv) parameterizing these blobs through a carefully chosen function (usually a 2D Gaussian). The source attribues are then estimated from the parameterization of the blobs.\n",
    "\n",
    "## Noise charecterization\n",
    "As mentioned before, the radio data we process with source finders is noisy. In fact, radio images are generally dominated by noise. To charecterise this noise we need to make a few assumptions about its nature, namely we assume that the niose results from some stochastic process and that it can be described by a normal distribution\n",
    "\n",
    "$$ G(x| \\mu,\\sigma^2) = \\frac{1}{\\sigma \\sqrt{2\\pi}}\\text{exp}\\left( \\frac{-(x-\\mu)^2}{2\\sigma^2}\\right) $$  \n",
    "\n",
    "where, $\\mu$ is the mean (or expected value) of the varaible $x$, and $\\sigma^2$ is the varience of the distribution; $\\sigma$ is the standard deviation. Hence, the noise can be parameterized through the mean and the standard deviation. Let us illustrate this with an example. Bellow is a noise image from a MeerKAT simulation, along with a histogram of of the pixels (in log space)."
   ]
  },
  {
   "cell_type": "code",
   "execution_count": null,
   "metadata": {
    "collapsed": false
   },
   "outputs": [],
   "source": [
    "noise_image = \"figures/noise_image.fits\"\n",
    "with astropy.io.fits.open(noise_image) as hdu:\n",
    "    data = hdu[0].data[0,0,...]\n",
    "\n",
    "fig, (image, hist) = plt.subplots(1, 2, figsize=(18,6))\n",
    "histogram, bins = np.histogram(data.flatten(), bins=401)\n",
    "\n",
    "dmin = data.min()\n",
    "dmax = data.max()\n",
    "x = np.linspace(dmin, dmax, 401)\n",
    "\n",
    "im = image.imshow(data)\n",
    "hist.plot(x, histogram)\n",
    "hist.set_yscale('log')\n"
   ]
  },
  {
   "cell_type": "code",
   "execution_count": null,
   "metadata": {
    "collapsed": false
   },
   "outputs": [],
   "source": [
    "mean = data.mean()\n",
    "sigma = data.std()\n",
    "peak = histogram.max()\n",
    "\n",
    "gauss = lambda x, amp, mean, sigma: amp*np.exp( -(x-mean)**2/(2*sigma**2))\n",
    "\n",
    "fitdata = gauss(x, peak, mean, sigma)\n",
    "\n",
    "plt.plot(x, fitdata)\n",
    "plt.plot(x, histogram, \"o\")\n",
    "plt.yscale('log')\n",
    "plt.ylim(1)"
   ]
  },
  {
   "cell_type": "markdown",
   "metadata": {},
   "source": [
    "Now, in reality the noise has to measured in the presence of astrophysical emission. Futhermore, radio iamges are also contaminated by various instrumental effects which manifest as spurious emission in radio images. All these factors make it difficult to charercterize the noise in a radio image. However, since the noise generally dominates the images, the mean and standard deviation of the entire image are still fairly good approximations of the noise. Let us now insert a few sources in the noise image from earlier and then try to estimate noise."
   ]
  },
  {
   "cell_type": "code",
   "execution_count": null,
   "metadata": {
    "collapsed": false
   },
   "outputs": [],
   "source": [
    "noise_image = \"../data/fits/star_model_image.fits\"\n",
    "with astropy.io.fits.open(noise_image) as hdu:\n",
    "    data = hdu[0].data[0,0,...]\n",
    "\n",
    "fig, (image, hist) = plt.subplots(1, 2, figsize=(18,6))\n",
    "histogram, bins = np.histogram(data.flatten(), bins=101)\n",
    "\n",
    "\n",
    "dmin = data.min()\n",
    "dmax = data.max()\n",
    "x = np.linspace(dmin, dmax, 101)\n",
    "\n",
    "im = image.imshow(data)\n",
    "hist.plot(x, histogram)\n",
    "hist.set_yscale('log')\n"
   ]
  },
  {
   "cell_type": "code",
   "execution_count": null,
   "metadata": {
    "collapsed": false
   },
   "outputs": [],
   "source": [
    "mean = data.mean()\n",
    "sigma_std = data.std()\n",
    "\n",
    "peak = histogram.max()\n",
    "\n",
    "gauss = lambda x, amp, mean, sigma: amp*np.exp( -(x-mean)**2/(2*sigma**2))\n",
    "\n",
    "fitdata_std = gauss(x, peak, mean, sigma_std)\n",
    "\n",
    "plt.plot(x, fitdata_std, label=\"STD DEV\")\n",
    "\n",
    "plt.plot(x, histogram, \"o\", label=\"Data\")\n",
    "plt.legend(loc=1)\n",
    "\n",
    "plt.yscale('log')\n",
    "plt.ylim(1)"
   ]
  },
  {
   "cell_type": "markdown",
   "metadata": {},
   "source": [
    "As can be seen from the plot above, the standard deviation of the noise is badly overestimated, and we need a beeter way to estimate the noise. A very good way to estimate varience of the noise in images to measure the dispersion of the data points about the mean (or median). This is the so-called mean/median absolute deviation (MAD). We will refer to the to median absolute deviation as the *MAD Median*, and the mean absolute deviation as the *MAD Mean*. Another fairly simple way to get a good estimate of the varience of the noise is to only consider the negative pixels in a radio image. This works under the assumption that all the astrophysical emission (at least in Stokes I) has a positive flux density. The Figure below shows noise estimates from methods mentioned above. "
   ]
  },
  {
   "cell_type": "code",
   "execution_count": null,
   "metadata": {
    "collapsed": false
   },
   "outputs": [],
   "source": [
    "mean = data.mean()\n",
    "sigma_std = data.std()\n",
    "sigma_neg = data[data<0].std()*2\n",
    "mad_mean = lambda a: np.mean( abs(a - np.mean(a) ))\n",
    "sigma_mad_median = np.median( abs(data - np.median(data) ))\n",
    "\n",
    "mad_mean = lambda a: np.mean( abs(a - np.mean(a) ))\n",
    "sigma_mad_mean = mad_mean(data)\n",
    "\n",
    "peak = histogram.max()\n",
    "\n",
    "gauss = lambda x, amp, mean, sigma: amp*np.exp( -(x-mean)**2/(2*sigma**2))\n",
    "\n",
    "fitdata_std = gauss(x, peak, mean, sigma_std)\n",
    "fitdata_mad_median = gauss(x, peak, mean, sigma_mad_median)\n",
    "fitdata_mad_mean = gauss(x, peak, mean, sigma_mad_mean)\n",
    "fitdata_neg = gauss(x, peak, mean, sigma_neg)\n",
    "\n",
    "plt.plot(x, fitdata_std, label=\"STD DEV\")\n",
    "plt.plot(x, fitdata_mad_median, label=\"MAD Median\")\n",
    "plt.plot(x, fitdata_mad_mean, label=\"MAD Mean\")\n",
    "plt.plot(x, fitdata_neg, label=\"Negative STD DEV\")\n",
    "plt.plot(x, histogram, \"o\", label=\"Data\")\n",
    "plt.legend(loc=1)\n",
    "\n",
    "plt.yscale('log')\n",
    "plt.ylim(1)"
   ]
  },
  {
   "cell_type": "markdown",
   "metadata": {},
   "source": [
    "All of these methods have a much better estimate of the noise compared to simply the standard deviation."
   ]
  },
  {
   "cell_type": "markdown",
   "metadata": {},
   "source": [
    "## Blob Detection and Charercterization\n",
    "\n",
    "Once the noise has been estimated, the next step is to find and charecterize blobs in the image. First, we need a more formal definition of a blob. We define a blob as a group contiguous pixels whose spatial intensity profile can be modelled by a 2D Gaussian function. And, since we are dealing with images from physical instruments which have a finite resolution (at least in the image plane), we further constrain our blobs not to be significantly smaller than the image resolution. Finally, we need to define two last constraints of a blob, the *peak* and *boundary* thresholds. The peak threshold, defined as\n",
    "\n",
    "$$ \n",
    "    \\sigma_\\text{peak} = n * \\sigma,\n",
    "$$\n",
    "\n",
    "is the minimum intensity the maximum pixel in a blob must have. That is, all blobs with peak pixel lower than $\\sigma_\\text{peak}$ will be excluded. And the bouandary threshold\n",
    "\n",
    "$$\n",
    "    \\sigma_\\text{boundary} = m * \\sigma,\n",
    "$$\n",
    "\n",
    "defines the bounadry of a blob. $\\sigma$ is an estimation of the image noise, and $m$ and $n$ are natural numbers with $m$ < $n$. "
   ]
  },
  {
   "cell_type": "markdown",
   "metadata": {},
   "source": [
    "## A simple source finder\n",
    "We are now in a position to write a simple source finder. \n",
    "\n",
    "1. Estimate image noise and set peak and boundary values\n",
    "2. Blank out (set to zero) all pixel values below the boundary value\n",
    "3. Find Peaks in image\n",
    "4. For each peak, fit a 2D Gaussian and subtract the Gaussian fit from the image\n",
    "5. Repeat untill the image has no pixels above the detection threshold."
   ]
  },
  {
   "cell_type": "code",
   "execution_count": null,
   "metadata": {
    "collapsed": false
   },
   "outputs": [],
   "source": [
    "\n",
    "def gauss2D(x, y, amp, mean_x, mean_y, sigma_x, sigma_y):\n",
    "    \"\"\" Generate a 2D Gaussian image\"\"\"\n",
    "    gx = -(x - mean_x)**2/(2*sigma_x**2)\n",
    "    gy = -(y - mean_y)**2/(2*sigma_y**2)\n",
    "    \n",
    "    return amp * np.exp( gx + gy)\n",
    "\n",
    "\n",
    "def err(p, xx, yy, data):\n",
    "    \"\"\"2D Gaussian error function\"\"\"\n",
    "    return gauss2D(xx.flatten(), yy.flatten(), *p) - data.flatten()\n",
    "\n",
    "\n",
    "def fit_gaussian(data, psf_pix):\n",
    "    \"\"\"Fit a gaussian to a 2D data set\"\"\"\n",
    "    \n",
    "    width = data.shape[0]\n",
    "    mean_x, mean_y = width/2, width/2\n",
    "    amp = data.max()\n",
    "    sigma_x, sigma_y = psf_pix, psf_pix\n",
    "    params0 = amp, mean_x, mean_y, sigma_x,sigma_y\n",
    "        \n",
    "    npix_x, npix_y = data.shape\n",
    "    x = np.linspace(0, npix_x, npix_x)\n",
    "    y = np.linspace(0, npix_y, npix_y)\n",
    "    xx, yy = np.meshgrid(x, y)\n",
    "        \n",
    "        \n",
    "    params, pcov, infoDict, errmsg, sucess = optimize.leastsq(err, \n",
    "                        params0, args=(xx.flatten(), yy.flatten(),\n",
    "                        data.flatten()), full_output=1)\n",
    "    \n",
    "        \n",
    "    perr = abs(np.diagonal(pcov))**0.5\n",
    "    model = gauss2D(xx, yy, *params)\n",
    "    \n",
    "    return params, perr, model"
   ]
  },
  {
   "cell_type": "code",
   "execution_count": null,
   "metadata": {
    "collapsed": false
   },
   "outputs": [],
   "source": [
    "def source_finder(data, peak, boundary, width, psf_pix):\n",
    "    \"\"\"A simple source finding tool\"\"\"\n",
    "    \n",
    "    # first we make an estimate of the noise. Lets use the MAD mean\n",
    "    sigma_noise = mad_mean(data)\n",
    "\n",
    "    # Use noise estimate to set peak and boundary thresholds\n",
    "    peak_sigma = sigma_noise*peak\n",
    "    boundary_sigma = sigma_noise*boundary\n",
    "    \n",
    "    # Pad the image to avoid hitting the edge of the image\n",
    "    pad = width*2\n",
    "    residual = np.pad(data, pad_width=((pad, pad), (pad, pad)), mode=\"constant\")\n",
    "    model = np.zeros(residual.shape)\n",
    "    \n",
    "    # Create slice to remove the padding later on\n",
    "    imslice = [slice(pad, -pad), slice(pad,-pad)]\n",
    "    \n",
    "    catalog = [] \n",
    "    \n",
    "    # We will need to convert the fitted sigma values to a width\n",
    "    FWHM = 2*np.sqrt(2*np.log(2))\n",
    "    \n",
    "    print \n",
    "    \n",
    "    while True:\n",
    "        \n",
    "        # Check if the brightest pixel is at least as bright as the sigma_peak\n",
    "        # Otherwise stop.\n",
    "        max_pix = residual.max()\n",
    "        if max_pix<peak_sigma:\n",
    "            break\n",
    "        \n",
    "        xpix, ypix = np.where(residual==max_pix)\n",
    "        xpix = xpix[0] # Get first element\n",
    "        ypix = ypix[0] # Get first element\n",
    "        \n",
    "        # Make slice that selects box of size width centred around bright brightest pixel\n",
    "        subim_slice = [ slice(xpix-width/2, xpix+width/2),\n",
    "                    slice(ypix-width/2, ypix+width/2) ]\n",
    "        \n",
    "        # apply slice to get subimage\n",
    "        subimage = residual[subim_slice]\n",
    "        \n",
    "        \n",
    "        # blank out pixels below the boundary threshold\n",
    "        mask = subimage > boundary_sigma\n",
    "        \n",
    "        # Fit gaussian to submimage\n",
    "        params, perr, _model = fit_gaussian(subimage*mask, psf_pix)\n",
    "        \n",
    "        amp, mean_x, mean_y, sigma_x,sigma_y = params\n",
    "        amp_err, mean_x_err, mean_y_err, sigma_x_err, sigma_y_err = perr\n",
    "        \n",
    "        # Remember to reposition the source in original image\n",
    "        pos_x = xpix + (width/2 - mean_x) - pad\n",
    "        pos_y = ypix + (width/2 - mean_y) - pad\n",
    "        \n",
    "        # Convert sigma values to FWHM lengths\n",
    "        size_x = FWHM*sigma_x\n",
    "        size_y = FWHM*sigma_y\n",
    "        \n",
    "        # Add modelled source to model image\n",
    "        model[subim_slice] = _model\n",
    "        \n",
    "        # create new source\n",
    "        source = (\n",
    "            amp,\n",
    "            pos_x,\n",
    "            pos_y,\n",
    "            size_x,\n",
    "            size_y\n",
    "            )\n",
    "                  \n",
    "        # add source to catalogue\n",
    "        catalog.append(source)\n",
    "        \n",
    "        # update residual image\n",
    "        residual[subim_slice] -= _model       \n",
    "        \n",
    "    return catalog, model[imslice], residual[imslice], sigma_noise\n"
   ]
  },
  {
   "cell_type": "markdown",
   "metadata": {},
   "source": [
    "Finally, lets now test the source on the data set from earlier."
   ]
  },
  {
   "cell_type": "code",
   "execution_count": null,
   "metadata": {
    "collapsed": false,
    "scrolled": false
   },
   "outputs": [],
   "source": [
    "test_image = \"../data/fits/star_model_image.fits\"\n",
    "with astropy.io.fits.open(test_image) as hdu:\n",
    "    data = hdu[0].data[0,0,...]\n",
    "    \n",
    "catalog, model, residual, sigma_noise = source_finder(data, 5, 2, 50, 10)\n",
    "\n",
    "print \"Peak_Flux     Pix_x     Pix_y     Size_x     Size_y\"\n",
    "for source in catalog:\n",
    "    print \"  %.4f     %.1f     %.1f     %.2f     %.2f\"%source\n",
    "\n",
    "fig, (img, mod, res) = plt.subplots(1, 3, figsize=(24,12))\n",
    "vmin, vmax = sigma_noise, data.max()\n",
    "\n",
    "im = img.imshow(data, vmin=vmin, vmax=vmax)\n",
    "img.set_title(\"Data\")\n",
    "\n",
    "mod.imshow(model, vmin=vmin, vmax=vmax)\n",
    "mod.set_title(\"Model\")\n",
    "\n",
    "res.imshow(residual, vmin=vmin, vmax=vmax)\n",
    "res.set_title(\"Residual\")\n",
    "\n",
    "cbar_ax = fig.add_axes([0.92, 0.25, 0.02, 0.5])\n",
    "fig.colorbar(im, cax=cbar_ax, format=\"%.2g\")"
   ]
  },
  {
   "cell_type": "markdown",
   "metadata": {},
   "source": [
    "The source finding algorithm we above is heuristic example. It has two major flaws : i) it is capable to handling a situation where two or more sources are close enough to each other that would fall within the same sub-image from which the source parameters are estimated, and ii) the noise in radio images is often non-uniform and \"local\" noise estimates are required in order to set thresholds."
   ]
  },
  {
   "cell_type": "markdown",
   "metadata": {
    "collapsed": false
   },
   "source": [
    "***\n",
    "\n",
    "Next: [6.x Further Reading and References](6_x_further_reading_and_references.ipynb)"
   ]
  },
  {
   "cell_type": "code",
   "execution_count": null,
   "metadata": {
    "collapsed": true
   },
   "outputs": [],
   "source": []
  }
 ],
 "metadata": {
  "kernelspec": {
   "display_name": "Python 2",
   "language": "python",
   "name": "python2"
  },
  "language_info": {
   "codemirror_mode": {
    "name": "ipython",
    "version": 2
   },
   "file_extension": ".py",
   "mimetype": "text/x-python",
   "name": "python",
   "nbconvert_exporter": "python",
   "pygments_lexer": "ipython2",
   "version": "2.7.6"
  }
 },
 "nbformat": 4,
 "nbformat_minor": 0
}
