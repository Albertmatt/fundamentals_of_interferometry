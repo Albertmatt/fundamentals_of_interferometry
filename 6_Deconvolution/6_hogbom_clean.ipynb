{
 "cells": [
  {
   "cell_type": "markdown",
   "metadata": {},
   "source": [
    "**TODO:**\n",
    "\n",
    "* currently only using max iter to halt\n",
    "* function to select subset of image based on PSF size and l,m position"
   ]
  },
  {
   "cell_type": "markdown",
   "metadata": {},
   "source": [
    "### Högbom's Method"
   ]
  },
  {
   "cell_type": "markdown",
   "metadata": {},
   "source": [
    "Psuedo-code:"
   ]
  },
  {
   "cell_type": "markdown",
   "metadata": {},
   "source": [
    "$\\textbf{input: } I^{D}(l,m), \\ \\textrm{PSF}(l,m), \\ \\gamma, \\ f_{\\textrm{thresh}}, \\ N$\n",
    "\n",
    "$\\textbf{initialize: } S^{\\textrm{model}} \\leftarrow \\{\\}, I^{\\textrm{res}} \\leftarrow I^{D}, i \\leftarrow 0$\n",
    "\n",
    "$\\textbf{while} \\ \\textrm{any}(I^{\\textrm{res}} > f_{\\textrm{thresh}}) \\ \\textrm{or} \\ i \\leq N \\ \\textbf{do:}$\n",
    "\n",
    "$\\qquad l_{\\textrm{max}}, m_{\\textrm{max}} \\leftarrow \\underset{l,m}{\\operatorname{argmax}} I^{\\textrm{res}}(l,m)$\n",
    "\n",
    "$\\qquad f_{\\textrm{max}} \\leftarrow I^{D}(l_{\\textrm{max}}, m_{\\textrm{max}})$\n",
    "\n",
    "$\\qquad I^{\\textrm{res}} \\leftarrow I^{\\textrm{res}} - \\gamma \\cdot f_{\\textrm{max}} \\cdot \\textrm{PSF}(l+l_{\\textrm{max}}, m+m_{\\textrm{max}})$\n",
    "\n",
    "$\\qquad S^{\\textrm{model}} \\leftarrow S^{\\textrm{model}} + \\{l_{\\textrm{max}}, m_{\\textrm{max}}: \\gamma \\cdot f_{\\textrm{max}}\\}$\n",
    "\n",
    "$\\textbf{ouput: } S^{\\textrm{model}}, I^{\\textrm{res}}$"
   ]
  },
  {
   "cell_type": "code",
   "execution_count": null,
   "metadata": {
    "collapsed": true
   },
   "outputs": [],
   "source": [
    "import numpy as np\n",
    "import matplotlib.pyplot as plt\n",
    "%matplotlib inline\n",
    "\n",
    "from astropy.io import fits\n",
    "import aplpy\n",
    "\n",
    "#Disable astropy/aplpy logging\n",
    "import logging\n",
    "logger0 = logging.getLogger('astropy')\n",
    "logger0.setLevel(logging.CRITICAL)\n",
    "logger1 = logging.getLogger('aplpy')\n",
    "logger1.setLevel(logging.CRITICAL)"
   ]
  },
  {
   "cell_type": "code",
   "execution_count": null,
   "metadata": {
    "collapsed": true
   },
   "outputs": [],
   "source": [
    "#input parameters\n",
    "gain = 0.1 #loop gain, range: 0 < gain < 1\n",
    "niter = 10 #number of loop iterations\n",
    "fthresh = 0. #minimum flux threshold to deconvolve"
   ]
  },
  {
   "cell_type": "code",
   "execution_count": null,
   "metadata": {
    "collapsed": false
   },
   "outputs": [],
   "source": [
    "#input images: dirty, PSF\n",
    "#assuming unpolarized, single frequency image\n",
    "fh = fits.open('../data/fits/deconv/KAT-7_6h60s_dec-30_10MHz_10chans_uniform_n100-dirty.fits')\n",
    "dirtyImg = fh[0].data[0,0]\n",
    "fh = fits.open('../data/fits/deconv/KAT-7_6h60s_dec-30_10MHz_10chans_uniform_n100-psf.fits')\n",
    "#zero-pad the PSF\n",
    "psfImg = fh[0].data[0,0]\n",
    "padPsfImg = np.pad(psfImg, ((int(psfImg.shape[0]/2.),\n",
    "                             int(psfImg.shape[0]/2.)),\n",
    "                            (int(psfImg.shape[1]/2.),\n",
    "                             int(psfImg.shape[1]/2.))), mode='constant', constant_values=(0,0))"
   ]
  },
  {
   "cell_type": "code",
   "execution_count": null,
   "metadata": {
    "collapsed": true
   },
   "outputs": [],
   "source": [
    "#Initalization\n",
    "skyModel = [] #initialize empty model\n",
    "residImg = np.copy(dirtyImg) #copy the dirty image to the initial residual image\n",
    "i = 0 #number of iterations\n",
    "midPSFl = int(padPsfImg.shape[0]/2)\n",
    "midPSFm = int(padPsfImg.shape[1]/2)"
   ]
  },
  {
   "cell_type": "code",
   "execution_count": null,
   "metadata": {
    "collapsed": false
   },
   "outputs": [],
   "source": [
    "#while np.max(residImg) > fthresh or i < niter:\n",
    "while i < niter:\n",
    "    lmax, mmax = np.unravel_index(residImg.argmax(), residImg.shape) #get pixel position of maximum value\n",
    "    fmax = residImg[lmax, mmax] #flux value of maximum pixel\n",
    "    #residImg -= gain * fmax * padPsfImg[]\n",
    "    i +=1"
   ]
  }
 ],
 "metadata": {
  "kernelspec": {
   "display_name": "Python 2",
   "language": "python",
   "name": "python2"
  },
  "language_info": {
   "codemirror_mode": {
    "name": "ipython",
    "version": 2
   },
   "file_extension": ".py",
   "mimetype": "text/x-python",
   "name": "python",
   "nbconvert_exporter": "python",
   "pygments_lexer": "ipython2",
   "version": "2.7.6"
  }
 },
 "nbformat": 4,
 "nbformat_minor": 0
}
