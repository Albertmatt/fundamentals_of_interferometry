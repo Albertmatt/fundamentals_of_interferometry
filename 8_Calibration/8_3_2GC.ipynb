{
 "cells": [
  {
   "cell_type": "markdown",
   "metadata": {},
   "source": [
    "***\n",
    "\n",
    "* [Outline](../0_Introduction/0_introduction.ipynb)\n",
    "* [Glossary](../0_Introduction/1_glossary.ipynb)\n",
    "* 8. Calibration \n",
    "    * Previous: [8.2 1GC Calibration](../8_Calibration/8_2_1GC.ipynb)\n",
    "    * Next: [8.4 3GC Calibration](../8_Calibration/8_4_3GC.ipynb)\n",
    "\n",
    "***"
   ]
  },
  {
   "cell_type": "markdown",
   "metadata": {},
   "source": [
    "Import standard modules:"
   ]
  },
  {
   "cell_type": "code",
   "execution_count": 1,
   "metadata": {
    "collapsed": true
   },
   "outputs": [],
   "source": [
    "import numpy as np\n",
    "import matplotlib.pyplot as plt\n",
    "%matplotlib inline"
   ]
  },
  {
   "cell_type": "markdown",
   "metadata": {},
   "source": [
    "Import section specific modules:"
   ]
  },
  {
   "cell_type": "code",
   "execution_count": 3,
   "metadata": {
    "collapsed": false
   },
   "outputs": [
    {
     "data": {
      "text/html": [
       "<style>\n",
       "\n",
       "p.prerequisites {\n",
       "    border:5px;\n",
       "    border-style:none;\n",
       "    background-color:#F0F0F0;\n",
       "    box-shadow: 5px 5px 2px #888888;\n",
       "    border-color:#FF0000;\n",
       "    padding: 1em;\n",
       "    }\n",
       "\n",
       "p.conclusion {\n",
       "    border:5px;\n",
       "    border-style:none;\n",
       "    background-color:#c8ebca;\n",
       "    box-shadow: 5px 5px 2px #888888;\n",
       "    border-color:#c8ebca;\n",
       "    padding: 1em;\n",
       "    }\n",
       "\n",
       "div.warn {    \n",
       "    background-color: #fcf2f2;\n",
       "    border-color: #dFb5b4;\n",
       "    border-left: 5px solid #dfb5b4;\n",
       "    padding: 0.5em;\n",
       "    }\n",
       "\n",
       "div.advice {    \n",
       "    background-color: #ecf8ed;\n",
       "    border-color: #a2dda5;\n",
       "    border-left: 5px solid #a2dda5;\n",
       "    padding: 0.5em;\n",
       "    }\n",
       "\n",
       "</style>\n",
       "\n"
      ],
      "text/plain": [
       "<IPython.core.display.HTML object>"
      ]
     },
     "execution_count": 3,
     "metadata": {},
     "output_type": "execute_result"
    }
   ],
   "source": [
    "from IPython.core.display import HTML \n",
    "styles = open(\"../style/course.css\", \"r\").read() # read course.css file from root dir\n",
    "HTML(styles) # apply style to page"
   ]
  },
  {
   "cell_type": "markdown",
   "metadata": {},
   "source": [
    "## 8.3 2GC Calibration: direction independent self-calibration"
   ]
  },
  {
   "cell_type": "markdown",
   "metadata": {},
   "source": [
    "After performing 1GC (applying the antenna gains from the calibrator to the target field)\n",
    "we should be able to make a decent image of our target-field. The dynamic range of this image can be improved even further by using the *self-calibration* framework."
   ]
  },
  {
   "cell_type": "markdown",
   "metadata": {},
   "source": [
    "### 8.3.1 Self-Calibration"
   ]
  },
  {
   "cell_type": "markdown",
   "metadata": {},
   "source": [
    "In self-calibration we use the field that we are observing to also calibrate the observation. In [Fig. 8.x &#10549;](#cal:fig:self_cal) <!--\\ref{cal:fig:self_cal}--> we have a block diagram depicting the self-calibration framework. We continiously switch between two domains during self-calibration, namely the image and visibility domain. In the image domain we perform deconvolution and source finding, while calibration takes place in the visibility domain. Deconvolution and source finding are discussed in [Sec. 6.2 &#10142;](../6_Deconvolution/6_2_clean.ipynb) and [Sec. 6.4 &#10142;](../6_Deconvolution/6_4_source_finding.ipynb) respectively. It is important to realize that Fig. [Fig. 8.x &#10549;](#cal:fig:self_cal) <!--\\ref{cal:fig:self_cal}--> should be regarded as a very rudimentary representation of the self-calibration framework as many deconvolution algorithms also switch continuously between the image and visibility domain. Self-calibration is perfomed by using the following procedure:\n",
    "\n",
    "<p class=conclusion>\n",
    "  <font size=4> **Self-calibration algorithm**</font>\n",
    "  <br>\n",
    "  <br>\n",
    "1. We start by creating (from the 1GC image) a very simplistic initial sky-model of our target field.<br><br>\n",
    "2. We use the initial/improved sky-model to calibrate our observed visibilities which we then subsequently image.<br><br>\n",
    "3. We deconvolve the resulting image.<br><br> \n",
    "4. We run a source finder on the deconvolved image to construct a more accurate sky-model.<br><br> \n",
    "5. We go back to step 2. The algorithm terminates when we reach a desired dynamic range or if convergence is reached.<br><br>\n",
    "</p>"
   ]
  },
  {
   "cell_type": "markdown",
   "metadata": {},
   "source": [
    "<img src='figures/Selfcal2.png' width=80%>"
   ]
  },
  {
   "cell_type": "markdown",
   "metadata": {},
   "source": [
    "<div align=\"center\">**Figure 8.x**: The self-calibration framework.</div> <a id='cal:fig:self_cal'></a> <!--\\label{cal:fig:self_cal}-->"
   ]
  },
  {
   "cell_type": "markdown",
   "metadata": {
    "collapsed": true
   },
   "source": [
    "### 8.3.2 Hybrid-mapping"
   ]
  },
  {
   "cell_type": "markdown",
   "metadata": {},
   "source": [
    "Up until this point I did not describe the actual calibration algorithm one needs to use in\n",
    "the self-calibration framework. The reason being, there are in principle a wide range of calibration algorithms we could use. Currently, the most used algorithm is the least-squares approach discussed in [Sec. 8.1 &#10142;](../8_Calibration/8_1_Calibration_Least_Squares_Problem.ipynb#cal:sec:cal_ls) <!--\\ref{cal:sec:cal_ls}-->. This was not always the case. In the past self-calibration actually employed closure quantities (see [<cite data-cite='Jennison1958'>A phase sensitive interferometer technique for the measurement of the Fourier transforms of spatial brightness distributions of small angular extent</cite> &#10548;](http://mnras.oxfordjournals.org/content/118/3/276.short) and [<cite data-cite='Smith1952'>The measurement of the angular diameter of radio stars</cite> &#10548;](http://iopscience.iop.org/article/10.1088/0370-1301/65/12/309/meta;jsessionid=9DF36DAB88B75643A607FA921E11CC4A.c2.iopscience.cld.iop.org)). We discussed closure quantities in Sec [Sec. 8.2 &#10142;](../8_Calibration/8_2_1GC.ipynb#cal:sec:closure) <!--\\ref{cal:sec:closure}-->. Moreover, the term \"self-calibration\" itself was also not always in use either. When the calibration algorithm that is used within the self-calibration framework employed closure quantities it was referred to as *hybrid-mapping* instead. One of the best known hybrid-mapping approaches were developed by Readhead and Wilkonson ([<cite data-cite='Readhead1978'>The mapping of compact radio sources from VLBI data</cite> &#10548;](http://adsabs.harvard.edu/full/1978ApJ...223...25R)). It requires the following steps:\n",
    "\n",
    "1. If we have an $N$-element array, we obtain $N-1$ baseline phases from an initial/improved sky-model. \n",
    "2. The reamining baseline-phases are all chosen such that they satisfy the measeured closure-phases. \n",
    "3. After imaging the corrected visibilities, deconvolution is performed. We are now in a position to improve our sky-model. \n",
    "4. Go to step 1 or terminate if convergence was reached. \n",
    "\n",
    "The idea of rather using a least-squares solver to calibrate was first proposed in [<cite data-cite='Schwab1980'>Adaptive calibration of radio interferometer data</cite> &#10548;](http://proceedings.spiedigitallibrary.org/proceeding.aspx?articleid=1229965) and [<cite data-cite='Cornwill1981'>A new method for making maps with unstable radio interferometers</cite> &#10548;](http://mnras.oxfordjournals.org/content/196/4/1067.short). Another interesting concomitant of the least-squares approach is that it allows us to solve for individual antenna gains, instead of baseline-based gains. Good literatrue reviews on self-calibration can be found in [<cite data-cite='Ekers1984'>The almost serendipitous discovery of self-calibration</cite> &#10548;](http://adsabs.harvard.edu/abs/1984sdra.conf..154E) and [<cite data-cite='Pearson1984'>Image formation by self-calibration in radio astronomy</cite> &#10548;](http://adsabs.harvard.edu/full/1984ARA%26A..22...97P)."
   ]
  },
  {
   "cell_type": "markdown",
   "metadata": {},
   "source": [
    "***\n",
    "\n",
    "Next: [8.4 3GC Calibration](../8_Calibration/8_4_3GC.ipynb)"
   ]
  }
 ],
 "metadata": {
  "kernelspec": {
   "display_name": "Python 2",
   "language": "python",
   "name": "python2"
  },
  "language_info": {
   "codemirror_mode": {
    "name": "ipython",
    "version": 2
   },
   "file_extension": ".py",
   "mimetype": "text/x-python",
   "name": "python",
   "nbconvert_exporter": "python",
   "pygments_lexer": "ipython2",
   "version": "2.7.3"
  }
 },
 "nbformat": 4,
 "nbformat_minor": 0
}
