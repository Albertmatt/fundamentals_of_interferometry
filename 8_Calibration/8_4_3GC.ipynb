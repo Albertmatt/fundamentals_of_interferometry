{
 "cells": [
  {
   "cell_type": "markdown",
   "metadata": {},
   "source": [
    "***\n",
    "\n",
    "* [Outline](../0_Introduction/0_introduction.ipynb)\n",
    "* [Glossary](../0_Introduction/1_glossary.ipynb)\n",
    "* 8. Calibration \n",
    "    * Previous: [8.3 2GC calibration: direction-independent self-calibration]()\n",
    "    * Next: []()\n",
    "\n",
    "***"
   ]
  },
  {
   "cell_type": "markdown",
   "metadata": {},
   "source": [
    "Import standard modules:"
   ]
  },
  {
   "cell_type": "code",
   "execution_count": 1,
   "metadata": {
    "collapsed": true
   },
   "outputs": [],
   "source": [
    "import numpy as np\n",
    "import matplotlib.pyplot as plt\n",
    "%matplotlib inline"
   ]
  },
  {
   "cell_type": "markdown",
   "metadata": {},
   "source": [
    "Import section specific modules:"
   ]
  },
  {
   "cell_type": "code",
   "execution_count": 2,
   "metadata": {
    "collapsed": true
   },
   "outputs": [],
   "source": [
    "from IPython.core.display import HTML \n",
    "styles = open(\"../style/course.css\", \"r\").read() # read course.css file from root dir\n",
    "HTML(styles) # apply style to page"
   ]
  },
  {
   "cell_type": "markdown",
   "metadata": {},
   "source": [
    "## 8.4 3GC Calibration: direction-dependent self-calibration"
   ]
  },
  {
   "cell_type": "markdown",
   "metadata": {},
   "source": [
    "As explained in [Chapter 7 &#10142;](../7_Observing_Systems/7_0_introduction) , the increased field-of-view of modern telescopes \n",
    "causes direction-dependent effects, like the primary beam and pointing error, to become apparent. We can therefore no longer merely rely on using direction-independent selfcal (see [Sec. 8.3 &#10142;](../8_Calibration/8_3_2GC.ipynb)). There are in principal many approaches one can use to perform direction-dependent calibration (see [Sec. 8.4.1 &#10549;](#cal:sec:p_versus_h) for more details).\n",
    "\n",
    "I this section we will mainly concentrate on one specific approach: *differential gains* ([<cite data-cite='Smirnov2011'>Revisiting the radio interferometer measurement equation-II.  Calibration and direction-dependent effects</cite> &#10548;](http://arxiv.org/abs/1101.1765)). The reason being, this approach provides a nice framework with which one can build up some intiution as to how direction-dependent calibration differs from direction-independent calibration.\n",
    "\n",
    "In [Sec. 7.2 &#10142;](../7_Observing_Systems/7_2_rime.ipynb) the following equation was\n",
    "presented:\n",
    "\n",
    "\\begin{equation}\n",
    "\\mathbf{V}_{pq} = \\mathbf{G}_p\\mathbf{X}_{pq}\\mathbf{G}_q^H,\n",
    "\\end{equation}\n",
    "\n",
    "This equation is known as the all-sky RIME, where $\\mathbf{V}_{pq}$ is the $2\\times2$ correlation matrix that the interferometer measured and $\\mathbf{X}_{pq}$ is the $2\\times2$ coherency matrix. Moreover, $\\mathbf{G}_p$ and $\\mathbf{G}_q$ are G-Jones antenna matrices. During calibration we estimate $\\mathbf{G}_p$ and $\\mathbf{G}_p$ which we then in turn use to correct the correlation matrix $\\mathbf{V}_{pq}$. The subscripts $p$ and $q$ denote the antennas with which the measurement was made. Furthermore, $\\mathbf{X}_{pq} = \\sum_s \\mathbf{X}_{spq}$, with $s$ being the source index. The implication being, we assume that the error that corrupts our visibilities is independent of the source's position. As explained in [Sec. 7.3 &#10142;](../7_Observing_Systems/7_3_direction_independent_and_dependent_effects.ipynb), this assumption is violated when we work with a larger field-of-view. As an example, the primary beam of an instrument varies significantly over a large field-of-view (generally in time and frequency). In the case of the primary beam we could try to model the direction dependent effect by adding an a-priori $\\mathbf{E}$ Jones matrix to our Jones' chain (see [<cite data-cite='Mitra2015'>Incorporation of antenna primary beam patterns in radio-interferometric data reduction to produce wide-field, high-dynamic-range images</cite> &#10548;](http://ieeexplore.ieee.org/Xplore/defdeny.jsp?url=http%3A%2F%2Fieeexplore.ieee.org%2Fstamp%2Fstamp.jsp%3Ftp%3D%26arnumber%3D7297163%26userType%3Dinst&denyReason=-134&arnumber=7297163&productsMatched=null&userType=inst)). However, if we do not have any information about the physical source that is responsible for a direction dependent effect then we could use the idea of differential gains instead. In addition to to the direction-independent gain every source experiences we add a differential gain which could be different for each source. Mathematically, we can express this as\n",
    "\n",
    "\\begin{equation}\n",
    "\\mathbf{V}_{pq} = \\mathbf{G}_p \\left (\\sum_s\\Delta\\mathbf{E}_{sp}\\mathbf{X}_{spq}\\Delta\\mathbf{E}_{sq}^H \\right) \\mathbf{G}_q^H,\n",
    "\\end{equation}\n",
    "where $\\Delta\\mathbf{E}_{sp}$ and $\\Delta\\mathbf{E}_{sq}^H$ are the differential gains associated with source $s$ and antenna $p$ and $q$ respectively.\n",
    "We now use the above equation and least squares (see [Sec. 8.1 &#10142;](../8_Calibration/8_1_Calibration_Least_Squares_Problem.ipynb)) to estimate the unknown diferrential and direction independent gains, which we can then subsequently use to correct our correlation measurements. "
   ]
  },
  {
   "cell_type": "markdown",
   "metadata": {},
   "source": [
    "Another question now arises, how do we know if a source requires a diferential gain? Fig. [&#10549;](#cal:fig:dir_dep) <!--\\ref{cal:fig:dir_dep}--> helps to answer this question. "
   ]
  },
  {
   "cell_type": "markdown",
   "metadata": {},
   "source": [
    "<img src='figures/dir_dep.png' width=40%>"
   ]
  },
  {
   "cell_type": "markdown",
   "metadata": {},
   "source": [
    "<div align=\"center\">**Figure 8.x**: Which sources require a differential gain factor?</div> <a id='cal:fig:dir_dep'></a> <!--\\label{cal:fig:dir_dep}-->"
   ]
  },
  {
   "cell_type": "markdown",
   "metadata": {},
   "source": [
    "We can learn two main things from Fig. [&#10549;](#cal:fig:dir_dep) <!--\\ref{cal:fig:dir_dep}-->:\n",
    "\n",
    "1. In practise it is easy to spot a source which requires a differential gain (in addition to the direction independent gain which affects all sources). The sources\n",
    "which require a differential gain are usually surrounded by a lot of imaging artefacts, which is what the purple region around the black sources represent. The yellow sources therefore are not affected by direction dependent effects (no imaging artefacts around them), while the black sources are.\n",
    "2. The further a source is from the field center, the more likely it is to be affected by a direction depedent effect."
   ]
  },
  {
   "cell_type": "markdown",
   "metadata": {},
   "source": [
    "We now present a real radio image which was created by using the differential gains method. In [Fig. 8.x &#10549;](#cal:fig:diff_smirnov) <!--\\ref{cal:fig:dir_dep}-->\n",
    "we have a JVLA image of the 3C147 field. The large image is the final end product, i.e\n",
    "the differential gains method has already been applied. The upper left image insert is\n",
    "just an enlargement of a subregion in the larger image (this is what the the \n",
    "yellow block and lines try to convey). The bottom left image insert depicts how the subregion used to look before the differential gains method was applied. The second inserted image validates the comments we have already made, in particular sources which require a differential gain factor in addition to the general antenna gain is usually surounded by a lot of imaging artefacts. The primary direction dependent effect which was not taken into account, resulting in the imaging artefacts visible in the \n",
    "bottom left image insert was the rotating JVLA primary beam.    "
   ]
  },
  {
   "cell_type": "markdown",
   "metadata": {},
   "source": [
    "<img src='figures/dde_Oleg.png' width=100%>"
   ]
  },
  {
   "cell_type": "markdown",
   "metadata": {},
   "source": [
    "<div align=\"center\">**Figure 8.x**: Differential gains method applied to the 3C147 field (courtesy of **O.M. Smirnov**). </div> <a id='cal:fig:diff_smirnov'></a> <!--\\label{cal:fig:diff_smirnov}-->"
   ]
  },
  {
   "cell_type": "markdown",
   "metadata": {
    "collapsed": true
   },
   "source": [
    "### 8.4.1 Physics-based and heuristic approaches <a id='cal:sec:p_versus_h'></a> <!--\\label{cal:sec:p_versus_h}-->"
   ]
  },
  {
   "cell_type": "markdown",
   "metadata": {},
   "source": [
    "3GC can in general be divided into *physics-based* and *heuristic* approaches. If \n",
    "we know the underlying physical phenomenon which is responsible for a specific direction-dependent effect we may employ a physics-based calibration approach. Once we know the source of a direction-dependent effect we can try and construct a physical model for it which we then parameterize. The aim then is to try and solve the parameters of this model, i.e. we perform *parameter estimation*. In other cases the direction-dependent phenomenon is well defined a-priori and we just need to correctly incorporate it whilst calibrating. The following list contain example physics-based approaches:\n",
    "\n",
    "* *Pointing-selfcal*: [<cite data-cite='Bhatnagar2004'>EVLA Memo 84. Solving for the antenna based pointing errors</cite> &#10548;](www.aoc.nrao.edu/evla/geninfo/memoseries/evlamemo84.ps) \n",
    "* *Kalman filter*: [<cite data-cite='Tasse2014'>Nonlinear Kalman filters for calibration in radio interferometry</cite> &#10548;](http://arxiv.org/abs/1403.6308) \n",
    "* *Primary beam*: [<cite data-cite='Mitra2015'>Incorporation of antenna primary beam patterns in radio-interferometric data reduction to produce wide-field, high-dynamic-range images</cite> &#10548;](http://ieeexplore.ieee.org/Xplore/defdeny.jsp?url=http%3A%2F%2Fieeexplore.ieee.org%2Fstamp%2Fstamp.jsp%3Ftp%3D%26arnumber%3D7297163%26userType%3Dinst&denyReason=-134&arnumber=7297163&productsMatched=null&userType=inst) \n",
    "\n",
    "It is not a trivial thing to correct for a direction-dependent effect, whether it is known a-priori or from calibration. The following list contains some approaches that have been proposed to accomplish this:\n",
    "\n",
    "* *Facetting*: [<cite data-cite='Cornwell1992'>Radio-interferometric imaging of very large fields-The problem of non-coplanar arrays</cite> &#10548;](http://adsabs.harvard.edu/abs/1992A%26A...261..353C) \n",
    "* *AW-projection*: [<cite data-cite='Batnagar2008'>Correcting direction-dependent gains in the deconvolution of radio interferometric images</cite> &#10548;](http://arxiv.org/abs/0805.0834) \n",
    "\n",
    "On the other side of the spectrum we have the heuristic approaches. In an heuristic approach\n",
    "we do not know the physical source of a specific direction-dependent effect. We instead introduce a number of free-parameters which we then try to optimize over some user defined residual-norm. Some 3GC heuristic approaches are listed below:\n",
    "\n",
    "* *Peeling*: [<cite data-cite='Noordam2004'>LOFAR calibration challenges</cite> &#10548;](http://proceedings.spiedigitallibrary.org/proceeding.aspx?articleid=847375)\n",
    "* *Differential gains*: [<cite data-cite='Smirnov2011'>Revisiting the radio interferometer measurement equation-II.  Calibration and direction-dependent effects</cite> &#10548;](http://arxiv.org/abs/1101.1765)\n",
    "* *Clustered calibration*: [<cite data-cite='Kazemi2013'>Clustered calibration: an improvement to radio interferometric direction-dependent self-calibration</cite> &#10548;](http://arxiv.org/abs/1301.0633)\n",
    "\n",
    "Once we obtained a heuristic solution we can try to makes sense of it by fitting a physical model to it. Prime examples of this include: \n",
    "\n",
    "* *SPAM (source peeling and atmospheric modelling)*: [<cite data-cite='Intema2009'>Ionospheric calibration of low frequency radio interferometric observations using the peeling scheme-I. Method description and first results</cite> &#10548;](http://arxiv.org/abs/0904.3975)  \n",
    "* *Primary beam shapes*: [<cite data-cite='Yatawatta2013'>Estimation of radio interferometer beam shapes using Riemannian optimization</cite> &#10548;](http://arxiv.org/abs/1209.4236)\n"
   ]
  },
  {
   "cell_type": "markdown",
   "metadata": {},
   "source": [
    "### 8.4.2 Solver Development"
   ]
  },
  {
   "cell_type": "markdown",
   "metadata": {},
   "source": [
    "As we explained in [Sec. 8.2 &#10142;](../8_Calibration/8_2_1GC.ipynb), the least-squares solver (see [Sec. 8.1 &#10142;](../8_Calibration/8_1_Calibration_Least_Squares_Problem.ipynb)) only became popular with the advent of self-calibration. Many improvements and alternatives to the least-squares solver, have since been developed. We list the most recent developments below:\n",
    "\n",
    "* *Eigendecomposition*: [<cite data-cite='Boonstra2003'>Gain calibration methods for radio telescope arrays</cite> &#10548;](http://ieeexplore.ieee.org/xpl/freeabs_all.jsp?arnumber=1145704&abstractAccess=no&userType=inst)\n",
    "* *SAGEcal*: [<cite data-cite='Kazemi2011'>Radio interferometric calibration using the SAGE algorithm</cite> &#10548;](http://arxiv.org/abs/1012.1722)\n",
    "* *Robust calibration*: [<cite data-cite='Kazemi2013robust'>Robust radio interferometric calibration using the t-distribution</cite> &#10548;](http://arxiv.org/abs/1307.5040)\n",
    "* *StEFCal*: [<cite data-cite='Salvini2014'>Fast gain calibration in radio astronomy using alternating direction implicit methods: Analysis and applications</cite> &#10548;](http://arxiv.org/abs/1410.2101)\n",
    "* *Riemann-Manifold*: [<cite data-cite='Yatawatta2013'>Radio interferometric calibration using a Riemannian manifold</cite> &#10548;](http://arxiv.org/abs/1303.1029)\n",
    "* *Blind Calibration*: [<cite data-cite='Kazemi2015'>Blind calibration for radio interferometry using convex optimization</cite> &#10548;](http://ieeexplore.ieee.org/xpl/freeabs_all.jsp?arnumber=7330285&abstractAccess=no&userType=inst)\n",
    "* *Complex Optimization*: [<cite data-cite='Smirnov2015'>Radio interferometric gain calibration as a complex optimization problem</cite> &#10548;](http://arxiv.org/abs/1502.06974)\n",
    "* *Kalman filter*: [<cite data-cite='Tasse2014'>Nonlinear Kalman filters for calibration in radio interferometry</cite> &#10548;](http://arxiv.org/abs/1403.6308)\n"
   ]
  },
  {
   "cell_type": "code",
   "execution_count": null,
   "metadata": {
    "collapsed": true
   },
   "outputs": [],
   "source": []
  }
 ],
 "metadata": {
  "kernelspec": {
   "display_name": "Python 2",
   "language": "python",
   "name": "python2"
  },
  "language_info": {
   "codemirror_mode": {
    "name": "ipython",
    "version": 2
   },
   "file_extension": ".py",
   "mimetype": "text/x-python",
   "name": "python",
   "nbconvert_exporter": "python",
   "pygments_lexer": "ipython2",
   "version": "2.7.3"
  }
 },
 "nbformat": 4,
 "nbformat_minor": 0
}
