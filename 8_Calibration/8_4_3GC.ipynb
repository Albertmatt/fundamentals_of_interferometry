{
 "cells": [
  {
   "cell_type": "markdown",
   "metadata": {},
   "source": [
    "***\n",
    "\n",
    "* [Outline](../0_Introduction/0_introduction.ipynb)\n",
    "* [Glossary](../0_Introduction/1_glossary.ipynb)\n",
    "* 8. Calibration \n",
    "    * Previous: [8.3 2GC calibration: direction-independent self-calibration]()\n",
    "    * Next: []()\n",
    "\n",
    "***"
   ]
  },
  {
   "cell_type": "markdown",
   "metadata": {},
   "source": [
    "Import standard modules:"
   ]
  },
  {
   "cell_type": "code",
   "execution_count": 3,
   "metadata": {
    "collapsed": true
   },
   "outputs": [],
   "source": [
    "import numpy as np\n",
    "import matplotlib.pyplot as plt\n",
    "%matplotlib inline"
   ]
  },
  {
   "cell_type": "markdown",
   "metadata": {},
   "source": [
    "Import section specific modules:"
   ]
  },
  {
   "cell_type": "markdown",
   "metadata": {},
   "source": [
    "## 8.3 3GC Calibration: direction-dependent self-calibration"
   ]
  },
  {
   "cell_type": "markdown",
   "metadata": {},
   "source": [
    "As explained in [Reference Chapter 7], the increased field-of-view of modern telescopes \n",
    "causes direction-dependent effects, like the primary beam and pointing error, to become apparent. We can therefore no longer merely rely on using direction-independent selfcal (see Sec.). There are in principal many approaches one can use to perform direction-dependent calibration (see Sec. for more details).\n",
    "\n",
    "I, however, start this section by introducing a specific approach, namely *diffractional gains* (cite RIME II). The reason I chose to start with this approach is that it provides a nice framework with which one can intiutively grasp the main difference that exists between direction independent and dependent calibration.\n",
    "\n",
    "In Sec we defined the direction-independent RIME to be equal to\n",
    "\n",
    "\\begin{equation}\n",
    "\\mathbf{V}_{pq} = \\mathbf{G}_p\\mathbf{X}_{pq}\\mathbf{G}_q^H.\n",
    "\\end{equation}\n",
    "\n",
    "In the direction-independent RIME, $\\mathbf{X}_{pq} = \\sum_s \\mathbf{X}_{spq}$, where\n",
    "$s$ denotes the source index. The implication being, we assume that the error that corrupts our visibilities is independent of where the source is located. As explained in Sec, this assumption starts to fail when we work with a larger field-of-view. As an example, for a large field-of-view the primary beam has a different effect on each source. In the case of the primary beam we could try to model the direction dependent effect by adding an $\\mathbf{E}$ Jones to our Jones' chain (see Sec). However, if we do not have any information about the physical source of a specific direction dependent effect then we could use the idea of differential gains instead. So in addition to to the direction-independent gain every source experiences we add a differential gain which could be different for each source. This differential gain therefore models the direction-dependent gain each source experiences on top of the direction-independent gain that affect all the sources. Mathematically, we can express this as\n",
    "\n",
    "\\begin{equation}\n",
    "\\mathbf{V}_{pq} = \\mathbf{G}_p \\left (\\sum_s\\Delta\\mathbf{E}_{spq}\\mathbf{X}_{spq}\\Delta\\mathbf{E}_{sq}^H \\right) \\mathbf{G}_q^H.\n",
    "\\end{equation}\n",
    "\n",
    "\n",
    "\n",
    "\n"
   ]
  },
  {
   "cell_type": "markdown",
   "metadata": {},
   "source": [
    "We can now use the above equation and least squares (see Sec.) to estimate the unknown diferrential and direction independent gains. We then use our estimated gains to correct our visibilities. "
   ]
  },
  {
   "cell_type": "markdown",
   "metadata": {
    "collapsed": true
   },
   "source": [
    "### 8.3.1 Physics-based and heuristic-based approaches"
   ]
  },
  {
   "cell_type": "markdown",
   "metadata": {},
   "source": [
    "3GC can in general be divided into *physics-based* and *heuristic-based* approaches. To use a physics-based approach we need to be able to identify the physical phenomenon that is \n",
    "responsible for a specific direction-dependent effect. Once we know the source of a direction-dependent effect we can try and construct a physical model of the direction-dependent effect which we then parameterize. The aim then is to try and solve the parameters that characterizes the direction-dependent effect, i.e. we perform *parameter estimation*. In other cases the phenomenon is already known a-priori and we just need to include it in our observing system chain. The following list contain some well known physics-based approaches:\n",
    "\n",
    "* *Pointing-selfcal*:\n",
    "* *Kalman filter*:\n",
    "* *E-Jones*:\n",
    "\n",
    "It is not a trivial thing to correct for a direction-dependent effect, whether it is known a-priori or from calibration. The following list contains some approaches that have been proposed to accomplish this:\n",
    "\n",
    "* *Facetting*:\n",
    "* *AW-projection*:\n",
    "\n",
    "\n",
    "On the other side of the spectrum we have the heuristic approaches. In an heuristic approach\n",
    "we do not know the source of a specific direction-dependent effect. We introduce a free-parameter which we then merely solve for a free parameter that empirically lowers a user defined error-metric. Some heuristic approaches are listed below:\n",
    "\n",
    "* *Peeling*:\n",
    "* *Differential gains*:\n",
    "* *Clustered calibration*:"
   ]
  },
  {
   "cell_type": "code",
   "execution_count": null,
   "metadata": {
    "collapsed": true
   },
   "outputs": [],
   "source": []
  }
 ],
 "metadata": {
  "kernelspec": {
   "display_name": "Python 2",
   "language": "python",
   "name": "python2"
  },
  "language_info": {
   "codemirror_mode": {
    "name": "ipython",
    "version": 2
   },
   "file_extension": ".py",
   "mimetype": "text/x-python",
   "name": "python",
   "nbconvert_exporter": "python",
   "pygments_lexer": "ipython2",
   "version": "2.7.3"
  }
 },
 "nbformat": 4,
 "nbformat_minor": 0
}
