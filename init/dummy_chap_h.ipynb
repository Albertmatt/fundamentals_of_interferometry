{
 "cells": [
  {
   "cell_type": "code",
   "execution_count": 1,
   "metadata": {
    "collapsed": false,
    "deletable": true,
    "editable": true
   },
   "outputs": [],
   "source": [
    "##################################\n",
    "#Insert the following text on each notebook\n",
    "\n",
    "import pickle\n",
    "from incfunc import init_ipyref_filename, ipy_label, ipy_ref\n",
    "from ipywidgets import widgets\n",
    "\n",
    "ipyrefname=init_ipyref_filename()\n",
    "\n",
    "try:\n",
    "    init_ipyref\n",
    "except NameError:\n",
    "    f = open(ipyrefname, 'rb')\n",
    "    sdict = pickle.load(f)\n",
    "    f.close()\n",
    "    debug_lvl=0\n",
    "    if debug_lvl > 10: print 'loaded', ipyrefname\n",
    "else :\n",
    "    if debug_lvl > 10: print \"Running through mainlist for updating reference\"\n",
    "\n",
    "if debug_lvl > 100:\n",
    "    print sdict.keys()\n",
    "    print sdict.values()\n",
    "##################################\n",
    "    \n",
    "idstr='chap_h'\n",
    "titlestr='Chapter H'\n",
    "ipy_label(sdict, 'chapter', idstr, titlestr)\n",
    "\n",
    "idcntr='_xyz'\n",
    "stval={}\n",
    "ipy_ref(sdict, idstr, stval, idsub=idcntr, debug_lvl=debug_lvl)\n",
    "widgets.PlaceProxy(child=stval['child'], selector=('.'+stval['class'])) "
   ]
  },
  {
   "cell_type": "markdown",
   "metadata": {
    "deletable": true,
    "editable": true
   },
   "source": [
    "# <a class='chap_h_xyz' id='chap_h'></a>\n",
    "\n",
    "Insert the Chapter H text here."
   ]
  }
 ],
 "metadata": {
  "kernelspec": {
   "display_name": "Python 2",
   "language": "python",
   "name": "python2"
  },
  "language_info": {
   "codemirror_mode": {
    "name": "ipython",
    "version": 2
   },
   "file_extension": ".py",
   "mimetype": "text/x-python",
   "name": "python",
   "nbconvert_exporter": "python",
   "pygments_lexer": "ipython2",
   "version": "2.7.6"
  },
  "widgets": {
   "state": {
    "c4aa9878306743889573d81a93c1aaa4": {
     "views": [
      {
       "cell_index": 0
      }
     ]
    }
   },
   "version": "1.2.0"
  }
 },
 "nbformat": 4,
 "nbformat_minor": 2
}
