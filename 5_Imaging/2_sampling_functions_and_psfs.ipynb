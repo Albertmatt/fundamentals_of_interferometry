{
 "metadata": {
  "name": ""
 },
 "nbformat": 3,
 "nbformat_minor": 0,
 "worksheets": [
  {
   "cells": [
    {
     "cell_type": "heading",
     "level": 2,
     "metadata": {},
     "source": [
      "Sampling Functions and Point Spread Functions"
     ]
    },
    {
     "cell_type": "markdown",
     "metadata": {},
     "source": [
      "What is the goal of this section? What needs to be introduced and what should be accomplished by the end of the section.\n",
      "\n",
      "-what is the fourier transform of an image?\n",
      "-what does the phase contain in terms of information? the amplitude?"
     ]
    },
    {
     "cell_type": "markdown",
     "metadata": {},
     "source": [
      "Import standard modules:"
     ]
    },
    {
     "cell_type": "code",
     "collapsed": false,
     "input": [
      "import numpy as np\n",
      "import pylab as p\n",
      "import matplotlib.image as mpimg\n",
      "%matplotlib inline"
     ],
     "language": "python",
     "metadata": {},
     "outputs": []
    },
    {
     "cell_type": "markdown",
     "metadata": {},
     "source": [
      "Load up test images"
     ]
    },
    {
     "cell_type": "code",
     "collapsed": false,
     "input": [
      "img0=mpimg.imread('graphics/WLA_moma_Umberto_Boccioni_Dynamism_of_a_Soccer_Player_1913_512.png')\n",
      "img1=mpimg.imread('graphics/Anas_platyrhynchos_male_female_quadrat_512.png')"
     ],
     "language": "python",
     "metadata": {},
     "outputs": []
    },
    {
     "cell_type": "markdown",
     "metadata": {},
     "source": [
      "Convert to grayscale fo simplicity"
     ]
    },
    {
     "cell_type": "code",
     "collapsed": false,
     "input": [
      "def rgb2gray(rgb):\n",
      "    r, g, b = rgb[:,:,0], rgb[:,:,1], rgb[:,:,2]\n",
      "    gray = 0.2989 * r + 0.5870 * g + 0.1140 * b #standard grayscale conversion\n",
      "    return gray\n",
      "\n",
      "gimg0=rgb2gray(img0)\n",
      "gimg1=rgb2gray(img1)"
     ],
     "language": "python",
     "metadata": {},
     "outputs": []
    },
    {
     "cell_type": "markdown",
     "metadata": {},
     "source": [
      "Display the images (Umberto Boccioni's Dynamism of a Soccer Player, and a Duck) in the spatial domain"
     ]
    },
    {
     "cell_type": "code",
     "collapsed": false,
     "input": [
      "fig = p.figure(figsize=(8,8))\n",
      "img0plot=p.imshow(gimg0)\n",
      "img0plot.set_cmap('gray')\n",
      "#fig.savefig(\"soccer_gray.png\", bbox_inches='tight', pad_inches=0)"
     ],
     "language": "python",
     "metadata": {},
     "outputs": []
    },
    {
     "cell_type": "code",
     "collapsed": false,
     "input": [
      "fig = p.figure(figsize=(8,8))\n",
      "img1plot=p.imshow(gimg1)\n",
      "img1plot.set_cmap('gray')\n",
      "#fig.savefig(\"duck_gray.png\", bbox_inches='tight', pad_inches=0)"
     ],
     "language": "python",
     "metadata": {},
     "outputs": []
    },
    {
     "cell_type": "markdown",
     "metadata": {},
     "source": [
      "Convert the images to the spatial frequency domain"
     ]
    },
    {
     "cell_type": "code",
     "collapsed": false,
     "input": [
      "fig, axes = p.subplots(figsize=(16,8))\n",
      "fftImg0=np.fft.fftshift(np.fft.fft2(gimg0))\n",
      "fftImg1=np.fft.fftshift(np.fft.fft2(gimg1))\n",
      "p.subplot(1,2,1)\n",
      "p.imshow(10.*np.log10(np.abs(fftImg0)))\n",
      "p.subplot(1,2,2)\n",
      "p.imshow(np.angle(fftImg0))\n",
      "#fig.savefig(\"soccer_fft_gray.png\", bbox_inches='tight', pad_inches=0)"
     ],
     "language": "python",
     "metadata": {},
     "outputs": []
    },
    {
     "cell_type": "code",
     "collapsed": false,
     "input": [
      "fig, axes = p.subplots(figsize=(16,8))\n",
      "p.subplot(1,2,1)\n",
      "p.imshow(10.*np.log10(np.abs(fftImg1)))\n",
      "p.subplot(1,2,2)\n",
      "p.imshow(np.angle(fftImg1))\n",
      "#fig.savefig(\"duck_fft_gray.png\", bbox_inches='tight', pad_inches=0)"
     ],
     "language": "python",
     "metadata": {},
     "outputs": []
    },
    {
     "cell_type": "markdown",
     "metadata": {},
     "source": [
      "Reconstruct hybrid image with phase of Duck and amplitude of Soccer"
     ]
    },
    {
     "cell_type": "code",
     "collapsed": false,
     "input": [
      "fig = p.figure(figsize=(8,8))\n",
      "phs=np.angle(fftImg1)\n",
      "amp=np.abs(fftImg0)\n",
      "fftHybrid=amp*(np.cos(phs)+1j*np.sin(phs))\n",
      "hybrid=np.abs(np.fft.ifft2(np.fft.fftshift(fftHybrid)))\n",
      "hybridPlot=p.imshow(hybrid)\n",
      "hybridPlot.set_cmap('gray')\n",
      "#fig.savefig(\"hybrid_phs_duck_amp_soccer.png\", bbox_inches='tight', pad_inches=0)"
     ],
     "language": "python",
     "metadata": {},
     "outputs": []
    },
    {
     "cell_type": "markdown",
     "metadata": {},
     "source": [
      "Reconstruct hybrid image with phase of Soccer and amplitude of Duck"
     ]
    },
    {
     "cell_type": "code",
     "collapsed": false,
     "input": [
      "fig = p.figure(figsize=(8,8))\n",
      "phs=np.angle(fftImg0)\n",
      "amp=np.abs(fftImg1)\n",
      "fftHybrid=amp*(np.cos(phs)+1j*np.sin(phs))\n",
      "hybrid=np.abs(np.fft.ifft2(np.fft.fftshift(fftHybrid)))\n",
      "hybridPlot=p.imshow(hybrid)\n",
      "hybridPlot.set_cmap('gray')\n",
      "#fig.savefig(\"hybrid_phs_soccer_amp_duck.png\", bbox_inches='tight', pad_inches=0)"
     ],
     "language": "python",
     "metadata": {},
     "outputs": []
    },
    {
     "cell_type": "markdown",
     "metadata": {},
     "source": [
      "Reconstruct Duck image with only phase"
     ]
    },
    {
     "cell_type": "code",
     "collapsed": false,
     "input": [
      "fig = p.figure(figsize=(8,8))\n",
      "phs=np.angle(fftImg1)\n",
      "amp=1.*np.ones_like(fftImg1)\n",
      "fftPhsImg0=amp*(np.cos(phs)+1j*np.sin(phs))\n",
      "phsImg0=np.abs(np.fft.ifft2(np.fft.fftshift(fftPhsImg0)))\n",
      "phsImg0Plot=p.imshow(phsImg0)\n",
      "phsImg0Plot.set_cmap('gray')\n",
      "#fig.savefig(\"phs_only_duck.png\", bbox_inches='tight', pad_inches=0)"
     ],
     "language": "python",
     "metadata": {},
     "outputs": []
    },
    {
     "cell_type": "markdown",
     "metadata": {},
     "source": [
      "Reconstruct Duck image with only amplitude. With no phase information, each pixel has the same average flux value."
     ]
    },
    {
     "cell_type": "code",
     "collapsed": false,
     "input": [
      "fig = p.figure(figsize=(8,8))\n",
      "phs=np.zeros_like(fftImg1)\n",
      "amp=np.abs(fftImg1)-np.mean(fftImg1)\n",
      "fftAmpImg0=amp\n",
      "ampImg0=10.*np.log10(np.abs(np.fft.ifft2(np.fft.fftshift(fftAmpImg0))))\n",
      "ampImg0Plot=p.imshow(ampImg0)\n",
      "ampImg0Plot.set_cmap('gray')\n",
      "#fig.savefig(\"amp_only_duck.png\", bbox_inches='tight', pad_inches=0)"
     ],
     "language": "python",
     "metadata": {},
     "outputs": []
    },
    {
     "cell_type": "markdown",
     "metadata": {},
     "source": [
      "Applying a simple ring sampling function"
     ]
    },
    {
     "cell_type": "code",
     "collapsed": false,
     "input": [
      "zeros=np.zeros((512,512),dtype='float')\n",
      "ones=np.ones((512,512),dtype='float')\n",
      "radius=np.mgrid[0:512,0:512]\n",
      "radius=np.sqrt((radius[0]-512/2)**2.+(radius[1]-512/2)**2.)\n",
      "sampling=np.where((20>radius) & (radius>0),ones,zeros)\n",
      "#sampling=np.where((20<radius),ones,zeros)\n",
      "fig, axes = p.subplots(nrows=2, ncols=2, figsize=(16,16))\n",
      "fig.tight_layout()\n",
      "p.subplot(2,2,1)\n",
      "samplingPlot=p.imshow(sampling)\n",
      "samplingPlot.set_cmap('gray')\n",
      "p.subplot(2,2,2)\n",
      "psfPlot=p.imshow(10.*np.log10(np.abs(np.fft.fftshift(np.fft.fft2(sampling)))))\n",
      "p.subplot(2,2,3)\n",
      "samplingPlot=p.imshow(np.abs(fftImg1*sampling))\n",
      "p.subplot(2,2,4)\n",
      "psfPlot=p.imshow(np.abs(np.fft.ifft2(fftImg1*sampling)))\n",
      "psfPlot.set_cmap('gray')\n",
      "#fig.savefig(\"psf_duck_0.png\", bbox_inches='tight', pad_inches=0)"
     ],
     "language": "python",
     "metadata": {},
     "outputs": []
    },
    {
     "cell_type": "code",
     "collapsed": false,
     "input": [
      "sampling=np.where((100>radius) & (radius>25),ones,zeros)\n",
      "fig, axes = p.subplots(nrows=2, ncols=2, figsize=(16,16))\n",
      "fig.tight_layout()\n",
      "p.subplot(2,2,1)\n",
      "samplingPlot=p.imshow(sampling)\n",
      "samplingPlot.set_cmap('gray')\n",
      "p.subplot(2,2,2)\n",
      "psfPlot=p.imshow(10.*np.log10(np.abs(np.fft.fftshift(np.fft.fft2(sampling)))))\n",
      "p.subplot(2,2,3)\n",
      "samplingPlot=p.imshow(np.abs(fftImg1*sampling))\n",
      "p.subplot(2,2,4)\n",
      "psfPlot=p.imshow(np.abs(np.fft.ifft2(fftImg1*sampling)))\n",
      "psfPlot.set_cmap('gray')\n",
      "#fig.savefig(\"psf_duck_1.png\", bbox_inches='tight', pad_inches=0)"
     ],
     "language": "python",
     "metadata": {},
     "outputs": []
    },
    {
     "cell_type": "code",
     "collapsed": false,
     "input": [
      "sampling=np.where((256>radius) & (radius>100),ones,zeros)\n",
      "fig, axes = p.subplots(nrows=2, ncols=2, figsize=(16,16))\n",
      "fig.tight_layout()\n",
      "p.subplot(2,2,1)\n",
      "samplingPlot=p.imshow(sampling)\n",
      "samplingPlot.set_cmap('gray')\n",
      "p.subplot(2,2,2)\n",
      "psfPlot=p.imshow(10.*np.log10(np.abs(np.fft.fftshift(np.fft.fft2(sampling)))))\n",
      "p.subplot(2,2,3)\n",
      "samplingPlot=p.imshow(np.abs(fftImg1*sampling))\n",
      "p.subplot(2,2,4)\n",
      "psfPlot=p.imshow(np.abs(np.fft.ifft2(fftImg1*sampling)))\n",
      "psfPlot.set_cmap('gray')\n",
      "#fig.savefig(\"psf_duck_2.png\", bbox_inches='tight', pad_inches=0)"
     ],
     "language": "python",
     "metadata": {},
     "outputs": []
    },
    {
     "cell_type": "code",
     "collapsed": false,
     "input": [],
     "language": "python",
     "metadata": {},
     "outputs": []
    }
   ],
   "metadata": {}
  }
 ]
}