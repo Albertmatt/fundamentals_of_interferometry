{
 "cells": [
  {
   "cell_type": "markdown",
   "metadata": {},
   "source": [
    "***\n",
    "\n",
    "* [Outline](../0_Introduction/0_introduction.ipynb)\n",
    "* [Glossary](../0_Introduction/1_glossary.ipynb)\n",
    "* [5. Imaging](0_introduction.ipynb)  \n",
    "    * Previous: [5.1 Spatial Frequencies](1_spatial_frequencies.ipynb)  \n",
    "    * Next: [5.3 Gridding and Degridding for using the FFT](#)\n",
    "\n",
    "***"
   ]
  },
  {
   "cell_type": "markdown",
   "metadata": {},
   "source": [
    "Import standard modules:"
   ]
  },
  {
   "cell_type": "code",
   "execution_count": null,
   "metadata": {
    "collapsed": true
   },
   "outputs": [],
   "source": [
    "import numpy as np\n",
    "import matplotlib.pyplot as plt\n",
    "%matplotlib inline"
   ]
  },
  {
   "cell_type": "markdown",
   "metadata": {},
   "source": [
    "Import section specific modules:"
   ]
  },
  {
   "cell_type": "code",
   "execution_count": null,
   "metadata": {
    "collapsed": true
   },
   "outputs": [],
   "source": [
    "import matplotlib.image as mpimg"
   ]
  },
  {
   "cell_type": "markdown",
   "metadata": {},
   "source": [
    "***"
   ]
  },
  {
   "cell_type": "markdown",
   "metadata": {},
   "source": [
    "## 5.2 Sampling and Point Spread Functions <a id='imaging:sec:samplingPSF'></a>"
   ]
  },
  {
   "cell_type": "markdown",
   "metadata": {},
   "source": [
    "For a moment let us discuss radio interferometry and the sky. We can think of the sky as being a 'continuous' image. What I mean by 'continuous' here is that the sky is spatial continuous, as opposed to a digital image which consists of spatially discrete pixels. The Fourier transform of a continuous function is another continous function. Thus, there is some continuous function in the visibility domain which is the Fourier transform of the continuous sky. As a hint of what is to come, we will see that an interferometric array measures, i.e. samples, the continuous visibility domain function. These measurements, colloquially called *visibilities*, can be used to reconstruct, at least partially, an image of the sky. The process of this reconstruction will be presented throughout this chapter. With that motivation let us return to the discussion at hand.\n",
    "\n",
    "At the end of Section 5.1 we saw how the random sampling of the spatial frequency (visibility) domain reconstructs the original image to varying degrees of quality dependent on the number of samples used. Even without complete information, much of the original image can be recovered. In this section we will expand on that idea to show how different samplings of the visibility space will result in different characteristics in the image domain."
   ]
  },
  {
   "cell_type": "markdown",
   "metadata": {},
   "source": [
    "### 5.2.1 Regular Sampling"
   ]
  },
  {
   "cell_type": "markdown",
   "metadata": {},
   "source": [
    "A standard method to convert a continuous signal into a discrete signal to apply a regularly-spaced function called a Shah (or Dirac comb, or bed of nails) function to the continous signal. This is equivalent to the concept of digitization. The 1-D Shah function is"
   ]
  },
  {
   "cell_type": "markdown",
   "metadata": {},
   "source": [
    "$$\\operatorname{III}_a(x) = \\sum_{n=-\\infty}^{+\\infty} \\delta(x+an)$$"
   ]
  },
  {
   "cell_type": "markdown",
   "metadata": {},
   "source": [
    "where $\\delta(x)$ is the Dirac Delta function and $a$ is a scaling factor to set the width between samples. Thus, a continuous function $f(x)$ can be sampled with the Shah function to produce a discrete function $f_n(X)$"
   ]
  },
  {
   "cell_type": "markdown",
   "metadata": {},
   "source": [
    "$$f_n(X) = \\operatorname{III}_a(x)\\,\\,f(x) = \\sum_{n=-\\infty}^{+\\infty} f(x)\\,\\,\\delta(x+an)$$"
   ]
  },
  {
   "cell_type": "code",
   "execution_count": null,
   "metadata": {
    "collapsed": false
   },
   "outputs": [],
   "source": [
    "xpos = np.linspace(-5, 5, num=100+1)\n",
    "shah = np.where(xpos.astype(int)==xpos, 1, 0)\n",
    "\n",
    "fig, axes = plt.subplots(figsize=(8,16))\n",
    "\n",
    "plt.subplot(3,1,1)\n",
    "plt.plot(xpos, shah)\n",
    "plt.title('Shah Function')\n",
    "\n",
    "plt.subplot(3,1,2)\n",
    "cont0 = np.sin(1.2 * xpos + 0.15)\n",
    "cont1 = 0.5 * np.sin(3 * xpos + 0.5)\n",
    "plt.plot(xpos, cont0, 'b-')\n",
    "plt.plot(xpos, cont1, 'r-')\n",
    "plt.title('Continuous Functions $f(x)$')\n",
    "\n",
    "plt.subplot(3,1,3)\n",
    "discrete0 = shah * cont0\n",
    "discrete1 = shah * cont1\n",
    "plt.plot(xpos, discrete0, 'b-')\n",
    "plt.plot(xpos, discrete1, 'r-')\n",
    "plt.title('Discrete Functions $f_n(X)$')"
   ]
  },
  {
   "cell_type": "markdown",
   "metadata": {},
   "source": [
    "*Figure: the effect of applying a Shah or Dirac Comb to a continuous signal. Top: the Shah function with a scaling factor of $a=1$, thus the Nyquist limit is $2a = 2$. Middle: a continuous Sine function with a frequency of $1.2$ (blue) and $3$ (red). Bottom: The discrete Sine functions after sampling by the Shah function. Since the blue Sine wave rate $1.2 \\le 2$, the function is sufficiently sampled, but the red Sine wave is $3 > 2$ the function is aliased to a lower frequency.*"
   ]
  },
  {
   "cell_type": "markdown",
   "metadata": {},
   "source": [
    "The effect of applying a Shah function to sample a continuous signal is that the now discretely sampled signal is bandlimited to a Nyquist rate of $2a$. Periodic signals with rates larger than $2a$ will be aliased to lower frequencies.\n",
    "\n",
    "This formulation is easily extended to higher dimensions, for example the 2-D Shah function is"
   ]
  },
  {
   "cell_type": "markdown",
   "metadata": {},
   "source": [
    "$$\\operatorname{III}_{a,b}(x, y) = \\sum_{n=-\\infty}^{+\\infty} \\sum_{m=-\\infty}^{+\\infty} \\delta(x+an, y+bn)$$"
   ]
  },
  {
   "cell_type": "markdown",
   "metadata": {},
   "source": [
    "We can use this function to sample a continuous sky image into a digital image, such as is done with a telescope and CCD camera. But, in radio astronomy that is not possible due to a number of issues with scale, technology, and sensitivity. Instead, we use an irregular sampling method. "
   ]
  },
  {
   "cell_type": "markdown",
   "metadata": {},
   "source": [
    "### 5.2.2 A Generalized Sampling Function"
   ]
  },
  {
   "cell_type": "markdown",
   "metadata": {},
   "source": [
    "Regular sampling functions are a special case of the general sampling function which happen to be equally spaced in sampling postion. But, as we will see, regular sampling is a rare case in interferometry. Instead, the sampling functions will be a function of the interferometric array configuration, obsevration bandwidth, sky pointing direction, and data flagging among other issues. The general 2-D sampling function form an arbitrary set of $Q$ pairs $(x_i, y_i), i \\le Q$"
   ]
  },
  {
   "cell_type": "markdown",
   "metadata": {},
   "source": [
    "$$\\operatorname{III}(x, y) = \\sum_{i=1}^{Q} \\delta(x+x_i, y+y_i)$$"
   ]
  },
  {
   "cell_type": "markdown",
   "metadata": {},
   "source": [
    "This equation can be further generalized to a *weighted sampling function*"
   ]
  },
  {
   "cell_type": "markdown",
   "metadata": {},
   "source": [
    "$$\\operatorname{III}(x, y) = \\sum_{i=1}^{Q} w_i \\,\\, \\delta(x+x_i, y+y_i)$$"
   ]
  },
  {
   "cell_type": "markdown",
   "metadata": {},
   "source": [
    "Which can be used to weight individual samples, for example the weight can indicate the reliability of the sample in a noisy system. Or, as we will see, this weight is used to shape the resulting image response, but that is getting ahead of ourselves.\n",
    "\n",
    "The general weighted 2-D sampling function applied to a continuous signal is"
   ]
  },
  {
   "cell_type": "markdown",
   "metadata": {},
   "source": [
    "$$f(X, Y) = \\operatorname{III}(x, y) \\,\\, f(x,y) = \\sum_{i=1}^{Q} w_i \\,\\, \\delta(x+x_i, y+y_i) f(x, y)$$"
   ]
  },
  {
   "cell_type": "markdown",
   "metadata": {},
   "source": [
    "As a note on notation, the sampling function $\\operatorname{III}$ is often written as $S$. By sampling a function we are inherently losing information as we are only measuring part of a signal. The next step is to understand how our choice of sampling effects what we can recover, especially when we are sampling in the spatial frequency (visibility) domain to recover an image in the spatial (image) domain."
   ]
  },
  {
   "cell_type": "markdown",
   "metadata": {},
   "source": [
    "### 5.2.3 The Point Spread Function (PSF)"
   ]
  },
  {
   "cell_type": "markdown",
   "metadata": {},
   "source": [
    "**TODO**\n",
    "\n",
    "What is the goal of this section? What needs to be introduced and what should be accomplished by the end of the section.\n",
    "\n",
    "* what is a point spread function\n",
    "    * psf: fourier transform of a sampling function\n",
    "* example: torus sampling function\n",
    "    * short modes, fixed width\n",
    "    * medium modes, fixed width\n",
    "    * long modes, fixed width\n",
    "    * medium modes, narrow\n",
    "    * medium modes, normal\n",
    "    * medium modes, wide\n",
    "* example: different shapes\n",
    "    * circle\n",
    "    * square\n",
    "    * triangle"
   ]
  },
  {
   "cell_type": "markdown",
   "metadata": {},
   "source": [
    "We will continue to use the same example images from the previous section."
   ]
  },
  {
   "cell_type": "code",
   "execution_count": null,
   "metadata": {
    "collapsed": false
   },
   "outputs": [],
   "source": [
    "#soccer = mpimg.imread('figures/WLA_moma_Umberto_Boccioni_Dynamism_of_a_Soccer_Player_1913_512.png')\n",
    "cyclist = mpimg.imread('figures/Umberto_Boccioni_Dynamism_of_a_Cyclist_512.png')\n",
    "duck = mpimg.imread('figures/Anas_platyrhynchos_male_female_quadrat_512.png')"
   ]
  },
  {
   "cell_type": "markdown",
   "metadata": {},
   "source": [
    "For simplicity convert the RGB-color images to grayscale:"
   ]
  },
  {
   "cell_type": "code",
   "execution_count": null,
   "metadata": {
    "collapsed": false
   },
   "outputs": [],
   "source": [
    "def rgb2gray(rgb):\n",
    "    r, g, b = rgb[:,:,0], rgb[:,:,1], rgb[:,:,2]\n",
    "    gray = 0.2989 * r + 0.5870 * g + 0.1140 * b #standard grayscale conversion\n",
    "    return gray\n",
    "\n",
    "gCyclist = rgb2gray(cyclist)\n",
    "gDuck = rgb2gray(duck)"
   ]
  },
  {
   "cell_type": "markdown",
   "metadata": {},
   "source": [
    "Applying a simple ring sampling function"
   ]
  },
  {
   "cell_type": "code",
   "execution_count": null,
   "metadata": {
    "collapsed": false
   },
   "outputs": [],
   "source": [
    "zeros=np.zeros((512,512),dtype='float')\n",
    "ones=np.ones((512,512),dtype='float')\n",
    "radius=np.mgrid[0:512,0:512]\n",
    "radius=np.sqrt((radius[0]-512/2)**2.+(radius[1]-512/2)**2.)\n",
    "sampling=np.where((20>radius) & (radius>0),ones,zeros)\n",
    "#sampling=np.where((20<radius),ones,zeros)\n",
    "fig, axes = p.subplots(nrows=2, ncols=2, figsize=(16,16))\n",
    "fig.tight_layout()\n",
    "p.subplot(2,2,1)\n",
    "samplingPlot=p.imshow(sampling)\n",
    "samplingPlot.set_cmap('gray')\n",
    "p.subplot(2,2,2)\n",
    "psfPlot=p.imshow(10.*np.log10(np.abs(np.fft.fftshift(np.fft.fft2(sampling)))))\n",
    "p.subplot(2,2,3)\n",
    "samplingPlot=p.imshow(np.abs(fftImg1*sampling))\n",
    "p.subplot(2,2,4)\n",
    "psfPlot=p.imshow(np.abs(np.fft.ifft2(fftImg1*sampling)))\n",
    "psfPlot.set_cmap('gray')\n",
    "#fig.savefig(\"psf_duck_0.png\", bbox_inches='tight', pad_inches=0)"
   ]
  },
  {
   "cell_type": "code",
   "execution_count": null,
   "metadata": {
    "collapsed": false
   },
   "outputs": [],
   "source": [
    "sampling=np.where((100>radius) & (radius>25),ones,zeros)\n",
    "fig, axes = p.subplots(nrows=2, ncols=2, figsize=(16,16))\n",
    "fig.tight_layout()\n",
    "p.subplot(2,2,1)\n",
    "samplingPlot=p.imshow(sampling)\n",
    "samplingPlot.set_cmap('gray')\n",
    "p.subplot(2,2,2)\n",
    "psfPlot=p.imshow(10.*np.log10(np.abs(np.fft.fftshift(np.fft.fft2(sampling)))))\n",
    "p.subplot(2,2,3)\n",
    "samplingPlot=p.imshow(np.abs(fftImg1*sampling))\n",
    "p.subplot(2,2,4)\n",
    "psfPlot=p.imshow(np.abs(np.fft.ifft2(fftImg1*sampling)))\n",
    "psfPlot.set_cmap('gray')\n",
    "#fig.savefig(\"psf_duck_1.png\", bbox_inches='tight', pad_inches=0)"
   ]
  },
  {
   "cell_type": "code",
   "execution_count": null,
   "metadata": {
    "collapsed": false
   },
   "outputs": [],
   "source": [
    "sampling=np.where((256>radius) & (radius>100),ones,zeros)\n",
    "fig, axes = p.subplots(nrows=2, ncols=2, figsize=(16,16))\n",
    "fig.tight_layout()\n",
    "p.subplot(2,2,1)\n",
    "samplingPlot=p.imshow(sampling)\n",
    "samplingPlot.set_cmap('gray')\n",
    "p.subplot(2,2,2)\n",
    "psfPlot=p.imshow(10.*np.log10(np.abs(np.fft.fftshift(np.fft.fft2(sampling)))))\n",
    "p.subplot(2,2,3)\n",
    "samplingPlot=p.imshow(np.abs(fftImg1*sampling))\n",
    "p.subplot(2,2,4)\n",
    "psfPlot=p.imshow(np.abs(np.fft.ifft2(fftImg1*sampling)))\n",
    "psfPlot.set_cmap('gray')\n",
    "#fig.savefig(\"psf_duck_2.png\", bbox_inches='tight', pad_inches=0)"
   ]
  },
  {
   "cell_type": "markdown",
   "metadata": {
    "collapsed": false
   },
   "source": [
    "***\n",
    "\n",
    "Next: [5.3 Gridding and Degridding for using the FFT](#)"
   ]
  }
 ],
 "metadata": {
  "kernelspec": {
   "display_name": "Python 2",
   "language": "python",
   "name": "python2"
  },
  "language_info": {
   "codemirror_mode": {
    "name": "ipython",
    "version": 2
   },
   "file_extension": ".py",
   "mimetype": "text/x-python",
   "name": "python",
   "nbconvert_exporter": "python",
   "pygments_lexer": "ipython2",
   "version": "2.7.6"
  }
 },
 "nbformat": 4,
 "nbformat_minor": 0
}
