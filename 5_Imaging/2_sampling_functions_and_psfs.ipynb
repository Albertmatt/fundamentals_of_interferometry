{
 "cells": [
  {
   "cell_type": "markdown",
   "metadata": {},
   "source": [
    "***\n",
    "\n",
    "* [Outline](../0_Introduction/0_introduction.ipynb)\n",
    "* [Glossary](../0_Introduction/1_glossary.ipynb)\n",
    "* [5. Imaging](0_introduction.ipynb)  \n",
    "    * Previous: [5.1 Spatial Frequencies](1_spatial_frequencies.ipynb)  \n",
    "    * Next: [5.3 Gridding and Degridding for using the FFT](#)\n",
    "\n",
    "***"
   ]
  },
  {
   "cell_type": "markdown",
   "metadata": {},
   "source": [
    "Import standard modules:"
   ]
  },
  {
   "cell_type": "code",
   "execution_count": null,
   "metadata": {
    "collapsed": true
   },
   "outputs": [],
   "source": [
    "import numpy as np\n",
    "import matplotlib.pyplot as plt\n",
    "%matplotlib inline"
   ]
  },
  {
   "cell_type": "markdown",
   "metadata": {},
   "source": [
    "Import section specific modules:"
   ]
  },
  {
   "cell_type": "code",
   "execution_count": null,
   "metadata": {
    "collapsed": true
   },
   "outputs": [],
   "source": [
    "import matplotlib.image as mpimg\n",
    "from IPython.display import Image"
   ]
  },
  {
   "cell_type": "markdown",
   "metadata": {},
   "source": [
    "***"
   ]
  },
  {
   "cell_type": "markdown",
   "metadata": {},
   "source": [
    "## 5.2 Sampling and Point Spread Functions <a id='imaging:sec:samplingPSF'></a>"
   ]
  },
  {
   "cell_type": "markdown",
   "metadata": {},
   "source": [
    "For a moment let us discuss radio interferometry and the sky. We can think of the sky as being a 'continuous' image. What I mean by 'continuous' here is that the sky is spatial continuous, as opposed to a digital image which consists of spatially discrete pixels. The Fourier transform of a continuous function is another continous function. Thus, there is some continuous function in the visibility domain which is the Fourier transform of the continuous sky. As a hint of what is to come, we will see that an interferometric array measures, i.e. samples, the continuous visibility domain function. These measurements, colloquially called *visibilities*, can be used to reconstruct, at least partially, an image of the sky. The process of this reconstruction will be presented throughout this chapter. With that motivation let us return to the discussion at hand.\n",
    "\n",
    "At the end of Section 5.1 we saw how the random sampling of the spatial frequency (visibility) domain reconstructs the original image to varying degrees of quality dependent on the number of samples used. Even without complete information, much of the original image can be recovered. In this section we will expand on that idea to show how different samplings of the visibility space will result in different characteristics in the image domain."
   ]
  },
  {
   "cell_type": "markdown",
   "metadata": {},
   "source": [
    "### 5.2.1 Regular Sampling"
   ]
  },
  {
   "cell_type": "markdown",
   "metadata": {},
   "source": [
    "A standard method to convert a continuous signal into a discrete signal to apply a regularly-spaced function called a Shah (or Dirac comb, or bed of nails) function to the continous signal. This is equivalent to the concept of digitization. The 1-D Shah function is"
   ]
  },
  {
   "cell_type": "markdown",
   "metadata": {},
   "source": [
    "$$\\operatorname{III}_a(x) = \\sum_{n=-\\infty}^{+\\infty} \\delta(x+an)$$"
   ]
  },
  {
   "cell_type": "markdown",
   "metadata": {},
   "source": [
    "where $\\delta(x)$ is the Dirac Delta function and $a$ is a scaling factor to set the width between samples. Thus, a continuous function $f(x)$ can be sampled with the Shah function to produce a discrete function $f_n(X)$"
   ]
  },
  {
   "cell_type": "markdown",
   "metadata": {},
   "source": [
    "$$f_n(X) = \\operatorname{III}_a(x)\\,\\,f(x) = \\sum_{n=-\\infty}^{+\\infty} f(x)\\,\\,\\delta(x+an)$$"
   ]
  },
  {
   "cell_type": "code",
   "execution_count": null,
   "metadata": {
    "collapsed": false
   },
   "outputs": [],
   "source": [
    "xpos = np.linspace(-5, 5, num=200+1)\n",
    "shah = np.where(xpos.astype(int)==xpos, 1, 0)\n",
    "\n",
    "fig, axes = plt.subplots(figsize=(8,16))\n",
    "\n",
    "plt.subplot(3,1,1)\n",
    "plt.vlines(xpos[np.argwhere(shah > 0)], 0, 1)\n",
    "plt.ylim(0, 1.1)\n",
    "plt.title('Shah Function')\n",
    "\n",
    "plt.subplot(3,1,2)\n",
    "cont0 = np.sin(1.2 * xpos + 0.15)\n",
    "cont1 = 0.5 * np.sin(5 * xpos + 0.5)\n",
    "plt.plot(xpos, cont0, 'b-')\n",
    "plt.plot(xpos, cont1, 'r-')\n",
    "plt.title('Continuous Functions $f(x)$')\n",
    "\n",
    "plt.subplot(3,1,3)\n",
    "discrete0 = shah * cont0\n",
    "discrete1 = shah * cont1\n",
    "plt.plot(xpos[np.argwhere(np.abs(shah) > 0)], discrete0[np.argwhere(np.abs(shah) > 0)], 'b-')\n",
    "plt.plot(xpos[np.argwhere(np.abs(shah) > 0)], discrete1[np.argwhere(np.abs(shah) > 0)], 'r-')\n",
    "plt.title('Discrete Functions $f_n(X)$')"
   ]
  },
  {
   "cell_type": "markdown",
   "metadata": {},
   "source": [
    "*Figure: the effect of applying a Shah or Dirac Comb to a continuous signal. Top: the Shah function with a scaling factor of $a=1$, thus the Nyquist limit is $2a = 2$. Middle: a continuous Sine function with a frequency of $1.2$ (blue) and $5$ (red). Bottom: The discrete Sine functions after sampling by the Shah function. Since the blue Sine wave rate $1.2 \\le 2$, the function is sufficiently sampled, but the red Sine wave is $5 > 2$ the function is aliased to a lower frequency.*"
   ]
  },
  {
   "cell_type": "markdown",
   "metadata": {},
   "source": [
    "The effect of applying a Shah function to sample a continuous signal is that the now discretely sampled signal is bandlimited to a Nyquist rate of $2a$. Periodic signals with rates larger than $2a$ will be aliased to lower frequencies.\n",
    "\n",
    "This formulation is easily extended to higher dimensions, for example the 2-D Shah function is"
   ]
  },
  {
   "cell_type": "markdown",
   "metadata": {},
   "source": [
    "$$\\operatorname{III}_{a,b}(x, y) = \\sum_{n=-\\infty}^{+\\infty} \\sum_{m=-\\infty}^{+\\infty} \\delta(x+an, y+bn)$$"
   ]
  },
  {
   "cell_type": "markdown",
   "metadata": {},
   "source": [
    "We can use this function to sample a continuous sky image into a digital image, such as is done with a telescope and CCD camera. But, in radio astronomy that is not possible due to a number of issues with scale, technology, and sensitivity. Instead, we use an irregular sampling method. "
   ]
  },
  {
   "cell_type": "markdown",
   "metadata": {},
   "source": [
    "### 5.2.2 A Generalized Sampling Function"
   ]
  },
  {
   "cell_type": "markdown",
   "metadata": {},
   "source": [
    "Regular sampling functions are a special case of the general sampling function which happen to be equally spaced in sampling postion. But, as we will see, regular sampling is a rare case in interferometry. Instead, the sampling functions will be a function of the interferometric array configuration, obsevration bandwidth, sky pointing direction, and data flagging among other issues. The general 2-D sampling function form an arbitrary set of $Q$ pairs $(x_i, y_i), i \\le Q$"
   ]
  },
  {
   "cell_type": "markdown",
   "metadata": {},
   "source": [
    "$$S(x, y) = \\sum_{i=1}^{Q} \\delta(x+x_i, y+y_i)$$"
   ]
  },
  {
   "cell_type": "markdown",
   "metadata": {},
   "source": [
    "This equation can be further generalized to a *weighted sampling function*"
   ]
  },
  {
   "cell_type": "markdown",
   "metadata": {},
   "source": [
    "$$S(x, y) = \\sum_{i=1}^{Q} w_i \\,\\, \\delta(x+x_i, y+y_i)$$"
   ]
  },
  {
   "cell_type": "markdown",
   "metadata": {},
   "source": [
    "Which can be used to weight individual samples, for example the weight can indicate the reliability of the sample in a noisy system. Or, as we will see, this weight is used to shape the resulting image response, but that is getting ahead of ourselves.\n",
    "\n",
    "The general weighted 2-D sampling function applied to a continuous signal is"
   ]
  },
  {
   "cell_type": "markdown",
   "metadata": {},
   "source": [
    "$$f(X, Y) = S(x, y) \\,\\, f(x,y) = \\sum_{i=1}^{Q} w_i \\,\\, \\delta(x+x_i, y+y_i) \\,\\, f(x, y)$$"
   ]
  },
  {
   "cell_type": "markdown",
   "metadata": {},
   "source": [
    "By sampling a function we are inherently losing information as we are only measuring part of a signal. The next step is to understand how our choice of sampling effects what we can recover, especially when we are sampling in the spatial frequency (visibility) domain to recover an image in the spatial (image) domain."
   ]
  },
  {
   "cell_type": "markdown",
   "metadata": {},
   "source": [
    "### 5.2.3 The Point Spread Function (PSF)"
   ]
  },
  {
   "cell_type": "markdown",
   "metadata": {},
   "source": [
    "The term *Point Spread Function* comes up in a lot of astronomy and photography, the term refers to the response of a measurement system to perfect point source. In optical astronomy stars are usually 'unresolved', that is the resolution of the telescope is insufficient to measure the angular size of the star. So, a star can effectively be considered a point source. The optics of the telescope then impose a structure on the entire image which can be seen in strong point sources."
   ]
  },
  {
   "cell_type": "code",
   "execution_count": null,
   "metadata": {
    "collapsed": false
   },
   "outputs": [],
   "source": [
    "Image(filename='figures/hs-2010-13-g-large_web.jpg')"
   ]
  },
  {
   "cell_type": "markdown",
   "metadata": {},
   "source": [
    "*Figure: Carina Nebula image from the Hubble Telescope, the cross pattern and airy pattern from the stars in the foreground is the point spread function of the telecsope due to the optics.*\n",
    "[Credit: NASA, ESA, and M. Livio and the Hubble 20th Anniversary Team (STScI)](http://hubblesite.org/gallery/album/star/pr2010013g/)"
   ]
  },
  {
   "cell_type": "markdown",
   "metadata": {},
   "source": [
    "In radio astronomy there are two types of PSFs, the first is the same as in optical astronomy where the shape of the optics imposes a response to a point source. This is PSF relates to the antenna beam and can be ignored for now. When discussing radio interferometry the term PSF relates to the geometry of the array configuration, that is how the array *samples* the visibility domain. For the moment we will simply state that the PSF of an interferometric array (in fact any telescope) is the Fourier transform of the visibility domain sampling function."
   ]
  },
  {
   "cell_type": "markdown",
   "metadata": {},
   "source": [
    "$$\\text{PSF}(l,m) \\rightleftharpoons S(u,v)$$"
   ]
  },
  {
   "cell_type": "markdown",
   "metadata": {},
   "source": [
    "To add some interferometry specific notation we describe positions in the visibility domain in terms of $u$ and $v$, the term $uv$-space is often used as a synonm for the visibility domain. Positions in the image domain are denoted with $l$ and $m$, both of which range $-1 \\le l,m \\le 1$. These terms are more fully described in the  [Visibility Space]() chapter. For both the image and visibility domain $(0,0)$ is at the centre like a Cartesian coordinate system. In historical literature the term *synthesized beam* is often used, this is equivalent to the PSF.\n",
    "\n",
    "The resulting *obsvered signal* from a measurement system is the convolution of the *true signal* with the PSF of the system"
   ]
  },
  {
   "cell_type": "markdown",
   "metadata": {},
   "source": [
    "$$I_{obs} = \\text{PSF} \\ast I_{true} $$"
   ]
  },
  {
   "cell_type": "markdown",
   "metadata": {},
   "source": [
    "For the moment, we will skip the mathematical complexities of why the PSF and sampling functions are Fourier pairs, and the relations between the observed and true images. Instead, we will graphically look at some examples of simple sampling functions, what type of PSF is produced and how it affects an image.\n",
    "\n",
    "We will continue to use the same example images from the previous section, and for simplicity convert the RGB-color images to grayscale:"
   ]
  },
  {
   "cell_type": "code",
   "execution_count": null,
   "metadata": {
    "collapsed": false
   },
   "outputs": [],
   "source": [
    "#soccer = mpimg.imread('figures/WLA_moma_Umberto_Boccioni_Dynamism_of_a_Soccer_Player_1913_512.png')\n",
    "cyclist = mpimg.imread('figures/Umberto_Boccioni_Dynamism_of_a_Cyclist_512.png')\n",
    "duck = mpimg.imread('figures/Anas_platyrhynchos_male_female_quadrat_512.png')\n",
    "\n",
    "def rgb2gray(rgb):\n",
    "    r, g, b = rgb[:,:,0], rgb[:,:,1], rgb[:,:,2]\n",
    "    gray = 0.2989 * r + 0.5870 * g + 0.1140 * b #standard grayscale conversion\n",
    "    return gray\n",
    "\n",
    "gCyclist = rgb2gray(cyclist)\n",
    "gDuck = rgb2gray(duck)"
   ]
  },
  {
   "cell_type": "markdown",
   "metadata": {},
   "source": [
    "The most simple telescope we can imagine is a circular lense which refracts light to a measurment point, this is a refracting telescope in the style of Galileo's original design. The lense, which has a certain circumference defines the maximum resolution of the telescope and the 2-D cross section of the lense, a disk, is the 'sampling' function. That is, all light within the circumference of the lense is seen, and all light beyond the lense is excluded. The sampling function of this telescope is a binary disk."
   ]
  },
  {
   "cell_type": "code",
   "execution_count": null,
   "metadata": {
    "collapsed": false
   },
   "outputs": [],
   "source": [
    "def circularSamplingMap(imgSize, outer, inner=0):\n",
    "    \"\"\"Return a circular sampling map of size [imgSize, imgSize]\n",
    "    imgSize: image size in pixels\n",
    "    outer: outer radius (in pixels) to exclude sampling above\n",
    "    inner: inner radius (in pixels) to exclude sampling below\"\"\"\n",
    "    zeros = np.zeros((imgSize,imgSize), dtype='float')\n",
    "    ones = np.ones((imgSize,imgSize), dtype='float')\n",
    "    xpos, ypos = np.mgrid[0:imgSize,0:imgSize]\n",
    "    radius = np.sqrt((xpos - imgSize/2)**2. + (ypos - imgSize/2)**2.)\n",
    "    sampling = np.where((outer >= radius) & (radius >= inner), ones, zeros)\n",
    "    return sampling\n",
    "\n",
    "sampling = circularSamplingMap(512, 20, 0)\n",
    "fig, axes = plt.subplots(figsize=(8,8))\n",
    "samplingPlot = plt.imshow(sampling)\n",
    "plt.title('Sampling Function')\n",
    "samplingPlot.set_cmap('gray')"
   ]
  },
  {
   "cell_type": "markdown",
   "metadata": {},
   "source": [
    "*Figure: sampling function of a simple refractor telescope.*"
   ]
  },
  {
   "cell_type": "markdown",
   "metadata": {},
   "source": [
    "We can then compute the PSF of this telescope using a Fourier transform."
   ]
  },
  {
   "cell_type": "code",
   "execution_count": null,
   "metadata": {
    "collapsed": false
   },
   "outputs": [],
   "source": [
    "fig, axes = plt.subplots(figsize=(8,8))\n",
    "psfPlot = plt.imshow(np.abs( np.fft.fftshift( np.fft.fft2(sampling))))\n",
    "plt.title('PSF')\n",
    "plt.colorbar(shrink=0.8)"
   ]
  },
  {
   "cell_type": "markdown",
   "metadata": {},
   "source": [
    "*Figure: the PSF of a simple circular sampling function, this is also called an Airy disk.*"
   ]
  },
  {
   "cell_type": "markdown",
   "metadata": {},
   "source": [
    "Looking at the PSF there is large (in amplitude) central peak surrounding by rings which drop off in amplitude. This is known as an Airy disk (also called a Bessel function of the first kind, or radially symetric Sinc function), and is the Fourier transform of a radially symetric top-hat function which is what our simple sampling function is. The central peak is often called the *PSF primary lobe* and the secodary peaks, such as the rings, are the PSF *sidelobes*.\n",
    "\n",
    "Remember, the PSF is the response of the measuring system to a point source, in this example we see that a point source will appear to be an Airy disk with a primary lobe of many pixels in size. Looking back at the Hubble image we can see that some of the bright sources have an AIry disk structure around them along with the cross patterns.\n",
    "\n",
    "We can produce the observed image of the duck image from the previous section by taking advantage of the Fourier relation in the convolution theorem that a convolution of two function in one domain is a multiplication of those functions in the Fourier domain."
   ]
  },
  {
   "cell_type": "code",
   "execution_count": null,
   "metadata": {
    "collapsed": false
   },
   "outputs": [],
   "source": [
    "fftDuck = np.fft.fftshift(np.fft.fft2(gDuck)) #Fourier transform the duck to the spatial frequency domain\n",
    "obsDuck = np.abs(np.fft.ifft2(np.fft.fftshift(sampling * fftDuck))) #multiple by the sampling function, and Fourier transfrom back to the image domain\n",
    "fig, axes = plt.subplots(figsize=(8,8))\n",
    "obsPlot = plt.imshow(obsDuck)\n",
    "obsPlot.set_cmap('gray')"
   ]
  },
  {
   "cell_type": "markdown",
   "metadata": {},
   "source": [
    "*Figure: the obsevred image of the duck using the sampling function presented above.*"
   ]
  },
  {
   "cell_type": "markdown",
   "metadata": {},
   "source": [
    "The obsevred image is quite blurry as the large PSF primary lobe affectively acts as a low-pass filter to remove the fine details.\n",
    "\n",
    "By increasing the radius of the sampling function, i.e. using a larger telescope, we see that the PSF primary lobe gets smaller, and thus we have a higher resolution telescope as expected."
   ]
  },
  {
   "cell_type": "code",
   "execution_count": null,
   "metadata": {
    "collapsed": false
   },
   "outputs": [],
   "source": [
    "fig, axes = plt.subplots(figsize=(16,8))\n",
    "fig.tight_layout()\n",
    "\n",
    "plt.subplot(1,2,1)\n",
    "sampling0 = circularSamplingMap(512, 10, 0)\n",
    "samplingPlot = plt.imshow(sampling0)\n",
    "samplingPlot.set_cmap('gray')\n",
    "plt.title('Sampling Function (r=%i)'%10)\n",
    "\n",
    "plt.subplot(1,2,2)\n",
    "sampling1 = circularSamplingMap(512, 100, 0)\n",
    "samplingPlot = plt.imshow(sampling1)\n",
    "samplingPlot.set_cmap('gray')\n",
    "plt.title('Sampling Function (r=%i)'%100)\n",
    "\n",
    "fig, axes = plt.subplots(figsize=(16,8))\n",
    "fig.tight_layout()\n",
    "\n",
    "plt.subplot(1,2,1)\n",
    "psfPlot = plt.imshow(np.abs( np.fft.fftshift( np.fft.fft2(sampling0))))\n",
    "plt.title('PSF')\n",
    "\n",
    "plt.subplot(1,2,2)\n",
    "psfPlot = plt.imshow(np.abs( np.fft.fftshift( np.fft.fft2(sampling1))))\n",
    "plt.title('PSF')\n",
    "\n",
    "fig, axes = plt.subplots(figsize=(16,8))\n",
    "fig.tight_layout()\n",
    "\n",
    "plt.subplot(1,2,1)\n",
    "obsDuck = np.abs(np.fft.ifft2(np.fft.fftshift(sampling0 * fftDuck)))\n",
    "obsPlot = plt.imshow(obsDuck)\n",
    "obsPlot.set_cmap('gray')\n",
    "plt.title('Observed Image')\n",
    "\n",
    "plt.subplot(1,2,2)\n",
    "obsDuck = np.abs(np.fft.ifft2(np.fft.fftshift(sampling1 * fftDuck)))\n",
    "obsPlot = plt.imshow(obsDuck)\n",
    "obsPlot.set_cmap('gray')\n",
    "plt.title('Observed Image')"
   ]
  },
  {
   "cell_type": "markdown",
   "metadata": {},
   "source": [
    "*Figure: sampling functions (top row), resulting PSFs (middle row), and observed images (bottom row). A larger radius sampling function results in a smaller PSF response, which can be interpreted as higher resolution.*"
   ]
  },
  {
   "cell_type": "markdown",
   "metadata": {},
   "source": [
    "From the left column we can see that a small disk results in a blurred out, or low resolution, image compared to the larger sampling disk in the right column. Because the right column sampling fuction does not fully sample the visibility domain a 'ringing' can be seen in the observed image, especially around the edge of the duck, due to the PSF sidelobes.\n",
    "\n",
    "Modern telescopes are not as simple as the refactor telescope-Airy disk relation as most are some form of reflector mirror instead of lense. Most have structures which block part of the lense, such as struts to hold up equipment at the focus, or holes due to engineering constraints. We can expand on our simple sampling function to more complex shapes. Lets take a small step towards complexity by making a ring sampling function, which is fairly common in astronomy."
   ]
  },
  {
   "cell_type": "code",
   "execution_count": null,
   "metadata": {
    "collapsed": false
   },
   "outputs": [],
   "source": [
    "fig, axes = plt.subplots(figsize=(16,16))\n",
    "fig.tight_layout()\n",
    "\n",
    "plt.subplot(2,2,1)\n",
    "sampling = circularSamplingMap(512, 30, 5)\n",
    "samplingPlot = plt.imshow(sampling)\n",
    "samplingPlot.set_cmap('gray')\n",
    "plt.title('Sampling Function')\n",
    "\n",
    "plt.subplot(2,2,2)\n",
    "psfPlot = plt.imshow(np.abs( np.fft.fftshift( np.fft.fft2(sampling))))\n",
    "plt.title('PSF')\n",
    "\n",
    "plt.subplot(2,2,3)\n",
    "samplingPlot = plt.imshow(np.abs(sampling * fftDuck))\n",
    "plt.title('Sampled Visibilities')\n",
    "\n",
    "plt.subplot(2,2,4)\n",
    "obsDuck = np.abs(np.fft.ifft2(np.fft.fftshift(sampling * fftDuck)))\n",
    "obsPlot = plt.imshow(obsDuck)\n",
    "obsPlot.set_cmap('gray')\n",
    "plt.title('Observed Image')"
   ]
  },
  {
   "cell_type": "markdown",
   "metadata": {},
   "source": [
    "*Figure: The effect of sampling a limited set of spatial frequency domain components to produce an observed image. Top left: ring sampling function, Top right: resulting PSF of the sampling function, Bottom left: the amplitude of the sampled visibilities, Bottom right: the Fourier transform of the sampled visibilities, the observed image.*"
   ]
  },
  {
   "cell_type": "markdown",
   "metadata": {},
   "source": [
    "A ring sampling function can be thought of as being made up of two sampling functions, a circular 'positive' sampling function which results in an Airy disk, and small 'negative' circular sampling function, the inner section, which results in a larger Airy disk which is subtracted from the 'positive' sampling function. The resulting PSF can be seen to have sidelobes that dim but periodically brighten in radius. The observed image has a duck-like shape but is different from the first observed image we produced when the sampling function was a complete circle out to a radius of 20 pixels. We have dropped the inner 5 pixel radius visibility samples. The sum of the observed image is effectively zero, this is because the inner components represent the large scale structure of the image. For example, the sample at $(0,0)$ in the spatial frequency domain is often called the DC component (this comes from 'direct current' in signal processing) and represents the average of the image. By not sampling that component, the remaining image visibility components, when summed should be approximately zero."
   ]
  },
  {
   "cell_type": "code",
   "execution_count": null,
   "metadata": {
    "collapsed": false
   },
   "outputs": [],
   "source": [
    "np.sum(np.fft.ifft2(np.fft.fftshift(sampling * fftDuck))) #The sum of the observed image components is approximately zero"
   ]
  },
  {
   "cell_type": "markdown",
   "metadata": {},
   "source": [
    "This ring sampling effectively acts as a bandpass filter which removes spatial frequency components that in the radius below 5 pixels and above 20 pixels. Creating another ring sampling function with a larger radius produces a different bandpass filter of the true image. "
   ]
  },
  {
   "cell_type": "code",
   "execution_count": null,
   "metadata": {
    "collapsed": false
   },
   "outputs": [],
   "source": [
    "fig, axes = plt.subplots(figsize=(16,16))\n",
    "fig.tight_layout()\n",
    "\n",
    "plt.subplot(2,2,1)\n",
    "sampling = circularSamplingMap(512, 100, 30)\n",
    "samplingPlot = plt.imshow(sampling)\n",
    "samplingPlot.set_cmap('gray')\n",
    "plt.title('Sampling Function')\n",
    "\n",
    "plt.subplot(2,2,2)\n",
    "psfPlot = plt.imshow(10. * np.log10(np.abs( np.fft.fftshift( np.fft.fft2(sampling)))))\n",
    "plt.title('PSF')\n",
    "\n",
    "plt.subplot(2,2,3)\n",
    "samplingPlot = plt.imshow(np.abs(sampling * fftDuck))\n",
    "plt.title('Sampled Visibilities')\n",
    "\n",
    "plt.subplot(2,2,4)\n",
    "obsDuck = np.abs(np.fft.ifft2(np.fft.fftshift(sampling * fftDuck)))\n",
    "obsPlot = plt.imshow(obsDuck)\n",
    "obsPlot.set_cmap('gray')\n",
    "plt.title('Observed Image')"
   ]
  },
  {
   "cell_type": "markdown",
   "metadata": {},
   "source": [
    "*Figure: The effect of sampling a limited set of spatial frequency domain components to produce an observed image. Top left: ring sampling function, Top right: resulting PSF of the sampling function, shown in decibels, Bottom left: the amplitude of the sampled visibilities, Bottom right: the Fourier transform of the sampled visibilities, the observed image.*"
   ]
  },
  {
   "cell_type": "markdown",
   "metadata": {},
   "source": [
    "With a wider ring radius the finer details of the duck appear, some of the feathers of the duck in the background appear, the sum of the image components is still approximately zero."
   ]
  },
  {
   "cell_type": "code",
   "execution_count": null,
   "metadata": {
    "collapsed": false
   },
   "outputs": [],
   "source": [
    "fig, axes = plt.subplots(figsize=(16,16))\n",
    "fig.tight_layout()\n",
    "\n",
    "plt.subplot(2,2,1)\n",
    "sampling = circularSamplingMap(512, 256, 100)\n",
    "samplingPlot = plt.imshow(sampling)\n",
    "samplingPlot.set_cmap('gray')\n",
    "plt.title('Sampling Function')\n",
    "\n",
    "plt.subplot(2,2,2)\n",
    "psfPlot = plt.imshow(10. * np.log10(np.abs( np.fft.fftshift( np.fft.fft2(sampling)))))\n",
    "plt.title('PSF')\n",
    "\n",
    "plt.subplot(2,2,3)\n",
    "samplingPlot = plt.imshow(np.abs(sampling * fftDuck))\n",
    "plt.title('Sampled Visibilities')\n",
    "\n",
    "plt.subplot(2,2,4)\n",
    "obsDuck = np.abs(np.fft.ifft2(np.fft.fftshift(sampling * fftDuck)))\n",
    "obsPlot = plt.imshow(obsDuck)\n",
    "obsPlot.set_cmap('gray')\n",
    "plt.title('Observed Image')"
   ]
  },
  {
   "cell_type": "markdown",
   "metadata": {},
   "source": [
    "*Figure: The effect of sampling a limited set of spatial frequency domain components to produce an observed image. Top left: ring sampling function, Top right: resulting PSF of the sampling function, shown in decibels, Bottom left: the amplitude of the sampled visibilities, Bottom right: the Fourier transform of the sampled visibilities, the observed image.*"
   ]
  },
  {
   "cell_type": "markdown",
   "metadata": {},
   "source": [
    "Going to an even larger radius the finest details show up in the observed image, but is fairly faint because most the power is represented in the lower spatial frequencies, thus we have also increased the total sampling area. The intuition here is that in most images the the lower spatial freqeuncy components represent most of the information in the image, and at each successively larger ring in visibility space that are more possible orientations, i.e. higher resolution, for the power to be spread over.\n",
    "\n",
    "We can generate the resulting PSFs for a collection of different shapes."
   ]
  },
  {
   "cell_type": "code",
   "execution_count": null,
   "metadata": {
    "collapsed": false
   },
   "outputs": [],
   "source": [
    "imgSize = 512\n",
    "\n",
    "#Square\n",
    "sampling = np.zeros((imgSize,imgSize), dtype='float')\n",
    "sampling[int(imgSize/4.)-5:int(3.*imgSize/4.)+5, int(imgSize/4.)-5:int(3.*imgSize/4.)+5] = 1.\n",
    "fig, axes = plt.subplots(figsize=(16,8))\n",
    "fig.tight_layout()\n",
    "\n",
    "plt.subplot(1,2,1)\n",
    "samplingPlot = plt.imshow(sampling)\n",
    "plt.title('Square Sampling Function')\n",
    "samplingPlot.set_cmap('gray')\n",
    "\n",
    "plt.subplot(1,2,2)\n",
    "psfPlot = plt.imshow(10. * np.log10(np.abs( np.fft.fftshift( np.fft.fft2(sampling)))))\n",
    "plt.title('PSF (dB)')\n",
    "\n",
    "#Cross\n",
    "sampling = np.zeros((imgSize,imgSize), dtype='float')\n",
    "xpos, ypos = np.mgrid[0:imgSize, 0:imgSize]\n",
    "idx = np.argwhere(np.abs(xpos-ypos) < 5)\n",
    "sampling[idx[:,0], idx[:,1]] = 1.\n",
    "sampling[idx[:,0], (imgSize-1) - idx[:,1]] = 1.\n",
    "fig, axes = plt.subplots(figsize=(16,8))\n",
    "fig.tight_layout()\n",
    "\n",
    "plt.subplot(1,2,1)\n",
    "samplingPlot = plt.imshow(sampling)\n",
    "plt.title('Cross Sampling Function')\n",
    "samplingPlot.set_cmap('gray')\n",
    "\n",
    "plt.subplot(1,2,2)\n",
    "psfPlot = plt.imshow(10. * np.log10(np.abs( np.fft.fftshift( np.fft.fft2(sampling)))))\n",
    "plt.title('PSF (dB)')\n",
    "\n",
    "#Small Circles\n",
    "sampling = np.zeros((imgSize,imgSize), dtype='float')\n",
    "radius = 15\n",
    "smallCirc = circularSamplingMap(2*radius+1, radius, 0)\n",
    "sampling[60-radius:60+radius+1, 300-radius:300+radius+1] = smallCirc\n",
    "sampling[300-radius:300+radius+1, 60-radius:60+radius+1] = smallCirc\n",
    "sampling[400-radius:400+radius+1, 400-radius:400+radius+1] = smallCirc\n",
    "fig, axes = plt.subplots(figsize=(16,8))\n",
    "fig.tight_layout()\n",
    "\n",
    "plt.subplot(1,2,1)\n",
    "samplingPlot = plt.imshow(sampling)\n",
    "plt.title('Circles Sampling Function')\n",
    "samplingPlot.set_cmap('gray')\n",
    "\n",
    "plt.subplot(1,2,2)\n",
    "psfPlot = plt.imshow(10. * np.log10(np.abs( np.fft.fftshift( np.fft.fft2(sampling)))))\n",
    "plt.title('PSF (dB)')\n",
    "\n",
    "#Gaussian\n",
    "xpos, ypos = np.mgrid[0:imgSize,0:imgSize]\n",
    "sigma = 25.\n",
    "sampling = np.exp(-1. * (((xpos - (imgSize/2.))**2. + (ypos - (imgSize/2.))**2.) / (2. * sigma**2.)))\n",
    "fig, axes = plt.subplots(figsize=(16,8))\n",
    "fig.tight_layout()\n",
    "\n",
    "plt.subplot(1,2,1)\n",
    "samplingPlot = plt.imshow(sampling)\n",
    "plt.title('Gaussian Sampling Function')\n",
    "samplingPlot.set_cmap('gray')\n",
    "\n",
    "plt.subplot(1,2,2)\n",
    "psfPlot = plt.imshow(10. * np.log10(np.abs( np.fft.fftshift( np.fft.fft2(sampling)))))\n",
    "plt.title('PSF (dB)')"
   ]
  },
  {
   "cell_type": "markdown",
   "metadata": {},
   "source": [
    "*Row 1: Square sampling function (left) and the resulting PSF (right).\n",
    "Row 2: Cross sampling function (left) and the resulting PSF (right).\n",
    "Row 3: Set of circles sampling function (left) and the resulting PSF (right)\n",
    "Row 4: Gaussian sampling function (left) and the resulting PSF (right)*"
   ]
  },
  {
   "cell_type": "markdown",
   "metadata": {},
   "source": [
    "Different shapes have a dramatic effect on the resulting PSF and hence the observed image. A square sampling function results in a strong primary lobe but underlying, repeated sidelobe structures. The cross sampling limits the samples to two orientations but at different spatial frequency scales, which results a strong cross pattern and high sidelobes. A collection of small circles at different positions results in a similar Airy disc of a single circle seen earlier. A Gaussian sampling function, which we will return to later in the chapter, has the nice feature that it's Fourier transform is another Gaussian. It is often desirable to taper, or modify, the sampling function to be more Gaussian-like. But, that is to come later.\n",
    "\n",
    "Returning to the Hubble image which we started the section with we can create a sampling function which approximates the obscuration pattern of the mirror."
   ]
  },
  {
   "cell_type": "code",
   "execution_count": null,
   "metadata": {
    "collapsed": false
   },
   "outputs": [],
   "source": [
    "#Approximate Hubble PSF\n",
    "#http://www.stsci.edu/institute/org/telescopes/Reports/krist_tinytim_spie.pdf\n",
    "\n",
    "#ring sampling\n",
    "sampling = circularSamplingMap(512, 230, 70)\n",
    "\n",
    "#mask circle sections\n",
    "radius = 15\n",
    "smallCirc = circularSamplingMap(2*radius+1, radius, 0)\n",
    "sampling[60-radius:60+radius+1, 300-radius:300+radius+1] -= smallCirc\n",
    "sampling[300-radius:300+radius+1, 60-radius:60+radius+1] -= smallCirc\n",
    "sampling[400-radius:400+radius+1, 400-radius:400+radius+1] -= smallCirc\n",
    "\n",
    "#mask diagonals\n",
    "xpos, ypos = np.mgrid[0:512, 0:512]\n",
    "idx = np.argwhere(np.abs(xpos-ypos) < 5)\n",
    "sampling[idx[:,0], idx[:,1]] = 0.\n",
    "sampling[idx[:,0], 511 - idx[:,1]] = 0.\n",
    "\n",
    "fig, axes = plt.subplots(figsize=(16,8))\n",
    "fig.tight_layout()\n",
    "\n",
    "plt.subplot(1,2,1)\n",
    "samplingPlot = plt.imshow(sampling)\n",
    "plt.title('Hubble Sampling Function')\n",
    "samplingPlot.set_cmap('gray')\n",
    "\n",
    "plt.subplot(1,2,2)\n",
    "psfPlot = plt.imshow(10. * np.log10(np.abs( np.fft.fftshift( np.fft.fft2(sampling)))))\n",
    "plt.title('Hubble PSF (dB)')"
   ]
  },
  {
   "cell_type": "markdown",
   "metadata": {},
   "source": [
    "*Left: the approximate sampling pattern of the Hubble Telescope. Right: The resulting PSF from this sampling pattern which is apparent in many Hubble images.*"
   ]
  },
  {
   "cell_type": "markdown",
   "metadata": {},
   "source": [
    "Based on this approximate sampling pattern for the Hubble telescope we can now see where the PSF shape we see in the image we started the section with has come from. The cross structure comes from the cross in the sampling function, the compact primary lobe is due to the large ring sampling, and the extended, low-level Airy disc is from the small circle patterns.\n",
    "\n",
    "From these various examples it should be clear that the choice of sampling greatly affects the resulting image. Ideally the sampling function completely covers the visibility domain, but that is never possible. First, the domain is infinite in extent, that is, by building a large telescope the resolution of the resulting image increases, this can go on *ad infinitum*. There is some practical engineering limit or scientific case to set the maximum resolution of an instrument. The second issue, which we have been hiding away in our examples is that we have assumed the sampling function is on a grid already. The array of pixels which make up the images are regularly spaced and all of the same size (i.e. the sample point covers the area of a pixel). In reality of course, telescope sampling functions are not made up of a grid of pixels, they are continuous. The sampling function must be transformed to a be placed on a regular array by some approximate interpolation method called *gridding* (along with an inverse method *degridding*). This will be covered in more detail in the next section. As we will see in interferometry, an assembly of baseline tracks will lead to complex sampling functions dependent on a number of factors such as array layout, oberserving frequency, sky direction, and integration time."
   ]
  },
  {
   "cell_type": "markdown",
   "metadata": {},
   "source": [
    "### 5.2.4 KAT-7 Visibility Sampling and Image PSFs"
   ]
  },
  {
   "cell_type": "markdown",
   "metadata": {},
   "source": [
    "**TODO**\n",
    "\n",
    "* KAT-7 image, 8hr, 1 chan (vis, psf)\n",
    "* KAT-7 declination 8hr, 1 chan, (latitude, -90deg, ... 30deg)\n",
    "* KAT-7 obs time, latitude, 1 chan, (snapshot, 1hr, ... , 12 hr)\n",
    "* KAT-7 bandwidth, latitude, 8hr, (1 channel, 10 channels, 100 channels, full band)\n",
    "* lead into weighting, gridding"
   ]
  },
  {
   "cell_type": "markdown",
   "metadata": {
    "collapsed": false
   },
   "source": [
    "***\n",
    "\n",
    "Next: [5.3 Gridding and Degridding for using the FFT](#)"
   ]
  }
 ],
 "metadata": {
  "kernelspec": {
   "display_name": "Python 2",
   "language": "python",
   "name": "python2"
  },
  "language_info": {
   "codemirror_mode": {
    "name": "ipython",
    "version": 2
   },
   "file_extension": ".py",
   "mimetype": "text/x-python",
   "name": "python",
   "nbconvert_exporter": "python",
   "pygments_lexer": "ipython2",
   "version": "2.7.6"
  }
 },
 "nbformat": 4,
 "nbformat_minor": 0
}
