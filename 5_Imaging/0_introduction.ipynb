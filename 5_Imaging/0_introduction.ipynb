{
 "cells": [
  {
   "cell_type": "markdown",
   "metadata": {},
   "source": [
    "***\n",
    "\n",
    "* [Outline](../0_Introduction/0_introduction.ipynb)\n",
    "* [Glossary](../0_Introduction/1_glossary.ipynb)\n",
    "* [5. Imaging](#)  \n",
    "    * Next: [5.1 Spatial Frequencies](1_spatial_frequencies.ipynb)\n",
    "\n",
    "***"
   ]
  },
  {
   "cell_type": "markdown",
   "metadata": {},
   "source": [
    "# Chapter 5: Imaging<a id='imaging:sec:intro'></a>"
   ]
  },
  {
   "cell_type": "markdown",
   "metadata": {},
   "source": [
    "We usually design and build interferometric arrays in radio astronomy as a round-a-bout way to make an image of the sky. The measurment of complex visibilities and sampling of the *uv*-plane all eventually lead to producing an image one would see looking up at the sky if they had eyes which could see radio-frequency light. This chapter aims to present how such images are formed from the visibility measurments of an interferometric array. Before we get there we will need to lay some ground work on the relationship between an image and its Fourier pair."
   ]
  },
  {
   "cell_type": "markdown",
   "metadata": {},
   "source": [
    "#### Chapter Outline\n",
    "\n",
    "1. [Spatial Frequencies](1_spatial_frequencies.ipynb): there is a Fourier relationship between an image (spatial domain) and its so called 'visibilities' (spatial frequency domain) which is the basis for interferometric measurements.\n",
    "2. [Sampling and Point Spread Functions](2_sampling_functions_and_psfs.ipynb): the choice of sampling in the visibility domain has the effect of convolving the image with the sampling Point Spread Function.\n",
    "3. Gridding and Degridding for using the FFT: The sampling function of an interferometric array is usually not on a regular grid, thus the samples must be interpolated onto a grid to take advantage of the computational efficiency of the Fast Fourier Transform.\n",
    "4. The Dirty Image and Visibility Weightings: The complex baseline tracks of an array leads to visibility positions often being sampled multiple time during an observation, this requires development of weighting functions to be applied when transforming visibilities to the image domain.\n",
    "5. The Break Down of the Small Angle Approximation and the W-Term: to take advantage of the FFT during imaging a small angle approximation is made to reduce the problem to a 2-D FFT, this approximation breaks down as the field of view is increased. This approximation must be corrected for.\n",
    "6. Further Reading and References"
   ]
  },
  {
   "cell_type": "markdown",
   "metadata": {},
   "source": [
    "#### Chapter Editors\n",
    "\n",
    "#### Chapter Contributors\n",
    "\n",
    "* Griffin Foster"
   ]
  },
  {
   "cell_type": "markdown",
   "metadata": {},
   "source": [
    "***\n",
    "\n",
    "Next: [5.1 Spatial Frequencies](1_spatial_frequencies.ipynb)"
   ]
  }
 ],
 "metadata": {
  "kernelspec": {
   "display_name": "Python 2",
   "language": "python",
   "name": "python2"
  },
  "language_info": {
   "codemirror_mode": {
    "name": "ipython",
    "version": 2
   },
   "file_extension": ".py",
   "mimetype": "text/x-python",
   "name": "python",
   "nbconvert_exporter": "python",
   "pygments_lexer": "ipython2",
   "version": "2.7.6"
  }
 },
 "nbformat": 4,
 "nbformat_minor": 0
}
