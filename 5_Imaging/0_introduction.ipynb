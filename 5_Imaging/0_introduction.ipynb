{
 "metadata": {
  "name": ""
 },
 "nbformat": 3,
 "nbformat_minor": 0,
 "worksheets": [
  {
   "cells": [
    {
     "cell_type": "heading",
     "level": 1,
     "metadata": {},
     "source": [
      "Chapter 5: Imaging<a id='imaging:sec:intro'></a>"
     ]
    },
    {
     "cell_type": "markdown",
     "metadata": {},
     "source": [
      "### An Introduction\n",
      "\n",
      "We usually design and build interferometric arrays in radio astronomy as a roundabout way to make an image of the sky. The measurment of complex visibilities and sampling of the *uv*-plane all eventually lead to producing an image one would see looking up at the sky if they had eyes which could see radio-frequency light. This chapter aims to present how such images are formed from the visibility measurments of an interferometric array. Before we get there we will need to lay some ground work on the relationship between an image and its Fourier pair.\n",
      "\n",
      "The goals of this chapter are:\n",
      "\n",
      "#### Outline of Chapter\n",
      "\n",
      "* intro: transforming visibilites into spatial components, visibilites represent complex values at different spatial frequencies. Describe the Fourier Transform in two dimensions.\n",
      "* A. spatial frequencies: the Fourier relation between delta functions (with different complex values) and sine/cosine waves. Show the relationship between an image and its Fourier pair\n",
      "* B. Sampling and PSFs: relation between visibility space sampling and the PSF (natural weighting). Define the Point Spread Function (PSF). Show the filtering of information in an image based on a sampling function.\n",
      "* C. Gridding and Degridding: leads into different weighting schemes. Introduce the Fast Fourier Transform (FFT).\n",
      "* D. Generating the Dirty Image and visibility weightings: the dirty image is approximately the true sky convolved with the PSF, and how different weights in the gridding stage affect the image. How to form a sky image from the sampled visibilities. Extending sampling functions to introduce weighting schemes\n",
      "* E. breakdown of the simple fourier relation for imaging: the small angle approximation, w-term, non-monochromatic signals (MFS, channel averaging)\n",
      "* outro: review of important concepts, further reading, lead into deconvolution to incorporate additional knowledge\n",
      "* references"
     ]
    },
    {
     "cell_type": "markdown",
     "metadata": {},
     "source": [
      "Chapter Sections\n",
      "\n",
      "1. [Spatial Frequencies](1_spatial_frequencies.ipynb)\n",
      "2. Sampling and Point Spread Functions\n",
      "3. Gridding and Degridding for using the FFT\n",
      "4. The Dirty Image and Visibility Weightings\n",
      "5. The Break Down of the Small Angle Approximation and the W-Term"
     ]
    },
    {
     "cell_type": "markdown",
     "metadata": {},
     "source": [
      "Next: [5.1 Spatial Frequencies](1_spatial_frequencies.ipynb)"
     ]
    }
   ],
   "metadata": {}
  }
 ]
}