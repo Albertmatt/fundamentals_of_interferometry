{
 "metadata": {
  "name": ""
 },
 "nbformat": 3,
 "nbformat_minor": 0,
 "worksheets": [
  {
   "cells": [
    {
     "cell_type": "heading",
     "level": 1,
     "metadata": {},
     "source": [
      "Chapter 5: Imaging"
     ]
    },
    {
     "cell_type": "heading",
     "level": 2,
     "metadata": {},
     "source": [
      "An Introduction"
     ]
    },
    {
     "cell_type": "markdown",
     "metadata": {},
     "source": [
      "We usually design and build interferometric arrays in radio astronomy as a roundabout way to make an image of the sky. The measurment of complex visibilities and sampling of the *uv*-plane all eventually lead to producing an image one would see looking up at the sky if they had eyes which could see radio-frequency waves. This chapter aims to present how such images are formed from the visibility measurments of an interferometric array. Before we get there we will need to lay some ground work on the relationship between an image and its Fourier pair. The goals of this chapter are:\n",
      "\n",
      "* Describe the Fourier Transform in two dimensions\n",
      "* Introduce the Fast Fourier Transform (FFT)\n",
      "* Show the relationship between an image and its Fourier pair\n",
      "* Show the filtering of information in an image based on a sampling function\n",
      "* Define the Point Spread Function (PSF)\n",
      "* How to form a sky image from the sampled visibilities\n",
      "* Extending sampling functions to introduce weighting schemes"
     ]
    },
    {
     "cell_type": "markdown",
     "metadata": {},
     "source": [
      "Next: [5.1 Spatial Frequencies](1_spatial_frequencies.ipynb)"
     ]
    }
   ],
   "metadata": {}
  }
 ]
}