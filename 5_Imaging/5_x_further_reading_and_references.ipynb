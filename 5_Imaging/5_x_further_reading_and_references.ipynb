{
 "cells": [
  {
   "cell_type": "markdown",
   "metadata": {
    "collapsed": true
   },
   "source": [
    "***\n",
    "\n",
    "* [Outline](../0_Introduction/0_introduction.ipynb)\n",
    "* [Glossary](../0_Introduction/1_glossary.ipynb)\n",
    "* [5. Imaging](5_0_introduction.ipynb)  \n",
    "    * Previous: [5.5 The Break Down of the Small Angle Approximation and the W-Term](#)  \n",
    "    * Next: [Chapter 6: Deconvolution](../6_deconvolution/6_0_introduction.ipynb)\n",
    "\n",
    "***"
   ]
  },
  {
   "cell_type": "markdown",
   "metadata": {},
   "source": [
    "## 5.6 Further Reading and References <a id='imaging:sec:refs'></a>"
   ]
  },
  {
   "cell_type": "markdown",
   "metadata": {},
   "source": [
    "1. <cite data-cite='taylor1999synthesis'>Synthesis Imaging in Radio Astronomy II (Lecture 7) </cite> [CITE](http://adsabs.harvard.edu/abs/1999sira.conf.....T)\n",
    "2. <cite data-cite='thompson2008interferometry'>Interferometry and Synthesis in Radio Astronomy (Chapter 10) </cite> [CITE](http://onlinelibrary.wiley.com/book/10.1002/9783527617845)\n",
    "3. <cite data-cite='rhodes1970spheroidal'>On the Spheroidal Functions</cite> [CITE](http://cdm16009.contentdm.oclc.org/cdm/compoundobject/collection/p13011coll6/id/61576/rec/50)\n",
    "4. <cite data-cite='tan1986aperture'>Aperture-synthesis mapping and parameter estimation</cite> [CITE](http://ethos.bl.uk/OrderDetails.do?uin=uk.bl.ethos.384529) (Optimal gridding and degridding functions)"
   ]
  },
  {
   "cell_type": "markdown",
   "metadata": {},
   "source": [
    "***\n",
    "\n",
    "Next: [Chapter 6: Deconvolution](../6_deconvolution/6_0_introduction.ipynb)"
   ]
  }
 ],
 "metadata": {
  "kernelspec": {
   "display_name": "Python 2",
   "language": "python",
   "name": "python2"
  },
  "language_info": {
   "codemirror_mode": {
    "name": "ipython",
    "version": 2
   },
   "file_extension": ".py",
   "mimetype": "text/x-python",
   "name": "python",
   "nbconvert_exporter": "python",
   "pygments_lexer": "ipython2",
   "version": "2.7.6"
  }
 },
 "nbformat": 4,
 "nbformat_minor": 0
}
