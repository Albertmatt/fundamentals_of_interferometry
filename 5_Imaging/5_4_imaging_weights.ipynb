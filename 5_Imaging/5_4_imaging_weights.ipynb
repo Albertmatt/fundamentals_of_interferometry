{
 "cells": [
  {
   "cell_type": "markdown",
   "metadata": {},
   "source": [
    "***\n",
    "\n",
    "* [Outline](../0_Introduction/0_introduction.ipynb)\n",
    "* [Glossary](../0_Introduction/1_glossary.ipynb)\n",
    "* [5. Imaging](5_0_introduction.ipynb)    \n",
    "    * Previous: [5.3 Gridding and Degridding for using the FFT](5_3_gridding_and_degridding.ipynb)\n",
    "    * Next: [5.5 The Break Down of the Small Angle Approximation and the W-Term](#)\n",
    "\n",
    "***"
   ]
  },
  {
   "cell_type": "markdown",
   "metadata": {},
   "source": [
    "Import standard modules:"
   ]
  },
  {
   "cell_type": "code",
   "execution_count": null,
   "metadata": {
    "collapsed": true
   },
   "outputs": [],
   "source": [
    "import numpy as np\n",
    "import matplotlib.pyplot as plt\n",
    "%matplotlib inline"
   ]
  },
  {
   "cell_type": "markdown",
   "metadata": {},
   "source": [
    "Import section specific modules:"
   ]
  },
  {
   "cell_type": "code",
   "execution_count": null,
   "metadata": {
    "collapsed": true
   },
   "outputs": [],
   "source": [
    "import matplotlib.image as mpimg\n",
    "from IPython.display import Image\n",
    "from astropy.io import fits\n",
    "import aplpy"
   ]
  },
  {
   "cell_type": "markdown",
   "metadata": {},
   "source": [
    "***"
   ]
  },
  {
   "cell_type": "markdown",
   "metadata": {},
   "source": [
    "## 5.4 The Dirty Image and Visibility Weightings <a id='imaging:sec:weights'></a>"
   ]
  },
  {
   "cell_type": "markdown",
   "metadata": {},
   "source": [
    "Now that we have laid out the concepts of spatial filters, sampling and point spread functions, and gridding for using the fast Fourier transforms, we are ready to connect all this topics into one to show how an image is produced from a radio interferomtric array observation. The so called 'dirty' image (the reason for this term relates to the deconvolution stage which is covered in the next chapter) from an observation is approximately"
   ]
  },
  {
   "cell_type": "markdown",
   "metadata": {},
   "source": [
    "$$ I^{\\textrm{D}}(l,m) \\approx \\int_{-\\infty}^{\\infty} \\int_{-\\infty}^{\\infty} S(u,v) V_{\\textrm{obs}}(u,v) e^{-2\\pi i(ul+vm)} \\,du\\,dv $$"
   ]
  },
  {
   "cell_type": "markdown",
   "metadata": {},
   "source": [
    "where $V_{\\textrm{obs}}(u,v)$ is the observated visibilities, this function is a complete measurement of the uv domain, which in reality is never measured because $S(u,v)$ is the sampling function, the main component of which is the uv coverage of the baseline tracks. This is an approximate result as we have used the small angle approximation to reduce the complete 3-d visibility equation to 2-d. The limits to this approximation and how to correct for the 'w-term' is covered in the next section.\n",
    "\n",
    "The sampling function $S$, as we have seen in the previous section on gridding, contains the uv track sampling and the gridding operator. And, as we will see later in this chapter, the sampling function will be generalized to include various 'weighting' functions. It is often useful to talk of the sampled visibilities"
   ]
  },
  {
   "cell_type": "markdown",
   "metadata": {},
   "source": [
    "$$ V^{\\textrm{S}} = S(u,v) V_{\\textrm{obs}}(u,v) $$"
   ]
  },
  {
   "cell_type": "markdown",
   "metadata": {},
   "source": [
    "which is combination of the visibility samples from all baselines onto a single visibility-space plane. Comparing the dirty image equation to that of the 2-d Fourier transform in Section 5.1 we see that the dirty image is simply the Fourier transform of the sampled visibilities."
   ]
  },
  {
   "cell_type": "markdown",
   "metadata": {},
   "source": [
    "$$ I^{\\textrm{D}} = \\mathscr{F}\\{V^{\\textrm{S}}\\} = \\mathscr{F}\\{ S V_{\\textrm{obs}}\\}$$"
   ]
  },
  {
   "cell_type": "markdown",
   "metadata": {},
   "source": [
    "The $(l,m)$ and $(u,v)$ notation has been dropped here for compactness. By Fourier theory the dirty image can be interpreted as a convolution of two functions. "
   ]
  },
  {
   "cell_type": "markdown",
   "metadata": {},
   "source": [
    "$$ I^{\\textrm{D}} = \\mathscr{F}\\{ S \\} \\circ \\mathscr{F}\\{ V_{\\textrm{obs}}\\}$$"
   ]
  },
  {
   "cell_type": "markdown",
   "metadata": {},
   "source": [
    "As we have seen in Section 5.2 the first function $\\mathscr{F}\\{ S \\}$ is the PSF response of the array, which we have seen in Section 5.2 is dependent on the array configuration, sky poisiton, observation time, and frequency coverage. The second function $\\mathscr{F}\\{ V_{\\textrm{obs}}\\}$ is the Fourier transform of the fully sampled visibility space. We never has access to $V_{\\textrm{obs}}$, but as we will see in the next chapter, we include *a priori* information to make an approximate reconstruction of $V_{\\textrm{obs}}$. We can think of $\\mathscr{F}\\{ V_{\\textrm{obs}}\\}$ being the ideal image $I^{\\textrm{ideal}}$ reconstructed from fulling sampling the visibility plane. Re-writing the equation above the dirty image is the convolution of the array PSF with the ideal image."
   ]
  },
  {
   "cell_type": "markdown",
   "metadata": {},
   "source": [
    "$$ I^{\\textrm{D}} = \\textrm{PSF} \\circ I^{\\textrm{ideal}}$$"
   ]
  },
  {
   "cell_type": "markdown",
   "metadata": {},
   "source": [
    "Returning to examples from earlier in the chapter we can construct a dirty image from the original duck image and the KAT-7 PSF response from one of the observations in Section 5.2."
   ]
  },
  {
   "cell_type": "code",
   "execution_count": null,
   "metadata": {
    "collapsed": false
   },
   "outputs": [],
   "source": [
    "duck = mpimg.imread('figures/Anas_platyrhynchos_male_female_quadrat_512.png')\n",
    "\n",
    "def rgb2gray(rgb):\n",
    "    r, g, b = rgb[:,:,0], rgb[:,:,1], rgb[:,:,2]\n",
    "    gray = 0.2989 * r + 0.5870 * g + 0.1140 * b #standard grayscale conversion\n",
    "    return gray\n",
    "\n",
    "gDuck = rgb2gray(duck)\n",
    "fftDuck = np.fft.fft2(gDuck) #take the Fourier transform of the image to poduce the observed visibilities"
   ]
  },
  {
   "cell_type": "code",
   "execution_count": null,
   "metadata": {
    "collapsed": false
   },
   "outputs": [],
   "source": [
    "hdulist = fits.open('figures/psfs/KAT-7_6h60s_dec-30_10MHz_100chans-psf.fits')\n",
    "psf = hdulist[0].data #shape [polarization, channel, m, l]\n",
    "sampFunc = np.fft.fft2(psf[0,0]) #take the Fourier transform of the PSF to generate the gridded sampling function"
   ]
  },
  {
   "cell_type": "code",
   "execution_count": null,
   "metadata": {
    "collapsed": false
   },
   "outputs": [],
   "source": [
    "fig = plt.figure(figsize=(8,8))\n",
    "fftDirtyImg = sampFunc * fftDuck #multiplication in Fourier space is equivalent to convolution in image space\n",
    "dirtyImg = np.abs(np.fft.fftshift(np.fft.ifft2(fftDirtyImg))) #create the dirty image\n",
    "plt.title('Duck (Dirty Image)')\n",
    "imgPlot = plt.imshow(dirtyImg)\n",
    "imgPlot.set_cmap('gray')"
   ]
  },
  {
   "cell_type": "markdown",
   "metadata": {},
   "source": [
    "*Figure: dirty image of a duck created by sampling the original duck image with a KAT-7 observation using 100 frequency channels, over a 6 hour observation at declination -30 degrees.*"
   ]
  },
  {
   "cell_type": "markdown",
   "metadata": {},
   "source": [
    "It is hard to make out the duck in the resulting dirty image. The head and long wing can be picked out, but that is likely due to the fact that we know what the original image looked like. Had we not known what the original image was we would have a difficult time deciding what we are seeing is the real image and what is due to the PSF sidelobes. This is the main issue in interferometric imaging, and perpetuated the development of deconvolution algorithms.\n",
    "\n",
    "Plotting the Fourier transform of the PSF should result in a similar image of the uv coverage plot seen in Section 5.2. Indeed it does, but notice that the color bar suggests a range of pixel values. This comes back to the overlapping uv tracks we saw in the uv coverage plots and the type of weighting scheme which was used to produce the PSF. We have been hiding a few details up until this point to simplify the presentation of sampling functions and how they affect resulting images. But, now we will generalize sampling function to introduce weighting functions."
   ]
  },
  {
   "cell_type": "code",
   "execution_count": null,
   "metadata": {
    "collapsed": false
   },
   "outputs": [],
   "source": [
    "fig = plt.figure(figsize=(8,8))\n",
    "plt.title('KAT-7 Sampling Function')\n",
    "imgPlot = plt.imshow(np.abs(np.fft.fftshift(sampFunc)))\n",
    "plt.colorbar()"
   ]
  },
  {
   "cell_type": "markdown",
   "metadata": {},
   "source": [
    "*Figure: KAT-7 sampling function for an observation using 100 frequency channels, over a 6 hour observation at declination -30 degrees.*"
   ]
  },
  {
   "cell_type": "markdown",
   "metadata": {},
   "source": [
    "### 5.1 Weighting Functions"
   ]
  },
  {
   "cell_type": "markdown",
   "metadata": {},
   "source": [
    "The sampling function, as seen in the Section 5.2 KAT-7 examples, are made up of the various baseline tracks which leads to holes and overlapping sampling. So far we have discussed sampling functions as if they are binary functions, a visibility domain pixel is given a value of 1 if a baseline track measured that location otherwise the pixel was given a value of 0. The allocation of 0 to each pixel which was not measured should make sense, as there is no information, and thuse that pixel can potentially have any value. But, for the measured pixels the sampling function value does not necessarily need to be 1. For example, say an observation results in 1000 uv positions being measured, and 100 of these positions were measured 10 times while the other 900 positions were only measured once. The 100 positions measured 10 times, will have a $\\sqrt{10}$ improvement in sensitivity compared to the other 900 positions, so perhaps those 100 spatial frequency modes should be given more weight in the resulting image because we are more sure about the accuracy of the measurement. Or, perhaps an array is made up of many different types of telescopes which leads to some baselines having a higher sensitivity to other baselines, such as in VLBI. Or, perhaps the science case is only interested in certain spatial frequencies, such as seperating point sources from large-scale gas structure. These are all examples of times when we would like to adjust our sampling function, which leads to a number of different options we need to understand when creating an image. In fact, there is no standard set of options to create an image from visibilities, a weighting function must always be decided upon before hand. The most common weighting function we must decide on is the density weighting function, but we will also discuss the beam taper and reliability weighting."
   ]
  },
  {
   "cell_type": "markdown",
   "metadata": {},
   "source": [
    "#### 5.1.1 Density Functions"
   ]
  },
  {
   "cell_type": "markdown",
   "metadata": {},
   "source": [
    "When discussion of weighting functions or schemes comes up in conversations, presentations, or papers it is almost always referring to density weighting functions."
   ]
  },
  {
   "cell_type": "markdown",
   "metadata": {},
   "source": [
    "Weighting functions:\n",
    "\n",
    "* density weighting functions\n",
    "* mathematical description\n",
    "* standard types: natural, uniform (advantages and disadvantages)\n",
    "* figure: 1-d examples (square or triangle source)\n",
    "* figure: natural, uniform weighted maps\n",
    "* generalize: briggs robust\n",
    "* figure: robust weighting through a range of values\n",
    "* additional weightings notes"
   ]
  },
  {
   "cell_type": "markdown",
   "metadata": {},
   "source": [
    "Tapers for beam scaling/spatial filter:\n",
    "\n",
    "* spatial gaussian filters\n",
    "* figure: field with different Gaussian tapers\n",
    "* relation to weighting schemes"
   ]
  },
  {
   "cell_type": "markdown",
   "metadata": {},
   "source": [
    "Reliability:\n",
    "\n",
    "* baseline dependent reliability, inherent in the measurement"
   ]
  },
  {
   "cell_type": "markdown",
   "metadata": {},
   "source": [
    "Conclusion to section:\n",
    "\n",
    "* limits of dirty image, lead into deconvolution\n",
    "* figure: dense field with high sidelobes\n",
    "* lead into w-term issues\n",
    "* figure: w-projection effect"
   ]
  },
  {
   "cell_type": "markdown",
   "metadata": {
    "collapsed": false
   },
   "source": [
    "***\n",
    "\n",
    "Next: [5.5 The Break Down of the Small Angle Approximation and the W-Term](#)"
   ]
  }
 ],
 "metadata": {
  "kernelspec": {
   "display_name": "Python 2",
   "language": "python",
   "name": "python2"
  },
  "language_info": {
   "codemirror_mode": {
    "name": "ipython",
    "version": 2
   },
   "file_extension": ".py",
   "mimetype": "text/x-python",
   "name": "python",
   "nbconvert_exporter": "python",
   "pygments_lexer": "ipython2",
   "version": "2.7.6"
  }
 },
 "nbformat": 4,
 "nbformat_minor": 0
}
