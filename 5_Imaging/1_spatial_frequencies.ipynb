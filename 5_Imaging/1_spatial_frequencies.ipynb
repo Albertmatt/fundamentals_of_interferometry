{
 "metadata": {
  "name": ""
 },
 "nbformat": 3,
 "nbformat_minor": 0,
 "worksheets": [
  {
   "cells": [
    {
     "cell_type": "code",
     "collapsed": false,
     "input": [
      "import numpy as np\n",
      "import matplotlib.pyplot as plt\n",
      "%matplotlib inline"
     ],
     "language": "python",
     "metadata": {},
     "outputs": [],
     "prompt_number": 10
    },
    {
     "cell_type": "heading",
     "level": 2,
     "metadata": {},
     "source": [
      "5.1 Spatial Frequencies"
     ]
    },
    {
     "cell_type": "markdown",
     "metadata": {},
     "source": [
      "To first approximation, the observed sky and sampled visibilites have a Fourier pair relationship, that is the Fourier Transform of the sampled visibilites is an image of the observed sky, and the Fourier Transform of the observed sky image is the sampled visibilities. This section introduces:\n",
      "\n",
      "* The two dimensional Fourier Transform\n",
      "* The Fast Fourier Transform (FFT)\n",
      "* The relationship between an image an its visibilities"
     ]
    },
    {
     "cell_type": "heading",
     "level": 3,
     "metadata": {},
     "source": [
      "5.1.1 The Fourier Transform in Two Dimensions"
     ]
    },
    {
     "cell_type": "markdown",
     "metadata": {},
     "source": [
      "As described in Section [EXREF](BLAH) the Fourier Transform of a continuous, 1-dimensional function $f(x)$ is"
     ]
    },
    {
     "cell_type": "markdown",
     "metadata": {},
     "source": [
      "$g(t) = \\int_{-\\infty}^{\\infty} f(x) e^{-2\\pi i xt} dx$"
     ]
    },
    {
     "cell_type": "markdown",
     "metadata": {},
     "source": [
      "The discrete Fourier transform (DFT) of a discrete, 1-dimensional function $f(x)$ is"
     ]
    },
    {
     "cell_type": "markdown",
     "metadata": {},
     "source": [
      "$$g(t) = \\sum_{-\\infty}^{\\infty} f(x) e^{-2\\pi i xt} dx$$"
     ]
    },
    {
     "cell_type": "markdown",
     "metadata": {},
     "source": [
      "The notation $g \\rightleftharpoons f$ denotes that the function $f$ and $g$ are Fourier pairs. **NOTE: this all should be described in the introductory maths section**"
     ]
    },
    {
     "cell_type": "markdown",
     "metadata": {},
     "source": [
      "A two dimensional Fourier transform is simply the product of the Fourier Transform in each dimension."
     ]
    },
    {
     "cell_type": "markdown",
     "metadata": {},
     "source": [
      "$$ V(u,v) = \\iint_{-\\infty}^{\\infty} I(l,m) e^{-2\\pi i(ul+vm)} \\,dl\\,dm $$"
     ]
    },
    {
     "cell_type": "markdown",
     "metadata": {},
     "source": [
      "By Euler's forumla this can be expanded out to"
     ]
    },
    {
     "cell_type": "markdown",
     "metadata": {},
     "source": [
      "$$ V(u,v) = \\iint_{-\\infty}^{\\infty} I(l,m) (\\cos(2\\pi(ul+vm)) + i\\sin(2\\pi(ul+vm))) \\,dl\\,dm $$"
     ]
    },
    {
     "cell_type": "markdown",
     "metadata": {},
     "source": [
      "If $I(l,m)$ represents an image then we see that the Fourier Transform of $I(l,m)$  is a decomposition of the image into sine and cosine functions."
     ]
    },
    {
     "cell_type": "markdown",
     "metadata": {},
     "source": [
      "<a id=\"eq:dft2_IV\"></a>\n",
      "$$ I(l,m) = \\sum_{u=-\\infty}^{\\infty} \\sum_{v=-\\infty}^{\\infty} V(u,v) (\\cos(2\\pi(ul+vm)) + i\\sin(2\\pi(ul+vm))) \\,\\Delta u\\,\\Delta v $$"
     ]
    },
    {
     "cell_type": "heading",
     "level": 3,
     "metadata": {},
     "source": [
      "5.1.2 A Brief Overview of the Fast Fourier Transform (FFT)"
     ]
    },
    {
     "cell_type": "markdown",
     "metadata": {},
     "source": [
      "One of the great advancements in computing has been the development of Fast Fourier Transform (FFT) algorithms which, given a set of defined constraints can efficiently produce the Fourier Transform of a function. For a 2-dimensional Discrete Fourier Transform we can see from Eq. [INREF](#eq:dft2_IV) there are $N_u N_v$ multiplications required for every $(l,m)$ postion. If there are $N_l N_m$ different positions in the image then the total number of multiplications is $N_l N_m N_u N_v$. If we assume these values are equal, e.g. given a $512 \\times 512$ pixel image we take a Fourier Transform to produce a $512 \\times 512$ pixel visibility map such that $N=N_l=N_m=N_u=N_v=512$, then $\\mathcal{O}(N^4)$ computations are required to compute the complete **DFT**. Butthere exists a class of algorithms known as **FFTs** ***NOTE:Cooley-Tukey reference*** which can compute the **DFT** in $\\mathcal{O}(N^2 \\log N)$ operations."
     ]
    },
    {
     "cell_type": "code",
     "collapsed": false,
     "input": [
      "DFT vs FFT growth plot"
     ],
     "language": "python",
     "metadata": {},
     "outputs": []
    },
    {
     "cell_type": "heading",
     "level": 3,
     "metadata": {},
     "source": [
      "5.1.3 The Fourier Transform of an Image"
     ]
    },
    {
     "cell_type": "markdown",
     "metadata": {},
     "source": [
      "notes:\n",
      "begin big with example that have complex fourier transforms but are visually understandable\n",
      "start with a complex, typical images ala duck and painting\n",
      "show their fourier transform\n",
      "switch phases\n",
      "switch amplitudes\n",
      "only phase\n",
      "only amplitude\n",
      "from here go into depth of spatial frequnecies\n",
      "mask off all but one pixel\n",
      "move pixel around circle to show the phase rotation\n",
      "move pixel radially to show the increase in frequency rate\n",
      "add in sources to rebuild images in increments\n",
      "split images into masked regions and sum in fourier space and image space -> leads to sampling functions and psfs"
     ]
    },
    {
     "cell_type": "markdown",
     "metadata": {},
     "source": [
      "Import standard modules:"
     ]
    },
    {
     "cell_type": "code",
     "collapsed": false,
     "input": [
      "import numpy as np\n",
      "import matplotlib.pyplot as plt\n",
      "import matplotlib.image as mpimg\n",
      "%matplotlib inline"
     ],
     "language": "python",
     "metadata": {},
     "outputs": []
    },
    {
     "cell_type": "markdown",
     "metadata": {},
     "source": [
      "Load up test images"
     ]
    },
    {
     "cell_type": "code",
     "collapsed": false,
     "input": [
      "img0=mpimg.imread('graphics/WLA_moma_Umberto_Boccioni_Dynamism_of_a_Soccer_Player_1913_512.png')\n",
      "img1=mpimg.imread('graphics/Anas_platyrhynchos_male_female_quadrat_512.png')"
     ],
     "language": "python",
     "metadata": {},
     "outputs": []
    },
    {
     "cell_type": "markdown",
     "metadata": {},
     "source": [
      "Convert to grayscale fo simplicity"
     ]
    },
    {
     "cell_type": "code",
     "collapsed": false,
     "input": [
      "def rgb2gray(rgb):\n",
      "    r, g, b = rgb[:,:,0], rgb[:,:,1], rgb[:,:,2]\n",
      "    gray = 0.2989 * r + 0.5870 * g + 0.1140 * b #standard grayscale conversion\n",
      "    return gray\n",
      "\n",
      "gimg0=rgb2gray(img0)\n",
      "gimg1=rgb2gray(img1)"
     ],
     "language": "python",
     "metadata": {},
     "outputs": []
    },
    {
     "cell_type": "markdown",
     "metadata": {},
     "source": [
      "Display the images (Umberto Boccioni's Dynamism of a Soccer Player, and a Duck) in the spatial domain"
     ]
    },
    {
     "cell_type": "code",
     "collapsed": false,
     "input": [
      "fig = p.figure(figsize=(8,8))\n",
      "img0plot=p.imshow(gimg0)\n",
      "img0plot.set_cmap('gray')\n",
      "#fig.savefig(\"soccer_gray.png\", bbox_inches='tight', pad_inches=0)"
     ],
     "language": "python",
     "metadata": {},
     "outputs": []
    },
    {
     "cell_type": "code",
     "collapsed": false,
     "input": [
      "fig = p.figure(figsize=(8,8))\n",
      "img1plot=p.imshow(gimg1)\n",
      "img1plot.set_cmap('gray')\n",
      "#fig.savefig(\"duck_gray.png\", bbox_inches='tight', pad_inches=0)"
     ],
     "language": "python",
     "metadata": {},
     "outputs": []
    },
    {
     "cell_type": "markdown",
     "metadata": {},
     "source": [
      "Convert the images to the spatial frequency domain"
     ]
    },
    {
     "cell_type": "code",
     "collapsed": false,
     "input": [
      "fig, axes = p.subplots(figsize=(16,8))\n",
      "fftImg0=np.fft.fftshift(np.fft.fft2(gimg0))\n",
      "fftImg1=np.fft.fftshift(np.fft.fft2(gimg1))\n",
      "p.subplot(1,2,1)\n",
      "p.imshow(10.*np.log10(np.abs(fftImg0)))\n",
      "p.subplot(1,2,2)\n",
      "p.imshow(np.angle(fftImg0))\n",
      "#fig.savefig(\"soccer_fft_gray.png\", bbox_inches='tight', pad_inches=0)"
     ],
     "language": "python",
     "metadata": {},
     "outputs": []
    },
    {
     "cell_type": "code",
     "collapsed": false,
     "input": [
      "fig, axes = p.subplots(figsize=(16,8))\n",
      "p.subplot(1,2,1)\n",
      "p.imshow(10.*np.log10(np.abs(fftImg1)))\n",
      "p.subplot(1,2,2)\n",
      "p.imshow(np.angle(fftImg1))\n",
      "#fig.savefig(\"duck_fft_gray.png\", bbox_inches='tight', pad_inches=0)"
     ],
     "language": "python",
     "metadata": {},
     "outputs": []
    },
    {
     "cell_type": "markdown",
     "metadata": {},
     "source": [
      "Reconstruct hybrid image with phase of Duck and amplitude of Soccer"
     ]
    },
    {
     "cell_type": "code",
     "collapsed": false,
     "input": [
      "fig = p.figure(figsize=(8,8))\n",
      "phs=np.angle(fftImg1)\n",
      "amp=np.abs(fftImg0)\n",
      "fftHybrid=amp*(np.cos(phs)+1j*np.sin(phs))\n",
      "hybrid=np.abs(np.fft.ifft2(np.fft.fftshift(fftHybrid)))\n",
      "hybridPlot=p.imshow(hybrid)\n",
      "hybridPlot.set_cmap('gray')\n",
      "#fig.savefig(\"hybrid_phs_duck_amp_soccer.png\", bbox_inches='tight', pad_inches=0)"
     ],
     "language": "python",
     "metadata": {},
     "outputs": []
    },
    {
     "cell_type": "markdown",
     "metadata": {},
     "source": [
      "Reconstruct hybrid image with phase of Soccer and amplitude of Duck"
     ]
    },
    {
     "cell_type": "code",
     "collapsed": false,
     "input": [
      "fig = p.figure(figsize=(8,8))\n",
      "phs=np.angle(fftImg0)\n",
      "amp=np.abs(fftImg1)\n",
      "fftHybrid=amp*(np.cos(phs)+1j*np.sin(phs))\n",
      "hybrid=np.abs(np.fft.ifft2(np.fft.fftshift(fftHybrid)))\n",
      "hybridPlot=p.imshow(hybrid)\n",
      "hybridPlot.set_cmap('gray')\n",
      "#fig.savefig(\"hybrid_phs_soccer_amp_duck.png\", bbox_inches='tight', pad_inches=0)"
     ],
     "language": "python",
     "metadata": {},
     "outputs": []
    },
    {
     "cell_type": "markdown",
     "metadata": {},
     "source": [
      "Reconstruct Duck image with only phase"
     ]
    },
    {
     "cell_type": "code",
     "collapsed": false,
     "input": [
      "fig = p.figure(figsize=(8,8))\n",
      "phs=np.angle(fftImg1)\n",
      "amp=1.*np.ones_like(fftImg1)\n",
      "fftPhsImg0=amp*(np.cos(phs)+1j*np.sin(phs))\n",
      "phsImg0=np.abs(np.fft.ifft2(np.fft.fftshift(fftPhsImg0)))\n",
      "phsImg0Plot=p.imshow(phsImg0)\n",
      "phsImg0Plot.set_cmap('gray')\n",
      "#fig.savefig(\"phs_only_duck.png\", bbox_inches='tight', pad_inches=0)"
     ],
     "language": "python",
     "metadata": {},
     "outputs": []
    },
    {
     "cell_type": "markdown",
     "metadata": {},
     "source": [
      "Reconstruct Duck image with only amplitude. With no phase information, each pixel has the same average flux value."
     ]
    },
    {
     "cell_type": "code",
     "collapsed": false,
     "input": [
      "fig = p.figure(figsize=(8,8))\n",
      "phs=np.zeros_like(fftImg1)\n",
      "amp=np.abs(fftImg1)-np.mean(fftImg1)\n",
      "fftAmpImg0=amp\n",
      "ampImg0=10.*np.log10(np.abs(np.fft.ifft2(np.fft.fftshift(fftAmpImg0))))\n",
      "ampImg0Plot=p.imshow(ampImg0)\n",
      "ampImg0Plot.set_cmap('gray')\n",
      "#fig.savefig(\"amp_only_duck.png\", bbox_inches='tight', pad_inches=0)"
     ],
     "language": "python",
     "metadata": {},
     "outputs": []
    },
    {
     "cell_type": "markdown",
     "metadata": {},
     "source": [
      "Applying a simple ring sampling function"
     ]
    },
    {
     "cell_type": "code",
     "collapsed": false,
     "input": [
      "zeros=np.zeros((512,512),dtype='float')\n",
      "ones=np.ones((512,512),dtype='float')\n",
      "radius=np.mgrid[0:512,0:512]\n",
      "radius=np.sqrt((radius[0]-512/2)**2.+(radius[1]-512/2)**2.)\n",
      "sampling=np.where((20>radius) & (radius>0),ones,zeros)\n",
      "#sampling=np.where((20<radius),ones,zeros)\n",
      "fig, axes = p.subplots(nrows=2, ncols=2, figsize=(16,16))\n",
      "fig.tight_layout()\n",
      "p.subplot(2,2,1)\n",
      "samplingPlot=p.imshow(sampling)\n",
      "samplingPlot.set_cmap('gray')\n",
      "p.subplot(2,2,2)\n",
      "psfPlot=p.imshow(10.*np.log10(np.abs(np.fft.fftshift(np.fft.fft2(sampling)))))\n",
      "p.subplot(2,2,3)\n",
      "samplingPlot=p.imshow(np.abs(fftImg1*sampling))\n",
      "p.subplot(2,2,4)\n",
      "psfPlot=p.imshow(np.abs(np.fft.ifft2(fftImg1*sampling)))\n",
      "psfPlot.set_cmap('gray')\n",
      "#fig.savefig(\"psf_duck_0.png\", bbox_inches='tight', pad_inches=0)"
     ],
     "language": "python",
     "metadata": {},
     "outputs": []
    },
    {
     "cell_type": "code",
     "collapsed": false,
     "input": [
      "sampling=np.where((100>radius) & (radius>25),ones,zeros)\n",
      "fig, axes = p.subplots(nrows=2, ncols=2, figsize=(16,16))\n",
      "fig.tight_layout()\n",
      "p.subplot(2,2,1)\n",
      "samplingPlot=p.imshow(sampling)\n",
      "samplingPlot.set_cmap('gray')\n",
      "p.subplot(2,2,2)\n",
      "psfPlot=p.imshow(10.*np.log10(np.abs(np.fft.fftshift(np.fft.fft2(sampling)))))\n",
      "p.subplot(2,2,3)\n",
      "samplingPlot=p.imshow(np.abs(fftImg1*sampling))\n",
      "p.subplot(2,2,4)\n",
      "psfPlot=p.imshow(np.abs(np.fft.ifft2(fftImg1*sampling)))\n",
      "psfPlot.set_cmap('gray')\n",
      "#fig.savefig(\"psf_duck_1.png\", bbox_inches='tight', pad_inches=0)"
     ],
     "language": "python",
     "metadata": {},
     "outputs": []
    },
    {
     "cell_type": "code",
     "collapsed": false,
     "input": [
      "sampling=np.where((256>radius) & (radius>100),ones,zeros)\n",
      "fig, axes = p.subplots(nrows=2, ncols=2, figsize=(16,16))\n",
      "fig.tight_layout()\n",
      "p.subplot(2,2,1)\n",
      "samplingPlot=p.imshow(sampling)\n",
      "samplingPlot.set_cmap('gray')\n",
      "p.subplot(2,2,2)\n",
      "psfPlot=p.imshow(10.*np.log10(np.abs(np.fft.fftshift(np.fft.fft2(sampling)))))\n",
      "p.subplot(2,2,3)\n",
      "samplingPlot=p.imshow(np.abs(fftImg1*sampling))\n",
      "p.subplot(2,2,4)\n",
      "psfPlot=p.imshow(np.abs(np.fft.ifft2(fftImg1*sampling)))\n",
      "psfPlot.set_cmap('gray')\n",
      "#fig.savefig(\"psf_duck_2.png\", bbox_inches='tight', pad_inches=0)"
     ],
     "language": "python",
     "metadata": {},
     "outputs": []
    },
    {
     "cell_type": "code",
     "collapsed": false,
     "input": [],
     "language": "python",
     "metadata": {},
     "outputs": []
    }
   ],
   "metadata": {}
  }
 ]
}