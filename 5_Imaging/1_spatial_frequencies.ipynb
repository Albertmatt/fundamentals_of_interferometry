{
 "metadata": {
  "name": ""
 },
 "nbformat": 3,
 "nbformat_minor": 0,
 "worksheets": [
  {
   "cells": [
    {
     "cell_type": "markdown",
     "metadata": {},
     "source": [
      "Import standard modules:"
     ]
    },
    {
     "cell_type": "code",
     "collapsed": false,
     "input": [
      "import numpy as np\n",
      "import matplotlib.pyplot as plt\n",
      "%matplotlib inline"
     ],
     "language": "python",
     "metadata": {},
     "outputs": []
    },
    {
     "cell_type": "markdown",
     "metadata": {},
     "source": [
      "Import section specific modules:"
     ]
    },
    {
     "cell_type": "code",
     "collapsed": false,
     "input": [
      "import matplotlib.image as mpimg"
     ],
     "language": "python",
     "metadata": {},
     "outputs": []
    },
    {
     "cell_type": "heading",
     "level": 2,
     "metadata": {},
     "source": [
      "5.1 Spatial Frequencies"
     ]
    },
    {
     "cell_type": "markdown",
     "metadata": {},
     "source": [
      "To first approximation, the observed sky and sampled visibilites have a Fourier pair relationship, that is the Fourier Transform of the sampled visibilites is an image of the observed sky, and the Fourier Transform of the observed sky image is the sampled visibilities. This section introduces:\n",
      "\n",
      "* The two dimensional Fourier Transform\n",
      "* The Fast Fourier Transform (FFT)\n",
      "* The relationship between an image an its visibilities"
     ]
    },
    {
     "cell_type": "heading",
     "level": 3,
     "metadata": {},
     "source": [
      "5.1.1 The Fourier Transform in Two Dimensions"
     ]
    },
    {
     "cell_type": "markdown",
     "metadata": {},
     "source": [
      "As described in Section [EXREF](BLAH) the Fourier Transform of a continuous, 1-dimensional function $f(x)$ is"
     ]
    },
    {
     "cell_type": "markdown",
     "metadata": {},
     "source": [
      "$g(t) = \\int_{-\\infty}^{\\infty} f(x) e^{-2\\pi i xt} dx$"
     ]
    },
    {
     "cell_type": "markdown",
     "metadata": {},
     "source": [
      "The discrete Fourier transform (DFT) of a discrete, 1-dimensional function $f(x)$ is"
     ]
    },
    {
     "cell_type": "markdown",
     "metadata": {},
     "source": [
      "$$g(t) = \\sum_{-\\infty}^{\\infty} f(x) e^{-2\\pi i xt} dx$$"
     ]
    },
    {
     "cell_type": "markdown",
     "metadata": {},
     "source": [
      "The notation $g \\rightleftharpoons f$ denotes that the function $f$ and $g$ are Fourier pairs. **NOTE: this all should be described in the introductory maths section**"
     ]
    },
    {
     "cell_type": "markdown",
     "metadata": {},
     "source": [
      "A two dimensional Fourier transform is simply the product of the Fourier Transform in each dimension."
     ]
    },
    {
     "cell_type": "markdown",
     "metadata": {},
     "source": [
      "$$ V(u,v) = \\iint_{-\\infty}^{\\infty} I(l,m) e^{-2\\pi i(ul+vm)} \\,dl\\,dm $$"
     ]
    },
    {
     "cell_type": "markdown",
     "metadata": {},
     "source": [
      "By Euler's forumla this can be expanded out to"
     ]
    },
    {
     "cell_type": "markdown",
     "metadata": {},
     "source": [
      "$$ V(u,v) = \\iint_{-\\infty}^{\\infty} I(l,m) (\\cos(2\\pi(ul+vm)) + i\\sin(2\\pi(ul+vm))) \\,dl\\,dm $$"
     ]
    },
    {
     "cell_type": "markdown",
     "metadata": {},
     "source": [
      "If $I(l,m)$ represents an image then we see that the Fourier Transform of $I(l,m)$  is a decomposition of the image into sine and cosine functions."
     ]
    },
    {
     "cell_type": "markdown",
     "metadata": {},
     "source": [
      "<a id=\"eq:dft2_IV\"></a>\n",
      "$$ I(l,m) = \\sum_{u=-\\infty}^{\\infty} \\sum_{v=-\\infty}^{\\infty} V(u,v) (\\cos(2\\pi(ul+vm)) + i\\sin(2\\pi(ul+vm))) \\,\\Delta u\\,\\Delta v $$"
     ]
    },
    {
     "cell_type": "heading",
     "level": 3,
     "metadata": {},
     "source": [
      "5.1.2 A Brief Overview of the Fast Fourier Transform (FFT)"
     ]
    },
    {
     "cell_type": "markdown",
     "metadata": {},
     "source": [
      "One of the great advancements in computing has been the development of Fast Fourier Transform (FFT) algorithms which, given a set of defined constraints can efficiently produce the Fourier Transform of a function. For a 2-dimensional Discrete Fourier Transform we can see from Eq. [INREF](#eq:dft2_IV) there are $N_u N_v$ multiplications required for every $(l,m)$ postion. If there are $N_l N_m$ different positions in the image then the total number of multiplications is $N_l N_m N_u N_v$. If we assume these values are equal, e.g. given a $512 \\times 512$ pixel image we take a Fourier Transform to produce a $512 \\times 512$ pixel visibility map such that $N=N_l=N_m=N_u=N_v=512$, then $\\mathcal{O}(N^4)$ computations are required to compute the complete **DFT**. Butthere exists a class of algorithms known as **FFTs** ***NOTE:Cooley-Tukey reference*** which can compute the **DFT** in $\\mathcal{O}(N^2 \\log N^2)$ operations."
     ]
    },
    {
     "cell_type": "code",
     "collapsed": false,
     "input": [
      "nlen = np.logspace(1, 8, num=128)\n",
      "fftCost = nlen**2. * np.log10(nlen**2.)\n",
      "dftCost = nlen**4.\n",
      "fig = plt.figure(figsize=(8,8))\n",
      "ax = fig.add_subplot(1,1,1)\n",
      "plt.title('Computational Cost of Brute Force DFT vs FFT')\n",
      "ax.set_yscale('log')\n",
      "ax.set_xscale('log')\n",
      "plt.xlabel('N size')\n",
      "plt.ylabel('Computational Cost')\n",
      "plt.plot(xx, fftCost, label='FFT')\n",
      "plt.plot(xx, dftCost, label='DFT')\n",
      "plt.legend()"
     ],
     "language": "python",
     "metadata": {},
     "outputs": []
    },
    {
     "cell_type": "heading",
     "level": 3,
     "metadata": {},
     "source": [
      "5.1.3 The Fourier Transform of an Image"
     ]
    },
    {
     "cell_type": "markdown",
     "metadata": {},
     "source": [
      "Let us start by looking at the effect applying a Fourier Transform to typical images."
     ]
    },
    {
     "cell_type": "markdown",
     "metadata": {},
     "source": [
      "Load test images:"
     ]
    },
    {
     "cell_type": "code",
     "collapsed": false,
     "input": [
      "img0=mpimg.imread('graphics/WLA_moma_Umberto_Boccioni_Dynamism_of_a_Soccer_Player_1913_512.png')\n",
      "img1=mpimg.imread('graphics/Anas_platyrhynchos_male_female_quadrat_512.png')"
     ],
     "language": "python",
     "metadata": {},
     "outputs": []
    },
    {
     "cell_type": "markdown",
     "metadata": {},
     "source": [
      "For simplicity convert the RGB-color images to grayscale:"
     ]
    },
    {
     "cell_type": "code",
     "collapsed": false,
     "input": [
      "def rgb2gray(rgb):\n",
      "    r, g, b = rgb[:,:,0], rgb[:,:,1], rgb[:,:,2]\n",
      "    gray = 0.2989 * r + 0.5870 * g + 0.1140 * b #standard grayscale conversion\n",
      "    return gray\n",
      "\n",
      "gimg0=rgb2gray(img0)\n",
      "gimg1=rgb2gray(img1)"
     ],
     "language": "python",
     "metadata": {},
     "outputs": []
    },
    {
     "cell_type": "markdown",
     "metadata": {},
     "source": [
      "Display the images (Umberto Boccioni's Dynamism of a Soccer Player, and a Duck) in the spatial domain:"
     ]
    },
    {
     "cell_type": "code",
     "collapsed": false,
     "input": [
      "fig = plt.figure(figsize=(8,8))\n",
      "plt.title('Dynamism of a Soccer Player')\n",
      "img0plot = plt.imshow(gimg0)\n",
      "img0plot.set_cmap('gray')\n",
      "#fig.savefig(\"soccer_gray.png\", bbox_inches='tight', pad_inches=0)"
     ],
     "language": "python",
     "metadata": {},
     "outputs": []
    },
    {
     "cell_type": "code",
     "collapsed": false,
     "input": [
      "fig = plt.figure(figsize=(8,8))\n",
      "plt.title('A Duck')\n",
      "img1plot = plt.imshow(gimg1)\n",
      "img1plot.set_cmap('gray')\n",
      "#fig.savefig(\"duck_gray.png\", bbox_inches='tight', pad_inches=0)"
     ],
     "language": "python",
     "metadata": {},
     "outputs": []
    },
    {
     "cell_type": "markdown",
     "metadata": {},
     "source": [
      "To convert the images to the spatial frequency domain a 2-dimensional FFT is applied. This results in a complex 2-d array, which can be plotted in real and imaginary components or as amplitude and phase shown below."
     ]
    },
    {
     "cell_type": "code",
     "collapsed": false,
     "input": [
      "fig, axes = plt.subplots(figsize=(16,8))\n",
      "plt.suptitle('The Fourier Transform of \\'Dynamism of a Soccer Player\\'')\n",
      "fftImg0 = np.fft.fftshift(np.fft.fft2(gimg0))\n",
      "fftImg1 = np.fft.fftshift(np.fft.fft2(gimg1))\n",
      "plt.subplot(1,2,1)\n",
      "plt.imshow(10.*np.log10(np.abs(fftImg0))) #amplitude (decibels)\n",
      "plt.subplot(1,2,2)\n",
      "plt.imshow(np.angle(fftImg0)) #phase\n",
      "#fig.savefig(\"soccer_fft_gray.png\", bbox_inches='tight', pad_inches=0)"
     ],
     "language": "python",
     "metadata": {},
     "outputs": []
    },
    {
     "cell_type": "code",
     "collapsed": false,
     "input": [
      "fig, axes = plt.subplots(figsize=(16,8))\n",
      "plt.suptitle('The Fourier Transform of a Duck')\n",
      "plt.subplot(1,2,1)\n",
      "plt.imshow(10.*np.log10(np.abs(fftImg1))) #amplitude (decibels)\n",
      "plt.subplot(1,2,2)\n",
      "plt.imshow(np.angle(fftImg1)) #phase\n",
      "#fig.savefig(\"duck_fft_gray.png\", bbox_inches='tight', pad_inches=0)"
     ],
     "language": "python",
     "metadata": {},
     "outputs": []
    },
    {
     "cell_type": "markdown",
     "metadata": {},
     "source": [
      "As can be seen in the amplitude figures the majority of the power is in the central region, i.e. the majority of the signal can be represented with large scale, or low-frequency sine and cosine waves. Try plotting the amplitudes without first rescaling them logarithmically and you should see only a few bright pixels in the middle of the figure. In the phase figures the values range from $-2\\pi$ to $2\\pi$ and are fairly random. There is some coherent structure that goes left to right and top to bottom passing through the centre of the figure. The main insight to gain from the phase figure is that given a complex image of say a duck leads to very complex phase structure."
     ]
    },
    {
     "cell_type": "markdown",
     "metadata": {},
     "source": [
      "An interesting question to consider is 'which is more important, amplitude or phase?' This seems like an odd question, because intuition would seem to indicate that both amplitude and phase information is needed. It turns out that phase information contains most of the structural information. Let us start by taking a look at what this means, and then get into why this is the case. Start by switching the phase information of the two images."
     ]
    },
    {
     "cell_type": "code",
     "collapsed": false,
     "input": [
      "fig = plt.figure(figsize=(8,8))\n",
      "plt.title('Hybrid image: amplitude (painting), phase (duck)')\n",
      "phs = np.angle(fftImg1) #phase of the duck\n",
      "amp = np.abs(fftImg0) #amplitude of the painting\n",
      "fftHybrid = amp * (np.cos(phs) + 1j * np.sin(phs)) #construct an image with the phase of a duck and amplitude of the painting\n",
      "hybrid = np.abs(np.fft.ifft2(np.fft.fftshift(fftHybrid))) #compute the inverse Fourier Transform\n",
      "hybridPlot = plt.imshow(hybrid)\n",
      "hybridPlot.set_cmap('gray')\n",
      "#fig.savefig(\"hybrid_phs_duck_amp_soccer.png\", bbox_inches='tight', pad_inches=0)"
     ],
     "language": "python",
     "metadata": {},
     "outputs": []
    },
    {
     "cell_type": "markdown",
     "metadata": {},
     "source": [
      "This seems kind of like an amazing thing to see, we have combined the two images and clearly we see a duck and not the painting. When we instead use the phase of the painting and the amplitude of the duck we now see the painting and not the duck."
     ]
    },
    {
     "cell_type": "code",
     "collapsed": false,
     "input": [
      "fig = plt.figure(figsize=(8,8))\n",
      "plt.title('Hybrid image: amplitude (duck), phase (painting)')\n",
      "phs = np.angle(fftImg0) #phase of the painting\n",
      "amp = np.abs(fftImg1) #amplitude of the duck\n",
      "fftHybrid = amp * (np.cos(phs) + 1j * np.sin(phs)) #construct an image with the phase of a painting and amplitude of the duck\n",
      "hybrid = np.abs(np.fft.ifft2(np.fft.fftshift(fftHybrid))) #compute the inverse Fourier Transform\n",
      "hybridPlot = plt.imshow(hybrid)\n",
      "hybridPlot.set_cmap('gray')\n",
      "#fig.savefig(\"hybrid_phs_soccer_amp_duck.png\", bbox_inches='tight', pad_inches=0)"
     ],
     "language": "python",
     "metadata": {},
     "outputs": []
    },
    {
     "cell_type": "markdown",
     "metadata": {},
     "source": [
      "Though with both hybrid images the image in which the phase is extracted from dominates they are not perfect reconstructions of only one image. In both there is now a sheen of noise across the images. The amplitude information plays a role. This noise layer in the hybrid image is due to the fact that the two original images are effectly uncorrelated, i.e. they are not related. So, one would not expect the amtplitude and phase information from one to match the other."
     ]
    },
    {
     "cell_type": "markdown",
     "metadata": {},
     "source": [
      "What would happen if instead of swapping the amplitude information of the duck for the painting we just set all the amplitude pixels to one? That is we effectively throw out any amplitude infromation and make a phase information only image?"
     ]
    },
    {
     "cell_type": "code",
     "collapsed": false,
     "input": [
      "fig = plt.figure(figsize=(8,8))\n",
      "plt.title('Duck (phase-only)')\n",
      "phs = np.angle(fftImg1)\n",
      "amp = 1.*np.ones_like(fftImg1) #set all the amplitude values to 1\n",
      "fftPhsImg0 = amp * (np.cos(phs) + 1j * np.sin(phs))\n",
      "phsImg0 = np.abs(np.fft.ifft2(np.fft.fftshift(fftPhsImg0)))\n",
      "phsImg0Plot = plt.imshow(phsImg0)\n",
      "phsImg0Plot.set_cmap('gray')\n",
      "#fig.savefig(\"phs_only_duck.png\", bbox_inches='tight', pad_inches=0)"
     ],
     "language": "python",
     "metadata": {},
     "outputs": []
    },
    {
     "cell_type": "markdown",
     "metadata": {},
     "source": [
      "The duck is still visibale when we only use the phase information, but now we see something interesting. Only the fine details like the little feather and the outline are visible. We will get to this later in the chapter but by setting every ampltiude pixel to 1 we have created a *weighting function* which will favour the fine-scale or high-frequency structure in the image over the large-scale structure such as the background water."
     ]
    },
    {
     "cell_type": "markdown",
     "metadata": {},
     "source": [
      "Can we do the same trick with using only amplitude information, i.e. reconstruct the image after setting all the phases to zero?"
     ]
    },
    {
     "cell_type": "code",
     "collapsed": false,
     "input": [
      "fig = plt.figure(figsize=(8,8))\n",
      "plt.title('Duck (amplitude-only)')\n",
      "phs = np.zeros_like(fftImg1) #set the phase information to 0\n",
      "amp = np.abs(fftImg1)\n",
      "fftAmpImg0 = amp\n",
      "ampImg0 = 10.*np.log10(np.abs(np.fft.fftshift(np.fft.ifft2(fftAmpImg0))))\n",
      "ampImg0Plot=plt.imshow(ampImg0)\n",
      "ampImg0Plot.set_cmap('gray')\n",
      "#fig.savefig(\"amp_only_duck.png\", bbox_inches='tight', pad_inches=0)"
     ],
     "language": "python",
     "metadata": {},
     "outputs": []
    },
    {
     "cell_type": "markdown",
     "metadata": {},
     "source": [
      "As it turns out, using only the amplitude information results in an empty image with a single bright pixel in the middle of the image. Taking the logarithm of the image results in something similar to the amplitude figure of the Fourier Transformed image. A way to think about the phase and amplitude information is that phase information describes the structure of an image and ampltiude information describes the intensity of that structure."
     ]
    },
    {
     "cell_type": "markdown",
     "metadata": {},
     "source": [
      "As an aside what happens when we only use the real or imaginary information to reconstruct the image?"
     ]
    },
    {
     "cell_type": "code",
     "collapsed": false,
     "input": [
      "fig, axes = plt.subplots(figsize=(16,8))\n",
      "plt.subplot(1,2,1)\n",
      "plt.title('Duck (real-only)')\n",
      "fftRealImg1 = fftImg1.real\n",
      "realImg1 = np.abs(np.fft.ifft2(fftRealImg1))\n",
      "plt.imshow(realImg1)\n",
      "plt.set_cmap('gray')\n",
      "\n",
      "plt.subplot(1,2,2)\n",
      "plt.title('Duck (imaginary-only)')\n",
      "fftImagImg1 = 1j * fftImg1.imag\n",
      "imagImg1 = np.abs(np.fft.ifft2(fftImagImg1))\n",
      "plt.imshow(imagImg1)\n",
      "plt.set_cmap('gray')"
     ],
     "language": "python",
     "metadata": {},
     "outputs": []
    },
    {
     "cell_type": "markdown",
     "metadata": {},
     "source": [
      "Using only the real or imaginary components leads to a mirror image flipped left to right and top to bottom to appear."
     ]
    },
    {
     "cell_type": "heading",
     "level": 3,
     "metadata": {},
     "source": [
      "5.1.4 The Fourier Transform of a Point Source"
     ]
    },
    {
     "cell_type": "markdown",
     "metadata": {},
     "source": [
      "Notes:\n",
      "\n",
      "* from here go into depth of spatial frequnecies\n",
      "* [done] mask off all but one pixel\n",
      "* [done] move pixel around circle to show the phase rotation\n",
      "* [done] move pixel radially to show the increase in frequency rate\n",
      "* add in sources to rebuild images in increments\n",
      "* split images into masked regions and sum in fourier space and image space -> leads to sampling functions and psfs"
     ]
    },
    {
     "cell_type": "markdown",
     "metadata": {},
     "source": [
      "Instead of looking at the Fourier Transform of an image with a large amount of structure let us examine a few simple images and the effect of applying a Fourier Transform. The simpliest image one can make is an empty image with a single pixel with intensity in the centre."
     ]
    },
    {
     "cell_type": "code",
     "collapsed": false,
     "input": [
      "img = np.zeros((129,129)) #odd shape such that there is a central pixel\n",
      "img[65,65] = 1.\n",
      "fftImg=np.fft.fft2(np.fft.fftshift(img))\n",
      "\n",
      "fig, axes = plt.subplots(figsize=(16,8))\n",
      "plt.subplot(1,2,1)\n",
      "plt.title('Image')\n",
      "plt.imshow(img, interpolation='nearest')\n",
      "plt.set_cmap('gray')\n",
      "plt.colorbar(shrink=0.5)\n",
      "\n",
      "plt.subplot(1,2,2)\n",
      "plt.title('Fourier Transform (phase)')\n",
      "plt.imshow(np.angle(fftImg))\n",
      "plt.set_cmap('hsv')\n",
      "plt.colorbar(shrink=0.5)\n",
      "\n",
      "#amplitudes are all 1.\n",
      "print np.max(np.abs(fftImg)), np.min(np.abs(fftImg))\n",
      "print np.abs(fftImg[60:70,60:70])"
     ],
     "language": "python",
     "metadata": {},
     "outputs": []
    },
    {
     "cell_type": "markdown",
     "metadata": {},
     "source": [
      "An image with a single intensity pixel in the centre is equivalent to a 2-dimensional boxcar function with a width the size of the pixel, as the number of pixels in the image increases this approaches a delta function. The Fourier Transform of a delta function is a flat field of constand value as can be seen by printing the amplitudes, they are all one. When the pixel is at the centre of the image the phase is also flat, but as the position of the pixel is changed the phase will show *fringe* patterns related to the position. Moving the position by a single pixel to the left by one pixel the amplitude remains the same but now a fringe pattern appears left to right across the phase."
     ]
    },
    {
     "cell_type": "code",
     "collapsed": false,
     "input": [
      "img = np.zeros((129,129)) #odd shape such that there is a central pixel\n",
      "img[65,64] = 1.\n",
      "fftImg=np.fft.fft2(np.fft.fftshift(img))\n",
      "\n",
      "fig, axes = plt.subplots(figsize=(16,8))\n",
      "plt.subplot(1,2,1)\n",
      "plt.title('Image')\n",
      "plt.imshow(img, interpolation='nearest')\n",
      "plt.set_cmap('gray')\n",
      "plt.colorbar(shrink=0.5)\n",
      "\n",
      "plt.subplot(1,2,2)\n",
      "plt.title('Fourier Transform (phase)')\n",
      "plt.imshow(np.angle(fftImg))\n",
      "plt.set_cmap('hsv')\n",
      "plt.colorbar(shrink=0.5)"
     ],
     "language": "python",
     "metadata": {},
     "outputs": []
    },
    {
     "cell_type": "markdown",
     "metadata": {},
     "source": [
      "Instead, moving the position one pixel up from the centre the fringe pattern is now top to bottom."
     ]
    },
    {
     "cell_type": "code",
     "collapsed": false,
     "input": [
      "img = np.zeros((129,129)) #odd shape such that there is a central pixel\n",
      "img[64,65] = 1.\n",
      "fftImg=np.fft.fft2(np.fft.fftshift(img))\n",
      "\n",
      "fig, axes = plt.subplots(figsize=(16,8))\n",
      "plt.subplot(1,2,1)\n",
      "plt.title('Image')\n",
      "plt.imshow(img, interpolation='nearest')\n",
      "plt.set_cmap('gray')\n",
      "plt.colorbar(shrink=0.5)\n",
      "\n",
      "plt.subplot(1,2,2)\n",
      "plt.title('Fourier Transform (phase)')\n",
      "plt.imshow(np.angle(fftImg))\n",
      "plt.set_cmap('hsv')\n",
      "plt.colorbar(shrink=0.5)"
     ],
     "language": "python",
     "metadata": {},
     "outputs": []
    },
    {
     "cell_type": "markdown",
     "metadata": {},
     "source": [
      "Moving the position up the fringe pattern frequency increases. From this we can see that the direction and frequency of the fringe pattern describes the position of the pixel in the image."
     ]
    },
    {
     "cell_type": "code",
     "collapsed": false,
     "input": [
      "img = np.zeros((129,129)) #odd shape such that there is a central pixel\n",
      "img[55,65] = 1.\n",
      "fftImg=np.fft.fft2(np.fft.fftshift(img))\n",
      "\n",
      "fig, axes = plt.subplots(figsize=(16,8))\n",
      "plt.subplot(1,2,1)\n",
      "plt.title('Image')\n",
      "plt.imshow(img, interpolation='nearest')\n",
      "plt.set_cmap('gray')\n",
      "plt.colorbar(shrink=0.5)\n",
      "\n",
      "plt.subplot(1,2,2)\n",
      "plt.title('Fourier Transform (phase)')\n",
      "plt.imshow(np.angle(fftImg))\n",
      "plt.set_cmap('hsv')\n",
      "plt.colorbar(shrink=0.5)\n",
      "\n",
      "img = np.zeros((129,129)) #odd shape such that there is a central pixel\n",
      "img[45,65] = 1.\n",
      "fftImg=np.fft.fft2(np.fft.fftshift(img))\n",
      "\n",
      "fig, axes = plt.subplots(figsize=(16,8))\n",
      "plt.subplot(1,2,1)\n",
      "plt.title('Image')\n",
      "plt.imshow(img, interpolation='nearest')\n",
      "plt.set_cmap('gray')\n",
      "plt.colorbar(shrink=0.5)\n",
      "\n",
      "plt.subplot(1,2,2)\n",
      "plt.title('Fourier Transform (phase)')\n",
      "plt.imshow(np.angle(fftImg))\n",
      "plt.set_cmap('hsv')\n",
      "plt.colorbar(shrink=0.5)\n",
      "\n",
      "img = np.zeros((129,129)) #odd shape such that there is a central pixel\n",
      "img[35,65] = 1.\n",
      "fftImg=np.fft.fft2(np.fft.fftshift(img))\n",
      "\n",
      "fig, axes = plt.subplots(figsize=(16,8))\n",
      "plt.subplot(1,2,1)\n",
      "plt.title('Image')\n",
      "plt.imshow(img, interpolation='nearest')\n",
      "plt.set_cmap('gray')\n",
      "plt.colorbar(shrink=0.5)\n",
      "\n",
      "plt.subplot(1,2,2)\n",
      "plt.title('Fourier Transform (phase)')\n",
      "plt.imshow(np.angle(fftImg))\n",
      "plt.set_cmap('hsv')\n",
      "plt.colorbar(shrink=0.5)\n",
      "\n",
      "img = np.zeros((129,129)) #odd shape such that there is a central pixel\n",
      "img[25,65] = 1.\n",
      "fftImg=np.fft.fft2(np.fft.fftshift(img))\n",
      "\n",
      "fig, axes = plt.subplots(figsize=(16,8))\n",
      "plt.subplot(1,2,1)\n",
      "plt.title('Image')\n",
      "plt.imshow(img, interpolation='nearest')\n",
      "plt.set_cmap('gray')\n",
      "plt.colorbar(shrink=0.5)\n",
      "\n",
      "plt.subplot(1,2,2)\n",
      "plt.title('Fourier Transform (phase)')\n",
      "plt.imshow(np.angle(fftImg))\n",
      "plt.set_cmap('hsv')\n",
      "plt.colorbar(shrink=0.5)\n",
      "\n",
      "img = np.zeros((129,129)) #odd shape such that there is a central pixel\n",
      "img[15,65] = 1.\n",
      "fftImg=np.fft.fft2(np.fft.fftshift(img))\n",
      "\n",
      "fig, axes = plt.subplots(figsize=(16,8))\n",
      "plt.subplot(1,2,1)\n",
      "plt.title('Image')\n",
      "plt.imshow(img, interpolation='nearest')\n",
      "plt.set_cmap('gray')\n",
      "plt.colorbar(shrink=0.5)\n",
      "\n",
      "plt.subplot(1,2,2)\n",
      "plt.title('Fourier Transform (phase)')\n",
      "plt.imshow(np.angle(fftImg))\n",
      "plt.set_cmap('hsv')\n",
      "plt.colorbar(shrink=0.5)\n",
      "\n",
      "img = np.zeros((129,129)) #odd shape such that there is a central pixel\n",
      "img[5,65] = 1.\n",
      "fftImg=np.fft.fft2(np.fft.fftshift(img))"
     ],
     "language": "python",
     "metadata": {},
     "outputs": []
    },
    {
     "cell_type": "markdown",
     "metadata": {},
     "source": [
      "By placing the position of the pixel on a circle we see that the frequency does not change but the directional of the fringe changes."
     ]
    },
    {
     "cell_type": "code",
     "collapsed": false,
     "input": [
      "img = np.zeros((129,129)) #odd shape such that there is a central pixel\n",
      "img[55,65] = 1.\n",
      "fftImg=np.fft.fft2(np.fft.fftshift(img))\n",
      "\n",
      "fig = plt.figure(figsize=(16,8))\n",
      "ax = fig.add_subplot(1, 2, 1)\n",
      "plt.title('Image')\n",
      "c = plt.Circle((65, 65), 10., color='blue', linewidth=1, fill=False)\n",
      "ax.add_patch(c)\n",
      "plt.imshow(img, interpolation='nearest')\n",
      "plt.set_cmap('gray')\n",
      "plt.colorbar(shrink=0.5)\n",
      "\n",
      "ax = fig.add_subplot(1, 2, 2)\n",
      "plt.title('Fourier Transform (phase)')\n",
      "plt.imshow(np.angle(fftImg))\n",
      "plt.set_cmap('hsv')\n",
      "plt.colorbar(shrink=0.5)\n",
      "\n",
      "\n",
      "img = np.zeros((129,129)) #odd shape such that there is a central pixel\n",
      "img[58,58] = 1.\n",
      "fftImg=np.fft.fft2(np.fft.fftshift(img))\n",
      "\n",
      "fig = plt.figure(figsize=(16,8))\n",
      "ax = fig.add_subplot(1, 2, 1)\n",
      "plt.title('Image')\n",
      "c = plt.Circle((65, 65), 10., color='blue', linewidth=1, fill=False)\n",
      "ax.add_patch(c)\n",
      "plt.imshow(img, interpolation='nearest')\n",
      "plt.set_cmap('gray')\n",
      "plt.colorbar(shrink=0.5)\n",
      "\n",
      "ax = fig.add_subplot(1, 2, 2)\n",
      "plt.title('Fourier Transform (phase)')\n",
      "plt.imshow(np.angle(fftImg))\n",
      "plt.set_cmap('hsv')\n",
      "plt.colorbar(shrink=0.5)\n",
      "\n",
      "\n",
      "img = np.zeros((129,129)) #odd shape such that there is a central pixel\n",
      "img[65,55] = 1.\n",
      "fftImg=np.fft.fft2(np.fft.fftshift(img))\n",
      "\n",
      "fig = plt.figure(figsize=(16,8))\n",
      "ax = fig.add_subplot(1, 2, 1)\n",
      "plt.title('Image')\n",
      "c = plt.Circle((65, 65), 10., color='blue', linewidth=1, fill=False)\n",
      "ax.add_patch(c)\n",
      "plt.imshow(img, interpolation='nearest')\n",
      "plt.set_cmap('gray')\n",
      "plt.colorbar(shrink=0.5)\n",
      "\n",
      "ax = fig.add_subplot(1, 2, 2)\n",
      "plt.title('Fourier Transform (phase)')\n",
      "plt.imshow(np.angle(fftImg))\n",
      "plt.set_cmap('hsv')\n",
      "plt.colorbar(shrink=0.5)\n",
      "\n",
      "\n",
      "img = np.zeros((129,129)) #odd shape such that there is a central pixel\n",
      "img[72,58] = 1.\n",
      "fftImg=np.fft.fft2(np.fft.fftshift(img))\n",
      "\n",
      "fig = plt.figure(figsize=(16,8))\n",
      "ax = fig.add_subplot(1, 2, 1)\n",
      "plt.title('Image')\n",
      "c = plt.Circle((65, 65), 10., color='blue', linewidth=1, fill=False)\n",
      "ax.add_patch(c)\n",
      "plt.imshow(img, interpolation='nearest')\n",
      "plt.set_cmap('gray')\n",
      "plt.colorbar(shrink=0.5)\n",
      "\n",
      "ax = fig.add_subplot(1, 2, 2)\n",
      "plt.title('Fourier Transform (phase)')\n",
      "plt.imshow(np.angle(fftImg))\n",
      "plt.set_cmap('hsv')\n",
      "plt.colorbar(shrink=0.5)\n",
      "\n",
      "\n",
      "img = np.zeros((129,129)) #odd shape such that there is a central pixel\n",
      "img[75,65] = 1.\n",
      "fftImg=np.fft.fft2(np.fft.fftshift(img))\n",
      "\n",
      "fig = plt.figure(figsize=(16,8))\n",
      "ax = fig.add_subplot(1, 2, 1)\n",
      "plt.title('Image')\n",
      "c = plt.Circle((65, 65), 10., color='blue', linewidth=1, fill=False)\n",
      "ax.add_patch(c)\n",
      "plt.imshow(img, interpolation='nearest')\n",
      "plt.set_cmap('gray')\n",
      "plt.colorbar(shrink=0.5)\n",
      "\n",
      "ax = fig.add_subplot(1, 2, 2)\n",
      "plt.title('Fourier Transform (phase)')\n",
      "plt.imshow(np.angle(fftImg))\n",
      "plt.set_cmap('hsv')\n",
      "plt.colorbar(shrink=0.5)"
     ],
     "language": "python",
     "metadata": {},
     "outputs": []
    },
    {
     "cell_type": "code",
     "collapsed": false,
     "input": [],
     "language": "python",
     "metadata": {},
     "outputs": []
    }
   ],
   "metadata": {}
  }
 ]
}