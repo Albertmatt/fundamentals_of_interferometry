{
 "cells": [
  {
   "cell_type": "markdown",
   "metadata": {},
   "source": [
    "## Glossary <a id='preface:sec:glossary'></a>"
   ]
  },
  {
   "cell_type": "markdown",
   "metadata": {},
   "source": [
    "### A"
   ]
  },
  {
   "cell_type": "markdown",
   "metadata": {},
   "source": [
    "**azimuth:** the azimuth angle is measured in the celestial horizon from due north towards the east.\n",
    "\n",
    "**altitude:** altitude of a celestial object is the angle between it and the celestial horizon."
   ]
  },
  {
   "cell_type": "markdown",
   "metadata": {},
   "source": [
    "### B"
   ]
  },
  {
   "cell_type": "markdown",
   "metadata": {},
   "source": [
    "### C"
   ]
  },
  {
   "cell_type": "markdown",
   "metadata": {},
   "source": [
    "**celestial equator:** the celestial equator is in the same plane as the equator of the earth and is obtained by projecting the equator of the earth onto the celestial sphere.\n",
    "\n",
    "**celestial horizon:** observer's horizontal plane and is the fundamental plane of the horizontal coordinate system.\n",
    "\n",
    "**celestial sphere:** imaginary unit sphere surrounding the earth onto which all the celestial objects in the universe is projected."
   ]
  },
  {
   "cell_type": "markdown",
   "metadata": {},
   "source": [
    "### D"
   ]
  },
  {
   "cell_type": "markdown",
   "metadata": {},
   "source": [
    "**declination:** the declination of an object is the  angular distance it is away from the celestial equator measured along its hour circle (it is positive in the northern celestial hemisphere and negative in the southern celestial hemisphere).\n",
    "\n",
    "**direction cosine coordinates:** an astronmical coordinate system based on the direction cosines $l$, $m$ and $n$ which is often used in radio interferometry to create local skymaps around a target source. The fourier relationship that exists between the visibility and the image space in interferometry becomes apparent in this coordinate system. "
   ]
  },
  {
   "cell_type": "markdown",
   "metadata": {},
   "source": [
    "### E"
   ]
  },
  {
   "cell_type": "markdown",
   "metadata": {},
   "source": [
    "**ecliptic:** the imaginary path the sun transverses on the celestial sphere.\n",
    "\n",
    "**elevation:** see *altitude*.\n",
    "\n",
    "**equatorial coordinate system:** widely used coordinate system which is used to keep track of celestial objects.The fundamental plane of this coordinate system is obtained by projecting the earth's equator onto the celestial sphere.    "
   ]
  },
  {
   "cell_type": "markdown",
   "metadata": {},
   "source": [
    "### F"
   ]
  },
  {
   "cell_type": "markdown",
   "metadata": {},
   "source": [
    "**fringe pattern:** sinusoidal function desribing the position of a spatial domain source in the spatial frequency domain.\n",
    "\n",
    "**first point of Aries:** the point on the celestial sphere where the sun crosses the celestial equator from south to north."
   ]
  },
  {
   "cell_type": "markdown",
   "metadata": {},
   "source": [
    "### G"
   ]
  },
  {
   "cell_type": "markdown",
   "metadata": {},
   "source": [
    "**great circular arc**: a great circular arc is an arc segment of a great circle.\n",
    "**great circle**: a great circle is formed by the intersection of a sphere and a plane that passes through the center of the sphere."
   ]
  },
  {
   "cell_type": "markdown",
   "metadata": {},
   "source": [
    "### H"
   ]
  },
  {
   "cell_type": "markdown",
   "metadata": {},
   "source": [
    "**horizontal coordinate system:** the horizontal coordinates is used to enable an observer on earth to locate celestial objects in an observer's local sky.  \n",
    "\n",
    "**hour circle:** the hour circle of an object is the circle on the celestial sphere that crosses the NCP and the object itself and is perpendicular to the celestial equator.\n",
    "\n",
    "**hour angle:** hour angle of a celestial body is the angular distance (measured in hours) between the hour circle of a celesteal object and the local meridian measured along the celestial equator in a westerly direction."
   ]
  },
  {
   "cell_type": "markdown",
   "metadata": {},
   "source": [
    "### I"
   ]
  },
  {
   "cell_type": "markdown",
   "metadata": {},
   "source": [
    "### J"
   ]
  },
  {
   "cell_type": "markdown",
   "metadata": {},
   "source": [
    "### K"
   ]
  },
  {
   "cell_type": "markdown",
   "metadata": {},
   "source": [
    "### L"
   ]
  },
  {
   "cell_type": "markdown",
   "metadata": {},
   "source": [
    "**latitude:** the angular distance of a location north or south of the earth's equator. \n",
    "\n",
    "**local meridian**: is the hour circle on the celestial sphere which we form when we connect the NCP with zenith.\n",
    "\n",
    "**local sidereal time (LST)**: hour angle of the vernal equinox.\n",
    "\n",
    "**longitude:** the angular distance of a location east or west of the meridian at Greenwich.\n",
    "\n",
    "**low noise amplifier (LNA):** the first amplifier in the analogue electronics front-end chain, used to amplifiy the weak sky signal at the cost of introducing a small amount of system noise."
   ]
  },
  {
   "cell_type": "markdown",
   "metadata": {},
   "source": [
    "### M"
   ]
  },
  {
   "cell_type": "markdown",
   "metadata": {},
   "source": [
    "### N"
   ]
  },
  {
   "cell_type": "markdown",
   "metadata": {},
   "source": [
    "**north celestial pole (NCP):** obtained by projecting the north pole of the earth onto the celestial sphere."
   ]
  },
  {
   "cell_type": "markdown",
   "metadata": {},
   "source": [
    "### O"
   ]
  },
  {
   "cell_type": "markdown",
   "metadata": {},
   "source": [
    "### P"
   ]
  },
  {
   "cell_type": "markdown",
   "metadata": {},
   "source": [
    "**point spread function (PSF):** the effect of the measuring system has on a point source in the image domain. This is effectively the Fourier transform of the visibility domain sampling function. In historical literature it is often called the *synthesized beam*.\n",
    "\n",
    "**Polaris:** a star located close to the NCP.\n",
    "\n",
    "**precession:** a change in the orientation of the rotational axis of a rotating body."
   ]
  },
  {
   "cell_type": "markdown",
   "metadata": {},
   "source": [
    "### Q"
   ]
  },
  {
   "cell_type": "markdown",
   "metadata": {},
   "source": [
    "### R"
   ]
  },
  {
   "cell_type": "markdown",
   "metadata": {},
   "source": [
    "**radio frequency interference (RFI):** man-made radio waves which corrupt the desired sky signal.\n",
    "\n",
    "**right ascension:** the right ascension of an object is the angular distance between the vernal equinox and the hour circle of a celestial object measured along the celestial equator and is measured in an easterly direction."
   ]
  },
  {
   "cell_type": "markdown",
   "metadata": {},
   "source": [
    "### S"
   ]
  },
  {
   "cell_type": "markdown",
   "metadata": {},
   "source": [
    "**sampling function:** in signal processing a discrete function which transforms a continuous signal to a discrete signal.\n",
    "\n",
    "**sidereal day:** a sidereal day is the amount of time it takes for an arbitrary star to return to the same location in the sky.\n",
    "\n",
    "**solar day:** a solar day is the time it takes for the sun to return to the same position in the sky. \n",
    "\n",
    "**spatial domain:** a signal domain in which the relative distance between sample positions is directly related to the physical relative position of the signals, e.g. an image of a field of stars.\n",
    "\n",
    "**spatial frequency domain:** a signal domain where the amplitude and phase of sampled position describes the intesity and offset of a complex sinusoidal wave. The relative position of samples represents how similar the frequency and angle of the two samples are.\n",
    "\n",
    "**spherical triangle:** a spherical triangle is formed by the pairwise intersection of three great circlular arcs in three vertices.\n",
    "\n",
    "**south celestial pole (SCP):** obtained by projecting the south pole of the earth onto the celestial sphere.\n",
    "\n",
    "**synthesized beam:** see *point spread function (PSF)*.\n",
    "\n",
    "**system temperature:** a measure of the noisiness of the telescope and electronics, related to the sensitivity of the telescope."
   ]
  },
  {
   "cell_type": "markdown",
   "metadata": {},
   "source": [
    "### T"
   ]
  },
  {
   "cell_type": "markdown",
   "metadata": {},
   "source": [
    "**transit:** a celestial body is at transit when it crosses the local meridian. "
   ]
  },
  {
   "cell_type": "markdown",
   "metadata": {},
   "source": [
    "### U"
   ]
  },
  {
   "cell_type": "markdown",
   "metadata": {},
   "source": [
    "### V"
   ]
  },
  {
   "cell_type": "markdown",
   "metadata": {},
   "source": [
    "**vernal equinox:** see *first point of Aries*.\n",
    "\n",
    "**visibilities:** discrete measurements of the spatial frequency (visibility) domain from a set of interferometric baselines."
   ]
  },
  {
   "cell_type": "markdown",
   "metadata": {},
   "source": [
    "### W"
   ]
  },
  {
   "cell_type": "markdown",
   "metadata": {},
   "source": [
    "### X"
   ]
  },
  {
   "cell_type": "markdown",
   "metadata": {},
   "source": [
    "### Y"
   ]
  },
  {
   "cell_type": "markdown",
   "metadata": {},
   "source": [
    "### Z"
   ]
  },
  {
   "cell_type": "markdown",
   "metadata": {},
   "source": [
    "**zenith:** zenith is the position on the celestial sphere which lies directly above an observer on earth."
   ]
  },
  {
   "cell_type": "markdown",
   "metadata": {},
   "source": [
    "### Symbols"
   ]
  },
  {
   "cell_type": "markdown",
   "metadata": {},
   "source": [
    "* $L_a$ - Latitude\n",
    "* $L_o$ - Longitude\n",
    "* $\\alpha_{2K}$ - Right Ascension\n",
    "* $\\delta_{2K}$ - Declination\n",
    "* $H$ - Hour Angle\n",
    "* $A$ - Azimuth\n",
    "* $E$ - Elevation\n",
    "* $q$ - Parallactic Angle\n",
    "* $l,m$ and $n$ - Direction Cosines\n",
    "* $|\\cdot|$ - Magnitude of Operand\n",
    "* $\\|\\cdot\\|$ - Norm of Operand\n",
    "* $(\\cdot)^T$ - Trnaspose of Operand\n",
    "* $(\\cdot)^H$ - Hermitan Transpose of Operand\n",
    "* $(\\cdot)^{-1}$ - Matrix Inversion\n",
    "* $\\imath$ = $\\sqrt{-1}$\n",
    "* $\\delta$ - Delta Function\n",
    "* $S$ - Sampling Function\n",
    "* $\\lambda$ - Wavelength\n",
    "* $\\lambda_{\\textrm{LM}}$ - Levenberg-Marquardt Damping Factor\n",
    "* $\\nu$ - Frequency\n",
    "* $\\tau$ - Integration Time \n",
    "* $*$ - Convolution\n",
    "* $\\overline{(\\cdot)}$ - Conjugation\n",
    "* $I,Q,U,V$ - Stokes Parameters. Not to be confused with sky brightness and visibilities.\n",
    "* $I$ - Sky Brightness\n",
    "* $V$ - Visibilities\n",
    "* $\\delta x$ - Update Step\n",
    "* $\\mathbf{B}$ - Coherence\n",
    "* $\\mathbf{V}$ - Polarized visibilities\n",
    "* $C$ - Convolution Kernel\n",
    "* $\\mathbf{J},\\mathbf{K},\\mathbf{P},\\mathbf{Z},\\mathbf{F},\\mathbf{G},\\mathbf{B}$ and $\\mathbf{D}$ - Jones matrices.\n",
    "* $\\mathbb{J}$ - Jacobian matrix\n",
    "* $\\mathbf{e}$ - Electic Field Vector\n",
    "* $\\mathbf{v}$ - Voltage Vector\n",
    "* $k_{B}$ - Boltzman Constant\n",
    "* $T$ - Temperature\n",
    "* $P$ - Power\n",
    "* $D$ - Diameter of Dish\n",
    "* $A$ - Area of Dish\n",
    "* $\\odot$ - Hadamard Product\n",
    "* $(\\cdot)^{\\odot-1}$ - Hadamard Inverse\n",
    "* $\\mathbf{r}$ - Residual Vector\n",
    "* $\\mathbf{g}$ - Gain Vector\n",
    "* $\\mathbf{d}$ - Data Vector\n",
    "* $\\mathbf{m}$ - Model Vector\n",
    "* $(\\cdot)_L$ - Lower Half of Vector\n",
    "* $(\\cdot)_U$ - Upper Half of Vector\n",
    "* $\\boldsymbol{\\mathcal{G}}$ - Unpolarized gain Matrix\n",
    "* $\\textrm{diag}(\\cdot)$ - Creates a matrix by placing operand (which should be a vector) on diagonal, all other entries are zero\n",
    "* $\\textrm{vec}(\\cdot)$ - Vectorization\n",
    "* $\\textrm{vec}^{-1}(\\cdot)$ - Matrization  \n",
    "* $\\boldsymbol{\\mathcal{D}}$ and $\\boldsymbol{\\mathcal{M}}$ - Unpolarized Visibility Matrices.\n",
    "* $III$ - Sha-function\n",
    "* $N$ - Number of antennas\n",
    "* $X,Y$ and $Z$ - Equatorial Coordinate Reference Frame (Baselines)\n",
    "* $u,v$ and $w$ - Visibility Coordinate System\n",
    "* $\\boldsymbol{\\mathscr{G}}$ - $mathbf{g}\\mathbf{g}^H$\n",
    "* $c$ = speed light in void\n",
    "* $A_\\text{eff}$ = Effective area \n",
    "* $\\gamma$ = vernal point\n",
    "* ($\\rho,\\theta,\\varphi$) = Spherical coordinates\n",
    "* $\\mathbf{b}$ = baseline vector\n",
    "* $\\mathbf{\\hat{e}_u},\\mathbf{\\hat{e}_v},\\mathbf{\\hat{e}_w}$ = unit vector for uvw\n",
    "* $\\mathbf{\\hat{e}_l},\\mathbf{\\hat{e}_m},\\mathbf{\\hat{e}_n}$ = unit vector for lmn\n",
    "* $\\mathbf{\\hat{e}_X},\\mathbf{\\hat{e}_Y},\\mathbf{\\hat{e}_Z}$ = unit vector for equatorial XYZ\n",
    "* $\\mathbf{\\hat{e}_x},\\mathbf{\\hat{e}_y},\\mathbf{\\hat{e}_z}$ = unit vector for cartesian\n",
    "* $|\\mathbf{b}|$ = baseline length\n",
    "* $\\mathscr{F}\\{\\cdot\\},\\mathscr{F}^{-1}\\{\\cdot\\}$ = (inverse) Fourier transform operator\n",
    "* $\\mathbf{a}\\cdot \\mathbf{b}$ = Scalar product\n",
    "* $F \\stackrel{\\mathscr{F}}{\\rightleftharpoons} E$\n",
    "* $\\mathscr{V}$ = visibility function (not measurement but underlying continuous function)\n",
    "* $\\angle F$ = phase of F\n",
    "* $\\phi$ = phase (e.g. $e^{i\\phi}$)\n",
    "* $\\Re,\\Im$ = real and imaginary part\n",
    "* $uv$ = shortcut when speaking about uv coverage in general, uv components ...\n",
    "* $<\\cdot>_t$ = averaging in time\n",
    "* $<\\cdot>_\\nu$ = averaging in frequency\n",
    "* $\\theta_r$ = angular resolution (e.g. FWHM of PSF)\n",
    "* $\\Delta \\theta$ = Field of view or angular area\n",
    "* $\\Omega$ = Solid angle\n",
    "* $\\widehat{\\beta}$ = angular quantity (when context is ambiguous) otherwise nothing"
   ]
  },
  {
   "cell_type": "code",
   "execution_count": null,
   "metadata": {
    "collapsed": true
   },
   "outputs": [],
   "source": []
  }
 ],
 "metadata": {
  "kernelspec": {
   "display_name": "Python 2",
   "language": "python",
   "name": "python2"
  },
  "language_info": {
   "codemirror_mode": {
    "name": "ipython",
    "version": 2
   },
   "file_extension": ".py",
   "mimetype": "text/x-python",
   "name": "python",
   "nbconvert_exporter": "python",
   "pygments_lexer": "ipython2",
   "version": "2.7.6"
  }
 },
 "nbformat": 4,
 "nbformat_minor": 0
}
