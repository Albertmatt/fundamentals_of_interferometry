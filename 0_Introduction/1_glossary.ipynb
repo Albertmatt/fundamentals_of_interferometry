{
 "cells": [
  {
   "cell_type": "markdown",
   "metadata": {},
   "source": [
    "## Glossary <a id='preface:sec:glossary'></a>"
   ]
  },
  {
   "cell_type": "markdown",
   "metadata": {},
   "source": [
    "### A"
   ]
  },
  {
   "cell_type": "markdown",
   "metadata": {},
   "source": [
    "### B"
   ]
  },
  {
   "cell_type": "markdown",
   "metadata": {},
   "source": [
    "### C"
   ]
  },
  {
   "cell_type": "markdown",
   "metadata": {},
   "source": [
    "**celestial equator:** the celestial equator is in the same plane as the equator of the earth and is obtained by projecting the equator of the earth onto the celestial sphere\n",
    "\n",
    "**celestial sphere:** imaginary unit sphere surrounding the earth onto which all the celestial objects in the universe is projected."
   ]
  },
  {
   "cell_type": "markdown",
   "metadata": {},
   "source": [
    "### D"
   ]
  },
  {
   "cell_type": "markdown",
   "metadata": {},
   "source": [
    "**declination:** The declination of an object is the  angular distance it is away from the celestial equator measured along its hour circle (it is positive in the northern celestial hemisphere and negative in the southern celestial hemisphere)."
   ]
  },
  {
   "cell_type": "markdown",
   "metadata": {},
   "source": [
    "### E"
   ]
  },
  {
   "cell_type": "markdown",
   "metadata": {},
   "source": [
    "**ecliptic:** the imaginary path the sun transverses on the celestial sphere.\n",
    "\n",
    "**equatorial coordinate system:** widely used coordinate system which is used to keep track of celestial objects.The fundamental plane of this coordinate system is obtained by projecting the earth's equator onto the celestial sphere.    "
   ]
  },
  {
   "cell_type": "markdown",
   "metadata": {},
   "source": [
    "### F"
   ]
  },
  {
   "cell_type": "markdown",
   "metadata": {},
   "source": [
    "**fringe pattern:** sinusoidal function desribing the position of a spatial domain source in the spatial frequency domain.\n",
    "\n",
    "**first point of Aries:** the point on the celestial sphere where the sun crosses the celestial equator from south to north."
   ]
  },
  {
   "cell_type": "markdown",
   "metadata": {},
   "source": [
    "### G"
   ]
  },
  {
   "cell_type": "markdown",
   "metadata": {},
   "source": [
    "**great circular arc**: a great circular arc is an arc segment of a great circle.\n",
    "**great circle**: a great circle is formed by the intersection of a sphere and a plane that passes through the center of the sphere."
   ]
  },
  {
   "cell_type": "markdown",
   "metadata": {},
   "source": [
    "### H"
   ]
  },
  {
   "cell_type": "markdown",
   "metadata": {},
   "source": [
    "**hour circle:** the hour circle of an object is the circle on the celestial sphere that crosses the NCP and the object itself and is perpendicular to the celestial equator.\n",
    "\n",
    "**hour angle:** hour angle of a celestial body is the angular distance (measured in hours) between the hour circle of a celesteal object and the local meridian measured along the celestial equator in a westerly direction."
   ]
  },
  {
   "cell_type": "markdown",
   "metadata": {},
   "source": [
    "### I"
   ]
  },
  {
   "cell_type": "markdown",
   "metadata": {},
   "source": [
    "### J"
   ]
  },
  {
   "cell_type": "markdown",
   "metadata": {},
   "source": [
    "### K"
   ]
  },
  {
   "cell_type": "markdown",
   "metadata": {},
   "source": [
    "### L"
   ]
  },
  {
   "cell_type": "markdown",
   "metadata": {},
   "source": [
    "**latitude:** the angular distance of a location north or south of the earth's equator. \n",
    "\n",
    "**local meridian**: is the hour circle on the celestial sphere which we form when we connect the NCP with zenith.\n",
    "\n",
    "**local sidereal time (LST)**: hour angle of the vernal equinox.\n",
    "\n",
    "**longitude:** the angular distance of a location east or west of the meridian at Greenwich.\n",
    "\n",
    "**low noise amplifier (LNA):** the first amplifier in the analogue electronics front-end chain, used to amplifiy the weak sky signal at the cost of introducing a small amount of system noise."
   ]
  },
  {
   "cell_type": "markdown",
   "metadata": {},
   "source": [
    "### M"
   ]
  },
  {
   "cell_type": "markdown",
   "metadata": {},
   "source": [
    "### N"
   ]
  },
  {
   "cell_type": "markdown",
   "metadata": {},
   "source": [
    "**north celestial pole (NCP):** obtained by projecting the north pole of the earth onto the celestial sphere."
   ]
  },
  {
   "cell_type": "markdown",
   "metadata": {},
   "source": [
    "### O"
   ]
  },
  {
   "cell_type": "markdown",
   "metadata": {},
   "source": [
    "### P"
   ]
  },
  {
   "cell_type": "markdown",
   "metadata": {},
   "source": [
    "**point spread function (PSF):** the effect of the measuring system has on a point source in the image domain. This is effectively the Fourier transform of the visibility domain sampling function. In historical literature it is often called the *synthesized beam*.\n",
    "\n",
    "**Polaris:** a star located close to the NCP.\n",
    "\n",
    "**precession:** a change in the orientation of the rotational axis of a rotating body."
   ]
  },
  {
   "cell_type": "markdown",
   "metadata": {},
   "source": [
    "### Q"
   ]
  },
  {
   "cell_type": "markdown",
   "metadata": {},
   "source": [
    "### R"
   ]
  },
  {
   "cell_type": "markdown",
   "metadata": {},
   "source": [
    "**radio frequency interference (RFI):** man-made radio waves which corrupt the desired sky signal.\n",
    "\n",
    "**right ascension:** the right ascension of an object is the angular distance between the vernal equinox and the hour circle of a celestial object measured along the celestial equator and is measured in an easterly direction."
   ]
  },
  {
   "cell_type": "markdown",
   "metadata": {},
   "source": [
    "### S"
   ]
  },
  {
   "cell_type": "markdown",
   "metadata": {},
   "source": [
    "**sampling function:** in signal processing a discrete function which transforms a continuous signal to a discrete signal.\n",
    "\n",
    "**sidereal day:** a sidereal day is the amount of time it takes for an arbitrary star to return to the same location in the sky.\n",
    "\n",
    "**solar day:** a solar day is the time it takes for the sun to return to the same position in the sky. \n",
    "\n",
    "**spatial domain:** a signal domain in which the relative distance between sample positions is directly related to the physical relative position of the signals, e.g. an image of a field of stars.\n",
    "\n",
    "**spatial frequency domain:** a signal domain where the amplitude and phase of sampled position describes the intesity and offset of a complex sinusoidal wave. The relative position of samples represents how similar the frequency and angle of the two samples are.\n",
    "\n",
    "**spherical triangle:** a spherical triangle is formed by the pairwise intersection of three great circlular arcs in three vertices.\n",
    "\n",
    "**south celestial pole (SCP):** obtained by projecting the south pole of the earth onto the celestial sphere.\n",
    "\n",
    "**synthesized beam:** see *point spread function (PSF)*.\n",
    "\n",
    "**system temperature:** a measure of the noisiness of the telescope and electronics, related to the sensitivity of the telescope."
   ]
  },
  {
   "cell_type": "markdown",
   "metadata": {},
   "source": [
    "### T"
   ]
  },
  {
   "cell_type": "markdown",
   "metadata": {},
   "source": [
    "**transit:** a celestial body is at transit when it crosses the local meridian. "
   ]
  },
  {
   "cell_type": "markdown",
   "metadata": {},
   "source": [
    "### U"
   ]
  },
  {
   "cell_type": "markdown",
   "metadata": {},
   "source": [
    "### V"
   ]
  },
  {
   "cell_type": "markdown",
   "metadata": {},
   "source": [
    "**vernal equinox:** see *first point of Aries*.\n",
    "\n",
    "**visibilities:** discrete measurements of the spatial frequency (visibility) domain from a set of interferometric baselines."
   ]
  },
  {
   "cell_type": "markdown",
   "metadata": {},
   "source": [
    "### W"
   ]
  },
  {
   "cell_type": "markdown",
   "metadata": {},
   "source": [
    "### X"
   ]
  },
  {
   "cell_type": "markdown",
   "metadata": {},
   "source": [
    "### Y"
   ]
  },
  {
   "cell_type": "markdown",
   "metadata": {},
   "source": [
    "### Z"
   ]
  },
  {
   "cell_type": "markdown",
   "metadata": {},
   "source": [
    "**zenith:** zenith is the position on the celestial sphere which lies directly above an observer on earth."
   ]
  },
  {
   "cell_type": "markdown",
   "metadata": {},
   "source": [
    "### Symbols"
   ]
  },
  {
   "cell_type": "markdown",
   "metadata": {},
   "source": [
    "* $L$ - Latitude\n",
    "* $\\mathcal{L}$ - Longitude\n",
    "* $\\alpha$ - Right Ascension\n",
    "* $\\delta$ - Declination\n",
    "* $H$ - Hour Angle"
   ]
  },
  {
   "cell_type": "code",
   "execution_count": null,
   "metadata": {
    "collapsed": true
   },
   "outputs": [],
   "source": []
  }
 ],
 "metadata": {
  "kernelspec": {
   "display_name": "Python 2",
   "language": "python",
   "name": "python2"
  },
  "language_info": {
   "codemirror_mode": {
    "name": "ipython",
    "version": 2
   },
   "file_extension": ".py",
   "mimetype": "text/x-python",
   "name": "python",
   "nbconvert_exporter": "python",
   "pygments_lexer": "ipython2",
   "version": "2.7.3"
  }
 },
 "nbformat": 4,
 "nbformat_minor": 0
}
