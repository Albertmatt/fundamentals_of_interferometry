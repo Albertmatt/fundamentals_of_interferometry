{
 "metadata": {
  "name": ""
 },
 "nbformat": 3,
 "nbformat_minor": 0,
 "worksheets": [
  {
   "cells": [
    {
     "cell_type": "heading",
     "level": 1,
     "metadata": {},
     "source": [
      "Fundamentals of Radio Interferometry"
     ]
    },
    {
     "cell_type": "heading",
     "level": 3,
     "metadata": {},
     "source": [
      "Outline"
     ]
    },
    {
     "cell_type": "markdown",
     "metadata": {},
     "source": [
      "1. Radio Science using Interferometers\n",
      "    1. What are we trying to do? What is the point?\n",
      "2. Mathematical Groundwork\n",
      "    1. Complex Numbers\n",
      "    2. Fourier Transforms\n",
      "        1. The Fourier Transform\n",
      "        2. The Discrete Fourier Transform (DFT) and the Fast Fourier Transform (FFT)\n",
      "    3. Convolution\n",
      "        1. The Convolution Theorem\n",
      "        2. Correlation Relations\n",
      "    4. Sampling Theory\n",
      "    5. Linear Algrebra\n",
      "        1. Basic Properties and Relationships\n",
      "        2. Jones Matricies and Polarization\n",
      "        3. Matrix Products (outer product, khatri-rao product, hadamard product and the relations between all these operators... (The three most used identities in calibration when expressing the RIME))\n",
      "        4. Matrix Inversion\n",
      "        5. Mueller Matricies\n",
      "    6. Least-squares Minimization\n",
      "3. Positional Astronomy\n",
      "    1. The Celestial Sphere (RA, Dec)\n",
      "    2. Local Sidereal Time (LST, HA)\n",
      "    3. Equatorial (X,Y,Z)\n",
      "4. Visibility Space\n",
      "    1. The Baseline: 2-element interferometer\n",
      "    2. Correlation and the van Cittert-Zernike Theorem\n",
      "    3. Fringe-tracking\n",
      "    4. (u,v,w) visibility-space, w-term\n",
      "    5. (l,m,n) image-space\n",
      "    6. Rotational Synthesis\n",
      "    7. Baselines in Arrays\n",
      "    8. Integrations, Channel Widths, Time and Frequency Smearing\n",
      "5. Imaging\n",
      "    1. Spatial Frequencies\n",
      "    2. Sampling and Point Spread Functions\n",
      "    3. The Dirty Image and Visibility Weightings\n",
      "    4. Gridding and Degridding\n",
      "    5. The Break Down of the Small Angle Approximation and the W-Term\n",
      "6. Deconvolution in Imaging\n",
      "    1. Sky Models\n",
      "    2. Point Source Assumption (CLEAN)\n",
      "        1. Image-domain (Hogbom)\n",
      "        2. Gridded Visibility-domain (Clark)\n",
      "        3. Visibility domain (Cotton-Schwab)\n",
      "    3. Residuals and Image Quality\n",
      "    4. Source Finding and Detection\n",
      "7. Observing Systems\n",
      "    1. Jones Notation\n",
      "    2. The Measurement Equation\n",
      "    3. Direction-dependent and Independent effects\n",
      "    4. Electronics: bandpass, gain variation, system noise/sensitivity\n",
      "    5. Primary Beam\n",
      "    6. Feeds: polarization and leakage\n",
      "    7. Antenna Mounts and Parallactic Angle\n",
      "    8. Ionosphere/Atmosphere\n",
      "    9. Radio Frequency Interference (RFI)\n",
      "8. Calibration\n",
      "    1. Jones Formalism of the Measurement Equation\n",
      "    2. Calibration as a Matrix Inversion\n",
      "    3. 1GC calibration: point source, derive bandpass gains\n",
      "    4. 2GC calibration: direction-independent self-calibration\n",
      "    5. 3GC calibration: direction-dependent self-calibration\n",
      "9. Putting it all together for Reducing a Data Set and Recognizing Errors\n",
      "    1. Imaging\n",
      "        1. W-Term Correction\n",
      "        2. Residual Artefacts\n",
      "        3. Practical Settings for CLEAN\n",
      "        4. Primary Beam Correction\n",
      "        5. Image Quality Assessment\n",
      "    2. Calibration\n",
      "        1. Frequency and Time Solution Intervals\n",
      "        2. Visibility Flagging\n",
      "        3. Including Direction-Dependent Solutions\n",
      "    3. Observing\n",
      "        1. Accumulation interval and smearing\n",
      "    4. Line observations: calibration and imaging issues\n",
      "        1. Source finding\n",
      "        2. Normalization\n",
      "    5. Continuum observations: calibration and imaging issues\n",
      "        1. Dynamic Range\n",
      "        2. Multi-Frequency Synthesis (MFS)\n",
      "        3. Source Finding\n",
      "    6. General Practical Advice"
     ]
    },
    {
     "cell_type": "heading",
     "level": 3,
     "metadata": {},
     "source": [
      "A Note on Software"
     ]
    },
    {
     "cell_type": "markdown",
     "metadata": {},
     "source": [
      "This book is developed and tested with the following software dependencies (they are the Ubuntu 14.04.2 standard package versions):\n",
      "\n",
      "* python 2.7.6\n",
      "* ipython 1.2.1\n",
      "* numpy 1.8.2\n",
      "* matplotlib 1.3.1"
     ]
    },
    {
     "cell_type": "code",
     "collapsed": false,
     "input": [],
     "language": "python",
     "metadata": {},
     "outputs": []
    }
   ],
   "metadata": {}
  }
 ]
}