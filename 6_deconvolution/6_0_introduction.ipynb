{
 "cells": [
  {
   "cell_type": "markdown",
   "metadata": {},
   "source": [
    "***\n",
    "\n",
    "* [Outline](../0_Introduction/0_introduction.ipynb)\n",
    "* [Glossary](../0_Introduction/1_glossary.ipynb)\n",
    "* [6. Deconvolution in Imaging](#)  \n",
    "    * Next: [6.1 Sky Models](6_1_sky_models.ipynb)\n",
    "\n",
    "***"
   ]
  },
  {
   "cell_type": "markdown",
   "metadata": {},
   "source": [
    "# Chapter 6: Deconvolution in Imaging<a id='deconv:sec:intro'></a>"
   ]
  },
  {
   "cell_type": "markdown",
   "metadata": {},
   "source": [
    "**TODO**\n",
    "\n",
    "Intro text"
   ]
  },
  {
   "cell_type": "markdown",
   "metadata": {},
   "source": [
    "#### Chapter Outline\n",
    "\n",
    "1. [Sky Models](6_1_sky_models.ipynb)\n",
    "2. Point Source Assumption (CLEAN)\n",
    "    1. A simple 1D deconvolution example\n",
    "    2. Image-domain (Hogbom)\n",
    "    3. Gridded Visibility-domain (Clark)\n",
    "    4. Visibility domain (Cotton-Schwab)\n",
    "3. Residuals and Image Quality\n",
    "4. Source Finding and Detection\n",
    "5. [Further Reading and References](6_x_further_reading_and_references.ipynb)"
   ]
  },
  {
   "cell_type": "markdown",
   "metadata": {},
   "source": [
    "#### Chapter Editors\n",
    "\n",
    "#### Chapter Contributors\n",
    "\n",
    "* Griffin Foster"
   ]
  },
  {
   "cell_type": "markdown",
   "metadata": {},
   "source": [
    "***\n",
    "\n",
    "Next: [6.1 Sky Models](6_1_sky_models.ipynb)"
   ]
  }
 ],
 "metadata": {
  "kernelspec": {
   "display_name": "Python 2",
   "language": "python",
   "name": "python2"
  },
  "language_info": {
   "codemirror_mode": {
    "name": "ipython",
    "version": 2
   },
   "file_extension": ".py",
   "mimetype": "text/x-python",
   "name": "python",
   "nbconvert_exporter": "python",
   "pygments_lexer": "ipython2",
   "version": "2.7.6"
  }
 },
 "nbformat": 4,
 "nbformat_minor": 0
}
