{
 "metadata": {
  "name": "",
  "signature": "sha256:55c10de209eea8b4931c084389f385d3805cce348f581e28b5a1309ae30de6eb"
 },
 "nbformat": 3,
 "nbformat_minor": 0,
 "worksheets": [
  {
   "cells": [
    {
     "cell_type": "heading",
     "level": 1,
     "metadata": {},
     "source": [
      "Positional Astronomy"
     ]
    },
    {
     "cell_type": "heading",
     "level": 2,
     "metadata": {},
     "source": [
      "Imports"
     ]
    },
    {
     "cell_type": "code",
     "collapsed": false,
     "input": [
      "from IPython.core.display import HTML "
     ],
     "language": "python",
     "metadata": {},
     "outputs": [],
     "prompt_number": 6
    },
    {
     "cell_type": "heading",
     "level": 2,
     "metadata": {},
     "source": [
      "The Celestial Sphere (RA,DEC)"
     ]
    },
    {
     "cell_type": "markdown",
     "metadata": {},
     "source": [
      "We can use a geographical coordinate system to uniquely identify a position on earth. We normally use the coordinates **latitude** $L$ (to measure north and south) and **longitude** $\\mathcal{L}$ (to measure east and west) to accomplish this. \n",
      "\n",
      "We also require a coordinate system to locate the stars. For practical purposes we may think of our universe as being projected onto a sphere of arbitrary radius. This sphere surrounds the Earth and is known as the **celestial sphere**. This is not a true representation of our universe, but it is a very usefull construct that we use to keep track of the stars in the night sky. The **north celestial pole** (NCP) is an important location on the celestial sphere and is obtained by projecting the north pole of the earth onto the celestial sphere. The star **Polaris** is very close to the NCP. The **south celestial pole** (SCP) is obtained in a similar way. The imaginary circle known as the **celestial equator** is in the same plane as the equator of the earth and is obtained by projecting the equator of the earth onto the celestial sphere.\n",
      "We use a specific point on the celestial equator from which we measure the location of all other celestial objects. This point is know as the **first point of Airies** <!--$\\vernal--> or the **vernal equinox**. The physical significance of this point is discussed in Sec. [IREF](#\\label{sec:lst})  \n",
      "\n",
      "The stars themselves do not move on the celestial sphere and therefore have a unique location on it with which we can locate them (at least not much in one generation). We use the **equatorial coordinates**, **right ascension** $\\alpha$ (measured in hours) and **declination** $\\delta$ (measured in degrees) to uniquely identify the location of celestial objects. The **hour circle** of an object is the circle on the celestial sphere that crosses the NCP and the object itself and is perpendicular to the celestial equator. The right ascension of an object is the angular distance between the vernal equinox and the point where its hour circle crosses the celestial equator and it is measured in an easterly direction. The declination of an object is the  angular distance it is away from the celestial equator measured along its hour circle (it is positive in the northern celestial hemisphere and negative in the southern celestial hemisphere). The equatorial coordinates are presented grahpically in Fig. [IREF](#\\label{fig:equatorial_coordinates}) "
     ]
    },
    {
     "cell_type": "code",
     "collapsed": false,
     "input": [
      "HTML('<img src=\"equatorial.png\" width=300 height=100/>')   "
     ],
     "language": "python",
     "metadata": {},
     "outputs": [
      {
       "html": [
        "<img src=\"equatorial.png\" width=300 height=100/>"
       ],
       "metadata": {},
       "output_type": "pyout",
       "prompt_number": 20,
       "text": [
        "<IPython.core.display.HTML at 0x2bdc550>"
       ]
      }
     ],
     "prompt_number": 20
    },
    {
     "cell_type": "markdown",
     "metadata": {},
     "source": [
      "<a id='\\label{fig:equatorial_coordinates}'>Caption: The equatorial coordinates.</a>"
     ]
    },
    {
     "cell_type": "heading",
     "level": 2,
     "metadata": {},
     "source": [
      "<a id='\\label{sec:lst}'>Local Sideral Time (LST,HA)</a>"
     ]
    },
    {
     "cell_type": "code",
     "collapsed": false,
     "input": [],
     "language": "python",
     "metadata": {},
     "outputs": []
    },
    {
     "cell_type": "heading",
     "level": 2,
     "metadata": {},
     "source": [
      "The Terestial Reference Frame (X,Y,Z)"
     ]
    },
    {
     "cell_type": "heading",
     "level": 2,
     "metadata": {},
     "source": [
      "Direction Cosines ($l$,$m$,$n$)"
     ]
    },
    {
     "cell_type": "code",
     "collapsed": false,
     "input": [],
     "language": "python",
     "metadata": {},
     "outputs": []
    }
   ],
   "metadata": {}
  }
 ]
}