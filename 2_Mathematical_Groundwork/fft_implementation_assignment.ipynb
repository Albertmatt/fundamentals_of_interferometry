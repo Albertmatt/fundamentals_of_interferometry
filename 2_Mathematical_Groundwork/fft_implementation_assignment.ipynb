{
 "cells": [
  {
   "cell_type": "markdown",
   "metadata": {},
   "source": [
    "## Implementation of a Radix-2 Fast Fourier Transform"
   ]
  },
  {
   "cell_type": "markdown",
   "metadata": {},
   "source": [
    "Import standard modules:"
   ]
  },
  {
   "cell_type": "code",
   "execution_count": null,
   "metadata": {
    "collapsed": false
   },
   "outputs": [],
   "source": [
    "import numpy as np\n",
    "import matplotlib.pyplot as plt\n",
    "%matplotlib inline\n",
    "from IPython.display import HTML \n",
    "HTML('../style/course.css') #apply general CSS\n",
    "\n",
    "import cmath"
   ]
  },
  {
   "cell_type": "markdown",
   "metadata": {},
   "source": [
    "This assignment is to implement a python-based Fast Fourier Transform (FFT). Building on [$\\S$ 2.8 &#10142;](2_8_the_discrete_fourier_transform.ipynb) we will implement a 1-D radix-2 Cooley-Tukey-based FFT using both decimation in time (DIT) and decimation in frequency (DIF) for an $N = 2^n$ input function."
   ]
  },
  {
   "cell_type": "markdown",
   "metadata": {},
   "source": [
    "From [$\\S$ 2.8.2 &#10142;](2_8_the_discrete_fourier_transform.ipynb) the discrete Fourier transform (DFT) is defined as:\n",
    "\n",
    "$$ \\mathscr{F}_{\\rm D}\\{y\\}_k = Y_k =  \\sum_{n\\,=\\,0}^{N-1} y_n\\,e^{-\\imath 2\\pi \\frac{nk}{N}}, $$\n",
    "\n",
    "That is, the $k^{th}$ element of the Fourier transformed spectrum $Y$ is a sum over all $n$ elements of the function $y$, each multipled by a complex twiddle factor $e^{-\\imath 2\\pi \\frac{nk}{N}}$. In [$\\S$ 2.8.5 &#10142;](2_8_the_discrete_fourier_transform.ipynb) two methods for computing the DFT for a size $N = 2^n$ discrete function. A double loop to compute all elements of the Fourier-transformed spectrum, and a matrix multiplication by generating the Fourier kernel $K$. The compute time to perform the DFT is $\\mathcal{O}(N^2)$, this is it takes $cN^2$ operations where $c > 1$ is a constant factor. Though as note in [$\\S$ 2.8.5 &#10142;](2_8_the_discrete_fourier_transform.ipynb) the matrix implementation is much fast that the loop because this algorithm takes advantage of fast vector math libraries.\n",
    "\n",
    "The DFT code is replicated here as it will be used to compare our implementation of the FFT:"
   ]
  },
  {
   "cell_type": "code",
   "execution_count": null,
   "metadata": {
    "collapsed": true
   },
   "outputs": [],
   "source": [
    "def loop_DFT(x):\n",
    "    \"\"\"\n",
    "    Implementing the DFT in a double loop\n",
    "    Input: x = the vector we want to find the DFT of\n",
    "    \"\"\"\n",
    "    #Get the length of the vector (will only work for 1D arrays)\n",
    "    N = x.size\n",
    "    #Create vector to store result in\n",
    "    X = np.zeros(N, dtype=complex)\n",
    "    for k in range(N):\n",
    "        for n in range(N):\n",
    "            X[k] += np.exp(-1j * 2.0* np.pi* k * n / N) * x[n]\n",
    "    return X\n",
    "\n",
    "def matrix_DFT(x):\n",
    "    \"\"\"\n",
    "    Implementing the DFT in vectorised form\n",
    "    Input: x = the vector we want to find the DFT of\n",
    "    \"\"\"\n",
    "    #Get the length of the vector (will only work for 1D arrays)\n",
    "    N = x.size\n",
    "    #Create vector to store result in\n",
    "    n = np.arange(N)\n",
    "    k = n.reshape((N,1))\n",
    "    K = np.exp(-1j * 2.0 * np.pi * k * n / N)\n",
    "    return K.dot(x)"
   ]
  },
  {
   "cell_type": "markdown",
   "metadata": {},
   "source": [
    "In [$\\S$ 2.8.6 &#10142;](2_8_the_discrete_fourier_transform.ipynb) the fast Fourier transform was introduced as using recursion to implement a Fourier transform in $\\mathcal{O}(N\\log_2N)$ computations, significantly reducing the computational cost of computing the Fourier transform, especially for large $N$. A 'one layer' fast Fourier transform was presented which split the input function into two, and applied the twiddle factor to all values in the layer before calling the matrix-based DFT. This code is replicated below."
   ]
  },
  {
   "cell_type": "code",
   "execution_count": null,
   "metadata": {
    "collapsed": true
   },
   "outputs": [],
   "source": [
    "def one_layer_FFT(x):\n",
    "    \"\"\"An implementation of the 1D Cooley-Tukey FFT using one layer\"\"\"\n",
    "    N = x.size\n",
    "    if N%2 > 0:\n",
    "        print \"Warning: length of x is not a power of two, returning DFT\"\n",
    "        return matrix_DFT(x)\n",
    "    else:\n",
    "        X_even = matrix_DFT(x[::2])\n",
    "        X_odd = matrix_DFT(x[1::2])\n",
    "        factor = np.exp(-2j * np.pi * np.arange(N) / N)\n",
    "        return np.concatenate([X_even + factor[:N / 2] * X_odd, X_even + factor[N / 2:] * X_odd])"
   ]
  },
  {
   "cell_type": "markdown",
   "metadata": {},
   "source": [
    "We can easily show that each of these functions produce the same results by introducting a discrete test function $x$ and showing that the same results are reported by each function call:"
   ]
  },
  {
   "cell_type": "code",
   "execution_count": null,
   "metadata": {
    "collapsed": false
   },
   "outputs": [],
   "source": [
    "x = np.random.random(256)  # create random vector to take the DFT of\n",
    "\n",
    "print np.allclose(loop_DFT(x), matrix_DFT(x)) # returns True if all values are equal (within numerical error)\n",
    "print np.allclose(matrix_DFT(x), one_layer_FFT(x)) # returns True if all values are equal (within numerical error)"
   ]
  },
  {
   "cell_type": "markdown",
   "metadata": {},
   "source": [
    "We can also time each function to report of the amount of time is takes to return a finished spectrum."
   ]
  },
  {
   "cell_type": "code",
   "execution_count": null,
   "metadata": {
    "collapsed": false
   },
   "outputs": [],
   "source": [
    "print 'Double Loop DFT:'\n",
    "%timeit loop_DFT(x)\n",
    "print '\\nMatrix DFT:'\n",
    "%timeit matrix_DFT(x)\n",
    "print '\\nOne Layer FFT + Matrix DFT:'\n",
    "%timeit one_layer_FFT(x)"
   ]
  },
  {
   "cell_type": "markdown",
   "metadata": {},
   "source": [
    "As we can see the matrix DFT is significatly faster than the double loop DFT, this is because of the fast vectorization functions in numpy. And, the 'one-layer' FFT is about twice as fast as the matrix DFT because of the FFT architecture. We can go one fast and use the built-in numpy FFT:"
   ]
  },
  {
   "cell_type": "code",
   "execution_count": null,
   "metadata": {
    "collapsed": false
   },
   "outputs": [],
   "source": [
    "print np.allclose(one_layer_FFT(x), np.fft.fft(x))\n",
    "\n",
    "print 'numpy FFT:'\n",
    "%timeit np.fft.fft(x)"
   ]
  },
  {
   "cell_type": "markdown",
   "metadata": {},
   "source": [
    "The numpy FFT is *very* fast, in part because of the low-level programing implementation, but fundamentally because it uses an FFT architecture. Our goal for this assignment is to implement such an architecture."
   ]
  },
  {
   "cell_type": "markdown",
   "metadata": {},
   "source": [
    "### Decimation-in-Time (DIT) FFT"
   ]
  },
  {
   "cell_type": "markdown",
   "metadata": {},
   "source": []
  },
  {
   "cell_type": "markdown",
   "metadata": {},
   "source": [
    "### Decimation-in-Frequency (DIF) FFT"
   ]
  },
  {
   "cell_type": "code",
   "execution_count": null,
   "metadata": {
    "collapsed": true
   },
   "outputs": [],
   "source": []
  },
  {
   "cell_type": "markdown",
   "metadata": {},
   "source": [
    "### Extras"
   ]
  },
  {
   "cell_type": "code",
   "execution_count": null,
   "metadata": {
    "collapsed": true
   },
   "outputs": [],
   "source": []
  },
  {
   "cell_type": "markdown",
   "metadata": {},
   "source": [
    "* butterfly figures\n",
    "* dit equation\n",
    "* implement dit\n",
    "* dif equation\n",
    "* implement dif\n",
    "* compare results with test cases: correct answer and timing, plot spectra\n",
    "* extra: non 2^n, in place FFT"
   ]
  }
 ],
 "metadata": {
  "kernelspec": {
   "display_name": "Python 2",
   "language": "python",
   "name": "python2"
  },
  "language_info": {
   "codemirror_mode": {
    "name": "ipython",
    "version": 2
   },
   "file_extension": ".py",
   "mimetype": "text/x-python",
   "name": "python",
   "nbconvert_exporter": "python",
   "pygments_lexer": "ipython2",
   "version": "2.7.12"
  }
 },
 "nbformat": 4,
 "nbformat_minor": 2
}
