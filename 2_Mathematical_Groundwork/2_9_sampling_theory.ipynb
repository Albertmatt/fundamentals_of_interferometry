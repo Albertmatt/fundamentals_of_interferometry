{
 "cells": [
  {
   "cell_type": "markdown",
   "metadata": {},
   "source": [
    "***\n",
    "\n",
    "* [Outline](../0_Introduction/0_introduction.ipynb)\n",
    "* [Glossary](../0_Introduction/1_glossary.ipynb)\n",
    "* [2. Mathematical Groundwork](2_0_introduction.ipynb)\n",
    "    * Previous: [2.8 The Discrete Fourier Transform (DFT) and the Fast Fourier Transform (FFT)](2_8_the_discrete_fourier_transform.ipynb)\n",
    "    * Next: [2.10 Linear Algrebra](2_10_linear_algebra.ipynb)\n",
    "\n",
    "***"
   ]
  },
  {
   "cell_type": "markdown",
   "metadata": {},
   "source": [
    "Import standard modules:"
   ]
  },
  {
   "cell_type": "code",
   "execution_count": null,
   "metadata": {
    "collapsed": false
   },
   "outputs": [],
   "source": [
    "import numpy as np\n",
    "import matplotlib.pyplot as plt\n",
    "%matplotlib inline\n",
    "from IPython.display import HTML \n",
    "HTML('../style/course.css') #apply general CSS"
   ]
  },
  {
   "cell_type": "markdown",
   "metadata": {},
   "source": [
    "Import section specific modules:"
   ]
  },
  {
   "cell_type": "code",
   "execution_count": null,
   "metadata": {
    "collapsed": true
   },
   "outputs": [],
   "source": [
    "pass"
   ]
  },
  {
   "cell_type": "code",
   "execution_count": null,
   "metadata": {
    "collapsed": true
   },
   "outputs": [],
   "source": [
    "from IPython.display import HTML\n",
    "HTML('../style/code_toggle.html')"
   ]
  },
  {
   "cell_type": "markdown",
   "metadata": {},
   "source": [
    "1. [Sampling Theory](#) \n",
    "    1. [Nyquist's sampling theorem](#math:sec:nyquists_sampling_theorem)\n",
    "    2. [Limited sampling](#math:sec:limited_sampling)\n",
    "    3. [Examples for aliasing and limited sampling](#math:sec:examples_for_aliasing_and_limited_sampling)"
   ]
  },
  {
   "cell_type": "markdown",
   "metadata": {},
   "source": [
    "## 2.9 Sampling Theory<a id='math:sec:sampling_theory'></a>"
   ]
  },
  {
   "cell_type": "markdown",
   "metadata": {},
   "source": [
    "When planning physical measurements, the question turns up with which accuracy a measurement has to be made, given the function or the experimental setup. In other words, how finely a function has to be sampled to ideally recover the function: given the diameter of a telescope, or given the maximum separation of two telescopes in an interferometer, what pixel size do we choose in our reconstructed image? With the aid of Fourier theory, we can give an accurate answer to this for a set of functions."
   ]
  },
  {
   "cell_type": "markdown",
   "metadata": {},
   "source": [
    "### 2.9.1. Nyquist's Sampling Theorem<a id='math:sec:nyquists_sampling_theorem'></a>"
   ]
  },
  {
   "cell_type": "markdown",
   "metadata": {},
   "source": [
    "This section describes the concept of sampling, Nyquist rate and aliasing in fundamental signal processing. Consider a real-valued wave package with a cutoff at $\\frac{\\Delta s}{2}$ ([$\\S$ 2.2](2_2_important_functions.ipynb#math:eq:1_003) <!--\\ref{math:eq_1_003}-->), which we re-write as a Fourier-transform of a Hermetian function ([$\\S$ 2.4](2_4_the_fourier_transform.ipynb#math:sec:fourier_transforms_of_real_valued_and_hermetian_functions)<!--\\ref{math:sec:fourier_transforms_of_real_valued_and_hermetian_functions}--> and [$\\S$ 2.2](2_2_important_functions.ipynb#math:eq:1_004) <!--\\ref{math:eq_1_004}-->) where the Fourier transform has a support $[-\\frac{\\Delta s}{2},\\frac{\\Delta s}{2}]$ (with a length of twice the bandwidth).\n"
   ]
  },
  {
   "cell_type": "markdown",
   "metadata": {},
   "source": [
    "<a id='math:eq:8_001'></a><!--\\label{math:eq:8_001}-->$$\n",
    "f: \\mathbb{R}\\rightarrow{R}\\\\\n",
    "\\begin{align}\n",
    "f(x)\\,&=\\,\\int_0^{\\frac{\\Delta s}{2}}A(s)\\,\\cos{2\\pi\\imath sx-\\phi(s)}\\,ds\\\\\n",
    "&=\\,\\int_0^{\\frac{\\Delta s}{2}}F(s)\\,e^{2\\pi\\imath sx}+F^*(s)\\,e^{-2\\pi\\imath sx}\\,ds\\\\\n",
    "&=\\,\\int_0^{\\frac{\\Delta s}{2}}F(s)\\,e^{2\\pi\\imath sx}+F(-s)\\,e^{-2\\pi\\imath sx}\\,ds\\\\\n",
    "&=\\,\\int_{-\\frac{\\Delta s}{2}}^{\\frac{\\Delta s}{2}}F(s)\\,e^{2\\pi\\imath sx}\\,ds\\\\\n",
    "\\end{align}\n",
    "$$"
   ]
  },
  {
   "cell_type": "markdown",
   "metadata": {},
   "source": [
    "We can hence write"
   ]
  },
  {
   "cell_type": "markdown",
   "metadata": {},
   "source": [
    "<a id='math:eq:8_002'></a><!--\\label{math:eq:8_002}-->$$\n",
    "\\begin{align}\n",
    "\\mathscr{F}\\left\\{f\\right\\}(s)\\,&=\\mathscr{F}\\left\\{f\\right\\}(s)\\cdot \\Pi(\\frac{s}{s_0})\n",
    "\\end{align}\n",
    "$$"
   ]
  },
  {
   "cell_type": "markdown",
   "metadata": {},
   "source": [
    "Ideally, this function will be \"sampled\" an infinite number of times with the sampling period $\\Delta x$, in an idealised experiment we hence measure the function"
   ]
  },
  {
   "cell_type": "markdown",
   "metadata": {},
   "source": [
    "<a id='math:eq:8_003'></a><!--\\label{math:eq:8_003}-->$$\n",
    "\\begin{align}\n",
    "f^\\prime \\,&=\\,f(x)\\cdot \\frac{1}{\\Delta x}\\,III(\\frac{x}{\\Delta x})\n",
    "\\end{align}\n",
    "$$"
   ]
  },
  {
   "cell_type": "markdown",
   "metadata": {},
   "source": [
    "To judge whether we can recover all \"spectral\" information about the function, we calculate the Fourier transform (remember the [convolution theorem &#10142;](2_7_fourier_theorems.ipynb#math:sec:convolution_theorem)<!--\\ref{math:sec:convolution_theorem}--> and the [Fourier transform of a comb function &#10142;](2_4_the_fourier_transform.ipynb#math:sec:fourier_transform_of_the_comb_function)<!--\\ref{math:sec:fourier_transform_of_the_comb_function}-->)."
   ]
  },
  {
   "cell_type": "markdown",
   "metadata": {},
   "source": [
    "<a id='math:eq:8_004'></a><!--\\label{math:eq:8_004}-->$$\n",
    "\\begin{align}\n",
    "\\mathscr{F}\\left\\{f^\\prime\\right\\}(s)\\,&=\\,\\left(\\mathscr{F}\\left\\{f\\right\\}\\circ III_{\\Delta x}\\right)(s)\\\\\n",
    "&=\\,\\int_{-\\infty}^{\\infty} \\mathscr{F}\\left\\{f\\right\\}(s-t)\\,III(\\Delta x t)\\,dt\\\\\n",
    "&=\\,\\int_{-\\infty}^{\\infty} \\mathscr{F}\\left\\{f\\right\\}(s-t)\\,\\frac{1}{\\Delta x}\\left(\\sum_{n\\,=\\,{-\\infty}}^{+\\infty}\\delta\\left(t-\\frac{n}{t}\\right)\\right)\\,dt\\\\\n",
    "&=\\frac{1}{\\Delta x} \\sum_{-\\infty}^{+\\infty}\\mathscr{F}\\left\\{f\\right\\}\\left(s-\\frac{n}{\\Delta x}\\right)\\\\\n",
    "(&=\\, \\frac{1}{\\Delta x} \\sum_{-\\infty}^{+\\infty}\\mathscr{F}\\left\\{f\\right\\}\\left(s-\\frac{n}{\\Delta x}\\right)\\cdot \\Pi\\left(\\frac{s-\\frac{n}{\\Delta x}}{s_0}\\right) )\n",
    "\\end{align}\n",
    "$$"
   ]
  },
  {
   "cell_type": "markdown",
   "metadata": {},
   "source": [
    "The result is an infinite sum of translations of the Fourier transform $\\mathscr{F}\\left\\{f\\right\\}$ of the original function $f$. The Fourier transform is hence aliased in the Fourier domain. Each summand is offset by $\\frac{1}{\\delta x}$. Each single repetition has the width of the Fourier transform of the original function $\\Delta s$. The inverse Fourier transform would not be reconstructable if there were an overlap of the summands. We can hence conclude:"
   ]
  },
  {
   "cell_type": "markdown",
   "metadata": {},
   "source": [
    "If we have to sample a function with the bandwidth $\\frac{\\Delta s}{2}$, the sampling interval has to fulfil the condition"
   ]
  },
  {
   "cell_type": "markdown",
   "metadata": {},
   "source": [
    "<a id='math:eq:8_005'></a><!--\\label{math:eq:8_005}-->$$\n",
    "\\begin{align}\n",
    "\\frac{1}{\\Delta x} > \\Delta s \n",
    "\\end{align} \\qquad .\n",
    "$$"
   ]
  },
  {
   "cell_type": "markdown",
   "metadata": {},
   "source": [
    "This is Nyquist's Sampling Theorem ([<cite data-cite='nyquist'>Harry Nyquist, 1989-1976</cite> &#10548;](https://en.wikipedia.org/wiki/Harry_Nyquist)): to be fully recovered from a measurement, a function with limited bandwidth (in this context also called Nyquist frequency) has to be sampled (infinitely) with a frequency or Nyquist rate of twice the bandwidth (remember that our bandwidth was $\\frac{\\Delta s}{2}$). Again, the Nyquist rate is twice the Nyquist frequency, for a signal with a bandwidth of 500 Hz has to be sampled at a frequency of 1000 Hz, once every ms. It makes also no sense to sample a funciton at a frequency higher than the Nyquist rate, as we will not gain any more information (than the fully recoverable function)."
   ]
  },
  {
   "cell_type": "markdown",
   "metadata": {},
   "source": [
    "### 2.9.2. Limited Sampling<a id='math:sec:limited_sampling'></a>"
   ]
  },
  {
   "cell_type": "markdown",
   "metadata": {},
   "source": [
    "When deriving Nyquist's sampling theorem, we looked at the idealised case of an infinite number of measurements. In practice this is impossible. If we restrict the number of samplings to a finite number N, we measure ($f^{\\prime}$ defined in equation [equation](#math:eq:8_003) <!--\\ref{math:eq:8_003}-->)"
   ]
  },
  {
   "cell_type": "markdown",
   "metadata": {},
   "source": [
    "<a id='math:eq:8_006'></a><!--\\label{math:eq:8_006}-->$$\n",
    "\\begin{align}\n",
    "f^{\\prime\\prime}\\,&=\\,f^\\prime\\cdot\\sqcap\\left(\\frac{x-\\frac{(N-1)\\Delta x}{2}}{(N-1)\\Delta x}\\right)\\\\\n",
    "&=\\,\\sum_{n\\,=\\,0}^{N-1}\\delta\\left(x-n\\Delta x\\right)f(x)\n",
    "\\end{align} \\qquad .\n",
    "$$"
   ]
  },
  {
   "cell_type": "markdown",
   "metadata": {},
   "source": [
    "This means that in the Fourier domain we measure ([$\\S$ 2.4](2_4_the_fourier_transform.ipynb#math:sec:fourier_transform_of_the_rectangle_and_the_sinc_function)<!--\\ref{math:sec:fourier_transform_of_the_rectangle_and_the_sinc_function}-->)"
   ]
  },
  {
   "cell_type": "markdown",
   "metadata": {},
   "source": [
    "<a id='math:eq:8_007'></a><!--\\label{math:eq:8_007}-->$$\n",
    "\\begin{align}\n",
    "\\mathscr{F}\\left\\{f^{\\prime\\prime}\\right\\}(s)\\,&=\\,\\mathscr{F}\\left\\{f^\\prime\\right\\}\\circ \\left((N-1)\\Delta x\\,sinc\\left(\\left(N-1\\right)\\Delta x s\\right)e^{\\mp 2\\pi\\frac{(N-1)\\Delta x}{2}}\\right)\\\\\n",
    "\\end{align} \\qquad ,\n",
    "$$"
   ]
  },
  {
   "cell_type": "markdown",
   "metadata": {},
   "source": [
    "which, in other words, means that our measurement results in an aliased measurement of the Fourier transform *convolved with a sinc function*, which gets narrower with an increased number of measurements. We hence know that we cannot recover the real Fourier transform (and with that the original function) with infinite accuracy. Notice that the discrete Fourier transform will determine the Fourier transform just at the Nyquist rate $\\frac{1}{N\\Delta x}$, which is determined by the box function."
   ]
  },
  {
   "cell_type": "markdown",
   "metadata": {},
   "source": [
    "### 2.9.3. Examples of Aliasing and Nyquist's Sampling Theorem<a id='math:sec:examples_for_aliasing_and_limited_sampling'></a>"
   ]
  },
  {
   "cell_type": "markdown",
   "metadata": {},
   "source": [
    "We again address the questions:\n",
    "\n",
    "1. What is sampling and  does sampling do?\n",
    "2. What is the best criteria for perfect sampling?\n",
    "3. Does ideal sampling exists in pratice?\n",
    "\n",
    "Basically, sampling is the process  by which continuous  time signals or analog signal (such as voices)  are turned into discrete time signals. We sample a continuous time variant signal so that we could manage to save and process the signal into computers. To reconstruct the continuous time signal,  we apply the Fourier transform to the sampled signal and apply filters theories in other to bandlimit the results of the Fourier transform.\n",
    "\n",
    "Before we start the analysis of sampling, the following definitions are required.\n",
    "\n",
    "1. We will refer to the continuous time variant signal as $\\textbf{physical signal}$.\n",
    "2. The descrete signal as $\\textbf{sampled signal}$.\n",
    "\n",
    "The process of sampling is easy to represent mathematically. Suppose a physical signal $d_r (x)$ and $d_s (x)$ its sampled form i.e the descrete signal, and $\\Delta x$ the sampled interval. According to Shannon the sampled signal is expressed as:\n",
    "\n",
    "$$\n",
    "\\begin{alignat}{2}\n",
    "d_s(x) &= s(x) d_r(x),~~~~ Eq.1\n",
    "\\end{alignat}\n",
    "$$\n",
    "\n",
    "where  $s(x)=\\sum_{k=-\\infty}^{+\\infty}\\delta(x-k\\Delta x)$, is an infinite series of Delta functions known as a Dirac Comb at a regular spacing $\\Delta x$ and  $k$ is the number of  discrete points on the sampling grid. \n",
    "\n",
    "\n",
    "To see how this happens pratically, consider a sine waveform $d_r=sin(2\\pi f n x +cst)$ at a frequency $f=4 Hz$ with a total number of samples $n=100$. Note here that the maximum frequency present in this sine wave is $f_{max}=nf$."
   ]
  },
  {
   "cell_type": "code",
   "execution_count": null,
   "metadata": {
    "collapsed": false
   },
   "outputs": [],
   "source": [
    "import numpy as np\n",
    "import matplotlib.pyplot as plt\n",
    "%matplotlib inline\n",
    "\n",
    "f = 4;   # frequency of the physical signal\n",
    "plt.axhline(y=0,xmin=0,xmax=250,color='r')\n",
    "plt.plot(np.linspace(0,1,100.),np.sin(2*np.pi*f*np.linspace(0,1,100.)), 'k')\n",
    "\n",
    "plt.show()"
   ]
  },
  {
   "cell_type": "markdown",
   "metadata": {},
   "source": [
    "Now supose that this  sine wave is the physical signal i.e the continuous time variant signal. If we sample this signal with sampling intervals of  $\\Delta x=1/80$, $\\Delta x=1/50$ and $\\Delta x=1/25$ then we have the following."
   ]
  },
  {
   "cell_type": "code",
   "execution_count": null,
   "metadata": {
    "collapsed": false
   },
   "outputs": [],
   "source": [
    "y = np.sin(2*np.pi*f*np.linspace(0,1,80.))\n",
    "plt.stem(np.linspace(0,1,80.),y,'-')\n",
    "plt.ylabel(\"Amplitude\")\n",
    "plt.title(\"sampled signal with sampling interval $1/80$\")\n",
    "plt.show()\n",
    "\n",
    "\n",
    "y = np.sin(2*np.pi*f*np.linspace(0,1,50.))\n",
    "plt.stem(np.linspace(0,1,50.),y,'-')\n",
    "plt.ylabel(\"Amplitude\")\n",
    "plt.title(\"sampled signal with sampling interval $1/50$\")\n",
    "plt.show()\n",
    "\n",
    "y = np.sin(2*np.pi*f*np.linspace(0,1,25.))\n",
    "plt.stem(np.linspace(0,1,25.),y,'-')\n",
    "plt.ylabel(\"Amplitude\")\n",
    "plt.title(\"sampled signal with sampling interval $1/20$\")\n",
    "plt.show()"
   ]
  },
  {
   "cell_type": "markdown",
   "metadata": {},
   "source": [
    "There exit between the samples empty gaps. These emplty gaps are points where the physical signal was not sampled. Keep know in mind that these empty gaps represent all the informations lost during the sampling process. Note also that, in the case where the sampling interval is $\\Delta x=\\frac{1}{20}$, we can not spot all the peaks in this sine wave. \n",
    "\n",
    "In general, to preserve all the physical signal peaks, it is necessary to sample at least twice the maximum frequency present in the physical signal. In our case, the maximum frequency of the sine wave is $f_{max}=100\\times 4$, therefore, any sampling interval $\\Delta x$ above $\\frac{1}{2f_{max}}$ will not exactly reconstruct the physical signal. "
   ]
  },
  {
   "cell_type": "markdown",
   "metadata": {},
   "source": [
    "***\n",
    "\n",
    "<span style=\"background-color:cyan\">Below this line this section is incomplete</span>\n",
    "\n",
    "# Nyquist theorem"
   ]
  },
  {
   "cell_type": "markdown",
   "metadata": {},
   "source": [
    "The Nyquist theorem state that the sampling frequency  must be greater than twice the \n",
    "highest frequency contained in the signal i.e $\\Delta x\\leq \\frac{1}{2f_{max}}$. The $2f_{max}$ is known as the  Nyquist rate and any sampling bellow the Nyquist rate introduces sampling artefacts in the recontructed signal. These sampling artefacts are known in signal processing as $\\textbf{aliasing}$."
   ]
  },
  {
   "cell_type": "markdown",
   "metadata": {},
   "source": [
    "# Aliasing and demonstration"
   ]
  },
  {
   "cell_type": "markdown",
   "metadata": {},
   "source": [
    "Let us sopose we want to sample a Gaussian waveform $d_r (x) = e^{\\frac{-(x-\\mu)^2}{2\\sigma^2}}$"
   ]
  },
  {
   "cell_type": "code",
   "execution_count": null,
   "metadata": {
    "collapsed": false
   },
   "outputs": [],
   "source": [
    "\n",
    "def gaussian(x, mu, sig):\n",
    "    return np.exp(-np.power(x - mu, 2.) / (2 * np.power(sig, 2.)))\n",
    "\n",
    "x = np.linspace(-50,50,50)\n",
    "mu = 0.\n",
    "sig = 10.\n",
    "g = gaussian(x,mu,sig)\n",
    "\n",
    "fig = plt.figure()\n",
    "fig.subplots_adjust(hspace=.9)\n",
    "\n",
    "ax1 = fig.add_subplot(311)\n",
    "ax1.plot(x,g)\n",
    "plt.ylim(-0.5,1.5)\n",
    "#ax1.axhline(y=0., xmin=-30., xmax=50., color = 'r')\n",
    "plt.title(\"Physical signal: continuous signal\")\n",
    "\n",
    "\n",
    "## delta dirac comb parameter\n",
    "step = 15 # sampling step\n",
    "deltacom = np.ones(step)\n",
    "x1 = np.linspace(-50,50,step)\n",
    "ax2 = fig.add_subplot(312)\n",
    "markerline, stemlines, baseline = ax2.stem(x1, deltacom, '-')\n",
    "plt.title(\"Delta Dirac Comb: sampling function\")\n",
    "plt.ylim(-0.5,1.5)\n",
    "\n",
    "\n",
    "## sampled Gaussian\n",
    "ax3 = fig.add_subplot(313)\n",
    "markerline, stemlines, baseline = ax3.stem(x1, gaussian(x1,mu,sig), '-')\n",
    "plt.ylim(-0.5,1.5)\n",
    "plt.title(\"Sampled signal\")\n",
    "plt.show()\n"
   ]
  },
  {
   "cell_type": "markdown",
   "metadata": {},
   "source": [
    "The physical signal (top plot) is multiplied by the Dirac Comb function (middle plot) and this result to the observed signal (bottom centre).\n",
    "\n",
    "We can write each discrete point on the sampled signal as \n",
    "$$\n",
    "\\begin{alignat}{2}\n",
    "d_s(x)_k &= d_r(k\\Delta x) ~~~~ Eq.2\n",
    "\\end{alignat}\n",
    "$$\n",
    "\n",
    "Note from the example that, $\\Delta x = 15$ is the sampling interval or the sampling step.\n",
    "\n",
    "Combining Eq.1 and Eq.2, the sampled signal becomes the sum of each discrete \n",
    "point on the sample grid multiplied by a  Dirac delta function. \n",
    "\n",
    "$$\n",
    "\\begin{alignat}{2}\n",
    "d_s(x) &= \\sum_{k=-\\infty}^{+\\infty}\\delta(x)d_s(x)_k. ~~~~ Eq.3\n",
    "\\end{alignat}\n",
    "$$\n",
    "\n",
    "Since we are interested in the Fourier  and the time-domain signal, the Fourier transform is applied to Eq.1. According to the convolution theorem which states that the Fourier transform of the product of two functions  yields to the convolution of their respective Fourier transform. Eq.1 becomes \n",
    "\n",
    "$$\n",
    "\\begin{alignat}{2}\n",
    "\\mathcal{F} \\{d_s \\}(y)  &=\\Big(\\mathcal{F} \\big\\{s\\big\\}\\circ \\mathcal{F} \\big\\{d_r\\big\\}\\Big)(y),~~~~ Eq.4\n",
    "\\end{alignat}\n",
    "$$\n",
    "\n",
    "where $\\mathcal{F}^{}$ denotes the Fourier transform and $\\circ$ is the convolution operation. \n",
    "The Fourier transform of a Dirac Comb of regular spacing $\\Delta x$, is a Dirac Comb of regular spacing $\\Delta y$\n",
    "\n",
    "$$\n",
    "\\begin{alignat}{2}\n",
    "\\mathcal{F}\\big\\{s\\big\\} & =\\Delta y\\sum_{k=-\\infty}^{+\\infty}\\delta(y-k\\Delta y),~~~~ Eq.5\n",
    "\\end{alignat}\n",
    "$$\n",
    "\n",
    "where $\\Delta y= 2\\pi/ \\Delta x$  is the sampling rate. Combining Eq.4 and Eq.5 we obtain the following\n",
    "\n",
    "$$\n",
    "\\begin{alignat}{2}\n",
    "\\mathcal{F}^{}\\big\\{d_s\\big\\}(y) &=\\Big(\\Delta y \\sum_{k=-\\infty}^{+\\infty}\\delta(y-k\\Delta y)\\Big)\\circ\\Big(\\mathcal{F}\\{d_r\\}(y)\\Big)\\\\\n",
    "\t\t\t\t  &=\\Delta y \\sum_{k=-\\infty}^{+\\infty}\\mathcal{F}\\{d_r\\}(y-k\\Delta y).~~~~ Eq.6\n",
    "\\end{alignat}\n",
    "$$\n",
    "\n",
    "See Appendix A for the detailed proof of Eq.5 and Eq.6.\n",
    "\n",
    "For completeness, the spectrum from the point $k=0$ in Eq.6 can be separated \n",
    "\\begin{alignat}{2}\n",
    "\\mathcal{F}^{}\\big\\{d_s\\big\\}(y) &= \\Delta y\\mathcal{F}^{}\\big\\{d_r\\big\\}(y) + \\Delta y\\sum_{k=-\\infty, k\\neq 0}^{+\\infty}\\mathcal{F}^{}\\big\\{d_r\\big\\}(y-k\\Delta y)\\\\\n",
    "\t\t\t\t&\\simeq \\mathcal{F}^{}\\big\\{d_r\\big\\}(y) + \\sum_{k=-\\infty, k\\neq0}^{+\\infty}\\mathcal{F}^{}\\big\\{d_r\\big\\}(y-k\\Delta y) ~~~~ Eq.7\n",
    "\\end{alignat}\n",
    "\n",
    "\n",
    "It is shown in Eq.7 that:\n",
    "\n",
    "\n",
    " 1. The Fourier transform of the sampled signal duplicates the Fourier transform \n",
    " of the physical signal at each point in the Fourier transformed of the Dirac Comb. \n",
    " \n",
    " 2. Sampling and the Fourier transform conserves the physical signal $\\mathcal{F}^{}\\big\\{d_r\\big\\}(y)$ at the point $k=0$  and replicates it at all points $k\\neq0$ with regular spacing $\\Delta y$.\n",
    " \n",
    " 3. The copies for which $k\\neq0$ i.e, $\\sum_{k=-\\infty, k\\neq0}^{+\\infty}\\mathcal{F}^{}\\big\\{d_r\\big\\}(y-k\\Delta y)$ are aliased spectra.\n",
    " \n",
    " These remarks are illustrated on the following:\n"
   ]
  },
  {
   "cell_type": "code",
   "execution_count": null,
   "metadata": {
    "collapsed": false
   },
   "outputs": [],
   "source": [
    "fft_gau = np.fft.fftshift(np.abs(np.fft.fft(g)))\n",
    "fft_gau = fft_gau/fft_gau.max()\n",
    "\n",
    "\n",
    "fig = plt.figure()\n",
    "fig.subplots_adjust(hspace=.9)\n",
    "\n",
    "\n",
    "ax1 = fig.add_subplot(311)\n",
    "ax1.plot(x,fft_gau)\n",
    "plt.ylim(-0.5,fft_gau.max())\n",
    "plt.title(\"Fourrier transform of the Physical signal: Gaussian\")\n",
    "\n",
    "\n",
    "## delta dirac comb parameter\n",
    "nb_sample = 5\n",
    "deltacom = np.ones(nb_sample)\n",
    "x2 = np.linspace(-50,50,nb_sample)\n",
    "ax2 = fig.add_subplot(312)\n",
    "markerline, stemlines, baseline = ax2.stem(x2, deltacom, '-')\n",
    "plt.title(\"Delta Dirac Comb: Fourier transform of the sampling function\")\n",
    "plt.ylim(-0.5,1.5)\n",
    "\n",
    "\n",
    "## sampled Gaussian\n",
    "ax3 = fig.add_subplot(313)\n",
    "ax3.plot(x-0,fft_gau,'b')\n",
    "ax3.plot(x-25.,fft_gau, 'k')\n",
    "ax3.plot(x+25,fft_gau, 'k')\n",
    "ax3.plot(x-50.,fft_gau, 'k')\n",
    "ax3.plot(x+50,fft_gau, 'k')\n",
    "plt.ylim(-0.5,fft_gau.max())\n",
    "plt.title(\"Fourrier tranform of the Sampled signal\")\n",
    "plt.show()\n"
   ]
  },
  {
   "cell_type": "markdown",
   "metadata": {},
   "source": [
    "The Fourier transform of the physical signal (Top plot). The Fourier transform of the Dirac Com (centre plot). The Fourier transform of the observed signal (bottoom plot).\n",
    "\n",
    "The plot shows that, the Fourier tranform of the observed signal is a supperposition of the Fourier tranform of the physical signal at each point in the Dirac Comb. At the point $k=0$ (the blue curve) is the Fourier transform of the physical signal, and all other copies at point $k\\neq 0$ are aliasing copies. Which shows that any reconstruction of $d_r$ from $d_s$ requires the suppression of the aliased spectra i.e all copies of $\\mathcal{F}^{}\\big\\{d_r\\big\\}$ for which $k\\neq 0$.\n",
    "\n",
    "\n",
    "\n",
    "A method to suppress the aliased copies is to multiply $\\mathcal{F}^{}\\big\\{d_s\\big\\}$, by a tophat window, as a tophat window is unity in the pass-band (area of which $k=0$) and zero in the stop-band (area of which $k\\neq 0$).\n",
    "\n",
    "Note that, a complete reconstruction of $d_r$ requires the absence of overlapping copies of the aliased spectra with the Fourier transform of the physical signal i.e $\\mathcal{F}^{}\\big\\{d_r\\big\\}$ for which $k=0$. Otherwise, $d_r$ cannot be uniquely reconstructed. The following conditions must hold for a unique recovery:\n",
    "\n",
    "1. The observed signal must be band-limited in order to avoid that $\\mathcal{F}^{}\\big\\{d_r\\big\\}(y)$ at point $k=0$ extends infinitely and overlaps with its aliasing copies.\n",
    "2. The sampling frequency $\\Delta y$ must be greater than twice the highest frequency $f_s$ contained in the signal ($\\Delta y\\geq 2 f_s$). The quantity $2 f_s$ is the minimum sampling frequency or the  Nyquist rate  required to avoids aliasing.\n",
    "\n",
    "We demonstrate this in the following example:\n"
   ]
  },
  {
   "cell_type": "code",
   "execution_count": null,
   "metadata": {
    "collapsed": false
   },
   "outputs": [],
   "source": [
    "## sampled Gaussian\n",
    "plt.plot(x-0,fft_gau,'b')\n",
    "plt.plot(x-10.,fft_gau, 'k')\n",
    "plt.plot(x+10,fft_gau, 'k')\n",
    "plt.ylim(-0.1,fft_gau.max())\n",
    "plt.title(\"Fourrier tranform of the Sampled signal: aliasing\")\n",
    "plt.show()\n"
   ]
  },
  {
   "cell_type": "markdown",
   "metadata": {},
   "source": [
    "\n",
    "Let us now supose that these conditions are satisfied and that  $\\Pi^{}$ is a tophat window, given by\n",
    "\n",
    "$$\n",
    "\\begin{equation}\n",
    "\\Pi^{}(y) = \\bigg \\{ \\begin{array}{cl}\n",
    "1, &  k=0 \\\\\n",
    "0, & \\mathrm{otherwise}\n",
    "\\end{array}\n",
    "\\end{equation}\n",
    "$$\n",
    "\n",
    "Let us introduce the observed signal $d_o$ and multiply Eq.7 by $\\Pi^{}$. \n",
    "\n",
    "$$\n",
    "\\begin{alignat}{2}\n",
    "\\mathcal{F}\\big\\{d_o\\big\\}(y) &=\\Pi^{}(y)\\mathcal{F}^{}\\big\\{d_s\\big\\}(y),~~~~ Eq.8\n",
    "\\end{alignat}\n",
    "$$\n",
    "\n",
    "which will lead to\n",
    "\n",
    "$$\n",
    "\\begin{alignat}{2}\n",
    "d_o(x) &= \\Bigg(\\mathcal{F}^{-1}\\{ \\Pi^{}\\}\\circ d_s\\Bigg)(x)~~~~ Eq.9\n",
    "\\end{alignat}\n",
    "$$"
   ]
  },
  {
   "cell_type": "code",
   "execution_count": null,
   "metadata": {
    "collapsed": false
   },
   "outputs": [],
   "source": [
    "fft_gau = np.fft.fftshift(np.abs(np.fft.fft(g)))\n",
    "fft_gau = fft_gau/fft_gau.max()\n",
    "\n",
    "\n",
    "fig = plt.figure()\n",
    "fig.subplots_adjust(hspace=.9)\n",
    "\n",
    "\n",
    "## sampled Gaussian\n",
    "ax3 = fig.add_subplot(311)\n",
    "ax3.plot(x-0,fft_gau,'b')\n",
    "ax3.plot(x-25.,fft_gau, 'k')\n",
    "ax3.plot(x+25,fft_gau, 'k')\n",
    "ax3.plot(x-50.,fft_gau, 'k')\n",
    "ax3.plot(x+50,fft_gau, 'k')\n",
    "plt.ylim(-0.5,fft_gau.max())\n",
    "plt.title(\"Fourrier tranform of the Sampled signal\")\n",
    "\n",
    "\n",
    "ax1 = fig.add_subplot(312)\n",
    "boxcar = np.zeros(len(x))\n",
    "boxcar[len(x)/2-2:len(x)/2+2]=1.\n",
    "ax1.plot(x,boxcar)\n",
    "plt.ylim(-0.5,1.1)\n",
    "plt.title(\"Fourrier transform of the Physical signal: Gaussian\")\n",
    "\n",
    "\n",
    "## delta dirac comb parameter\n",
    "ax3 = fig.add_subplot(313)\n",
    "ax3.plot(x-0,fft_gau,'b')\n",
    "plt.ylim(-0.5,fft_gau.max())\n",
    "plt.title(\"Fourrier tranform of the Sampled signal\")\n",
    "\n",
    "plt.show()\n"
   ]
  },
  {
   "cell_type": "markdown",
   "metadata": {},
   "source": [
    "Since there is no overlapping aliasing spectrum with $\\mathcal{F}^{}\\big\\{d_r\\big\\}(y)$ at the point $k=0$, one can still write Eq.8 as follows\n",
    "\n",
    "$$\n",
    "\\begin{alignat}{2}\n",
    "\\mathcal{F}\\big\\{d_o\\big\\}(y)&=\\Pi^{[k]}(y)\\mathcal{F}^{}\\big\\{d_s\\big\\}(y)\\\\\n",
    "\t      &\\simeq \\Pi^{[k]}(y)\\Bigg(\\mathcal{F}^{}\\big\\{d_r\\big\\}(y) + \\sum_{k=-\\infty, k\\neq0}^{+\\infty}\\mathcal{F}^{}\\big\\{d_r\\big\\}(y-k\\Delta y)\\Bigg)\\\\\n",
    "\t    &\\simeq\\Pi^{[k]}(y)\\mathcal{F}^{}\\big\\{d_r\\big\\}(y).~~~~ Eq.10\n",
    "\\end{alignat}\n",
    "$$\n",
    "\n",
    "\n",
    "Note from the subtitution that $\\Pi^{[k]}(y)\\sum_{k=-\\infty, k\\neq0}^{+\\infty}\\mathcal{F}^{}\\big\\{d_r\\big\\}(y-k\\Delta y)=0$. We can\n",
    "rewrite Eq.10 as a convolution\n",
    "\n",
    "$$\n",
    "\\begin{alignat}{2}\n",
    "d_o(x) &\\simeq\\Bigg(\\mathcal{F}^{-1}\\{ \\Pi^{[k]}\\}\\circ d_r\\Bigg)(x).~~~~ Eq.11\n",
    "\\end{alignat}\n",
    "$$\n",
    "\n",
    "Solving  Eq.9 equal to Eq.11 we have\n",
    "\n",
    "$$\n",
    "\\begin{alignat}{2}\n",
    "d_s&\\simeq d_r.\n",
    "\\end{alignat}\n",
    "$$\n",
    "\n",
    "The physical signal can be reconstructed from the observed signal if all conditions are satisfied. However, ideal sampling can not be applicable in real life problems. This is due to the convolution of the physical signal with a low pass taper which is the sinc filter ($\\mathcal{F}^{-1}\\{ \\Pi^{}\\}$) and thereby could only be represented in finite support.\n"
   ]
  },
  {
   "cell_type": "markdown",
   "metadata": {},
   "source": [
    "***\n",
    "\n",
    "* Next: [2.10 Linear Algrebra](2_10_linear_algebra.ipynb)"
   ]
  }
 ],
 "metadata": {
  "kernelspec": {
   "display_name": "Python 2",
   "language": "python",
   "name": "python2"
  },
  "language_info": {
   "codemirror_mode": {
    "name": "ipython",
    "version": 2
   },
   "file_extension": ".py",
   "mimetype": "text/x-python",
   "name": "python",
   "nbconvert_exporter": "python",
   "pygments_lexer": "ipython2",
   "version": "2.7.6"
  }
 },
 "nbformat": 4,
 "nbformat_minor": 0
}
