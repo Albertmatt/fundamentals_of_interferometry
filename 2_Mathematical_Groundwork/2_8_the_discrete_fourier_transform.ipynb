{
 "cells": [
  {
   "cell_type": "markdown",
   "metadata": {},
   "source": [
    "***\n",
    "\n",
    "* [Outline](../0_Introduction/0_introduction.ipynb)\n",
    "* [Glossary](../0_Introduction/1_glossary.ipynb)\n",
    "* [2. Mathematical Groundwork](2_0_introduction.ipynb)\n",
    "    * Previous: [2.7 Fourier Theorems](2_7_fourier_theorems.ipynb)\n",
    "    * Next: [2.9 Sampling Theory](2_9_sampling_theory.ipynb)\n",
    "\n",
    "***"
   ]
  },
  {
   "cell_type": "markdown",
   "metadata": {},
   "source": [
    "Import standard modules:"
   ]
  },
  {
   "cell_type": "code",
   "execution_count": null,
   "metadata": {
    "collapsed": false
   },
   "outputs": [],
   "source": [
    "import numpy as np\n",
    "import matplotlib.pyplot as plt\n",
    "%matplotlib inline\n",
    "from IPython.display import HTML \n",
    "HTML('../style/course.css') #apply general CSS"
   ]
  },
  {
   "cell_type": "markdown",
   "metadata": {},
   "source": [
    "Import section specific modules:"
   ]
  },
  {
   "cell_type": "code",
   "execution_count": null,
   "metadata": {
    "collapsed": true
   },
   "outputs": [],
   "source": [
    "pass"
   ]
  },
  {
   "cell_type": "markdown",
   "metadata": {},
   "source": [
    "1. [The Discrete Fourier transform](#)\n",
    "    1. [The Discrete Fourier transform: definition](#math:sec:the_discrete_fourier_transform_definition)\n",
    "    2. [The Discrete convolution: definition and discrete convolution theorem](#math:sec:the_discrete_convolution_definition_and_discrete_convolution_theorem)\n",
    "    3. [The Discrete Fourier transform as coefficients for the Fourier transform of a sampled function](#math:sec:the_discrete_fourier_transform_as_coefficients_for)\n",
    "    4. [Fast Fourier transforms](#math:sec:fast_fourier_tranforms)\n"
   ]
  },
  {
   "cell_type": "markdown",
   "metadata": {},
   "source": [
    "## 2.8. The Discrete Fourier Transform (DFT) and the Fast Fourier Transform (FFT)<a id='math:sec:the_discrete_fourier_transform_and_the_fast_fourier_transform'></a>"
   ]
  },
  {
   "cell_type": "markdown",
   "metadata": {},
   "source": [
    "In the context of many applications (always in an experiment), the functional description of a phenomenon is a discrete function (or a series) with finite support (in other words, very often we describe a phenomenon with a finite set of numbers). Also here, the Fourier transform is an extremely important tool. Computationally, in fact, a Fourier transform can only be implemented as the discrete equivalent of a Fourier transform, not only disrete, but also with a limited amount of numbers. In this chapter, we see how the concept of a Fourier transform and the connected identities extend to a finite set of numbers."
   ]
  },
  {
   "cell_type": "markdown",
   "metadata": {},
   "source": [
    "### 2.8.1. The Discrete Fourier Transform: Definition<a id='math:sec:the_discrete_fourier_transform_definition'></a>"
   ]
  },
  {
   "cell_type": "markdown",
   "metadata": {},
   "source": [
    "Let $x = \\left\\{x_n \\in \\mathbb{C}\\right\\}_{n = 1, \\ldots, N}$ a finite set of complex numbers. Then, the discrete Fourier transform $\\mathscr{F}_{\\rm D}$ is defined as"
   ]
  },
  {
   "cell_type": "markdown",
   "metadata": {},
   "source": [
    "<a id='math:eq:8_001'></a><!--\\label{math:eq:8_001}-->$$\n",
    "\\mathscr{F}_{\\rm D}: \\left\\{y_n \\in \\mathbb{C}\\right\\}_{n \\,=\\, 0, \\ldots, N-1} \\rightarrow \\left\\{Y_k \\in \\mathbb{C}\\right\\}_{k \\in \\mathbb{Z}}\\\\\n",
    "\\begin{align}\n",
    "y \\,&=\\, \\left\\{y_n \\in \\mathbb{C}\\right\\}_{n = 1, \\ldots, N}\\\\\n",
    "&\\Rightarrow\\\\\n",
    "\\mathscr{F}_{\\rm D}\\{y\\} &=\\, \\left\\{Y_k\\in\\mathbb{C}\\right\\}_{k \\in \\mathbb{Z}}\\\\\n",
    "Y_k\\,&=\\,\\sum_{n\\,=\\,0}^{N-1} y_n\\,e^{-\\imath 2\\pi \\frac{nk}{N}}\n",
    "\\end{align}\\qquad {\\rm .}\n",
    "$$"
   ]
  },
  {
   "cell_type": "markdown",
   "metadata": {},
   "source": [
    "The inverse discrete Fourier transform is defined as"
   ]
  },
  {
   "cell_type": "markdown",
   "metadata": {},
   "source": [
    "<a id='math:eq:8_002'></a><!--\\label{math:eq:8_002}-->$$\n",
    "\\mathscr{F}_{\\rm D}^{-1}: \\left\\{Y_k \\in \\mathbb{C}\\right\\}_{k \\,=\\, 0, \\ldots, N-1} \\rightarrow \\left\\{y_n \\in \\mathbb{C}\\right\\}_{n \\in \\mathbb{Z}}\\\\\n",
    "\\begin{align}\n",
    "Y \\,&=\\, \\left\\{y_k \\in \\mathbb{C}\\right\\}_{k = 1, \\ldots, N}\\\\\n",
    "&\\Rightarrow\\\\\n",
    "\\mathscr{F}_{\\rm D}^{-1}\\{Y\\} &=\\, \\frac{1}{N}\\,\\left\\{Y_n\\in\\mathbb{C}\\right\\}_{n \\in \\mathbb{Z}}\\\\\n",
    "y_n\\,&=\\,\\sum_{k\\,=\\,0}^{N-1} Y_k\\,e^{\\imath 2\\pi \\frac{nk}{N}}\n",
    "\\end{align}\\qquad {\\rm .}\n",
    "$$"
   ]
  },
  {
   "cell_type": "markdown",
   "metadata": {},
   "source": [
    "Depending on its implementation, the normalisation factor $\\frac{1}{N}$ sometimes appears in front of the forward or the backward transformation, is sometimes shared by putting a $\\sqrt{\\frac{1}{N}}$ in front of the sum, or is sometimes omitted completely. The inverse discrete Fourier transform is the inverse operation with respect to the discrete Fourier transform (restricted to the original domain):"
   ]
  },
  {
   "cell_type": "markdown",
   "metadata": {},
   "source": [
    "<a id='math:eq:8_003'></a><!--\\label{math:eq:8_003}-->$$\n",
    "\\begin{align}\n",
    "\\mathscr{F}_{\\rm D}^{-1}\\left\\{\\mathscr{F}_{\\rm D}\\left\\{y\\right\\}\\right\\}_{n^\\prime} \\,&=\\, \\frac{1}{N}\\sum_{k\\,=\\,0}^{N-1} \\left(\\sum_{n\\,=\\,0}^{N-1} y_n e^{-\\imath 2\\pi\\frac{kn}{N}}\\right)e^{\\imath 2\\pi\\frac{kn^\\prime}{N}}\\\\\n",
    "&=\\,\\frac{1}{N}\\sum_{k\\,=\\,0}^{N-1} \\sum_{n\\,=\\,0}^{N-1} \\left( y_n e^{-\\imath 2\\pi\\frac{kn}{N}}e^{\\imath 2\\pi\\frac{kn^\\prime}{N}}\\right)\\\\\n",
    "&=\\,\\frac{1}{N}\\left(\\sum_{k\\,=\\,0}^{N-1} y_{n^\\prime}+\\sum_{\\begin{split}n\\,&=\\,0\\\\n\\,&\\neq\\,n^\\prime\\end{split}}^{N-1} \\sum_{k\\,=\\,0}^{N-1} y_n e^{-\\imath 2\\pi\\frac{kn}{N}}e^{\\imath 2\\pi\\frac{kn^\\prime}{N}}\\right)\\\\\n",
    "&=\\,\\frac{1}{N}\\left(\\sum_{k\\,=\\,0}^{N-1} y_{n^\\prime}+\\sum_{\\begin{split}n\\,&=\\,0\\\\n\\,&\\neq\\,n^\\prime\\end{split}}^{N-1} \\sum_{k\\,=\\,0}^{N-1} y_n e^{\\imath 2\\pi\\frac{k(n^\\prime-n)}{N}}\\right)\\\\\n",
    "&=\\,y_{n^\\prime}+\\frac{1}{N}\\sum_{\\begin{split}n\\,&=\\,0\\\\n\\,&\\neq\\,n^\\prime\\end{split}}^{N-1} y_n \\sum_{k\\,=\\,0}^{N-1} \\left(e^{\\imath 2\\pi\\frac{(n^\\prime-n)}{N}}\\right)^k\\\\\n",
    "&=\\,y_{n^\\prime}+\\frac{1}{N}\\sum_{\\begin{split}n\\,&=\\,0\\\\n\\,&\\neq\\,n^\\prime\\end{split}}^{N-1} y_n \\frac{1-\\left(e^{\\imath 2\\pi\\frac{(n^\\prime-n)}{N}}\\right)^N}{1-\\left(e^{\\imath 2\\pi\\frac{(n^\\prime-n)}{N}}\\right)}\\\\\n",
    "&=\\,y_{n^\\prime}+\\frac{1}{N}\\sum_{\\begin{split}n\\,&=\\,0\\\\n\\,&\\neq\\,n^\\prime\\end{split}}^{N-1} y_n \\frac{1-e^{\\imath 2\\pi(n^\\prime-n)}}{1-e^{\\imath 2\\pi\\frac{(n^\\prime-n)}{N}}}\\\\\n",
    "&\\underset{n,n^\\prime \\in \\mathbb{N}}{=}\\,y_{n^\\prime}\\\\\n",
    "\\end{align}\\qquad {rm ,}\n",
    "$$"
   ]
  },
  {
   "cell_type": "markdown",
   "metadata": {},
   "source": [
    "where we made use of the identity $\\sum_{n\\,=\\,0}^{N-1}x^n \\,=\\, \\frac{1-x^N}{1-x}$. Also for the discrete Fourier transform, it is possible to express the inverse transform in terms of the forward transform (without proof, but it's straightforward):"
   ]
  },
  {
   "cell_type": "markdown",
   "metadata": {},
   "source": [
    "<a id='math:eq:8_004'></a><!--\\label{math:eq:8_004}-->$$\n",
    "\\begin{align}\n",
    "\\mathscr{F}_{\\rm D}^{-1}\\{Y\\}_n \\,&=\\, \\frac{1}{N} \\mathscr{F}_{\\rm D}\\{Y\\}_{-n} \\\\\n",
    "&=\\,\\frac{1}{N} \\mathscr{F}_{\\rm D}\\{Y\\}_{N-n}\\\\\n",
    "\\end{align}\\qquad {\\rm ,}\n",
    "$$"
   ]
  },
  {
   "cell_type": "markdown",
   "metadata": {},
   "source": [
    "the discrete (inverse) Fourier transform of a real-valued set of numbers is Hermetian (and vice versa)"
   ]
  },
  {
   "cell_type": "markdown",
   "metadata": {},
   "source": [
    "<a id='math:eq:8_005'></a><!--\\label{math:eq:8_005}-->$$\n",
    "\\begin{align}\n",
    "y \\,&=\\, \\left\\{y_n \\in \\mathbb{R}\\right\\}_{n\\,=\\,1, \\ldots, \\,N\\,\\in\\, \\mathbb{N}}\\\\\n",
    "&\\Rightarrow\n",
    "\\end{align}\\\\\n",
    "\\begin{split}\n",
    "\\mathscr{F}_{\\rm D}\\{y\\}_k\\,&=\\, \\left(\\mathscr{F}_{\\rm D}\\{y\\}\\right)^*_{-k}\\\\\n",
    "&=\\, \\left(\\mathscr{F}_{\\rm D}\\{y\\}\\right)^*_{N-k}\n",
    "\\end{split}\n",
    "\\qquad {\\rm .}\n",
    "$$"
   ]
  },
  {
   "cell_type": "markdown",
   "metadata": {},
   "source": [
    "### 2.8.2. The Discrete Convolution: Definition and Discrete Convolution Theorem<a id='math:sec:the_discrete_convolution_definition_and_discrete_convolution_theorem'></a>"
   ]
  },
  {
   "cell_type": "markdown",
   "metadata": {},
   "source": [
    "In analogy to the analytic convolution we define the discrete convolution:"
   ]
  },
  {
   "cell_type": "markdown",
   "metadata": {},
   "source": [
    "<a id='math:eq:8_006'></a><!--\\label{math:eq:8_006}-->$$\n",
    "\\circ: \\left\\{y_n \\in \\mathbb{C}\\right\\}_{n \\,=\\, 0, \\ldots, N-1}\\times \\left\\{z_n \\in \\mathbb{C}\\right\\}_{n \\,=\\, 0, \\ldots, N-1} \\rightarrow \\left\\{r_k \\in \\mathbb{C}\\right\\}_{k \\in \\mathbb{Z}}\\\\\n",
    "\\begin{align}\n",
    "y \\,&=\\, \\left\\{y_n \\in \\mathbb{C}\\right\\}_{n = 1, \\ldots, N}\\\\\n",
    "z \\,&=\\, \\left\\{z_n \\in \\mathbb{C}\\right\\}_{n = 1, \\ldots, N}\\\\\n",
    "&\\Rightarrow\\\\\n",
    "(y\\circ z)_k &=\\, \\sum_{n\\,=\\,0}^{N-1} y_n z_{(k-n)\\,mod\\,N}\\\\\n",
    "\\end{align}\\qquad {\\rm ,}\n",
    "$$"
   ]
  },
  {
   "cell_type": "markdown",
   "metadata": {},
   "source": [
    "where $mod$ denotes the modulo operation. One can again show (not here) that the discrete convolution is commutative. One important effect evident from this equation is that if the two series are \"broad\" enough, the convolution will be continued at the beginning of the series, an effect called aliasing."
   ]
  },
  {
   "cell_type": "markdown",
   "metadata": {},
   "source": [
    "Also for the discrete Fourier transform and the discrete convolution the convolution theorem is valid (without proof here)."
   ]
  },
  {
   "cell_type": "markdown",
   "metadata": {},
   "source": [
    "Let $y\\cdot z \\underset{def}{=} \\left\\{y_n\\cdot z_n\\right\\}_{n\\,=\\,1, \\ldots, \\,N}$. Then"
   ]
  },
  {
   "cell_type": "markdown",
   "metadata": {},
   "source": [
    "<a id='math:eq:8_005'></a><!--\\label{math:eq:8_005}-->$$\n",
    "\\forall N\\,\\in\\, \\mathbb{N}\\quad,\\\\\n",
    "\\begin{align}\n",
    "y \\,&=\\, \\left\\{y_n \\in \\mathbb{C}\\right\\}_{n\\,=\\,1, \\ldots, \\,N}\\\\\n",
    "z \\,&=\\, \\left\\{z_n \\in \\mathbb{C}\\right\\}_{n\\,=\\,1, \\ldots, \\,N}\\\\\n",
    "Y \\,&=\\, \\left\\{y_k \\in \\mathbb{C}\\right\\}_{k\\,=\\,1, \\ldots, \\,N}\\\\\n",
    "Y \\,&=\\, \\left\\{z_k \\in \\mathbb{C}\\right\\}_{k\\,=\\,1, \\ldots, \\,N}\\\\\n",
    "\\end{align}\\\\\n",
    "\\begin{split}\n",
    "\\mathscr{F}_{\\rm D}\\{y\\cdot z\\}\\,&=\\,\\frac{1}{N}\\mathscr{F}_{\\rm D}\\{y\\}\\circ \\mathscr{F}_{\\rm D}\\{z\\}\\\\\n",
    "\\mathscr{F}_{\\rm D}^{-1}\\{Y\\cdot Z\\}\\,&=\\,\\mathscr{F}_{\\rm D}\\{y\\}\\circ \\mathscr{F}_{\\rm D}\\{z\\}\\\\\n",
    "\\mathscr{F}_{\\rm D}\\{y\\circ z\\}\\,&=\\,\\mathscr{F}_{\\rm D}\\{y\\}\\circ \\mathscr{F}_{\\rm D}\\{z\\}\\\\\n",
    "\\mathscr{F}_{\\rm D}^{-1}\\{Y\\circ Z\\}\\,&=\\,\\frac{1}{N}\\mathscr{F}_{\\rm D}\\{y\\}\\circ \\mathscr{F}_{\\rm D}\\{z\\}\\\\\n",
    "\\end{split}\n",
    "\\qquad {\\rm .}\n",
    "$$"
   ]
  },
  {
   "cell_type": "markdown",
   "metadata": {},
   "source": [
    "### 2.8.3. The Discrete Fourier Transform as Coefficients for the Fourier Transform of a Sampled Function<a id='math:sec:the_discrete_fourier_transform_as_coefficients_for_the_fourier_transform_of_a_sampled_function'</a>"
   ]
  },
  {
   "cell_type": "markdown",
   "metadata": {},
   "source": [
    "Until now we have shown that the discrete Fourier transform shares many properties of the Fourier transform. Here, we discuss how both operations are connected."
   ]
  },
  {
   "cell_type": "markdown",
   "metadata": {},
   "source": [
    "For a (Lesbeque-integrable) function $f: \\mathbb{R} \\rightarrow \\mathbb{C}$ define a finitely sampled function $f_{\\rm S}$, sampled by the sampling function $s_{x_0, \\Delta x, N}$"
   ]
  },
  {
   "cell_type": "markdown",
   "metadata": {},
   "source": [
    "<a id='math:eq:8_006'></a><!--\\label{math:eq:8_006}-->$$\n",
    "f: \\mathbb{R} \\rightarrow \\mathbb{C}\\\\\n",
    "s_{x_0, \\,\\Delta x,\\, N}: \\mathbb{R} \\rightarrow \\mathbb{C}\\\\\n",
    "\\begin{align}\n",
    "s_{x_0, \\Delta x, N}(x)\\,&=\\,\\frac{1}{\\Delta x}III\\left(\\frac{x-x_0}{\\Delta x}\\right)\\cdot \\Pi\\left(\\frac{x-x_0+\\frac{(N-1)\\Delta x}{2}}{(N-1)\\Delta x}\\right)\\\\\n",
    "&=\\,\\sum_{n\\,=\\,-\\infty}^{+\\infty}\\delta(x-n\\Delta x-x_0)\\,\\Pi\\left(\\frac{x-x_0+\\frac{(N-1)\\Delta x}{2}}{(N-1)\\Delta x}\\right)\\\\\n",
    "&=\\,\\sum_{n\\,=\\,0}^{N-1}\\delta(x-n\\Delta x-x_0)\\\\\n",
    "&\\Rightarrow\\\\\n",
    "f_{\\rm s}(x)\\,&=\\,f\\cdot s_{x_0, \\,\\Delta x,\\, N}(x)\\\\\n",
    "\\,&=\\,\\sum_{n\\,=\\,0}^{N-1}\\delta(x-n\\Delta x-x_0)\\,f(x)\n",
    "\\end{align}\\qquad .\n",
    "$$"
   ]
  },
  {
   "cell_type": "markdown",
   "metadata": {},
   "source": [
    "This is nothing else than simulating an experiment in which a function (with potentially infinite support) is measured in $N$ regular spaced steps over a finite range $\\left[x_0-\\frac{N\\Delta x}{2},x_0+\\frac{N\\Delta x}{2}\\right]$. Its Fourier transform is"
   ]
  },
  {
   "cell_type": "markdown",
   "metadata": {},
   "source": [
    "<a id='math:eq:8_007'></a><!--\\label{math:eq:8_007}-->$$\n",
    "\\mathscr{F}\\left\\{f_{\\rm s}\\right\\}(s)\\,=\\,\\sum_{n\\,=\\,0}^{N-1}f(x_0+n\\Delta x)\\,e^{-2\\pi \\imath(x_0+n\\Delta x)s}\n",
    "\\qquad .\n",
    "$$"
   ]
  },
  {
   "cell_type": "markdown",
   "metadata": {},
   "source": [
    "Now define the set $y$"
   ]
  },
  {
   "cell_type": "markdown",
   "metadata": {},
   "source": [
    "<a id='math:eq:8_008'></a><!--\\label{math:eq:8_008}-->$$\n",
    "\\begin{align}\n",
    "y\\,&:=\\,\\left\\{y_n\\in\\mathbb{C}\\right\\}_{n\\,=\\, 0,\\,\\ldots, \\,N-1}\\\\\n",
    "&=\\,\\left\\{f(x_0+n\\Delta x)\\right\\}_{n\\,=\\, 0,\\,\\ldots, \\,N-1}\\\\\n",
    "\\end{align}\n",
    "\\qquad .\n",
    "$$"
   ]
  },
  {
   "cell_type": "markdown",
   "metadata": {},
   "source": [
    "Its discrete Fourier transform is defined via"
   ]
  },
  {
   "cell_type": "markdown",
   "metadata": {},
   "source": [
    "<a id='math:eq:8_009'></a><!--\\label{math:eq:8_009}-->$$\n",
    "\\begin{align}\n",
    "\\mathscr{F}_{\\rm D}\\{y\\}_k\\,&=\\,\\sum_{n\\,=\\,0}^{N-1} y_n\\,e^{-\\imath 2\\pi \\frac{nk}{N}}\\\\\n",
    "&=\\,\\sum_{n\\,=\\,0}^{N-1}f(x_0+n\\Delta x)\\,e^{-\\imath 2\\pi \\frac{nk}{N}}\\\\\n",
    "\\end{align}\n",
    "\\qquad ,\n",
    "$$"
   ]
  },
  {
   "cell_type": "markdown",
   "metadata": {},
   "source": [
    "and by defining"
   ]
  },
  {
   "cell_type": "markdown",
   "metadata": {},
   "source": [
    "<a id='math:eq:8_010'></a><!--\\label{math:eq:8_010}-->$$\n",
    "\\begin{align}\n",
    "s_k \\,&=\\, \\frac{k}{N\\Delta x} \\\\\n",
    "\\end{align}\n",
    "$$"
   ]
  },
  {
   "cell_type": "markdown",
   "metadata": {},
   "source": [
    "it becomes evident that"
   ]
  },
  {
   "cell_type": "markdown",
   "metadata": {},
   "source": [
    "<a id='math:eq:8_011'></a><!--\\label{math:eq:8_011}-->$$\n",
    "\\begin{align}\n",
    " \\mathscr{F}\\left\\{f_{\\rm s}\\right\\}(s_k)\\,&=\\,\\mathscr{F}\\left\\{f_{\\rm s}\\right\\}\\left(\\frac{k}{N\\Delta x}\\right)\\\\\n",
    " &=\\,\\mathscr{F}_{\\rm D}\\{y\\}_k\\,e^{-2\\pi\\imath x_0 s_k}\\\\\n",
    " &=\\,\\mathscr{F}_{\\rm D}\\{y\\}_k\\,e^{-2\\pi\\imath \\frac{k x_0}{N\\Delta x}}\\\\\n",
    "\\end{align}\\qquad ,\n",
    "$$"
   ]
  },
  {
   "cell_type": "markdown",
   "metadata": {},
   "source": [
    "in other words the discrete Fourier transform returns the Fourier transform of a sampled function, sampled at points the distance of which is the inverse of the total width over which the function is sampled. What is lost is a phase factor stemming from the position of the bracket within which the function is sampled. A similar relation holds for the inverse discrete Fourier transform and the inverse Fourier transform."
   ]
  },
  {
   "cell_type": "markdown",
   "metadata": {},
   "source": [
    "<a id='math:eq:8_012'></a><!--\\label{math:eq:8_012}-->$$\n",
    "F: \\mathbb{R} \\rightarrow \\mathbb{C}\\\\\n",
    "S_{s_0, \\,\\Delta s,\\, N}: \\mathbb{R} \\rightarrow \\mathbb{C}\\\\\n",
    "\\begin{align}\n",
    "S_{s_0, \\Delta x, N}(x)\\,&=\\,\\frac{1}{\\Delta x}III\\left(\\frac{s-s_0}{\\Delta x}\\right)\\cdot \\Pi\\left(\\frac{s-s_0+\\frac{(N-1)\\Delta s}{2}}{(N-1)\\Delta s}\\right)\\\\\n",
    "&=\\,\\sum_{n\\,=\\,-\\infty}^{+\\infty}\\delta(s-n\\Delta s-s_0)\\,\\Pi\\left(\\frac{s-s_0+\\frac{(N-1)\\Delta x}{2}}{(N-1)\\Delta s}\\right)\\\\\n",
    "&=\\,\\sum_{n\\,=\\,0}^{N-1}\\delta(s-n\\Delta s-s_0)\\\\\n",
    "&\\Rightarrow\\\\\n",
    "F_{\\rm S}(s)\\,&=\\,f\\cdot S_{s_0, \\,\\Delta s,\\, N}(s)\\\\\n",
    "\\,&=\\,\\sum_{n\\,=\\,0}^{N-1}\\delta(s-n\\Delta s-s_0)\\,F(s)\n",
    "\\end{align}\n",
    "$$"
   ]
  },
  {
   "cell_type": "markdown",
   "metadata": {},
   "source": [
    "<a id='math:eq:8_008'></a><!--\\label{math:eq:8_008}-->$$\n",
    "\\begin{align}\n",
    "Y\\,&:=\\,\\left\\{Y_k\\in\\mathbb{C}\\right\\}_{k\\,=\\, 0,\\,\\ldots, \\,N-1}\\\\\n",
    "&=\\,\\left\\{F(s_0+k\\Delta s)\\right\\}_{k\\,=\\, 0,\\,\\ldots, \\,N-1}\\\\\n",
    "\\end{align}\n",
    "$$"
   ]
  },
  {
   "cell_type": "markdown",
   "metadata": {},
   "source": [
    "<a id='math:eq:8_010'></a><!--\\label{math:eq:8_010}-->$$\n",
    "\\begin{align}\n",
    "x_n \\,&=\\, \\frac{n}{N\\Delta s} \\\\\n",
    "\\end{align}\n",
    "$$"
   ]
  },
  {
   "cell_type": "markdown",
   "metadata": {},
   "source": [
    "<a id='math:eq:8_013'></a><!--\\label{math:eq:8_013}-->$$\n",
    "\\begin{align}\n",
    "&\\Rightarrow\\\\\n",
    " \\mathscr{F}^{-1}\\left\\{F_{\\rm S}\\right\\}(x_n)\\,&=\\,\\mathscr{F}^{-1}\\left\\{F_{\\rm s}\\right\\}\\left(\\frac{n}{N\\Delta s}\\right)\\\\\n",
    " &=\\,\\mathscr{F}^{-1}_{\\rm D}\\{Y\\}_n\\,e^{-2\\pi\\imath s_0 x_n}\\\\\n",
    " &=\\,\\mathscr{F}^{-1}_{\\rm D}\\{Y\\}_n\\,e^{-2\\pi\\imath \\frac{n s_0}{N\\Delta s}}\\\\\n",
    "\\end{align}\\qquad .\n",
    "$$"
   ]
  },
  {
   "cell_type": "markdown",
   "metadata": {},
   "source": [
    "### 2.8.4. Fast Fourier transforms<a id='math:sec:fast_fourier_tranforms'></a>"
   ]
  },
  {
   "cell_type": "markdown",
   "metadata": {},
   "source": [
    "The discrete Fourier transform is a computationally expensive operation. The number of complex multiplications to calculate the set of $N$ datapoints if one performs a diescrete Fourier transform of $N$ data points is $N^2$. Since the number of data points to be Fourier-transformed can become very high, one usually tries to make use of numerical tricks to reduce the number of calculations. \n",
    "\n",
    "It is not difficult to identify potential ways to safe computing time. Looking at the definition of the [discrete Fourier transform &#10549;](#math:eq:8_001)<!--\\ref{math:eq:8_001}-->, one can see that -- under certain circumstances -- the same summands occur multiple times. E.g. for $N\\,=\\,8$, the product $y_2\\,e^{-2{\\pi}i\\frac{4}{8}}=y_2e^{-2{\\pi}i\\frac{12}{8}}$ has to be calculated for $\\mathscr{F}_{\\rm D}\\{y\\}_2$ but also for $\\mathscr{F}_{\\rm D}\\{y\\}_6$. Would we have to calculate the Fourier transform by hand, we would not calculate this summand twice.\n",
    "\n",
    "A lot of effort has gone into implementing algorithms that make use of this and other identities. Cooley und Tukey published an algorithm (\"The Fast Fourier Transform\" or \"FFT\") in 1965, which, for a length of $N\\,=\\,2^n\\quad n\\in\\mathbb{N}$ of the discrete Fourier transform, enables to reduce the number of complex multiplications to $2N{\\log}_2N$, and made it possible for the first time to perform a discrete Fourier transform of larger sequences of numbers.\n",
    "\n",
    "Today's implementations of discrete Fourier transforms make use of the FFT and other algorithms hiding some provisions that the user had to make in the past (e.g. regrid the data series on a grid with $2^n$ cells), such that a detailed treatment of the algorithms is not required. However, from time to time one has to deal with the details and the reader should be prepared to learn a bit more about implementations of fast Fourier transforms. Usually, however, this is well described in the manuals."
   ]
  },
  {
   "cell_type": "markdown",
   "metadata": {},
   "source": [
    "***\n",
    "\n",
    "* Next: [2.9 Sampling Theory](2_9_sampling_theory.ipynb)"
   ]
  }
 ],
 "metadata": {
  "kernelspec": {
   "display_name": "Python 2",
   "language": "python",
   "name": "python2"
  },
  "language_info": {
   "codemirror_mode": {
    "name": "ipython",
    "version": 2
   },
   "file_extension": ".py",
   "mimetype": "text/x-python",
   "name": "python",
   "nbconvert_exporter": "python",
   "pygments_lexer": "ipython2",
   "version": "2.7.6"
  }
 },
 "nbformat": 4,
 "nbformat_minor": 0
}
