{
 "cells": [
  {
   "cell_type": "markdown",
   "metadata": {},
   "source": [
    "***\n",
    "\n",
    "* [Outline](../0_Introduction/0_introduction.ipynb)\n",
    "* [Glossary](../0_Introduction/1_glossary.ipynb)\n",
    "* [7. Observing Systems](0_introduction.ipynb)  \n",
    "    * Previous: [7.6 The Primary Beam](#)  \n",
    "    * Next: [7.7 Antenna Mounts and Parallactic Angle](#)\n",
    "\n",
    "***"
   ]
  },
  {
   "cell_type": "markdown",
   "metadata": {},
   "source": [
    "Import standard modules:"
   ]
  },
  {
   "cell_type": "code",
   "execution_count": 1,
   "metadata": {
    "collapsed": true
   },
   "outputs": [],
   "source": [
    "import numpy as np\n",
    "import matplotlib.pyplot as plt\n",
    "%matplotlib inline"
   ]
  },
  {
   "cell_type": "markdown",
   "metadata": {},
   "source": [
    "***"
   ]
  },
  {
   "cell_type": "markdown",
   "metadata": {},
   "source": [
    "## 7.6 Feeds: polarization and leakage"
   ]
  },
  {
   "cell_type": "markdown",
   "metadata": {},
   "source": [
    "**TODO**\n",
    "\n",
    "1. electric fields to stokes: what are stokes parameters (stokes and coherency matrices)\n",
    "2. full measurement of the electric field requires two orthogonal modes\n",
    "3. types of feeds: linear and circular; dipole, log dipole, horn\n",
    "4. optimization for paramters: freq response, gain, directivity, leakage, all similar to primary beam\n",
    "5. leakage between feeds: non-orthogonal, design, direction ; IXR\n",
    "6. C and D matrices, relation to primary beam E matrix"
   ]
  },
  {
   "cell_type": "markdown",
   "metadata": {},
   "source": [
    "The antenna feed, like the primary beam, has a complex time, frequency, and direction response based on its design. The receptor converts EM waves to a current. Optimizing for parameters such as gain, bandwidth, polarization leakage, impedance matching, and the smoothness lead to different feed designs. A *$\\lambda/4$ (quarter-wavelength) dipole*, a classical design, is a simple dipole made up of two monopoles of length $\\lambda/4$ connected to a *balun*, which is an electronic device which converts an EM signal to a current. This design is very broad spatially, close to isotropic, with a peak sensitivity at $\\lambda$ with a smooth roll-off to other frequencies, but is not broadband or directive. Other feeds, such as log-periodic dipoles, Vivaldi, horns, etc. are optimized for different parameters depending on their use. Many books and lifetimes have been spent on designing antenna feeds."
   ]
  },
  {
   "cell_type": "markdown",
   "metadata": {},
   "source": [
    "***\n",
    "\n",
    "Next: [7.7 Antenna Mounts and Parallactic Angle](#)"
   ]
  }
 ],
 "metadata": {
  "kernelspec": {
   "display_name": "Python 2",
   "language": "python",
   "name": "python2"
  },
  "language_info": {
   "codemirror_mode": {
    "name": "ipython",
    "version": 2
   },
   "file_extension": ".py",
   "mimetype": "text/x-python",
   "name": "python",
   "nbconvert_exporter": "python",
   "pygments_lexer": "ipython2",
   "version": "2.7.6"
  }
 },
 "nbformat": 4,
 "nbformat_minor": 0
}
