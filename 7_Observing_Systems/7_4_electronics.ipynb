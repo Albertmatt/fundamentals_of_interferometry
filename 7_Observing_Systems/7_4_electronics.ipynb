{
 "cells": [
  {
   "cell_type": "markdown",
   "metadata": {},
   "source": [
    "***\n",
    "\n",
    "* [Outline](../0_Introduction/0_introduction.ipynb)\n",
    "* [Glossary](../0_Introduction/1_glossary.ipynb)\n",
    "* [7. Observing Systems](0_introduction.ipynb)  \n",
    "    * Previous: [7.3 Direction-dependent and Independent effects](#)  \n",
    "    * Next: [7.5 The Primary Beam](#)\n",
    "\n",
    "***"
   ]
  },
  {
   "cell_type": "markdown",
   "metadata": {},
   "source": [
    "Import standard modules:"
   ]
  },
  {
   "cell_type": "code",
   "execution_count": 1,
   "metadata": {
    "collapsed": true
   },
   "outputs": [],
   "source": [
    "import numpy as np\n",
    "import matplotlib.pyplot as plt\n",
    "%matplotlib inline"
   ]
  },
  {
   "cell_type": "markdown",
   "metadata": {},
   "source": [
    "***"
   ]
  },
  {
   "cell_type": "markdown",
   "metadata": {},
   "source": [
    "## 7.4 System Electronics: bandpass, gain variation, system noise/sensitivity"
   ]
  },
  {
   "cell_type": "markdown",
   "metadata": {},
   "source": [
    "The system electronics accounts for most of the variation and noise during an observation. And hence, are the most basic component of the RIME which must be properly modelled and, as we will see later, calibrated to recover the original signal. The system electronics encompasses all analogue and digital components which are used to to convert the electromagnetic signal to a conditioned voltage (via amplifiers and filters) and then compute the correlation between antennas (via FFT and multiplication) to produce the digital visibility. This system 'gain', denoted as $G$ in the RIME, has both a time and frequency-dependent effect on the signal."
   ]
  },
  {
   "cell_type": "markdown",
   "metadata": {},
   "source": [
    "### 7.4.1 Analogue Receiver Front-End"
   ]
  },
  {
   "cell_type": "markdown",
   "metadata": {},
   "source": [
    "Electro-magnetic waves are converted to a current via the antenna feed (using a balun or waveguide), from there the signal can be treated as a voltage in an electronic circuit. But, the signal is very weak, and can be treated as approximately Gaussian noise. That noise is what we would like to measure, as that noise is from sources in the sky. But, there are other types of noise, which we don't want, leaking into the measurement. At the earliest possible point in the analogue receiver chain the signal must be amplified using a *low-noise amplifier*. To understand why this amplification is necessary we must start with the *system temperature*.\n",
    "\n",
    "The sky signal, if we consider it to be a voltage in an electrical circuit, is a weak Johnson-Nyquist noise source, also known as a 'cold' source. Johnson-Nyquist noise quantifies the power of a voltage signal in units of Kelvin."
   ]
  },
  {
   "cell_type": "markdown",
   "metadata": {},
   "source": [
    "$$P=k_B T \\Delta \\nu \\label{eq:johnson_noise}$$"
   ]
  },
  {
   "cell_type": "markdown",
   "metadata": {},
   "source": [
    "Where $P$ is the power of the voltage signal, $k_B$ is the Boltzmann constant, $T$ is temperature in Kelvin, and $\\Delta \\nu$ is the bandwidth of the signal in Hertz. Thus, in literature the noise power of a radio telescope is often described in terms of a temperature"
   ]
  },
  {
   "cell_type": "markdown",
   "metadata": {},
   "source": [
    "$$T = \\frac{P}{k_B \\Delta \\nu} \\label{eq:johnson_noise_rearange}$$"
   ]
  },
  {
   "cell_type": "markdown",
   "metadata": {},
   "source": [
    "At L-band (1.4 GHz) the sky temperature is approximately 10 K, 2.73 K of which are from the CMB. The temperature of the sky varies depending on the observing frequency, for example at low frequency, say 100 MHz, the sky is close to 1000 K. The Earth is approximated as a 300 K black body. We can see that if even a small percentage of the ground is picked up in the receiver then the sky signal can be buried underneath, especially at higher frequencies. The design of the early stages of the analogue receiver chain must pay important attention to which components are used, as each one adds to the system temperature. There is additional noise from ground pickup, the atmosphere (depending on observing frequency), the antenna feed, filters, amplifier, and passive electronic components.\n",
    "\n",
    "A low-noise amplifier is used to boost a very weak signal typically by a factor of 1000 (30 dB) or 10000 (40 dB) while introducing minimal noise. An LNA is introduced as earlier as possible into the analogue chain to have the effect of boosting the sky signal, so as it proceeds through the rest of the system, it remains the dominant signal. The system temperature is of the form"
   ]
  },
  {
   "cell_type": "markdown",
   "metadata": {},
   "source": [
    "$$ T_{\\textrm{sys}} = T_{\\textrm{sky}} + T_{\\textrm{atmosphere}} + T_{\\textrm{spillover}} + T_{\\textrm{rx}} + \\ldots \\label{eq:system_temp}$$"
   ]
  },
  {
   "cell_type": "markdown",
   "metadata": {},
   "source": [
    "where $T_{\\textrm{sky}}$ is the noise contribution from the sky which we are most interested in. But, there is additional noise from the atmosphere, ionosphere, ground pick-up of the telescope, and the receiver system which is of the form"
   ]
  },
  {
   "cell_type": "markdown",
   "metadata": {},
   "source": [
    "$$ T_{\\textrm{rx}} = T_{\\textrm{feed}} + \\frac{T_{\\textrm{passive}}}{G_{\\textrm{feed}}} + \\frac{T_{\\textrm{LNA}}}{G_{\\textrm{feed}} G_{\\textrm{passive}}} + \\frac{T_{\\textrm{amp}}}{G_{\\textrm{feed}} G_{\\textrm{passive}} G_{\\textrm{LNA}}} + \\ldots \\label{eq:rx_temp}$$"
   ]
  },
  {
   "cell_type": "markdown",
   "metadata": {},
   "source": [
    "where the $T$ terms are the additional noise temperatures introduced with each component, and $G$ is the 'gain' term which can be less than 1 (attenuation) or greater than 1 (amplification). The gain from the feed and passive components will be less than 1, and are similar to an efficiency term in when discussing the primary beam, these will cause the temperature from these components to increase in the system temperature. By having the LNA as early as possible we see that the weak sky signal is amplified, and noisier components such as filters and second stage amplifiers can be introduced without introducing significant noise compared to the sky signal. The LNA and the front-end analogue components are often cooled using a heat pump or a *cryostat*, a sealed vacuum container which can be cooled down to $\\sim 10$ Kelvin to reduce the system noise. For low-frequency systems the sky is 'hotter' than room temperature, so additional cooling offers minimal improvements in the system temperature."
   ]
  },
  {
   "cell_type": "markdown",
   "metadata": {},
   "source": [
    "### 7.4.2 Sensitivity and the Radiometer Equation"
   ]
  },
  {
   "cell_type": "markdown",
   "metadata": {},
   "source": [
    "Why would we like our system to be as 'cold' as possible? The classic equation to describe the sensitivity of a radio antenna is the ideal *radiometer equation*."
   ]
  },
  {
   "cell_type": "markdown",
   "metadata": {},
   "source": [
    "$$\n",
    "\\sigma_{T} = \\frac{T_{\\textrm{sys}}}{\\sqrt{\\Delta\\nu \\tau}}\n",
    "\\label{eq:rediometer}\n",
    "$$"
   ]
  },
  {
   "cell_type": "markdown",
   "metadata": {},
   "source": [
    "which describes the necessary bandwidth ($\\Delta \\nu$) and integration time ($\\tau$) required to reach a desired noise level ($\\sigma_{T}$) for an ideal system with a given system temperature ($T_{\\textrm{sys}}$) when observing a broadband source. For example, If there are two systems, with the same bandwidth $\\Delta \\nu$, in which one has a system temperature twice that of the other, i.e. $T_{\\textrm{sys,0}} = 2 T_{\\textrm{sys,1}}$, then $T_{\\textrm{sys,0}}$ will take 4 times longer to reach the same sensitivity as $T_{\\textrm{sys,1}}$.\n",
    "\n",
    "The radiometer equation has been presented for an ideal system, but in reality analogue systems are unstable and introduce 'gain fluctuations'. These fluctuations come about due to a number of effects: the physical temperature of the electronics, cross-coupling leakage, RF sheilding among others. The stability of the system during an observation will depend on how well these effects are managed. These gain fluctuations will have both a time and frequency dependence."
   ]
  },
  {
   "cell_type": "markdown",
   "metadata": {},
   "source": [
    "### 7.4.3 The Bandpass"
   ]
  },
  {
   "cell_type": "markdown",
   "metadata": {},
   "source": [
    "The gain fluctuations of the electronics systems can often be seperated into two components. The time-stable frequency dependent component encapsulated in the *bandpass response*. The frequency-dependent structure of the sky is modified by the optics, receiver, analogue components, and the digital signal processing. Generally, a telescope will have a frequency-dependent efficiency which have the effect of decreasing gain as the frequency increases. The feed will be tuned for a specific response, which can even introduce sharp features into the bandpass. Like the feed, the LNA will be tuned for a specific frequency response. Importantly, in *heterodyne systems*, which take advantage of Nyquist aliasing, bandpass filters are used to create sharp cut-offs on the edges of the band. Often it is necessary to introduce notch filters to reduce the effect of *radio frequency interference (RFI)*. Though the relative bandpass response can change with time, it is often slowly varying and can be consdiered stable for the duration of an observation.\n",
    "\n",
    "The second component is a frequency-independent, time-varying gain due to the variation in the electronics and the observation pointing. This is often not modelled as it comes from a collection of random effects, but is accounted from during the calibration process discussed in later chapters."
   ]
  },
  {
   "cell_type": "markdown",
   "metadata": {},
   "source": [
    "RFI is a class of human-made radio signals which take on a number of different forms, but all of which cause a degradation of the recorded sky signal. Many governments allocate the radio spectrum, and use it as a common utility or sell off sections of the spectrum to companies. The use of these spectrum allocations introduce RFI into the environment. Typical RFI sources are FM radio (89-110 MHz) and GSM mobile (around 900 MHz and 1.8 GHz).\n",
    "RFI is characterized as being 'narrow'-band where the RFI is on the scale of a few frequency channels, and 'wide'-band where the RFI dominates most of the observed spectrum. An RFI source will also have a *duty cycle*, which is the time-averaged ratio of time in which that RFI signal is on or detectable to the observing time.\n",
    "If a signal is always detectable then it will have a duty cycle of 1. An RFI signal with a duty cycle of 1 is manageable if that signal is narrow band, and we are not interested in the sky signal at that frequency. The signal can be managed by either introducing a notch filter to attenuate the signal in the analogue path, or digitize the signal and 'flag' the frequency channels as not usable. If an RFI signal is wide band with a duty cycle near or at 1, then little can be done to suppress that signal and pick out the sky signal. But, if the duty cycle of the wide band signal is low then the entire band can be flagged for that short time period with a minimal loss to the sensitivity. A typical wide band signal is aircraft RADAR, which is very strong, but moves quickly through the beam."
   ]
  },
  {
   "cell_type": "markdown",
   "metadata": {},
   "source": [
    "### 7.4.4 Digitization"
   ]
  },
  {
   "cell_type": "markdown",
   "metadata": {},
   "source": [
    "After signal conditioning in the analogue front-end, we are ready to capture the signal into a digital form so that we can perform the correlations. The term digitization is worth thinking about for a moment, it is the process of taking a continuous-in-time, analogue signal (which is described by real numbers), and converting it to a discrete in time and voltage signal (which are 'digits' described by integers). The last analogue component is the *analogue to digital converter (ADC)*. A simple form of analogue to digital conversion is a cascading resistor ladder which measures discrete steps in an analogue signal, each output of the ladder triggers a bit value of either 0 or 1, thus a digital signal is created. A typical radio astronomy ADC might have 8 bits, that is the signal can take on 256 values (-128 to 127). There is a resolution to these steps, which introduces digitization noise to the signal as the continuous signal is truncated to the closest step. You can imagine that more bits will reduce this noise, as there will be more steps and the resolution will be smaller. Or, more bits can be used to increase the dynamic range of the ADC. Say there is a strong RFI source with a weak sky signal, we want to be able to sample the sky signal at the enough resolution, but also we need to fully sample the RFI signal. If the maximum ADC value is smaller than the RFI signal then the RFI will *saturate* the ADC, causing the output of the ADC to sit at the highest or lowest value and no sky signal can be captured. This is another reason why strong RFI is often managed in the analogue chain. The choice of number of bits and step resolution depend on the RFI environment, the amplification of the sky signal, and also the bandwidth of the ADC."
   ]
  },
  {
   "cell_type": "markdown",
   "metadata": {},
   "source": [
    "### 7.4.5 The Digital Back-End"
   ]
  },
  {
   "cell_type": "markdown",
   "metadata": {},
   "source": [
    "A typical digital back-end for a radio astronomy dish is a spectrometer, beamformer, pulsar timing engine, base-band recorder, or a correlator. These instruments do fairly simple operations, but these operations need to be performed very quickly. A *spectrometer* transform a time-domain voltage signal into a frequency-domain spectrum using a *fast Fourier Transform (FFT)*, a power converter, and an accumulator. A *beamformer* adds together multiple antenna signals into one combined signal. The simplest digital instrument is the *base-band recorder* which simply records an ADC output signal to disk, as in the case of many VLBI systems. *Correlator* are the important instrument for interferometry. Two signals are correlated together by use of an FFT, multiplier, and accumulator. We will focus on the correlator in this discussion."
   ]
  },
  {
   "cell_type": "markdown",
   "metadata": {},
   "source": [
    "#### 7.4.5.1 Nyquist Sampling and Aliasing"
   ]
  },
  {
   "cell_type": "markdown",
   "metadata": {},
   "source": [
    "Digitization samples a continuous signal at regular intervals, this introduces a frequency ambiguity due to the $f_s$ sampling rate. With a sampling rate of $f_s$, the maximum frequency which can be resolved (the Nyquist frequency) is $f_s/2$. Frequencies above the Nyquist frequency are said to 'alias'. If we are only sampling at a rate of $f_s$ then any sine wave oscillating at a higher frequency can go through many cycles between sampling points. There exists another sine wave, going through fewer cycles at below the Nyquist frequency which will match in amplitude at the same sampling points. Thus these two sine wave can not be differentiated, in fact there are not just two but an infinite set of such waves due to the periodic nature of the sine wave. Knowing this, if we would like to Nyquist sample a 100 MHz band, then we need an ADC which samples at 200 MHz, with appropriate bandpass filters. This is a difficult topic and there are many books which will provide a thorough explanation of the topic, a good starting point is Richard Lyons' <cite data-cite='Lyons:2004:UDS:993484'>Understanding Digital Signal Processing</cite> [CITE](https://books.google.co.za/books?id=UBU7Y2tpwWUC)."
   ]
  },
  {
   "cell_type": "markdown",
   "metadata": {},
   "source": [
    "#### 7.4.5.2 Correlators"
   ]
  },
  {
   "cell_type": "markdown",
   "metadata": {},
   "source": [
    "The convolution theorem has been discussed in previous chapters but as a reminder, the theorem states that for two signals $f$ and $g$"
   ]
  },
  {
   "cell_type": "markdown",
   "metadata": {},
   "source": [
    "$$\n",
    "\\mathcal{F}\\{ f \\ast g \\} = \\mathcal{F}\\{f\\} \\cdot \\mathcal{F}\\{g\\} \\label{eq:convolution_theorem}\n",
    "$$"
   ]
  },
  {
   "cell_type": "markdown",
   "metadata": {},
   "source": [
    "where $\\mathcal{F}\\{ \\cdot \\}$ is the Fourier transform of the signal and $\\ast$ is the convolution operator. The convolution of two signals $h(z)$ is"
   ]
  },
  {
   "cell_type": "markdown",
   "metadata": {},
   "source": [
    "$$\n",
    "h(z) = f \\ast g = \\int f(x) g(z-x)dx \\label{eq:convolution}\n",
    "$$"
   ]
  },
  {
   "cell_type": "markdown",
   "metadata": {},
   "source": [
    "Correlation and convolution are very similar, the difference lies in the details of using complex signals and using the conjugate of one of the signals. The importance in these equations is that by multiplying the Fourier transform of two signals we get the Fourier transform of the two functions convolved. A convolution is a computationally expensive task, where as two FFTs and a multiplication is fairly simple. By convolving sky signals from two dishes we produce the *interferometer visibility*.\n",
    "\n",
    "In a practical way how are the visibilities computed with a correlator? There are two ways to go about it, the FX and XF architectures, but both ways produce the same result in the end. In the FX architecture a Fourier Transform is applied to a window of samples from two signals, this is the F component. Then the two Fourier transformed signals are multiplied together (one of the signals is conjugated to make this a correlation instead of a convolution), and the resulting signal is then accumulated, this is the X component. As you might guess, the XF architecture does the two operations in a reverse order. There are a few reasons to choose one architectures over the other but, suffice to say the FX is generally favoured for computational reasons. The correlation of all antenna pairs is computationally intensive operation and is commonly implemented on field programmable gate arrays (FPGAs) or graphics processing units (GPUs)."
   ]
  },
  {
   "cell_type": "markdown",
   "metadata": {},
   "source": [
    "#### 7.4.5.3 FFTs and Poly-Phase Filter Banks"
   ]
  },
  {
   "cell_type": "markdown",
   "metadata": {},
   "source": [
    "The bandpass of the analogue system and digitization process select out a range of frequencies to be correlated between antennas. The full band from each antenna can be correlated against another antenna but this would only give information about the entire band. If there is strong narrowband RFI then any correlation will be dominated by that signal, and the sky signal will be lost. Or, if we are only interested in a weak narrow signal, such as a spectral line, that line structure will be hidden in the band correlation. In order to gain access to subsets of the frequency range, known as *subbands* or *channels*, a Fourier Transform must be employed. In this context a Fourier Transform will transform a wideband time-domain signal into a set of frequency-domain signals (for a given 'window' of samples). As we are working on discrete samples, regularly sampled in time we will use the *Discrete Fourier Transform (DFT)* which is defined as"
   ]
  },
  {
   "cell_type": "markdown",
   "metadata": {},
   "source": [
    "$$\n",
    "\\label{eq:fourier}\n",
    "X(k) = \\sum^{N-1}_{n=0} x(n) e^{\\frac{-i 2 \\pi}{N} n k}\n",
    "$$"
   ]
  },
  {
   "cell_type": "markdown",
   "metadata": {},
   "source": [
    "where $N$ is the number of samples in the data window. Using this form the naive computational cost of this transform is $\\mathcal{O}(N^2)$, which can grow to be very computationally expensive for relatively small sizes of $N$. The solution to this computational problem is the *Fast Fourier Transform (FFT)* which is a class of algorithms with use the regularity of the sampling to approach a run time of $\\mathcal{O}(N \\log N)$. The Cooley-Tukey Radix-2 algorithm is the classic example of a FFT algorithm. An important note to make right here, you will often see FFTs of size $2^d$, i.e. 256, 512, 1024, etc., being used, this is because when a size of $2^d$ is used the most efficient FFT can be used. Other FFT sizes, even sizes $<2^d$ will take longer to compute.\n",
    "So, the point I am trying to make is *any time you are doing an FFT try to pick a size which is of the form $2^d$*.\n",
    "\n",
    "Back to our discretely-sampled time-domain signal, depending on how many sampled we choose to include in our window for applying the FFT affects the subband resolution. For $N$ real-valued time-domain signals $N/2$ complex frequency subbands are created. The apparent factor of 2 'loss' in information due to the FFT is because the output of the FFT is complex and the input is real, so there are effectively 2 values per frequency subband. The more samples included in the window, the higher the resolution of subbands output. In the extreme case of an infinite window the DFT approaches the continuous Fourier Transform output. On the other side, a window of 1 sample will produce the same output as input. It is often useful to think of the FFT generating a series of narrow-band time domain signals, this is called a *filterbank* is DSP.\n",
    "\n",
    "I have been using the term windows for blocks of samples which an FFT is applied to. If you take a continuous signal and select out a block of samples then you have altered the signal, you have effectively applied a *top-hat function* (rectangle) to the signal. This might not seem like an issue because none of the samples have been modified, but the continuity of the signal has been altered. When an FFT is applied to the window, from the convolution theorem, we are convolving the Fourier transform of the data with the Fourier transform of a top-hat function. The Fourier transform of the top-hat function is known as a *sinc function* which is defined as $\\textrm{sinc}(x) = \\frac{\\sin x}{x}$. The top-hat function is known as a *windowing function*, and it turns out to be a generally poor one. The primary issue with the top-hat function is that is that there are high 'sidelobes' with a 'slow' roll-off. Many other windowing functions have been developed: Hamming, Hann, Blackman, Gaussian, etc. These windowing functions have a trad off in the subband width, sidelobe levels, sidelobe roll-off, and sharpness. A simple example as to why you would want to apply a windowing function to samples is that if there is strong RFI in one subband, and the windowing function has high sidelobes (like a top-hat function), then power will *leak* from the RFI subband to clean subband, corrupting it.\n",
    "\n",
    "A more advanced form of windowing is often applied before the FFT in what is known as a *finite impulse response* (FIR) filter which uses overlapping windowed samples to have a larger winding function. The FIR together with the FFT is known as a *poly-phase filterbank (PFB)*, all modern digital back-ends use this instead of the simple FFT."
   ]
  },
  {
   "cell_type": "markdown",
   "metadata": {},
   "source": [
    "#### 7.4.5.4 Quantized Correlation"
   ]
  },
  {
   "cell_type": "markdown",
   "metadata": {},
   "source": [
    "After the bandpass signal has been channelized into subbands then the subbands are ready to be multiplied and accumulated. That is, for each antenna pair $A_i, A_j$, subband $k$ from antenna $A_i$ is multiplied with (the complex conjugate of) subband $k$ of Antenna $A_j$. Only subbands with the same frequency are correlated. For an array of $N_{\\textrm{antennas}}$ antenna elements, the number of baseline correlations is"
   ]
  },
  {
   "cell_type": "markdown",
   "metadata": {},
   "source": [
    "$$\n",
    "\\label{eq:baselines}\n",
    "N_{\\textrm{corr}} = N_{\\textrm{auto corr}} + N_{\\textrm{cross corr}} = N_{\\textrm{antennas}} + \\frac{N_{\\textrm{antennas}} (N_{\\textrm{antennas}}-1)}{2}\n",
    "$$"
   ]
  },
  {
   "cell_type": "markdown",
   "metadata": {},
   "source": [
    "where $N_{\\textrm{auto corr}}$ is the number of antenna self-correlations, or \\emph{auto-correlations} and $N_{\\textrm{cross corr}}$ is the number of antenna pair \\emph{cross-correlations}. In most cases when using an interferometric array, the auto-correlations are ignored due to issues of antenna self-noise, but that is a discussion for another time.\n",
    "\n",
    "Before the multiplication and accumulation is performed that is a stage known as quantization. This stage reduces down the number of bits used to represent the signal in each subband, often down to 1, 2, or 4 bits per value. Quantization is performed to save in computational cost, and it turns out to have minimal impact on a a sky signal. For example, quantizing a subband signal down to 4 bits for the real component and 4 bit for the imaginary component, there is a *quantization efficiency* of 0.989. That is, as opposed to an unquantized signal, there is only a 1.1% loss in correlation. Going down to 1 bit (2 levels) the quantization efficiency is 0.637, not too bad for a single bit.\n",
    "\n",
    "After quantization the multiplication are performed, and accumulated to increase the signal to noise and reduce the output data rate. The final visibilities are collected into data cubes with dimensions of time, frequency, and polarization for each baseline.\n",
    "\n",
    "This digital back-end overview has skipped some additional features included in these systems, such as timing keeping, fine and coarse delay correction, equalization, and fringe-stopping. All these features are important in the practical design on an interferometric array, and are worth reading up on."
   ]
  },
  {
   "cell_type": "markdown",
   "metadata": {},
   "source": [
    "***\n",
    "\n",
    "Next: [7.5 The Primary Beam](#)"
   ]
  }
 ],
 "metadata": {
  "kernelspec": {
   "display_name": "Python 2",
   "language": "python",
   "name": "python2"
  },
  "language_info": {
   "codemirror_mode": {
    "name": "ipython",
    "version": 2
   },
   "file_extension": ".py",
   "mimetype": "text/x-python",
   "name": "python",
   "nbconvert_exporter": "python",
   "pygments_lexer": "ipython2",
   "version": "2.7.6"
  }
 },
 "nbformat": 4,
 "nbformat_minor": 0
}
