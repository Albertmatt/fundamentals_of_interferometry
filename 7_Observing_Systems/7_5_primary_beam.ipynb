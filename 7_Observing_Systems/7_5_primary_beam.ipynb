{
 "cells": [
  {
   "cell_type": "markdown",
   "metadata": {},
   "source": [
    "***\n",
    "\n",
    "* [Outline](../0_Introduction/0_introduction.ipynb)\n",
    "* [Glossary](../0_Introduction/1_glossary.ipynb)\n",
    "* [7. Observing Systems](7_0_introduction.ipynb)  \n",
    "    * Previous: [7.4 Electronics: Bandpass, gain variation, system noise/sensitivity](7_4_electronics.ipynb)\n",
    "    * Next: [7.6 Feeds: Polarization and leakage](7_6_polarization.ipynb)\n",
    "    \n",
    "***"
   ]
  },
  {
   "cell_type": "code",
   "execution_count": null,
   "metadata": {
    "collapsed": true
   },
   "outputs": [],
   "source": [
    "import numpy as np\n",
    "import matplotlib.pyplot as plt"
   ]
  },
  {
   "cell_type": "code",
   "execution_count": null,
   "metadata": {
    "collapsed": true
   },
   "outputs": [],
   "source": [
    "from IPython.display import Image"
   ]
  },
  {
   "cell_type": "markdown",
   "metadata": {},
   "source": [
    "**TODO:**\n",
    "\n",
    "* why is it important to understand the primary beam\n",
    "* consider a single dish\n",
    "* optics intution of a primary beam: reflecting a plane wave to a focus using a simple parabolic dish\n",
    "* why is it a plane wave? source is in the far field, define far-field distance, define far/near field\n",
    "* simple aperture of a parabolic dish is a disc -> bessel beam pattern ; fourier relation\n",
    "* voltage beam, power beam ; coordinate system\n",
    "* present the E jones\n",
    "* what is intrinsic and apparent flux\n",
    "* primary lobe, sidelobes, FWHM/resolution, directivity, gain\n",
    "* typical types of dishes: primary focus, cassegrain, offset gregorian (with examples)\n",
    "* adding complexity: aperture blockage, secondary reflector\n",
    "* aperture efficiency: surface accuracy, blockage, taper, spillover\n",
    "* extra: pointing accuracy, jitter, deformation\n",
    "* example: primary beam of kat-7 (beam pattern, freq dependence, spatial slice, freq slice)\n",
    "* example: primary beam of meerkat (beam pattern, freq dependence, spatial slice, freq slice)\n",
    "* the relation of a primary beam of a single dish to the PSF of an interferometric array\n",
    "* example: sky field with and without beam attenuation\n",
    "* how is the primary beam used in calibration and imaging?\n",
    "* merge in mounts section"
   ]
  },
  {
   "cell_type": "markdown",
   "metadata": {},
   "source": [
    "## 7.5 Primary beam <a id='instrum:sec:pb'></a>"
   ]
  },
  {
   "cell_type": "markdown",
   "metadata": {},
   "source": [
    "The *primary beam* of an antenna (also known as the *radiation pattern*) is the directional dependence of the gain of the antenna. \n",
    "\n",
    "The primary beam of the antenna is the most important [direction-dependent propagation effect](7_3_direction_independent_and_dependent_effects.ipynb#instrum:sec:de_dde).\n",
    "\n",
    "\n",
    "It has a multiplicative effect in the image plane, and a convolutional effect in the visibility plane, due to the Fourier Transform relationship between the image and visibility planes."
   ]
  },
  {
   "cell_type": "code",
   "execution_count": null,
   "metadata": {
    "collapsed": false
   },
   "outputs": [],
   "source": [
    "Image(filename='figures/AntennaRadiationDiagram.png', width=400) "
   ]
  },
  {
   "cell_type": "markdown",
   "metadata": {},
   "source": [
    "***Figure 7.5.1***: *Schematic diagram of an antenna radiation pattern (Image taken from https://commons.wikimedia.org/wiki/File:Sidelobes_en.svg).*<a id='instrum:fig:rad_pat'></a>"
   ]
  },
  {
   "cell_type": "markdown",
   "metadata": {},
   "source": [
    "**Example**: Primary beam of the JVLA (Jansky Very Large Array) "
   ]
  },
  {
   "cell_type": "code",
   "execution_count": null,
   "metadata": {
    "collapsed": false
   },
   "outputs": [],
   "source": [
    "Image(filename='figures/PrimaryBeam_1410MHz_labeled.png', width=700) "
   ]
  },
  {
   "cell_type": "markdown",
   "metadata": {},
   "source": [
    "***Figure 7.5.2***: *Primary beam of the JVLA at 1.41 GHz*. <a id='instrum:fig:jvla_pb'></a>"
   ]
  },
  {
   "cell_type": "markdown",
   "metadata": {},
   "source": [
    "For a JVLA antenna, the primary beam gain varies with direction at a given frequency (see Figures [7.5.1](#instrum:fig:jvla_pb) and [7.5.2](#instrum:fig:pb_horiz_xsec)), and with frequency towards a given direction (see Figures [7.5.3](#instrum:fig:pb_freq_gif) and [7.5.4](#instrum:fig:pb_gain_freq); the beam pattern scales with frequency, becoming more compact at higher frequencies). "
   ]
  },
  {
   "cell_type": "code",
   "execution_count": null,
   "metadata": {
    "collapsed": false
   },
   "outputs": [],
   "source": [
    "Image(filename='figures/BGvsRadius.png', width=500) "
   ]
  },
  {
   "cell_type": "markdown",
   "metadata": {},
   "source": [
    "***Figure 7.5.3***: *Gain across a horizontal cross section through the centre of the beam pattern shown in [Figure 7.5.2](#instrum:fig:jvla_pb). The peak at the centre corresponds to the mainlobe, with the first null and the first sidelobe on either side.* <a id='instrum:fig:pb_horiz_xsec'></a>"
   ]
  },
  {
   "cell_type": "code",
   "execution_count": null,
   "metadata": {
    "collapsed": false
   },
   "outputs": [],
   "source": [
    "Image(url=\"figures/beam_freq_variation.gif\",width=400)"
   ]
  },
  {
   "cell_type": "markdown",
   "metadata": {},
   "source": [
    "***Figure 7.5.4***: *Variation of the beam pattern for a JVLA antenna over the frequency range 1.3 $-$ 1.6 GHz. As the frequency increases, the beam pattern becomes more compact.* <a id='instrum:fig:pb_freq_gif'></a> "
   ]
  },
  {
   "cell_type": "code",
   "execution_count": null,
   "metadata": {
    "collapsed": false
   },
   "outputs": [],
   "source": [
    "Image(filename='figures/BGvsFreq.png', width=500) "
   ]
  },
  {
   "cell_type": "markdown",
   "metadata": {},
   "source": [
    "***Figure 7.5.5***: *Variation of the beam gain with frequency at the position of the source marked by a black dot in [Figure 7.5.4](#instrum:fig:pb_freq_gif)*. <a id='instrum:fig:pb_gain_freq'></a>"
   ]
  },
  {
   "cell_type": "markdown",
   "metadata": {},
   "source": [
    "A JVLA antenna, which has an [alt-azimuth mount](7_7_antenna_mounts_and_parallactic_angle.ipynb#instrum:sec:ant_mounts), rotates relative to the sky during the course of an observation."
   ]
  },
  {
   "cell_type": "code",
   "execution_count": null,
   "metadata": {
    "collapsed": false
   },
   "outputs": [],
   "source": [
    "Image(filename='figures/AltAzAntennaRotation.png', width=700) "
   ]
  },
  {
   "cell_type": "markdown",
   "metadata": {},
   "source": [
    "***Figure 7.5.6***: *Relative rotation of the primary beam pattern wrt the sky during the course of an observation. The blue and green sources experience different beam gains at different times, while the beam gain for the red source at the phase centre remains unchanged.* <a id='instrum:fig:pb_rot_sky'></a> "
   ]
  },
  {
   "cell_type": "markdown",
   "metadata": {},
   "source": [
    "The rotation of the primary beam causes the beam gain in a given direction to vary with time."
   ]
  },
  {
   "cell_type": "code",
   "execution_count": null,
   "metadata": {
    "collapsed": false
   },
   "outputs": [],
   "source": [
    "Image(url=\"figures/beam_rotate.gif\",width=400)"
   ]
  },
  {
   "cell_type": "markdown",
   "metadata": {
    "collapsed": true
   },
   "source": [
    "***Figure 7.5.7***: *Rotation of the beam pattern in [Figure 7.5.2](#instrum:fig:jvla_pb) during the course of an observation.* <a id='instrum:fig:pb_rot_gif'></a>"
   ]
  },
  {
   "cell_type": "code",
   "execution_count": null,
   "metadata": {
    "collapsed": false
   },
   "outputs": [],
   "source": [
    "Image(filename='figures/BGvsHA.png', width=500) "
   ]
  },
  {
   "cell_type": "markdown",
   "metadata": {},
   "source": [
    "***Figure 7.5.8***: *Variation of the beam gain as a function of the hour angle at the position of the source marked by a black dot in [Figure 7.5.7](#instrum:fig:pb_rot_gif)*. <a id='instrum:fig:pb_gain_rot'></a>"
   ]
  },
  {
   "cell_type": "markdown",
   "metadata": {},
   "source": [
    "***\n",
    "* Next: [7.6 Feeds: Polarization and leakage](7_6_polarization.ipynb)"
   ]
  }
 ],
 "metadata": {
  "kernelspec": {
   "display_name": "Python 2",
   "language": "python",
   "name": "python2"
  },
  "language_info": {
   "codemirror_mode": {
    "name": "ipython",
    "version": 2
   },
   "file_extension": ".py",
   "mimetype": "text/x-python",
   "name": "python",
   "nbconvert_exporter": "python",
   "pygments_lexer": "ipython2",
   "version": "2.7.6"
  }
 },
 "nbformat": 4,
 "nbformat_minor": 0
}
