{
 "cells": [
  {
   "cell_type": "markdown",
   "metadata": {},
   "source": [
    "***\n",
    "\n",
    "* [Outline](../0_Introduction/0_introduction.ipynb)\n",
    "* [Glossary](../0_Introduction/1_glossary.ipynb)\n",
    "* [7. Observing Systems](7_0_introduction.ipynb)  \n",
    "    * Previous: [7.2 The radio interferometry measurement equation (RIME)](7_2_rime.ipynb)\n",
    "    * Next: [7.4 Electronics: bandpass, gain variation, system noise/sensitivity](7_4_electronics.ipynb)\n",
    "        \n",
    "***"
   ]
  },
  {
   "cell_type": "code",
   "execution_count": null,
   "metadata": {
    "collapsed": false
   },
   "outputs": [],
   "source": [
    "import numpy as np\n",
    "import matplotlib.pyplot as plt"
   ]
  },
  {
   "cell_type": "code",
   "execution_count": null,
   "metadata": {
    "collapsed": false
   },
   "outputs": [],
   "source": [
    "from IPython.display import Image"
   ]
  },
  {
   "cell_type": "markdown",
   "metadata": {},
   "source": [
    "## 7.3 Direction-independent and direction-dependent effects <a id='instrum:sec:de_dde'></a>"
   ]
  },
  {
   "cell_type": "markdown",
   "metadata": {},
   "source": [
    "<span style=\"background-color:cyan\">GSF:this section is just a rehash of 7.2, lets fold in 7.3 into 7.2, using the figures and the example jones chain below to illustrate DDEs and DIEs. Is there a source for the image files?</span>\n",
    "\n",
    "Propagation effects can be of two kinds:\n",
    "1. Direction-independent effects\n",
    "1. Direction-dependent effects\n"
   ]
  },
  {
   "cell_type": "markdown",
   "metadata": {},
   "source": [
    "*Direction-independent effects* are propagation effects that are the same in all directions:"
   ]
  },
  {
   "cell_type": "code",
   "execution_count": null,
   "metadata": {
    "collapsed": false
   },
   "outputs": [],
   "source": [
    "Image(filename='figures/DirectionIndependentEffects.png', width=700) "
   ]
  },
  {
   "cell_type": "markdown",
   "metadata": {},
   "source": [
    "***Figure 7.3.1***: *Direction-independent effect* $\\mathbf{G}$: *Same in directions of source 1 and source 2.* <a id='instrum:fig:de'></a>"
   ]
  },
  {
   "cell_type": "markdown",
   "metadata": {},
   "source": [
    "*Direction-dependent effects* are the different in different directions:"
   ]
  },
  {
   "cell_type": "code",
   "execution_count": null,
   "metadata": {
    "collapsed": false
   },
   "outputs": [],
   "source": [
    "Image(filename='figures/DirectionDependentEffects.png', width=700) "
   ]
  },
  {
   "cell_type": "markdown",
   "metadata": {},
   "source": [
    "***Figure 7.3.2***: *Direction-dependent effect* $\\mathbf{E}$: *Different in directions of source 1 and source 2.* <a id='instrum:fig:dde'></a>"
   ]
  },
  {
   "cell_type": "markdown",
   "metadata": {},
   "source": [
    "The final Jones matrix ($J$) for the system can be written as a product of the Jones matrices corresponding to the direction-independent effects ($G$) and direction-dependent effects ($E$):"
   ]
  },
  {
   "cell_type": "markdown",
   "metadata": {},
   "source": [
    "<a id='instrum:eq:jge'></a>\n",
    "$$\\mathbf{J} = \\mathbf{G}\\mathbf{E}$$"
   ]
  },
  {
   "cell_type": "markdown",
   "metadata": {},
   "source": [
    "Direction-independent effects correspond to visibility plane effects; direction-dependent effects correspont to image place effects."
   ]
  },
  {
   "cell_type": "markdown",
   "metadata": {
    "collapsed": true
   },
   "source": [
    "The [RIME](7_2_rime.ipynb#instrum:sec:rime:point_source), given by"
   ]
  },
  {
   "cell_type": "markdown",
   "metadata": {},
   "source": [
    "$$\n",
    "\\mathbf{V}_{pq} = \\mathbf{J}_{p} \\mathbf{B} \\mathbf{J}_{q}^H,\n",
    "$$\n"
   ]
  },
  {
   "cell_type": "markdown",
   "metadata": {},
   "source": [
    "can be written as"
   ]
  },
  {
   "cell_type": "markdown",
   "metadata": {},
   "source": [
    "\n",
    "$$\n",
    "\\mathbf{V}_{pq} = \\mathbf{G}_{p} ( \\mathbf{E}_{p} \\mathbf{B} \\mathbf{E}_{q}^H ) \\mathbf{G}_{q}^H.\n",
    "$$\n"
   ]
  },
  {
   "cell_type": "markdown",
   "metadata": {},
   "source": [
    "An example of a [Jones chain](7_1_jones_notation.ipynb#instrum:sec:jones:chains) is"
   ]
  },
  {
   "cell_type": "markdown",
   "metadata": {},
   "source": [
    "$$\n",
    "\\mathbf{J} = \\mathbf{BG_\\mathrm{instr}DE_\\mathrm{PB}PT}\n",
    "$$"
   ]
  },
  {
   "cell_type": "markdown",
   "metadata": {},
   "source": [
    "where\n",
    "\n",
    "$\\mathbf{B}$ is the Jones matrix corresponding to the bandpass gain, a direction-idependent effect,\n",
    "\n",
    "$\\mathbf{G}_\\mathrm{instr}$ is the Jones matrix corresponding to the receiver/instrumental gain, a direction-independent effect,\n",
    "\n",
    "$\\mathbf{D}$ is the Jones matrix corrsponding to polarization leakage, a direction-independent effect,\n",
    "\n",
    "$\\mathbf{E}_\\mathrm{PB}$ is the Jones matrix corresponding to the antenna primary beam, a direction-dependent effect,\n",
    "\n",
    "$\\mathbf{P}$ is the Jones matrix corresponding to parallactic angle rotation, a direction-independent effect,\n",
    "\n",
    "$\\mathbf{T}$ is the Jones matrix corresponding to ionospheric and tropospheric effects, which are direction-dependent effects."
   ]
  },
  {
   "cell_type": "markdown",
   "metadata": {},
   "source": [
    "The Jones chain can be written as:"
   ]
  },
  {
   "cell_type": "markdown",
   "metadata": {},
   "source": [
    "$$\n",
    "\\mathbf{J} = (\\mathbf{BG}_\\mathrm{instr}\\mathbf{D})(\\mathbf{E}_\\mathrm{PB}\\mathbf{PT})\n",
    "$$"
   ]
  },
  {
   "cell_type": "markdown",
   "metadata": {},
   "source": [
    "or"
   ]
  },
  {
   "cell_type": "markdown",
   "metadata": {},
   "source": [
    "$$\\mathbf{J} = \\mathbf{G}\\mathbf{E}$$\n",
    "\n",
    "where\n",
    "\n",
    "$$\\mathbf{G} = \\mathbf{BG}_\\mathrm{instr}\\mathbf{D}$$ is a direction-independent Jones matrix, and \n",
    "\n",
    "$$\\mathbf{E} = \\mathbf{E}_\\mathrm{PB}\\mathbf{PT}$$ is a direction-dependent Jones matrix.\n",
    "\n",
    "Thus, a Jones chain representing a sequence of propagation effects from the source to the observer can be represented as the product of a direction-independent Jones matrix and and direction-dependent Jones matrix."
   ]
  },
  {
   "cell_type": "markdown",
   "metadata": {},
   "source": [
    "***\n",
    "* Next: [7.4 Electronics: Bandpass, gain variation, system noise/sensitivity](7_4_electronics.ipynb)"
   ]
  }
 ],
 "metadata": {
  "kernelspec": {
   "display_name": "Python 2",
   "language": "python",
   "name": "python2"
  },
  "language_info": {
   "codemirror_mode": {
    "name": "ipython",
    "version": 2
   },
   "file_extension": ".py",
   "mimetype": "text/x-python",
   "name": "python",
   "nbconvert_exporter": "python",
   "pygments_lexer": "ipython2",
   "version": "2.7.6"
  }
 },
 "nbformat": 4,
 "nbformat_minor": 0
}
