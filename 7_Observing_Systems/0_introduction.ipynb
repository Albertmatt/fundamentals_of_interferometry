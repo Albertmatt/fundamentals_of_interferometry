{
 "cells": [
  {
   "cell_type": "markdown",
   "metadata": {},
   "source": [
    "***\n",
    "\n",
    "* [Outline](../0_Introduction/0_introduction.ipynb)\n",
    "* [Glossary](../0_Introduction/1_glossary.ipynb)\n",
    "* [7. Observing Systems](#)  \n",
    "    * Next: [7.1 Jones Notation](#)\n",
    "\n",
    "***"
   ]
  },
  {
   "cell_type": "markdown",
   "metadata": {},
   "source": [
    "# Chapter 7: Observing Systems<a id='instrum:sec:intro'></a>"
   ]
  },
  {
   "cell_type": "markdown",
   "metadata": {},
   "source": [
    "When thinking about engineering and the development of an instrument from a practical point of view the key concept to get across is that *any measurement is a loss in information and is noisy*. In the case of astronomy, there is the potential to measure infinite frequency bandwidth, frequency resolution, time bandwidth, and time resolution across a $4\\pi$ area of the sky. In reality, the instruments that we can build have limits on all these parameters, so we must be selective about which information we retain based on the scientific goals and engineering limitations."
   ]
  },
  {
   "cell_type": "markdown",
   "metadata": {},
   "source": [
    "#### Chapter Outline"
   ]
  },
  {
   "cell_type": "markdown",
   "metadata": {},
   "source": [
    "#### Chapter Editors\n",
    "\n",
    "#### Chapter Contributors\n",
    "\n",
    "* Griffin Foster"
   ]
  },
  {
   "cell_type": "markdown",
   "metadata": {},
   "source": [
    "***\n",
    "\n",
    "Next: [7.1 Jones Notation](#)"
   ]
  }
 ],
 "metadata": {
  "kernelspec": {
   "display_name": "Python 2",
   "language": "python",
   "name": "python2"
  },
  "language_info": {
   "codemirror_mode": {
    "name": "ipython",
    "version": 2
   },
   "file_extension": ".py",
   "mimetype": "text/x-python",
   "name": "python",
   "nbconvert_exporter": "python",
   "pygments_lexer": "ipython2",
   "version": "2.7.6"
  }
 },
 "nbformat": 4,
 "nbformat_minor": 0
}
