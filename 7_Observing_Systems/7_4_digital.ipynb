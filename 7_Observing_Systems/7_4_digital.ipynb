{
 "cells": [
  {
   "cell_type": "markdown",
   "metadata": {},
   "source": [
    "***\n",
    "\n",
    "* [Outline](../0_Introduction/0_introduction.ipynb)\n",
    "* [Glossary](../0_Introduction/1_glossary.ipynb)\n",
    "* [7. Observing Systems](0_introduction.ipynb)  \n",
    "    * Previous: [7.3 Analogue Electronics](7_3_analogue.ipynb)\n",
    "    * Next: [7.5 The Primary Beam](7_5_primary_beam.ipynb)\n",
    "\n",
    "***"
   ]
  },
  {
   "cell_type": "markdown",
   "metadata": {},
   "source": [
    "Import standard modules:"
   ]
  },
  {
   "cell_type": "code",
   "execution_count": null,
   "metadata": {
    "collapsed": true
   },
   "outputs": [],
   "source": [
    "import numpy as np\n",
    "import matplotlib.pyplot as plt\n",
    "%matplotlib inline\n",
    "from IPython.display import HTML \n",
    "HTML('../style/course.css') #apply general CSS"
   ]
  },
  {
   "cell_type": "code",
   "execution_count": null,
   "metadata": {
    "collapsed": true
   },
   "outputs": [],
   "source": [
    "HTML('../style/code_toggle.html')"
   ]
  },
  {
   "cell_type": "markdown",
   "metadata": {},
   "source": [
    "***"
   ]
  },
  {
   "cell_type": "markdown",
   "metadata": {},
   "source": [
    "## 7.4 Digital Correlators"
   ]
  },
  {
   "cell_type": "markdown",
   "metadata": {},
   "source": [
    "In the previous section we ended discussing the ADC, the analogue component which converts a continuous, analogue signal into a discrete, digitial representation. Once the voltage signal is converted to digitial we can simply record that signal to computer memory, and perform which ever computational operations we desire in software. In the case of interferometric obsevrations this means computing the correlation between all antenna pairs to produce baseline correlations. Most interferometric arrays produce significant amounts of data, and correlation is a deterimistic algorithm. So, instead of recording the digitial signals and then performing the correlations it is common to build correlators using *digital signal processing* (DSP) modules on custom hardware such as *field programmable gate arrays* (FPGAs), *application specific integrated circuits* (ASICs), and *graphical processing units* (GPUs). Using custom hardware for correlation provides a specialized and efficient (in power usage) system at the cost of limited flexiblity. For arrays with a small number of elements, or for maximum flexibility software-based correlators are used. Choice of digital architecture depends on the engineering costs and timescale for an array or facility, but at the core ofany correlator system are the same basic DSP operations.\n",
    "\n",
    "We should note here that there are other types of digital instruments used in radio astronomy - spectrometers for computing the auto-correlation of a single element, beamformers for adding together elements into a single telescope, VLBI recorders which record the raw voltage signal to be correlated later at a central location. As we are focusing on aperture synthesis with an interferometric array we will focus on correlators."
   ]
  },
  {
   "cell_type": "markdown",
   "metadata": {},
   "source": [
    "### 7.4.1 The FX Correlator: Application of the van Cittert-Zernike Theorem"
   ]
  },
  {
   "cell_type": "markdown",
   "metadata": {},
   "source": [
    "A correlator is used to compute the correlations of all antenna pairs in an interferometric array. In [Chapter 4 &#10142;](../4_Visibility_Space/4_0_introduction.ipynb) we showed the visibility function is equivalent to the mutual coherence of two spatialy separated receivers using the van Cittert-Zernike Theorem:\n",
    "\n",
    "$$\n",
    "\\Gamma_{pq}(u,v,\\tau=0) = \\int_{-\\infty}^{\\infty}\\int_{-\\infty}^{\\infty} { I_\\nu(l,m) e^{-2\\imath\\pi(u_{12}l+v_{12}m)}} dl dm =V_{pq}(u,v,0)\n",
    "$$\n",
    "\n",
    "where the mutual coherence function $\\Gamma_{pq}$ is \n",
    "\n",
    "$$\n",
    "\\Gamma_\\text{pq}(u,v,\\tau)= \\lim_{T \\rightarrow \\infty} \\frac{1}{2T} \\int_{-T}^{T} E_p(t)E_{q}^{*}(t-\\tau) dt\n",
    "$$\n",
    "\n",
    "This function is equivalent to the correlation between two signals ([$\\S$ 2.6.1 &#10142;](../2_Mathematical_Groundwork/2_6_cross_correlation_and_auto_correlation.ipynb)). Using the Convolution Theorem ([$\\S$ 2.7.4, $\\S$ 2.7.8 &#10142;](../2_Mathematical_Groundwork/2_7_fourier_theorems.ipynb)) the visibility function is then computed as\n",
    "\n",
    "$$\n",
    "V_{pq}(u,v,0) = \\left( \\mathscr{F} \\left\\{ {E_p} \\right\\} \\right)^* \\cdot \\mathscr{F} \\left\\{ E_q \\right\\}\n",
    "$$\n",
    "\n",
    "Thus, in order to compute the visibility for a baseline, the antenna signals are Fourier transformed, the complex conjugate is taken of one of the antenna signals, and multiplied against the other antenna signal. A note, the choice of complex conjugation does not make as long as there is a consistancy when recording the visibilities as $V_{pq} = V_{qp}^*$, or equivalently $V_{pq}(u,v) = V_{qp}(-u, -v)$. This operation is known as an 'FX' correlation as the signals are first Fourier transformed (F) and then complex multiplied together (X). After the multiplication  resulting signal averaged over some integration time length as the correlation is a statistical operation. This accumulation improves the signal to noise and reduces the overall data rate of the instrument. The terms *integration time* and *accumulation length* are often used interchangibly to describe this time scale. There are limits to the maximum integration time set by an image domain effect called *smearing* or *decorrelation*, this is discussed in ([$\\S$ 2.6.1 &#10142;](../5_Imaging/5_5_widefield_effect.ipynb)). Very short integration times (< 1 second) are used is particular science case such as fast transient events or pulsar imaging where the time scale of the physical process is very short. The general architecture of the FX correlator is shown in Figure 7.4.1."
   ]
  },
  {
   "cell_type": "markdown",
   "metadata": {},
   "source": [
    "<img src='figures/fx_diagram-crop.svg' width=90%>"
   ]
  },
  {
   "cell_type": "markdown",
   "metadata": {},
   "source": [
    "**Figure 7.4.1:** *FX Correlator architecture. The digitized signal from each antenna element is Fourier transformed with a poly-phase filterbank (PFB) consisting of a finite impulse response (FIR) filter and a fast Fourier transform (FFT). Each pair of signals is then complex multiplied together in the correlation tringale using a complex multiply and accumulate (CMAC) to produce a correlation matrix.*"
   ]
  },
  {
   "cell_type": "markdown",
   "metadata": {},
   "source": [
    "There are two types of correlations computed with a correlator:\n",
    "\n",
    "* *cross-correlation*: a correlation between antennas $p$ and $q$ such that $p \\neq q$ which results in a sampling of the *uv*-plane not at the origin.\n",
    "* *auto-correlation*: a correlation of an antenna with itself, this is equivalent to a spectrometer measurement. This is known as a 'zero baseline' sampling as it is a sample of the origin of the $uv$-plane. Typically in interferometry, the auto-correlations are ignored. In Figure 7.4.1 these are represented by the squares on the far right of the correlation matrix.\n",
    "\n",
    "For an interferometric array we are interested in sampling the $uv$-plane to do aperture synthesis, this means we are interested in the cross-correlations. The auto-correlations all measure the origin of the $uv$-plane. This is a special point in the plane as it is the average flux of the sky. From a signal processing point of view this is the 'DC bias or offest' point, and is the first coefficient of the Fourier Transform.\n",
    "\n",
    "We are interested in measuring the visibility function at the origin as it provides an absolute flux scale to the synthesized image. But, this turns out to be fairly difficult. When we compute a cross-correlation between antenna pairs we have the advantage of much of the system noise disappearing because one antenna will be generating noise which is incoherent with the other antenna. But, when computing the auto-correlation the noise is being correlated with itself and remains in the correlation. In order to measure the visibility function at the origin special antennas need to be built which mitigate the system noise with additional electronics or combine interferometric observations with single-dish observations.\n",
    "\n",
    "For an $N_{\\textrm{antennas}}$ element interferometric array the number of correlations is:\n",
    "\n",
    "$$\n",
    "N_{\\textrm{corr}} = N_{\\textrm{auto corr}} + N_{\\textrm{cross corr}} = N_{\\textrm{antennas}} + \\frac{N_{\\textrm{antennas}} (N_{\\textrm{antennas}}-1)}{2}\n",
    "\\sim N_{\\textrm{antennas}}^2\n",
    "$$ \n",
    "\n",
    "As $N_{\\textrm{antennas}}$ increases the number of auto-correlations increases linearly which the number of cross-correlations growths quadratically. For $N_{\\textrm{antennas}}$ on the order of 10 or more the number of cross-correlations quickly dominates the number of computations compared to auto-correlations. The auto-correlations are usually computed as a diagnostic of the individual telescopes, or used in special science cases such as power spectrum measurements. "
   ]
  },
  {
   "cell_type": "markdown",
   "metadata": {},
   "source": [
    "#### 7.4.1.1 'XF' or Lag Correlator"
   ]
  },
  {
   "cell_type": "markdown",
   "metadata": {},
   "source": [
    "As a historical note the first correlator designs were called 'lag correlators'. These correlators pre-date the era of fast Fourier transform implementations of computing hardware, and for a time when an array consisted of only a few antennas and the observational bandwidth was fractionally small. This correlation was done by adding a series of time delays (lags) to one antenna, multiplying the signal from each lag with the signal from a reference antenna. Each correlated lag signal was then integrated for a length of time and recorded. Later, the recorded correlations at different lags were Fourier transformed to produce the visibility. With the development of FX correlators the lag correlator was renamed the XF correlator as the multiplication (X) we performed before the Fourier tranform (F), the general architecture is shown in Figure 7.4.2. These type of correlators are rarely used today, except in special cases. For modern interferometric arrays when correlation is mentioned it is almost always done via FX correlation. For the remainder of this section we will only discuss FX correlators, for details on lag correlators see [<cite data-cite='1999ASPC..180.....T'>Chapter 4 of Synthesis Imaging in Radio Astronomy II</cite> &#10548;](http://adsabs.harvard.edu/abs/1999ASPC..180.....T)."
   ]
  },
  {
   "cell_type": "markdown",
   "metadata": {},
   "source": [
    "<img src='figures/xf_diagram-crop.svg' width=90%>"
   ]
  },
  {
   "cell_type": "markdown",
   "metadata": {},
   "source": [
    "**Figure 7.4.2:** *XF Correlator architecture. M time delays (lags) are applied to the signal from each antenna element. The lagged signals for each pair of antenna elements are then multiplied together with an M-tap lag multiply and accumulator (MAC). These signals are recorded to memory, later the lag-multiplied signals are Fourier transformed to produce the elements of the correlation matrix.*"
   ]
  },
  {
   "cell_type": "markdown",
   "metadata": {},
   "source": [
    "Thougth the FX and XF architectures are different they produce equivalent results, Figure 7.4.3, as they are both applications of the Convolution Theorem."
   ]
  },
  {
   "cell_type": "markdown",
   "metadata": {},
   "source": [
    "<img src='figures/fx_xf_equiv-crop.svg' width=60%>"
   ]
  },
  {
   "cell_type": "markdown",
   "metadata": {},
   "source": [
    "**Figure 7.4.3:** *FX-XF Correlator architecture equivalence. Both designs can be used to produce the equivalent visibilities, as both are an application of the Convolution Theorem. But, FX correlators are often the most computationally efficient. Adapted from [<cite data-cite='1999ASPC..180.....T'>Synthesis Imaging in Radio Astronomy II, Chapter 4</cite> &#10548;](http://adsabs.harvard.edu/abs/1999ASPC..180.....T)*."
   ]
  },
  {
   "cell_type": "markdown",
   "metadata": {},
   "source": [
    "### 7.4.2 Digital Implementation of an FX Correlator"
   ]
  },
  {
   "cell_type": "markdown",
   "metadata": {},
   "source": [
    "The exact implementation of an FX Correlator depends on the instrument requirements and hardware architecture but there are a typical set of components which are included in the design."
   ]
  },
  {
   "cell_type": "markdown",
   "metadata": {},
   "source": [
    "* digital FX correlator block diagram (ADCs->F-Engines->Cornerturn->X-Engine->Measurment Set)\n",
    "* F-engine block diagram: ADC, coarse delay, pfb, fine delay, gain, quantization\n",
    "* corner turn diagram: matrix, write column, read rows\n",
    "* X-engine diagram: 7 element example\n",
    "* discrete sampling -> time resolution/limited bandwidth\n",
    "* correlator components:\n",
    "    * component: coarse delay: time resolution set by sampling, 1 ns approx 1 foot\n",
    "    * component: FFT, FIR, PFB: FIR window functions (relate to imagaing chapter), FFT response with and without FIR (regular/box, hamming, hann, gauss), taps ; relation between spectral resolution and spectra time resolution\n",
    "    * component: fine delay: phase correction to delay at subsample resolution, wave number relation\n",
    "    * component: fringe-stopping: use fine and coarse delays to track a source\n",
    "    * component: gain correction, quantization: quantization efficiency, similar to adc in previous section\n",
    "    * component: cornerturn: move from large bandwidth/short time, to small bandwidth/long time blocks of samples\n",
    "    * component: correlation, Vacc"
   ]
  },
  {
   "cell_type": "markdown",
   "metadata": {},
   "source": [
    "### 7.4.3 Resulting Data Product (The Measurement Set)"
   ]
  },
  {
   "cell_type": "markdown",
   "metadata": {},
   "source": [
    "* resulting output: correlation matrix, measurement set with metadata (uvw, time, observation information, frequency, flags)\n",
    "* assign each visibility in the correlation matrix a (uvw) position, flag\n",
    "* reference MS papers"
   ]
  },
  {
   "cell_type": "markdown",
   "metadata": {},
   "source": [
    "***"
   ]
  },
  {
   "cell_type": "markdown",
   "metadata": {},
   "source": [
    "### 7.4.3 FFTs and Poly-Phase Filter Banks"
   ]
  },
  {
   "cell_type": "markdown",
   "metadata": {},
   "source": [
    "The bandpass of the analogue system and digitization process select out a range of frequencies to be correlated between antennas. The full band from each antenna can be correlated against another antenna but this would only give information about the entire band. If there is strong narrowband RFI then any correlation will be dominated by that signal, and the sky signal will be lost. Or, if we are only interested in a weak narrow signal, such as a spectral line, that line structure will be hidden in the band correlation. In order to gain access to subsets of the frequency range, known as *subbands* or *channels*, a Fourier Transform must be employed. In this context a Fourier Transform will transform a wideband time-domain signal into a set of frequency-domain signals (for a given 'window' of samples). As we are working on discrete samples, regularly sampled in time we will use the *Discrete Fourier Transform (DFT)* which is defined as"
   ]
  },
  {
   "cell_type": "markdown",
   "metadata": {},
   "source": [
    "$$\n",
    "\\label{eq:fourier}\n",
    "X(k) = \\sum^{N-1}_{n=0} x(n) e^{\\frac{-i 2 \\pi}{N} n k}\n",
    "$$"
   ]
  },
  {
   "cell_type": "markdown",
   "metadata": {},
   "source": [
    "where $N$ is the number of samples in the data window. Using this form the naive computational cost of this transform is $\\mathcal{O}(N^2)$, which can grow to be very computationally expensive for relatively small sizes of $N$. The solution to this computational problem is the *Fast Fourier Transform (FFT)* which is a class of algorithms with use the regularity of the sampling to approach a run time of $\\mathcal{O}(N \\log N)$. The Cooley-Tukey Radix-2 algorithm is the classic example of a FFT algorithm. An important note to make right here, you will often see FFTs of size $2^d$, i.e. 256, 512, 1024, etc., being used, this is because when a size of $2^d$ is used the most efficient FFT can be used. Other FFT sizes, even sizes $<2^d$ will take longer to compute.\n",
    "So, the point I am trying to make is *any time you are doing an FFT try to pick a size which is of the form $2^d$*.\n",
    "\n",
    "Back to our discretely-sampled time-domain signal, depending on how many sampled we choose to include in our window for applying the FFT affects the subband resolution. For $N$ real-valued time-domain signals $N/2$ complex frequency subbands are created. The apparent factor of 2 'loss' in information due to the FFT is because the output of the FFT is complex and the input is real, so there are effectively 2 values per frequency subband. The more samples included in the window, the higher the resolution of subbands output. In the extreme case of an infinite window the DFT approaches the continuous Fourier Transform output. On the other side, a window of 1 sample will produce the same output as input. It is often useful to think of the FFT generating a series of narrow-band time domain signals, this is called a *filterbank* is DSP.\n",
    "\n",
    "I have been using the term windows for blocks of samples which an FFT is applied to. If you take a continuous signal and select out a block of samples then you have altered the signal, you have effectively applied a *top-hat function* (rectangle) to the signal. This might not seem like an issue because none of the samples have been modified, but the continuity of the signal has been altered. When an FFT is applied to the window, from the convolution theorem, we are convolving the Fourier transform of the data with the Fourier transform of a top-hat function. The Fourier transform of the top-hat function is known as a *sinc function* which is defined as $\\textrm{sinc}(x) = \\frac{\\sin x}{x}$. The top-hat function is known as a *windowing function*, and it turns out to be a generally poor one. The primary issue with the top-hat function is that is that there are high 'sidelobes' with a 'slow' roll-off. Many other windowing functions have been developed: Hamming, Hann, Blackman, Gaussian, etc. These windowing functions have a trad off in the subband width, sidelobe levels, sidelobe roll-off, and sharpness. A simple example as to why you would want to apply a windowing function to samples is that if there is strong RFI in one subband, and the windowing function has high sidelobes (like a top-hat function), then power will *leak* from the RFI subband to clean subband, corrupting it.\n",
    "\n",
    "A more advanced form of windowing is often applied before the FFT in what is known as a *finite impulse response* (FIR) filter which uses overlapping windowed samples to have a larger winding function. The FIR together with the FFT is known as a *poly-phase filterbank (PFB)*, all modern digital back-ends use this instead of the simple FFT."
   ]
  },
  {
   "cell_type": "markdown",
   "metadata": {},
   "source": [
    "***\n",
    "\n",
    "Next: [7.5 The Primary Beam](7_5_primary_beam.ipynb)"
   ]
  },
  {
   "cell_type": "markdown",
   "metadata": {},
   "source": [
    "<div class=warn><b>Future Additions:</b></div>\n",
    "\n",
    "* discuss smearing/decorrelation, goes in imaging (5.5?)\n",
    "* expand correlator history (7.4.1.1)\n",
    "* rename section: Digital Correlators\n",
    "* show the process of correlation two signals to produce a fringe: two voltage signals of a wideband signal (noise and delayed), fourier transform to produce spectrum, multiply to produce fringe"
   ]
  }
 ],
 "metadata": {
  "kernelspec": {
   "display_name": "Python 2",
   "language": "python",
   "name": "python2"
  },
  "language_info": {
   "codemirror_mode": {
    "name": "ipython",
    "version": 2
   },
   "file_extension": ".py",
   "mimetype": "text/x-python",
   "name": "python",
   "nbconvert_exporter": "python",
   "pygments_lexer": "ipython2",
   "version": "2.7.6"
  }
 },
 "nbformat": 4,
 "nbformat_minor": 0
}
